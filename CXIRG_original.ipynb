{
    "cells": [
        {
            "cell_type": "markdown",
            "metadata": {},
            "source": [
                "# Chest X-ray Image Report Generation (CXIRG) Original"
            ]
        },
        {
            "cell_type": "markdown",
            "metadata": {},
            "source": [
                "## Install Required Modules"
            ]
        },
        {
            "cell_type": "code",
            "execution_count": 1,
            "metadata": {},
            "outputs": [
                {
                    "name": "stdout",
                    "output_type": "stream",
                    "text": [
                        "Requirement already satisfied: openpyxl in c:\\users\\kartg\\anaconda3\\envs\\myenv\\lib\\site-packages (3.1.4)\n",
                        "Requirement already satisfied: et-xmlfile in c:\\users\\kartg\\anaconda3\\envs\\myenv\\lib\\site-packages (from openpyxl) (1.1.0)\n",
                        "Requirement already satisfied: pandas in c:\\users\\kartg\\anaconda3\\envs\\myenv\\lib\\site-packages (2.0.3)\n",
                        "Requirement already satisfied: python-dateutil>=2.8.2 in c:\\users\\kartg\\anaconda3\\envs\\myenv\\lib\\site-packages (from pandas) (2.9.0)\n",
                        "Requirement already satisfied: pytz>=2020.1 in c:\\users\\kartg\\anaconda3\\envs\\myenv\\lib\\site-packages (from pandas) (2024.1)\n",
                        "Requirement already satisfied: tzdata>=2022.1 in c:\\users\\kartg\\anaconda3\\envs\\myenv\\lib\\site-packages (from pandas) (2023.3)\n",
                        "Requirement already satisfied: numpy>=1.20.3 in c:\\users\\kartg\\anaconda3\\envs\\myenv\\lib\\site-packages (from pandas) (1.24.3)\n",
                        "Requirement already satisfied: six>=1.5 in c:\\users\\kartg\\anaconda3\\envs\\myenv\\lib\\site-packages (from python-dateutil>=2.8.2->pandas) (1.16.0)\n",
                        "Requirement already satisfied: pillow in c:\\users\\kartg\\anaconda3\\envs\\myenv\\lib\\site-packages (10.3.0)\n",
                        "Requirement already satisfied: pytorch-ignite in c:\\users\\kartg\\anaconda3\\envs\\myenv\\lib\\site-packages (0.5.0.post2)\n",
                        "Requirement already satisfied: torch<3,>=1.3 in c:\\users\\kartg\\anaconda3\\envs\\myenv\\lib\\site-packages (from pytorch-ignite) (2.3.1+cu118)\n",
                        "Requirement already satisfied: packaging in c:\\users\\kartg\\anaconda3\\envs\\myenv\\lib\\site-packages (from pytorch-ignite) (24.1)\n",
                        "Requirement already satisfied: filelock in c:\\users\\kartg\\anaconda3\\envs\\myenv\\lib\\site-packages (from torch<3,>=1.3->pytorch-ignite) (3.13.1)\n",
                        "Requirement already satisfied: typing-extensions>=4.8.0 in c:\\users\\kartg\\anaconda3\\envs\\myenv\\lib\\site-packages (from torch<3,>=1.3->pytorch-ignite) (4.11.0)\n",
                        "Requirement already satisfied: sympy in c:\\users\\kartg\\anaconda3\\envs\\myenv\\lib\\site-packages (from torch<3,>=1.3->pytorch-ignite) (1.12)\n",
                        "Requirement already satisfied: networkx in c:\\users\\kartg\\anaconda3\\envs\\myenv\\lib\\site-packages (from torch<3,>=1.3->pytorch-ignite) (3.1)\n",
                        "Requirement already satisfied: jinja2 in c:\\users\\kartg\\anaconda3\\envs\\myenv\\lib\\site-packages (from torch<3,>=1.3->pytorch-ignite) (3.1.4)\n",
                        "Requirement already satisfied: fsspec in c:\\users\\kartg\\anaconda3\\envs\\myenv\\lib\\site-packages (from torch<3,>=1.3->pytorch-ignite) (2024.5.0)\n",
                        "Requirement already satisfied: mkl<=2021.4.0,>=2021.1.1 in c:\\users\\kartg\\anaconda3\\envs\\myenv\\lib\\site-packages (from torch<3,>=1.3->pytorch-ignite) (2021.4.0)\n",
                        "Requirement already satisfied: intel-openmp==2021.* in c:\\users\\kartg\\anaconda3\\envs\\myenv\\lib\\site-packages (from mkl<=2021.4.0,>=2021.1.1->torch<3,>=1.3->pytorch-ignite) (2021.4.0)\n",
                        "Requirement already satisfied: tbb==2021.* in c:\\users\\kartg\\anaconda3\\envs\\myenv\\lib\\site-packages (from mkl<=2021.4.0,>=2021.1.1->torch<3,>=1.3->pytorch-ignite) (2021.12.0)\n",
                        "Requirement already satisfied: MarkupSafe>=2.0 in c:\\users\\kartg\\anaconda3\\envs\\myenv\\lib\\site-packages (from jinja2->torch<3,>=1.3->pytorch-ignite) (2.1.3)\n",
                        "Requirement already satisfied: mpmath>=0.19 in c:\\users\\kartg\\anaconda3\\envs\\myenv\\lib\\site-packages (from sympy->torch<3,>=1.3->pytorch-ignite) (1.3.0)\n",
                        "Requirement already satisfied: scikit-learn in c:\\users\\kartg\\anaconda3\\envs\\myenv\\lib\\site-packages (1.3.2)\n",
                        "Requirement already satisfied: numpy<2.0,>=1.17.3 in c:\\users\\kartg\\anaconda3\\envs\\myenv\\lib\\site-packages (from scikit-learn) (1.24.3)\n",
                        "Requirement already satisfied: scipy>=1.5.0 in c:\\users\\kartg\\anaconda3\\envs\\myenv\\lib\\site-packages (from scikit-learn) (1.10.1)\n",
                        "Requirement already satisfied: joblib>=1.1.1 in c:\\users\\kartg\\anaconda3\\envs\\myenv\\lib\\site-packages (from scikit-learn) (1.4.2)\n",
                        "Requirement already satisfied: threadpoolctl>=2.0.0 in c:\\users\\kartg\\anaconda3\\envs\\myenv\\lib\\site-packages (from scikit-learn) (3.5.0)\n",
                        "Requirement already satisfied: torch in c:\\users\\kartg\\anaconda3\\envs\\myenv\\lib\\site-packages (2.3.1+cu118)\n",
                        "Requirement already satisfied: filelock in c:\\users\\kartg\\anaconda3\\envs\\myenv\\lib\\site-packages (from torch) (3.13.1)\n",
                        "Requirement already satisfied: typing-extensions>=4.8.0 in c:\\users\\kartg\\anaconda3\\envs\\myenv\\lib\\site-packages (from torch) (4.11.0)\n",
                        "Requirement already satisfied: sympy in c:\\users\\kartg\\anaconda3\\envs\\myenv\\lib\\site-packages (from torch) (1.12)\n",
                        "Requirement already satisfied: networkx in c:\\users\\kartg\\anaconda3\\envs\\myenv\\lib\\site-packages (from torch) (3.1)\n",
                        "Requirement already satisfied: jinja2 in c:\\users\\kartg\\anaconda3\\envs\\myenv\\lib\\site-packages (from torch) (3.1.4)\n",
                        "Requirement already satisfied: fsspec in c:\\users\\kartg\\anaconda3\\envs\\myenv\\lib\\site-packages (from torch) (2024.5.0)\n",
                        "Requirement already satisfied: mkl<=2021.4.0,>=2021.1.1 in c:\\users\\kartg\\anaconda3\\envs\\myenv\\lib\\site-packages (from torch) (2021.4.0)\n",
                        "Requirement already satisfied: intel-openmp==2021.* in c:\\users\\kartg\\anaconda3\\envs\\myenv\\lib\\site-packages (from mkl<=2021.4.0,>=2021.1.1->torch) (2021.4.0)\n",
                        "Requirement already satisfied: tbb==2021.* in c:\\users\\kartg\\anaconda3\\envs\\myenv\\lib\\site-packages (from mkl<=2021.4.0,>=2021.1.1->torch) (2021.12.0)\n",
                        "Requirement already satisfied: MarkupSafe>=2.0 in c:\\users\\kartg\\anaconda3\\envs\\myenv\\lib\\site-packages (from jinja2->torch) (2.1.3)\n",
                        "Requirement already satisfied: mpmath>=0.19 in c:\\users\\kartg\\anaconda3\\envs\\myenv\\lib\\site-packages (from sympy->torch) (1.3.0)\n",
                        "Requirement already satisfied: transformers in c:\\users\\kartg\\anaconda3\\envs\\myenv\\lib\\site-packages (4.41.2)\n",
                        "Requirement already satisfied: filelock in c:\\users\\kartg\\anaconda3\\envs\\myenv\\lib\\site-packages (from transformers) (3.13.1)\n",
                        "Requirement already satisfied: huggingface-hub<1.0,>=0.23.0 in c:\\users\\kartg\\anaconda3\\envs\\myenv\\lib\\site-packages (from transformers) (0.23.4)\n",
                        "Requirement already satisfied: numpy>=1.17 in c:\\users\\kartg\\anaconda3\\envs\\myenv\\lib\\site-packages (from transformers) (1.24.3)\n",
                        "Requirement already satisfied: packaging>=20.0 in c:\\users\\kartg\\anaconda3\\envs\\myenv\\lib\\site-packages (from transformers) (24.1)\n",
                        "Requirement already satisfied: pyyaml>=5.1 in c:\\users\\kartg\\anaconda3\\envs\\myenv\\lib\\site-packages (from transformers) (6.0.1)\n",
                        "Requirement already satisfied: regex!=2019.12.17 in c:\\users\\kartg\\anaconda3\\envs\\myenv\\lib\\site-packages (from transformers) (2024.5.15)\n",
                        "Requirement already satisfied: requests in c:\\users\\kartg\\anaconda3\\envs\\myenv\\lib\\site-packages (from transformers) (2.32.2)\n",
                        "Requirement already satisfied: tokenizers<0.20,>=0.19 in c:\\users\\kartg\\anaconda3\\envs\\myenv\\lib\\site-packages (from transformers) (0.19.1)\n",
                        "Requirement already satisfied: safetensors>=0.4.1 in c:\\users\\kartg\\anaconda3\\envs\\myenv\\lib\\site-packages (from transformers) (0.4.3)\n",
                        "Requirement already satisfied: tqdm>=4.27 in c:\\users\\kartg\\anaconda3\\envs\\myenv\\lib\\site-packages (from transformers) (4.66.4)\n",
                        "Requirement already satisfied: fsspec>=2023.5.0 in c:\\users\\kartg\\anaconda3\\envs\\myenv\\lib\\site-packages (from huggingface-hub<1.0,>=0.23.0->transformers) (2024.5.0)\n",
                        "Requirement already satisfied: typing-extensions>=3.7.4.3 in c:\\users\\kartg\\anaconda3\\envs\\myenv\\lib\\site-packages (from huggingface-hub<1.0,>=0.23.0->transformers) (4.11.0)\n",
                        "Requirement already satisfied: colorama in c:\\users\\kartg\\anaconda3\\envs\\myenv\\lib\\site-packages (from tqdm>=4.27->transformers) (0.4.6)\n",
                        "Requirement already satisfied: charset-normalizer<4,>=2 in c:\\users\\kartg\\anaconda3\\envs\\myenv\\lib\\site-packages (from requests->transformers) (2.0.4)\n",
                        "Requirement already satisfied: idna<4,>=2.5 in c:\\users\\kartg\\anaconda3\\envs\\myenv\\lib\\site-packages (from requests->transformers) (3.7)\n",
                        "Requirement already satisfied: urllib3<3,>=1.21.1 in c:\\users\\kartg\\anaconda3\\envs\\myenv\\lib\\site-packages (from requests->transformers) (2.2.1)\n",
                        "Requirement already satisfied: certifi>=2017.4.17 in c:\\users\\kartg\\anaconda3\\envs\\myenv\\lib\\site-packages (from requests->transformers) (2024.6.2)\n"
                    ]
                }
            ],
            "source": [
                "!pip install openpyxl\n",
                "!pip install pandas\n",
                "!pip install pillow\n",
                "!pip install pytorch-ignite\n",
                "!pip install scikit-learn\n",
                "!pip install torch\n",
                "!pip install transformers"
            ]
        },
        {
            "cell_type": "markdown",
            "metadata": {},
            "source": [
                "## Import Required Modules"
            ]
        },
        {
            "cell_type": "code",
            "execution_count": 2,
            "metadata": {},
            "outputs": [
                {
                    "name": "stderr",
                    "output_type": "stream",
                    "text": [
                        "c:\\Users\\kartg\\anaconda3\\envs\\myenv\\lib\\site-packages\\tqdm\\auto.py:21: TqdmWarning: IProgress not found. Please update jupyter and ipywidgets. See https://ipywidgets.readthedocs.io/en/stable/user_install.html\n",
                        "  from .autonotebook import tqdm as notebook_tqdm\n"
                    ]
                }
            ],
            "source": [
                "import os\n",
                "import random\n",
                "import torch\n",
                "\n",
                "import numpy as np\n",
                "import pandas as pd\n",
                "import torch.nn as nn\n",
                "import nltk\n",
                "\n",
                "from ignite.metrics import Rouge\n",
                "from pandas.core.common import random_state\n",
                "from PIL import Image\n",
                "from torch.optim import AdamW\n",
                "from torch.utils.data import Dataset, DataLoader\n",
                "from tqdm import tqdm\n",
                "from transformers import AutoTokenizer, AutoModelForCausalLM, VisionEncoderDecoderModel, ViTImageProcessor\n",
                "from typing import Any, Dict, List\n",
                "from torch.utils.data import DataLoader\n",
                "from datasets import load_metric"
            ]
        },
        {
            "cell_type": "markdown",
            "metadata": {},
            "source": [
                "## Set The Random Seed"
            ]
        },
        {
            "cell_type": "code",
            "execution_count": 3,
            "metadata": {},
            "outputs": [],
            "source": [
                "seed = 48763\n",
                "\n",
                "np.random.seed(seed=seed, )\n",
                "\n",
                "random_state(state=seed, )\n",
                "\n",
                "random.seed(a=seed, )\n",
                "\n",
                "torch.manual_seed(seed=seed, )\n",
                "torch.cuda.manual_seed(seed=seed, )\n",
                "torch.cuda.manual_seed_all(seed=seed, )\n",
                "torch.backends.cudnn.benchmark = False\n",
                "torch.backends.cudnn.deterministic = True"
            ]
        },
        {
            "cell_type": "markdown",
            "metadata": {},
            "source": [
                "## Set The Device & Initialize Models"
            ]
        },
        {
            "cell_type": "code",
            "execution_count": 4,
            "metadata": {},
            "outputs": [
                {
                    "name": "stderr",
                    "output_type": "stream",
                    "text": [
                        "c:\\Users\\kartg\\anaconda3\\envs\\myenv\\lib\\site-packages\\huggingface_hub\\file_download.py:1132: FutureWarning: `resume_download` is deprecated and will be removed in version 1.0.0. Downloads always resume when possible. If you want to force a new download, use `force_download=True`.\n",
                        "  warnings.warn(\n",
                        "Some weights of ViTModel were not initialized from the model checkpoint at nickmuchi/vit-finetuned-chest-xray-pneumonia and are newly initialized: ['vit.pooler.dense.bias', 'vit.pooler.dense.weight']\n",
                        "You should probably TRAIN this model on a down-stream task to be able to use it for predictions and inference.\n",
                        "Some weights of BertLMHeadModel were not initialized from the model checkpoint at emilyalsentzer/Bio_ClinicalBERT and are newly initialized: ['bert.encoder.layer.0.crossattention.output.LayerNorm.bias', 'bert.encoder.layer.0.crossattention.output.LayerNorm.weight', 'bert.encoder.layer.0.crossattention.output.dense.bias', 'bert.encoder.layer.0.crossattention.output.dense.weight', 'bert.encoder.layer.0.crossattention.self.key.bias', 'bert.encoder.layer.0.crossattention.self.key.weight', 'bert.encoder.layer.0.crossattention.self.query.bias', 'bert.encoder.layer.0.crossattention.self.query.weight', 'bert.encoder.layer.0.crossattention.self.value.bias', 'bert.encoder.layer.0.crossattention.self.value.weight', 'bert.encoder.layer.1.crossattention.output.LayerNorm.bias', 'bert.encoder.layer.1.crossattention.output.LayerNorm.weight', 'bert.encoder.layer.1.crossattention.output.dense.bias', 'bert.encoder.layer.1.crossattention.output.dense.weight', 'bert.encoder.layer.1.crossattention.self.key.bias', 'bert.encoder.layer.1.crossattention.self.key.weight', 'bert.encoder.layer.1.crossattention.self.query.bias', 'bert.encoder.layer.1.crossattention.self.query.weight', 'bert.encoder.layer.1.crossattention.self.value.bias', 'bert.encoder.layer.1.crossattention.self.value.weight', 'bert.encoder.layer.10.crossattention.output.LayerNorm.bias', 'bert.encoder.layer.10.crossattention.output.LayerNorm.weight', 'bert.encoder.layer.10.crossattention.output.dense.bias', 'bert.encoder.layer.10.crossattention.output.dense.weight', 'bert.encoder.layer.10.crossattention.self.key.bias', 'bert.encoder.layer.10.crossattention.self.key.weight', 'bert.encoder.layer.10.crossattention.self.query.bias', 'bert.encoder.layer.10.crossattention.self.query.weight', 'bert.encoder.layer.10.crossattention.self.value.bias', 'bert.encoder.layer.10.crossattention.self.value.weight', 'bert.encoder.layer.11.crossattention.output.LayerNorm.bias', 'bert.encoder.layer.11.crossattention.output.LayerNorm.weight', 'bert.encoder.layer.11.crossattention.output.dense.bias', 'bert.encoder.layer.11.crossattention.output.dense.weight', 'bert.encoder.layer.11.crossattention.self.key.bias', 'bert.encoder.layer.11.crossattention.self.key.weight', 'bert.encoder.layer.11.crossattention.self.query.bias', 'bert.encoder.layer.11.crossattention.self.query.weight', 'bert.encoder.layer.11.crossattention.self.value.bias', 'bert.encoder.layer.11.crossattention.self.value.weight', 'bert.encoder.layer.2.crossattention.output.LayerNorm.bias', 'bert.encoder.layer.2.crossattention.output.LayerNorm.weight', 'bert.encoder.layer.2.crossattention.output.dense.bias', 'bert.encoder.layer.2.crossattention.output.dense.weight', 'bert.encoder.layer.2.crossattention.self.key.bias', 'bert.encoder.layer.2.crossattention.self.key.weight', 'bert.encoder.layer.2.crossattention.self.query.bias', 'bert.encoder.layer.2.crossattention.self.query.weight', 'bert.encoder.layer.2.crossattention.self.value.bias', 'bert.encoder.layer.2.crossattention.self.value.weight', 'bert.encoder.layer.3.crossattention.output.LayerNorm.bias', 'bert.encoder.layer.3.crossattention.output.LayerNorm.weight', 'bert.encoder.layer.3.crossattention.output.dense.bias', 'bert.encoder.layer.3.crossattention.output.dense.weight', 'bert.encoder.layer.3.crossattention.self.key.bias', 'bert.encoder.layer.3.crossattention.self.key.weight', 'bert.encoder.layer.3.crossattention.self.query.bias', 'bert.encoder.layer.3.crossattention.self.query.weight', 'bert.encoder.layer.3.crossattention.self.value.bias', 'bert.encoder.layer.3.crossattention.self.value.weight', 'bert.encoder.layer.4.crossattention.output.LayerNorm.bias', 'bert.encoder.layer.4.crossattention.output.LayerNorm.weight', 'bert.encoder.layer.4.crossattention.output.dense.bias', 'bert.encoder.layer.4.crossattention.output.dense.weight', 'bert.encoder.layer.4.crossattention.self.key.bias', 'bert.encoder.layer.4.crossattention.self.key.weight', 'bert.encoder.layer.4.crossattention.self.query.bias', 'bert.encoder.layer.4.crossattention.self.query.weight', 'bert.encoder.layer.4.crossattention.self.value.bias', 'bert.encoder.layer.4.crossattention.self.value.weight', 'bert.encoder.layer.5.crossattention.output.LayerNorm.bias', 'bert.encoder.layer.5.crossattention.output.LayerNorm.weight', 'bert.encoder.layer.5.crossattention.output.dense.bias', 'bert.encoder.layer.5.crossattention.output.dense.weight', 'bert.encoder.layer.5.crossattention.self.key.bias', 'bert.encoder.layer.5.crossattention.self.key.weight', 'bert.encoder.layer.5.crossattention.self.query.bias', 'bert.encoder.layer.5.crossattention.self.query.weight', 'bert.encoder.layer.5.crossattention.self.value.bias', 'bert.encoder.layer.5.crossattention.self.value.weight', 'bert.encoder.layer.6.crossattention.output.LayerNorm.bias', 'bert.encoder.layer.6.crossattention.output.LayerNorm.weight', 'bert.encoder.layer.6.crossattention.output.dense.bias', 'bert.encoder.layer.6.crossattention.output.dense.weight', 'bert.encoder.layer.6.crossattention.self.key.bias', 'bert.encoder.layer.6.crossattention.self.key.weight', 'bert.encoder.layer.6.crossattention.self.query.bias', 'bert.encoder.layer.6.crossattention.self.query.weight', 'bert.encoder.layer.6.crossattention.self.value.bias', 'bert.encoder.layer.6.crossattention.self.value.weight', 'bert.encoder.layer.7.crossattention.output.LayerNorm.bias', 'bert.encoder.layer.7.crossattention.output.LayerNorm.weight', 'bert.encoder.layer.7.crossattention.output.dense.bias', 'bert.encoder.layer.7.crossattention.output.dense.weight', 'bert.encoder.layer.7.crossattention.self.key.bias', 'bert.encoder.layer.7.crossattention.self.key.weight', 'bert.encoder.layer.7.crossattention.self.query.bias', 'bert.encoder.layer.7.crossattention.self.query.weight', 'bert.encoder.layer.7.crossattention.self.value.bias', 'bert.encoder.layer.7.crossattention.self.value.weight', 'bert.encoder.layer.8.crossattention.output.LayerNorm.bias', 'bert.encoder.layer.8.crossattention.output.LayerNorm.weight', 'bert.encoder.layer.8.crossattention.output.dense.bias', 'bert.encoder.layer.8.crossattention.output.dense.weight', 'bert.encoder.layer.8.crossattention.self.key.bias', 'bert.encoder.layer.8.crossattention.self.key.weight', 'bert.encoder.layer.8.crossattention.self.query.bias', 'bert.encoder.layer.8.crossattention.self.query.weight', 'bert.encoder.layer.8.crossattention.self.value.bias', 'bert.encoder.layer.8.crossattention.self.value.weight', 'bert.encoder.layer.9.crossattention.output.LayerNorm.bias', 'bert.encoder.layer.9.crossattention.output.LayerNorm.weight', 'bert.encoder.layer.9.crossattention.output.dense.bias', 'bert.encoder.layer.9.crossattention.output.dense.weight', 'bert.encoder.layer.9.crossattention.self.key.bias', 'bert.encoder.layer.9.crossattention.self.key.weight', 'bert.encoder.layer.9.crossattention.self.query.bias', 'bert.encoder.layer.9.crossattention.self.query.weight', 'bert.encoder.layer.9.crossattention.self.value.bias', 'bert.encoder.layer.9.crossattention.self.value.weight']\n",
                        "You should probably TRAIN this model on a down-stream task to be able to use it for predictions and inference.\n"
                    ]
                },
                {
                    "name": "stdout",
                    "output_type": "stream",
                    "text": [
                        "['[UNK]', '[SEP]', '[PAD]', '[CLS]', '[MASK]']\n"
                    ]
                }
            ],
            "source": [
                "device = \"cuda\" if torch.cuda.is_available() else \"cpu\"\n",
                "\n",
                "model = VisionEncoderDecoderModel.from_encoder_decoder_pretrained(\"nickmuchi/vit-finetuned-chest-xray-pneumonia\", \"emilyalsentzer/Bio_ClinicalBERT\").to(device)\n",
                "\n",
                "tokenizer = AutoTokenizer.from_pretrained(\"emilyalsentzer/Bio_ClinicalBERT\")\n",
                "\n",
                "print(tokenizer.all_special_tokens)\n",
                "\n",
                "tokenizer.add_special_tokens({\n",
                "    \"bos_token\": tokenizer.cls_token,\n",
                "    \"eos_token\": tokenizer.sep_token,\n",
                "    \"pad_token\": tokenizer.pad_token,\n",
                "    #\"bos_token\": \"<|beginoftext|>\",\n",
                "    #\"pad_token\": \"<|pad|>\",\n",
                "})\n",
                "\n",
                "model.config.decoder_start_token_id = tokenizer.bos_token_id\n",
                "model.config.pad_token_id = tokenizer.pad_token_id\n",
                "model.config.eos_token_id = tokenizer.eos_token_id\n",
                "#model.generation_config.decoder_start_token_id = tokenizer.cls_token_id\n",
                "\n",
                "model.decoder.resize_token_embeddings(len(tokenizer))\n",
                "\n",
                "processor = ViTImageProcessor.from_pretrained(\"nickmuchi/vit-finetuned-chest-xray-pneumonia\")"
            ]
        },
        {
            "cell_type": "markdown",
            "metadata": {},
            "source": [
                "## The CXIRG Dataset"
            ]
        },
        {
            "cell_type": "code",
            "execution_count": 5,
            "metadata": {},
            "outputs": [],
            "source": [
                "class CXIRGDataset(Dataset):\n",
                "    def __init__(self, data: List[Dict[str, Any]]) -> None:\n",
                "        super(CXIRGDataset, self).__init__()\n",
                "        self.data = data\n",
                "\n",
                "    def __getitem__(self, index: int) -> Dict[str, Any]:\n",
                "        return self.data[index]\n",
                "\n",
                "    def __len__(self) -> int:\n",
                "        return len(self.data)"
            ]
        },
        {
            "cell_type": "markdown",
            "metadata": {},
            "source": [
                "## The Collate Function for The DataLoader"
            ]
        },
        {
            "cell_type": "code",
            "execution_count": 6,
            "metadata": {},
            "outputs": [],
            "source": [
                "max_length = 256\n",
                "\n",
                "def train_dl_collate_fn(one_batch_data: List[Dict[str, Any]]) -> Dict[str, Any]:\n",
                "    names, pixel_values, reports = [], [], []\n",
                "\n",
                "    for one_data in one_batch_data:\n",
                "        names.append(one_data[\"name\"])\n",
                "        pixel_values.append(one_data[\"image\"])\n",
                "        reports.append(one_data[\"text\"])\n",
                "\n",
                "    # Process images\n",
                "    pixel_values = processor(images=pixel_values, return_tensors=\"pt\").pixel_values\n",
                "    \n",
                "    # Tokenize reports\n",
                "    label_ids = tokenizer(\n",
                "        reports,\n",
                "        padding=\"max_length\",\n",
                "        truncation=True,\n",
                "        max_length=max_length,\n",
                "        return_tensors=\"pt\"\n",
                "    ).input_ids\n",
                "\n",
                "    return {\n",
                "        \"names\": names,\n",
                "        \"pixel_values\": pixel_values.to(device, dtype=torch.float32),\n",
                "        \"label_ids\": label_ids.to(device, dtype=torch.int64)\n",
                "    }\n",
                "\n",
                "def valid_dl_collate_fn(one_batch_data: List[Dict[str, Any]]) -> Dict[str, Any]:\n",
                "    names, pixel_values, reports = [], [], []\n",
                "\n",
                "    for one_data in one_batch_data:\n",
                "        names.append(one_data[\"name\"])\n",
                "        pixel_values.append(one_data[\"image\"])\n",
                "        reports.append(one_data[\"text\"])\n",
                "\n",
                "    # Process images\n",
                "    pixel_values = processor(images=pixel_values, return_tensors=\"pt\").pixel_values\n",
                "\n",
                "    # Tokenize reports\n",
                "    label_ids = tokenizer(\n",
                "        reports,\n",
                "        padding=\"max_length\",\n",
                "        truncation=True,\n",
                "        max_length=max_length,\n",
                "        return_tensors=\"pt\"\n",
                "    ).input_ids\n",
                "\n",
                "    return {\n",
                "        \"names\": names,\n",
                "        \"pixel_values\": pixel_values.to(device, dtype=torch.float32),\n",
                "        \"label_ids\": label_ids.to(device, dtype=torch.int64)\n",
                "    }\n"
            ]
        },
        {
            "cell_type": "markdown",
            "metadata": {},
            "source": [
                "## Load The Train & Validation Data"
            ]
        },
        {
            "cell_type": "code",
            "execution_count": 7,
            "metadata": {},
            "outputs": [
                {
                    "name": "stdout",
                    "output_type": "stream",
                    "text": [
                        "{'names': ['NLP_CHEST_001', 'NLP_CHEST_048', 'NLP_CHEST_060', 'NLP_CHEST_094'], 'pixel_values': tensor([[[[-0.1843, -0.4118, -0.4118,  ..., -0.9137, -0.9137, -0.9137],\n",
                        "          [-0.5686, -0.4667, -0.3804,  ..., -0.7098, -0.6235, -0.5765],\n",
                        "          [-0.6549, -0.5216, -0.3490,  ..., -0.4902, -0.5059, -0.4196],\n",
                        "          ...,\n",
                        "          [ 0.2941,  0.3412,  0.3882,  ..., -0.9529, -0.9451, -0.9373],\n",
                        "          [ 0.2706,  0.3020,  0.3804,  ..., -0.9451, -0.9451, -0.9373],\n",
                        "          [ 0.2471,  0.2863,  0.3490,  ..., -0.9451, -0.9373, -0.9294]],\n",
                        "\n",
                        "         [[-0.1843, -0.4118, -0.4118,  ..., -0.9137, -0.9137, -0.9137],\n",
                        "          [-0.5686, -0.4667, -0.3804,  ..., -0.7098, -0.6235, -0.5765],\n",
                        "          [-0.6549, -0.5216, -0.3490,  ..., -0.4902, -0.5059, -0.4196],\n",
                        "          ...,\n",
                        "          [ 0.2941,  0.3412,  0.3882,  ..., -0.9529, -0.9451, -0.9373],\n",
                        "          [ 0.2706,  0.3020,  0.3804,  ..., -0.9451, -0.9451, -0.9373],\n",
                        "          [ 0.2471,  0.2863,  0.3490,  ..., -0.9451, -0.9373, -0.9294]],\n",
                        "\n",
                        "         [[-0.1843, -0.4118, -0.4118,  ..., -0.9137, -0.9137, -0.9137],\n",
                        "          [-0.5686, -0.4667, -0.3804,  ..., -0.7098, -0.6235, -0.5765],\n",
                        "          [-0.6549, -0.5216, -0.3490,  ..., -0.4902, -0.5059, -0.4196],\n",
                        "          ...,\n",
                        "          [ 0.2941,  0.3412,  0.3882,  ..., -0.9529, -0.9451, -0.9373],\n",
                        "          [ 0.2706,  0.3020,  0.3804,  ..., -0.9451, -0.9451, -0.9373],\n",
                        "          [ 0.2471,  0.2863,  0.3490,  ..., -0.9451, -0.9373, -0.9294]]],\n",
                        "\n",
                        "\n",
                        "        [[[-0.9373, -0.9294, -0.9294,  ..., -0.9529, -0.9608, -0.9608],\n",
                        "          [-0.9294, -0.9294, -0.9294,  ..., -0.9529, -0.9529, -0.9608],\n",
                        "          [-0.9294, -0.9294, -0.9294,  ..., -0.9529, -0.9529, -0.9608],\n",
                        "          ...,\n",
                        "          [-0.1529, -0.0118,  0.0510,  ..., -0.7333, -0.8275, -0.9216],\n",
                        "          [-0.1373, -0.0118,  0.0745,  ..., -0.6941, -0.7882, -0.8275],\n",
                        "          [-0.1529, -0.0353,  0.0431,  ..., -0.6549, -0.6471, -0.2549]],\n",
                        "\n",
                        "         [[-0.9373, -0.9294, -0.9294,  ..., -0.9529, -0.9608, -0.9608],\n",
                        "          [-0.9294, -0.9294, -0.9294,  ..., -0.9529, -0.9529, -0.9608],\n",
                        "          [-0.9294, -0.9294, -0.9294,  ..., -0.9529, -0.9529, -0.9608],\n",
                        "          ...,\n",
                        "          [-0.1529, -0.0118,  0.0510,  ..., -0.7333, -0.8275, -0.9216],\n",
                        "          [-0.1373, -0.0118,  0.0745,  ..., -0.6941, -0.7882, -0.8275],\n",
                        "          [-0.1529, -0.0353,  0.0431,  ..., -0.6549, -0.6471, -0.2549]],\n",
                        "\n",
                        "         [[-0.9373, -0.9294, -0.9294,  ..., -0.9529, -0.9608, -0.9608],\n",
                        "          [-0.9294, -0.9294, -0.9294,  ..., -0.9529, -0.9529, -0.9608],\n",
                        "          [-0.9294, -0.9294, -0.9294,  ..., -0.9529, -0.9529, -0.9608],\n",
                        "          ...,\n",
                        "          [-0.1529, -0.0118,  0.0510,  ..., -0.7333, -0.8275, -0.9216],\n",
                        "          [-0.1373, -0.0118,  0.0745,  ..., -0.6941, -0.7882, -0.8275],\n",
                        "          [-0.1529, -0.0353,  0.0431,  ..., -0.6549, -0.6471, -0.2549]]],\n",
                        "\n",
                        "\n",
                        "        [[[-0.8275, -0.8353, -0.8353,  ..., -0.8510, -0.7804, -0.5608],\n",
                        "          [-0.8353, -0.8431, -0.8431,  ..., -0.8588, -0.8510, -0.8039],\n",
                        "          [-0.8353, -0.8431, -0.8431,  ..., -0.8588, -0.8588, -0.8510],\n",
                        "          ...,\n",
                        "          [-0.8588, -0.8510, -0.8667,  ..., -1.0000, -1.0000, -1.0000],\n",
                        "          [-0.9059, -0.8980, -0.8902,  ..., -1.0000, -1.0000, -1.0000],\n",
                        "          [-0.9059, -0.9137, -0.9137,  ..., -1.0000, -1.0000, -1.0000]],\n",
                        "\n",
                        "         [[-0.8275, -0.8353, -0.8353,  ..., -0.8510, -0.7804, -0.5608],\n",
                        "          [-0.8353, -0.8431, -0.8431,  ..., -0.8588, -0.8510, -0.8039],\n",
                        "          [-0.8353, -0.8431, -0.8431,  ..., -0.8588, -0.8588, -0.8510],\n",
                        "          ...,\n",
                        "          [-0.8588, -0.8510, -0.8667,  ..., -1.0000, -1.0000, -1.0000],\n",
                        "          [-0.9059, -0.8980, -0.8902,  ..., -1.0000, -1.0000, -1.0000],\n",
                        "          [-0.9059, -0.9137, -0.9137,  ..., -1.0000, -1.0000, -1.0000]],\n",
                        "\n",
                        "         [[-0.8275, -0.8353, -0.8353,  ..., -0.8510, -0.7804, -0.5608],\n",
                        "          [-0.8353, -0.8431, -0.8431,  ..., -0.8588, -0.8510, -0.8039],\n",
                        "          [-0.8353, -0.8431, -0.8431,  ..., -0.8588, -0.8588, -0.8510],\n",
                        "          ...,\n",
                        "          [-0.8588, -0.8510, -0.8667,  ..., -1.0000, -1.0000, -1.0000],\n",
                        "          [-0.9059, -0.8980, -0.8902,  ..., -1.0000, -1.0000, -1.0000],\n",
                        "          [-0.9059, -0.9137, -0.9137,  ..., -1.0000, -1.0000, -1.0000]]],\n",
                        "\n",
                        "\n",
                        "        [[[-0.0510, -0.1451, -0.1608,  ..., -0.8353, -0.8275, -0.8588],\n",
                        "          [-0.2314, -0.2078, -0.2157,  ..., -0.7020, -0.2863, -0.3333],\n",
                        "          [-0.3098, -0.2784, -0.2784,  ..., -0.3804, -0.1608, -0.3804],\n",
                        "          ...,\n",
                        "          [-0.5373, -0.4118, -0.3569,  ..., -0.8980, -0.9922, -1.0000],\n",
                        "          [-0.5608, -0.4510, -0.3725,  ..., -0.9059, -0.9922, -1.0000],\n",
                        "          [-0.5843, -0.4980, -0.3882,  ..., -0.8980, -0.9922, -1.0000]],\n",
                        "\n",
                        "         [[-0.0510, -0.1451, -0.1608,  ..., -0.8353, -0.8275, -0.8588],\n",
                        "          [-0.2314, -0.2078, -0.2157,  ..., -0.7020, -0.2863, -0.3333],\n",
                        "          [-0.3098, -0.2784, -0.2784,  ..., -0.3804, -0.1608, -0.3804],\n",
                        "          ...,\n",
                        "          [-0.5373, -0.4118, -0.3569,  ..., -0.8980, -0.9922, -1.0000],\n",
                        "          [-0.5608, -0.4510, -0.3725,  ..., -0.9059, -0.9922, -1.0000],\n",
                        "          [-0.5843, -0.4980, -0.3882,  ..., -0.8980, -0.9922, -1.0000]],\n",
                        "\n",
                        "         [[-0.0510, -0.1451, -0.1608,  ..., -0.8353, -0.8275, -0.8588],\n",
                        "          [-0.2314, -0.2078, -0.2157,  ..., -0.7020, -0.2863, -0.3333],\n",
                        "          [-0.3098, -0.2784, -0.2784,  ..., -0.3804, -0.1608, -0.3804],\n",
                        "          ...,\n",
                        "          [-0.5373, -0.4118, -0.3569,  ..., -0.8980, -0.9922, -1.0000],\n",
                        "          [-0.5608, -0.4510, -0.3725,  ..., -0.9059, -0.9922, -1.0000],\n",
                        "          [-0.5843, -0.4980, -0.3882,  ..., -0.8980, -0.9922, -1.0000]]]],\n",
                        "       device='cuda:0'), 'label_ids': tensor([[ 101, 2229,  170,  ...,    0,    0,    0],\n",
                        "        [ 101, 2229,  170,  ...,    0,    0,    0],\n",
                        "        [ 101, 2229, 6188,  ...,    0,    0,    0],\n",
                        "        [ 101, 2229, 6188,  ...,    0,    0,    0]], device='cuda:0')}\n",
                        "{'names': ['NLP_CHEST_061', 'NLP_CHEST_003', 'NLP_CHEST_054', 'NLP_CHEST_023'], 'pixel_values': tensor([[[[-0.2471, -0.1608, -0.1608,  ...,  0.4510,  0.3176, -0.8667],\n",
                        "          [-0.6471, -0.5765, -0.6000,  ...,  0.0353,  0.1059, -0.8745],\n",
                        "          [-0.7961, -0.7569, -0.7882,  ..., -0.3961, -0.2000, -0.9059],\n",
                        "          ...,\n",
                        "          [-1.0000, -1.0000, -1.0000,  ..., -0.3882, -0.0745, -0.7098],\n",
                        "          [-0.9608, -0.9608, -0.9608,  ..., -0.3961,  0.0039, -0.0510],\n",
                        "          [-0.8667, -0.8588, -0.8588,  ..., -0.4039, -0.0431, -0.2314]],\n",
                        "\n",
                        "         [[-0.2471, -0.1608, -0.1608,  ...,  0.4510,  0.3176, -0.8667],\n",
                        "          [-0.6471, -0.5765, -0.6000,  ...,  0.0353,  0.1059, -0.8745],\n",
                        "          [-0.7961, -0.7569, -0.7882,  ..., -0.3961, -0.2000, -0.9059],\n",
                        "          ...,\n",
                        "          [-1.0000, -1.0000, -1.0000,  ..., -0.3882, -0.0745, -0.7098],\n",
                        "          [-0.9608, -0.9608, -0.9608,  ..., -0.3961,  0.0039, -0.0510],\n",
                        "          [-0.8667, -0.8588, -0.8588,  ..., -0.4039, -0.0431, -0.2314]],\n",
                        "\n",
                        "         [[-0.2471, -0.1608, -0.1608,  ...,  0.4510,  0.3176, -0.8667],\n",
                        "          [-0.6471, -0.5765, -0.6000,  ...,  0.0353,  0.1059, -0.8745],\n",
                        "          [-0.7961, -0.7569, -0.7882,  ..., -0.3961, -0.2000, -0.9059],\n",
                        "          ...,\n",
                        "          [-1.0000, -1.0000, -1.0000,  ..., -0.3882, -0.0745, -0.7098],\n",
                        "          [-0.9608, -0.9608, -0.9608,  ..., -0.3961,  0.0039, -0.0510],\n",
                        "          [-0.8667, -0.8588, -0.8588,  ..., -0.4039, -0.0431, -0.2314]]],\n",
                        "\n",
                        "\n",
                        "        [[[-0.9059, -0.9059, -0.9059,  ..., -0.7647, -0.6941, -0.5294],\n",
                        "          [-0.9137, -0.9137, -0.9137,  ..., -0.7255, -0.6078, -0.6235],\n",
                        "          [-0.9137, -0.9137, -0.9137,  ..., -0.2471, -0.4196, -0.2392],\n",
                        "          ...,\n",
                        "          [-0.4667, -0.2784, -0.0588,  ..., -0.3412, -0.7255, -0.9922],\n",
                        "          [-0.4824, -0.3020, -0.0824,  ..., -0.3882, -0.7961, -1.0000],\n",
                        "          [-0.4824, -0.3176, -0.0902,  ..., -0.4275, -0.8431, -1.0000]],\n",
                        "\n",
                        "         [[-0.9059, -0.9059, -0.9059,  ..., -0.7647, -0.6941, -0.5294],\n",
                        "          [-0.9137, -0.9137, -0.9137,  ..., -0.7255, -0.6078, -0.6235],\n",
                        "          [-0.9137, -0.9137, -0.9137,  ..., -0.2471, -0.4196, -0.2392],\n",
                        "          ...,\n",
                        "          [-0.4667, -0.2784, -0.0588,  ..., -0.3412, -0.7255, -0.9922],\n",
                        "          [-0.4824, -0.3020, -0.0824,  ..., -0.3882, -0.7961, -1.0000],\n",
                        "          [-0.4824, -0.3176, -0.0902,  ..., -0.4275, -0.8431, -1.0000]],\n",
                        "\n",
                        "         [[-0.9059, -0.9059, -0.9059,  ..., -0.7647, -0.6941, -0.5294],\n",
                        "          [-0.9137, -0.9137, -0.9137,  ..., -0.7255, -0.6078, -0.6235],\n",
                        "          [-0.9137, -0.9137, -0.9137,  ..., -0.2471, -0.4196, -0.2392],\n",
                        "          ...,\n",
                        "          [-0.4667, -0.2784, -0.0588,  ..., -0.3412, -0.7255, -0.9922],\n",
                        "          [-0.4824, -0.3020, -0.0824,  ..., -0.3882, -0.7961, -1.0000],\n",
                        "          [-0.4824, -0.3176, -0.0902,  ..., -0.4275, -0.8431, -1.0000]]],\n",
                        "\n",
                        "\n",
                        "        [[[-0.9373, -0.9294, -0.9294,  ..., -0.9216, -0.8980, -0.9059],\n",
                        "          [-0.9373, -0.9294, -0.9294,  ..., -0.6471, -0.3647, -0.3725],\n",
                        "          [-0.9373, -0.9294, -0.9294,  ..., -0.3098, -0.2157, -0.3647],\n",
                        "          ...,\n",
                        "          [-0.6157, -0.6549, -0.7804,  ..., -0.6863, -0.8431, -0.9529],\n",
                        "          [-0.5216, -0.7176, -0.7882,  ..., -0.6471, -0.8275, -0.9451],\n",
                        "          [-0.2471, -0.7412, -0.8039,  ..., -0.6392, -0.8118, -0.9373]],\n",
                        "\n",
                        "         [[-0.9373, -0.9294, -0.9294,  ..., -0.9216, -0.8980, -0.9059],\n",
                        "          [-0.9373, -0.9294, -0.9294,  ..., -0.6471, -0.3647, -0.3725],\n",
                        "          [-0.9373, -0.9294, -0.9294,  ..., -0.3098, -0.2157, -0.3647],\n",
                        "          ...,\n",
                        "          [-0.6157, -0.6549, -0.7804,  ..., -0.6863, -0.8431, -0.9529],\n",
                        "          [-0.5216, -0.7176, -0.7882,  ..., -0.6471, -0.8275, -0.9451],\n",
                        "          [-0.2471, -0.7412, -0.8039,  ..., -0.6392, -0.8118, -0.9373]],\n",
                        "\n",
                        "         [[-0.9373, -0.9294, -0.9294,  ..., -0.9216, -0.8980, -0.9059],\n",
                        "          [-0.9373, -0.9294, -0.9294,  ..., -0.6471, -0.3647, -0.3725],\n",
                        "          [-0.9373, -0.9294, -0.9294,  ..., -0.3098, -0.2157, -0.3647],\n",
                        "          ...,\n",
                        "          [-0.6157, -0.6549, -0.7804,  ..., -0.6863, -0.8431, -0.9529],\n",
                        "          [-0.5216, -0.7176, -0.7882,  ..., -0.6471, -0.8275, -0.9451],\n",
                        "          [-0.2471, -0.7412, -0.8039,  ..., -0.6392, -0.8118, -0.9373]]],\n",
                        "\n",
                        "\n",
                        "        [[[-0.7412, -0.7412, -0.7412,  ..., -0.7725, -0.7020, -0.5216],\n",
                        "          [-0.7490, -0.7490, -0.7490,  ..., -0.7804, -0.7725, -0.7333],\n",
                        "          [-0.7490, -0.7490, -0.7569,  ..., -0.7804, -0.7804, -0.7804],\n",
                        "          ...,\n",
                        "          [-0.7490, -0.7569, -0.7725,  ..., -0.7804, -0.7804, -0.7804],\n",
                        "          [-0.7490, -0.7569, -0.7647,  ..., -0.7804, -0.7882, -0.7804],\n",
                        "          [-0.7333, -0.7490, -0.7647,  ..., -0.7725, -0.7804, -0.7725]],\n",
                        "\n",
                        "         [[-0.7412, -0.7412, -0.7412,  ..., -0.7725, -0.7020, -0.5216],\n",
                        "          [-0.7490, -0.7490, -0.7490,  ..., -0.7804, -0.7725, -0.7333],\n",
                        "          [-0.7490, -0.7490, -0.7569,  ..., -0.7804, -0.7804, -0.7804],\n",
                        "          ...,\n",
                        "          [-0.7490, -0.7569, -0.7725,  ..., -0.7804, -0.7804, -0.7804],\n",
                        "          [-0.7490, -0.7569, -0.7647,  ..., -0.7804, -0.7882, -0.7804],\n",
                        "          [-0.7333, -0.7490, -0.7647,  ..., -0.7725, -0.7804, -0.7725]],\n",
                        "\n",
                        "         [[-0.7412, -0.7412, -0.7412,  ..., -0.7725, -0.7020, -0.5216],\n",
                        "          [-0.7490, -0.7490, -0.7490,  ..., -0.7804, -0.7725, -0.7333],\n",
                        "          [-0.7490, -0.7490, -0.7569,  ..., -0.7804, -0.7804, -0.7804],\n",
                        "          ...,\n",
                        "          [-0.7490, -0.7569, -0.7725,  ..., -0.7804, -0.7804, -0.7804],\n",
                        "          [-0.7490, -0.7569, -0.7647,  ..., -0.7804, -0.7882, -0.7804],\n",
                        "          [-0.7333, -0.7490, -0.7647,  ..., -0.7725, -0.7804, -0.7725]]]],\n",
                        "       device='cuda:0'), 'label_ids': tensor([[ 101, 2229, 6188,  ...,    0,    0,    0],\n",
                        "        [ 101, 2229, 6188,  ...,    0,    0,    0],\n",
                        "        [ 101, 2229, 6188,  ...,    0,    0,    0],\n",
                        "        [ 101, 2229,  185,  ...,    0,    0,    0]], device='cuda:0')}\n",
                        "{'names': ['NLP_CHEST_012', 'NLP_CHEST_053', 'NLP_CHEST_063', 'NLP_CHEST_086'], 'pixel_values': tensor([[[[-1.0000, -1.0000, -1.0000,  ..., -0.9922, -0.9922, -0.9843],\n",
                        "          [-1.0000, -1.0000, -1.0000,  ..., -0.7804, -0.6863, -0.6392],\n",
                        "          [-1.0000, -1.0000, -1.0000,  ..., -0.5529, -0.5686, -0.4745],\n",
                        "          ...,\n",
                        "          [-0.0275,  0.1608,  0.2392,  ..., -0.0118, -0.0824, -0.1294],\n",
                        "          [-0.0510,  0.1373,  0.2078,  ..., -0.0039, -0.0745, -0.1216],\n",
                        "          [-0.0824,  0.0196,  0.0824,  ..., -0.0667, -0.1059, -0.0275]],\n",
                        "\n",
                        "         [[-1.0000, -1.0000, -1.0000,  ..., -0.9922, -0.9922, -0.9843],\n",
                        "          [-1.0000, -1.0000, -1.0000,  ..., -0.7804, -0.6863, -0.6392],\n",
                        "          [-1.0000, -1.0000, -1.0000,  ..., -0.5529, -0.5686, -0.4745],\n",
                        "          ...,\n",
                        "          [-0.0275,  0.1608,  0.2392,  ..., -0.0118, -0.0824, -0.1294],\n",
                        "          [-0.0510,  0.1373,  0.2078,  ..., -0.0039, -0.0745, -0.1216],\n",
                        "          [-0.0824,  0.0196,  0.0824,  ..., -0.0667, -0.1059, -0.0275]],\n",
                        "\n",
                        "         [[-1.0000, -1.0000, -1.0000,  ..., -0.9922, -0.9922, -0.9843],\n",
                        "          [-1.0000, -1.0000, -1.0000,  ..., -0.7804, -0.6863, -0.6392],\n",
                        "          [-1.0000, -1.0000, -1.0000,  ..., -0.5529, -0.5686, -0.4745],\n",
                        "          ...,\n",
                        "          [-0.0275,  0.1608,  0.2392,  ..., -0.0118, -0.0824, -0.1294],\n",
                        "          [-0.0510,  0.1373,  0.2078,  ..., -0.0039, -0.0745, -0.1216],\n",
                        "          [-0.0824,  0.0196,  0.0824,  ..., -0.0667, -0.1059, -0.0275]]],\n",
                        "\n",
                        "\n",
                        "        [[[-0.7255, -0.8275, -0.8902,  ..., -0.9216, -0.9216, -0.9137],\n",
                        "          [-0.7333, -0.8353, -0.8980,  ..., -0.7176, -0.6235, -0.5843],\n",
                        "          [-0.7412, -0.8431, -0.9059,  ..., -0.4980, -0.5059, -0.4196],\n",
                        "          ...,\n",
                        "          [ 0.1373,  0.1843,  0.2314,  ..., -1.0000, -1.0000, -1.0000],\n",
                        "          [ 0.1373,  0.1922,  0.2471,  ..., -1.0000, -0.9843, -0.9294],\n",
                        "          [ 0.1529,  0.2078,  0.2627,  ..., -1.0000, -0.8588, -0.3020]],\n",
                        "\n",
                        "         [[-0.7255, -0.8275, -0.8902,  ..., -0.9216, -0.9216, -0.9137],\n",
                        "          [-0.7333, -0.8353, -0.8980,  ..., -0.7176, -0.6235, -0.5843],\n",
                        "          [-0.7412, -0.8431, -0.9059,  ..., -0.4980, -0.5059, -0.4196],\n",
                        "          ...,\n",
                        "          [ 0.1373,  0.1843,  0.2314,  ..., -1.0000, -1.0000, -1.0000],\n",
                        "          [ 0.1373,  0.1922,  0.2471,  ..., -1.0000, -0.9843, -0.9294],\n",
                        "          [ 0.1529,  0.2078,  0.2627,  ..., -1.0000, -0.8588, -0.3020]],\n",
                        "\n",
                        "         [[-0.7255, -0.8275, -0.8902,  ..., -0.9216, -0.9216, -0.9137],\n",
                        "          [-0.7333, -0.8353, -0.8980,  ..., -0.7176, -0.6235, -0.5843],\n",
                        "          [-0.7412, -0.8431, -0.9059,  ..., -0.4980, -0.5059, -0.4196],\n",
                        "          ...,\n",
                        "          [ 0.1373,  0.1843,  0.2314,  ..., -1.0000, -1.0000, -1.0000],\n",
                        "          [ 0.1373,  0.1922,  0.2471,  ..., -1.0000, -0.9843, -0.9294],\n",
                        "          [ 0.1529,  0.2078,  0.2627,  ..., -1.0000, -0.8588, -0.3020]]],\n",
                        "\n",
                        "\n",
                        "        [[[-0.2549, -0.7176, -0.9451,  ..., -0.9137, -0.9137, -0.9059],\n",
                        "          [-0.8745, -0.9216, -0.9451,  ..., -0.7098, -0.5529, -0.6078],\n",
                        "          [-0.9451, -0.9451, -0.9451,  ..., -0.7020, -0.3804, -0.4824],\n",
                        "          ...,\n",
                        "          [-0.5373, -0.2784, -0.0745,  ..., -0.7176, -0.8902, -0.9922],\n",
                        "          [-0.2157, -0.0667, -0.0275,  ..., -0.7725, -0.9059, -1.0000],\n",
                        "          [-0.0745,  0.0196,  0.0039,  ..., -0.8196, -0.9294, -1.0000]],\n",
                        "\n",
                        "         [[-0.2549, -0.7176, -0.9451,  ..., -0.9137, -0.9137, -0.9059],\n",
                        "          [-0.8745, -0.9216, -0.9451,  ..., -0.7098, -0.5529, -0.6078],\n",
                        "          [-0.9451, -0.9451, -0.9451,  ..., -0.7020, -0.3804, -0.4824],\n",
                        "          ...,\n",
                        "          [-0.5373, -0.2784, -0.0745,  ..., -0.7176, -0.8902, -0.9922],\n",
                        "          [-0.2157, -0.0667, -0.0275,  ..., -0.7725, -0.9059, -1.0000],\n",
                        "          [-0.0745,  0.0196,  0.0039,  ..., -0.8196, -0.9294, -1.0000]],\n",
                        "\n",
                        "         [[-0.2549, -0.7176, -0.9451,  ..., -0.9137, -0.9137, -0.9059],\n",
                        "          [-0.8745, -0.9216, -0.9451,  ..., -0.7098, -0.5529, -0.6078],\n",
                        "          [-0.9451, -0.9451, -0.9451,  ..., -0.7020, -0.3804, -0.4824],\n",
                        "          ...,\n",
                        "          [-0.5373, -0.2784, -0.0745,  ..., -0.7176, -0.8902, -0.9922],\n",
                        "          [-0.2157, -0.0667, -0.0275,  ..., -0.7725, -0.9059, -1.0000],\n",
                        "          [-0.0745,  0.0196,  0.0039,  ..., -0.8196, -0.9294, -1.0000]]],\n",
                        "\n",
                        "\n",
                        "        [[[-0.3725, -0.9294, -1.0000,  ..., -0.8275, -0.7804, -0.7804],\n",
                        "          [-0.9373, -0.9922, -1.0000,  ..., -0.5922, -0.2863, -0.2863],\n",
                        "          [-1.0000, -1.0000, -1.0000,  ..., -0.2706, -0.1451, -0.3333],\n",
                        "          ...,\n",
                        "          [-1.0000, -0.9922, -0.9373,  ..., -0.9059, -0.9059, -0.9137],\n",
                        "          [-1.0000, -0.9843, -0.9529,  ..., -0.9059, -0.9137, -0.9137],\n",
                        "          [-1.0000, -0.9765, -0.9373,  ..., -0.9137, -0.9137, -0.9059]],\n",
                        "\n",
                        "         [[-0.3725, -0.9294, -1.0000,  ..., -0.8275, -0.7804, -0.7804],\n",
                        "          [-0.9373, -0.9922, -1.0000,  ..., -0.5922, -0.2863, -0.2863],\n",
                        "          [-1.0000, -1.0000, -1.0000,  ..., -0.2706, -0.1451, -0.3333],\n",
                        "          ...,\n",
                        "          [-1.0000, -0.9922, -0.9373,  ..., -0.9059, -0.9059, -0.9137],\n",
                        "          [-1.0000, -0.9843, -0.9529,  ..., -0.9059, -0.9137, -0.9137],\n",
                        "          [-1.0000, -0.9765, -0.9373,  ..., -0.9137, -0.9137, -0.9059]],\n",
                        "\n",
                        "         [[-0.3725, -0.9294, -1.0000,  ..., -0.8275, -0.7804, -0.7804],\n",
                        "          [-0.9373, -0.9922, -1.0000,  ..., -0.5922, -0.2863, -0.2863],\n",
                        "          [-1.0000, -1.0000, -1.0000,  ..., -0.2706, -0.1451, -0.3333],\n",
                        "          ...,\n",
                        "          [-1.0000, -0.9922, -0.9373,  ..., -0.9059, -0.9059, -0.9137],\n",
                        "          [-1.0000, -0.9843, -0.9529,  ..., -0.9059, -0.9137, -0.9137],\n",
                        "          [-1.0000, -0.9765, -0.9373,  ..., -0.9137, -0.9137, -0.9059]]]],\n",
                        "       device='cuda:0'), 'label_ids': tensor([[ 101, 2229,  170,  ...,    0,    0,    0],\n",
                        "        [ 101, 2229,  170,  ...,    0,    0,    0],\n",
                        "        [ 101, 2229, 6188,  ...,    0,    0,    0],\n",
                        "        [ 101, 2229,  170,  ...,    0,    0,    0]], device='cuda:0')}\n",
                        "{'names': ['NLP_CHEST_097', 'NLP_CHEST_030', 'NLP_CHEST_099', 'NLP_CHEST_067'], 'pixel_values': tensor([[[[-0.9059, -0.9059, -0.9059,  ..., -0.9608, -0.8667, -0.5922],\n",
                        "          [-0.9137, -0.9137, -0.9137,  ..., -0.8588, -0.7255, -0.7333],\n",
                        "          [-0.9137, -0.9137, -0.9137,  ..., -0.2863, -0.4824, -0.2863],\n",
                        "          ...,\n",
                        "          [-0.8353, -0.8353, -0.8275,  ..., -0.8588, -0.8510, -0.8510],\n",
                        "          [-0.8353, -0.8275, -0.8196,  ..., -0.8510, -0.8510, -0.8510],\n",
                        "          [-0.8275, -0.8275, -0.8118,  ..., -0.8510, -0.8510, -0.8431]],\n",
                        "\n",
                        "         [[-0.9059, -0.9059, -0.9059,  ..., -0.9608, -0.8667, -0.5922],\n",
                        "          [-0.9137, -0.9137, -0.9137,  ..., -0.8588, -0.7255, -0.7333],\n",
                        "          [-0.9137, -0.9137, -0.9137,  ..., -0.2863, -0.4824, -0.2863],\n",
                        "          ...,\n",
                        "          [-0.8353, -0.8353, -0.8275,  ..., -0.8588, -0.8510, -0.8510],\n",
                        "          [-0.8353, -0.8275, -0.8196,  ..., -0.8510, -0.8510, -0.8510],\n",
                        "          [-0.8275, -0.8275, -0.8118,  ..., -0.8510, -0.8510, -0.8431]],\n",
                        "\n",
                        "         [[-0.9059, -0.9059, -0.9059,  ..., -0.9608, -0.8667, -0.5922],\n",
                        "          [-0.9137, -0.9137, -0.9137,  ..., -0.8588, -0.7255, -0.7333],\n",
                        "          [-0.9137, -0.9137, -0.9137,  ..., -0.2863, -0.4824, -0.2863],\n",
                        "          ...,\n",
                        "          [-0.8353, -0.8353, -0.8275,  ..., -0.8588, -0.8510, -0.8510],\n",
                        "          [-0.8353, -0.8275, -0.8196,  ..., -0.8510, -0.8510, -0.8510],\n",
                        "          [-0.8275, -0.8275, -0.8118,  ..., -0.8510, -0.8510, -0.8431]]],\n",
                        "\n",
                        "\n",
                        "        [[[-0.9059, -0.9059, -0.9059,  ..., -0.8196, -0.7490, -0.7333],\n",
                        "          [-0.8902, -0.8902, -0.9137,  ..., -0.5843, -0.2706, -0.2627],\n",
                        "          [-0.8824, -0.8902, -0.9059,  ..., -0.2706, -0.1373, -0.3176],\n",
                        "          ...,\n",
                        "          [ 0.0667,  0.1686,  0.1843,  ..., -1.0000, -1.0000, -1.0000],\n",
                        "          [ 0.0902,  0.1843,  0.2078,  ..., -1.0000, -0.9922, -0.9373],\n",
                        "          [ 0.1059,  0.1843,  0.2078,  ..., -1.0000, -0.9294, -0.3725]],\n",
                        "\n",
                        "         [[-0.9059, -0.9059, -0.9059,  ..., -0.8196, -0.7490, -0.7333],\n",
                        "          [-0.8902, -0.8902, -0.9137,  ..., -0.5843, -0.2706, -0.2627],\n",
                        "          [-0.8824, -0.8902, -0.9059,  ..., -0.2706, -0.1373, -0.3176],\n",
                        "          ...,\n",
                        "          [ 0.0667,  0.1686,  0.1843,  ..., -1.0000, -1.0000, -1.0000],\n",
                        "          [ 0.0902,  0.1843,  0.2078,  ..., -1.0000, -0.9922, -0.9373],\n",
                        "          [ 0.1059,  0.1843,  0.2078,  ..., -1.0000, -0.9294, -0.3725]],\n",
                        "\n",
                        "         [[-0.9059, -0.9059, -0.9059,  ..., -0.8196, -0.7490, -0.7333],\n",
                        "          [-0.8902, -0.8902, -0.9137,  ..., -0.5843, -0.2706, -0.2627],\n",
                        "          [-0.8824, -0.8902, -0.9059,  ..., -0.2706, -0.1373, -0.3176],\n",
                        "          ...,\n",
                        "          [ 0.0667,  0.1686,  0.1843,  ..., -1.0000, -1.0000, -1.0000],\n",
                        "          [ 0.0902,  0.1843,  0.2078,  ..., -1.0000, -0.9922, -0.9373],\n",
                        "          [ 0.1059,  0.1843,  0.2078,  ..., -1.0000, -0.9294, -0.3725]]],\n",
                        "\n",
                        "\n",
                        "        [[[-0.9373, -0.9373, -0.9373,  ..., -0.7647, -0.7255, -0.7569],\n",
                        "          [-0.9373, -0.9373, -0.9373,  ..., -0.6549, -0.2471, -0.3176],\n",
                        "          [-0.9451, -0.9451, -0.9451,  ..., -0.4431, -0.1765, -0.3490],\n",
                        "          ...,\n",
                        "          [-1.0000, -0.9216, -0.7804,  ..., -0.3647, -0.5373, -0.7647],\n",
                        "          [-0.9059, -0.8745, -0.7569,  ..., -0.3098, -0.4902, -0.6706],\n",
                        "          [-0.2784, -0.7176, -0.7176,  ..., -0.2784, -0.4510, -0.5922]],\n",
                        "\n",
                        "         [[-0.9373, -0.9373, -0.9373,  ..., -0.7647, -0.7255, -0.7569],\n",
                        "          [-0.9373, -0.9373, -0.9373,  ..., -0.6549, -0.2471, -0.3176],\n",
                        "          [-0.9451, -0.9451, -0.9451,  ..., -0.4431, -0.1765, -0.3490],\n",
                        "          ...,\n",
                        "          [-1.0000, -0.9216, -0.7804,  ..., -0.3647, -0.5373, -0.7647],\n",
                        "          [-0.9059, -0.8745, -0.7569,  ..., -0.3098, -0.4902, -0.6706],\n",
                        "          [-0.2784, -0.7176, -0.7176,  ..., -0.2784, -0.4510, -0.5922]],\n",
                        "\n",
                        "         [[-0.9373, -0.9373, -0.9373,  ..., -0.7647, -0.7255, -0.7569],\n",
                        "          [-0.9373, -0.9373, -0.9373,  ..., -0.6549, -0.2471, -0.3176],\n",
                        "          [-0.9451, -0.9451, -0.9451,  ..., -0.4431, -0.1765, -0.3490],\n",
                        "          ...,\n",
                        "          [-1.0000, -0.9216, -0.7804,  ..., -0.3647, -0.5373, -0.7647],\n",
                        "          [-0.9059, -0.8745, -0.7569,  ..., -0.3098, -0.4902, -0.6706],\n",
                        "          [-0.2784, -0.7176, -0.7176,  ..., -0.2784, -0.4510, -0.5922]]],\n",
                        "\n",
                        "\n",
                        "        [[[-1.0000, -1.0000, -1.0000,  ..., -0.9922, -0.8902, -0.6000],\n",
                        "          [-1.0000, -1.0000, -1.0000,  ..., -0.8902, -0.7569, -0.7647],\n",
                        "          [-1.0000, -1.0000, -1.0000,  ..., -0.3098, -0.5059, -0.3098],\n",
                        "          ...,\n",
                        "          [-1.0000, -1.0000, -1.0000,  ..., -1.0000, -1.0000, -1.0000],\n",
                        "          [-1.0000, -1.0000, -1.0000,  ..., -1.0000, -1.0000, -1.0000],\n",
                        "          [-1.0000, -1.0000, -1.0000,  ..., -1.0000, -1.0000, -1.0000]],\n",
                        "\n",
                        "         [[-1.0000, -1.0000, -1.0000,  ..., -0.9922, -0.8902, -0.6000],\n",
                        "          [-1.0000, -1.0000, -1.0000,  ..., -0.8902, -0.7569, -0.7647],\n",
                        "          [-1.0000, -1.0000, -1.0000,  ..., -0.3098, -0.5059, -0.3098],\n",
                        "          ...,\n",
                        "          [-1.0000, -1.0000, -1.0000,  ..., -1.0000, -1.0000, -1.0000],\n",
                        "          [-1.0000, -1.0000, -1.0000,  ..., -1.0000, -1.0000, -1.0000],\n",
                        "          [-1.0000, -1.0000, -1.0000,  ..., -1.0000, -1.0000, -1.0000]],\n",
                        "\n",
                        "         [[-1.0000, -1.0000, -1.0000,  ..., -0.9922, -0.8902, -0.6000],\n",
                        "          [-1.0000, -1.0000, -1.0000,  ..., -0.8902, -0.7569, -0.7647],\n",
                        "          [-1.0000, -1.0000, -1.0000,  ..., -0.3098, -0.5059, -0.3098],\n",
                        "          ...,\n",
                        "          [-1.0000, -1.0000, -1.0000,  ..., -1.0000, -1.0000, -1.0000],\n",
                        "          [-1.0000, -1.0000, -1.0000,  ..., -1.0000, -1.0000, -1.0000],\n",
                        "          [-1.0000, -1.0000, -1.0000,  ..., -1.0000, -1.0000, -1.0000]]]],\n",
                        "       device='cuda:0'), 'label_ids': tensor([[ 101, 2229,  185,  ...,    0,    0,    0],\n",
                        "        [ 101, 2229, 6188,  ...,    0,    0,    0],\n",
                        "        [ 101, 2229, 6188,  ...,    0,    0,    0],\n",
                        "        [ 101, 2229, 6188,  ...,    0,    0,    0]], device='cuda:0')}\n",
                        "{'names': ['NLP_CHEST_052', 'NLP_CHEST_020', 'NLP_CHEST_006', 'NLP_CHEST_046'], 'pixel_values': tensor([[[[-0.9608, -0.9608, -0.9608,  ..., -0.9451, -0.8510, -0.5843],\n",
                        "          [-0.9608, -0.9608, -0.9608,  ..., -0.8353, -0.7098, -0.7176],\n",
                        "          [-0.9608, -0.9608, -0.9608,  ..., -0.2784, -0.4667, -0.2784],\n",
                        "          ...,\n",
                        "          [-0.6549, -0.5451, -0.4039,  ..., -0.9608, -0.9529, -0.9529],\n",
                        "          [-0.4510, -0.3569, -0.2549,  ..., -0.9608, -0.9529, -0.9529],\n",
                        "          [-0.3020, -0.2078, -0.1059,  ..., -0.9608, -0.9529, -0.9529]],\n",
                        "\n",
                        "         [[-0.9608, -0.9608, -0.9608,  ..., -0.9451, -0.8510, -0.5843],\n",
                        "          [-0.9608, -0.9608, -0.9608,  ..., -0.8353, -0.7098, -0.7176],\n",
                        "          [-0.9608, -0.9608, -0.9608,  ..., -0.2784, -0.4667, -0.2784],\n",
                        "          ...,\n",
                        "          [-0.6549, -0.5451, -0.4039,  ..., -0.9608, -0.9529, -0.9529],\n",
                        "          [-0.4510, -0.3569, -0.2549,  ..., -0.9608, -0.9529, -0.9529],\n",
                        "          [-0.3020, -0.2078, -0.1059,  ..., -0.9608, -0.9529, -0.9529]],\n",
                        "\n",
                        "         [[-0.9608, -0.9608, -0.9608,  ..., -0.9451, -0.8510, -0.5843],\n",
                        "          [-0.9608, -0.9608, -0.9608,  ..., -0.8353, -0.7098, -0.7176],\n",
                        "          [-0.9608, -0.9608, -0.9608,  ..., -0.2784, -0.4667, -0.2784],\n",
                        "          ...,\n",
                        "          [-0.6549, -0.5451, -0.4039,  ..., -0.9608, -0.9529, -0.9529],\n",
                        "          [-0.4510, -0.3569, -0.2549,  ..., -0.9608, -0.9529, -0.9529],\n",
                        "          [-0.3020, -0.2078, -0.1059,  ..., -0.9608, -0.9529, -0.9529]]],\n",
                        "\n",
                        "\n",
                        "        [[[-0.9451, -0.9451, -0.9451,  ..., -0.9922, -0.9529, -0.9686],\n",
                        "          [-0.9608, -0.9608, -0.9529,  ..., -0.7255, -0.3961, -0.4118],\n",
                        "          [-0.9608, -0.9608, -0.9608,  ..., -0.3647, -0.2314, -0.4431],\n",
                        "          ...,\n",
                        "          [-0.8902, -0.8824, -0.9294,  ..., -0.1686, -0.2235, -0.3020],\n",
                        "          [-0.9059, -0.9059, -0.9294,  ..., -0.1686, -0.2314, -0.2863],\n",
                        "          [-0.9137, -0.9451, -0.9294,  ..., -0.1922, -0.2314, -0.0902]],\n",
                        "\n",
                        "         [[-0.9451, -0.9451, -0.9451,  ..., -0.9922, -0.9529, -0.9686],\n",
                        "          [-0.9608, -0.9608, -0.9529,  ..., -0.7255, -0.3961, -0.4118],\n",
                        "          [-0.9608, -0.9608, -0.9608,  ..., -0.3647, -0.2314, -0.4431],\n",
                        "          ...,\n",
                        "          [-0.8902, -0.8824, -0.9294,  ..., -0.1686, -0.2235, -0.3020],\n",
                        "          [-0.9059, -0.9059, -0.9294,  ..., -0.1686, -0.2314, -0.2863],\n",
                        "          [-0.9137, -0.9451, -0.9294,  ..., -0.1922, -0.2314, -0.0902]],\n",
                        "\n",
                        "         [[-0.9451, -0.9451, -0.9451,  ..., -0.9922, -0.9529, -0.9686],\n",
                        "          [-0.9608, -0.9608, -0.9529,  ..., -0.7255, -0.3961, -0.4118],\n",
                        "          [-0.9608, -0.9608, -0.9608,  ..., -0.3647, -0.2314, -0.4431],\n",
                        "          ...,\n",
                        "          [-0.8902, -0.8824, -0.9294,  ..., -0.1686, -0.2235, -0.3020],\n",
                        "          [-0.9059, -0.9059, -0.9294,  ..., -0.1686, -0.2314, -0.2863],\n",
                        "          [-0.9137, -0.9451, -0.9294,  ..., -0.1922, -0.2314, -0.0902]]],\n",
                        "\n",
                        "\n",
                        "        [[[-0.8902, -0.8902, -0.8902,  ..., -0.8510, -0.7490, -0.6941],\n",
                        "          [-0.8902, -0.8902, -0.8902,  ..., -0.8824, -0.7804, -0.7804],\n",
                        "          [-0.8980, -0.8902, -0.8902,  ..., -0.9059, -0.9059, -0.9059],\n",
                        "          ...,\n",
                        "          [-0.4902, -0.3490, -0.2314,  ..., -1.0000, -1.0000, -1.0000],\n",
                        "          [-0.4745, -0.3333, -0.2235,  ..., -1.0000, -1.0000, -1.0000],\n",
                        "          [-0.4510, -0.3255, -0.2078,  ..., -1.0000, -1.0000, -1.0000]],\n",
                        "\n",
                        "         [[-0.8902, -0.8902, -0.8902,  ..., -0.8510, -0.7490, -0.6941],\n",
                        "          [-0.8902, -0.8902, -0.8902,  ..., -0.8824, -0.7804, -0.7804],\n",
                        "          [-0.8980, -0.8902, -0.8902,  ..., -0.9059, -0.9059, -0.9059],\n",
                        "          ...,\n",
                        "          [-0.4902, -0.3490, -0.2314,  ..., -1.0000, -1.0000, -1.0000],\n",
                        "          [-0.4745, -0.3333, -0.2235,  ..., -1.0000, -1.0000, -1.0000],\n",
                        "          [-0.4510, -0.3255, -0.2078,  ..., -1.0000, -1.0000, -1.0000]],\n",
                        "\n",
                        "         [[-0.8902, -0.8902, -0.8902,  ..., -0.8510, -0.7490, -0.6941],\n",
                        "          [-0.8902, -0.8902, -0.8902,  ..., -0.8824, -0.7804, -0.7804],\n",
                        "          [-0.8980, -0.8902, -0.8902,  ..., -0.9059, -0.9059, -0.9059],\n",
                        "          ...,\n",
                        "          [-0.4902, -0.3490, -0.2314,  ..., -1.0000, -1.0000, -1.0000],\n",
                        "          [-0.4745, -0.3333, -0.2235,  ..., -1.0000, -1.0000, -1.0000],\n",
                        "          [-0.4510, -0.3255, -0.2078,  ..., -1.0000, -1.0000, -1.0000]]],\n",
                        "\n",
                        "\n",
                        "        [[[-0.2863, -0.8196, -0.9765,  ..., -0.9137, -0.9137, -0.9137],\n",
                        "          [-0.9059, -0.9608, -0.9765,  ..., -0.7020, -0.6078, -0.5843],\n",
                        "          [-0.9765, -0.9765, -0.9765,  ..., -0.5137, -0.4902, -0.4196],\n",
                        "          ...,\n",
                        "          [-0.9059, -0.9137, -0.9294,  ..., -0.8667, -0.8667, -0.8745],\n",
                        "          [-0.8980, -0.9059, -0.9137,  ..., -0.8588, -0.8745, -0.8745],\n",
                        "          [-0.8745, -0.8902, -0.8980,  ..., -0.8588, -0.8588, -0.8588]],\n",
                        "\n",
                        "         [[-0.2863, -0.8196, -0.9765,  ..., -0.9137, -0.9137, -0.9137],\n",
                        "          [-0.9059, -0.9608, -0.9765,  ..., -0.7020, -0.6078, -0.5843],\n",
                        "          [-0.9765, -0.9765, -0.9765,  ..., -0.5137, -0.4902, -0.4196],\n",
                        "          ...,\n",
                        "          [-0.9059, -0.9137, -0.9294,  ..., -0.8667, -0.8667, -0.8745],\n",
                        "          [-0.8980, -0.9059, -0.9137,  ..., -0.8588, -0.8745, -0.8745],\n",
                        "          [-0.8745, -0.8902, -0.8980,  ..., -0.8588, -0.8588, -0.8588]],\n",
                        "\n",
                        "         [[-0.2863, -0.8196, -0.9765,  ..., -0.9137, -0.9137, -0.9137],\n",
                        "          [-0.9059, -0.9608, -0.9765,  ..., -0.7020, -0.6078, -0.5843],\n",
                        "          [-0.9765, -0.9765, -0.9765,  ..., -0.5137, -0.4902, -0.4196],\n",
                        "          ...,\n",
                        "          [-0.9059, -0.9137, -0.9294,  ..., -0.8667, -0.8667, -0.8745],\n",
                        "          [-0.8980, -0.9059, -0.9137,  ..., -0.8588, -0.8745, -0.8745],\n",
                        "          [-0.8745, -0.8902, -0.8980,  ..., -0.8588, -0.8588, -0.8588]]]],\n",
                        "       device='cuda:0'), 'label_ids': tensor([[ 101, 2229,  170,  ...,    0,    0,    0],\n",
                        "        [ 101, 2229,  170,  ...,    0,    0,    0],\n",
                        "        [ 101, 2229, 6188,  ...,    0,    0,    0],\n",
                        "        [ 101, 2229, 6188,  ...,    0,    0,    0]], device='cuda:0')}\n",
                        "{'names': ['NLP_CHEST_077', 'NLP_CHEST_074', 'NLP_CHEST_043', 'NLP_CHEST_036'], 'pixel_values': tensor([[[[-1.0000, -1.0000, -1.0000,  ..., -1.0000, -0.8980, -0.6000],\n",
                        "          [-1.0000, -1.0000, -1.0000,  ..., -0.8902, -0.7569, -0.7647],\n",
                        "          [-1.0000, -1.0000, -1.0000,  ..., -0.3098, -0.5059, -0.3098],\n",
                        "          ...,\n",
                        "          [-0.7255, -0.6235, -0.5059,  ..., -0.3882, -0.5059, -0.6078],\n",
                        "          [-0.7255, -0.6235, -0.5059,  ..., -0.3804, -0.4902, -0.5843],\n",
                        "          [-0.7176, -0.6157, -0.4824,  ..., -0.3412, -0.4510, -0.5529]],\n",
                        "\n",
                        "         [[-1.0000, -1.0000, -1.0000,  ..., -1.0000, -0.8980, -0.6000],\n",
                        "          [-1.0000, -1.0000, -1.0000,  ..., -0.8902, -0.7569, -0.7647],\n",
                        "          [-1.0000, -1.0000, -1.0000,  ..., -0.3098, -0.5059, -0.3098],\n",
                        "          ...,\n",
                        "          [-0.7255, -0.6235, -0.5059,  ..., -0.3882, -0.5059, -0.6078],\n",
                        "          [-0.7255, -0.6235, -0.5059,  ..., -0.3804, -0.4902, -0.5843],\n",
                        "          [-0.7176, -0.6157, -0.4824,  ..., -0.3412, -0.4510, -0.5529]],\n",
                        "\n",
                        "         [[-1.0000, -1.0000, -1.0000,  ..., -1.0000, -0.8980, -0.6000],\n",
                        "          [-1.0000, -1.0000, -1.0000,  ..., -0.8902, -0.7569, -0.7647],\n",
                        "          [-1.0000, -1.0000, -1.0000,  ..., -0.3098, -0.5059, -0.3098],\n",
                        "          ...,\n",
                        "          [-0.7255, -0.6235, -0.5059,  ..., -0.3882, -0.5059, -0.6078],\n",
                        "          [-0.7255, -0.6235, -0.5059,  ..., -0.3804, -0.4902, -0.5843],\n",
                        "          [-0.7176, -0.6157, -0.4824,  ..., -0.3412, -0.4510, -0.5529]]],\n",
                        "\n",
                        "\n",
                        "        [[[ 0.1373,  0.2863,  0.3333,  ..., -0.3412, -0.3412, -0.3412],\n",
                        "          [ 0.0980,  0.1059,  0.1059,  ..., -0.3804, -0.3176, -0.3412],\n",
                        "          [-0.1294, -0.1294, -0.1451,  ..., -0.0353, -0.0196, -0.0745],\n",
                        "          ...,\n",
                        "          [-0.5922, -0.4667, -0.3569,  ...,  0.0510, -0.1216, -0.3882],\n",
                        "          [-0.6235, -0.4745, -0.3412,  ...,  0.0745, -0.0745, -0.2706],\n",
                        "          [-0.6157, -0.4588, -0.3020,  ...,  0.1137, -0.0196, -0.1765]],\n",
                        "\n",
                        "         [[ 0.1373,  0.2863,  0.3333,  ..., -0.3412, -0.3412, -0.3412],\n",
                        "          [ 0.0980,  0.1059,  0.1059,  ..., -0.3804, -0.3176, -0.3412],\n",
                        "          [-0.1294, -0.1294, -0.1451,  ..., -0.0353, -0.0196, -0.0745],\n",
                        "          ...,\n",
                        "          [-0.5922, -0.4667, -0.3569,  ...,  0.0510, -0.1216, -0.3882],\n",
                        "          [-0.6235, -0.4745, -0.3412,  ...,  0.0745, -0.0745, -0.2706],\n",
                        "          [-0.6157, -0.4588, -0.3020,  ...,  0.1137, -0.0196, -0.1765]],\n",
                        "\n",
                        "         [[ 0.1373,  0.2863,  0.3333,  ..., -0.3412, -0.3412, -0.3412],\n",
                        "          [ 0.0980,  0.1059,  0.1059,  ..., -0.3804, -0.3176, -0.3412],\n",
                        "          [-0.1294, -0.1294, -0.1451,  ..., -0.0353, -0.0196, -0.0745],\n",
                        "          ...,\n",
                        "          [-0.5922, -0.4667, -0.3569,  ...,  0.0510, -0.1216, -0.3882],\n",
                        "          [-0.6235, -0.4745, -0.3412,  ...,  0.0745, -0.0745, -0.2706],\n",
                        "          [-0.6157, -0.4588, -0.3020,  ...,  0.1137, -0.0196, -0.1765]]],\n",
                        "\n",
                        "\n",
                        "        [[[-0.2471, -0.6863, -0.8039,  ..., -0.8588, -0.8588, -0.8588],\n",
                        "          [-0.7647, -0.8118, -0.8275,  ..., -0.6706, -0.5843, -0.5451],\n",
                        "          [-0.8431, -0.8431, -0.8431,  ..., -0.4745, -0.4902, -0.4039],\n",
                        "          ...,\n",
                        "          [-0.9843, -0.9843, -0.9843,  ..., -0.9216, -0.9059, -0.8980],\n",
                        "          [-0.9765, -0.9686, -0.9765,  ..., -0.9137, -0.9059, -0.8980],\n",
                        "          [-0.9608, -0.9529, -0.9608,  ..., -0.8980, -0.8980, -0.8824]],\n",
                        "\n",
                        "         [[-0.2471, -0.6863, -0.8039,  ..., -0.8588, -0.8588, -0.8588],\n",
                        "          [-0.7647, -0.8118, -0.8275,  ..., -0.6706, -0.5843, -0.5451],\n",
                        "          [-0.8431, -0.8431, -0.8431,  ..., -0.4745, -0.4902, -0.4039],\n",
                        "          ...,\n",
                        "          [-0.9843, -0.9843, -0.9843,  ..., -0.9216, -0.9059, -0.8980],\n",
                        "          [-0.9765, -0.9686, -0.9765,  ..., -0.9137, -0.9059, -0.8980],\n",
                        "          [-0.9608, -0.9529, -0.9608,  ..., -0.8980, -0.8980, -0.8824]],\n",
                        "\n",
                        "         [[-0.2471, -0.6863, -0.8039,  ..., -0.8588, -0.8588, -0.8588],\n",
                        "          [-0.7647, -0.8118, -0.8275,  ..., -0.6706, -0.5843, -0.5451],\n",
                        "          [-0.8431, -0.8431, -0.8431,  ..., -0.4745, -0.4902, -0.4039],\n",
                        "          ...,\n",
                        "          [-0.9843, -0.9843, -0.9843,  ..., -0.9216, -0.9059, -0.8980],\n",
                        "          [-0.9765, -0.9686, -0.9765,  ..., -0.9137, -0.9059, -0.8980],\n",
                        "          [-0.9608, -0.9529, -0.9608,  ..., -0.8980, -0.8980, -0.8824]]],\n",
                        "\n",
                        "\n",
                        "        [[[ 0.6000,  0.6392,  0.6392,  ...,  0.8118,  0.8118,  0.8196],\n",
                        "          [ 0.5608,  0.6000,  0.5922,  ...,  0.6784,  0.6863,  0.6627],\n",
                        "          [ 0.5451,  0.5843,  0.5765,  ...,  0.4275,  0.4667,  0.4353],\n",
                        "          ...,\n",
                        "          [-1.0000, -0.9608, -0.8353,  ...,  0.1608,  0.0980,  0.0588],\n",
                        "          [-1.0000, -0.9686, -0.8196,  ...,  0.1451,  0.0824,  0.0275],\n",
                        "          [-1.0000, -0.9686, -0.7961,  ...,  0.1451,  0.0824,  0.0353]],\n",
                        "\n",
                        "         [[ 0.6000,  0.6392,  0.6392,  ...,  0.8118,  0.8118,  0.8196],\n",
                        "          [ 0.5608,  0.6000,  0.5922,  ...,  0.6784,  0.6863,  0.6627],\n",
                        "          [ 0.5451,  0.5843,  0.5765,  ...,  0.4275,  0.4667,  0.4353],\n",
                        "          ...,\n",
                        "          [-1.0000, -0.9608, -0.8353,  ...,  0.1608,  0.0980,  0.0588],\n",
                        "          [-1.0000, -0.9686, -0.8196,  ...,  0.1451,  0.0824,  0.0275],\n",
                        "          [-1.0000, -0.9686, -0.7961,  ...,  0.1451,  0.0824,  0.0353]],\n",
                        "\n",
                        "         [[ 0.6000,  0.6392,  0.6392,  ...,  0.8118,  0.8118,  0.8196],\n",
                        "          [ 0.5608,  0.6000,  0.5922,  ...,  0.6784,  0.6863,  0.6627],\n",
                        "          [ 0.5451,  0.5843,  0.5765,  ...,  0.4275,  0.4667,  0.4353],\n",
                        "          ...,\n",
                        "          [-1.0000, -0.9608, -0.8353,  ...,  0.1608,  0.0980,  0.0588],\n",
                        "          [-1.0000, -0.9686, -0.8196,  ...,  0.1451,  0.0824,  0.0275],\n",
                        "          [-1.0000, -0.9686, -0.7961,  ...,  0.1451,  0.0824,  0.0353]]]],\n",
                        "       device='cuda:0'), 'label_ids': tensor([[ 101, 2229, 6188,  ...,    0,    0,    0],\n",
                        "        [ 101, 2229, 6188,  ...,    0,    0,    0],\n",
                        "        [ 101, 2229, 6188,  ...,    0,    0,    0],\n",
                        "        [ 101, 2229, 1273,  ...,    0,    0,    0]], device='cuda:0')}\n",
                        "{'names': ['NLP_CHEST_079', 'NLP_CHEST_065', 'NLP_CHEST_014', 'NLP_CHEST_033'], 'pixel_values': tensor([[[[-0.9922, -0.9922, -1.0000,  ..., -0.9529, -0.9137, -0.9373],\n",
                        "          [-0.9843, -0.9922, -0.9922,  ..., -0.7490, -0.3176, -0.3882],\n",
                        "          [-0.9843, -0.9843, -0.9843,  ..., -0.4745, -0.2000, -0.3725],\n",
                        "          ...,\n",
                        "          [-0.9843, -0.9922, -0.9922,  ..., -0.9843, -0.9843, -1.0000],\n",
                        "          [-0.9059, -0.9765, -1.0000,  ..., -0.9686, -0.9843, -1.0000],\n",
                        "          [-0.2941, -0.8588, -1.0000,  ..., -0.9608, -0.9843, -0.9922]],\n",
                        "\n",
                        "         [[-0.9922, -0.9922, -1.0000,  ..., -0.9529, -0.9137, -0.9373],\n",
                        "          [-0.9843, -0.9922, -0.9922,  ..., -0.7490, -0.3176, -0.3882],\n",
                        "          [-0.9843, -0.9843, -0.9843,  ..., -0.4745, -0.2000, -0.3725],\n",
                        "          ...,\n",
                        "          [-0.9843, -0.9922, -0.9922,  ..., -0.9843, -0.9843, -1.0000],\n",
                        "          [-0.9059, -0.9765, -1.0000,  ..., -0.9686, -0.9843, -1.0000],\n",
                        "          [-0.2941, -0.8588, -1.0000,  ..., -0.9608, -0.9843, -0.9922]],\n",
                        "\n",
                        "         [[-0.9922, -0.9922, -1.0000,  ..., -0.9529, -0.9137, -0.9373],\n",
                        "          [-0.9843, -0.9922, -0.9922,  ..., -0.7490, -0.3176, -0.3882],\n",
                        "          [-0.9843, -0.9843, -0.9843,  ..., -0.4745, -0.2000, -0.3725],\n",
                        "          ...,\n",
                        "          [-0.9843, -0.9922, -0.9922,  ..., -0.9843, -0.9843, -1.0000],\n",
                        "          [-0.9059, -0.9765, -1.0000,  ..., -0.9686, -0.9843, -1.0000],\n",
                        "          [-0.2941, -0.8588, -1.0000,  ..., -0.9608, -0.9843, -0.9922]]],\n",
                        "\n",
                        "\n",
                        "        [[[-0.0824, -0.4196, -0.8196,  ...,  0.1529,  0.1529,  0.2078],\n",
                        "          [-0.4431, -0.6235, -0.8275,  ...,  0.1686,  0.1216,  0.1608],\n",
                        "          [-0.8196, -0.8275, -0.8275,  ...,  0.2314,  0.1843,  0.1529],\n",
                        "          ...,\n",
                        "          [-0.9137, -0.9137, -0.9059,  ..., -0.9137, -0.9137, -0.9137],\n",
                        "          [-0.9216, -0.9216, -0.9137,  ..., -0.9137, -0.9137, -0.9137],\n",
                        "          [-0.9216, -0.9216, -0.9059,  ..., -0.9137, -0.9137, -0.9137]],\n",
                        "\n",
                        "         [[-0.0824, -0.4196, -0.8196,  ...,  0.1529,  0.1529,  0.2078],\n",
                        "          [-0.4431, -0.6235, -0.8275,  ...,  0.1686,  0.1216,  0.1608],\n",
                        "          [-0.8196, -0.8275, -0.8275,  ...,  0.2314,  0.1843,  0.1529],\n",
                        "          ...,\n",
                        "          [-0.9137, -0.9137, -0.9059,  ..., -0.9137, -0.9137, -0.9137],\n",
                        "          [-0.9216, -0.9216, -0.9137,  ..., -0.9137, -0.9137, -0.9137],\n",
                        "          [-0.9216, -0.9216, -0.9059,  ..., -0.9137, -0.9137, -0.9137]],\n",
                        "\n",
                        "         [[-0.0824, -0.4196, -0.8196,  ...,  0.1529,  0.1529,  0.2078],\n",
                        "          [-0.4431, -0.6235, -0.8275,  ...,  0.1686,  0.1216,  0.1608],\n",
                        "          [-0.8196, -0.8275, -0.8275,  ...,  0.2314,  0.1843,  0.1529],\n",
                        "          ...,\n",
                        "          [-0.9137, -0.9137, -0.9059,  ..., -0.9137, -0.9137, -0.9137],\n",
                        "          [-0.9216, -0.9216, -0.9137,  ..., -0.9137, -0.9137, -0.9137],\n",
                        "          [-0.9216, -0.9216, -0.9059,  ..., -0.9137, -0.9137, -0.9137]]],\n",
                        "\n",
                        "\n",
                        "        [[[-0.9608, -0.9608, -0.9608,  ..., -0.8902, -0.7569, -0.7098],\n",
                        "          [-0.9608, -0.9608, -0.9608,  ..., -0.9373, -0.8196, -0.8196],\n",
                        "          [-0.9529, -0.9529, -0.9529,  ..., -0.9608, -0.9608, -0.9529],\n",
                        "          ...,\n",
                        "          [-1.0000, -1.0000, -1.0000,  ..., -1.0000, -1.0000, -1.0000],\n",
                        "          [-1.0000, -1.0000, -1.0000,  ..., -1.0000, -1.0000, -1.0000],\n",
                        "          [-1.0000, -1.0000, -1.0000,  ..., -1.0000, -1.0000, -1.0000]],\n",
                        "\n",
                        "         [[-0.9608, -0.9608, -0.9608,  ..., -0.8902, -0.7569, -0.7098],\n",
                        "          [-0.9608, -0.9608, -0.9608,  ..., -0.9373, -0.8196, -0.8196],\n",
                        "          [-0.9529, -0.9529, -0.9529,  ..., -0.9608, -0.9608, -0.9529],\n",
                        "          ...,\n",
                        "          [-1.0000, -1.0000, -1.0000,  ..., -1.0000, -1.0000, -1.0000],\n",
                        "          [-1.0000, -1.0000, -1.0000,  ..., -1.0000, -1.0000, -1.0000],\n",
                        "          [-1.0000, -1.0000, -1.0000,  ..., -1.0000, -1.0000, -1.0000]],\n",
                        "\n",
                        "         [[-0.9608, -0.9608, -0.9608,  ..., -0.8902, -0.7569, -0.7098],\n",
                        "          [-0.9608, -0.9608, -0.9608,  ..., -0.9373, -0.8196, -0.8196],\n",
                        "          [-0.9529, -0.9529, -0.9529,  ..., -0.9608, -0.9608, -0.9529],\n",
                        "          ...,\n",
                        "          [-1.0000, -1.0000, -1.0000,  ..., -1.0000, -1.0000, -1.0000],\n",
                        "          [-1.0000, -1.0000, -1.0000,  ..., -1.0000, -1.0000, -1.0000],\n",
                        "          [-1.0000, -1.0000, -1.0000,  ..., -1.0000, -1.0000, -1.0000]]],\n",
                        "\n",
                        "\n",
                        "        [[[-0.3725, -0.9294, -1.0000,  ..., -0.9137, -0.8824, -0.8980],\n",
                        "          [-0.9373, -0.9922, -1.0000,  ..., -0.6706, -0.3490, -0.3647],\n",
                        "          [-1.0000, -1.0000, -1.0000,  ..., -0.3255, -0.2000, -0.4039],\n",
                        "          ...,\n",
                        "          [-0.6392, -0.6706, -0.6627,  ...,  0.2078,  0.1922,  0.0667],\n",
                        "          [-0.6392, -0.6627, -0.6784,  ...,  0.2941,  0.2706,  0.1608],\n",
                        "          [-0.6157, -0.6314, -0.7020,  ...,  0.4118,  0.3882,  0.2784]],\n",
                        "\n",
                        "         [[-0.3725, -0.9294, -1.0000,  ..., -0.9137, -0.8824, -0.8980],\n",
                        "          [-0.9373, -0.9922, -1.0000,  ..., -0.6706, -0.3490, -0.3647],\n",
                        "          [-1.0000, -1.0000, -1.0000,  ..., -0.3255, -0.2000, -0.4039],\n",
                        "          ...,\n",
                        "          [-0.6392, -0.6706, -0.6627,  ...,  0.2078,  0.1922,  0.0667],\n",
                        "          [-0.6392, -0.6627, -0.6784,  ...,  0.2941,  0.2706,  0.1608],\n",
                        "          [-0.6157, -0.6314, -0.7020,  ...,  0.4118,  0.3882,  0.2784]],\n",
                        "\n",
                        "         [[-0.3725, -0.9294, -1.0000,  ..., -0.9137, -0.8824, -0.8980],\n",
                        "          [-0.9373, -0.9922, -1.0000,  ..., -0.6706, -0.3490, -0.3647],\n",
                        "          [-1.0000, -1.0000, -1.0000,  ..., -0.3255, -0.2000, -0.4039],\n",
                        "          ...,\n",
                        "          [-0.6392, -0.6706, -0.6627,  ...,  0.2078,  0.1922,  0.0667],\n",
                        "          [-0.6392, -0.6627, -0.6784,  ...,  0.2941,  0.2706,  0.1608],\n",
                        "          [-0.6157, -0.6314, -0.7020,  ...,  0.4118,  0.3882,  0.2784]]]],\n",
                        "       device='cuda:0'), 'label_ids': tensor([[ 101, 2229,  170,  ...,    0,    0,    0],\n",
                        "        [ 101, 2229, 6188,  ...,    0,    0,    0],\n",
                        "        [ 101, 2229,  193,  ...,    0,    0,    0],\n",
                        "        [ 101, 2229, 6188,  ...,    0,    0,    0]], device='cuda:0')}\n",
                        "{'names': ['NLP_CHEST_090', 'NLP_CHEST_032', 'NLP_CHEST_089', 'NLP_CHEST_073'], 'pixel_values': tensor([[[[-0.9922, -0.9922, -0.9922,  ..., -0.9765, -0.9216, -0.8745],\n",
                        "          [-0.9922, -0.9922, -0.9922,  ..., -0.5608, -0.2392, -0.2392],\n",
                        "          [-0.9922, -0.9922, -0.9922,  ..., -0.3490, -0.1608, -0.2000],\n",
                        "          ...,\n",
                        "          [-0.9765, -0.9765, -0.9765,  ...,  0.0039, -0.0980, -0.1765],\n",
                        "          [-0.8902, -0.9529, -0.9686,  ...,  0.0353, -0.0667, -0.1529],\n",
                        "          [-0.2549, -0.7804, -0.9765,  ...,  0.0824, -0.0118, -0.1216]],\n",
                        "\n",
                        "         [[-0.9922, -0.9922, -0.9922,  ..., -0.9765, -0.9216, -0.8745],\n",
                        "          [-0.9922, -0.9922, -0.9922,  ..., -0.5608, -0.2392, -0.2392],\n",
                        "          [-0.9922, -0.9922, -0.9922,  ..., -0.3490, -0.1608, -0.2000],\n",
                        "          ...,\n",
                        "          [-0.9765, -0.9765, -0.9765,  ...,  0.0039, -0.0980, -0.1765],\n",
                        "          [-0.8902, -0.9529, -0.9686,  ...,  0.0353, -0.0667, -0.1529],\n",
                        "          [-0.2549, -0.7804, -0.9765,  ...,  0.0824, -0.0118, -0.1216]],\n",
                        "\n",
                        "         [[-0.9922, -0.9922, -0.9922,  ..., -0.9765, -0.9216, -0.8745],\n",
                        "          [-0.9922, -0.9922, -0.9922,  ..., -0.5608, -0.2392, -0.2392],\n",
                        "          [-0.9922, -0.9922, -0.9922,  ..., -0.3490, -0.1608, -0.2000],\n",
                        "          ...,\n",
                        "          [-0.9765, -0.9765, -0.9765,  ...,  0.0039, -0.0980, -0.1765],\n",
                        "          [-0.8902, -0.9529, -0.9686,  ...,  0.0353, -0.0667, -0.1529],\n",
                        "          [-0.2549, -0.7804, -0.9765,  ...,  0.0824, -0.0118, -0.1216]]],\n",
                        "\n",
                        "\n",
                        "        [[[-0.6235, -0.6235, -0.6235,  ..., -0.6392, -0.5843, -0.4824],\n",
                        "          [-0.6314, -0.6392, -0.6314,  ..., -0.6471, -0.6392, -0.6157],\n",
                        "          [-0.6392, -0.6392, -0.6392,  ..., -0.6471, -0.6471, -0.6471],\n",
                        "          ...,\n",
                        "          [-0.7882, -0.8118, -0.8275,  ..., -0.9059, -0.8980, -0.8902],\n",
                        "          [-0.7725, -0.7961, -0.8118,  ..., -0.9059, -0.8902, -0.8824],\n",
                        "          [-0.7490, -0.7804, -0.7961,  ..., -0.8902, -0.8824, -0.8745]],\n",
                        "\n",
                        "         [[-0.6235, -0.6235, -0.6235,  ..., -0.6392, -0.5843, -0.4824],\n",
                        "          [-0.6314, -0.6392, -0.6314,  ..., -0.6471, -0.6392, -0.6157],\n",
                        "          [-0.6392, -0.6392, -0.6392,  ..., -0.6471, -0.6471, -0.6471],\n",
                        "          ...,\n",
                        "          [-0.7882, -0.8118, -0.8275,  ..., -0.9059, -0.8980, -0.8902],\n",
                        "          [-0.7725, -0.7961, -0.8118,  ..., -0.9059, -0.8902, -0.8824],\n",
                        "          [-0.7490, -0.7804, -0.7961,  ..., -0.8902, -0.8824, -0.8745]],\n",
                        "\n",
                        "         [[-0.6235, -0.6235, -0.6235,  ..., -0.6392, -0.5843, -0.4824],\n",
                        "          [-0.6314, -0.6392, -0.6314,  ..., -0.6471, -0.6392, -0.6157],\n",
                        "          [-0.6392, -0.6392, -0.6392,  ..., -0.6471, -0.6471, -0.6471],\n",
                        "          ...,\n",
                        "          [-0.7882, -0.8118, -0.8275,  ..., -0.9059, -0.8980, -0.8902],\n",
                        "          [-0.7725, -0.7961, -0.8118,  ..., -0.9059, -0.8902, -0.8824],\n",
                        "          [-0.7490, -0.7804, -0.7961,  ..., -0.8902, -0.8824, -0.8745]]],\n",
                        "\n",
                        "\n",
                        "        [[[-1.0000, -1.0000, -1.0000,  ..., -0.9922, -0.9373, -0.9765],\n",
                        "          [-1.0000, -1.0000, -1.0000,  ..., -0.7804, -0.3412, -0.4039],\n",
                        "          [-1.0000, -1.0000, -1.0000,  ..., -0.4824, -0.2157, -0.4431],\n",
                        "          ...,\n",
                        "          [-0.7725, -0.8118, -0.8118,  ...,  0.1216,  0.1059,  0.0745],\n",
                        "          [-0.7882, -0.8196, -0.8353,  ...,  0.1765,  0.1137,  0.0745],\n",
                        "          [-0.7961, -0.8196, -0.8510,  ...,  0.2314,  0.0902,  0.0510]],\n",
                        "\n",
                        "         [[-1.0000, -1.0000, -1.0000,  ..., -0.9922, -0.9373, -0.9765],\n",
                        "          [-1.0000, -1.0000, -1.0000,  ..., -0.7804, -0.3412, -0.4039],\n",
                        "          [-1.0000, -1.0000, -1.0000,  ..., -0.4824, -0.2157, -0.4431],\n",
                        "          ...,\n",
                        "          [-0.7725, -0.8118, -0.8118,  ...,  0.1216,  0.1059,  0.0745],\n",
                        "          [-0.7882, -0.8196, -0.8353,  ...,  0.1765,  0.1137,  0.0745],\n",
                        "          [-0.7961, -0.8196, -0.8510,  ...,  0.2314,  0.0902,  0.0510]],\n",
                        "\n",
                        "         [[-1.0000, -1.0000, -1.0000,  ..., -0.9922, -0.9373, -0.9765],\n",
                        "          [-1.0000, -1.0000, -1.0000,  ..., -0.7804, -0.3412, -0.4039],\n",
                        "          [-1.0000, -1.0000, -1.0000,  ..., -0.4824, -0.2157, -0.4431],\n",
                        "          ...,\n",
                        "          [-0.7725, -0.8118, -0.8118,  ...,  0.1216,  0.1059,  0.0745],\n",
                        "          [-0.7882, -0.8196, -0.8353,  ...,  0.1765,  0.1137,  0.0745],\n",
                        "          [-0.7961, -0.8196, -0.8510,  ...,  0.2314,  0.0902,  0.0510]]],\n",
                        "\n",
                        "\n",
                        "        [[[-0.2078, -0.6235, -0.7333,  ..., -0.9137, -0.9137, -0.9137],\n",
                        "          [-0.6941, -0.7490, -0.7569,  ..., -0.8118, -0.7333, -0.7804],\n",
                        "          [-0.7725, -0.7804, -0.7882,  ..., -0.1686, -0.1608, -0.2627],\n",
                        "          ...,\n",
                        "          [-0.8745, -0.8980, -0.8039,  ...,  0.0275, -0.2627, -0.4745],\n",
                        "          [-0.8902, -0.9059, -0.6941,  ...,  0.0275, -0.2392, -0.4353],\n",
                        "          [-0.8667, -0.8902, -0.5843,  ...,  0.0588, -0.2157, -0.4118]],\n",
                        "\n",
                        "         [[-0.2078, -0.6235, -0.7333,  ..., -0.9137, -0.9137, -0.9137],\n",
                        "          [-0.6941, -0.7490, -0.7569,  ..., -0.8118, -0.7333, -0.7804],\n",
                        "          [-0.7725, -0.7804, -0.7882,  ..., -0.1686, -0.1608, -0.2627],\n",
                        "          ...,\n",
                        "          [-0.8745, -0.8980, -0.8039,  ...,  0.0275, -0.2627, -0.4745],\n",
                        "          [-0.8902, -0.9059, -0.6941,  ...,  0.0275, -0.2392, -0.4353],\n",
                        "          [-0.8667, -0.8902, -0.5843,  ...,  0.0588, -0.2157, -0.4118]],\n",
                        "\n",
                        "         [[-0.2078, -0.6235, -0.7333,  ..., -0.9137, -0.9137, -0.9137],\n",
                        "          [-0.6941, -0.7490, -0.7569,  ..., -0.8118, -0.7333, -0.7804],\n",
                        "          [-0.7725, -0.7804, -0.7882,  ..., -0.1686, -0.1608, -0.2627],\n",
                        "          ...,\n",
                        "          [-0.8745, -0.8980, -0.8039,  ...,  0.0275, -0.2627, -0.4745],\n",
                        "          [-0.8902, -0.9059, -0.6941,  ...,  0.0275, -0.2392, -0.4353],\n",
                        "          [-0.8667, -0.8902, -0.5843,  ...,  0.0588, -0.2157, -0.4118]]]],\n",
                        "       device='cuda:0'), 'label_ids': tensor([[ 101, 2229,  185,  ...,    0,    0,    0],\n",
                        "        [ 101, 2229,  193,  ...,    0,    0,    0],\n",
                        "        [ 101, 2229,  170,  ...,    0,    0,    0],\n",
                        "        [ 101, 2229,  185,  ...,    0,    0,    0]], device='cuda:0')}\n",
                        "{'names': ['NLP_CHEST_051', 'NLP_CHEST_010', 'NLP_CHEST_076', 'NLP_CHEST_096'], 'pixel_values': tensor([[[[-0.2549, -0.7176, -0.8431,  ..., -0.8588, -0.8588, -0.8510],\n",
                        "          [-0.7961, -0.8431, -0.8588,  ..., -0.6706, -0.5843, -0.5451],\n",
                        "          [-0.8667, -0.8745, -0.8745,  ..., -0.4745, -0.4902, -0.3961],\n",
                        "          ...,\n",
                        "          [-0.9137, -0.9216, -0.9216,  ..., -0.9843, -0.9765, -0.9686],\n",
                        "          [-0.9059, -0.9137, -0.9137,  ..., -0.9686, -0.9608, -0.9529],\n",
                        "          [-0.8980, -0.8980, -0.8980,  ..., -0.9608, -0.9373, -0.9137]],\n",
                        "\n",
                        "         [[-0.2549, -0.7176, -0.8431,  ..., -0.8588, -0.8588, -0.8510],\n",
                        "          [-0.7961, -0.8431, -0.8588,  ..., -0.6706, -0.5843, -0.5451],\n",
                        "          [-0.8667, -0.8745, -0.8745,  ..., -0.4745, -0.4902, -0.3961],\n",
                        "          ...,\n",
                        "          [-0.9137, -0.9216, -0.9216,  ..., -0.9843, -0.9765, -0.9686],\n",
                        "          [-0.9059, -0.9137, -0.9137,  ..., -0.9686, -0.9608, -0.9529],\n",
                        "          [-0.8980, -0.8980, -0.8980,  ..., -0.9608, -0.9373, -0.9137]],\n",
                        "\n",
                        "         [[-0.2549, -0.7176, -0.8431,  ..., -0.8588, -0.8588, -0.8510],\n",
                        "          [-0.7961, -0.8431, -0.8588,  ..., -0.6706, -0.5843, -0.5451],\n",
                        "          [-0.8667, -0.8745, -0.8745,  ..., -0.4745, -0.4902, -0.3961],\n",
                        "          ...,\n",
                        "          [-0.9137, -0.9216, -0.9216,  ..., -0.9843, -0.9765, -0.9686],\n",
                        "          [-0.9059, -0.9137, -0.9137,  ..., -0.9686, -0.9608, -0.9529],\n",
                        "          [-0.8980, -0.8980, -0.8980,  ..., -0.9608, -0.9373, -0.9137]]],\n",
                        "\n",
                        "\n",
                        "        [[[-0.9216, -0.9216, -0.9216,  ..., -1.0000, -1.0000, -1.0000],\n",
                        "          [-0.9216, -0.9216, -0.9216,  ..., -0.7804, -0.6863, -0.6471],\n",
                        "          [-0.9216, -0.9216, -0.9216,  ..., -0.5608, -0.5608, -0.4745],\n",
                        "          ...,\n",
                        "          [ 0.1843,  0.3647,  0.3961,  ..., -1.0000, -0.9922, -0.9529],\n",
                        "          [ 0.2235,  0.3882,  0.4431,  ..., -1.0000, -0.9765, -0.8824],\n",
                        "          [ 0.2471,  0.3569,  0.4039,  ..., -1.0000, -0.8353, -0.2863]],\n",
                        "\n",
                        "         [[-0.9216, -0.9216, -0.9216,  ..., -1.0000, -1.0000, -1.0000],\n",
                        "          [-0.9216, -0.9216, -0.9216,  ..., -0.7804, -0.6863, -0.6471],\n",
                        "          [-0.9216, -0.9216, -0.9216,  ..., -0.5608, -0.5608, -0.4745],\n",
                        "          ...,\n",
                        "          [ 0.1843,  0.3647,  0.3961,  ..., -1.0000, -0.9922, -0.9529],\n",
                        "          [ 0.2235,  0.3882,  0.4431,  ..., -1.0000, -0.9765, -0.8824],\n",
                        "          [ 0.2471,  0.3569,  0.4039,  ..., -1.0000, -0.8353, -0.2863]],\n",
                        "\n",
                        "         [[-0.9216, -0.9216, -0.9216,  ..., -1.0000, -1.0000, -1.0000],\n",
                        "          [-0.9216, -0.9216, -0.9216,  ..., -0.7804, -0.6863, -0.6471],\n",
                        "          [-0.9216, -0.9216, -0.9216,  ..., -0.5608, -0.5608, -0.4745],\n",
                        "          ...,\n",
                        "          [ 0.1843,  0.3647,  0.3961,  ..., -1.0000, -0.9922, -0.9529],\n",
                        "          [ 0.2235,  0.3882,  0.4431,  ..., -1.0000, -0.9765, -0.8824],\n",
                        "          [ 0.2471,  0.3569,  0.4039,  ..., -1.0000, -0.8353, -0.2863]]],\n",
                        "\n",
                        "\n",
                        "        [[[-1.0000, -1.0000, -1.0000,  ..., -1.0000, -0.8980, -0.6000],\n",
                        "          [-0.9922, -0.9922, -0.9922,  ..., -0.8902, -0.7569, -0.7647],\n",
                        "          [-0.9922, -0.9922, -0.9922,  ..., -0.3098, -0.5059, -0.3098],\n",
                        "          ...,\n",
                        "          [-0.5137, -0.3882, -0.2549,  ...,  0.2157,  0.1529,  0.1137],\n",
                        "          [-0.5059, -0.3647, -0.2314,  ...,  0.2392,  0.1922,  0.1294],\n",
                        "          [-0.4824, -0.3333, -0.2000,  ...,  0.2863,  0.2392,  0.1686]],\n",
                        "\n",
                        "         [[-1.0000, -1.0000, -1.0000,  ..., -1.0000, -0.8980, -0.6000],\n",
                        "          [-0.9922, -0.9922, -0.9922,  ..., -0.8902, -0.7569, -0.7647],\n",
                        "          [-0.9922, -0.9922, -0.9922,  ..., -0.3098, -0.5059, -0.3098],\n",
                        "          ...,\n",
                        "          [-0.5137, -0.3882, -0.2549,  ...,  0.2157,  0.1529,  0.1137],\n",
                        "          [-0.5059, -0.3647, -0.2314,  ...,  0.2392,  0.1922,  0.1294],\n",
                        "          [-0.4824, -0.3333, -0.2000,  ...,  0.2863,  0.2392,  0.1686]],\n",
                        "\n",
                        "         [[-1.0000, -1.0000, -1.0000,  ..., -1.0000, -0.8980, -0.6000],\n",
                        "          [-0.9922, -0.9922, -0.9922,  ..., -0.8902, -0.7569, -0.7647],\n",
                        "          [-0.9922, -0.9922, -0.9922,  ..., -0.3098, -0.5059, -0.3098],\n",
                        "          ...,\n",
                        "          [-0.5137, -0.3882, -0.2549,  ...,  0.2157,  0.1529,  0.1137],\n",
                        "          [-0.5059, -0.3647, -0.2314,  ...,  0.2392,  0.1922,  0.1294],\n",
                        "          [-0.4824, -0.3333, -0.2000,  ...,  0.2863,  0.2392,  0.1686]]],\n",
                        "\n",
                        "\n",
                        "        [[[-0.1843, -0.5373, -0.6392,  ..., -0.7490, -0.7490, -0.7412],\n",
                        "          [-0.6627, -0.7098, -0.7255,  ..., -0.7020, -0.6157, -0.6549],\n",
                        "          [-0.7725, -0.7882, -0.7882,  ..., -0.1922, -0.1608, -0.2471],\n",
                        "          ...,\n",
                        "          [ 0.6392,  0.6471,  0.6706,  ...,  0.5294,  0.4980,  0.4824],\n",
                        "          [ 0.6471,  0.6706,  0.6627,  ...,  0.5137,  0.4980,  0.4745],\n",
                        "          [ 0.6549,  0.6706,  0.6863,  ...,  0.5137,  0.4902,  0.4745]],\n",
                        "\n",
                        "         [[-0.1843, -0.5373, -0.6392,  ..., -0.7490, -0.7490, -0.7412],\n",
                        "          [-0.6627, -0.7098, -0.7255,  ..., -0.7020, -0.6157, -0.6549],\n",
                        "          [-0.7725, -0.7882, -0.7882,  ..., -0.1922, -0.1608, -0.2471],\n",
                        "          ...,\n",
                        "          [ 0.6392,  0.6471,  0.6706,  ...,  0.5294,  0.4980,  0.4824],\n",
                        "          [ 0.6471,  0.6706,  0.6627,  ...,  0.5137,  0.4980,  0.4745],\n",
                        "          [ 0.6549,  0.6706,  0.6863,  ...,  0.5137,  0.4902,  0.4745]],\n",
                        "\n",
                        "         [[-0.1843, -0.5373, -0.6392,  ..., -0.7490, -0.7490, -0.7412],\n",
                        "          [-0.6627, -0.7098, -0.7255,  ..., -0.7020, -0.6157, -0.6549],\n",
                        "          [-0.7725, -0.7882, -0.7882,  ..., -0.1922, -0.1608, -0.2471],\n",
                        "          ...,\n",
                        "          [ 0.6392,  0.6471,  0.6706,  ...,  0.5294,  0.4980,  0.4824],\n",
                        "          [ 0.6471,  0.6706,  0.6627,  ...,  0.5137,  0.4980,  0.4745],\n",
                        "          [ 0.6549,  0.6706,  0.6863,  ...,  0.5137,  0.4902,  0.4745]]]],\n",
                        "       device='cuda:0'), 'label_ids': tensor([[ 101, 2229, 1273,  ...,    0,    0,    0],\n",
                        "        [ 101, 2229,  193,  ...,    0,    0,    0],\n",
                        "        [ 101, 2229, 6188,  ...,    0,    0,    0],\n",
                        "        [ 101, 2229, 6188,  ...,    0,    0,    0]], device='cuda:0')}\n",
                        "{'names': ['NLP_CHEST_082', 'NLP_CHEST_025', 'NLP_CHEST_034', 'NLP_CHEST_044'], 'pixel_values': tensor([[[[-0.7882, -0.7882, -0.7961,  ..., -0.9216, -0.8824, -0.8980],\n",
                        "          [-0.8039, -0.8039, -0.8118,  ..., -0.6627, -0.3490, -0.3647],\n",
                        "          [-0.8196, -0.8196, -0.8353,  ..., -0.3255, -0.2000, -0.4039],\n",
                        "          ...,\n",
                        "          [-0.8196, -0.8588, -0.8980,  ..., -0.9373, -0.9373, -0.9373],\n",
                        "          [-0.8353, -0.8667, -0.9059,  ..., -0.9294, -0.9294, -0.8745],\n",
                        "          [-0.8667, -0.8902, -0.9137,  ..., -0.9294, -0.8667, -0.3490]],\n",
                        "\n",
                        "         [[-0.7882, -0.7882, -0.7961,  ..., -0.9216, -0.8824, -0.8980],\n",
                        "          [-0.8039, -0.8039, -0.8118,  ..., -0.6627, -0.3490, -0.3647],\n",
                        "          [-0.8196, -0.8196, -0.8353,  ..., -0.3255, -0.2000, -0.4039],\n",
                        "          ...,\n",
                        "          [-0.8196, -0.8588, -0.8980,  ..., -0.9373, -0.9373, -0.9373],\n",
                        "          [-0.8353, -0.8667, -0.9059,  ..., -0.9294, -0.9294, -0.8745],\n",
                        "          [-0.8667, -0.8902, -0.9137,  ..., -0.9294, -0.8667, -0.3490]],\n",
                        "\n",
                        "         [[-0.7882, -0.7882, -0.7961,  ..., -0.9216, -0.8824, -0.8980],\n",
                        "          [-0.8039, -0.8039, -0.8118,  ..., -0.6627, -0.3490, -0.3647],\n",
                        "          [-0.8196, -0.8196, -0.8353,  ..., -0.3255, -0.2000, -0.4039],\n",
                        "          ...,\n",
                        "          [-0.8196, -0.8588, -0.8980,  ..., -0.9373, -0.9373, -0.9373],\n",
                        "          [-0.8353, -0.8667, -0.9059,  ..., -0.9294, -0.9294, -0.8745],\n",
                        "          [-0.8667, -0.8902, -0.9137,  ..., -0.9294, -0.8667, -0.3490]]],\n",
                        "\n",
                        "\n",
                        "        [[[-0.8902, -0.8902, -0.8902,  ..., -0.8353, -0.7412, -0.6941],\n",
                        "          [-0.8902, -0.8902, -0.8902,  ..., -0.8824, -0.7804, -0.7804],\n",
                        "          [-0.8824, -0.8824, -0.8902,  ..., -0.9059, -0.8980, -0.8980],\n",
                        "          ...,\n",
                        "          [-0.9608, -0.9608, -0.9608,  ..., -0.9765, -0.9765, -0.9765],\n",
                        "          [-0.9608, -0.9608, -0.9608,  ..., -0.9765, -0.9765, -0.9765],\n",
                        "          [-0.9608, -0.9608, -0.9608,  ..., -0.9765, -0.9765, -0.9765]],\n",
                        "\n",
                        "         [[-0.8902, -0.8902, -0.8902,  ..., -0.8353, -0.7412, -0.6941],\n",
                        "          [-0.8902, -0.8902, -0.8902,  ..., -0.8824, -0.7804, -0.7804],\n",
                        "          [-0.8824, -0.8824, -0.8902,  ..., -0.9059, -0.8980, -0.8980],\n",
                        "          ...,\n",
                        "          [-0.9608, -0.9608, -0.9608,  ..., -0.9765, -0.9765, -0.9765],\n",
                        "          [-0.9608, -0.9608, -0.9608,  ..., -0.9765, -0.9765, -0.9765],\n",
                        "          [-0.9608, -0.9608, -0.9608,  ..., -0.9765, -0.9765, -0.9765]],\n",
                        "\n",
                        "         [[-0.8902, -0.8902, -0.8902,  ..., -0.8353, -0.7412, -0.6941],\n",
                        "          [-0.8902, -0.8902, -0.8902,  ..., -0.8824, -0.7804, -0.7804],\n",
                        "          [-0.8824, -0.8824, -0.8902,  ..., -0.9059, -0.8980, -0.8980],\n",
                        "          ...,\n",
                        "          [-0.9608, -0.9608, -0.9608,  ..., -0.9765, -0.9765, -0.9765],\n",
                        "          [-0.9608, -0.9608, -0.9608,  ..., -0.9765, -0.9765, -0.9765],\n",
                        "          [-0.9608, -0.9608, -0.9608,  ..., -0.9765, -0.9765, -0.9765]]],\n",
                        "\n",
                        "\n",
                        "        [[[-0.9137, -0.9137, -0.9137,  ..., -0.9608, -0.9608, -0.9608],\n",
                        "          [-0.9137, -0.9137, -0.9216,  ..., -0.7490, -0.6549, -0.6157],\n",
                        "          [-0.9137, -0.9137, -0.9216,  ..., -0.5294, -0.5373, -0.4510],\n",
                        "          ...,\n",
                        "          [-0.9137, -0.9059, -0.9294,  ...,  0.3725,  0.2863,  0.2392],\n",
                        "          [-0.9137, -0.9137, -0.9373,  ...,  0.3412,  0.2706,  0.2392],\n",
                        "          [-0.9059, -0.9059, -0.9373,  ...,  0.3098,  0.2000,  0.1137]],\n",
                        "\n",
                        "         [[-0.9137, -0.9137, -0.9137,  ..., -0.9608, -0.9608, -0.9608],\n",
                        "          [-0.9137, -0.9137, -0.9216,  ..., -0.7490, -0.6549, -0.6157],\n",
                        "          [-0.9137, -0.9137, -0.9216,  ..., -0.5294, -0.5373, -0.4510],\n",
                        "          ...,\n",
                        "          [-0.9137, -0.9059, -0.9294,  ...,  0.3725,  0.2863,  0.2392],\n",
                        "          [-0.9137, -0.9137, -0.9373,  ...,  0.3412,  0.2706,  0.2392],\n",
                        "          [-0.9059, -0.9059, -0.9373,  ...,  0.3098,  0.2000,  0.1137]],\n",
                        "\n",
                        "         [[-0.9137, -0.9137, -0.9137,  ..., -0.9608, -0.9608, -0.9608],\n",
                        "          [-0.9137, -0.9137, -0.9216,  ..., -0.7490, -0.6549, -0.6157],\n",
                        "          [-0.9137, -0.9137, -0.9216,  ..., -0.5294, -0.5373, -0.4510],\n",
                        "          ...,\n",
                        "          [-0.9137, -0.9059, -0.9294,  ...,  0.3725,  0.2863,  0.2392],\n",
                        "          [-0.9137, -0.9137, -0.9373,  ...,  0.3412,  0.2706,  0.2392],\n",
                        "          [-0.9059, -0.9059, -0.9373,  ...,  0.3098,  0.2000,  0.1137]]],\n",
                        "\n",
                        "\n",
                        "        [[[ 0.5843, -0.0745, -0.7333,  ..., -0.8902, -0.8902, -0.8902],\n",
                        "          [ 0.7961,  0.7961,  0.5059,  ..., -0.8980, -0.8902, -0.8980],\n",
                        "          [ 0.7961,  0.8353,  0.8353,  ..., -0.9059, -0.8980, -0.9059],\n",
                        "          ...,\n",
                        "          [ 0.6078,  0.5922,  0.5843,  ..., -0.6471, -0.6784, -0.6863],\n",
                        "          [ 0.6000,  0.6000,  0.5843,  ..., -0.6157, -0.6627, -0.6627],\n",
                        "          [ 0.3569,  0.3490,  0.3412,  ..., -0.6157, -0.6471, -0.6549]],\n",
                        "\n",
                        "         [[ 0.5843, -0.0745, -0.7333,  ..., -0.8902, -0.8902, -0.8902],\n",
                        "          [ 0.7961,  0.7961,  0.5059,  ..., -0.8980, -0.8902, -0.8980],\n",
                        "          [ 0.7961,  0.8353,  0.8353,  ..., -0.9059, -0.8980, -0.9059],\n",
                        "          ...,\n",
                        "          [ 0.6078,  0.5922,  0.5843,  ..., -0.6471, -0.6784, -0.6863],\n",
                        "          [ 0.6000,  0.6000,  0.5843,  ..., -0.6157, -0.6627, -0.6627],\n",
                        "          [ 0.3569,  0.3490,  0.3412,  ..., -0.6157, -0.6471, -0.6549]],\n",
                        "\n",
                        "         [[ 0.5843, -0.0745, -0.7333,  ..., -0.8902, -0.8902, -0.8902],\n",
                        "          [ 0.7961,  0.7961,  0.5059,  ..., -0.8980, -0.8902, -0.8980],\n",
                        "          [ 0.7961,  0.8353,  0.8353,  ..., -0.9059, -0.8980, -0.9059],\n",
                        "          ...,\n",
                        "          [ 0.6078,  0.5922,  0.5843,  ..., -0.6471, -0.6784, -0.6863],\n",
                        "          [ 0.6000,  0.6000,  0.5843,  ..., -0.6157, -0.6627, -0.6627],\n",
                        "          [ 0.3569,  0.3490,  0.3412,  ..., -0.6157, -0.6471, -0.6549]]]],\n",
                        "       device='cuda:0'), 'label_ids': tensor([[ 101, 2229,  185,  ...,    0,    0,    0],\n",
                        "        [ 101, 2229, 1273,  ...,    0,    0,    0],\n",
                        "        [ 101, 2229, 6188,  ...,    0,    0,    0],\n",
                        "        [ 101, 2229, 6188,  ...,    0,    0,    0]], device='cuda:0')}\n",
                        "{'names': ['NLP_CHEST_062', 'NLP_CHEST_007', 'NLP_CHEST_037', 'NLP_CHEST_039'], 'pixel_values': tensor([[[[-1.0000, -1.0000, -1.0000,  ..., -0.5373, -0.0118, -0.4353],\n",
                        "          [-1.0000, -1.0000, -1.0000,  ..., -0.3569,  0.2392, -0.2235],\n",
                        "          [-1.0000, -1.0000, -1.0000,  ..., -0.8588, -0.5843, -0.8196],\n",
                        "          ...,\n",
                        "          [-1.0000, -1.0000, -1.0000,  ..., -0.9608, -0.9294, -0.9137],\n",
                        "          [-1.0000, -1.0000, -1.0000,  ..., -0.9608, -0.9373, -0.9216],\n",
                        "          [-1.0000, -1.0000, -1.0000,  ..., -0.9529, -0.9451, -0.9216]],\n",
                        "\n",
                        "         [[-1.0000, -1.0000, -1.0000,  ..., -0.5373, -0.0118, -0.4353],\n",
                        "          [-1.0000, -1.0000, -1.0000,  ..., -0.3569,  0.2392, -0.2235],\n",
                        "          [-1.0000, -1.0000, -1.0000,  ..., -0.8588, -0.5843, -0.8196],\n",
                        "          ...,\n",
                        "          [-1.0000, -1.0000, -1.0000,  ..., -0.9608, -0.9294, -0.9137],\n",
                        "          [-1.0000, -1.0000, -1.0000,  ..., -0.9608, -0.9373, -0.9216],\n",
                        "          [-1.0000, -1.0000, -1.0000,  ..., -0.9529, -0.9451, -0.9216]],\n",
                        "\n",
                        "         [[-1.0000, -1.0000, -1.0000,  ..., -0.5373, -0.0118, -0.4353],\n",
                        "          [-1.0000, -1.0000, -1.0000,  ..., -0.3569,  0.2392, -0.2235],\n",
                        "          [-1.0000, -1.0000, -1.0000,  ..., -0.8588, -0.5843, -0.8196],\n",
                        "          ...,\n",
                        "          [-1.0000, -1.0000, -1.0000,  ..., -0.9608, -0.9294, -0.9137],\n",
                        "          [-1.0000, -1.0000, -1.0000,  ..., -0.9608, -0.9373, -0.9216],\n",
                        "          [-1.0000, -1.0000, -1.0000,  ..., -0.9529, -0.9451, -0.9216]]],\n",
                        "\n",
                        "\n",
                        "        [[[-0.6549, -0.6549, -0.6549,  ..., -0.7490, -0.6784, -0.5216],\n",
                        "          [-0.6627, -0.6627, -0.6627,  ..., -0.7569, -0.7490, -0.7098],\n",
                        "          [-0.6627, -0.6627, -0.6627,  ..., -0.7569, -0.7569, -0.7490],\n",
                        "          ...,\n",
                        "          [-1.0000, -1.0000, -0.9922,  ...,  0.4980,  0.5137,  0.5059],\n",
                        "          [-1.0000, -1.0000, -0.9843,  ...,  0.4980,  0.5137,  0.5216],\n",
                        "          [-1.0000, -1.0000, -0.9765,  ...,  0.5294,  0.5294,  0.5529]],\n",
                        "\n",
                        "         [[-0.6549, -0.6549, -0.6549,  ..., -0.7490, -0.6784, -0.5216],\n",
                        "          [-0.6627, -0.6627, -0.6627,  ..., -0.7569, -0.7490, -0.7098],\n",
                        "          [-0.6627, -0.6627, -0.6627,  ..., -0.7569, -0.7569, -0.7490],\n",
                        "          ...,\n",
                        "          [-1.0000, -1.0000, -0.9922,  ...,  0.4980,  0.5137,  0.5059],\n",
                        "          [-1.0000, -1.0000, -0.9843,  ...,  0.4980,  0.5137,  0.5216],\n",
                        "          [-1.0000, -1.0000, -0.9765,  ...,  0.5294,  0.5294,  0.5529]],\n",
                        "\n",
                        "         [[-0.6549, -0.6549, -0.6549,  ..., -0.7490, -0.6784, -0.5216],\n",
                        "          [-0.6627, -0.6627, -0.6627,  ..., -0.7569, -0.7490, -0.7098],\n",
                        "          [-0.6627, -0.6627, -0.6627,  ..., -0.7569, -0.7569, -0.7490],\n",
                        "          ...,\n",
                        "          [-1.0000, -1.0000, -0.9922,  ...,  0.4980,  0.5137,  0.5059],\n",
                        "          [-1.0000, -1.0000, -0.9843,  ...,  0.4980,  0.5137,  0.5216],\n",
                        "          [-1.0000, -1.0000, -0.9765,  ...,  0.5294,  0.5294,  0.5529]]],\n",
                        "\n",
                        "\n",
                        "        [[[ 0.1373,  0.2863,  0.3333,  ..., -0.3412, -0.3412, -0.3412],\n",
                        "          [ 0.0980,  0.1059,  0.1059,  ..., -0.3804, -0.3176, -0.3412],\n",
                        "          [-0.1294, -0.1294, -0.1451,  ..., -0.0353, -0.0196, -0.0745],\n",
                        "          ...,\n",
                        "          [-0.5922, -0.4667, -0.3569,  ...,  0.0510, -0.1216, -0.3882],\n",
                        "          [-0.6235, -0.4745, -0.3412,  ...,  0.0745, -0.0745, -0.2706],\n",
                        "          [-0.6157, -0.4588, -0.3020,  ...,  0.1137, -0.0196, -0.1765]],\n",
                        "\n",
                        "         [[ 0.1373,  0.2863,  0.3333,  ..., -0.3412, -0.3412, -0.3412],\n",
                        "          [ 0.0980,  0.1059,  0.1059,  ..., -0.3804, -0.3176, -0.3412],\n",
                        "          [-0.1294, -0.1294, -0.1451,  ..., -0.0353, -0.0196, -0.0745],\n",
                        "          ...,\n",
                        "          [-0.5922, -0.4667, -0.3569,  ...,  0.0510, -0.1216, -0.3882],\n",
                        "          [-0.6235, -0.4745, -0.3412,  ...,  0.0745, -0.0745, -0.2706],\n",
                        "          [-0.6157, -0.4588, -0.3020,  ...,  0.1137, -0.0196, -0.1765]],\n",
                        "\n",
                        "         [[ 0.1373,  0.2863,  0.3333,  ..., -0.3412, -0.3412, -0.3412],\n",
                        "          [ 0.0980,  0.1059,  0.1059,  ..., -0.3804, -0.3176, -0.3412],\n",
                        "          [-0.1294, -0.1294, -0.1451,  ..., -0.0353, -0.0196, -0.0745],\n",
                        "          ...,\n",
                        "          [-0.5922, -0.4667, -0.3569,  ...,  0.0510, -0.1216, -0.3882],\n",
                        "          [-0.6235, -0.4745, -0.3412,  ...,  0.0745, -0.0745, -0.2706],\n",
                        "          [-0.6157, -0.4588, -0.3020,  ...,  0.1137, -0.0196, -0.1765]]],\n",
                        "\n",
                        "\n",
                        "        [[[-1.0000, -1.0000, -1.0000,  ..., -0.8039, -0.7961, -0.7882],\n",
                        "          [-1.0000, -1.0000, -1.0000,  ..., -0.8745, -0.7961, -0.8353],\n",
                        "          [-1.0000, -1.0000, -1.0000,  ..., -0.2941, -0.2471, -0.3412],\n",
                        "          ...,\n",
                        "          [ 0.0118,  0.0667,  0.1216,  ..., -1.0000, -1.0000, -1.0000],\n",
                        "          [ 0.0588,  0.0980,  0.1451,  ..., -1.0000, -0.9843, -0.9294],\n",
                        "          [ 0.0980,  0.1529,  0.1922,  ..., -1.0000, -0.8667, -0.3098]],\n",
                        "\n",
                        "         [[-1.0000, -1.0000, -1.0000,  ..., -0.8039, -0.7961, -0.7882],\n",
                        "          [-1.0000, -1.0000, -1.0000,  ..., -0.8745, -0.7961, -0.8353],\n",
                        "          [-1.0000, -1.0000, -1.0000,  ..., -0.2941, -0.2471, -0.3412],\n",
                        "          ...,\n",
                        "          [ 0.0118,  0.0667,  0.1216,  ..., -1.0000, -1.0000, -1.0000],\n",
                        "          [ 0.0588,  0.0980,  0.1451,  ..., -1.0000, -0.9843, -0.9294],\n",
                        "          [ 0.0980,  0.1529,  0.1922,  ..., -1.0000, -0.8667, -0.3098]],\n",
                        "\n",
                        "         [[-1.0000, -1.0000, -1.0000,  ..., -0.8039, -0.7961, -0.7882],\n",
                        "          [-1.0000, -1.0000, -1.0000,  ..., -0.8745, -0.7961, -0.8353],\n",
                        "          [-1.0000, -1.0000, -1.0000,  ..., -0.2941, -0.2471, -0.3412],\n",
                        "          ...,\n",
                        "          [ 0.0118,  0.0667,  0.1216,  ..., -1.0000, -1.0000, -1.0000],\n",
                        "          [ 0.0588,  0.0980,  0.1451,  ..., -1.0000, -0.9843, -0.9294],\n",
                        "          [ 0.0980,  0.1529,  0.1922,  ..., -1.0000, -0.8667, -0.3098]]]],\n",
                        "       device='cuda:0'), 'label_ids': tensor([[ 101, 2229, 6188,  ...,    0,    0,    0],\n",
                        "        [ 101, 2229,  185,  ...,    0,    0,    0],\n",
                        "        [ 101, 2229, 6188,  ...,    0,    0,    0],\n",
                        "        [ 101, 2229, 6188,  ...,    0,    0,    0]], device='cuda:0')}\n",
                        "{'names': ['NLP_CHEST_028', 'NLP_CHEST_098', 'NLP_CHEST_047', 'NLP_CHEST_055'], 'pixel_values': tensor([[[[-0.5686, -0.5686, -0.5686,  ..., -0.5765, -0.5294, -0.4588],\n",
                        "          [-0.5843, -0.5843, -0.5843,  ..., -0.5843, -0.5765, -0.5529],\n",
                        "          [-0.5843, -0.5843, -0.5922,  ..., -0.5922, -0.5922, -0.5843],\n",
                        "          ...,\n",
                        "          [-0.5216, -0.5294, -0.5451,  ..., -0.6078, -0.6078, -0.6000],\n",
                        "          [-0.5216, -0.5294, -0.5373,  ..., -0.6000, -0.6000, -0.6000],\n",
                        "          [-0.5059, -0.5137, -0.5216,  ..., -0.5922, -0.5922, -0.5922]],\n",
                        "\n",
                        "         [[-0.5686, -0.5686, -0.5686,  ..., -0.5765, -0.5294, -0.4588],\n",
                        "          [-0.5843, -0.5843, -0.5843,  ..., -0.5843, -0.5765, -0.5529],\n",
                        "          [-0.5843, -0.5843, -0.5922,  ..., -0.5922, -0.5922, -0.5843],\n",
                        "          ...,\n",
                        "          [-0.5216, -0.5294, -0.5451,  ..., -0.6078, -0.6078, -0.6000],\n",
                        "          [-0.5216, -0.5294, -0.5373,  ..., -0.6000, -0.6000, -0.6000],\n",
                        "          [-0.5059, -0.5137, -0.5216,  ..., -0.5922, -0.5922, -0.5922]],\n",
                        "\n",
                        "         [[-0.5686, -0.5686, -0.5686,  ..., -0.5765, -0.5294, -0.4588],\n",
                        "          [-0.5843, -0.5843, -0.5843,  ..., -0.5843, -0.5765, -0.5529],\n",
                        "          [-0.5843, -0.5843, -0.5922,  ..., -0.5922, -0.5922, -0.5843],\n",
                        "          ...,\n",
                        "          [-0.5216, -0.5294, -0.5451,  ..., -0.6078, -0.6078, -0.6000],\n",
                        "          [-0.5216, -0.5294, -0.5373,  ..., -0.6000, -0.6000, -0.6000],\n",
                        "          [-0.5059, -0.5137, -0.5216,  ..., -0.5922, -0.5922, -0.5922]]],\n",
                        "\n",
                        "\n",
                        "        [[[-0.2706, -0.7804, -0.9373,  ..., -0.8510, -0.8039, -0.8431],\n",
                        "          [-0.8745, -0.9294, -0.9451,  ..., -0.5922, -0.2549, -0.3098],\n",
                        "          [-0.9451, -0.9451, -0.9451,  ..., -0.3961, -0.1608, -0.3647],\n",
                        "          ...,\n",
                        "          [-0.1373, -0.0667,  0.0039,  ..., -0.5059, -0.6471, -0.7804],\n",
                        "          [-0.0824, -0.0118,  0.0431,  ..., -0.5765, -0.6863, -0.8196],\n",
                        "          [-0.0667,  0.0196,  0.0588,  ..., -0.6471, -0.7255, -0.8510]],\n",
                        "\n",
                        "         [[-0.2706, -0.7804, -0.9373,  ..., -0.8510, -0.8039, -0.8431],\n",
                        "          [-0.8745, -0.9294, -0.9451,  ..., -0.5922, -0.2549, -0.3098],\n",
                        "          [-0.9451, -0.9451, -0.9451,  ..., -0.3961, -0.1608, -0.3647],\n",
                        "          ...,\n",
                        "          [-0.1373, -0.0667,  0.0039,  ..., -0.5059, -0.6471, -0.7804],\n",
                        "          [-0.0824, -0.0118,  0.0431,  ..., -0.5765, -0.6863, -0.8196],\n",
                        "          [-0.0667,  0.0196,  0.0588,  ..., -0.6471, -0.7255, -0.8510]],\n",
                        "\n",
                        "         [[-0.2706, -0.7804, -0.9373,  ..., -0.8510, -0.8039, -0.8431],\n",
                        "          [-0.8745, -0.9294, -0.9451,  ..., -0.5922, -0.2549, -0.3098],\n",
                        "          [-0.9451, -0.9451, -0.9451,  ..., -0.3961, -0.1608, -0.3647],\n",
                        "          ...,\n",
                        "          [-0.1373, -0.0667,  0.0039,  ..., -0.5059, -0.6471, -0.7804],\n",
                        "          [-0.0824, -0.0118,  0.0431,  ..., -0.5765, -0.6863, -0.8196],\n",
                        "          [-0.0667,  0.0196,  0.0588,  ..., -0.6471, -0.7255, -0.8510]]],\n",
                        "\n",
                        "\n",
                        "        [[[-0.3569, -0.8902, -0.9529,  ..., -0.9216, -0.8824, -0.8980],\n",
                        "          [-0.8980, -0.9529, -0.9608,  ..., -0.6627, -0.3490, -0.3647],\n",
                        "          [-0.9686, -0.9686, -0.9686,  ..., -0.3255, -0.2000, -0.4039],\n",
                        "          ...,\n",
                        "          [-1.0000, -1.0000, -1.0000,  ..., -0.5843, -0.7725, -0.9137],\n",
                        "          [-1.0000, -1.0000, -1.0000,  ..., -0.5059, -0.6941, -0.8588],\n",
                        "          [-1.0000, -1.0000, -1.0000,  ..., -0.4745, -0.6471, -0.7961]],\n",
                        "\n",
                        "         [[-0.3569, -0.8902, -0.9529,  ..., -0.9216, -0.8824, -0.8980],\n",
                        "          [-0.8980, -0.9529, -0.9608,  ..., -0.6627, -0.3490, -0.3647],\n",
                        "          [-0.9686, -0.9686, -0.9686,  ..., -0.3255, -0.2000, -0.4039],\n",
                        "          ...,\n",
                        "          [-1.0000, -1.0000, -1.0000,  ..., -0.5843, -0.7725, -0.9137],\n",
                        "          [-1.0000, -1.0000, -1.0000,  ..., -0.5059, -0.6941, -0.8588],\n",
                        "          [-1.0000, -1.0000, -1.0000,  ..., -0.4745, -0.6471, -0.7961]],\n",
                        "\n",
                        "         [[-0.3569, -0.8902, -0.9529,  ..., -0.9216, -0.8824, -0.8980],\n",
                        "          [-0.8980, -0.9529, -0.9608,  ..., -0.6627, -0.3490, -0.3647],\n",
                        "          [-0.9686, -0.9686, -0.9686,  ..., -0.3255, -0.2000, -0.4039],\n",
                        "          ...,\n",
                        "          [-1.0000, -1.0000, -1.0000,  ..., -0.5843, -0.7725, -0.9137],\n",
                        "          [-1.0000, -1.0000, -1.0000,  ..., -0.5059, -0.6941, -0.8588],\n",
                        "          [-1.0000, -1.0000, -1.0000,  ..., -0.4745, -0.6471, -0.7961]]],\n",
                        "\n",
                        "\n",
                        "        [[[-0.7882, -0.7961, -0.7961,  ..., -0.7490, -0.6863, -0.5216],\n",
                        "          [-0.7961, -0.7961, -0.7961,  ..., -0.7647, -0.7569, -0.7176],\n",
                        "          [-0.8039, -0.8039, -0.8039,  ..., -0.7647, -0.7647, -0.7569],\n",
                        "          ...,\n",
                        "          [-0.3490, -0.2863, -0.2392,  ..., -1.0000, -1.0000, -1.0000],\n",
                        "          [-0.3647, -0.3020, -0.2549,  ..., -1.0000, -1.0000, -1.0000],\n",
                        "          [-0.3647, -0.3020, -0.2706,  ..., -1.0000, -1.0000, -1.0000]],\n",
                        "\n",
                        "         [[-0.7882, -0.7961, -0.7961,  ..., -0.7490, -0.6863, -0.5216],\n",
                        "          [-0.7961, -0.7961, -0.7961,  ..., -0.7647, -0.7569, -0.7176],\n",
                        "          [-0.8039, -0.8039, -0.8039,  ..., -0.7647, -0.7647, -0.7569],\n",
                        "          ...,\n",
                        "          [-0.3490, -0.2863, -0.2392,  ..., -1.0000, -1.0000, -1.0000],\n",
                        "          [-0.3647, -0.3020, -0.2549,  ..., -1.0000, -1.0000, -1.0000],\n",
                        "          [-0.3647, -0.3020, -0.2706,  ..., -1.0000, -1.0000, -1.0000]],\n",
                        "\n",
                        "         [[-0.7882, -0.7961, -0.7961,  ..., -0.7490, -0.6863, -0.5216],\n",
                        "          [-0.7961, -0.7961, -0.7961,  ..., -0.7647, -0.7569, -0.7176],\n",
                        "          [-0.8039, -0.8039, -0.8039,  ..., -0.7647, -0.7647, -0.7569],\n",
                        "          ...,\n",
                        "          [-0.3490, -0.2863, -0.2392,  ..., -1.0000, -1.0000, -1.0000],\n",
                        "          [-0.3647, -0.3020, -0.2549,  ..., -1.0000, -1.0000, -1.0000],\n",
                        "          [-0.3647, -0.3020, -0.2706,  ..., -1.0000, -1.0000, -1.0000]]]],\n",
                        "       device='cuda:0'), 'label_ids': tensor([[ 101, 2229,  185,  ...,    0,    0,    0],\n",
                        "        [ 101, 2229,  185,  ...,    0,    0,    0],\n",
                        "        [ 101, 1107, 8702,  ...,    0,    0,    0],\n",
                        "        [ 101, 2229, 6188,  ...,    0,    0,    0]], device='cuda:0')}\n",
                        "{'names': ['NLP_CHEST_070', 'NLP_CHEST_072', 'NLP_CHEST_005', 'NLP_CHEST_093'], 'pixel_values': tensor([[[[-0.9373, -0.9294, -0.9294,  ..., -0.9137, -0.8902, -0.8980],\n",
                        "          [-0.9373, -0.9294, -0.9294,  ..., -0.6392, -0.3647, -0.3725],\n",
                        "          [-0.9373, -0.9294, -0.9294,  ..., -0.3098, -0.2157, -0.3569],\n",
                        "          ...,\n",
                        "          [-0.9608, -0.9529, -0.9529,  ..., -0.9529, -0.9529, -0.9529],\n",
                        "          [-0.8824, -0.9451, -0.9529,  ..., -0.9529, -0.9529, -0.9529],\n",
                        "          [-0.3490, -0.8824, -0.9451,  ..., -0.9608, -0.9608, -0.9608]],\n",
                        "\n",
                        "         [[-0.9373, -0.9294, -0.9294,  ..., -0.9137, -0.8902, -0.8980],\n",
                        "          [-0.9373, -0.9294, -0.9294,  ..., -0.6392, -0.3647, -0.3725],\n",
                        "          [-0.9373, -0.9294, -0.9294,  ..., -0.3098, -0.2157, -0.3569],\n",
                        "          ...,\n",
                        "          [-0.9608, -0.9529, -0.9529,  ..., -0.9529, -0.9529, -0.9529],\n",
                        "          [-0.8824, -0.9451, -0.9529,  ..., -0.9529, -0.9529, -0.9529],\n",
                        "          [-0.3490, -0.8824, -0.9451,  ..., -0.9608, -0.9608, -0.9608]],\n",
                        "\n",
                        "         [[-0.9373, -0.9294, -0.9294,  ..., -0.9137, -0.8902, -0.8980],\n",
                        "          [-0.9373, -0.9294, -0.9294,  ..., -0.6392, -0.3647, -0.3725],\n",
                        "          [-0.9373, -0.9294, -0.9294,  ..., -0.3098, -0.2157, -0.3569],\n",
                        "          ...,\n",
                        "          [-0.9608, -0.9529, -0.9529,  ..., -0.9529, -0.9529, -0.9529],\n",
                        "          [-0.8824, -0.9451, -0.9529,  ..., -0.9529, -0.9529, -0.9529],\n",
                        "          [-0.3490, -0.8824, -0.9451,  ..., -0.9608, -0.9608, -0.9608]]],\n",
                        "\n",
                        "\n",
                        "        [[[-1.0000, -1.0000, -1.0000,  ..., -0.8039, -0.7961, -0.7882],\n",
                        "          [-1.0000, -1.0000, -1.0000,  ..., -0.8745, -0.7961, -0.8353],\n",
                        "          [-1.0000, -1.0000, -1.0000,  ..., -0.2941, -0.2471, -0.3412],\n",
                        "          ...,\n",
                        "          [ 0.0118,  0.0667,  0.1216,  ..., -1.0000, -1.0000, -1.0000],\n",
                        "          [ 0.0588,  0.0980,  0.1451,  ..., -1.0000, -0.9843, -0.9294],\n",
                        "          [ 0.0980,  0.1529,  0.1922,  ..., -1.0000, -0.8667, -0.3098]],\n",
                        "\n",
                        "         [[-1.0000, -1.0000, -1.0000,  ..., -0.8039, -0.7961, -0.7882],\n",
                        "          [-1.0000, -1.0000, -1.0000,  ..., -0.8745, -0.7961, -0.8353],\n",
                        "          [-1.0000, -1.0000, -1.0000,  ..., -0.2941, -0.2471, -0.3412],\n",
                        "          ...,\n",
                        "          [ 0.0118,  0.0667,  0.1216,  ..., -1.0000, -1.0000, -1.0000],\n",
                        "          [ 0.0588,  0.0980,  0.1451,  ..., -1.0000, -0.9843, -0.9294],\n",
                        "          [ 0.0980,  0.1529,  0.1922,  ..., -1.0000, -0.8667, -0.3098]],\n",
                        "\n",
                        "         [[-1.0000, -1.0000, -1.0000,  ..., -0.8039, -0.7961, -0.7882],\n",
                        "          [-1.0000, -1.0000, -1.0000,  ..., -0.8745, -0.7961, -0.8353],\n",
                        "          [-1.0000, -1.0000, -1.0000,  ..., -0.2941, -0.2471, -0.3412],\n",
                        "          ...,\n",
                        "          [ 0.0118,  0.0667,  0.1216,  ..., -1.0000, -1.0000, -1.0000],\n",
                        "          [ 0.0588,  0.0980,  0.1451,  ..., -1.0000, -0.9843, -0.9294],\n",
                        "          [ 0.0980,  0.1529,  0.1922,  ..., -1.0000, -0.8667, -0.3098]]],\n",
                        "\n",
                        "\n",
                        "        [[[-0.9686, -0.9686, -0.9686,  ..., -0.9686, -0.9373, -0.9529],\n",
                        "          [-0.9686, -0.9608, -0.9608,  ..., -0.6784, -0.3961, -0.4039],\n",
                        "          [-0.9686, -0.9608, -0.9608,  ..., -0.3412, -0.2471, -0.3882],\n",
                        "          ...,\n",
                        "          [-0.9373, -0.9373, -0.9451,  ..., -0.7647, -0.8824, -0.9608],\n",
                        "          [-0.8745, -0.9373, -0.9451,  ..., -0.7647, -0.8745, -0.9608],\n",
                        "          [-0.3490, -0.8824, -0.9451,  ..., -0.7569, -0.8745, -0.9608]],\n",
                        "\n",
                        "         [[-0.9686, -0.9686, -0.9686,  ..., -0.9686, -0.9373, -0.9529],\n",
                        "          [-0.9686, -0.9608, -0.9608,  ..., -0.6784, -0.3961, -0.4039],\n",
                        "          [-0.9686, -0.9608, -0.9608,  ..., -0.3412, -0.2471, -0.3882],\n",
                        "          ...,\n",
                        "          [-0.9373, -0.9373, -0.9451,  ..., -0.7647, -0.8824, -0.9608],\n",
                        "          [-0.8745, -0.9373, -0.9451,  ..., -0.7647, -0.8745, -0.9608],\n",
                        "          [-0.3490, -0.8824, -0.9451,  ..., -0.7569, -0.8745, -0.9608]],\n",
                        "\n",
                        "         [[-0.9686, -0.9686, -0.9686,  ..., -0.9686, -0.9373, -0.9529],\n",
                        "          [-0.9686, -0.9608, -0.9608,  ..., -0.6784, -0.3961, -0.4039],\n",
                        "          [-0.9686, -0.9608, -0.9608,  ..., -0.3412, -0.2471, -0.3882],\n",
                        "          ...,\n",
                        "          [-0.9373, -0.9373, -0.9451,  ..., -0.7647, -0.8824, -0.9608],\n",
                        "          [-0.8745, -0.9373, -0.9451,  ..., -0.7647, -0.8745, -0.9608],\n",
                        "          [-0.3490, -0.8824, -0.9451,  ..., -0.7569, -0.8745, -0.9608]]],\n",
                        "\n",
                        "\n",
                        "        [[[-0.3412, -0.8510, -0.9137,  ..., -0.7020, -0.6863, -0.7333],\n",
                        "          [-0.8588, -0.9137, -0.9216,  ..., -0.4980, -0.1922, -0.1843],\n",
                        "          [-0.9216, -0.9216, -0.9216,  ..., -0.2941, -0.1686, -0.3647],\n",
                        "          ...,\n",
                        "          [-0.4980, -0.3647, -0.2549,  ..., -0.7882, -0.7490, -0.6627],\n",
                        "          [-0.4745, -0.3961, -0.2706,  ..., -0.7882, -0.7412, -0.6078],\n",
                        "          [-0.4980, -0.4196, -0.3098,  ..., -0.7882, -0.7412, -0.6157]],\n",
                        "\n",
                        "         [[-0.3412, -0.8510, -0.9137,  ..., -0.7020, -0.6863, -0.7333],\n",
                        "          [-0.8588, -0.9137, -0.9216,  ..., -0.4980, -0.1922, -0.1843],\n",
                        "          [-0.9216, -0.9216, -0.9216,  ..., -0.2941, -0.1686, -0.3647],\n",
                        "          ...,\n",
                        "          [-0.4980, -0.3647, -0.2549,  ..., -0.7882, -0.7490, -0.6627],\n",
                        "          [-0.4745, -0.3961, -0.2706,  ..., -0.7882, -0.7412, -0.6078],\n",
                        "          [-0.4980, -0.4196, -0.3098,  ..., -0.7882, -0.7412, -0.6157]],\n",
                        "\n",
                        "         [[-0.3412, -0.8510, -0.9137,  ..., -0.7020, -0.6863, -0.7333],\n",
                        "          [-0.8588, -0.9137, -0.9216,  ..., -0.4980, -0.1922, -0.1843],\n",
                        "          [-0.9216, -0.9216, -0.9216,  ..., -0.2941, -0.1686, -0.3647],\n",
                        "          ...,\n",
                        "          [-0.4980, -0.3647, -0.2549,  ..., -0.7882, -0.7490, -0.6627],\n",
                        "          [-0.4745, -0.3961, -0.2706,  ..., -0.7882, -0.7412, -0.6078],\n",
                        "          [-0.4980, -0.4196, -0.3098,  ..., -0.7882, -0.7412, -0.6157]]]],\n",
                        "       device='cuda:0'), 'label_ids': tensor([[ 101, 2229, 6188,  ...,    0,    0,    0],\n",
                        "        [ 101, 2229, 6188,  ...,    0,    0,    0],\n",
                        "        [ 101, 2229,  185,  ...,    0,    0,    0],\n",
                        "        [ 101, 2229, 6188,  ...,    0,    0,    0]], device='cuda:0')}\n",
                        "{'names': ['NLP_CHEST_075', 'NLP_CHEST_029', 'NLP_CHEST_017', 'NLP_CHEST_078'], 'pixel_values': tensor([[[[-0.2157, -0.6078, -0.7176,  ..., -0.8196, -0.8196, -0.8196],\n",
                        "          [-0.6941, -0.7333, -0.7412,  ..., -0.6392, -0.5529, -0.5137],\n",
                        "          [-0.7725, -0.7725, -0.7725,  ..., -0.4431, -0.4588, -0.3725],\n",
                        "          ...,\n",
                        "          [-0.9294, -0.9216, -0.9216,  ..., -0.0824, -0.3176, -0.5373],\n",
                        "          [-0.9294, -0.9216, -0.9137,  ..., -0.0353, -0.2941, -0.5137],\n",
                        "          [-0.9059, -0.9059, -0.8980,  ...,  0.0039, -0.2392, -0.4588]],\n",
                        "\n",
                        "         [[-0.2157, -0.6078, -0.7176,  ..., -0.8196, -0.8196, -0.8196],\n",
                        "          [-0.6941, -0.7333, -0.7412,  ..., -0.6392, -0.5529, -0.5137],\n",
                        "          [-0.7725, -0.7725, -0.7725,  ..., -0.4431, -0.4588, -0.3725],\n",
                        "          ...,\n",
                        "          [-0.9294, -0.9216, -0.9216,  ..., -0.0824, -0.3176, -0.5373],\n",
                        "          [-0.9294, -0.9216, -0.9137,  ..., -0.0353, -0.2941, -0.5137],\n",
                        "          [-0.9059, -0.9059, -0.8980,  ...,  0.0039, -0.2392, -0.4588]],\n",
                        "\n",
                        "         [[-0.2157, -0.6078, -0.7176,  ..., -0.8196, -0.8196, -0.8196],\n",
                        "          [-0.6941, -0.7333, -0.7412,  ..., -0.6392, -0.5529, -0.5137],\n",
                        "          [-0.7725, -0.7725, -0.7725,  ..., -0.4431, -0.4588, -0.3725],\n",
                        "          ...,\n",
                        "          [-0.9294, -0.9216, -0.9216,  ..., -0.0824, -0.3176, -0.5373],\n",
                        "          [-0.9294, -0.9216, -0.9137,  ..., -0.0353, -0.2941, -0.5137],\n",
                        "          [-0.9059, -0.9059, -0.8980,  ...,  0.0039, -0.2392, -0.4588]]],\n",
                        "\n",
                        "\n",
                        "        [[[-0.9765, -0.9765, -0.9765,  ..., -0.9765, -0.9373, -0.9529],\n",
                        "          [-0.9843, -0.9843, -0.9922,  ..., -0.7098, -0.3804, -0.3961],\n",
                        "          [-0.9922, -0.9922, -0.9922,  ..., -0.3490, -0.2235, -0.4353],\n",
                        "          ...,\n",
                        "          [-0.9059, -0.8980, -0.9059,  ..., -1.0000, -1.0000, -1.0000],\n",
                        "          [-0.9059, -0.8980, -0.8902,  ..., -1.0000, -0.9922, -0.9373],\n",
                        "          [-0.9059, -0.8824, -0.8824,  ..., -1.0000, -0.9294, -0.3725]],\n",
                        "\n",
                        "         [[-0.9765, -0.9765, -0.9765,  ..., -0.9765, -0.9373, -0.9529],\n",
                        "          [-0.9843, -0.9843, -0.9922,  ..., -0.7098, -0.3804, -0.3961],\n",
                        "          [-0.9922, -0.9922, -0.9922,  ..., -0.3490, -0.2235, -0.4353],\n",
                        "          ...,\n",
                        "          [-0.9059, -0.8980, -0.9059,  ..., -1.0000, -1.0000, -1.0000],\n",
                        "          [-0.9059, -0.8980, -0.8902,  ..., -1.0000, -0.9922, -0.9373],\n",
                        "          [-0.9059, -0.8824, -0.8824,  ..., -1.0000, -0.9294, -0.3725]],\n",
                        "\n",
                        "         [[-0.9765, -0.9765, -0.9765,  ..., -0.9765, -0.9373, -0.9529],\n",
                        "          [-0.9843, -0.9843, -0.9922,  ..., -0.7098, -0.3804, -0.3961],\n",
                        "          [-0.9922, -0.9922, -0.9922,  ..., -0.3490, -0.2235, -0.4353],\n",
                        "          ...,\n",
                        "          [-0.9059, -0.8980, -0.9059,  ..., -1.0000, -1.0000, -1.0000],\n",
                        "          [-0.9059, -0.8980, -0.8902,  ..., -1.0000, -0.9922, -0.9373],\n",
                        "          [-0.9059, -0.8824, -0.8824,  ..., -1.0000, -0.9294, -0.3725]]],\n",
                        "\n",
                        "\n",
                        "        [[[-0.6392, -0.6392, -0.6314,  ..., -0.6471, -0.5922, -0.4824],\n",
                        "          [-0.6471, -0.6471, -0.6471,  ..., -0.6627, -0.6549, -0.6235],\n",
                        "          [-0.6471, -0.6471, -0.6471,  ..., -0.6627, -0.6549, -0.6549],\n",
                        "          ...,\n",
                        "          [-0.6784, -0.6863, -0.6941,  ..., -0.7098, -0.7020, -0.6941],\n",
                        "          [-0.6784, -0.6863, -0.6863,  ..., -0.7098, -0.7020, -0.6941],\n",
                        "          [-0.6706, -0.6706, -0.6784,  ..., -0.7020, -0.7020, -0.6863]],\n",
                        "\n",
                        "         [[-0.6392, -0.6392, -0.6314,  ..., -0.6471, -0.5922, -0.4824],\n",
                        "          [-0.6471, -0.6471, -0.6471,  ..., -0.6627, -0.6549, -0.6235],\n",
                        "          [-0.6471, -0.6471, -0.6471,  ..., -0.6627, -0.6549, -0.6549],\n",
                        "          ...,\n",
                        "          [-0.6784, -0.6863, -0.6941,  ..., -0.7098, -0.7020, -0.6941],\n",
                        "          [-0.6784, -0.6863, -0.6863,  ..., -0.7098, -0.7020, -0.6941],\n",
                        "          [-0.6706, -0.6706, -0.6784,  ..., -0.7020, -0.7020, -0.6863]],\n",
                        "\n",
                        "         [[-0.6392, -0.6392, -0.6314,  ..., -0.6471, -0.5922, -0.4824],\n",
                        "          [-0.6471, -0.6471, -0.6471,  ..., -0.6627, -0.6549, -0.6235],\n",
                        "          [-0.6471, -0.6471, -0.6471,  ..., -0.6627, -0.6549, -0.6549],\n",
                        "          ...,\n",
                        "          [-0.6784, -0.6863, -0.6941,  ..., -0.7098, -0.7020, -0.6941],\n",
                        "          [-0.6784, -0.6863, -0.6863,  ..., -0.7098, -0.7020, -0.6941],\n",
                        "          [-0.6706, -0.6706, -0.6784,  ..., -0.7020, -0.7020, -0.6863]]],\n",
                        "\n",
                        "\n",
                        "        [[[-0.9765, -0.9765, -0.9765,  ..., -0.6549, -0.6392, -0.6235],\n",
                        "          [-0.9765, -0.9765, -0.9765,  ..., -0.7882, -0.8196, -0.7961],\n",
                        "          [-0.9765, -0.9765, -0.9765,  ..., -0.3569, -0.2235, -0.3333],\n",
                        "          ...,\n",
                        "          [ 0.0588,  0.1529,  0.2235,  ..., -0.9765, -0.9765, -0.9765],\n",
                        "          [ 0.1137,  0.1922,  0.2627,  ..., -0.9765, -0.9686, -0.9137],\n",
                        "          [ 0.1765,  0.2627,  0.3333,  ..., -0.9765, -0.9059, -0.3647]],\n",
                        "\n",
                        "         [[-0.9765, -0.9765, -0.9765,  ..., -0.6549, -0.6392, -0.6235],\n",
                        "          [-0.9765, -0.9765, -0.9765,  ..., -0.7882, -0.8196, -0.7961],\n",
                        "          [-0.9765, -0.9765, -0.9765,  ..., -0.3569, -0.2235, -0.3333],\n",
                        "          ...,\n",
                        "          [ 0.0588,  0.1529,  0.2235,  ..., -0.9765, -0.9765, -0.9765],\n",
                        "          [ 0.1137,  0.1922,  0.2627,  ..., -0.9765, -0.9686, -0.9137],\n",
                        "          [ 0.1765,  0.2627,  0.3333,  ..., -0.9765, -0.9059, -0.3647]],\n",
                        "\n",
                        "         [[-0.9765, -0.9765, -0.9765,  ..., -0.6549, -0.6392, -0.6235],\n",
                        "          [-0.9765, -0.9765, -0.9765,  ..., -0.7882, -0.8196, -0.7961],\n",
                        "          [-0.9765, -0.9765, -0.9765,  ..., -0.3569, -0.2235, -0.3333],\n",
                        "          ...,\n",
                        "          [ 0.0588,  0.1529,  0.2235,  ..., -0.9765, -0.9765, -0.9765],\n",
                        "          [ 0.1137,  0.1922,  0.2627,  ..., -0.9765, -0.9686, -0.9137],\n",
                        "          [ 0.1765,  0.2627,  0.3333,  ..., -0.9765, -0.9059, -0.3647]]]],\n",
                        "       device='cuda:0'), 'label_ids': tensor([[ 101, 2229, 6188,  ...,    0,    0,    0],\n",
                        "        [ 101, 2229, 6188,  ...,    0,    0,    0],\n",
                        "        [ 101, 2229,  185,  ...,    0,    0,    0],\n",
                        "        [ 101, 2229, 6188,  ...,    0,    0,    0]], device='cuda:0')}\n",
                        "{'names': ['NLP_CHEST_021', 'NLP_CHEST_080', 'NLP_CHEST_022', 'NLP_CHEST_019'], 'pixel_values': tensor([[[[-0.9059, -0.9137, -0.9137,  ..., -0.8824, -0.8824, -0.8745],\n",
                        "          [-0.9137, -0.9137, -0.9137,  ..., -0.6863, -0.6000, -0.5529],\n",
                        "          [-0.9137, -0.9137, -0.9137,  ..., -0.4824, -0.4902, -0.4039],\n",
                        "          ...,\n",
                        "          [-0.4667, -0.1216,  0.0588,  ..., -0.9294, -0.9922, -1.0000],\n",
                        "          [-0.4431, -0.1216,  0.0667,  ..., -0.9137, -0.9765, -0.9294],\n",
                        "          [-0.4196, -0.1373,  0.0275,  ..., -0.8980, -0.8431, -0.3020]],\n",
                        "\n",
                        "         [[-0.9059, -0.9137, -0.9137,  ..., -0.8824, -0.8824, -0.8745],\n",
                        "          [-0.9137, -0.9137, -0.9137,  ..., -0.6863, -0.6000, -0.5529],\n",
                        "          [-0.9137, -0.9137, -0.9137,  ..., -0.4824, -0.4902, -0.4039],\n",
                        "          ...,\n",
                        "          [-0.4667, -0.1216,  0.0588,  ..., -0.9294, -0.9922, -1.0000],\n",
                        "          [-0.4431, -0.1216,  0.0667,  ..., -0.9137, -0.9765, -0.9294],\n",
                        "          [-0.4196, -0.1373,  0.0275,  ..., -0.8980, -0.8431, -0.3020]],\n",
                        "\n",
                        "         [[-0.9059, -0.9137, -0.9137,  ..., -0.8824, -0.8824, -0.8745],\n",
                        "          [-0.9137, -0.9137, -0.9137,  ..., -0.6863, -0.6000, -0.5529],\n",
                        "          [-0.9137, -0.9137, -0.9137,  ..., -0.4824, -0.4902, -0.4039],\n",
                        "          ...,\n",
                        "          [-0.4667, -0.1216,  0.0588,  ..., -0.9294, -0.9922, -1.0000],\n",
                        "          [-0.4431, -0.1216,  0.0667,  ..., -0.9137, -0.9765, -0.9294],\n",
                        "          [-0.4196, -0.1373,  0.0275,  ..., -0.8980, -0.8431, -0.3020]]],\n",
                        "\n",
                        "\n",
                        "        [[[-0.7882, -0.7961, -0.7961,  ..., -0.7490, -0.6863, -0.5216],\n",
                        "          [-0.7961, -0.7961, -0.7961,  ..., -0.7647, -0.7569, -0.7176],\n",
                        "          [-0.8039, -0.8039, -0.8039,  ..., -0.7647, -0.7647, -0.7569],\n",
                        "          ...,\n",
                        "          [-0.3490, -0.2863, -0.2392,  ..., -1.0000, -1.0000, -1.0000],\n",
                        "          [-0.3647, -0.3020, -0.2549,  ..., -1.0000, -1.0000, -1.0000],\n",
                        "          [-0.3647, -0.3020, -0.2706,  ..., -1.0000, -1.0000, -1.0000]],\n",
                        "\n",
                        "         [[-0.7882, -0.7961, -0.7961,  ..., -0.7490, -0.6863, -0.5216],\n",
                        "          [-0.7961, -0.7961, -0.7961,  ..., -0.7647, -0.7569, -0.7176],\n",
                        "          [-0.8039, -0.8039, -0.8039,  ..., -0.7647, -0.7647, -0.7569],\n",
                        "          ...,\n",
                        "          [-0.3490, -0.2863, -0.2392,  ..., -1.0000, -1.0000, -1.0000],\n",
                        "          [-0.3647, -0.3020, -0.2549,  ..., -1.0000, -1.0000, -1.0000],\n",
                        "          [-0.3647, -0.3020, -0.2706,  ..., -1.0000, -1.0000, -1.0000]],\n",
                        "\n",
                        "         [[-0.7882, -0.7961, -0.7961,  ..., -0.7490, -0.6863, -0.5216],\n",
                        "          [-0.7961, -0.7961, -0.7961,  ..., -0.7647, -0.7569, -0.7176],\n",
                        "          [-0.8039, -0.8039, -0.8039,  ..., -0.7647, -0.7647, -0.7569],\n",
                        "          ...,\n",
                        "          [-0.3490, -0.2863, -0.2392,  ..., -1.0000, -1.0000, -1.0000],\n",
                        "          [-0.3647, -0.3020, -0.2549,  ..., -1.0000, -1.0000, -1.0000],\n",
                        "          [-0.3647, -0.3020, -0.2706,  ..., -1.0000, -1.0000, -1.0000]]],\n",
                        "\n",
                        "\n",
                        "        [[[-0.9686, -0.9765, -0.9765,  ..., -0.4745, -0.5137, -0.5137],\n",
                        "          [-0.9843, -0.9922, -0.9922,  ..., -0.3882, -0.3882, -0.3804],\n",
                        "          [-0.9686, -0.9686, -0.9608,  ..., -0.3412, -0.3725, -0.3882],\n",
                        "          ...,\n",
                        "          [-0.8902, -0.8980, -0.9059,  ..., -0.0667, -0.1216, -0.1922],\n",
                        "          [-0.8824, -0.8824, -0.8980,  ..., -0.0902, -0.1373, -0.2078],\n",
                        "          [-0.8745, -0.8824, -0.8902,  ..., -0.0745, -0.1373, -0.2157]],\n",
                        "\n",
                        "         [[-0.9686, -0.9765, -0.9765,  ..., -0.4745, -0.5137, -0.5137],\n",
                        "          [-0.9843, -0.9922, -0.9922,  ..., -0.3882, -0.3882, -0.3804],\n",
                        "          [-0.9686, -0.9686, -0.9608,  ..., -0.3412, -0.3725, -0.3882],\n",
                        "          ...,\n",
                        "          [-0.8902, -0.8980, -0.9059,  ..., -0.0667, -0.1216, -0.1922],\n",
                        "          [-0.8824, -0.8824, -0.8980,  ..., -0.0902, -0.1373, -0.2078],\n",
                        "          [-0.8745, -0.8824, -0.8902,  ..., -0.0745, -0.1373, -0.2157]],\n",
                        "\n",
                        "         [[-0.9686, -0.9765, -0.9765,  ..., -0.4745, -0.5137, -0.5137],\n",
                        "          [-0.9843, -0.9922, -0.9922,  ..., -0.3882, -0.3882, -0.3804],\n",
                        "          [-0.9686, -0.9686, -0.9608,  ..., -0.3412, -0.3725, -0.3882],\n",
                        "          ...,\n",
                        "          [-0.8902, -0.8980, -0.9059,  ..., -0.0667, -0.1216, -0.1922],\n",
                        "          [-0.8824, -0.8824, -0.8980,  ..., -0.0902, -0.1373, -0.2078],\n",
                        "          [-0.8745, -0.8824, -0.8902,  ..., -0.0745, -0.1373, -0.2157]]],\n",
                        "\n",
                        "\n",
                        "        [[[-0.8824, -0.8824, -0.8824,  ..., -0.7961, -0.7333, -0.6784],\n",
                        "          [-0.8745, -0.8745, -0.8745,  ..., -0.8431, -0.7490, -0.7490],\n",
                        "          [-0.8745, -0.8745, -0.8745,  ..., -0.8588, -0.8588, -0.8588],\n",
                        "          ...,\n",
                        "          [-0.9686, -0.9686, -0.9686,  ..., -0.6784, -0.8039, -0.9137],\n",
                        "          [-0.9686, -0.9686, -0.9686,  ..., -0.5686, -0.6863, -0.8039],\n",
                        "          [-0.9686, -0.9686, -0.9765,  ..., -0.4353, -0.5608, -0.6863]],\n",
                        "\n",
                        "         [[-0.8824, -0.8824, -0.8824,  ..., -0.7961, -0.7333, -0.6784],\n",
                        "          [-0.8745, -0.8745, -0.8745,  ..., -0.8431, -0.7490, -0.7490],\n",
                        "          [-0.8745, -0.8745, -0.8745,  ..., -0.8588, -0.8588, -0.8588],\n",
                        "          ...,\n",
                        "          [-0.9686, -0.9686, -0.9686,  ..., -0.6784, -0.8039, -0.9137],\n",
                        "          [-0.9686, -0.9686, -0.9686,  ..., -0.5686, -0.6863, -0.8039],\n",
                        "          [-0.9686, -0.9686, -0.9765,  ..., -0.4353, -0.5608, -0.6863]],\n",
                        "\n",
                        "         [[-0.8824, -0.8824, -0.8824,  ..., -0.7961, -0.7333, -0.6784],\n",
                        "          [-0.8745, -0.8745, -0.8745,  ..., -0.8431, -0.7490, -0.7490],\n",
                        "          [-0.8745, -0.8745, -0.8745,  ..., -0.8588, -0.8588, -0.8588],\n",
                        "          ...,\n",
                        "          [-0.9686, -0.9686, -0.9686,  ..., -0.6784, -0.8039, -0.9137],\n",
                        "          [-0.9686, -0.9686, -0.9686,  ..., -0.5686, -0.6863, -0.8039],\n",
                        "          [-0.9686, -0.9686, -0.9765,  ..., -0.4353, -0.5608, -0.6863]]]],\n",
                        "       device='cuda:0'), 'label_ids': tensor([[ 101, 2229,  170,  ...,    0,    0,    0],\n",
                        "        [ 101, 2229, 6188,  ...,    0,    0,    0],\n",
                        "        [ 101, 2229, 6188,  ...,    0,    0,    0],\n",
                        "        [ 101, 2229, 1273,  ...,    0,    0,    0]], device='cuda:0')}\n",
                        "{'names': ['NLP_CHEST_092', 'NLP_CHEST_009', 'NLP_CHEST_045', 'NLP_CHEST_083'], 'pixel_values': tensor([[[[-0.2157, -0.6078, -0.7176,  ..., -0.8196, -0.8196, -0.8196],\n",
                        "          [-0.6941, -0.7333, -0.7412,  ..., -0.6392, -0.5529, -0.5137],\n",
                        "          [-0.7725, -0.7725, -0.7725,  ..., -0.4431, -0.4588, -0.3725],\n",
                        "          ...,\n",
                        "          [-0.9294, -0.9216, -0.9216,  ..., -0.0824, -0.3176, -0.5373],\n",
                        "          [-0.9294, -0.9216, -0.9137,  ..., -0.0353, -0.2941, -0.5137],\n",
                        "          [-0.9059, -0.9059, -0.8980,  ...,  0.0039, -0.2392, -0.4588]],\n",
                        "\n",
                        "         [[-0.2157, -0.6078, -0.7176,  ..., -0.8196, -0.8196, -0.8196],\n",
                        "          [-0.6941, -0.7333, -0.7412,  ..., -0.6392, -0.5529, -0.5137],\n",
                        "          [-0.7725, -0.7725, -0.7725,  ..., -0.4431, -0.4588, -0.3725],\n",
                        "          ...,\n",
                        "          [-0.9294, -0.9216, -0.9216,  ..., -0.0824, -0.3176, -0.5373],\n",
                        "          [-0.9294, -0.9216, -0.9137,  ..., -0.0353, -0.2941, -0.5137],\n",
                        "          [-0.9059, -0.9059, -0.8980,  ...,  0.0039, -0.2392, -0.4588]],\n",
                        "\n",
                        "         [[-0.2157, -0.6078, -0.7176,  ..., -0.8196, -0.8196, -0.8196],\n",
                        "          [-0.6941, -0.7333, -0.7412,  ..., -0.6392, -0.5529, -0.5137],\n",
                        "          [-0.7725, -0.7725, -0.7725,  ..., -0.4431, -0.4588, -0.3725],\n",
                        "          ...,\n",
                        "          [-0.9294, -0.9216, -0.9216,  ..., -0.0824, -0.3176, -0.5373],\n",
                        "          [-0.9294, -0.9216, -0.9137,  ..., -0.0353, -0.2941, -0.5137],\n",
                        "          [-0.9059, -0.9059, -0.8980,  ...,  0.0039, -0.2392, -0.4588]]],\n",
                        "\n",
                        "\n",
                        "        [[[-0.9922, -0.9922, -0.9922,  ..., -0.9922, -0.9922, -0.9922],\n",
                        "          [-0.9922, -0.9922, -0.9922,  ..., -0.8824, -0.7569, -0.8196],\n",
                        "          [-0.9922, -0.9922, -0.9922,  ..., -0.3020, -0.5059, -0.3020],\n",
                        "          ...,\n",
                        "          [-0.4039, -0.2549, -0.1529,  ..., -0.9294, -0.8902, -0.8667],\n",
                        "          [-0.3804, -0.2627, -0.1608,  ..., -0.9137, -0.8588, -0.7961],\n",
                        "          [-0.3725, -0.2863, -0.1922,  ..., -0.9137, -0.7412, -0.2627]],\n",
                        "\n",
                        "         [[-0.9922, -0.9922, -0.9922,  ..., -0.9922, -0.9922, -0.9922],\n",
                        "          [-0.9922, -0.9922, -0.9922,  ..., -0.8824, -0.7569, -0.8196],\n",
                        "          [-0.9922, -0.9922, -0.9922,  ..., -0.3020, -0.5059, -0.3020],\n",
                        "          ...,\n",
                        "          [-0.4039, -0.2549, -0.1529,  ..., -0.9294, -0.8902, -0.8667],\n",
                        "          [-0.3804, -0.2627, -0.1608,  ..., -0.9137, -0.8588, -0.7961],\n",
                        "          [-0.3725, -0.2863, -0.1922,  ..., -0.9137, -0.7412, -0.2627]],\n",
                        "\n",
                        "         [[-0.9922, -0.9922, -0.9922,  ..., -0.9922, -0.9922, -0.9922],\n",
                        "          [-0.9922, -0.9922, -0.9922,  ..., -0.8824, -0.7569, -0.8196],\n",
                        "          [-0.9922, -0.9922, -0.9922,  ..., -0.3020, -0.5059, -0.3020],\n",
                        "          ...,\n",
                        "          [-0.4039, -0.2549, -0.1529,  ..., -0.9294, -0.8902, -0.8667],\n",
                        "          [-0.3804, -0.2627, -0.1608,  ..., -0.9137, -0.8588, -0.7961],\n",
                        "          [-0.3725, -0.2863, -0.1922,  ..., -0.9137, -0.7412, -0.2627]]],\n",
                        "\n",
                        "\n",
                        "        [[[-0.3569, -0.8902, -0.9529,  ..., -0.9294, -0.9059, -0.9373],\n",
                        "          [-0.8902, -0.9451, -0.9529,  ..., -0.6627, -0.3490, -0.3725],\n",
                        "          [-0.9529, -0.9529, -0.9529,  ..., -0.3255, -0.1922, -0.3961],\n",
                        "          ...,\n",
                        "          [-1.0000, -1.0000, -1.0000,  ..., -0.9294, -0.9294, -0.9294],\n",
                        "          [-1.0000, -1.0000, -1.0000,  ..., -0.9216, -0.9216, -0.9216],\n",
                        "          [-0.9686, -0.9922, -1.0000,  ..., -0.9137, -0.9059, -0.9137]],\n",
                        "\n",
                        "         [[-0.3569, -0.8902, -0.9529,  ..., -0.9294, -0.9059, -0.9373],\n",
                        "          [-0.8902, -0.9451, -0.9529,  ..., -0.6627, -0.3490, -0.3725],\n",
                        "          [-0.9529, -0.9529, -0.9529,  ..., -0.3255, -0.1922, -0.3961],\n",
                        "          ...,\n",
                        "          [-1.0000, -1.0000, -1.0000,  ..., -0.9294, -0.9294, -0.9294],\n",
                        "          [-1.0000, -1.0000, -1.0000,  ..., -0.9216, -0.9216, -0.9216],\n",
                        "          [-0.9686, -0.9922, -1.0000,  ..., -0.9137, -0.9059, -0.9137]],\n",
                        "\n",
                        "         [[-0.3569, -0.8902, -0.9529,  ..., -0.9294, -0.9059, -0.9373],\n",
                        "          [-0.8902, -0.9451, -0.9529,  ..., -0.6627, -0.3490, -0.3725],\n",
                        "          [-0.9529, -0.9529, -0.9529,  ..., -0.3255, -0.1922, -0.3961],\n",
                        "          ...,\n",
                        "          [-1.0000, -1.0000, -1.0000,  ..., -0.9294, -0.9294, -0.9294],\n",
                        "          [-1.0000, -1.0000, -1.0000,  ..., -0.9216, -0.9216, -0.9216],\n",
                        "          [-0.9686, -0.9922, -1.0000,  ..., -0.9137, -0.9059, -0.9137]]],\n",
                        "\n",
                        "\n",
                        "        [[[-0.8431, -0.7725, -0.7569,  ..., -0.9529, -0.9137, -0.9373],\n",
                        "          [-0.9529, -0.9451, -0.9137,  ..., -0.6863, -0.3647, -0.3882],\n",
                        "          [-0.9608, -0.9608, -0.9373,  ..., -0.3412, -0.2157, -0.4196],\n",
                        "          ...,\n",
                        "          [-0.9373, -0.9216, -0.9216,  ..., -1.0000, -0.9843, -1.0000],\n",
                        "          [-0.9373, -0.9216, -0.9294,  ..., -0.9922, -0.9765, -0.9373],\n",
                        "          [-0.9373, -0.9137, -0.9294,  ..., -0.9922, -0.9137, -0.3725]],\n",
                        "\n",
                        "         [[-0.8431, -0.7725, -0.7569,  ..., -0.9529, -0.9137, -0.9373],\n",
                        "          [-0.9529, -0.9451, -0.9137,  ..., -0.6863, -0.3647, -0.3882],\n",
                        "          [-0.9608, -0.9608, -0.9373,  ..., -0.3412, -0.2157, -0.4196],\n",
                        "          ...,\n",
                        "          [-0.9373, -0.9216, -0.9216,  ..., -1.0000, -0.9843, -1.0000],\n",
                        "          [-0.9373, -0.9216, -0.9294,  ..., -0.9922, -0.9765, -0.9373],\n",
                        "          [-0.9373, -0.9137, -0.9294,  ..., -0.9922, -0.9137, -0.3725]],\n",
                        "\n",
                        "         [[-0.8431, -0.7725, -0.7569,  ..., -0.9529, -0.9137, -0.9373],\n",
                        "          [-0.9529, -0.9451, -0.9137,  ..., -0.6863, -0.3647, -0.3882],\n",
                        "          [-0.9608, -0.9608, -0.9373,  ..., -0.3412, -0.2157, -0.4196],\n",
                        "          ...,\n",
                        "          [-0.9373, -0.9216, -0.9216,  ..., -1.0000, -0.9843, -1.0000],\n",
                        "          [-0.9373, -0.9216, -0.9294,  ..., -0.9922, -0.9765, -0.9373],\n",
                        "          [-0.9373, -0.9137, -0.9294,  ..., -0.9922, -0.9137, -0.3725]]]],\n",
                        "       device='cuda:0'), 'label_ids': tensor([[ 101, 2229, 6188,  ...,    0,    0,    0],\n",
                        "        [ 101, 2229,  170,  ...,    0,    0,    0],\n",
                        "        [ 101, 2229,  185,  ...,    0,    0,    0],\n",
                        "        [ 101, 2229,  170,  ...,    0,    0,    0]], device='cuda:0')}\n",
                        "{'names': ['NLP_CHEST_087', 'NLP_CHEST_050', 'NLP_CHEST_081', 'NLP_CHEST_058'], 'pixel_values': tensor([[[[-0.3412, -0.8275, -0.8824,  ...,  0.0196,  0.0510,  0.0431],\n",
                        "          [-0.8431, -0.8745, -0.8902,  ...,  0.1451,  0.2784,  0.2784],\n",
                        "          [-0.9059, -0.8980, -0.9137,  ...,  0.2235,  0.2627,  0.1451],\n",
                        "          ...,\n",
                        "          [-0.4431, -0.3255, -0.2706,  ...,  0.3725,  0.3882,  0.3882],\n",
                        "          [-0.4275, -0.3255, -0.2627,  ...,  0.4196,  0.4275,  0.4353],\n",
                        "          [-0.4275, -0.3176, -0.2392,  ...,  0.4118,  0.4824,  0.5216]],\n",
                        "\n",
                        "         [[-0.3412, -0.8275, -0.8824,  ...,  0.0196,  0.0510,  0.0431],\n",
                        "          [-0.8431, -0.8745, -0.8902,  ...,  0.1451,  0.2784,  0.2784],\n",
                        "          [-0.9059, -0.8980, -0.9137,  ...,  0.2235,  0.2627,  0.1451],\n",
                        "          ...,\n",
                        "          [-0.4431, -0.3255, -0.2706,  ...,  0.3725,  0.3882,  0.3882],\n",
                        "          [-0.4275, -0.3255, -0.2627,  ...,  0.4196,  0.4275,  0.4353],\n",
                        "          [-0.4275, -0.3176, -0.2392,  ...,  0.4118,  0.4824,  0.5216]],\n",
                        "\n",
                        "         [[-0.3412, -0.8275, -0.8824,  ...,  0.0196,  0.0510,  0.0431],\n",
                        "          [-0.8431, -0.8745, -0.8902,  ...,  0.1451,  0.2784,  0.2784],\n",
                        "          [-0.9059, -0.8980, -0.9137,  ...,  0.2235,  0.2627,  0.1451],\n",
                        "          ...,\n",
                        "          [-0.4431, -0.3255, -0.2706,  ...,  0.3725,  0.3882,  0.3882],\n",
                        "          [-0.4275, -0.3255, -0.2627,  ...,  0.4196,  0.4275,  0.4353],\n",
                        "          [-0.4275, -0.3176, -0.2392,  ...,  0.4118,  0.4824,  0.5216]]],\n",
                        "\n",
                        "\n",
                        "        [[[-0.9608, -0.9608, -0.9608,  ..., -0.7961, -0.7569, -0.7569],\n",
                        "          [-0.9529, -0.9608, -0.9608,  ..., -0.6157, -0.3412, -0.3333],\n",
                        "          [-0.9529, -0.9608, -0.9608,  ..., -0.3333, -0.2314, -0.3804],\n",
                        "          ...,\n",
                        "          [-1.0000, -1.0000, -1.0000,  ..., -0.9608, -0.9608, -0.9608],\n",
                        "          [-0.9294, -0.9922, -1.0000,  ..., -0.9529, -0.9608, -0.9686],\n",
                        "          [-0.3725, -0.9373, -1.0000,  ..., -0.9608, -0.9608, -0.9686]],\n",
                        "\n",
                        "         [[-0.9608, -0.9608, -0.9608,  ..., -0.7961, -0.7569, -0.7569],\n",
                        "          [-0.9529, -0.9608, -0.9608,  ..., -0.6157, -0.3412, -0.3333],\n",
                        "          [-0.9529, -0.9608, -0.9608,  ..., -0.3333, -0.2314, -0.3804],\n",
                        "          ...,\n",
                        "          [-1.0000, -1.0000, -1.0000,  ..., -0.9608, -0.9608, -0.9608],\n",
                        "          [-0.9294, -0.9922, -1.0000,  ..., -0.9529, -0.9608, -0.9686],\n",
                        "          [-0.3725, -0.9373, -1.0000,  ..., -0.9608, -0.9608, -0.9686]],\n",
                        "\n",
                        "         [[-0.9608, -0.9608, -0.9608,  ..., -0.7961, -0.7569, -0.7569],\n",
                        "          [-0.9529, -0.9608, -0.9608,  ..., -0.6157, -0.3412, -0.3333],\n",
                        "          [-0.9529, -0.9608, -0.9608,  ..., -0.3333, -0.2314, -0.3804],\n",
                        "          ...,\n",
                        "          [-1.0000, -1.0000, -1.0000,  ..., -0.9608, -0.9608, -0.9608],\n",
                        "          [-0.9294, -0.9922, -1.0000,  ..., -0.9529, -0.9608, -0.9686],\n",
                        "          [-0.3725, -0.9373, -1.0000,  ..., -0.9608, -0.9608, -0.9686]]],\n",
                        "\n",
                        "\n",
                        "        [[[-0.3569, -0.8824, -0.9529,  ..., -0.9294, -0.8902, -0.9059],\n",
                        "          [-0.8902, -0.9529, -0.9608,  ..., -0.6706, -0.3569, -0.3647],\n",
                        "          [-0.9608, -0.9608, -0.9608,  ..., -0.3255, -0.2000, -0.4039],\n",
                        "          ...,\n",
                        "          [-0.9373, -0.9373, -0.9451,  ..., -0.8745, -0.8902, -0.8980],\n",
                        "          [-0.9451, -0.9373, -0.9373,  ..., -0.8510, -0.8667, -0.8902],\n",
                        "          [-0.9451, -0.9451, -0.9373,  ..., -0.8353, -0.8510, -0.8824]],\n",
                        "\n",
                        "         [[-0.3569, -0.8824, -0.9529,  ..., -0.9294, -0.8902, -0.9059],\n",
                        "          [-0.8902, -0.9529, -0.9608,  ..., -0.6706, -0.3569, -0.3647],\n",
                        "          [-0.9608, -0.9608, -0.9608,  ..., -0.3255, -0.2000, -0.4039],\n",
                        "          ...,\n",
                        "          [-0.9373, -0.9373, -0.9451,  ..., -0.8745, -0.8902, -0.8980],\n",
                        "          [-0.9451, -0.9373, -0.9373,  ..., -0.8510, -0.8667, -0.8902],\n",
                        "          [-0.9451, -0.9451, -0.9373,  ..., -0.8353, -0.8510, -0.8824]],\n",
                        "\n",
                        "         [[-0.3569, -0.8824, -0.9529,  ..., -0.9294, -0.8902, -0.9059],\n",
                        "          [-0.8902, -0.9529, -0.9608,  ..., -0.6706, -0.3569, -0.3647],\n",
                        "          [-0.9608, -0.9608, -0.9608,  ..., -0.3255, -0.2000, -0.4039],\n",
                        "          ...,\n",
                        "          [-0.9373, -0.9373, -0.9451,  ..., -0.8745, -0.8902, -0.8980],\n",
                        "          [-0.9451, -0.9373, -0.9373,  ..., -0.8510, -0.8667, -0.8902],\n",
                        "          [-0.9451, -0.9451, -0.9373,  ..., -0.8353, -0.8510, -0.8824]]],\n",
                        "\n",
                        "\n",
                        "        [[[-0.7569, -0.7647, -0.7569,  ..., -0.8039, -0.7255, -0.5373],\n",
                        "          [-0.7647, -0.7647, -0.7647,  ..., -0.8118, -0.8039, -0.7647],\n",
                        "          [-0.7725, -0.7725, -0.7647,  ..., -0.8118, -0.8118, -0.8118],\n",
                        "          ...,\n",
                        "          [-0.7176, -0.7490, -0.7569,  ..., -0.8745, -0.8667, -0.8588],\n",
                        "          [-0.7255, -0.7490, -0.7490,  ..., -0.8745, -0.8667, -0.8588],\n",
                        "          [-0.7333, -0.7412, -0.7412,  ..., -0.8667, -0.8667, -0.8588]],\n",
                        "\n",
                        "         [[-0.7569, -0.7647, -0.7569,  ..., -0.8039, -0.7255, -0.5373],\n",
                        "          [-0.7647, -0.7647, -0.7647,  ..., -0.8118, -0.8039, -0.7647],\n",
                        "          [-0.7725, -0.7725, -0.7647,  ..., -0.8118, -0.8118, -0.8118],\n",
                        "          ...,\n",
                        "          [-0.7176, -0.7490, -0.7569,  ..., -0.8745, -0.8667, -0.8588],\n",
                        "          [-0.7255, -0.7490, -0.7490,  ..., -0.8745, -0.8667, -0.8588],\n",
                        "          [-0.7333, -0.7412, -0.7412,  ..., -0.8667, -0.8667, -0.8588]],\n",
                        "\n",
                        "         [[-0.7569, -0.7647, -0.7569,  ..., -0.8039, -0.7255, -0.5373],\n",
                        "          [-0.7647, -0.7647, -0.7647,  ..., -0.8118, -0.8039, -0.7647],\n",
                        "          [-0.7725, -0.7725, -0.7647,  ..., -0.8118, -0.8118, -0.8118],\n",
                        "          ...,\n",
                        "          [-0.7176, -0.7490, -0.7569,  ..., -0.8745, -0.8667, -0.8588],\n",
                        "          [-0.7255, -0.7490, -0.7490,  ..., -0.8745, -0.8667, -0.8588],\n",
                        "          [-0.7333, -0.7412, -0.7412,  ..., -0.8667, -0.8667, -0.8588]]]],\n",
                        "       device='cuda:0'), 'label_ids': tensor([[ 101, 2229,  170,  ...,    0,    0,    0],\n",
                        "        [ 101, 2229,  185,  ...,    0,    0,    0],\n",
                        "        [ 101, 2229,  170,  ...,    0,    0,    0],\n",
                        "        [ 101, 2229, 1273,  ...,    0,    0,    0]], device='cuda:0')}\n",
                        "{'names': ['NLP_CHEST_013', 'NLP_CHEST_042', 'NLP_CHEST_049', 'NLP_CHEST_056'], 'pixel_values': tensor([[[[-0.9843, -0.9843, -0.9843,  ..., -0.9294, -0.7647, -0.7255],\n",
                        "          [-0.9843, -0.9843, -0.9843,  ..., -0.9765, -0.8431, -0.8510],\n",
                        "          [-0.9843, -0.9843, -0.9843,  ..., -1.0000, -1.0000, -1.0000],\n",
                        "          ...,\n",
                        "          [-0.3020, -0.2392, -0.1843,  ..., -0.3255, -0.4118, -0.4902],\n",
                        "          [-0.2627, -0.2078, -0.1451,  ..., -0.2863, -0.3804, -0.4431],\n",
                        "          [-0.2157, -0.1608, -0.1059,  ..., -0.2471, -0.3333, -0.4039]],\n",
                        "\n",
                        "         [[-0.9843, -0.9843, -0.9843,  ..., -0.9294, -0.7647, -0.7255],\n",
                        "          [-0.9843, -0.9843, -0.9843,  ..., -0.9765, -0.8431, -0.8510],\n",
                        "          [-0.9843, -0.9843, -0.9843,  ..., -1.0000, -1.0000, -1.0000],\n",
                        "          ...,\n",
                        "          [-0.3020, -0.2392, -0.1843,  ..., -0.3255, -0.4118, -0.4902],\n",
                        "          [-0.2627, -0.2078, -0.1451,  ..., -0.2863, -0.3804, -0.4431],\n",
                        "          [-0.2157, -0.1608, -0.1059,  ..., -0.2471, -0.3333, -0.4039]],\n",
                        "\n",
                        "         [[-0.9843, -0.9843, -0.9843,  ..., -0.9294, -0.7647, -0.7255],\n",
                        "          [-0.9843, -0.9843, -0.9843,  ..., -0.9765, -0.8431, -0.8510],\n",
                        "          [-0.9843, -0.9843, -0.9843,  ..., -1.0000, -1.0000, -1.0000],\n",
                        "          ...,\n",
                        "          [-0.3020, -0.2392, -0.1843,  ..., -0.3255, -0.4118, -0.4902],\n",
                        "          [-0.2627, -0.2078, -0.1451,  ..., -0.2863, -0.3804, -0.4431],\n",
                        "          [-0.2157, -0.1608, -0.1059,  ..., -0.2471, -0.3333, -0.4039]]],\n",
                        "\n",
                        "\n",
                        "        [[[-0.6549, -0.6549, -0.6627,  ..., -0.8353, -0.8353, -0.8353],\n",
                        "          [-0.7098, -0.7098, -0.7098,  ..., -0.6549, -0.5765, -0.5373],\n",
                        "          [-0.7569, -0.7647, -0.7725,  ..., -0.4667, -0.4824, -0.4039],\n",
                        "          ...,\n",
                        "          [-0.9765, -0.9451, -0.8902,  ..., -1.0000, -1.0000, -1.0000],\n",
                        "          [-0.9529, -0.9137, -0.8667,  ..., -1.0000, -0.9843, -0.9294],\n",
                        "          [-0.9216, -0.8824, -0.8196,  ..., -1.0000, -0.8588, -0.3020]],\n",
                        "\n",
                        "         [[-0.6549, -0.6549, -0.6627,  ..., -0.8353, -0.8353, -0.8353],\n",
                        "          [-0.7098, -0.7098, -0.7098,  ..., -0.6549, -0.5765, -0.5373],\n",
                        "          [-0.7569, -0.7647, -0.7725,  ..., -0.4667, -0.4824, -0.4039],\n",
                        "          ...,\n",
                        "          [-0.9765, -0.9451, -0.8902,  ..., -1.0000, -1.0000, -1.0000],\n",
                        "          [-0.9529, -0.9137, -0.8667,  ..., -1.0000, -0.9843, -0.9294],\n",
                        "          [-0.9216, -0.8824, -0.8196,  ..., -1.0000, -0.8588, -0.3020]],\n",
                        "\n",
                        "         [[-0.6549, -0.6549, -0.6627,  ..., -0.8353, -0.8353, -0.8353],\n",
                        "          [-0.7098, -0.7098, -0.7098,  ..., -0.6549, -0.5765, -0.5373],\n",
                        "          [-0.7569, -0.7647, -0.7725,  ..., -0.4667, -0.4824, -0.4039],\n",
                        "          ...,\n",
                        "          [-0.9765, -0.9451, -0.8902,  ..., -1.0000, -1.0000, -1.0000],\n",
                        "          [-0.9529, -0.9137, -0.8667,  ..., -1.0000, -0.9843, -0.9294],\n",
                        "          [-0.9216, -0.8824, -0.8196,  ..., -1.0000, -0.8588, -0.3020]]],\n",
                        "\n",
                        "\n",
                        "        [[[-1.0000, -1.0000, -1.0000,  ..., -0.9922, -0.9373, -0.9765],\n",
                        "          [-1.0000, -1.0000, -1.0000,  ..., -0.7804, -0.3412, -0.4039],\n",
                        "          [-1.0000, -1.0000, -1.0000,  ..., -0.4824, -0.2157, -0.4431],\n",
                        "          ...,\n",
                        "          [-0.7725, -0.8118, -0.8118,  ...,  0.1216,  0.1059,  0.0745],\n",
                        "          [-0.7882, -0.8196, -0.8353,  ...,  0.1765,  0.1137,  0.0745],\n",
                        "          [-0.7961, -0.8196, -0.8510,  ...,  0.2314,  0.0902,  0.0510]],\n",
                        "\n",
                        "         [[-1.0000, -1.0000, -1.0000,  ..., -0.9922, -0.9373, -0.9765],\n",
                        "          [-1.0000, -1.0000, -1.0000,  ..., -0.7804, -0.3412, -0.4039],\n",
                        "          [-1.0000, -1.0000, -1.0000,  ..., -0.4824, -0.2157, -0.4431],\n",
                        "          ...,\n",
                        "          [-0.7725, -0.8118, -0.8118,  ...,  0.1216,  0.1059,  0.0745],\n",
                        "          [-0.7882, -0.8196, -0.8353,  ...,  0.1765,  0.1137,  0.0745],\n",
                        "          [-0.7961, -0.8196, -0.8510,  ...,  0.2314,  0.0902,  0.0510]],\n",
                        "\n",
                        "         [[-1.0000, -1.0000, -1.0000,  ..., -0.9922, -0.9373, -0.9765],\n",
                        "          [-1.0000, -1.0000, -1.0000,  ..., -0.7804, -0.3412, -0.4039],\n",
                        "          [-1.0000, -1.0000, -1.0000,  ..., -0.4824, -0.2157, -0.4431],\n",
                        "          ...,\n",
                        "          [-0.7725, -0.8118, -0.8118,  ...,  0.1216,  0.1059,  0.0745],\n",
                        "          [-0.7882, -0.8196, -0.8353,  ...,  0.1765,  0.1137,  0.0745],\n",
                        "          [-0.7961, -0.8196, -0.8510,  ...,  0.2314,  0.0902,  0.0510]]],\n",
                        "\n",
                        "\n",
                        "        [[[-0.3412, -0.8588, -0.9216,  ..., -0.8980, -0.8588, -0.8824],\n",
                        "          [-0.8667, -0.9216, -0.9294,  ..., -0.6549, -0.3412, -0.3490],\n",
                        "          [-0.9294, -0.9294, -0.9294,  ..., -0.3098, -0.1922, -0.3961],\n",
                        "          ...,\n",
                        "          [ 0.6706,  0.5294,  0.5451,  ...,  0.2392,  0.2157, -0.1294],\n",
                        "          [ 0.7020,  0.6000,  0.6627,  ...,  0.2235,  0.1922, -0.1373],\n",
                        "          [ 0.8667,  0.8667,  0.8431,  ...,  0.2078,  0.1608, -0.1686]],\n",
                        "\n",
                        "         [[-0.3412, -0.8588, -0.9216,  ..., -0.8980, -0.8588, -0.8824],\n",
                        "          [-0.8667, -0.9216, -0.9294,  ..., -0.6549, -0.3412, -0.3490],\n",
                        "          [-0.9294, -0.9294, -0.9294,  ..., -0.3098, -0.1922, -0.3961],\n",
                        "          ...,\n",
                        "          [ 0.6706,  0.5294,  0.5451,  ...,  0.2392,  0.2157, -0.1294],\n",
                        "          [ 0.7020,  0.6000,  0.6627,  ...,  0.2235,  0.1922, -0.1373],\n",
                        "          [ 0.8667,  0.8667,  0.8431,  ...,  0.2078,  0.1608, -0.1686]],\n",
                        "\n",
                        "         [[-0.3412, -0.8588, -0.9216,  ..., -0.8980, -0.8588, -0.8824],\n",
                        "          [-0.8667, -0.9216, -0.9294,  ..., -0.6549, -0.3412, -0.3490],\n",
                        "          [-0.9294, -0.9294, -0.9294,  ..., -0.3098, -0.1922, -0.3961],\n",
                        "          ...,\n",
                        "          [ 0.6706,  0.5294,  0.5451,  ...,  0.2392,  0.2157, -0.1294],\n",
                        "          [ 0.7020,  0.6000,  0.6627,  ...,  0.2235,  0.1922, -0.1373],\n",
                        "          [ 0.8667,  0.8667,  0.8431,  ...,  0.2078,  0.1608, -0.1686]]]],\n",
                        "       device='cuda:0'), 'label_ids': tensor([[ 101, 2229,  193,  ...,    0,    0,    0],\n",
                        "        [ 101, 2229, 6188,  ...,    0,    0,    0],\n",
                        "        [ 101, 2229,  170,  ...,    0,    0,    0],\n",
                        "        [ 101, 2229, 1273,  ...,    0,    0,    0]], device='cuda:0')}\n",
                        "{'names': ['NLP_CHEST_091', 'NLP_CHEST_084', 'NLP_CHEST_066', 'NLP_CHEST_018'], 'pixel_values': tensor([[[[-0.9608, -0.9608, -0.9608,  ..., -0.7961, -0.7569, -0.7569],\n",
                        "          [-0.9529, -0.9608, -0.9608,  ..., -0.6157, -0.3412, -0.3333],\n",
                        "          [-0.9529, -0.9608, -0.9608,  ..., -0.3333, -0.2314, -0.3804],\n",
                        "          ...,\n",
                        "          [-1.0000, -1.0000, -1.0000,  ..., -0.9608, -0.9608, -0.9608],\n",
                        "          [-0.9294, -0.9922, -1.0000,  ..., -0.9529, -0.9608, -0.9686],\n",
                        "          [-0.3725, -0.9373, -1.0000,  ..., -0.9608, -0.9608, -0.9686]],\n",
                        "\n",
                        "         [[-0.9608, -0.9608, -0.9608,  ..., -0.7961, -0.7569, -0.7569],\n",
                        "          [-0.9529, -0.9608, -0.9608,  ..., -0.6157, -0.3412, -0.3333],\n",
                        "          [-0.9529, -0.9608, -0.9608,  ..., -0.3333, -0.2314, -0.3804],\n",
                        "          ...,\n",
                        "          [-1.0000, -1.0000, -1.0000,  ..., -0.9608, -0.9608, -0.9608],\n",
                        "          [-0.9294, -0.9922, -1.0000,  ..., -0.9529, -0.9608, -0.9686],\n",
                        "          [-0.3725, -0.9373, -1.0000,  ..., -0.9608, -0.9608, -0.9686]],\n",
                        "\n",
                        "         [[-0.9608, -0.9608, -0.9608,  ..., -0.7961, -0.7569, -0.7569],\n",
                        "          [-0.9529, -0.9608, -0.9608,  ..., -0.6157, -0.3412, -0.3333],\n",
                        "          [-0.9529, -0.9608, -0.9608,  ..., -0.3333, -0.2314, -0.3804],\n",
                        "          ...,\n",
                        "          [-1.0000, -1.0000, -1.0000,  ..., -0.9608, -0.9608, -0.9608],\n",
                        "          [-0.9294, -0.9922, -1.0000,  ..., -0.9529, -0.9608, -0.9686],\n",
                        "          [-0.3725, -0.9373, -1.0000,  ..., -0.9608, -0.9608, -0.9686]]],\n",
                        "\n",
                        "\n",
                        "        [[[-0.9608, -0.9451, -0.9608,  ..., -0.9216, -0.9373, -0.9686],\n",
                        "          [-0.8980, -0.8980, -0.9059,  ..., -0.7961, -0.7176, -0.7961],\n",
                        "          [-0.8196, -0.8431, -0.8588,  ..., -0.2314, -0.2000, -0.3098],\n",
                        "          ...,\n",
                        "          [-0.9686, -0.9765, -0.7725,  ..., -0.7882, -0.7725, -0.7804],\n",
                        "          [-0.9529, -0.9765, -0.7961,  ..., -0.7804, -0.7647, -0.7176],\n",
                        "          [-0.9608, -0.9686, -0.8275,  ..., -0.7725, -0.6627, -0.2235]],\n",
                        "\n",
                        "         [[-0.9608, -0.9451, -0.9608,  ..., -0.9216, -0.9373, -0.9686],\n",
                        "          [-0.8980, -0.8980, -0.9059,  ..., -0.7961, -0.7176, -0.7961],\n",
                        "          [-0.8196, -0.8431, -0.8588,  ..., -0.2314, -0.2000, -0.3098],\n",
                        "          ...,\n",
                        "          [-0.9686, -0.9765, -0.7725,  ..., -0.7882, -0.7725, -0.7804],\n",
                        "          [-0.9529, -0.9765, -0.7961,  ..., -0.7804, -0.7647, -0.7176],\n",
                        "          [-0.9608, -0.9686, -0.8275,  ..., -0.7725, -0.6627, -0.2235]],\n",
                        "\n",
                        "         [[-0.9608, -0.9451, -0.9608,  ..., -0.9216, -0.9373, -0.9686],\n",
                        "          [-0.8980, -0.8980, -0.9059,  ..., -0.7961, -0.7176, -0.7961],\n",
                        "          [-0.8196, -0.8431, -0.8588,  ..., -0.2314, -0.2000, -0.3098],\n",
                        "          ...,\n",
                        "          [-0.9686, -0.9765, -0.7725,  ..., -0.7882, -0.7725, -0.7804],\n",
                        "          [-0.9529, -0.9765, -0.7961,  ..., -0.7804, -0.7647, -0.7176],\n",
                        "          [-0.9608, -0.9686, -0.8275,  ..., -0.7725, -0.6627, -0.2235]]],\n",
                        "\n",
                        "\n",
                        "        [[[-1.0000, -1.0000, -1.0000,  ..., -0.9922, -0.9373, -0.9765],\n",
                        "          [-1.0000, -1.0000, -1.0000,  ..., -0.7804, -0.3412, -0.4039],\n",
                        "          [-1.0000, -1.0000, -1.0000,  ..., -0.4824, -0.2157, -0.4431],\n",
                        "          ...,\n",
                        "          [-0.7725, -0.8118, -0.8118,  ...,  0.1216,  0.1059,  0.0745],\n",
                        "          [-0.7882, -0.8196, -0.8353,  ...,  0.1765,  0.1137,  0.0745],\n",
                        "          [-0.7961, -0.8196, -0.8510,  ...,  0.2314,  0.0902,  0.0510]],\n",
                        "\n",
                        "         [[-1.0000, -1.0000, -1.0000,  ..., -0.9922, -0.9373, -0.9765],\n",
                        "          [-1.0000, -1.0000, -1.0000,  ..., -0.7804, -0.3412, -0.4039],\n",
                        "          [-1.0000, -1.0000, -1.0000,  ..., -0.4824, -0.2157, -0.4431],\n",
                        "          ...,\n",
                        "          [-0.7725, -0.8118, -0.8118,  ...,  0.1216,  0.1059,  0.0745],\n",
                        "          [-0.7882, -0.8196, -0.8353,  ...,  0.1765,  0.1137,  0.0745],\n",
                        "          [-0.7961, -0.8196, -0.8510,  ...,  0.2314,  0.0902,  0.0510]],\n",
                        "\n",
                        "         [[-1.0000, -1.0000, -1.0000,  ..., -0.9922, -0.9373, -0.9765],\n",
                        "          [-1.0000, -1.0000, -1.0000,  ..., -0.7804, -0.3412, -0.4039],\n",
                        "          [-1.0000, -1.0000, -1.0000,  ..., -0.4824, -0.2157, -0.4431],\n",
                        "          ...,\n",
                        "          [-0.7725, -0.8118, -0.8118,  ...,  0.1216,  0.1059,  0.0745],\n",
                        "          [-0.7882, -0.8196, -0.8353,  ...,  0.1765,  0.1137,  0.0745],\n",
                        "          [-0.7961, -0.8196, -0.8510,  ...,  0.2314,  0.0902,  0.0510]]],\n",
                        "\n",
                        "\n",
                        "        [[[-0.9451, -0.9451, -0.9451,  ..., -0.8510, -0.7490, -0.7020],\n",
                        "          [-0.9451, -0.9373, -0.9451,  ..., -0.8902, -0.7882, -0.7882],\n",
                        "          [-0.9373, -0.9373, -0.9373,  ..., -0.9137, -0.9137, -0.9137],\n",
                        "          ...,\n",
                        "          [-0.9922, -0.9922, -0.9922,  ..., -0.9686, -0.9686, -0.9686],\n",
                        "          [-0.9922, -0.9922, -0.9922,  ..., -0.9686, -0.9686, -0.9686],\n",
                        "          [-0.9922, -0.9922, -0.9922,  ..., -0.9686, -0.9686, -0.9686]],\n",
                        "\n",
                        "         [[-0.9451, -0.9451, -0.9451,  ..., -0.8510, -0.7490, -0.7020],\n",
                        "          [-0.9451, -0.9373, -0.9451,  ..., -0.8902, -0.7882, -0.7882],\n",
                        "          [-0.9373, -0.9373, -0.9373,  ..., -0.9137, -0.9137, -0.9137],\n",
                        "          ...,\n",
                        "          [-0.9922, -0.9922, -0.9922,  ..., -0.9686, -0.9686, -0.9686],\n",
                        "          [-0.9922, -0.9922, -0.9922,  ..., -0.9686, -0.9686, -0.9686],\n",
                        "          [-0.9922, -0.9922, -0.9922,  ..., -0.9686, -0.9686, -0.9686]],\n",
                        "\n",
                        "         [[-0.9451, -0.9451, -0.9451,  ..., -0.8510, -0.7490, -0.7020],\n",
                        "          [-0.9451, -0.9373, -0.9451,  ..., -0.8902, -0.7882, -0.7882],\n",
                        "          [-0.9373, -0.9373, -0.9373,  ..., -0.9137, -0.9137, -0.9137],\n",
                        "          ...,\n",
                        "          [-0.9922, -0.9922, -0.9922,  ..., -0.9686, -0.9686, -0.9686],\n",
                        "          [-0.9922, -0.9922, -0.9922,  ..., -0.9686, -0.9686, -0.9686],\n",
                        "          [-0.9922, -0.9922, -0.9922,  ..., -0.9686, -0.9686, -0.9686]]]],\n",
                        "       device='cuda:0'), 'label_ids': tensor([[ 101, 2229,  185,  ...,    0,    0,    0],\n",
                        "        [ 101, 2229,  170,  ...,    0,    0,    0],\n",
                        "        [ 101, 2229,  170,  ...,    0,    0,    0],\n",
                        "        [ 101, 2229,  185,  ...,    0,    0,    0]], device='cuda:0')}\n",
                        "{'names': ['NLP_CHEST_041', 'NLP_CHEST_040', 'NLP_CHEST_064', 'NLP_CHEST_008'], 'pixel_values': tensor([[[[-0.9216, -0.9216, -0.9216,  ..., -0.9137, -0.9137, -0.9137],\n",
                        "          [-0.9216, -0.9216, -0.9216,  ..., -0.7098, -0.6157, -0.5765],\n",
                        "          [-0.9216, -0.9216, -0.9216,  ..., -0.4902, -0.5059, -0.4196],\n",
                        "          ...,\n",
                        "          [-1.0000, -1.0000, -1.0000,  ..., -1.0000, -1.0000, -1.0000],\n",
                        "          [-1.0000, -0.9922, -1.0000,  ..., -1.0000, -0.9843, -0.9294],\n",
                        "          [-0.9922, -0.9922, -1.0000,  ..., -1.0000, -0.8510, -0.3020]],\n",
                        "\n",
                        "         [[-0.9216, -0.9216, -0.9216,  ..., -0.9137, -0.9137, -0.9137],\n",
                        "          [-0.9216, -0.9216, -0.9216,  ..., -0.7098, -0.6157, -0.5765],\n",
                        "          [-0.9216, -0.9216, -0.9216,  ..., -0.4902, -0.5059, -0.4196],\n",
                        "          ...,\n",
                        "          [-1.0000, -1.0000, -1.0000,  ..., -1.0000, -1.0000, -1.0000],\n",
                        "          [-1.0000, -0.9922, -1.0000,  ..., -1.0000, -0.9843, -0.9294],\n",
                        "          [-0.9922, -0.9922, -1.0000,  ..., -1.0000, -0.8510, -0.3020]],\n",
                        "\n",
                        "         [[-0.9216, -0.9216, -0.9216,  ..., -0.9137, -0.9137, -0.9137],\n",
                        "          [-0.9216, -0.9216, -0.9216,  ..., -0.7098, -0.6157, -0.5765],\n",
                        "          [-0.9216, -0.9216, -0.9216,  ..., -0.4902, -0.5059, -0.4196],\n",
                        "          ...,\n",
                        "          [-1.0000, -1.0000, -1.0000,  ..., -1.0000, -1.0000, -1.0000],\n",
                        "          [-1.0000, -0.9922, -1.0000,  ..., -1.0000, -0.9843, -0.9294],\n",
                        "          [-0.9922, -0.9922, -1.0000,  ..., -1.0000, -0.8510, -0.3020]]],\n",
                        "\n",
                        "\n",
                        "        [[[-0.7176, -0.7098, -0.7098,  ..., -0.7882, -0.7882, -0.7804],\n",
                        "          [-0.7412, -0.7412, -0.7412,  ..., -0.6157, -0.5294, -0.4902],\n",
                        "          [-0.7725, -0.7725, -0.7725,  ..., -0.4353, -0.4431, -0.3647],\n",
                        "          ...,\n",
                        "          [-0.9843, -0.9294, -0.8196,  ...,  0.4980,  0.4667,  0.4667],\n",
                        "          [-0.9843, -0.9216, -0.8196,  ...,  0.5216,  0.4745,  0.4353],\n",
                        "          [-0.9843, -0.9137, -0.7961,  ...,  0.5451,  0.4431,  0.1922]],\n",
                        "\n",
                        "         [[-0.7176, -0.7098, -0.7098,  ..., -0.7882, -0.7882, -0.7804],\n",
                        "          [-0.7412, -0.7412, -0.7412,  ..., -0.6157, -0.5294, -0.4902],\n",
                        "          [-0.7725, -0.7725, -0.7725,  ..., -0.4353, -0.4431, -0.3647],\n",
                        "          ...,\n",
                        "          [-0.9843, -0.9294, -0.8196,  ...,  0.4980,  0.4667,  0.4667],\n",
                        "          [-0.9843, -0.9216, -0.8196,  ...,  0.5216,  0.4745,  0.4353],\n",
                        "          [-0.9843, -0.9137, -0.7961,  ...,  0.5451,  0.4431,  0.1922]],\n",
                        "\n",
                        "         [[-0.7176, -0.7098, -0.7098,  ..., -0.7882, -0.7882, -0.7804],\n",
                        "          [-0.7412, -0.7412, -0.7412,  ..., -0.6157, -0.5294, -0.4902],\n",
                        "          [-0.7725, -0.7725, -0.7725,  ..., -0.4353, -0.4431, -0.3647],\n",
                        "          ...,\n",
                        "          [-0.9843, -0.9294, -0.8196,  ...,  0.4980,  0.4667,  0.4667],\n",
                        "          [-0.9843, -0.9216, -0.8196,  ...,  0.5216,  0.4745,  0.4353],\n",
                        "          [-0.9843, -0.9137, -0.7961,  ...,  0.5451,  0.4431,  0.1922]]],\n",
                        "\n",
                        "\n",
                        "        [[[-0.9608, -0.9608, -0.9608,  ..., -0.8980, -0.7569, -0.7176],\n",
                        "          [-0.9529, -0.9529, -0.9529,  ..., -0.9451, -0.8275, -0.8275],\n",
                        "          [-0.9529, -0.9529, -0.9529,  ..., -0.9686, -0.9686, -0.9686],\n",
                        "          ...,\n",
                        "          [-1.0000, -1.0000, -0.9608,  ..., -0.9765, -1.0000, -1.0000],\n",
                        "          [-1.0000, -1.0000, -0.9529,  ..., -0.9765, -1.0000, -1.0000],\n",
                        "          [-1.0000, -0.9922, -0.9451,  ..., -0.9843, -1.0000, -1.0000]],\n",
                        "\n",
                        "         [[-0.9608, -0.9608, -0.9608,  ..., -0.8980, -0.7569, -0.7176],\n",
                        "          [-0.9529, -0.9529, -0.9529,  ..., -0.9451, -0.8275, -0.8275],\n",
                        "          [-0.9529, -0.9529, -0.9529,  ..., -0.9686, -0.9686, -0.9686],\n",
                        "          ...,\n",
                        "          [-1.0000, -1.0000, -0.9608,  ..., -0.9765, -1.0000, -1.0000],\n",
                        "          [-1.0000, -1.0000, -0.9529,  ..., -0.9765, -1.0000, -1.0000],\n",
                        "          [-1.0000, -0.9922, -0.9451,  ..., -0.9843, -1.0000, -1.0000]],\n",
                        "\n",
                        "         [[-0.9608, -0.9608, -0.9608,  ..., -0.8980, -0.7569, -0.7176],\n",
                        "          [-0.9529, -0.9529, -0.9529,  ..., -0.9451, -0.8275, -0.8275],\n",
                        "          [-0.9529, -0.9529, -0.9529,  ..., -0.9686, -0.9686, -0.9686],\n",
                        "          ...,\n",
                        "          [-1.0000, -1.0000, -0.9608,  ..., -0.9765, -1.0000, -1.0000],\n",
                        "          [-1.0000, -1.0000, -0.9529,  ..., -0.9765, -1.0000, -1.0000],\n",
                        "          [-1.0000, -0.9922, -0.9451,  ..., -0.9843, -1.0000, -1.0000]]],\n",
                        "\n",
                        "\n",
                        "        [[[-0.8196, -0.8196, -0.8196,  ..., -0.8353, -0.7569, -0.5451],\n",
                        "          [-0.7804, -0.7804, -0.7804,  ..., -0.8118, -0.8039, -0.7647],\n",
                        "          [-0.7647, -0.7725, -0.7647,  ..., -0.8039, -0.8039, -0.8039],\n",
                        "          ...,\n",
                        "          [-0.8824, -0.8902, -0.9059,  ..., -1.0000, -1.0000, -1.0000],\n",
                        "          [-0.8902, -0.8980, -0.9137,  ..., -1.0000, -1.0000, -1.0000],\n",
                        "          [-0.9373, -0.9451, -0.9529,  ..., -1.0000, -1.0000, -1.0000]],\n",
                        "\n",
                        "         [[-0.8196, -0.8196, -0.8196,  ..., -0.8353, -0.7569, -0.5451],\n",
                        "          [-0.7804, -0.7804, -0.7804,  ..., -0.8118, -0.8039, -0.7647],\n",
                        "          [-0.7647, -0.7725, -0.7647,  ..., -0.8039, -0.8039, -0.8039],\n",
                        "          ...,\n",
                        "          [-0.8824, -0.8902, -0.9059,  ..., -1.0000, -1.0000, -1.0000],\n",
                        "          [-0.8902, -0.8980, -0.9137,  ..., -1.0000, -1.0000, -1.0000],\n",
                        "          [-0.9373, -0.9451, -0.9529,  ..., -1.0000, -1.0000, -1.0000]],\n",
                        "\n",
                        "         [[-0.8196, -0.8196, -0.8196,  ..., -0.8353, -0.7569, -0.5451],\n",
                        "          [-0.7804, -0.7804, -0.7804,  ..., -0.8118, -0.8039, -0.7647],\n",
                        "          [-0.7647, -0.7725, -0.7647,  ..., -0.8039, -0.8039, -0.8039],\n",
                        "          ...,\n",
                        "          [-0.8824, -0.8902, -0.9059,  ..., -1.0000, -1.0000, -1.0000],\n",
                        "          [-0.8902, -0.8980, -0.9137,  ..., -1.0000, -1.0000, -1.0000],\n",
                        "          [-0.9373, -0.9451, -0.9529,  ..., -1.0000, -1.0000, -1.0000]]]],\n",
                        "       device='cuda:0'), 'label_ids': tensor([[ 101, 2229,  170,  ...,    0,    0,    0],\n",
                        "        [ 101, 2229, 6188,  ...,    0,    0,    0],\n",
                        "        [ 101, 2229,  193,  ...,    0,    0,    0],\n",
                        "        [ 101, 2229,  185,  ...,    0,    0,    0]], device='cuda:0')}\n",
                        "{'names': ['NLP_CHEST_026', 'NLP_CHEST_095', 'NLP_CHEST_024', 'NLP_CHEST_038'], 'pixel_values': tensor([[[[-0.9529, -0.9529, -0.9529,  ..., -0.8667, -0.7882, -0.5608],\n",
                        "          [-0.9608, -0.9608, -0.9608,  ..., -0.8039, -0.6784, -0.6863],\n",
                        "          [-0.9608, -0.9608, -0.9608,  ..., -0.2706, -0.4588, -0.2706],\n",
                        "          ...,\n",
                        "          [-0.9686, -0.9765, -0.9843,  ..., -1.0000, -0.9843, -0.9922],\n",
                        "          [-0.9686, -0.9765, -0.9843,  ..., -0.9922, -0.9843, -0.9922],\n",
                        "          [-0.9686, -0.9765, -0.9765,  ..., -0.9922, -0.9922, -0.9922]],\n",
                        "\n",
                        "         [[-0.9529, -0.9529, -0.9529,  ..., -0.8667, -0.7882, -0.5608],\n",
                        "          [-0.9608, -0.9608, -0.9608,  ..., -0.8039, -0.6784, -0.6863],\n",
                        "          [-0.9608, -0.9608, -0.9608,  ..., -0.2706, -0.4588, -0.2706],\n",
                        "          ...,\n",
                        "          [-0.9686, -0.9765, -0.9843,  ..., -1.0000, -0.9843, -0.9922],\n",
                        "          [-0.9686, -0.9765, -0.9843,  ..., -0.9922, -0.9843, -0.9922],\n",
                        "          [-0.9686, -0.9765, -0.9765,  ..., -0.9922, -0.9922, -0.9922]],\n",
                        "\n",
                        "         [[-0.9529, -0.9529, -0.9529,  ..., -0.8667, -0.7882, -0.5608],\n",
                        "          [-0.9608, -0.9608, -0.9608,  ..., -0.8039, -0.6784, -0.6863],\n",
                        "          [-0.9608, -0.9608, -0.9608,  ..., -0.2706, -0.4588, -0.2706],\n",
                        "          ...,\n",
                        "          [-0.9686, -0.9765, -0.9843,  ..., -1.0000, -0.9843, -0.9922],\n",
                        "          [-0.9686, -0.9765, -0.9843,  ..., -0.9922, -0.9843, -0.9922],\n",
                        "          [-0.9686, -0.9765, -0.9765,  ..., -0.9922, -0.9922, -0.9922]]],\n",
                        "\n",
                        "\n",
                        "        [[[-0.9373, -0.9373, -0.9294,  ..., -0.9922, -0.9608, -0.9765],\n",
                        "          [-0.9373, -0.9294, -0.9294,  ..., -0.7020, -0.4118, -0.4196],\n",
                        "          [-0.9373, -0.9294, -0.9294,  ..., -0.1686, -0.0745, -0.1373],\n",
                        "          ...,\n",
                        "          [-0.6941, -0.7098, -0.7333,  ..., -0.7882, -0.8824, -0.9608],\n",
                        "          [-0.6627, -0.7176, -0.7412,  ..., -0.7647, -0.8667, -0.9451],\n",
                        "          [-0.2627, -0.6941, -0.7569,  ..., -0.7255, -0.8353, -0.9294]],\n",
                        "\n",
                        "         [[-0.9373, -0.9373, -0.9294,  ..., -0.9922, -0.9608, -0.9765],\n",
                        "          [-0.9373, -0.9294, -0.9294,  ..., -0.7020, -0.4118, -0.4196],\n",
                        "          [-0.9373, -0.9294, -0.9294,  ..., -0.1686, -0.0745, -0.1373],\n",
                        "          ...,\n",
                        "          [-0.6941, -0.7098, -0.7333,  ..., -0.7882, -0.8824, -0.9608],\n",
                        "          [-0.6627, -0.7176, -0.7412,  ..., -0.7647, -0.8667, -0.9451],\n",
                        "          [-0.2627, -0.6941, -0.7569,  ..., -0.7255, -0.8353, -0.9294]],\n",
                        "\n",
                        "         [[-0.9373, -0.9373, -0.9294,  ..., -0.9922, -0.9608, -0.9765],\n",
                        "          [-0.9373, -0.9294, -0.9294,  ..., -0.7020, -0.4118, -0.4196],\n",
                        "          [-0.9373, -0.9294, -0.9294,  ..., -0.1686, -0.0745, -0.1373],\n",
                        "          ...,\n",
                        "          [-0.6941, -0.7098, -0.7333,  ..., -0.7882, -0.8824, -0.9608],\n",
                        "          [-0.6627, -0.7176, -0.7412,  ..., -0.7647, -0.8667, -0.9451],\n",
                        "          [-0.2627, -0.6941, -0.7569,  ..., -0.7255, -0.8353, -0.9294]]],\n",
                        "\n",
                        "\n",
                        "        [[[-0.7804, -0.7882, -0.7882,  ..., -0.7490, -0.6941, -0.5216],\n",
                        "          [-0.7961, -0.7961, -0.7961,  ..., -0.7569, -0.7490, -0.7176],\n",
                        "          [-0.7961, -0.8039, -0.8039,  ..., -0.7647, -0.7647, -0.7647],\n",
                        "          ...,\n",
                        "          [-0.8588, -0.8588, -0.8353,  ..., -0.7490, -0.7490, -0.7412],\n",
                        "          [-0.8588, -0.8588, -0.8353,  ..., -0.7490, -0.7490, -0.7490],\n",
                        "          [-0.8588, -0.8510, -0.8275,  ..., -0.7490, -0.7412, -0.7412]],\n",
                        "\n",
                        "         [[-0.7804, -0.7882, -0.7882,  ..., -0.7490, -0.6941, -0.5216],\n",
                        "          [-0.7961, -0.7961, -0.7961,  ..., -0.7569, -0.7490, -0.7176],\n",
                        "          [-0.7961, -0.8039, -0.8039,  ..., -0.7647, -0.7647, -0.7647],\n",
                        "          ...,\n",
                        "          [-0.8588, -0.8588, -0.8353,  ..., -0.7490, -0.7490, -0.7412],\n",
                        "          [-0.8588, -0.8588, -0.8353,  ..., -0.7490, -0.7490, -0.7490],\n",
                        "          [-0.8588, -0.8510, -0.8275,  ..., -0.7490, -0.7412, -0.7412]],\n",
                        "\n",
                        "         [[-0.7804, -0.7882, -0.7882,  ..., -0.7490, -0.6941, -0.5216],\n",
                        "          [-0.7961, -0.7961, -0.7961,  ..., -0.7569, -0.7490, -0.7176],\n",
                        "          [-0.7961, -0.8039, -0.8039,  ..., -0.7647, -0.7647, -0.7647],\n",
                        "          ...,\n",
                        "          [-0.8588, -0.8588, -0.8353,  ..., -0.7490, -0.7490, -0.7412],\n",
                        "          [-0.8588, -0.8588, -0.8353,  ..., -0.7490, -0.7490, -0.7490],\n",
                        "          [-0.8588, -0.8510, -0.8275,  ..., -0.7490, -0.7412, -0.7412]]],\n",
                        "\n",
                        "\n",
                        "        [[[-0.2078, -0.5765, -0.6706,  ..., -0.7098, -0.7020, -0.6941],\n",
                        "          [-0.6863, -0.7176, -0.7255,  ..., -0.5686, -0.4824, -0.4431],\n",
                        "          [-0.7804, -0.7804, -0.7804,  ..., -0.4118, -0.4196, -0.3333],\n",
                        "          ...,\n",
                        "          [-0.8902, -0.6235, -0.3412,  ..., -0.8667, -0.9216, -0.9843],\n",
                        "          [-0.9451, -0.7333, -0.4510,  ..., -0.8667, -0.9059, -0.9843],\n",
                        "          [-0.9686, -0.8196, -0.5608,  ..., -0.8510, -0.8824, -0.9765]],\n",
                        "\n",
                        "         [[-0.2078, -0.5765, -0.6706,  ..., -0.7098, -0.7020, -0.6941],\n",
                        "          [-0.6863, -0.7176, -0.7255,  ..., -0.5686, -0.4824, -0.4431],\n",
                        "          [-0.7804, -0.7804, -0.7804,  ..., -0.4118, -0.4196, -0.3333],\n",
                        "          ...,\n",
                        "          [-0.8902, -0.6235, -0.3412,  ..., -0.8667, -0.9216, -0.9843],\n",
                        "          [-0.9451, -0.7333, -0.4510,  ..., -0.8667, -0.9059, -0.9843],\n",
                        "          [-0.9686, -0.8196, -0.5608,  ..., -0.8510, -0.8824, -0.9765]],\n",
                        "\n",
                        "         [[-0.2078, -0.5765, -0.6706,  ..., -0.7098, -0.7020, -0.6941],\n",
                        "          [-0.6863, -0.7176, -0.7255,  ..., -0.5686, -0.4824, -0.4431],\n",
                        "          [-0.7804, -0.7804, -0.7804,  ..., -0.4118, -0.4196, -0.3333],\n",
                        "          ...,\n",
                        "          [-0.8902, -0.6235, -0.3412,  ..., -0.8667, -0.9216, -0.9843],\n",
                        "          [-0.9451, -0.7333, -0.4510,  ..., -0.8667, -0.9059, -0.9843],\n",
                        "          [-0.9686, -0.8196, -0.5608,  ..., -0.8510, -0.8824, -0.9765]]]],\n",
                        "       device='cuda:0'), 'label_ids': tensor([[ 101, 2229,  185,  ...,    0,    0,    0],\n",
                        "        [ 101, 2229,  185,  ...,    0,    0,    0],\n",
                        "        [ 101, 2229,  185,  ...,    0,    0,    0],\n",
                        "        [ 101, 2229, 6188,  ...,    0,    0,    0]], device='cuda:0')}\n",
                        "{'names': ['NLP_CHEST_069', 'NLP_CHEST_016', 'NLP_CHEST_088', 'NLP_CHEST_068'], 'pixel_values': tensor([[[[-0.9608, -0.9608, -0.9608,  ..., -0.9451, -0.8510, -0.5843],\n",
                        "          [-0.9608, -0.9608, -0.9608,  ..., -0.8353, -0.7098, -0.7176],\n",
                        "          [-0.9608, -0.9608, -0.9608,  ..., -0.2784, -0.4667, -0.2784],\n",
                        "          ...,\n",
                        "          [-0.6549, -0.5451, -0.4039,  ..., -0.9608, -0.9529, -0.9529],\n",
                        "          [-0.4510, -0.3569, -0.2549,  ..., -0.9608, -0.9529, -0.9529],\n",
                        "          [-0.3020, -0.2078, -0.1059,  ..., -0.9608, -0.9529, -0.9529]],\n",
                        "\n",
                        "         [[-0.9608, -0.9608, -0.9608,  ..., -0.9451, -0.8510, -0.5843],\n",
                        "          [-0.9608, -0.9608, -0.9608,  ..., -0.8353, -0.7098, -0.7176],\n",
                        "          [-0.9608, -0.9608, -0.9608,  ..., -0.2784, -0.4667, -0.2784],\n",
                        "          ...,\n",
                        "          [-0.6549, -0.5451, -0.4039,  ..., -0.9608, -0.9529, -0.9529],\n",
                        "          [-0.4510, -0.3569, -0.2549,  ..., -0.9608, -0.9529, -0.9529],\n",
                        "          [-0.3020, -0.2078, -0.1059,  ..., -0.9608, -0.9529, -0.9529]],\n",
                        "\n",
                        "         [[-0.9608, -0.9608, -0.9608,  ..., -0.9451, -0.8510, -0.5843],\n",
                        "          [-0.9608, -0.9608, -0.9608,  ..., -0.8353, -0.7098, -0.7176],\n",
                        "          [-0.9608, -0.9608, -0.9608,  ..., -0.2784, -0.4667, -0.2784],\n",
                        "          ...,\n",
                        "          [-0.6549, -0.5451, -0.4039,  ..., -0.9608, -0.9529, -0.9529],\n",
                        "          [-0.4510, -0.3569, -0.2549,  ..., -0.9608, -0.9529, -0.9529],\n",
                        "          [-0.3020, -0.2078, -0.1059,  ..., -0.9608, -0.9529, -0.9529]]],\n",
                        "\n",
                        "\n",
                        "        [[[-0.8745, -0.8745, -0.8745,  ..., -0.8196, -0.7412, -0.6863],\n",
                        "          [-0.8667, -0.8667, -0.8667,  ..., -0.8510, -0.7569, -0.7569],\n",
                        "          [-0.8588, -0.8588, -0.8588,  ..., -0.8745, -0.8745, -0.8745],\n",
                        "          ...,\n",
                        "          [-0.7725, -0.6157, -0.4431,  ..., -0.9451, -0.9686, -1.0000],\n",
                        "          [-0.7725, -0.6157, -0.4275,  ..., -0.9451, -0.9765, -1.0000],\n",
                        "          [-0.7725, -0.6078, -0.4196,  ..., -0.9451, -0.9765, -1.0000]],\n",
                        "\n",
                        "         [[-0.8745, -0.8745, -0.8745,  ..., -0.8196, -0.7412, -0.6863],\n",
                        "          [-0.8667, -0.8667, -0.8667,  ..., -0.8510, -0.7569, -0.7569],\n",
                        "          [-0.8588, -0.8588, -0.8588,  ..., -0.8745, -0.8745, -0.8745],\n",
                        "          ...,\n",
                        "          [-0.7725, -0.6157, -0.4431,  ..., -0.9451, -0.9686, -1.0000],\n",
                        "          [-0.7725, -0.6157, -0.4275,  ..., -0.9451, -0.9765, -1.0000],\n",
                        "          [-0.7725, -0.6078, -0.4196,  ..., -0.9451, -0.9765, -1.0000]],\n",
                        "\n",
                        "         [[-0.8745, -0.8745, -0.8745,  ..., -0.8196, -0.7412, -0.6863],\n",
                        "          [-0.8667, -0.8667, -0.8667,  ..., -0.8510, -0.7569, -0.7569],\n",
                        "          [-0.8588, -0.8588, -0.8588,  ..., -0.8745, -0.8745, -0.8745],\n",
                        "          ...,\n",
                        "          [-0.7725, -0.6157, -0.4431,  ..., -0.9451, -0.9686, -1.0000],\n",
                        "          [-0.7725, -0.6157, -0.4275,  ..., -0.9451, -0.9765, -1.0000],\n",
                        "          [-0.7725, -0.6078, -0.4196,  ..., -0.9451, -0.9765, -1.0000]]],\n",
                        "\n",
                        "\n",
                        "        [[[-0.3098, -0.8667, -1.0000,  ..., -0.9922, -0.9373, -0.9765],\n",
                        "          [-0.9294, -0.9843, -1.0000,  ..., -0.7804, -0.3412, -0.4039],\n",
                        "          [-1.0000, -1.0000, -1.0000,  ..., -0.4824, -0.2157, -0.4431],\n",
                        "          ...,\n",
                        "          [ 0.2078,  0.2157,  0.2314,  ...,  0.2784,  0.2549,  0.2392],\n",
                        "          [ 0.2235,  0.2314,  0.2314,  ...,  0.2863,  0.2784,  0.2706],\n",
                        "          [ 0.2000,  0.2157,  0.2314,  ...,  0.2941,  0.2941,  0.2941]],\n",
                        "\n",
                        "         [[-0.3098, -0.8667, -1.0000,  ..., -0.9922, -0.9373, -0.9765],\n",
                        "          [-0.9294, -0.9843, -1.0000,  ..., -0.7804, -0.3412, -0.4039],\n",
                        "          [-1.0000, -1.0000, -1.0000,  ..., -0.4824, -0.2157, -0.4431],\n",
                        "          ...,\n",
                        "          [ 0.2078,  0.2157,  0.2314,  ...,  0.2784,  0.2549,  0.2392],\n",
                        "          [ 0.2235,  0.2314,  0.2314,  ...,  0.2863,  0.2784,  0.2706],\n",
                        "          [ 0.2000,  0.2157,  0.2314,  ...,  0.2941,  0.2941,  0.2941]],\n",
                        "\n",
                        "         [[-0.3098, -0.8667, -1.0000,  ..., -0.9922, -0.9373, -0.9765],\n",
                        "          [-0.9294, -0.9843, -1.0000,  ..., -0.7804, -0.3412, -0.4039],\n",
                        "          [-1.0000, -1.0000, -1.0000,  ..., -0.4824, -0.2157, -0.4431],\n",
                        "          ...,\n",
                        "          [ 0.2078,  0.2157,  0.2314,  ...,  0.2784,  0.2549,  0.2392],\n",
                        "          [ 0.2235,  0.2314,  0.2314,  ...,  0.2863,  0.2784,  0.2706],\n",
                        "          [ 0.2000,  0.2157,  0.2314,  ...,  0.2941,  0.2941,  0.2941]]],\n",
                        "\n",
                        "\n",
                        "        [[[-0.9686, -0.9686, -0.9686,  ..., -0.9765, -0.8824, -0.6000],\n",
                        "          [-0.9686, -0.9686, -0.9686,  ..., -0.8745, -0.7412, -0.7490],\n",
                        "          [-0.9686, -0.9686, -0.9686,  ..., -0.3020, -0.4902, -0.3020],\n",
                        "          ...,\n",
                        "          [-1.0000, -1.0000, -1.0000,  ..., -1.0000, -1.0000, -1.0000],\n",
                        "          [-1.0000, -1.0000, -1.0000,  ..., -1.0000, -1.0000, -1.0000],\n",
                        "          [-1.0000, -1.0000, -0.9922,  ..., -1.0000, -1.0000, -1.0000]],\n",
                        "\n",
                        "         [[-0.9686, -0.9686, -0.9686,  ..., -0.9765, -0.8824, -0.6000],\n",
                        "          [-0.9686, -0.9686, -0.9686,  ..., -0.8745, -0.7412, -0.7490],\n",
                        "          [-0.9686, -0.9686, -0.9686,  ..., -0.3020, -0.4902, -0.3020],\n",
                        "          ...,\n",
                        "          [-1.0000, -1.0000, -1.0000,  ..., -1.0000, -1.0000, -1.0000],\n",
                        "          [-1.0000, -1.0000, -1.0000,  ..., -1.0000, -1.0000, -1.0000],\n",
                        "          [-1.0000, -1.0000, -0.9922,  ..., -1.0000, -1.0000, -1.0000]],\n",
                        "\n",
                        "         [[-0.9686, -0.9686, -0.9686,  ..., -0.9765, -0.8824, -0.6000],\n",
                        "          [-0.9686, -0.9686, -0.9686,  ..., -0.8745, -0.7412, -0.7490],\n",
                        "          [-0.9686, -0.9686, -0.9686,  ..., -0.3020, -0.4902, -0.3020],\n",
                        "          ...,\n",
                        "          [-1.0000, -1.0000, -1.0000,  ..., -1.0000, -1.0000, -1.0000],\n",
                        "          [-1.0000, -1.0000, -1.0000,  ..., -1.0000, -1.0000, -1.0000],\n",
                        "          [-1.0000, -1.0000, -0.9922,  ..., -1.0000, -1.0000, -1.0000]]]],\n",
                        "       device='cuda:0'), 'label_ids': tensor([[ 101, 2229,  170,  ...,    0,    0,    0],\n",
                        "        [ 101, 2229,  185,  ...,    0,    0,    0],\n",
                        "        [ 101, 2229,  170,  ...,    0,    0,    0],\n",
                        "        [ 101, 2229, 6188,  ...,    0,    0,    0]], device='cuda:0')}\n",
                        "{'names': ['NLP_CHEST_035'], 'pixel_values': tensor([[[[-0.9686, -0.9686, -0.9686,  ..., -0.6863, -0.6235, -0.4980],\n",
                        "          [-0.9686, -0.9686, -0.9686,  ..., -0.7020, -0.5765, -0.6000],\n",
                        "          [-0.9686, -0.9686, -0.9686,  ..., -0.2392, -0.4196, -0.2314],\n",
                        "          ...,\n",
                        "          [-1.0000, -0.9059, -0.5451,  ..., -1.0000, -1.0000, -1.0000],\n",
                        "          [-1.0000, -0.8667, -0.4980,  ..., -1.0000, -1.0000, -1.0000],\n",
                        "          [-1.0000, -0.8275, -0.4510,  ..., -1.0000, -1.0000, -1.0000]],\n",
                        "\n",
                        "         [[-0.9686, -0.9686, -0.9686,  ..., -0.6863, -0.6235, -0.4980],\n",
                        "          [-0.9686, -0.9686, -0.9686,  ..., -0.7020, -0.5765, -0.6000],\n",
                        "          [-0.9686, -0.9686, -0.9686,  ..., -0.2392, -0.4196, -0.2314],\n",
                        "          ...,\n",
                        "          [-1.0000, -0.9059, -0.5451,  ..., -1.0000, -1.0000, -1.0000],\n",
                        "          [-1.0000, -0.8667, -0.4980,  ..., -1.0000, -1.0000, -1.0000],\n",
                        "          [-1.0000, -0.8275, -0.4510,  ..., -1.0000, -1.0000, -1.0000]],\n",
                        "\n",
                        "         [[-0.9686, -0.9686, -0.9686,  ..., -0.6863, -0.6235, -0.4980],\n",
                        "          [-0.9686, -0.9686, -0.9686,  ..., -0.7020, -0.5765, -0.6000],\n",
                        "          [-0.9686, -0.9686, -0.9686,  ..., -0.2392, -0.4196, -0.2314],\n",
                        "          ...,\n",
                        "          [-1.0000, -0.9059, -0.5451,  ..., -1.0000, -1.0000, -1.0000],\n",
                        "          [-1.0000, -0.8667, -0.4980,  ..., -1.0000, -1.0000, -1.0000],\n",
                        "          [-1.0000, -0.8275, -0.4510,  ..., -1.0000, -1.0000, -1.0000]]]],\n",
                        "       device='cuda:0'), 'label_ids': tensor([[  101,  2229,  6188,  1273,  2799,   131,  8351,   131,   118,   187,\n",
                        "           120,   184,  1268,  2211, 13093,  6873,  8722,   119,   118,  2569,\n",
                        "          1107,  8702,  6066, 14048,  1107,  1241,  8682,   119,   118,  6252,\n",
                        "          1104,  1268, 23123,  2386,  1465,  7880, 20484,  1306,   119,   118,\n",
                        "          2999,  1762,  2060,   119,   188,   120,   185,  1884, 15789,  1616,\n",
                        "           188,  5208,  1916,   119,   118,  4267,  6951,  1120,  4679,  2155,\n",
                        "         10536, 10595,  1596,   170, 12148,  1161,   119,   118,   173,  3361,\n",
                        "          1181,  1104,  8340,   119, 28117, 20080,   119,   184, 13894,  4184,\n",
                        "         14824,  4863,   119,   102,     0,     0,     0,     0,     0,     0,\n",
                        "             0,     0,     0,     0,     0,     0,     0,     0,     0,     0,\n",
                        "             0,     0,     0,     0,     0,     0,     0,     0,     0,     0,\n",
                        "             0,     0,     0,     0,     0,     0,     0,     0,     0,     0,\n",
                        "             0,     0,     0,     0,     0,     0,     0,     0,     0,     0,\n",
                        "             0,     0,     0,     0,     0,     0,     0,     0,     0,     0,\n",
                        "             0,     0,     0,     0,     0,     0,     0,     0,     0,     0,\n",
                        "             0,     0,     0,     0,     0,     0,     0,     0,     0,     0,\n",
                        "             0,     0,     0,     0,     0,     0,     0,     0,     0,     0,\n",
                        "             0,     0,     0,     0,     0,     0,     0,     0,     0,     0,\n",
                        "             0,     0,     0,     0,     0,     0,     0,     0,     0,     0,\n",
                        "             0,     0,     0,     0,     0,     0,     0,     0,     0,     0,\n",
                        "             0,     0,     0,     0,     0,     0,     0,     0,     0,     0,\n",
                        "             0,     0,     0,     0,     0,     0,     0,     0,     0,     0,\n",
                        "             0,     0,     0,     0,     0,     0,     0,     0,     0,     0,\n",
                        "             0,     0,     0,     0,     0,     0,     0,     0,     0,     0,\n",
                        "             0,     0,     0,     0,     0,     0,     0,     0,     0,     0,\n",
                        "             0,     0,     0,     0,     0,     0]], device='cuda:0')}\n"
                    ]
                }
            ],
            "source": [
                "report_path = \"CXIRG_Data/train_data/reports.xlsx\"\n",
                "report_df = pd.read_excel(report_path)\n",
                "\n",
                "image_dir_path = \"CXIRG_Data/train_data/images\"\n",
                "\n",
                "train_data = []\n",
                "\n",
                "for image_name in os.listdir(image_dir_path):\n",
                "    image_path = os.path.join(image_dir_path, image_name)\n",
                "    \n",
                "    with Image.open(image_path) as img:\n",
                "        if img.mode != \"RGB\":\n",
                "            img = img.convert(\"RGB\")\n",
                "        text = report_df[report_df[\"name\"] == image_name[:13]][\"text\"].values[0].replace(\"_x000D_\", \"\\r\")\n",
                "\n",
                "        train_data.append({\n",
                "            \"name\": image_name[:13],\n",
                "            \"image\": img,\n",
                "            \"text\": text\n",
                "        })\n",
                "\n",
                "\n",
                "train_dataset = CXIRGDataset(train_data)\n",
                "\n",
                "train_dataloader = DataLoader(train_dataset, batch_size=4, shuffle=True, collate_fn=train_dl_collate_fn)\n",
                "\n",
                "for batch in train_dataloader:\n",
                "    print(batch)"
            ]
        },
        {
            "cell_type": "code",
            "execution_count": 8,
            "metadata": {},
            "outputs": [
                {
                    "name": "stdout",
                    "output_type": "stream",
                    "text": [
                        "{'names': ['NLP_CHEST_002', 'NLP_CHEST_004', 'NLP_CHEST_011', 'NLP_CHEST_015'], 'pixel_values': tensor([[[[-0.4980, -0.4824, -0.4745,  ..., -0.7255, -0.6549, -0.5059],\n",
                        "          [-0.3961, -0.3961, -0.3882,  ..., -0.7333, -0.7255, -0.6863],\n",
                        "          [-0.3882, -0.3882, -0.3882,  ..., -0.7412, -0.7333, -0.7255],\n",
                        "          ...,\n",
                        "          [-0.6863, -0.6863, -0.7020,  ..., -1.0000, -0.9922, -0.9922],\n",
                        "          [-0.6784, -0.6941, -0.7020,  ..., -1.0000, -0.9922, -0.9922],\n",
                        "          [-0.6706, -0.6784, -0.6863,  ..., -1.0000, -0.9922, -0.9922]],\n",
                        "\n",
                        "         [[-0.4980, -0.4824, -0.4745,  ..., -0.7255, -0.6549, -0.5059],\n",
                        "          [-0.3961, -0.3961, -0.3882,  ..., -0.7333, -0.7255, -0.6863],\n",
                        "          [-0.3882, -0.3882, -0.3882,  ..., -0.7412, -0.7333, -0.7255],\n",
                        "          ...,\n",
                        "          [-0.6863, -0.6863, -0.7020,  ..., -1.0000, -0.9922, -0.9922],\n",
                        "          [-0.6784, -0.6941, -0.7020,  ..., -1.0000, -0.9922, -0.9922],\n",
                        "          [-0.6706, -0.6784, -0.6863,  ..., -1.0000, -0.9922, -0.9922]],\n",
                        "\n",
                        "         [[-0.4980, -0.4824, -0.4745,  ..., -0.7255, -0.6549, -0.5059],\n",
                        "          [-0.3961, -0.3961, -0.3882,  ..., -0.7333, -0.7255, -0.6863],\n",
                        "          [-0.3882, -0.3882, -0.3882,  ..., -0.7412, -0.7333, -0.7255],\n",
                        "          ...,\n",
                        "          [-0.6863, -0.6863, -0.7020,  ..., -1.0000, -0.9922, -0.9922],\n",
                        "          [-0.6784, -0.6941, -0.7020,  ..., -1.0000, -0.9922, -0.9922],\n",
                        "          [-0.6706, -0.6784, -0.6863,  ..., -1.0000, -0.9922, -0.9922]]],\n",
                        "\n",
                        "\n",
                        "        [[[-0.3412, -0.8588, -0.9216,  ..., -0.8902, -0.8510, -0.8745],\n",
                        "          [-0.8667, -0.9137, -0.9216,  ..., -0.6392, -0.3255, -0.3412],\n",
                        "          [-0.9294, -0.9216, -0.9216,  ..., -0.3020, -0.1765, -0.3804],\n",
                        "          ...,\n",
                        "          [-0.9059, -0.9294, -0.9294,  ..., -0.8275, -0.9922, -1.0000],\n",
                        "          [-0.8824, -0.9294, -0.9294,  ..., -0.7412, -0.9686, -1.0000],\n",
                        "          [-0.8667, -0.9294, -0.9294,  ..., -0.6235, -0.9137, -1.0000]],\n",
                        "\n",
                        "         [[-0.3412, -0.8588, -0.9216,  ..., -0.8902, -0.8510, -0.8745],\n",
                        "          [-0.8667, -0.9137, -0.9216,  ..., -0.6392, -0.3255, -0.3412],\n",
                        "          [-0.9294, -0.9216, -0.9216,  ..., -0.3020, -0.1765, -0.3804],\n",
                        "          ...,\n",
                        "          [-0.9059, -0.9294, -0.9294,  ..., -0.8275, -0.9922, -1.0000],\n",
                        "          [-0.8824, -0.9294, -0.9294,  ..., -0.7412, -0.9686, -1.0000],\n",
                        "          [-0.8667, -0.9294, -0.9294,  ..., -0.6235, -0.9137, -1.0000]],\n",
                        "\n",
                        "         [[-0.3412, -0.8588, -0.9216,  ..., -0.8902, -0.8510, -0.8745],\n",
                        "          [-0.8667, -0.9137, -0.9216,  ..., -0.6392, -0.3255, -0.3412],\n",
                        "          [-0.9294, -0.9216, -0.9216,  ..., -0.3020, -0.1765, -0.3804],\n",
                        "          ...,\n",
                        "          [-0.9059, -0.9294, -0.9294,  ..., -0.8275, -0.9922, -1.0000],\n",
                        "          [-0.8824, -0.9294, -0.9294,  ..., -0.7412, -0.9686, -1.0000],\n",
                        "          [-0.8667, -0.9294, -0.9294,  ..., -0.6235, -0.9137, -1.0000]]],\n",
                        "\n",
                        "\n",
                        "        [[[-1.0000, -1.0000, -1.0000,  ..., -0.9373, -0.8980, -0.9137],\n",
                        "          [-1.0000, -1.0000, -1.0000,  ..., -0.6784, -0.3569, -0.3725],\n",
                        "          [-1.0000, -1.0000, -1.0000,  ..., -0.3333, -0.2078, -0.4118],\n",
                        "          ...,\n",
                        "          [-1.0000, -1.0000, -1.0000,  ..., -0.9529, -1.0000, -1.0000],\n",
                        "          [-1.0000, -1.0000, -1.0000,  ..., -0.9922, -0.9922, -0.9373],\n",
                        "          [-1.0000, -1.0000, -1.0000,  ..., -1.0000, -0.9294, -0.3725]],\n",
                        "\n",
                        "         [[-1.0000, -1.0000, -1.0000,  ..., -0.9373, -0.8980, -0.9137],\n",
                        "          [-1.0000, -1.0000, -1.0000,  ..., -0.6784, -0.3569, -0.3725],\n",
                        "          [-1.0000, -1.0000, -1.0000,  ..., -0.3333, -0.2078, -0.4118],\n",
                        "          ...,\n",
                        "          [-1.0000, -1.0000, -1.0000,  ..., -0.9529, -1.0000, -1.0000],\n",
                        "          [-1.0000, -1.0000, -1.0000,  ..., -0.9922, -0.9922, -0.9373],\n",
                        "          [-1.0000, -1.0000, -1.0000,  ..., -1.0000, -0.9294, -0.3725]],\n",
                        "\n",
                        "         [[-1.0000, -1.0000, -1.0000,  ..., -0.9373, -0.8980, -0.9137],\n",
                        "          [-1.0000, -1.0000, -1.0000,  ..., -0.6784, -0.3569, -0.3725],\n",
                        "          [-1.0000, -1.0000, -1.0000,  ..., -0.3333, -0.2078, -0.4118],\n",
                        "          ...,\n",
                        "          [-1.0000, -1.0000, -1.0000,  ..., -0.9529, -1.0000, -1.0000],\n",
                        "          [-1.0000, -1.0000, -1.0000,  ..., -0.9922, -0.9922, -0.9373],\n",
                        "          [-1.0000, -1.0000, -1.0000,  ..., -1.0000, -0.9294, -0.3725]]],\n",
                        "\n",
                        "\n",
                        "        [[[-0.8510, -0.8510, -0.8588,  ..., -0.8431, -0.7882, -0.5686],\n",
                        "          [-0.8588, -0.8588, -0.8588,  ..., -0.8431, -0.8353, -0.7961],\n",
                        "          [-0.8588, -0.8588, -0.8588,  ..., -0.8431, -0.8431, -0.8431],\n",
                        "          ...,\n",
                        "          [-1.0000, -0.9922, -0.8667,  ..., -1.0000, -1.0000, -1.0000],\n",
                        "          [-1.0000, -0.9922, -0.8824,  ..., -1.0000, -1.0000, -1.0000],\n",
                        "          [-1.0000, -0.9922, -0.8824,  ..., -1.0000, -1.0000, -1.0000]],\n",
                        "\n",
                        "         [[-0.8510, -0.8510, -0.8588,  ..., -0.8431, -0.7882, -0.5686],\n",
                        "          [-0.8588, -0.8588, -0.8588,  ..., -0.8431, -0.8353, -0.7961],\n",
                        "          [-0.8588, -0.8588, -0.8588,  ..., -0.8431, -0.8431, -0.8431],\n",
                        "          ...,\n",
                        "          [-1.0000, -0.9922, -0.8667,  ..., -1.0000, -1.0000, -1.0000],\n",
                        "          [-1.0000, -0.9922, -0.8824,  ..., -1.0000, -1.0000, -1.0000],\n",
                        "          [-1.0000, -0.9922, -0.8824,  ..., -1.0000, -1.0000, -1.0000]],\n",
                        "\n",
                        "         [[-0.8510, -0.8510, -0.8588,  ..., -0.8431, -0.7882, -0.5686],\n",
                        "          [-0.8588, -0.8588, -0.8588,  ..., -0.8431, -0.8353, -0.7961],\n",
                        "          [-0.8588, -0.8588, -0.8588,  ..., -0.8431, -0.8431, -0.8431],\n",
                        "          ...,\n",
                        "          [-1.0000, -0.9922, -0.8667,  ..., -1.0000, -1.0000, -1.0000],\n",
                        "          [-1.0000, -0.9922, -0.8824,  ..., -1.0000, -1.0000, -1.0000],\n",
                        "          [-1.0000, -0.9922, -0.8824,  ..., -1.0000, -1.0000, -1.0000]]]],\n",
                        "       device='cuda:0'), 'label_ids': tensor([[ 101, 2229,  185,  ...,    0,    0,    0],\n",
                        "        [ 101, 2229,  185,  ...,    0,    0,    0],\n",
                        "        [ 101, 2229,  170,  ...,    0,    0,    0],\n",
                        "        [ 101, 2229,  193,  ...,    0,    0,    0]], device='cuda:0')}\n",
                        "{'names': ['NLP_CHEST_027', 'NLP_CHEST_031', 'NLP_CHEST_057', 'NLP_CHEST_059'], 'pixel_values': tensor([[[[-0.7255, -0.7255, -0.7255,  ..., -0.6784, -0.6784, -0.6863],\n",
                        "          [-0.7490, -0.7569, -0.7569,  ..., -0.5451, -0.4667, -0.4275],\n",
                        "          [-0.7725, -0.7804, -0.7882,  ..., -0.3961, -0.4039, -0.3255],\n",
                        "          ...,\n",
                        "          [ 0.0431,  0.0353,  0.0431,  ..., -0.9765, -0.9373, -0.8118],\n",
                        "          [ 0.0902,  0.0980,  0.1059,  ..., -0.9765, -0.9294, -0.7569],\n",
                        "          [ 0.1843,  0.1529,  0.1373,  ..., -0.9529, -0.8039, -0.2471]],\n",
                        "\n",
                        "         [[-0.7255, -0.7255, -0.7255,  ..., -0.6784, -0.6784, -0.6863],\n",
                        "          [-0.7490, -0.7569, -0.7569,  ..., -0.5451, -0.4667, -0.4275],\n",
                        "          [-0.7725, -0.7804, -0.7882,  ..., -0.3961, -0.4039, -0.3255],\n",
                        "          ...,\n",
                        "          [ 0.0431,  0.0353,  0.0431,  ..., -0.9765, -0.9373, -0.8118],\n",
                        "          [ 0.0902,  0.0980,  0.1059,  ..., -0.9765, -0.9294, -0.7569],\n",
                        "          [ 0.1843,  0.1529,  0.1373,  ..., -0.9529, -0.8039, -0.2471]],\n",
                        "\n",
                        "         [[-0.7255, -0.7255, -0.7255,  ..., -0.6784, -0.6784, -0.6863],\n",
                        "          [-0.7490, -0.7569, -0.7569,  ..., -0.5451, -0.4667, -0.4275],\n",
                        "          [-0.7725, -0.7804, -0.7882,  ..., -0.3961, -0.4039, -0.3255],\n",
                        "          ...,\n",
                        "          [ 0.0431,  0.0353,  0.0431,  ..., -0.9765, -0.9373, -0.8118],\n",
                        "          [ 0.0902,  0.0980,  0.1059,  ..., -0.9765, -0.9294, -0.7569],\n",
                        "          [ 0.1843,  0.1529,  0.1373,  ..., -0.9529, -0.8039, -0.2471]]],\n",
                        "\n",
                        "\n",
                        "        [[[-0.9608, -0.9608, -0.9608,  ..., -0.7961, -0.7569, -0.7569],\n",
                        "          [-0.9529, -0.9608, -0.9608,  ..., -0.6157, -0.3412, -0.3333],\n",
                        "          [-0.9529, -0.9608, -0.9608,  ..., -0.3333, -0.2314, -0.3804],\n",
                        "          ...,\n",
                        "          [-1.0000, -1.0000, -1.0000,  ..., -0.9608, -0.9608, -0.9608],\n",
                        "          [-0.9294, -0.9922, -1.0000,  ..., -0.9529, -0.9608, -0.9686],\n",
                        "          [-0.3725, -0.9373, -1.0000,  ..., -0.9608, -0.9608, -0.9686]],\n",
                        "\n",
                        "         [[-0.9608, -0.9608, -0.9608,  ..., -0.7961, -0.7569, -0.7569],\n",
                        "          [-0.9529, -0.9608, -0.9608,  ..., -0.6157, -0.3412, -0.3333],\n",
                        "          [-0.9529, -0.9608, -0.9608,  ..., -0.3333, -0.2314, -0.3804],\n",
                        "          ...,\n",
                        "          [-1.0000, -1.0000, -1.0000,  ..., -0.9608, -0.9608, -0.9608],\n",
                        "          [-0.9294, -0.9922, -1.0000,  ..., -0.9529, -0.9608, -0.9686],\n",
                        "          [-0.3725, -0.9373, -1.0000,  ..., -0.9608, -0.9608, -0.9686]],\n",
                        "\n",
                        "         [[-0.9608, -0.9608, -0.9608,  ..., -0.7961, -0.7569, -0.7569],\n",
                        "          [-0.9529, -0.9608, -0.9608,  ..., -0.6157, -0.3412, -0.3333],\n",
                        "          [-0.9529, -0.9608, -0.9608,  ..., -0.3333, -0.2314, -0.3804],\n",
                        "          ...,\n",
                        "          [-1.0000, -1.0000, -1.0000,  ..., -0.9608, -0.9608, -0.9608],\n",
                        "          [-0.9294, -0.9922, -1.0000,  ..., -0.9529, -0.9608, -0.9686],\n",
                        "          [-0.3725, -0.9373, -1.0000,  ..., -0.9608, -0.9608, -0.9686]]],\n",
                        "\n",
                        "\n",
                        "        [[[-0.9294, -0.9294, -0.9294,  ..., -0.9294, -0.8902, -0.9059],\n",
                        "          [-0.9529, -0.9529, -0.9608,  ..., -0.6706, -0.3569, -0.3647],\n",
                        "          [-0.9608, -0.9608, -0.9608,  ..., -0.3255, -0.2000, -0.4039],\n",
                        "          ...,\n",
                        "          [ 0.1608,  0.1059,  0.0196,  ..., -0.0510,  0.0196,  0.0510],\n",
                        "          [ 0.1373,  0.0824,  0.0275,  ..., -0.0588,  0.0275,  0.0980],\n",
                        "          [ 0.1686,  0.0902,  0.0353,  ..., -0.0353,  0.0118,  0.0588]],\n",
                        "\n",
                        "         [[-0.9294, -0.9294, -0.9294,  ..., -0.9294, -0.8902, -0.9059],\n",
                        "          [-0.9529, -0.9529, -0.9608,  ..., -0.6706, -0.3569, -0.3647],\n",
                        "          [-0.9608, -0.9608, -0.9608,  ..., -0.3255, -0.2000, -0.4039],\n",
                        "          ...,\n",
                        "          [ 0.1608,  0.1059,  0.0196,  ..., -0.0510,  0.0196,  0.0510],\n",
                        "          [ 0.1373,  0.0824,  0.0275,  ..., -0.0588,  0.0275,  0.0980],\n",
                        "          [ 0.1686,  0.0902,  0.0353,  ..., -0.0353,  0.0118,  0.0588]],\n",
                        "\n",
                        "         [[-0.9294, -0.9294, -0.9294,  ..., -0.9294, -0.8902, -0.9059],\n",
                        "          [-0.9529, -0.9529, -0.9608,  ..., -0.6706, -0.3569, -0.3647],\n",
                        "          [-0.9608, -0.9608, -0.9608,  ..., -0.3255, -0.2000, -0.4039],\n",
                        "          ...,\n",
                        "          [ 0.1608,  0.1059,  0.0196,  ..., -0.0510,  0.0196,  0.0510],\n",
                        "          [ 0.1373,  0.0824,  0.0275,  ..., -0.0588,  0.0275,  0.0980],\n",
                        "          [ 0.1686,  0.0902,  0.0353,  ..., -0.0353,  0.0118,  0.0588]]],\n",
                        "\n",
                        "\n",
                        "        [[[-0.8118, -0.8118, -0.8196,  ..., -0.7725, -0.7725, -0.7725],\n",
                        "          [-0.8118, -0.8118, -0.8196,  ..., -0.6706, -0.5843, -0.6235],\n",
                        "          [-0.8196, -0.8196, -0.8196,  ..., -0.1608, -0.1294, -0.2078],\n",
                        "          ...,\n",
                        "          [-0.8353, -0.8431, -0.8510,  ..., -0.7882, -0.7882, -0.7882],\n",
                        "          [-0.8431, -0.8275, -0.8353,  ..., -0.7804, -0.7804, -0.7255],\n",
                        "          [-0.8039, -0.7804, -0.7961,  ..., -0.7882, -0.6706, -0.2314]],\n",
                        "\n",
                        "         [[-0.8118, -0.8118, -0.8196,  ..., -0.7725, -0.7725, -0.7725],\n",
                        "          [-0.8118, -0.8118, -0.8196,  ..., -0.6706, -0.5843, -0.6235],\n",
                        "          [-0.8196, -0.8196, -0.8196,  ..., -0.1608, -0.1294, -0.2078],\n",
                        "          ...,\n",
                        "          [-0.8353, -0.8431, -0.8510,  ..., -0.7882, -0.7882, -0.7882],\n",
                        "          [-0.8431, -0.8275, -0.8353,  ..., -0.7804, -0.7804, -0.7255],\n",
                        "          [-0.8039, -0.7804, -0.7961,  ..., -0.7882, -0.6706, -0.2314]],\n",
                        "\n",
                        "         [[-0.8118, -0.8118, -0.8196,  ..., -0.7725, -0.7725, -0.7725],\n",
                        "          [-0.8118, -0.8118, -0.8196,  ..., -0.6706, -0.5843, -0.6235],\n",
                        "          [-0.8196, -0.8196, -0.8196,  ..., -0.1608, -0.1294, -0.2078],\n",
                        "          ...,\n",
                        "          [-0.8353, -0.8431, -0.8510,  ..., -0.7882, -0.7882, -0.7882],\n",
                        "          [-0.8431, -0.8275, -0.8353,  ..., -0.7804, -0.7804, -0.7255],\n",
                        "          [-0.8039, -0.7804, -0.7961,  ..., -0.7882, -0.6706, -0.2314]]]],\n",
                        "       device='cuda:0'), 'label_ids': tensor([[  101,  2229,   185,  ...,     0,     0,     0],\n",
                        "        [  101,  2229,   185,  ...,     0,     0,     0],\n",
                        "        [  101,  2229,  6188,  ...,     0,     0,     0],\n",
                        "        [  101, 28117, 18351,  ...,     0,     0,     0]], device='cuda:0')}\n",
                        "{'names': ['NLP_CHEST_071', 'NLP_CHEST_085'], 'pixel_values': tensor([[[[-0.3412, -0.8431, -0.9137,  ..., -0.9294, -0.8980, -0.9137],\n",
                        "          [-0.8510, -0.8980, -0.9059,  ..., -0.6784, -0.3569, -0.3725],\n",
                        "          [-0.9137, -0.9059, -0.9137,  ..., -0.3333, -0.2078, -0.4118],\n",
                        "          ...,\n",
                        "          [-0.8980, -0.8980, -0.9059,  ..., -0.9608, -0.9373, -0.8667],\n",
                        "          [-0.8902, -0.8902, -0.8980,  ..., -0.9608, -0.9451, -0.8745],\n",
                        "          [-0.8902, -0.8902, -0.8980,  ..., -0.9608, -0.9451, -0.8902]],\n",
                        "\n",
                        "         [[-0.3412, -0.8431, -0.9137,  ..., -0.9294, -0.8980, -0.9137],\n",
                        "          [-0.8510, -0.8980, -0.9059,  ..., -0.6784, -0.3569, -0.3725],\n",
                        "          [-0.9137, -0.9059, -0.9137,  ..., -0.3333, -0.2078, -0.4118],\n",
                        "          ...,\n",
                        "          [-0.8980, -0.8980, -0.9059,  ..., -0.9608, -0.9373, -0.8667],\n",
                        "          [-0.8902, -0.8902, -0.8980,  ..., -0.9608, -0.9451, -0.8745],\n",
                        "          [-0.8902, -0.8902, -0.8980,  ..., -0.9608, -0.9451, -0.8902]],\n",
                        "\n",
                        "         [[-0.3412, -0.8431, -0.9137,  ..., -0.9294, -0.8980, -0.9137],\n",
                        "          [-0.8510, -0.8980, -0.9059,  ..., -0.6784, -0.3569, -0.3725],\n",
                        "          [-0.9137, -0.9059, -0.9137,  ..., -0.3333, -0.2078, -0.4118],\n",
                        "          ...,\n",
                        "          [-0.8980, -0.8980, -0.9059,  ..., -0.9608, -0.9373, -0.8667],\n",
                        "          [-0.8902, -0.8902, -0.8980,  ..., -0.9608, -0.9451, -0.8745],\n",
                        "          [-0.8902, -0.8902, -0.8980,  ..., -0.9608, -0.9451, -0.8902]]],\n",
                        "\n",
                        "\n",
                        "        [[[-0.7020, -0.7020, -0.7020,  ..., -0.7412, -0.6706, -0.5137],\n",
                        "          [-0.7098, -0.7098, -0.7098,  ..., -0.7412, -0.7333, -0.7020],\n",
                        "          [-0.7098, -0.7098, -0.7098,  ..., -0.7490, -0.7490, -0.7490],\n",
                        "          ...,\n",
                        "          [-0.8118, -0.7882, -0.7569,  ..., -0.8275, -0.8667, -0.9137],\n",
                        "          [-0.8039, -0.7804, -0.7647,  ..., -0.8275, -0.8588, -0.9137],\n",
                        "          [-0.7725, -0.7569, -0.7725,  ..., -0.8353, -0.8431, -0.9059]],\n",
                        "\n",
                        "         [[-0.7020, -0.7020, -0.7020,  ..., -0.7412, -0.6706, -0.5137],\n",
                        "          [-0.7098, -0.7098, -0.7098,  ..., -0.7412, -0.7333, -0.7020],\n",
                        "          [-0.7098, -0.7098, -0.7098,  ..., -0.7490, -0.7490, -0.7490],\n",
                        "          ...,\n",
                        "          [-0.8118, -0.7882, -0.7569,  ..., -0.8275, -0.8667, -0.9137],\n",
                        "          [-0.8039, -0.7804, -0.7647,  ..., -0.8275, -0.8588, -0.9137],\n",
                        "          [-0.7725, -0.7569, -0.7725,  ..., -0.8353, -0.8431, -0.9059]],\n",
                        "\n",
                        "         [[-0.7020, -0.7020, -0.7020,  ..., -0.7412, -0.6706, -0.5137],\n",
                        "          [-0.7098, -0.7098, -0.7098,  ..., -0.7412, -0.7333, -0.7020],\n",
                        "          [-0.7098, -0.7098, -0.7098,  ..., -0.7490, -0.7490, -0.7490],\n",
                        "          ...,\n",
                        "          [-0.8118, -0.7882, -0.7569,  ..., -0.8275, -0.8667, -0.9137],\n",
                        "          [-0.8039, -0.7804, -0.7647,  ..., -0.8275, -0.8588, -0.9137],\n",
                        "          [-0.7725, -0.7569, -0.7725,  ..., -0.8353, -0.8431, -0.9059]]]],\n",
                        "       device='cuda:0'), 'label_ids': tensor([[  101,  2229,  1273,  2196,   131,  8351,   131,   118, 20557, 13093,\n",
                        "          1107,  8702, 21875,  1116,   119,   118,  8095,  1268,  2211, 13093,\n",
                        "         10085,   119, 20294,  1158,  1268,   172,  1643,  6341,   119,   118,\n",
                        "          1106,  3740,  8163,  1120,  4679,  2155, 10536, 10595,  1596,   170,\n",
                        "         12148,  1161,   119,   118,   188,  2528,  9436,  4863,   117,   173,\n",
                        "          3361,  1181,  1105,   184, 13894,  4184, 14824,  4863,  1104,  8340,\n",
                        "           119, 14928, 22869,  1104,   189, 11964,   119,  1385, 22869,  1104,\n",
                        "          1286, 10346,   119,   118,   188,   120,   185,  8239,  1891,  1107,\n",
                        "           181,   118,  8340,   119,   118,   188,   120,   185,   189, 19366,\n",
                        "          4638, 15540, 18574,  1105, 21174,  7159,   119,   102,     0,     0,\n",
                        "             0,     0,     0,     0,     0,     0,     0,     0,     0,     0,\n",
                        "             0,     0,     0,     0,     0,     0,     0,     0,     0,     0,\n",
                        "             0,     0,     0,     0,     0,     0,     0,     0,     0,     0,\n",
                        "             0,     0,     0,     0,     0,     0,     0,     0,     0,     0,\n",
                        "             0,     0,     0,     0,     0,     0,     0,     0,     0,     0,\n",
                        "             0,     0,     0,     0,     0,     0,     0,     0,     0,     0,\n",
                        "             0,     0,     0,     0,     0,     0,     0,     0,     0,     0,\n",
                        "             0,     0,     0,     0,     0,     0,     0,     0,     0,     0,\n",
                        "             0,     0,     0,     0,     0,     0,     0,     0,     0,     0,\n",
                        "             0,     0,     0,     0,     0,     0,     0,     0,     0,     0,\n",
                        "             0,     0,     0,     0,     0,     0,     0,     0,     0,     0,\n",
                        "             0,     0,     0,     0,     0,     0,     0,     0,     0,     0,\n",
                        "             0,     0,     0,     0,     0,     0,     0,     0,     0,     0,\n",
                        "             0,     0,     0,     0,     0,     0,     0,     0,     0,     0,\n",
                        "             0,     0,     0,     0,     0,     0,     0,     0,     0,     0,\n",
                        "             0,     0,     0,     0,     0,     0],\n",
                        "        [  101,  2229,   193,  7586,   131,   118,  1268,   185,  1673,  1818,\n",
                        "         12858, 25632,  1114,   185,  1513, 12602,   174,  3101, 17268,   117,\n",
                        "          2781,  2112, 13734,  2176,  7159, 12693,   119,   118,  4154,  4841,\n",
                        "         12734, 13064,  9712, 22192,  2217,  1918,  1121,  2455,  1106,  1268,\n",
                        "          1334, 24438,  6533,  6617,  1665, 10096,   119,   118,  2569,  1268,\n",
                        "         20844,  5815, 11769, 19905,   119,   118,  1120,  4679,  2155, 10536,\n",
                        "         21556,  1105,  1106,  3740,  8163,   170, 12148,  1161,   119,   118,\n",
                        "         26771, 20557,  2616,  4184, 22165,  1596, 12879,   119,   118,   188,\n",
                        "          5674, 22600,  8867,  1548,  1105, 10496,   188,  2528,  9436,  4863,\n",
                        "          1104, 24438,  6533,  2528,  7776,  6824,  8340,   119,   118,   184,\n",
                        "          1161,  1104,  1268,   176,  7836, 10559, 15447,  4412,  4091,   119,\n",
                        "           118, 22214,   184, 13894, 15622,  5813,   119,   102,     0,     0,\n",
                        "             0,     0,     0,     0,     0,     0,     0,     0,     0,     0,\n",
                        "             0,     0,     0,     0,     0,     0,     0,     0,     0,     0,\n",
                        "             0,     0,     0,     0,     0,     0,     0,     0,     0,     0,\n",
                        "             0,     0,     0,     0,     0,     0,     0,     0,     0,     0,\n",
                        "             0,     0,     0,     0,     0,     0,     0,     0,     0,     0,\n",
                        "             0,     0,     0,     0,     0,     0,     0,     0,     0,     0,\n",
                        "             0,     0,     0,     0,     0,     0,     0,     0,     0,     0,\n",
                        "             0,     0,     0,     0,     0,     0,     0,     0,     0,     0,\n",
                        "             0,     0,     0,     0,     0,     0,     0,     0,     0,     0,\n",
                        "             0,     0,     0,     0,     0,     0,     0,     0,     0,     0,\n",
                        "             0,     0,     0,     0,     0,     0,     0,     0,     0,     0,\n",
                        "             0,     0,     0,     0,     0,     0,     0,     0,     0,     0,\n",
                        "             0,     0,     0,     0,     0,     0,     0,     0,     0,     0,\n",
                        "             0,     0,     0,     0,     0,     0]], device='cuda:0')}\n"
                    ]
                }
            ],
            "source": [
                "report_path = \"CXIRG_Data/valid_data/reports.xlsx\"\n",
                "report_df = pd.read_excel(report_path)\n",
                "\n",
                "image_dir_path = \"CXIRG_Data/valid_data/images\"\n",
                "\n",
                "valid_data = []\n",
                "\n",
                "\n",
                "for image_name in os.listdir(image_dir_path):\n",
                "    image_path = os.path.join(image_dir_path, image_name)\n",
                "    \n",
                "    with Image.open(image_path) as img:\n",
                "        if img.mode != \"RGB\":\n",
                "            img = img.convert(\"RGB\")\n",
                "\n",
                "        text = report_df[report_df[\"name\"] == image_name[:13]][\"text\"].values[0].replace(\"_x000D_\", \"\\r\")\n",
                "\n",
                "        valid_data.append({\n",
                "            \"name\": image_name[:13],\n",
                "            \"image\": img,\n",
                "            \"text\": text\n",
                "        })\n",
                "\n",
                "valid_dataset = CXIRGDataset(valid_data)\n",
                "\n",
                "valid_dataloader = DataLoader(valid_dataset, batch_size=4, shuffle=False, collate_fn=valid_dl_collate_fn)\n",
                "\n",
                "for batch in valid_dataloader:\n",
                "    print(batch)"
            ]
        },
        {
            "cell_type": "markdown",
            "metadata": {},
            "source": [
                "## Set The Hyperparameters & Initialize The Optimizer, Dataloaders and Evaluation Metric"
            ]
        },
        {
            "cell_type": "code",
            "execution_count": 9,
            "metadata": {},
            "outputs": [],
            "source": [
                "lr = 1e-5\n",
                "epochs = 50\n",
                "optimizer = AdamW(params=model.parameters(), lr=lr)\n",
                "\n",
                "train_batch_size = 1\n",
                "valid_batch_size = 1\n",
                "train_dataloader = DataLoader(\n",
                "    dataset=train_dataset,\n",
                "    batch_size=train_batch_size,\n",
                "    shuffle=True,\n",
                "    collate_fn=train_dl_collate_fn\n",
                ")\n",
                "valid_dataloader = DataLoader(\n",
                "    dataset=valid_dataset,\n",
                "    batch_size=valid_batch_size,\n",
                "    shuffle=False,\n",
                "    collate_fn=valid_dl_collate_fn\n",
                ")\n",
                "\n",
                "rouge = Rouge(variants=[\"L\", 2], multiref=\"best\")"
            ]
        },
        {
            "cell_type": "markdown",
            "metadata": {},
            "source": [
                "## The Evaluation Function"
            ]
        },
        {
            "cell_type": "code",
            "execution_count": 10,
            "metadata": {},
            "outputs": [],
            "source": [
                "def evaluate(model: VisionEncoderDecoderModel, epoch: int) -> Dict[str, float]:\n",
                "    model.eval()\n",
                "    pbar = tqdm(valid_dataloader)\n",
                "    pbar.set_description(f\"Evaluating Epoch: {epoch + 1}\")\n",
                "\n",
                "    with torch.no_grad():\n",
                "        for batch in pbar:\n",
                "            names = batch[\"names\"]\n",
                "            pixel_values = batch[\"pixel_values\"]\n",
                "            label_ids = batch[\"label_ids\"]\n",
                "\n",
                "            predictions = model.generate(\n",
                "                pixel_values, \n",
                "                decoder_start_token_id=model.config.decoder_start_token_id,\n",
                "                max_length=256,\n",
                "                #num_beams=4,     \n",
                "                #early_stopping=True\n",
                "            )\n",
                "\n",
                "            _predictions = tokenizer.batch_decode(predictions, skip_special_tokens=True)\n",
                "            _labels = tokenizer.batch_decode(label_ids, skip_special_tokens=True)\n",
                "\n",
                "            print(f\"Names      : {names}\")\n",
                "            print(f\"Predictions: {_predictions}\")\n",
                "            print(f\"Labels     : {_labels}\")\n",
                "            print()\n",
                "\n",
                "            for _prediction, _label in zip(_predictions, _labels):\n",
                "                split_prediction = _prediction.split()\n",
                "                split_label = _label.split()\n",
                "\n",
                "                rouge.update(([split_prediction], [[split_label]]))\n",
                "\n",
                "    return rouge.compute()\n",
                "\n",
                "def eval(model: VisionEncoderDecoderModel) -> Dict[str, float]:\n",
                "    model.eval()\n",
                "    pbar = tqdm(valid_dataloader)\n",
                "    pbar.set_description(f\"Evaluating: \")\n",
                "\n",
                "    with torch.no_grad():\n",
                "        for batch in pbar:\n",
                "            names = batch[\"names\"]\n",
                "            pixel_values = batch[\"pixel_values\"]\n",
                "            label_ids = batch[\"label_ids\"]\n",
                "\n",
                "            predictions = model.generate(\n",
                "                pixel_values, \n",
                "                decoder_start_token_id=model.config.decoder_start_token_id,\n",
                "                max_length=256,\n",
                "                #num_beams=4,     \n",
                "                #early_stopping=True\n",
                "            )\n",
                "\n",
                "            _predictions = tokenizer.batch_decode(predictions, skip_special_tokens=True)\n",
                "            _labels = tokenizer.batch_decode(label_ids, skip_special_tokens=True)\n",
                "\n",
                "            print(f\"Names      : {names}\")\n",
                "            print(f\"Predictions: {_predictions}\")\n",
                "            print(f\"Labels     : {_labels}\")\n",
                "            print()\n",
                "\n",
                "            for _prediction, _label in zip(_predictions, _labels):\n",
                "                split_prediction = _prediction.split()\n",
                "                split_label = _label.split()\n",
                "\n",
                "                rouge.update(([split_prediction], [[split_label]]))\n",
                "\n",
                "    return rouge.compute()"
            ]
        },
        {
            "cell_type": "code",
            "execution_count": 11,
            "metadata": {},
            "outputs": [
                {
                    "name": "stdout",
                    "output_type": "stream",
                    "text": [
                        "cuda\n"
                    ]
                }
            ],
            "source": [
                "device = \"cuda\" if torch.cuda.is_available() else \"cpu\"\n",
                "print(device)\n"
            ]
        },
        {
            "cell_type": "code",
            "execution_count": 12,
            "metadata": {},
            "outputs": [
                {
                    "name": "stderr",
                    "output_type": "stream",
                    "text": [
                        "Training Epoch [1 / 50]:   0%|          | 0/89 [00:00<?, ?it/s]c:\\Users\\kartg\\anaconda3\\envs\\myenv\\lib\\site-packages\\transformers\\models\\vit\\modeling_vit.py:253: UserWarning: 1Torch was not compiled with flash attention. (Triggered internally at C:\\actions-runner\\_work\\pytorch\\pytorch\\builder\\windows\\pytorch\\aten\\src\\ATen\\native\\transformers\\cuda\\sdp_utils.cpp:455.)\n",
                        "  context_layer = torch.nn.functional.scaled_dot_product_attention(\n",
                        "We strongly recommend passing in an `attention_mask` since your input_ids may be padded. See https://huggingface.co/docs/transformers/troubleshooting#incorrect-output-when-padding-tokens-arent-masked.\n",
                        "Training Epoch [1 / 50]: 100%|██████████| 89/89 [00:14<00:00,  5.94it/s, loss=2.57]\n",
                        "Evaluating: :  10%|█         | 1/10 [00:02<00:20,  2.24s/it]"
                    ]
                },
                {
                    "name": "stdout",
                    "output_type": "stream",
                    "text": [
                        "Names      : ['NLP_CHEST_002']\n",
                        "Predictions: ['.....................................................................']\n",
                        "Labels     : ['chest pa view shows : partial atelectasis at left lower lung field. left pleural effusion. borderline heart size. atherosclerotic change of aortic knob. s / p port - a implantation via left subclavian vein. intraperitoneal port catheter. surgical clips at ruq of abdomen.']\n",
                        "\n"
                    ]
                },
                {
                    "name": "stderr",
                    "output_type": "stream",
                    "text": [
                        "Evaluating: :  20%|██        | 2/10 [00:04<00:17,  2.20s/it]"
                    ]
                },
                {
                    "name": "stdout",
                    "output_type": "stream",
                    "text": [
                        "Names      : ['NLP_CHEST_004']\n",
                        "Predictions: ['..........................................................................................']\n",
                        "Labels     : ['chest pa view show : impression : - s / p rll wedge resection. - bilateral lungs metastasis. - left lower lung subsegmental atelectasis. - increased infiltrations in both lungs. - blunting right cp angle. - tortuous atherosclerotic aorta. - scoliosis, djd and osteoporosis of spine. - compression fracture of l1.']\n",
                        "\n"
                    ]
                },
                {
                    "name": "stderr",
                    "output_type": "stream",
                    "text": [
                        "Evaluating: :  30%|███       | 3/10 [00:06<00:15,  2.18s/it]"
                    ]
                },
                {
                    "name": "stdout",
                    "output_type": "stream",
                    "text": [
                        "Names      : ['NLP_CHEST_011']\n",
                        "Predictions: ['...................................................................................................']\n",
                        "Labels     : [\"chest ap view showed : 1. s / p sternotomy and cabg. enlarged heart size with tortuous aorta. 2. r't middle and lower lung faint patches. l't lower lung consolidation. l't pleural effusion. 3. no mediastinum widening. 4. s / p endotracheal tube and ng intubation.\"]\n",
                        "\n"
                    ]
                },
                {
                    "name": "stderr",
                    "output_type": "stream",
                    "text": [
                        "Evaluating: :  40%|████      | 4/10 [00:08<00:13,  2.20s/it]"
                    ]
                },
                {
                    "name": "stdout",
                    "output_type": "stream",
                    "text": [
                        "Names      : ['NLP_CHEST_015']\n",
                        "Predictions: ['............................................']\n",
                        "Labels     : ['chest x ray : - no obvious lung mass nor consolidation patch. - normal heart size. - no pleural effusion.']\n",
                        "\n"
                    ]
                },
                {
                    "name": "stderr",
                    "output_type": "stream",
                    "text": [
                        "Evaluating: :  50%|█████     | 5/10 [00:10<00:10,  2.18s/it]"
                    ]
                },
                {
                    "name": "stdout",
                    "output_type": "stream",
                    "text": [
                        "Names      : ['NLP_CHEST_027']\n",
                        "Predictions: ['..................................................................................']\n",
                        "Labels     : ['chest pa view : impression : > cardiomegaly with bilateral pulmonary congestion. > postinflammatory fibrosis in both upper lungs. > atherosclerosis of aorta. > old fractures of left 5th and 6th ribs. > r / o osteoporosis. > spondylosis of thoracolumbar spine. > s / p abdominal operation in ruq.']\n",
                        "\n"
                    ]
                },
                {
                    "name": "stderr",
                    "output_type": "stream",
                    "text": [
                        "Evaluating: :  60%|██████    | 6/10 [00:13<00:08,  2.16s/it]"
                    ]
                },
                {
                    "name": "stdout",
                    "output_type": "stream",
                    "text": [
                        "Names      : ['NLP_CHEST_031']\n",
                        "Predictions: ['...................................................................................................']\n",
                        "Labels     : ['chest pa view : impression : - increased both lung markings. - compatible with right lung nodules. - fibrotic lesion in left upper lung. - normal heart size. atherosclerotic aorta. - suspect right pleural effusion. - spondylosis. r / o osteoporosis. - compatible with multiple bony metastases. - s / p ng and endotracheal tube. - s / p lt subclavian port - a - cath.']\n",
                        "\n"
                    ]
                },
                {
                    "name": "stderr",
                    "output_type": "stream",
                    "text": [
                        "Evaluating: :  70%|███████   | 7/10 [00:15<00:06,  2.14s/it]"
                    ]
                },
                {
                    "name": "stdout",
                    "output_type": "stream",
                    "text": [
                        "Names      : ['NLP_CHEST_057']\n",
                        "Predictions: ['....................................................................................']\n",
                        "Labels     : ['chest plain film shows : impression : - increased infiltrations in both lungs. - tortuous atherosclerotic dilated aorta. - normal heart size. - djd of spine. old fracture of right ribs. - increased both lung markings. s / p lt jugular cvc insertion. s / p ng and endotracheal tube. - susp. lt pneumothorax. suspect pneumomediastinum. subcutaneous emphysema in bilateral neck. - s / p bilateral chest tube insertion.']\n",
                        "\n"
                    ]
                },
                {
                    "name": "stderr",
                    "output_type": "stream",
                    "text": [
                        "Evaluating: :  80%|████████  | 8/10 [00:17<00:04,  2.13s/it]"
                    ]
                },
                {
                    "name": "stdout",
                    "output_type": "stream",
                    "text": [
                        "Names      : ['NLP_CHEST_059']\n",
                        "Predictions: ['................................................................................']\n",
                        "Labels     : ['supine chest ap view shows : pigtail catheter at right lower chest. decreased amount of right pleural effusion. air in the right lower pleural space. poor lung expansion. mild subcutaneous emphysema at right chest wall. right pleural thickening. ill - defined masses at right perihilar region. normal heart size.']\n",
                        "\n"
                    ]
                },
                {
                    "name": "stderr",
                    "output_type": "stream",
                    "text": [
                        "Evaluating: :  90%|█████████ | 9/10 [00:19<00:02,  2.14s/it]"
                    ]
                },
                {
                    "name": "stdout",
                    "output_type": "stream",
                    "text": [
                        "Names      : ['NLP_CHEST_071']\n",
                        "Predictions: ['................................................................................']\n",
                        "Labels     : ['chest film shows : impression : - bilateral lung infiltrations. - suspect right lower lung patch. blunting right cp angle. - tortuous atherosclerotic aorta. - scoliosis, djd and osteoporosis of spine. compression fracture of t12. old fracture of left ribs. - s / p fixation in l - spine. - s / p tracheostomy and ng tube.']\n",
                        "\n"
                    ]
                },
                {
                    "name": "stderr",
                    "output_type": "stream",
                    "text": [
                        "Evaluating: : 100%|██████████| 10/10 [00:21<00:00,  2.16s/it]\n"
                    ]
                },
                {
                    "name": "stdout",
                    "output_type": "stream",
                    "text": [
                        "Names      : ['NLP_CHEST_085']\n",
                        "Predictions: ['....................................................................................']\n",
                        "Labels     : ['chest x ray : - right pneumothorax with pleural effusion, status post drainge tube placement. - extensive subcutaneous emphysema from neck to right side thoracic cage. - increased right hilar opacity. - atherosclerosis and tortuous aorta. - obscured bilateral costophrenic angles. - spondylosis and mild scoliosis of thoracolumbar spine. - oa of right glenohumeral joint. - generalized osteopenia.']\n",
                        "\n",
                        "Rouge-2 score : {'Rouge-L-P': 0.0, 'Rouge-L-R': 0.0, 'Rouge-L-F': 0.0, 'Rouge-2-P': 0.0, 'Rouge-2-R': 0.0, 'Rouge-2-F': 0.0}\n"
                    ]
                },
                {
                    "name": "stderr",
                    "output_type": "stream",
                    "text": [
                        "Training Epoch [2 / 50]: 100%|██████████| 89/89 [00:13<00:00,  6.38it/s, loss=1.38]\n",
                        "Evaluating: :  10%|█         | 1/10 [00:02<00:19,  2.18s/it]"
                    ]
                },
                {
                    "name": "stdout",
                    "output_type": "stream",
                    "text": [
                        "Names      : ['NLP_CHEST_002']\n",
                        "Predictions: ['chest aorta. - normal normal. - normal normal heart size size. normal normal heart size size. normal normal heart size. normal normal heart size. normal normal heart size.. normal normal heart size. normal normal normal heart size. normal normal heart.. normal normal heart.. normal normal.. normal normal normal.. normal normal normal.. svvvvvvvvvvvvvvvvvvvvvvvvvvvvvvvvvvvvvvvvvvvvvvvvvvvvvvvvvvvvvvvvvvvvvvvvvvvvvvvvvvvvvvvvvvvvvvvvvvvvvvvvvvvvvvvvvvvvvvvvvvvvvvvvvvvvvvvvvvvvvvvvvvvvvvvvvvvvvvvvvvvvvvvvvvvvvvvvvvvvv']\n",
                        "Labels     : ['chest pa view shows : partial atelectasis at left lower lung field. left pleural effusion. borderline heart size. atherosclerotic change of aortic knob. s / p port - a implantation via left subclavian vein. intraperitoneal port catheter. surgical clips at ruq of abdomen.']\n",
                        "\n"
                    ]
                },
                {
                    "name": "stderr",
                    "output_type": "stream",
                    "text": [
                        "Evaluating: :  20%|██        | 2/10 [00:04<00:17,  2.16s/it]"
                    ]
                },
                {
                    "name": "stdout",
                    "output_type": "stream",
                    "text": [
                        "Names      : ['NLP_CHEST_004']\n",
                        "Predictions: ['chest plain film shows : impression : - - - spine spine. - s / p paaa. - s / p paa. - s / p paa.... s / p paa................................................................................................................................................................................................................']\n",
                        "Labels     : ['chest pa view show : impression : - s / p rll wedge resection. - bilateral lungs metastasis. - left lower lung subsegmental atelectasis. - increased infiltrations in both lungs. - blunting right cp angle. - tortuous atherosclerotic aorta. - scoliosis, djd and osteoporosis of spine. - compression fracture of l1.']\n",
                        "\n"
                    ]
                },
                {
                    "name": "stderr",
                    "output_type": "stream",
                    "text": [
                        "Evaluating: :  30%|███       | 3/10 [00:06<00:15,  2.15s/it]"
                    ]
                },
                {
                    "name": "stdout",
                    "output_type": "stream",
                    "text": [
                        "Names      : ['NLP_CHEST_011']\n",
                        "Predictions: ['chest aorta. - s / p paaaaaaaaaaaaaaaaaaaaaaaaaaaaaaaaaaaaaaaaaaaaaaaaaaaaaaaaaaaaaaaaaaaaaaaaaaaaaaaaaaaaaaaaaaaaaaaaaaaaaaaaaaaaaaaaaaaaaaaaaaaaaaaaaaaaaaaaaaaaaaaaaaaaaaaaaaaaaaaaaaaaaaaaaaaaaaaaaaaaaaaaaaaaaaaaaaaaaaaaaaaaaaaaaaaaaaaaaaaaaaaaaaaaaaaaaaaaaaaaaaaaa']\n",
                        "Labels     : [\"chest ap view showed : 1. s / p sternotomy and cabg. enlarged heart size with tortuous aorta. 2. r't middle and lower lung faint patches. l't lower lung consolidation. l't pleural effusion. 3. no mediastinum widening. 4. s / p endotracheal tube and ng intubation.\"]\n",
                        "\n"
                    ]
                },
                {
                    "name": "stderr",
                    "output_type": "stream",
                    "text": [
                        "Evaluating: :  40%|████      | 4/10 [00:08<00:12,  2.14s/it]"
                    ]
                },
                {
                    "name": "stdout",
                    "output_type": "stream",
                    "text": [
                        "Names      : ['NLP_CHEST_015']\n",
                        "Predictions: ['chest plain film shows : impression : - no focal focal focal focal focalyyyyphphosososphphosososososososososososososososososososososososososososososososososososososososososososososososososososososososososososososososososososososososososososososososososososososososososososososososososososososososososososososososososososososososososososososososososososososososososososososososososososososososososososososososososososososososososososososososososososososososososososososososososososososososososososososososososososososososososososososososososososososos']\n",
                        "Labels     : ['chest x ray : - no obvious lung mass nor consolidation patch. - normal heart size. - no pleural effusion.']\n",
                        "\n"
                    ]
                },
                {
                    "name": "stderr",
                    "output_type": "stream",
                    "text": [
                        "Evaluating: :  50%|█████     | 5/10 [00:10<00:10,  2.14s/it]"
                    ]
                },
                {
                    "name": "stdout",
                    "output_type": "stream",
                    "text": [
                        "Names      : ['NLP_CHEST_027']\n",
                        "Predictions: ['chest plain film shows : impression : - - - spine spine. - s / p paaa. - s / p paa. - s / p paa.... s / p paaa..... s / p paaaaaaaaaaaaaaaaaaaaaaaaaaaaaaaaaaaaaaaaaaaaaaaaaaaaaaaaaaaaaaaaaaaaaaaaaaaaaaaaaaaaaaaaaaaaaaaaaaaaaaaaaaaaaaaaaaaaaaaaaaaaaaaaaaaaaaaaaaaaaaaaaaaaaaaaaaaaaaaaaaaaaaaaaaaaaaaaaaaaaaaaaaaaaaaaaaaaaa']\n",
                        "Labels     : ['chest pa view : impression : > cardiomegaly with bilateral pulmonary congestion. > postinflammatory fibrosis in both upper lungs. > atherosclerosis of aorta. > old fractures of left 5th and 6th ribs. > r / o osteoporosis. > spondylosis of thoracolumbar spine. > s / p abdominal operation in ruq.']\n",
                        "\n"
                    ]
                },
                {
                    "name": "stderr",
                    "output_type": "stream",
                    "text": [
                        "Evaluating: :  60%|██████    | 6/10 [00:12<00:08,  2.13s/it]"
                    ]
                },
                {
                    "name": "stdout",
                    "output_type": "stream",
                    "text": [
                        "Names      : ['NLP_CHEST_031']\n",
                        "Predictions: ['chest plain film shows : impression : - - - spine spine. - - spine spine spine. - s / p pyycococococococococococococococolllchochochochochochochochochochochochochochochochochochochochochochochochochochochochochochochochochochochochochochochochochochochochochochochochochochochochochochochochochochochochochochochochochochochochochochochochochochochochochochochochochochochochochochochochochochochochochochochochochochochochochochochochochochochochochochochochochochochochochochochochochochochochochochochochochochochochochochochochochochochochochochochochochochochochochochochochochochochochochochochochochochochochochochochochochochochochochochochochochochochochochochochochochochochochochochochochochochochochochochochochochochochochochochochochochochocho']\n",
                        "Labels     : ['chest pa view : impression : - increased both lung markings. - compatible with right lung nodules. - fibrotic lesion in left upper lung. - normal heart size. atherosclerotic aorta. - suspect right pleural effusion. - spondylosis. r / o osteoporosis. - compatible with multiple bony metastases. - s / p ng and endotracheal tube. - s / p lt subclavian port - a - cath.']\n",
                        "\n"
                    ]
                },
                {
                    "name": "stderr",
                    "output_type": "stream",
                    "text": [
                        "Evaluating: :  70%|███████   | 7/10 [00:14<00:06,  2.12s/it]"
                    ]
                },
                {
                    "name": "stdout",
                    "output_type": "stream",
                    "text": [
                        "Names      : ['NLP_CHEST_057']\n",
                        "Predictions: ['chest plain film shows : impression : - - - spine spine. - s / p paaa. - s / p paa. - s / p paa.... s / p paa................................................................................................................................................................................................................']\n",
                        "Labels     : ['chest plain film shows : impression : - increased infiltrations in both lungs. - tortuous atherosclerotic dilated aorta. - normal heart size. - djd of spine. old fracture of right ribs. - increased both lung markings. s / p lt jugular cvc insertion. s / p ng and endotracheal tube. - susp. lt pneumothorax. suspect pneumomediastinum. subcutaneous emphysema in bilateral neck. - s / p bilateral chest tube insertion.']\n",
                        "\n"
                    ]
                },
                {
                    "name": "stderr",
                    "output_type": "stream",
                    "text": [
                        "Evaluating: :  80%|████████  | 8/10 [00:17<00:04,  2.13s/it]"
                    ]
                },
                {
                    "name": "stdout",
                    "output_type": "stream",
                    "text": [
                        "Names      : ['NLP_CHEST_059']\n",
                        "Predictions: ['chest aorta. - normal normal. - normal normal. - normal normal. normal normal.. normal normal normal.. normal normal normal.. normal normal normal.. normal normal normal.. normal normal normal... normal normal normal.. normal normal normal.. normal normal.. normal normal normal.... normal normal normal.. s / p pa. s / p p. s s / p p. s s / p p. s s / p ptt s s / p p pt s s / p p pt s s / p p ptt s s s / p p p s s s s s s s s s s s s s s s s s s s s s s s s s s s s s s s s s s s s s s s s s s s s s s s s s s s s s s s s s s s s s s s s s s s s s s s s s s s s s s s s s s s s s s s s s s s s s s s s s s s s s s s s s s s s s s s s s s s s s s s s s s s']\n",
                        "Labels     : ['supine chest ap view shows : pigtail catheter at right lower chest. decreased amount of right pleural effusion. air in the right lower pleural space. poor lung expansion. mild subcutaneous emphysema at right chest wall. right pleural thickening. ill - defined masses at right perihilar region. normal heart size.']\n",
                        "\n"
                    ]
                },
                {
                    "name": "stderr",
                    "output_type": "stream",
                    "text": [
                        "Evaluating: :  90%|█████████ | 9/10 [00:19<00:02,  2.14s/it]"
                    ]
                },
                {
                    "name": "stdout",
                    "output_type": "stream",
                    "text": [
                        "Names      : ['NLP_CHEST_071']\n",
                        "Predictions: ['chest aorta. - normal normal. - normal normal.. normal normal.. normal normal.. normal normal.. normal normal normal.. normal normal normal.. normal normal normal.. normal normal normal... normal normal normal... normal normal.... s / p paa. s / p paa. s / p p.. s / p paa. s s s s s s s s s s s s s s s s s s s s s s s s s s s s s s s s s s s s s s s s s s s s s s s s s s s s s s s s s s s s s s s s s s s s s s s s s s s s s s s s s s s s s s s s s s s s s s s s s s s s s s s s s s s s s s s s s s s s s s s s s s s s s s s s s s s s s s s s s s s s s s s s s s s s s s s s s s s s s s s s s s s s s s s s s']\n",
                        "Labels     : ['chest film shows : impression : - bilateral lung infiltrations. - suspect right lower lung patch. blunting right cp angle. - tortuous atherosclerotic aorta. - scoliosis, djd and osteoporosis of spine. compression fracture of t12. old fracture of left ribs. - s / p fixation in l - spine. - s / p tracheostomy and ng tube.']\n",
                        "\n"
                    ]
                },
                {
                    "name": "stderr",
                    "output_type": "stream",
                    "text": [
                        "Evaluating: : 100%|██████████| 10/10 [00:21<00:00,  2.15s/it]\n"
                    ]
                },
                {
                    "name": "stdout",
                    "output_type": "stream",
                    "text": [
                        "Names      : ['NLP_CHEST_085']\n",
                        "Predictions: ['chest aorta. - normal normal. - normal normal heart size size. normal normal heart size size. normal normal heart size. normal normal heart heart size. normal normal heart size. normal normal heart size. normal normal heart heart.. normal normal heart.. normal normal heart.. s / p paa. s / p paa. s / p paa. s / p paa. s s s s s s s s s s s s s s s s s s s s s s s s s s s s s s s s s s s s s s s sysysysysysysysysysysysysysysysysysysysysysysysysysysysysysysysysysysysysysysysysysysysysysysysysysysysysysysysysysysysysysysysysysysysysysysysysysysysysysysysysysysysysysysysysysysysysysysysysysysysysysysysysysysysysysysysysysysysysysysysysysysysysysysysys']\n",
                        "Labels     : ['chest x ray : - right pneumothorax with pleural effusion, status post drainge tube placement. - extensive subcutaneous emphysema from neck to right side thoracic cage. - increased right hilar opacity. - atherosclerosis and tortuous aorta. - obscured bilateral costophrenic angles. - spondylosis and mild scoliosis of thoracolumbar spine. - oa of right glenohumeral joint. - generalized osteopenia.']\n",
                        "\n",
                        "Rouge-2 score : {'Rouge-L-P': 0.1505107867715773, 'Rouge-L-R': 0.07779902028076474, 'Rouge-L-F': 0.07779902028076474, 'Rouge-2-P': 0.08218042852203493, 'Rouge-2-R': 0.040008469919681766, 'Rouge-2-F': 0.040008469919681766}\n"
                    ]
                },
                {
                    "name": "stderr",
                    "output_type": "stream",
                    "text": [
                        "Training Epoch [3 / 50]: 100%|██████████| 89/89 [00:13<00:00,  6.40it/s, loss=0.961]\n",
                        "Evaluating: :  10%|█         | 1/10 [00:02<00:19,  2.21s/it]"
                    ]
                },
                {
                    "name": "stdout",
                    "output_type": "stream",
                    "text": [
                        "Names      : ['NLP_CHEST_002']\n",
                        "Predictions: ['']\n",
                        "Labels     : ['chest pa view shows : partial atelectasis at left lower lung field. left pleural effusion. borderline heart size. atherosclerotic change of aortic knob. s / p port - a implantation via left subclavian vein. intraperitoneal port catheter. surgical clips at ruq of abdomen.']\n",
                        "\n"
                    ]
                },
                {
                    "name": "stderr",
                    "output_type": "stream",
                    "text": [
                        "Evaluating: :  20%|██        | 2/10 [00:04<00:17,  2.16s/it]"
                    ]
                },
                {
                    "name": "stdout",
                    "output_type": "stream",
                    "text": [
                        "Names      : ['NLP_CHEST_004']\n",
                        "Predictions: ['']\n",
                        "Labels     : ['chest pa view show : impression : - s / p rll wedge resection. - bilateral lungs metastasis. - left lower lung subsegmental atelectasis. - increased infiltrations in both lungs. - blunting right cp angle. - tortuous atherosclerotic aorta. - scoliosis, djd and osteoporosis of spine. - compression fracture of l1.']\n",
                        "\n"
                    ]
                },
                {
                    "name": "stderr",
                    "output_type": "stream",
                    "text": [
                        "Evaluating: :  30%|███       | 3/10 [00:06<00:15,  2.17s/it]"
                    ]
                },
                {
                    "name": "stdout",
                    "output_type": "stream",
                    "text": [
                        "Names      : ['NLP_CHEST_011']\n",
                        "Predictions: ['']\n",
                        "Labels     : [\"chest ap view showed : 1. s / p sternotomy and cabg. enlarged heart size with tortuous aorta. 2. r't middle and lower lung faint patches. l't lower lung consolidation. l't pleural effusion. 3. no mediastinum widening. 4. s / p endotracheal tube and ng intubation.\"]\n",
                        "\n"
                    ]
                },
                {
                    "name": "stderr",
                    "output_type": "stream",
                    "text": [
                        "Evaluating: :  40%|████      | 4/10 [00:08<00:12,  2.14s/it]"
                    ]
                },
                {
                    "name": "stdout",
                    "output_type": "stream",
                    "text": [
                        "Names      : ['NLP_CHEST_015']\n",
                        "Predictions: ['']\n",
                        "Labels     : ['chest x ray : - no obvious lung mass nor consolidation patch. - normal heart size. - no pleural effusion.']\n",
                        "\n"
                    ]
                },
                {
                    "name": "stderr",
                    "output_type": "stream",
                    "text": [
                        "Evaluating: :  50%|█████     | 5/10 [00:10<00:10,  2.13s/it]"
                    ]
                },
                {
                    "name": "stdout",
                    "output_type": "stream",
                    "text": [
                        "Names      : ['NLP_CHEST_027']\n",
                        "Predictions: ['']\n",
                        "Labels     : ['chest pa view : impression : > cardiomegaly with bilateral pulmonary congestion. > postinflammatory fibrosis in both upper lungs. > atherosclerosis of aorta. > old fractures of left 5th and 6th ribs. > r / o osteoporosis. > spondylosis of thoracolumbar spine. > s / p abdominal operation in ruq.']\n",
                        "\n"
                    ]
                },
                {
                    "name": "stderr",
                    "output_type": "stream",
                    "text": [
                        "Evaluating: :  60%|██████    | 6/10 [00:12<00:08,  2.12s/it]"
                    ]
                },
                {
                    "name": "stdout",
                    "output_type": "stream",
                    "text": [
                        "Names      : ['NLP_CHEST_031']\n",
                        "Predictions: ['']\n",
                        "Labels     : ['chest pa view : impression : - increased both lung markings. - compatible with right lung nodules. - fibrotic lesion in left upper lung. - normal heart size. atherosclerotic aorta. - suspect right pleural effusion. - spondylosis. r / o osteoporosis. - compatible with multiple bony metastases. - s / p ng and endotracheal tube. - s / p lt subclavian port - a - cath.']\n",
                        "\n"
                    ]
                },
                {
                    "name": "stderr",
                    "output_type": "stream",
                    "text": [
                        "Evaluating: :  70%|███████   | 7/10 [00:14<00:06,  2.11s/it]"
                    ]
                },
                {
                    "name": "stdout",
                    "output_type": "stream",
                    "text": [
                        "Names      : ['NLP_CHEST_057']\n",
                        "Predictions: ['']\n",
                        "Labels     : ['chest plain film shows : impression : - increased infiltrations in both lungs. - tortuous atherosclerotic dilated aorta. - normal heart size. - djd of spine. old fracture of right ribs. - increased both lung markings. s / p lt jugular cvc insertion. s / p ng and endotracheal tube. - susp. lt pneumothorax. suspect pneumomediastinum. subcutaneous emphysema in bilateral neck. - s / p bilateral chest tube insertion.']\n",
                        "\n"
                    ]
                },
                {
                    "name": "stderr",
                    "output_type": "stream",
                    "text": [
                        "Evaluating: :  80%|████████  | 8/10 [00:17<00:04,  2.12s/it]"
                    ]
                },
                {
                    "name": "stdout",
                    "output_type": "stream",
                    "text": [
                        "Names      : ['NLP_CHEST_059']\n",
                        "Predictions: ['']\n",
                        "Labels     : ['supine chest ap view shows : pigtail catheter at right lower chest. decreased amount of right pleural effusion. air in the right lower pleural space. poor lung expansion. mild subcutaneous emphysema at right chest wall. right pleural thickening. ill - defined masses at right perihilar region. normal heart size.']\n",
                        "\n"
                    ]
                },
                {
                    "name": "stderr",
                    "output_type": "stream",
                    "text": [
                        "Evaluating: :  90%|█████████ | 9/10 [00:19<00:02,  2.11s/it]"
                    ]
                },
                {
                    "name": "stdout",
                    "output_type": "stream",
                    "text": [
                        "Names      : ['NLP_CHEST_071']\n",
                        "Predictions: ['']\n",
                        "Labels     : ['chest film shows : impression : - bilateral lung infiltrations. - suspect right lower lung patch. blunting right cp angle. - tortuous atherosclerotic aorta. - scoliosis, djd and osteoporosis of spine. compression fracture of t12. old fracture of left ribs. - s / p fixation in l - spine. - s / p tracheostomy and ng tube.']\n",
                        "\n"
                    ]
                },
                {
                    "name": "stderr",
                    "output_type": "stream",
                    "text": [
                        "Evaluating: : 100%|██████████| 10/10 [00:21<00:00,  2.13s/it]\n"
                    ]
                },
                {
                    "name": "stdout",
                    "output_type": "stream",
                    "text": [
                        "Names      : ['NLP_CHEST_085']\n",
                        "Predictions: ['']\n",
                        "Labels     : ['chest x ray : - right pneumothorax with pleural effusion, status post drainge tube placement. - extensive subcutaneous emphysema from neck to right side thoracic cage. - increased right hilar opacity. - atherosclerosis and tortuous aorta. - obscured bilateral costophrenic angles. - spondylosis and mild scoliosis of thoracolumbar spine. - oa of right glenohumeral joint. - generalized osteopenia.']\n",
                        "\n",
                        "Rouge-2 score : {'Rouge-L-P': 0.10034052451438487, 'Rouge-L-R': 0.051866013520509825, 'Rouge-L-F': 0.051866013520509825, 'Rouge-2-P': 0.05478695234802329, 'Rouge-2-R': 0.026672313279787845, 'Rouge-2-F': 0.026672313279787845}\n"
                    ]
                },
                {
                    "name": "stderr",
                    "output_type": "stream",
                    "text": [
                        "Training Epoch [4 / 50]: 100%|██████████| 89/89 [00:13<00:00,  6.42it/s, loss=0.713]\n",
                        "Evaluating: :  10%|█         | 1/10 [00:02<00:19,  2.18s/it]"
                    ]
                },
                {
                    "name": "stdout",
                    "output_type": "stream",
                    "text": [
                        "Names      : ['NLP_CHEST_002']\n",
                        "Predictions: ['chest pa view showed : 1. 1 1. 1 1 1 1 1 1 1 1 1 1 1 1 1 1 1 1 1 1 1 1 1 1 1 1 1 1 1 1 1 1 1 1 1 1 1 1 1 1 1 1 1 1 1 1 1 1 1 1 1 1 1 1 1 1 1 1 1 1 1 1 1 1 1 1 1 1 1 1 1 1 1 1 1 1 1 1 1 1 1 1 1 1 1 1 1 1 1 1 1 1 1 1 1 1 1 1 1 1 1 1 1 1 1 1 1 1 1 1 1 1 1 1 1 1 1 1 1 1 1 1 1 1 1 1 1 1 1 1 1 1 1 1 1 1 1 1 1 1 1 1 1 1 1 1 1 1 1 1 1 1 1 1 1 1 1 1 1 1 1 1 1 1 1 1 1 1 1 1 1 1 1 1 1 1 1 1 1 1 1 1 1 1 1 1 1 1 1 1 1 1 1 1 1 1 1 1 1 1 1 1 1 1 1 1 1 1 1 1 1 1 1 1 1 1 1 1 1 1 1 1 1 1 1 1 1 1 1 1 1 1 1 1 1 1 1 1 1 1 1 1 1 1 1 1']\n",
                        "Labels     : ['chest pa view shows : partial atelectasis at left lower lung field. left pleural effusion. borderline heart size. atherosclerotic change of aortic knob. s / p port - a implantation via left subclavian vein. intraperitoneal port catheter. surgical clips at ruq of abdomen.']\n",
                        "\n"
                    ]
                },
                {
                    "name": "stderr",
                    "output_type": "stream",
                    "text": [
                        "Evaluating: :  20%|██        | 2/10 [00:04<00:17,  2.17s/it]"
                    ]
                },
                {
                    "name": "stdout",
                    "output_type": "stream",
                    "text": [
                        "Names      : ['NLP_CHEST_004']\n",
                        "Predictions: ['chest pa view showed : 1. 1 1 1 1 1 1 1 1 1 1 1 1 1 1 1 1 1 1 1 1 1 1 1 1 1 1 1 1 1 1 1 1 1 1 1 1 1 1 1 1 1 1 1 1 1 1 1 1 1 1 1 1 1 1 1 1 1 1 1 1 1 1 1 1 1 1 1 1 1 1 1 1 1 1 1 1 1 1 1 1 1 1 1 1 1 1 1 1 1 1 1 1 1 1 1 1 1 1 1 1 1 1 1 1 1 1 1 1 1 1 1 1 1 1 1 1 1 1 1 1 1 1 1 1 1 1 1 1 1 1 1 1 1 1 1 1 1 1 1 1 1 1 1 1 1 1 1 1 1 1 1 1 1 1 1 1 1 1 1 1 1 1 1 1 1 1 1 1 1 1 1 1 1 1 1 1 1 1 1 1 1 1 1 1 1 1 1 1 1 1 1 1 1 1 1 1 1 1 1 1 1 1 1 1 1 1 1 1 1 1 1 1 1 1 1 1 1 1 1 1 1 1 1 1 1 1 1 1 1 1 1 1 1 1 1 1 1 1 1 1 1 1 1 1 1 1 1']\n",
                        "Labels     : ['chest pa view show : impression : - s / p rll wedge resection. - bilateral lungs metastasis. - left lower lung subsegmental atelectasis. - increased infiltrations in both lungs. - blunting right cp angle. - tortuous atherosclerotic aorta. - scoliosis, djd and osteoporosis of spine. - compression fracture of l1.']\n",
                        "\n"
                    ]
                },
                {
                    "name": "stderr",
                    "output_type": "stream",
                    "text": [
                        "Evaluating: :  30%|███       | 3/10 [00:06<00:14,  2.13s/it]"
                    ]
                },
                {
                    "name": "stdout",
                    "output_type": "stream",
                    "text": [
                        "Names      : ['NLP_CHEST_011']\n",
                        "Predictions: ['chest pa view showed : 1. 1 1 1 1 1 1 1 1 1 1 1 1 1 1 1 1 1 1 1 1 1 1 1 1 1 1 1 1 1 1 1 1 1 1 1 1 1 1 1 1 1 1 1 1 1 1 1 1 1 1 1 1 1 1 1 1 1 1 1 1 1 1 1 1 1 1 1 1 1 1 1 1 1 1 1 1 1 1 1 1 1 1 1 1 1 1 1 1 1 1 1 1 1 1 1 1 1 1 1 1 1 1 1 1 1 1 1 1 1 1 1 1 1 1 1 1 1 1 1 1 1 1 1 1 1 1 1 1 1 1 1 1 1 1 1 1 1 1 1 1 1 1 1 1 1 1 1 1 1 1 1 1 1 1 1 1 1 1 1 1 1 1 1 1 1 1 1 1 1 1 1 1 1 1 1 1 1 1 1 1 1 1 1 1 1 1 1 1 1 1 1 1 1 1 1 1 1 1 1 1 1 1 1 1 1 1 1 1 1 1 1 1 1 1 1 1 1 1 1 1 1 1 1 1 1 1 1 1 1 1 1 1 1 1 1 1 1 1 1 1 1 1 1 1 1 1 1']\n",
                        "Labels     : [\"chest ap view showed : 1. s / p sternotomy and cabg. enlarged heart size with tortuous aorta. 2. r't middle and lower lung faint patches. l't lower lung consolidation. l't pleural effusion. 3. no mediastinum widening. 4. s / p endotracheal tube and ng intubation.\"]\n",
                        "\n"
                    ]
                },
                {
                    "name": "stderr",
                    "output_type": "stream",
                    "text": [
                        "Evaluating: :  40%|████      | 4/10 [00:08<00:12,  2.11s/it]"
                    ]
                },
                {
                    "name": "stdout",
                    "output_type": "stream",
                    "text": [
                        "Names      : ['NLP_CHEST_015']\n",
                        "Predictions: ['chest pa view showed : 1. 1 1. 1 1 1 1 1 1 1 1 1 1 1 1 1 1 1 1 1 1 1 1 1 1 1 1 1 1 1 1 1 1 1 1 1 1 1 1 1 1 1 1 1 1 1 1 1 1 1 1 1 1 1 1 1 1 1 1 1 1 1 1 1 1 1 1 1 1 1 1 1 1 1 1 1 1 1 1 1 1 1 1 1 1 1 1 1 1 1 1 1 1 1 1 1 1 1 1 1 1 1 1 1 1 1 1 1 1 1 1 1 1 1 1 1 1 1 1 1 1 1 1 1 1 1 1 1 1 1 1 1 1 1 1 1 1 1 1 1 1 1 1 1 1 1 1 1 1 1 1 1 1 1 1 1 1 1 1 1 1 1 1 1 1 1 1 1 1 1 1 1 1 1 1 1 1 1 1 1 1 1 1 1 1 1 1 1 1 1 1 1 1 1 1 1 1 1 1 1 1 1 1 1 1 1 1 1 1 1 1 1 1 1 1 1 1 1 1 1 1 1 1 1 1 1 1 1 1 1 1 1 1 1 1 1 1 1 1 1 1 1 1 1 1 1 1']\n",
                        "Labels     : ['chest x ray : - no obvious lung mass nor consolidation patch. - normal heart size. - no pleural effusion.']\n",
                        "\n"
                    ]
                },
                {
                    "name": "stderr",
                    "output_type": "stream",
                    "text": [
                        "Evaluating: :  50%|█████     | 5/10 [00:10<00:10,  2.11s/it]"
                    ]
                },
                {
                    "name": "stdout",
                    "output_type": "stream",
                    "text": [
                        "Names      : ['NLP_CHEST_027']\n",
                        "Predictions: ['chest pa view showed : 1. 1 1 1 1 1 1 1 1 1 1 1 1 1 1 1 1 1 1 1 1 1 1 1 1 1 1 1 1 1 1 1 1 1 1 1 1 1 1 1 1 1 1 1 1 1 1 1 1 1 1 1 1 1 1 1 1 1 1 1 1 1 1 1 1 1 1 1 1 1 1 1 1 1 1 1 1 1 1 1 1 1 1 1 1 1 1 1 1 1 1 1 1 1 1 1 1 1 1 1 1 1 1 1 1 1 1 1 1 1 1 1 1 1 1 1 1 1 1 1 1 1 1 1 1 1 1 1 1 1 1 1 1 1 1 1 1 1 1 1 1 1 1 1 1 1 1 1 1 1 1 1 1 1 1 1 1 1 1 1 1 1 1 1 1 1 1 1 1 1 1 1 1 1 1 1 1 1 1 1 1 1 1 1 1 1 1 1 1 1 1 1 1 1 1 1 1 1 1 1 1 1 1 1 1 1 1 1 1 1 1 1 1 1 1 1 1 1 1 1 1 1 1 1 1 1 1 1 1 1 1 1 1 1 1 1 1 1 1 1 1 1 1 1 1 1 1 1']\n",
                        "Labels     : ['chest pa view : impression : > cardiomegaly with bilateral pulmonary congestion. > postinflammatory fibrosis in both upper lungs. > atherosclerosis of aorta. > old fractures of left 5th and 6th ribs. > r / o osteoporosis. > spondylosis of thoracolumbar spine. > s / p abdominal operation in ruq.']\n",
                        "\n"
                    ]
                },
                {
                    "name": "stderr",
                    "output_type": "stream",
                    "text": [
                        "Evaluating: :  60%|██████    | 6/10 [00:12<00:08,  2.11s/it]"
                    ]
                },
                {
                    "name": "stdout",
                    "output_type": "stream",
                    "text": [
                        "Names      : ['NLP_CHEST_031']\n",
                        "Predictions: ['chest pa view showed : 1. 1 1 1 1 1 1 1 1 1 1 1 1 1 1 1 1 1 1 1 1 1 1 1 1 1 1 1 1 1 1 1 1 1 1 1 1 1 1 1 1 1 1 1 1 1 1 1 1 1 1 1 1 1 1 1 1 1 1 1 1 1 1 1 1 1 1 1 1 1 1 1 1 1 1 1 1 1 1 1 1 1 1 1 1 1 1 1 1 1 1 1 1 1 1 1 1 1 1 1 1 1 1 1 1 1 1 1 1 1 1 1 1 1 1 1 1 1 1 1 1 1 1 1 1 1 1 1 1 1 1 1 1 1 1 1 1 1 1 1 1 1 1 1 1 1 1 1 1 1 1 1 1 1 1 1 1 1 1 1 1 1 1 1 1 1 1 1 1 1 1 1 1 1 1 1 1 1 1 1 1 1 1 1 1 1 1 1 1 1 1 1 1 1 1 1 1 1 1 1 1 1 1 1 1 1 1 1 1 1 1 1 1 1 1 1 1 1 1 1 1 1 1 1 1 1 1 1 1 1 1 1 1 1 1 1 1 1 1 1 1 1 1 1 1 1 1 1']\n",
                        "Labels     : ['chest pa view : impression : - increased both lung markings. - compatible with right lung nodules. - fibrotic lesion in left upper lung. - normal heart size. atherosclerotic aorta. - suspect right pleural effusion. - spondylosis. r / o osteoporosis. - compatible with multiple bony metastases. - s / p ng and endotracheal tube. - s / p lt subclavian port - a - cath.']\n",
                        "\n"
                    ]
                },
                {
                    "name": "stderr",
                    "output_type": "stream",
                    "text": [
                        "Evaluating: :  70%|███████   | 7/10 [00:14<00:06,  2.12s/it]"
                    ]
                },
                {
                    "name": "stdout",
                    "output_type": "stream",
                    "text": [
                        "Names      : ['NLP_CHEST_057']\n",
                        "Predictions: ['chest pa view showed : 1. 1 1 1 1 1 1 1 1 1 1 1 1 1 1 1 1 1 1 1 1 1 1 1 1 1 1 1 1 1 1 1 1 1 1 1 1 1 1 1 1 1 1 1 1 1 1 1 1 1 1 1 1 1 1 1 1 1 1 1 1 1 1 1 1 1 1 1 1 1 1 1 1 1 1 1 1 1 1 1 1 1 1 1 1 1 1 1 1 1 1 1 1 1 1 1 1 1 1 1 1 1 1 1 1 1 1 1 1 1 1 1 1 1 1 1 1 1 1 1 1 1 1 1 1 1 1 1 1 1 1 1 1 1 1 1 1 1 1 1 1 1 1 1 1 1 1 1 1 1 1 1 1 1 1 1 1 1 1 1 1 1 1 1 1 1 1 1 1 1 1 1 1 1 1 1 1 1 1 1 1 1 1 1 1 1 1 1 1 1 1 1 1 1 1 1 1 1 1 1 1 1 1 1 1 1 1 1 1 1 1 1 1 1 1 1 1 1 1 1 1 1 1 1 1 1 1 1 1 1 1 1 1 1 1 1 1 1 1 1 1 1 1 1 1 1 1 1']\n",
                        "Labels     : ['chest plain film shows : impression : - increased infiltrations in both lungs. - tortuous atherosclerotic dilated aorta. - normal heart size. - djd of spine. old fracture of right ribs. - increased both lung markings. s / p lt jugular cvc insertion. s / p ng and endotracheal tube. - susp. lt pneumothorax. suspect pneumomediastinum. subcutaneous emphysema in bilateral neck. - s / p bilateral chest tube insertion.']\n",
                        "\n"
                    ]
                },
                {
                    "name": "stderr",
                    "output_type": "stream",
                    "text": [
                        "Evaluating: :  80%|████████  | 8/10 [00:16<00:04,  2.11s/it]"
                    ]
                },
                {
                    "name": "stdout",
                    "output_type": "stream",
                    "text": [
                        "Names      : ['NLP_CHEST_059']\n",
                        "Predictions: ['chest pa view showed : 1. 1 1 1 1 1 1 1 1 1 1 1 1 1 1 1 1 1 1 1 1 1 1 1 1 1 1 1 1 1 1 1 1 1 1 1 1 1 1 1 1 1 1 1 1 1 1 1 1 1 1 1 1 1 1 1 1 1 1 1 1 1 1 1 1 1 1 1 1 1 1 1 1 1 1 1 1 1 1 1 1 1 1 1 1 1 1 1 1 1 1 1 1 1 1 1 1 1 1 1 1 1 1 1 1 1 1 1 1 1 1 1 1 1 1 1 1 1 1 1 1 1 1 1 1 1 1 1 1 1 1 1 1 1 1 1 1 1 1 1 1 1 1 1 1 1 1 1 1 1 1 1 1 1 1 1 1 1 1 1 1 1 1 1 1 1 1 1 1 1 1 1 1 1 1 1 1 1 1 1 1 1 1 1 1 1 1 1 1 1 1 1 1 1 1 1 1 1 1 1 1 1 1 1 1 1 1 1 1 1 1 1 1 1 1 1 1 1 1 1 1 1 1 1 1 1 1 1 1 1 1 1 1 1 1 1 1 1 1 1 1 1 1 1 1 1 1 1']\n",
                        "Labels     : ['supine chest ap view shows : pigtail catheter at right lower chest. decreased amount of right pleural effusion. air in the right lower pleural space. poor lung expansion. mild subcutaneous emphysema at right chest wall. right pleural thickening. ill - defined masses at right perihilar region. normal heart size.']\n",
                        "\n"
                    ]
                },
                {
                    "name": "stderr",
                    "output_type": "stream",
                    "text": [
                        "Evaluating: :  90%|█████████ | 9/10 [00:19<00:02,  2.12s/it]"
                    ]
                },
                {
                    "name": "stdout",
                    "output_type": "stream",
                    "text": [
                        "Names      : ['NLP_CHEST_071']\n",
                        "Predictions: ['chest pa view showed : 1. 1 1 1 1 1 1 1 1 1 1 1 1 1 1 1 1 1 1 1 1 1 1 1 1 1 1 1 1 1 1 1 1 1 1 1 1 1 1 1 1 1 1 1 1 1 1 1 1 1 1 1 1 1 1 1 1 1 1 1 1 1 1 1 1 1 1 1 1 1 1 1 1 1 1 1 1 1 1 1 1 1 1 1 1 1 1 1 1 1 1 1 1 1 1 1 1 1 1 1 1 1 1 1 1 1 1 1 1 1 1 1 1 1 1 1 1 1 1 1 1 1 1 1 1 1 1 1 1 1 1 1 1 1 1 1 1 1 1 1 1 1 1 1 1 1 1 1 1 1 1 1 1 1 1 1 1 1 1 1 1 1 1 1 1 1 1 1 1 1 1 1 1 1 1 1 1 1 1 1 1 1 1 1 1 1 1 1 1 1 1 1 1 1 1 1 1 1 1 1 1 1 1 1 1 1 1 1 1 1 1 1 1 1 1 1 1 1 1 1 1 1 1 1 1 1 1 1 1 1 1 1 1 1 1 1 1 1 1 1 1 1 1 1 1 1 1 1']\n",
                        "Labels     : ['chest film shows : impression : - bilateral lung infiltrations. - suspect right lower lung patch. blunting right cp angle. - tortuous atherosclerotic aorta. - scoliosis, djd and osteoporosis of spine. compression fracture of t12. old fracture of left ribs. - s / p fixation in l - spine. - s / p tracheostomy and ng tube.']\n",
                        "\n"
                    ]
                },
                {
                    "name": "stderr",
                    "output_type": "stream",
                    "text": [
                        "Evaluating: : 100%|██████████| 10/10 [00:21<00:00,  2.13s/it]\n"
                    ]
                },
                {
                    "name": "stdout",
                    "output_type": "stream",
                    "text": [
                        "Names      : ['NLP_CHEST_085']\n",
                        "Predictions: ['chest pa view showed : 1. 1 1 1 1 1 1 1 1 1 1 1 1 1 1 1 1 1 1 1 1 1 1 1 1 1 1 1 1 1 1 1 1 1 1 1 1 1 1 1 1 1 1 1 1 1 1 1 1 1 1 1 1 1 1 1 1 1 1 1 1 1 1 1 1 1 1 1 1 1 1 1 1 1 1 1 1 1 1 1 1 1 1 1 1 1 1 1 1 1 1 1 1 1 1 1 1 1 1 1 1 1 1 1 1 1 1 1 1 1 1 1 1 1 1 1 1 1 1 1 1 1 1 1 1 1 1 1 1 1 1 1 1 1 1 1 1 1 1 1 1 1 1 1 1 1 1 1 1 1 1 1 1 1 1 1 1 1 1 1 1 1 1 1 1 1 1 1 1 1 1 1 1 1 1 1 1 1 1 1 1 1 1 1 1 1 1 1 1 1 1 1 1 1 1 1 1 1 1 1 1 1 1 1 1 1 1 1 1 1 1 1 1 1 1 1 1 1 1 1 1 1 1 1 1 1 1 1 1 1 1 1 1 1 1 1 1 1 1 1 1 1 1 1 1 1 1 1']\n",
                        "Labels     : ['chest x ray : - right pneumothorax with pleural effusion, status post drainge tube placement. - extensive subcutaneous emphysema from neck to right side thoracic cage. - increased right hilar opacity. - atherosclerosis and tortuous aorta. - obscured bilateral costophrenic angles. - spondylosis and mild scoliosis of thoracolumbar spine. - oa of right glenohumeral joint. - generalized osteopenia.']\n",
                        "\n",
                        "Rouge-2 score : {'Rouge-L-P': 0.07841980144150104, 'Rouge-L-R': 0.055912930542986794, 'Rouge-L-F': 0.055912930542986794, 'Rouge-2-P': 0.0421822745911256, 'Rouge-2-R': 0.025651016749479817, 'Rouge-2-F': 0.025651016749479817}\n"
                    ]
                },
                {
                    "name": "stderr",
                    "output_type": "stream",
                    "text": [
                        "Training Epoch [5 / 50]: 100%|██████████| 89/89 [00:13<00:00,  6.39it/s, loss=0.532]\n",
                        "Evaluating: :  10%|█         | 1/10 [00:02<00:19,  2.19s/it]"
                    ]
                },
                {
                    "name": "stdout",
                    "output_type": "stream",
                    "text": [
                        "Names      : ['NLP_CHEST_002']\n",
                        "Predictions: [\"chest chest pa view showed : impression : - suspicious right upper lung patch. - normal heart size. - atherosclerosis of aorta. - atherosclerosis of aorta. - s / p l't jugular cvc insertion.\"]\n",
                        "Labels     : ['chest pa view shows : partial atelectasis at left lower lung field. left pleural effusion. borderline heart size. atherosclerotic change of aortic knob. s / p port - a implantation via left subclavian vein. intraperitoneal port catheter. surgical clips at ruq of abdomen.']\n",
                        "\n"
                    ]
                },
                {
                    "name": "stderr",
                    "output_type": "stream",
                    "text": [
                        "Evaluating: :  20%|██        | 2/10 [00:04<00:17,  2.22s/it]"
                    ]
                },
                {
                    "name": "stdout",
                    "output_type": "stream",
                    "text": [
                        "Names      : ['NLP_CHEST_004']\n",
                        "Predictions: ['chest chest pa view showed : impression : - suspicious pulmonary edema. - normal heart size. - atherosclerosis of aorta. - atherosclerosis of aorta. - s / p rt j jugular cp insertion.']\n",
                        "Labels     : ['chest pa view show : impression : - s / p rll wedge resection. - bilateral lungs metastasis. - left lower lung subsegmental atelectasis. - increased infiltrations in both lungs. - blunting right cp angle. - tortuous atherosclerotic aorta. - scoliosis, djd and osteoporosis of spine. - compression fracture of l1.']\n",
                        "\n"
                    ]
                },
                {
                    "name": "stderr",
                    "output_type": "stream",
                    "text": [
                        "Evaluating: :  30%|███       | 3/10 [00:06<00:15,  2.19s/it]"
                    ]
                },
                {
                    "name": "stdout",
                    "output_type": "stream",
                    "text": [
                        "Names      : ['NLP_CHEST_011']\n",
                        "Predictions: ['chest chest pa view showed : impression : - suspicious pulmonary edema. - normal heart size. - atherosclerosis of aorta. - atherosclerosis of aorta. - s / p rt jugular cp insertion. - s / p rt jugular cvc insertion.']\n",
                        "Labels     : [\"chest ap view showed : 1. s / p sternotomy and cabg. enlarged heart size with tortuous aorta. 2. r't middle and lower lung faint patches. l't lower lung consolidation. l't pleural effusion. 3. no mediastinum widening. 4. s / p endotracheal tube and ng intubation.\"]\n",
                        "\n"
                    ]
                },
                {
                    "name": "stderr",
                    "output_type": "stream",
                    "text": [
                        "Evaluating: :  40%|████      | 4/10 [00:08<00:13,  2.19s/it]"
                    ]
                },
                {
                    "name": "stdout",
                    "output_type": "stream",
                    "text": [
                        "Names      : ['NLP_CHEST_015']\n",
                        "Predictions: [\"chest chest pa view showed : impression : - suspicious right upper lung patch. - normal heart size. - atherosclerosis of aorta. - s / p l't j jugular cp insertion. - s / p rt j jugular cvc insertion.\"]\n",
                        "Labels     : ['chest x ray : - no obvious lung mass nor consolidation patch. - normal heart size. - no pleural effusion.']\n",
                        "\n"
                    ]
                },
                {
                    "name": "stderr",
                    "output_type": "stream",
                    "text": [
                        "Evaluating: :  50%|█████     | 5/10 [00:10<00:10,  2.17s/it]"
                    ]
                },
                {
                    "name": "stdout",
                    "output_type": "stream",
                    "text": [
                        "Names      : ['NLP_CHEST_027']\n",
                        "Predictions: ['chest chest pa view showed : impression : - suspicious pulmonary edema. - normal heart size. - atherosclerosis of aorta. - atherosclerosis of aorta. - s / p rt j jugular cp insertion.']\n",
                        "Labels     : ['chest pa view : impression : > cardiomegaly with bilateral pulmonary congestion. > postinflammatory fibrosis in both upper lungs. > atherosclerosis of aorta. > old fractures of left 5th and 6th ribs. > r / o osteoporosis. > spondylosis of thoracolumbar spine. > s / p abdominal operation in ruq.']\n",
                        "\n"
                    ]
                },
                {
                    "name": "stderr",
                    "output_type": "stream",
                    "text": [
                        "Evaluating: :  60%|██████    | 6/10 [00:13<00:08,  2.18s/it]"
                    ]
                },
                {
                    "name": "stdout",
                    "output_type": "stream",
                    "text": [
                        "Names      : ['NLP_CHEST_031']\n",
                        "Predictions: ['chest chest pa view showed : impression : - suspicious pulmonary edema. - normal heart size. - atherosclerosis of aorta. - atherosclerosis of aorta. - s / p rt jugular cp insertion. - s / p rt jugular cvc insertion.']\n",
                        "Labels     : ['chest pa view : impression : - increased both lung markings. - compatible with right lung nodules. - fibrotic lesion in left upper lung. - normal heart size. atherosclerotic aorta. - suspect right pleural effusion. - spondylosis. r / o osteoporosis. - compatible with multiple bony metastases. - s / p ng and endotracheal tube. - s / p lt subclavian port - a - cath.']\n",
                        "\n"
                    ]
                },
                {
                    "name": "stderr",
                    "output_type": "stream",
                    "text": [
                        "Evaluating: :  70%|███████   | 7/10 [00:15<00:06,  2.19s/it]"
                    ]
                },
                {
                    "name": "stdout",
                    "output_type": "stream",
                    "text": [
                        "Names      : ['NLP_CHEST_057']\n",
                        "Predictions: ['chest chest pa view showed : impression : - suspicious pulmonary edema. - normal heart size. - atherosclerosis of aorta. - atherosclerosis of aorta. - s / p rt jugular cp insertion. - s / p rt jugular cvc insertion.']\n",
                        "Labels     : ['chest plain film shows : impression : - increased infiltrations in both lungs. - tortuous atherosclerotic dilated aorta. - normal heart size. - djd of spine. old fracture of right ribs. - increased both lung markings. s / p lt jugular cvc insertion. s / p ng and endotracheal tube. - susp. lt pneumothorax. suspect pneumomediastinum. subcutaneous emphysema in bilateral neck. - s / p bilateral chest tube insertion.']\n",
                        "\n"
                    ]
                },
                {
                    "name": "stderr",
                    "output_type": "stream",
                    "text": [
                        "Evaluating: :  80%|████████  | 8/10 [00:17<00:04,  2.19s/it]"
                    ]
                },
                {
                    "name": "stdout",
                    "output_type": "stream",
                    "text": [
                        "Names      : ['NLP_CHEST_059']\n",
                        "Predictions: ['chest chest pa view showed : impression : - suspicious pulmonary edema. - normal heart size. - atherosclerosis of aorta. - atherosclerosis of aorta. - s / p rt jugular cp insertion. - s / p rt jugular cvc insertion.']\n",
                        "Labels     : ['supine chest ap view shows : pigtail catheter at right lower chest. decreased amount of right pleural effusion. air in the right lower pleural space. poor lung expansion. mild subcutaneous emphysema at right chest wall. right pleural thickening. ill - defined masses at right perihilar region. normal heart size.']\n",
                        "\n"
                    ]
                },
                {
                    "name": "stderr",
                    "output_type": "stream",
                    "text": [
                        "Evaluating: :  90%|█████████ | 9/10 [00:19<00:02,  2.18s/it]"
                    ]
                },
                {
                    "name": "stdout",
                    "output_type": "stream",
                    "text": [
                        "Names      : ['NLP_CHEST_071']\n",
                        "Predictions: ['chest chest pa view showed : impression : - suspicious pulmonary edema. - normal heart size. - atherosclerosis of aorta. - atherosclerotic aorta. - s / p rt jugular cp insertion. - s / p rt jugular cvc insertion.']\n",
                        "Labels     : ['chest film shows : impression : - bilateral lung infiltrations. - suspect right lower lung patch. blunting right cp angle. - tortuous atherosclerotic aorta. - scoliosis, djd and osteoporosis of spine. compression fracture of t12. old fracture of left ribs. - s / p fixation in l - spine. - s / p tracheostomy and ng tube.']\n",
                        "\n"
                    ]
                },
                {
                    "name": "stderr",
                    "output_type": "stream",
                    "text": [
                        "Evaluating: : 100%|██████████| 10/10 [00:21<00:00,  2.18s/it]\n"
                    ]
                },
                {
                    "name": "stdout",
                    "output_type": "stream",
                    "text": [
                        "Names      : ['NLP_CHEST_085']\n",
                        "Predictions: ['chest chest pa view showed : impression : - suspicious pulmonary edema. - normal heart size. - atherosclerosis of aorta. - atherosclerosis of aorta. - s / p rt j jugular cp insertion.']\n",
                        "Labels     : ['chest x ray : - right pneumothorax with pleural effusion, status post drainge tube placement. - extensive subcutaneous emphysema from neck to right side thoracic cage. - increased right hilar opacity. - atherosclerosis and tortuous aorta. - obscured bilateral costophrenic angles. - spondylosis and mild scoliosis of thoracolumbar spine. - oa of right glenohumeral joint. - generalized osteopenia.']\n",
                        "\n",
                        "Rouge-2 score : {'Rouge-L-P': 0.13584862053068608, 'Rouge-L-R': 0.10019312283701629, 'Rouge-L-F': 0.10019312283701629, 'Rouge-2-P': 0.0776296989515166, 'Rouge-2-R': 0.053591213705455186, 'Rouge-2-F': 0.053591213705455186}\n"
                    ]
                },
                {
                    "name": "stderr",
                    "output_type": "stream",
                    "text": [
                        "Training Epoch [6 / 50]: 100%|██████████| 89/89 [00:14<00:00,  6.18it/s, loss=0.455]\n",
                        "Evaluating: :  10%|█         | 1/10 [00:02<00:20,  2.33s/it]"
                    ]
                },
                {
                    "name": "stdout",
                    "output_type": "stream",
                    "text": [
                        "Names      : ['NLP_CHEST_002']\n",
                        "Predictions: ['']\n",
                        "Labels     : ['chest pa view shows : partial atelectasis at left lower lung field. left pleural effusion. borderline heart size. atherosclerotic change of aortic knob. s / p port - a implantation via left subclavian vein. intraperitoneal port catheter. surgical clips at ruq of abdomen.']\n",
                        "\n"
                    ]
                },
                {
                    "name": "stderr",
                    "output_type": "stream",
                    "text": [
                        "Evaluating: :  20%|██        | 2/10 [00:04<00:18,  2.25s/it]"
                    ]
                },
                {
                    "name": "stdout",
                    "output_type": "stream",
                    "text": [
                        "Names      : ['NLP_CHEST_004']\n",
                        "Predictions: ['']\n",
                        "Labels     : ['chest pa view show : impression : - s / p rll wedge resection. - bilateral lungs metastasis. - left lower lung subsegmental atelectasis. - increased infiltrations in both lungs. - blunting right cp angle. - tortuous atherosclerotic aorta. - scoliosis, djd and osteoporosis of spine. - compression fracture of l1.']\n",
                        "\n"
                    ]
                },
                {
                    "name": "stderr",
                    "output_type": "stream",
                    "text": [
                        "Evaluating: :  30%|███       | 3/10 [00:07<00:16,  2.39s/it]"
                    ]
                },
                {
                    "name": "stdout",
                    "output_type": "stream",
                    "text": [
                        "Names      : ['NLP_CHEST_011']\n",
                        "Predictions: ['']\n",
                        "Labels     : [\"chest ap view showed : 1. s / p sternotomy and cabg. enlarged heart size with tortuous aorta. 2. r't middle and lower lung faint patches. l't lower lung consolidation. l't pleural effusion. 3. no mediastinum widening. 4. s / p endotracheal tube and ng intubation.\"]\n",
                        "\n"
                    ]
                },
                {
                    "name": "stderr",
                    "output_type": "stream",
                    "text": [
                        "Evaluating: :  40%|████      | 4/10 [00:12<00:20,  3.46s/it]"
                    ]
                },
                {
                    "name": "stdout",
                    "output_type": "stream",
                    "text": [
                        "Names      : ['NLP_CHEST_015']\n",
                        "Predictions: ['']\n",
                        "Labels     : ['chest x ray : - no obvious lung mass nor consolidation patch. - normal heart size. - no pleural effusion.']\n",
                        "\n"
                    ]
                },
                {
                    "name": "stderr",
                    "output_type": "stream",
                    "text": [
                        "Evaluating: :  50%|█████     | 5/10 [00:15<00:17,  3.41s/it]"
                    ]
                },
                {
                    "name": "stdout",
                    "output_type": "stream",
                    "text": [
                        "Names      : ['NLP_CHEST_027']\n",
                        "Predictions: ['']\n",
                        "Labels     : ['chest pa view : impression : > cardiomegaly with bilateral pulmonary congestion. > postinflammatory fibrosis in both upper lungs. > atherosclerosis of aorta. > old fractures of left 5th and 6th ribs. > r / o osteoporosis. > spondylosis of thoracolumbar spine. > s / p abdominal operation in ruq.']\n",
                        "\n"
                    ]
                },
                {
                    "name": "stderr",
                    "output_type": "stream",
                    "text": [
                        "Evaluating: :  60%|██████    | 6/10 [00:19<00:14,  3.57s/it]"
                    ]
                },
                {
                    "name": "stdout",
                    "output_type": "stream",
                    "text": [
                        "Names      : ['NLP_CHEST_031']\n",
                        "Predictions: ['']\n",
                        "Labels     : ['chest pa view : impression : - increased both lung markings. - compatible with right lung nodules. - fibrotic lesion in left upper lung. - normal heart size. atherosclerotic aorta. - suspect right pleural effusion. - spondylosis. r / o osteoporosis. - compatible with multiple bony metastases. - s / p ng and endotracheal tube. - s / p lt subclavian port - a - cath.']\n",
                        "\n"
                    ]
                },
                {
                    "name": "stderr",
                    "output_type": "stream",
                    "text": [
                        "Evaluating: :  70%|███████   | 7/10 [00:22<00:10,  3.53s/it]"
                    ]
                },
                {
                    "name": "stdout",
                    "output_type": "stream",
                    "text": [
                        "Names      : ['NLP_CHEST_057']\n",
                        "Predictions: ['']\n",
                        "Labels     : ['chest plain film shows : impression : - increased infiltrations in both lungs. - tortuous atherosclerotic dilated aorta. - normal heart size. - djd of spine. old fracture of right ribs. - increased both lung markings. s / p lt jugular cvc insertion. s / p ng and endotracheal tube. - susp. lt pneumothorax. suspect pneumomediastinum. subcutaneous emphysema in bilateral neck. - s / p bilateral chest tube insertion.']\n",
                        "\n"
                    ]
                },
                {
                    "name": "stderr",
                    "output_type": "stream",
                    "text": [
                        "Evaluating: :  80%|████████  | 8/10 [00:26<00:06,  3.48s/it]"
                    ]
                },
                {
                    "name": "stdout",
                    "output_type": "stream",
                    "text": [
                        "Names      : ['NLP_CHEST_059']\n",
                        "Predictions: ['']\n",
                        "Labels     : ['supine chest ap view shows : pigtail catheter at right lower chest. decreased amount of right pleural effusion. air in the right lower pleural space. poor lung expansion. mild subcutaneous emphysema at right chest wall. right pleural thickening. ill - defined masses at right perihilar region. normal heart size.']\n",
                        "\n"
                    ]
                },
                {
                    "name": "stderr",
                    "output_type": "stream",
                    "text": [
                        "Evaluating: :  90%|█████████ | 9/10 [00:29<00:03,  3.38s/it]"
                    ]
                },
                {
                    "name": "stdout",
                    "output_type": "stream",
                    "text": [
                        "Names      : ['NLP_CHEST_071']\n",
                        "Predictions: ['']\n",
                        "Labels     : ['chest film shows : impression : - bilateral lung infiltrations. - suspect right lower lung patch. blunting right cp angle. - tortuous atherosclerotic aorta. - scoliosis, djd and osteoporosis of spine. compression fracture of t12. old fracture of left ribs. - s / p fixation in l - spine. - s / p tracheostomy and ng tube.']\n",
                        "\n"
                    ]
                },
                {
                    "name": "stderr",
                    "output_type": "stream",
                    "text": [
                        "Evaluating: : 100%|██████████| 10/10 [00:32<00:00,  3.26s/it]\n"
                    ]
                },
                {
                    "name": "stdout",
                    "output_type": "stream",
                    "text": [
                        "Names      : ['NLP_CHEST_085']\n",
                        "Predictions: ['']\n",
                        "Labels     : ['chest x ray : - right pneumothorax with pleural effusion, status post drainge tube placement. - extensive subcutaneous emphysema from neck to right side thoracic cage. - increased right hilar opacity. - atherosclerosis and tortuous aorta. - obscured bilateral costophrenic angles. - spondylosis and mild scoliosis of thoracolumbar spine. - oa of right glenohumeral joint. - generalized osteopenia.']\n",
                        "\n",
                        "Rouge-2 score : {'Rouge-L-P': 0.11320718377557173, 'Rouge-L-R': 0.0834942690308469, 'Rouge-L-F': 0.0834942690308469, 'Rouge-2-P': 0.0646914157929305, 'Rouge-2-R': 0.04465934475454599, 'Rouge-2-F': 0.04465934475454599}\n"
                    ]
                },
                {
                    "name": "stderr",
                    "output_type": "stream",
                    "text": [
                        "Training Epoch [7 / 50]: 100%|██████████| 89/89 [00:17<00:00,  5.20it/s, loss=0.404]\n",
                        "Evaluating: :  10%|█         | 1/10 [00:03<00:27,  3.10s/it]"
                    ]
                },
                {
                    "name": "stdout",
                    "output_type": "stream",
                    "text": [
                        "Names      : ['NLP_CHEST_002']\n",
                        "Predictions: ['']\n",
                        "Labels     : ['chest pa view shows : partial atelectasis at left lower lung field. left pleural effusion. borderline heart size. atherosclerotic change of aortic knob. s / p port - a implantation via left subclavian vein. intraperitoneal port catheter. surgical clips at ruq of abdomen.']\n",
                        "\n"
                    ]
                },
                {
                    "name": "stderr",
                    "output_type": "stream",
                    "text": [
                        "Evaluating: :  20%|██        | 2/10 [00:06<00:23,  2.99s/it]"
                    ]
                },
                {
                    "name": "stdout",
                    "output_type": "stream",
                    "text": [
                        "Names      : ['NLP_CHEST_004']\n",
                        "Predictions: ['']\n",
                        "Labels     : ['chest pa view show : impression : - s / p rll wedge resection. - bilateral lungs metastasis. - left lower lung subsegmental atelectasis. - increased infiltrations in both lungs. - blunting right cp angle. - tortuous atherosclerotic aorta. - scoliosis, djd and osteoporosis of spine. - compression fracture of l1.']\n",
                        "\n"
                    ]
                },
                {
                    "name": "stderr",
                    "output_type": "stream",
                    "text": [
                        "Evaluating: :  30%|███       | 3/10 [00:08<00:20,  2.88s/it]"
                    ]
                },
                {
                    "name": "stdout",
                    "output_type": "stream",
                    "text": [
                        "Names      : ['NLP_CHEST_011']\n",
                        "Predictions: ['']\n",
                        "Labels     : [\"chest ap view showed : 1. s / p sternotomy and cabg. enlarged heart size with tortuous aorta. 2. r't middle and lower lung faint patches. l't lower lung consolidation. l't pleural effusion. 3. no mediastinum widening. 4. s / p endotracheal tube and ng intubation.\"]\n",
                        "\n"
                    ]
                },
                {
                    "name": "stderr",
                    "output_type": "stream",
                    "text": [
                        "Evaluating: :  40%|████      | 4/10 [00:11<00:16,  2.81s/it]"
                    ]
                },
                {
                    "name": "stdout",
                    "output_type": "stream",
                    "text": [
                        "Names      : ['NLP_CHEST_015']\n",
                        "Predictions: ['']\n",
                        "Labels     : ['chest x ray : - no obvious lung mass nor consolidation patch. - normal heart size. - no pleural effusion.']\n",
                        "\n"
                    ]
                },
                {
                    "name": "stderr",
                    "output_type": "stream",
                    "text": [
                        "Evaluating: :  50%|█████     | 5/10 [00:14<00:14,  2.86s/it]"
                    ]
                },
                {
                    "name": "stdout",
                    "output_type": "stream",
                    "text": [
                        "Names      : ['NLP_CHEST_027']\n",
                        "Predictions: ['']\n",
                        "Labels     : ['chest pa view : impression : > cardiomegaly with bilateral pulmonary congestion. > postinflammatory fibrosis in both upper lungs. > atherosclerosis of aorta. > old fractures of left 5th and 6th ribs. > r / o osteoporosis. > spondylosis of thoracolumbar spine. > s / p abdominal operation in ruq.']\n",
                        "\n"
                    ]
                },
                {
                    "name": "stderr",
                    "output_type": "stream",
                    "text": [
                        "Evaluating: :  60%|██████    | 6/10 [00:17<00:11,  2.80s/it]"
                    ]
                },
                {
                    "name": "stdout",
                    "output_type": "stream",
                    "text": [
                        "Names      : ['NLP_CHEST_031']\n",
                        "Predictions: ['']\n",
                        "Labels     : ['chest pa view : impression : - increased both lung markings. - compatible with right lung nodules. - fibrotic lesion in left upper lung. - normal heart size. atherosclerotic aorta. - suspect right pleural effusion. - spondylosis. r / o osteoporosis. - compatible with multiple bony metastases. - s / p ng and endotracheal tube. - s / p lt subclavian port - a - cath.']\n",
                        "\n"
                    ]
                },
                {
                    "name": "stderr",
                    "output_type": "stream",
                    "text": [
                        "Evaluating: :  70%|███████   | 7/10 [00:20<00:09,  3.13s/it]"
                    ]
                },
                {
                    "name": "stdout",
                    "output_type": "stream",
                    "text": [
                        "Names      : ['NLP_CHEST_057']\n",
                        "Predictions: ['']\n",
                        "Labels     : ['chest plain film shows : impression : - increased infiltrations in both lungs. - tortuous atherosclerotic dilated aorta. - normal heart size. - djd of spine. old fracture of right ribs. - increased both lung markings. s / p lt jugular cvc insertion. s / p ng and endotracheal tube. - susp. lt pneumothorax. suspect pneumomediastinum. subcutaneous emphysema in bilateral neck. - s / p bilateral chest tube insertion.']\n",
                        "\n"
                    ]
                },
                {
                    "name": "stderr",
                    "output_type": "stream",
                    "text": [
                        "Evaluating: :  80%|████████  | 8/10 [00:24<00:06,  3.42s/it]"
                    ]
                },
                {
                    "name": "stdout",
                    "output_type": "stream",
                    "text": [
                        "Names      : ['NLP_CHEST_059']\n",
                        "Predictions: ['']\n",
                        "Labels     : ['supine chest ap view shows : pigtail catheter at right lower chest. decreased amount of right pleural effusion. air in the right lower pleural space. poor lung expansion. mild subcutaneous emphysema at right chest wall. right pleural thickening. ill - defined masses at right perihilar region. normal heart size.']\n",
                        "\n"
                    ]
                },
                {
                    "name": "stderr",
                    "output_type": "stream",
                    "text": [
                        "Evaluating: :  90%|█████████ | 9/10 [00:28<00:03,  3.40s/it]"
                    ]
                },
                {
                    "name": "stdout",
                    "output_type": "stream",
                    "text": [
                        "Names      : ['NLP_CHEST_071']\n",
                        "Predictions: ['']\n",
                        "Labels     : ['chest film shows : impression : - bilateral lung infiltrations. - suspect right lower lung patch. blunting right cp angle. - tortuous atherosclerotic aorta. - scoliosis, djd and osteoporosis of spine. compression fracture of t12. old fracture of left ribs. - s / p fixation in l - spine. - s / p tracheostomy and ng tube.']\n",
                        "\n"
                    ]
                },
                {
                    "name": "stderr",
                    "output_type": "stream",
                    "text": [
                        "Evaluating: : 100%|██████████| 10/10 [00:31<00:00,  3.14s/it]\n"
                    ]
                },
                {
                    "name": "stdout",
                    "output_type": "stream",
                    "text": [
                        "Names      : ['NLP_CHEST_085']\n",
                        "Predictions: ['']\n",
                        "Labels     : ['chest x ray : - right pneumothorax with pleural effusion, status post drainge tube placement. - extensive subcutaneous emphysema from neck to right side thoracic cage. - increased right hilar opacity. - atherosclerosis and tortuous aorta. - obscured bilateral costophrenic angles. - spondylosis and mild scoliosis of thoracolumbar spine. - oa of right glenohumeral joint. - generalized osteopenia.']\n",
                        "\n",
                        "Rouge-2 score : {'Rouge-L-P': 0.09703472895049006, 'Rouge-L-R': 0.0715665163121545, 'Rouge-L-F': 0.0715665163121545, 'Rouge-2-P': 0.055449784965368995, 'Rouge-2-R': 0.03827943836103942, 'Rouge-2-F': 0.03827943836103942}\n"
                    ]
                },
                {
                    "name": "stderr",
                    "output_type": "stream",
                    "text": [
                        "Training Epoch [8 / 50]: 100%|██████████| 89/89 [00:18<00:00,  4.71it/s, loss=0.361]\n",
                        "Evaluating: :  10%|█         | 1/10 [00:05<00:49,  5.53s/it]"
                    ]
                },
                {
                    "name": "stdout",
                    "output_type": "stream",
                    "text": [
                        "Names      : ['NLP_CHEST_002']\n",
                        "Predictions: ['']\n",
                        "Labels     : ['chest pa view shows : partial atelectasis at left lower lung field. left pleural effusion. borderline heart size. atherosclerotic change of aortic knob. s / p port - a implantation via left subclavian vein. intraperitoneal port catheter. surgical clips at ruq of abdomen.']\n",
                        "\n"
                    ]
                },
                {
                    "name": "stderr",
                    "output_type": "stream",
                    "text": [
                        "Evaluating: :  20%|██        | 2/10 [00:11<00:45,  5.70s/it]"
                    ]
                },
                {
                    "name": "stdout",
                    "output_type": "stream",
                    "text": [
                        "Names      : ['NLP_CHEST_004']\n",
                        "Predictions: ['']\n",
                        "Labels     : ['chest pa view show : impression : - s / p rll wedge resection. - bilateral lungs metastasis. - left lower lung subsegmental atelectasis. - increased infiltrations in both lungs. - blunting right cp angle. - tortuous atherosclerotic aorta. - scoliosis, djd and osteoporosis of spine. - compression fracture of l1.']\n",
                        "\n"
                    ]
                },
                {
                    "name": "stderr",
                    "output_type": "stream",
                    "text": [
                        "Evaluating: :  30%|███       | 3/10 [00:17<00:40,  5.77s/it]"
                    ]
                },
                {
                    "name": "stdout",
                    "output_type": "stream",
                    "text": [
                        "Names      : ['NLP_CHEST_011']\n",
                        "Predictions: ['']\n",
                        "Labels     : [\"chest ap view showed : 1. s / p sternotomy and cabg. enlarged heart size with tortuous aorta. 2. r't middle and lower lung faint patches. l't lower lung consolidation. l't pleural effusion. 3. no mediastinum widening. 4. s / p endotracheal tube and ng intubation.\"]\n",
                        "\n"
                    ]
                },
                {
                    "name": "stderr",
                    "output_type": "stream",
                    "text": [
                        "Evaluating: :  40%|████      | 4/10 [00:23<00:34,  5.79s/it]"
                    ]
                },
                {
                    "name": "stdout",
                    "output_type": "stream",
                    "text": [
                        "Names      : ['NLP_CHEST_015']\n",
                        "Predictions: ['']\n",
                        "Labels     : ['chest x ray : - no obvious lung mass nor consolidation patch. - normal heart size. - no pleural effusion.']\n",
                        "\n"
                    ]
                },
                {
                    "name": "stderr",
                    "output_type": "stream",
                    "text": [
                        "Evaluating: :  50%|█████     | 5/10 [00:28<00:29,  5.81s/it]"
                    ]
                },
                {
                    "name": "stdout",
                    "output_type": "stream",
                    "text": [
                        "Names      : ['NLP_CHEST_027']\n",
                        "Predictions: ['']\n",
                        "Labels     : ['chest pa view : impression : > cardiomegaly with bilateral pulmonary congestion. > postinflammatory fibrosis in both upper lungs. > atherosclerosis of aorta. > old fractures of left 5th and 6th ribs. > r / o osteoporosis. > spondylosis of thoracolumbar spine. > s / p abdominal operation in ruq.']\n",
                        "\n"
                    ]
                },
                {
                    "name": "stderr",
                    "output_type": "stream",
                    "text": [
                        "Evaluating: :  60%|██████    | 6/10 [00:33<00:21,  5.46s/it]"
                    ]
                },
                {
                    "name": "stdout",
                    "output_type": "stream",
                    "text": [
                        "Names      : ['NLP_CHEST_031']\n",
                        "Predictions: ['']\n",
                        "Labels     : ['chest pa view : impression : - increased both lung markings. - compatible with right lung nodules. - fibrotic lesion in left upper lung. - normal heart size. atherosclerotic aorta. - suspect right pleural effusion. - spondylosis. r / o osteoporosis. - compatible with multiple bony metastases. - s / p ng and endotracheal tube. - s / p lt subclavian port - a - cath.']\n",
                        "\n"
                    ]
                },
                {
                    "name": "stderr",
                    "output_type": "stream",
                    "text": [
                        "Evaluating: :  70%|███████   | 7/10 [00:36<00:14,  4.68s/it]"
                    ]
                },
                {
                    "name": "stdout",
                    "output_type": "stream",
                    "text": [
                        "Names      : ['NLP_CHEST_057']\n",
                        "Predictions: ['']\n",
                        "Labels     : ['chest plain film shows : impression : - increased infiltrations in both lungs. - tortuous atherosclerotic dilated aorta. - normal heart size. - djd of spine. old fracture of right ribs. - increased both lung markings. s / p lt jugular cvc insertion. s / p ng and endotracheal tube. - susp. lt pneumothorax. suspect pneumomediastinum. subcutaneous emphysema in bilateral neck. - s / p bilateral chest tube insertion.']\n",
                        "\n"
                    ]
                },
                {
                    "name": "stderr",
                    "output_type": "stream",
                    "text": [
                        "Evaluating: :  80%|████████  | 8/10 [00:39<00:08,  4.07s/it]"
                    ]
                },
                {
                    "name": "stdout",
                    "output_type": "stream",
                    "text": [
                        "Names      : ['NLP_CHEST_059']\n",
                        "Predictions: ['']\n",
                        "Labels     : ['supine chest ap view shows : pigtail catheter at right lower chest. decreased amount of right pleural effusion. air in the right lower pleural space. poor lung expansion. mild subcutaneous emphysema at right chest wall. right pleural thickening. ill - defined masses at right perihilar region. normal heart size.']\n",
                        "\n"
                    ]
                },
                {
                    "name": "stderr",
                    "output_type": "stream",
                    "text": [
                        "Evaluating: :  90%|█████████ | 9/10 [00:45<00:04,  4.67s/it]"
                    ]
                },
                {
                    "name": "stdout",
                    "output_type": "stream",
                    "text": [
                        "Names      : ['NLP_CHEST_071']\n",
                        "Predictions: ['']\n",
                        "Labels     : ['chest film shows : impression : - bilateral lung infiltrations. - suspect right lower lung patch. blunting right cp angle. - tortuous atherosclerotic aorta. - scoliosis, djd and osteoporosis of spine. compression fracture of t12. old fracture of left ribs. - s / p fixation in l - spine. - s / p tracheostomy and ng tube.']\n",
                        "\n"
                    ]
                },
                {
                    "name": "stderr",
                    "output_type": "stream",
                    "text": [
                        "Evaluating: : 100%|██████████| 10/10 [00:50<00:00,  5.06s/it]\n"
                    ]
                },
                {
                    "name": "stdout",
                    "output_type": "stream",
                    "text": [
                        "Names      : ['NLP_CHEST_085']\n",
                        "Predictions: ['']\n",
                        "Labels     : ['chest x ray : - right pneumothorax with pleural effusion, status post drainge tube placement. - extensive subcutaneous emphysema from neck to right side thoracic cage. - increased right hilar opacity. - atherosclerosis and tortuous aorta. - obscured bilateral costophrenic angles. - spondylosis and mild scoliosis of thoracolumbar spine. - oa of right glenohumeral joint. - generalized osteopenia.']\n",
                        "\n",
                        "Rouge-2 score : {'Rouge-L-P': 0.08490538783167881, 'Rouge-L-R': 0.06262070177313518, 'Rouge-L-F': 0.06262070177313518, 'Rouge-2-P': 0.04851856184469787, 'Rouge-2-R': 0.03349450856590949, 'Rouge-2-F': 0.03349450856590949}\n"
                    ]
                },
                {
                    "name": "stderr",
                    "output_type": "stream",
                    "text": [
                        "Training Epoch [9 / 50]: 100%|██████████| 89/89 [00:19<00:00,  4.68it/s, loss=0.334]\n",
                        "Evaluating: :  10%|█         | 1/10 [00:03<00:33,  3.75s/it]"
                    ]
                },
                {
                    "name": "stdout",
                    "output_type": "stream",
                    "text": [
                        "Names      : ['NLP_CHEST_002']\n",
                        "Predictions: ['chest ap view showed : 1. enlarged heart size with tortuous aorta. 2. s / p rt jugular cvc insertion.']\n",
                        "Labels     : ['chest pa view shows : partial atelectasis at left lower lung field. left pleural effusion. borderline heart size. atherosclerotic change of aortic knob. s / p port - a implantation via left subclavian vein. intraperitoneal port catheter. surgical clips at ruq of abdomen.']\n",
                        "\n"
                    ]
                },
                {
                    "name": "stderr",
                    "output_type": "stream",
                    "text": [
                        "Evaluating: :  20%|██        | 2/10 [00:07<00:29,  3.69s/it]"
                    ]
                },
                {
                    "name": "stdout",
                    "output_type": "stream",
                    "text": [
                        "Names      : ['NLP_CHEST_004']\n",
                        "Predictions: ['']\n",
                        "Labels     : ['chest pa view show : impression : - s / p rll wedge resection. - bilateral lungs metastasis. - left lower lung subsegmental atelectasis. - increased infiltrations in both lungs. - blunting right cp angle. - tortuous atherosclerotic aorta. - scoliosis, djd and osteoporosis of spine. - compression fracture of l1.']\n",
                        "\n"
                    ]
                },
                {
                    "name": "stderr",
                    "output_type": "stream",
                    "text": [
                        "Evaluating: :  30%|███       | 3/10 [00:10<00:23,  3.32s/it]"
                    ]
                },
                {
                    "name": "stdout",
                    "output_type": "stream",
                    "text": [
                        "Names      : ['NLP_CHEST_011']\n",
                        "Predictions: [\"chest ap view showed : 1. enlarged heart size with tortuous aorta. 2. r't upper lung small markings. 3. s / p endotracheal tube and ng intubation.\"]\n",
                        "Labels     : [\"chest ap view showed : 1. s / p sternotomy and cabg. enlarged heart size with tortuous aorta. 2. r't middle and lower lung faint patches. l't lower lung consolidation. l't pleural effusion. 3. no mediastinum widening. 4. s / p endotracheal tube and ng intubation.\"]\n",
                        "\n"
                    ]
                },
                {
                    "name": "stderr",
                    "output_type": "stream",
                    "text": [
                        "Evaluating: :  40%|████      | 4/10 [00:16<00:26,  4.38s/it]"
                    ]
                },
                {
                    "name": "stdout",
                    "output_type": "stream",
                    "text": [
                        "Names      : ['NLP_CHEST_015']\n",
                        "Predictions: ['']\n",
                        "Labels     : ['chest x ray : - no obvious lung mass nor consolidation patch. - normal heart size. - no pleural effusion.']\n",
                        "\n"
                    ]
                },
                {
                    "name": "stderr",
                    "output_type": "stream",
                    "text": [
                        "Evaluating: :  50%|█████     | 5/10 [00:21<00:23,  4.74s/it]"
                    ]
                },
                {
                    "name": "stdout",
                    "output_type": "stream",
                    "text": [
                        "Names      : ['NLP_CHEST_027']\n",
                        "Predictions: ['']\n",
                        "Labels     : ['chest pa view : impression : > cardiomegaly with bilateral pulmonary congestion. > postinflammatory fibrosis in both upper lungs. > atherosclerosis of aorta. > old fractures of left 5th and 6th ribs. > r / o osteoporosis. > spondylosis of thoracolumbar spine. > s / p abdominal operation in ruq.']\n",
                        "\n"
                    ]
                },
                {
                    "name": "stderr",
                    "output_type": "stream",
                    "text": [
                        "Evaluating: :  60%|██████    | 6/10 [00:26<00:19,  4.78s/it]"
                    ]
                },
                {
                    "name": "stdout",
                    "output_type": "stream",
                    "text": [
                        "Names      : ['NLP_CHEST_031']\n",
                        "Predictions: [\"chest ap view showed : 1. enlarged heart size with tortuous aorta. 2. r't lower lung markings. 3. s / p endotracheal tube and ng intubation. s / p r't jugular cvc insertion.\"]\n",
                        "Labels     : ['chest pa view : impression : - increased both lung markings. - compatible with right lung nodules. - fibrotic lesion in left upper lung. - normal heart size. atherosclerotic aorta. - suspect right pleural effusion. - spondylosis. r / o osteoporosis. - compatible with multiple bony metastases. - s / p ng and endotracheal tube. - s / p lt subclavian port - a - cath.']\n",
                        "\n"
                    ]
                },
                {
                    "name": "stderr",
                    "output_type": "stream",
                    "text": [
                        "Evaluating: :  70%|███████   | 7/10 [00:31<00:14,  4.96s/it]"
                    ]
                },
                {
                    "name": "stdout",
                    "output_type": "stream",
                    "text": [
                        "Names      : ['NLP_CHEST_057']\n",
                        "Predictions: ['chest ap view showed : 1. enlarged heart size with tortuous aorta. 2. s / p rt jugular cvc insertion.']\n",
                        "Labels     : ['chest plain film shows : impression : - increased infiltrations in both lungs. - tortuous atherosclerotic dilated aorta. - normal heart size. - djd of spine. old fracture of right ribs. - increased both lung markings. s / p lt jugular cvc insertion. s / p ng and endotracheal tube. - susp. lt pneumothorax. suspect pneumomediastinum. subcutaneous emphysema in bilateral neck. - s / p bilateral chest tube insertion.']\n",
                        "\n"
                    ]
                },
                {
                    "name": "stderr",
                    "output_type": "stream",
                    "text": [
                        "Evaluating: :  80%|████████  | 8/10 [00:35<00:09,  4.53s/it]"
                    ]
                },
                {
                    "name": "stdout",
                    "output_type": "stream",
                    "text": [
                        "Names      : ['NLP_CHEST_059']\n",
                        "Predictions: ['']\n",
                        "Labels     : ['supine chest ap view shows : pigtail catheter at right lower chest. decreased amount of right pleural effusion. air in the right lower pleural space. poor lung expansion. mild subcutaneous emphysema at right chest wall. right pleural thickening. ill - defined masses at right perihilar region. normal heart size.']\n",
                        "\n"
                    ]
                },
                {
                    "name": "stderr",
                    "output_type": "stream",
                    "text": [
                        "Evaluating: :  90%|█████████ | 9/10 [00:39<00:04,  4.27s/it]"
                    ]
                },
                {
                    "name": "stdout",
                    "output_type": "stream",
                    "text": [
                        "Names      : ['NLP_CHEST_071']\n",
                        "Predictions: ['chest ap view showed : 1. enlarged heart size with tortuous aorta. 2. s / p rt jugular cvc insertion.']\n",
                        "Labels     : ['chest film shows : impression : - bilateral lung infiltrations. - suspect right lower lung patch. blunting right cp angle. - tortuous atherosclerotic aorta. - scoliosis, djd and osteoporosis of spine. compression fracture of t12. old fracture of left ribs. - s / p fixation in l - spine. - s / p tracheostomy and ng tube.']\n",
                        "\n"
                    ]
                },
                {
                    "name": "stderr",
                    "output_type": "stream",
                    "text": [
                        "Evaluating: : 100%|██████████| 10/10 [00:42<00:00,  4.26s/it]\n"
                    ]
                },
                {
                    "name": "stdout",
                    "output_type": "stream",
                    "text": [
                        "Names      : ['NLP_CHEST_085']\n",
                        "Predictions: [\"chest ap view showed : 1. enlarged heart size with tortuous aorta. 2. r't lower lung markings. 3. s / p endotracheal tube insertion.\"]\n",
                        "Labels     : ['chest x ray : - right pneumothorax with pleural effusion, status post drainge tube placement. - extensive subcutaneous emphysema from neck to right side thoracic cage. - increased right hilar opacity. - atherosclerosis and tortuous aorta. - obscured bilateral costophrenic angles. - spondylosis and mild scoliosis of thoracolumbar spine. - oa of right glenohumeral joint. - generalized osteopenia.']\n",
                        "\n",
                        "Rouge-2 score : {'Rouge-L-P': 0.1050365512488099, 'Rouge-L-R': 0.06922161780117406, 'Rouge-L-F': 0.06922161780117406, 'Rouge-2-P': 0.05814483411992859, 'Rouge-2-R': 0.03709340785346977, 'Rouge-2-F': 0.03709340785346977}\n"
                    ]
                },
                {
                    "name": "stderr",
                    "output_type": "stream",
                    "text": [
                        "Training Epoch [10 / 50]: 100%|██████████| 89/89 [00:18<00:00,  4.78it/s, loss=0.3]  \n",
                        "Evaluating: :  10%|█         | 1/10 [00:04<00:44,  4.93s/it]"
                    ]
                },
                {
                    "name": "stdout",
                    "output_type": "stream",
                    "text": [
                        "Names      : ['NLP_CHEST_002']\n",
                        "Predictions: ['']\n",
                        "Labels     : ['chest pa view shows : partial atelectasis at left lower lung field. left pleural effusion. borderline heart size. atherosclerotic change of aortic knob. s / p port - a implantation via left subclavian vein. intraperitoneal port catheter. surgical clips at ruq of abdomen.']\n",
                        "\n"
                    ]
                },
                {
                    "name": "stderr",
                    "output_type": "stream",
                    "text": [
                        "Evaluating: :  20%|██        | 2/10 [00:10<00:43,  5.48s/it]"
                    ]
                },
                {
                    "name": "stdout",
                    "output_type": "stream",
                    "text": [
                        "Names      : ['NLP_CHEST_004']\n",
                        "Predictions: ['']\n",
                        "Labels     : ['chest pa view show : impression : - s / p rll wedge resection. - bilateral lungs metastasis. - left lower lung subsegmental atelectasis. - increased infiltrations in both lungs. - blunting right cp angle. - tortuous atherosclerotic aorta. - scoliosis, djd and osteoporosis of spine. - compression fracture of l1.']\n",
                        "\n"
                    ]
                },
                {
                    "name": "stderr",
                    "output_type": "stream",
                    "text": [
                        "Evaluating: :  30%|███       | 3/10 [00:15<00:34,  4.90s/it]"
                    ]
                },
                {
                    "name": "stdout",
                    "output_type": "stream",
                    "text": [
                        "Names      : ['NLP_CHEST_011']\n",
                        "Predictions: ['']\n",
                        "Labels     : [\"chest ap view showed : 1. s / p sternotomy and cabg. enlarged heart size with tortuous aorta. 2. r't middle and lower lung faint patches. l't lower lung consolidation. l't pleural effusion. 3. no mediastinum widening. 4. s / p endotracheal tube and ng intubation.\"]\n",
                        "\n"
                    ]
                },
                {
                    "name": "stderr",
                    "output_type": "stream",
                    "text": [
                        "Evaluating: :  40%|████      | 4/10 [00:19<00:29,  4.84s/it]"
                    ]
                },
                {
                    "name": "stdout",
                    "output_type": "stream",
                    "text": [
                        "Names      : ['NLP_CHEST_015']\n",
                        "Predictions: ['']\n",
                        "Labels     : ['chest x ray : - no obvious lung mass nor consolidation patch. - normal heart size. - no pleural effusion.']\n",
                        "\n"
                    ]
                },
                {
                    "name": "stderr",
                    "output_type": "stream",
                    "text": [
                        "Evaluating: :  50%|█████     | 5/10 [00:24<00:24,  4.97s/it]"
                    ]
                },
                {
                    "name": "stdout",
                    "output_type": "stream",
                    "text": [
                        "Names      : ['NLP_CHEST_027']\n",
                        "Predictions: ['']\n",
                        "Labels     : ['chest pa view : impression : > cardiomegaly with bilateral pulmonary congestion. > postinflammatory fibrosis in both upper lungs. > atherosclerosis of aorta. > old fractures of left 5th and 6th ribs. > r / o osteoporosis. > spondylosis of thoracolumbar spine. > s / p abdominal operation in ruq.']\n",
                        "\n"
                    ]
                },
                {
                    "name": "stderr",
                    "output_type": "stream",
                    "text": [
                        "Evaluating: :  60%|██████    | 6/10 [00:29<00:19,  4.77s/it]"
                    ]
                },
                {
                    "name": "stdout",
                    "output_type": "stream",
                    "text": [
                        "Names      : ['NLP_CHEST_031']\n",
                        "Predictions: ['']\n",
                        "Labels     : ['chest pa view : impression : - increased both lung markings. - compatible with right lung nodules. - fibrotic lesion in left upper lung. - normal heart size. atherosclerotic aorta. - suspect right pleural effusion. - spondylosis. r / o osteoporosis. - compatible with multiple bony metastases. - s / p ng and endotracheal tube. - s / p lt subclavian port - a - cath.']\n",
                        "\n"
                    ]
                },
                {
                    "name": "stderr",
                    "output_type": "stream",
                    "text": [
                        "Evaluating: :  70%|███████   | 7/10 [00:34<00:14,  4.75s/it]"
                    ]
                },
                {
                    "name": "stdout",
                    "output_type": "stream",
                    "text": [
                        "Names      : ['NLP_CHEST_057']\n",
                        "Predictions: ['']\n",
                        "Labels     : ['chest plain film shows : impression : - increased infiltrations in both lungs. - tortuous atherosclerotic dilated aorta. - normal heart size. - djd of spine. old fracture of right ribs. - increased both lung markings. s / p lt jugular cvc insertion. s / p ng and endotracheal tube. - susp. lt pneumothorax. suspect pneumomediastinum. subcutaneous emphysema in bilateral neck. - s / p bilateral chest tube insertion.']\n",
                        "\n"
                    ]
                },
                {
                    "name": "stderr",
                    "output_type": "stream",
                    "text": [
                        "Evaluating: :  80%|████████  | 8/10 [00:38<00:09,  4.61s/it]"
                    ]
                },
                {
                    "name": "stdout",
                    "output_type": "stream",
                    "text": [
                        "Names      : ['NLP_CHEST_059']\n",
                        "Predictions: ['']\n",
                        "Labels     : ['supine chest ap view shows : pigtail catheter at right lower chest. decreased amount of right pleural effusion. air in the right lower pleural space. poor lung expansion. mild subcutaneous emphysema at right chest wall. right pleural thickening. ill - defined masses at right perihilar region. normal heart size.']\n",
                        "\n"
                    ]
                },
                {
                    "name": "stderr",
                    "output_type": "stream",
                    "text": [
                        "Evaluating: :  90%|█████████ | 9/10 [00:43<00:04,  4.80s/it]"
                    ]
                },
                {
                    "name": "stdout",
                    "output_type": "stream",
                    "text": [
                        "Names      : ['NLP_CHEST_071']\n",
                        "Predictions: ['']\n",
                        "Labels     : ['chest film shows : impression : - bilateral lung infiltrations. - suspect right lower lung patch. blunting right cp angle. - tortuous atherosclerotic aorta. - scoliosis, djd and osteoporosis of spine. compression fracture of t12. old fracture of left ribs. - s / p fixation in l - spine. - s / p tracheostomy and ng tube.']\n",
                        "\n"
                    ]
                },
                {
                    "name": "stderr",
                    "output_type": "stream",
                    "text": [
                        "Evaluating: : 100%|██████████| 10/10 [00:48<00:00,  4.85s/it]\n"
                    ]
                },
                {
                    "name": "stdout",
                    "output_type": "stream",
                    "text": [
                        "Names      : ['NLP_CHEST_085']\n",
                        "Predictions: ['']\n",
                        "Labels     : ['chest x ray : - right pneumothorax with pleural effusion, status post drainge tube placement. - extensive subcutaneous emphysema from neck to right side thoracic cage. - increased right hilar opacity. - atherosclerosis and tortuous aorta. - obscured bilateral costophrenic angles. - spondylosis and mild scoliosis of thoracolumbar spine. - oa of right glenohumeral joint. - generalized osteopenia.']\n",
                        "\n",
                        "Rouge-2 score : {'Rouge-L-P': 0.0945328961239289, 'Rouge-L-R': 0.062299456021056646, 'Rouge-L-F': 0.062299456021056646, 'Rouge-2-P': 0.05233035070793573, 'Rouge-2-R': 0.03338406706812279, 'Rouge-2-F': 0.03338406706812279}\n"
                    ]
                },
                {
                    "name": "stderr",
                    "output_type": "stream",
                    "text": [
                        "Training Epoch [11 / 50]: 100%|██████████| 89/89 [00:18<00:00,  4.69it/s, loss=0.272]\n",
                        "Evaluating: :  10%|█         | 1/10 [00:05<00:48,  5.39s/it]"
                    ]
                },
                {
                    "name": "stdout",
                    "output_type": "stream",
                    "text": [
                        "Names      : ['NLP_CHEST_002']\n",
                        "Predictions: ['']\n",
                        "Labels     : ['chest pa view shows : partial atelectasis at left lower lung field. left pleural effusion. borderline heart size. atherosclerotic change of aortic knob. s / p port - a implantation via left subclavian vein. intraperitoneal port catheter. surgical clips at ruq of abdomen.']\n",
                        "\n"
                    ]
                },
                {
                    "name": "stderr",
                    "output_type": "stream",
                    "text": [
                        "Evaluating: :  20%|██        | 2/10 [00:10<00:43,  5.38s/it]"
                    ]
                },
                {
                    "name": "stdout",
                    "output_type": "stream",
                    "text": [
                        "Names      : ['NLP_CHEST_004']\n",
                        "Predictions: ['']\n",
                        "Labels     : ['chest pa view show : impression : - s / p rll wedge resection. - bilateral lungs metastasis. - left lower lung subsegmental atelectasis. - increased infiltrations in both lungs. - blunting right cp angle. - tortuous atherosclerotic aorta. - scoliosis, djd and osteoporosis of spine. - compression fracture of l1.']\n",
                        "\n"
                    ]
                },
                {
                    "name": "stderr",
                    "output_type": "stream",
                    "text": [
                        "Evaluating: :  30%|███       | 3/10 [00:16<00:37,  5.39s/it]"
                    ]
                },
                {
                    "name": "stdout",
                    "output_type": "stream",
                    "text": [
                        "Names      : ['NLP_CHEST_011']\n",
                        "Predictions: ['']\n",
                        "Labels     : [\"chest ap view showed : 1. s / p sternotomy and cabg. enlarged heart size with tortuous aorta. 2. r't middle and lower lung faint patches. l't lower lung consolidation. l't pleural effusion. 3. no mediastinum widening. 4. s / p endotracheal tube and ng intubation.\"]\n",
                        "\n"
                    ]
                },
                {
                    "name": "stderr",
                    "output_type": "stream",
                    "text": [
                        "Evaluating: :  40%|████      | 4/10 [00:21<00:32,  5.37s/it]"
                    ]
                },
                {
                    "name": "stdout",
                    "output_type": "stream",
                    "text": [
                        "Names      : ['NLP_CHEST_015']\n",
                        "Predictions: ['']\n",
                        "Labels     : ['chest x ray : - no obvious lung mass nor consolidation patch. - normal heart size. - no pleural effusion.']\n",
                        "\n"
                    ]
                },
                {
                    "name": "stderr",
                    "output_type": "stream",
                    "text": [
                        "Evaluating: :  50%|█████     | 5/10 [00:26<00:26,  5.40s/it]"
                    ]
                },
                {
                    "name": "stdout",
                    "output_type": "stream",
                    "text": [
                        "Names      : ['NLP_CHEST_027']\n",
                        "Predictions: ['']\n",
                        "Labels     : ['chest pa view : impression : > cardiomegaly with bilateral pulmonary congestion. > postinflammatory fibrosis in both upper lungs. > atherosclerosis of aorta. > old fractures of left 5th and 6th ribs. > r / o osteoporosis. > spondylosis of thoracolumbar spine. > s / p abdominal operation in ruq.']\n",
                        "\n"
                    ]
                },
                {
                    "name": "stderr",
                    "output_type": "stream",
                    "text": [
                        "Evaluating: :  60%|██████    | 6/10 [00:32<00:21,  5.36s/it]"
                    ]
                },
                {
                    "name": "stdout",
                    "output_type": "stream",
                    "text": [
                        "Names      : ['NLP_CHEST_031']\n",
                        "Predictions: ['']\n",
                        "Labels     : ['chest pa view : impression : - increased both lung markings. - compatible with right lung nodules. - fibrotic lesion in left upper lung. - normal heart size. atherosclerotic aorta. - suspect right pleural effusion. - spondylosis. r / o osteoporosis. - compatible with multiple bony metastases. - s / p ng and endotracheal tube. - s / p lt subclavian port - a - cath.']\n",
                        "\n"
                    ]
                },
                {
                    "name": "stderr",
                    "output_type": "stream",
                    "text": [
                        "Evaluating: :  70%|███████   | 7/10 [00:37<00:16,  5.35s/it]"
                    ]
                },
                {
                    "name": "stdout",
                    "output_type": "stream",
                    "text": [
                        "Names      : ['NLP_CHEST_057']\n",
                        "Predictions: ['']\n",
                        "Labels     : ['chest plain film shows : impression : - increased infiltrations in both lungs. - tortuous atherosclerotic dilated aorta. - normal heart size. - djd of spine. old fracture of right ribs. - increased both lung markings. s / p lt jugular cvc insertion. s / p ng and endotracheal tube. - susp. lt pneumothorax. suspect pneumomediastinum. subcutaneous emphysema in bilateral neck. - s / p bilateral chest tube insertion.']\n",
                        "\n"
                    ]
                },
                {
                    "name": "stderr",
                    "output_type": "stream",
                    "text": [
                        "Evaluating: :  80%|████████  | 8/10 [00:42<00:10,  5.29s/it]"
                    ]
                },
                {
                    "name": "stdout",
                    "output_type": "stream",
                    "text": [
                        "Names      : ['NLP_CHEST_059']\n",
                        "Predictions: ['']\n",
                        "Labels     : ['supine chest ap view shows : pigtail catheter at right lower chest. decreased amount of right pleural effusion. air in the right lower pleural space. poor lung expansion. mild subcutaneous emphysema at right chest wall. right pleural thickening. ill - defined masses at right perihilar region. normal heart size.']\n",
                        "\n"
                    ]
                },
                {
                    "name": "stderr",
                    "output_type": "stream",
                    "text": [
                        "Evaluating: :  90%|█████████ | 9/10 [00:47<00:05,  5.24s/it]"
                    ]
                },
                {
                    "name": "stdout",
                    "output_type": "stream",
                    "text": [
                        "Names      : ['NLP_CHEST_071']\n",
                        "Predictions: ['']\n",
                        "Labels     : ['chest film shows : impression : - bilateral lung infiltrations. - suspect right lower lung patch. blunting right cp angle. - tortuous atherosclerotic aorta. - scoliosis, djd and osteoporosis of spine. compression fracture of t12. old fracture of left ribs. - s / p fixation in l - spine. - s / p tracheostomy and ng tube.']\n",
                        "\n"
                    ]
                },
                {
                    "name": "stderr",
                    "output_type": "stream",
                    "text": [
                        "Evaluating: : 100%|██████████| 10/10 [00:53<00:00,  5.31s/it]\n"
                    ]
                },
                {
                    "name": "stdout",
                    "output_type": "stream",
                    "text": [
                        "Names      : ['NLP_CHEST_085']\n",
                        "Predictions: ['']\n",
                        "Labels     : ['chest x ray : - right pneumothorax with pleural effusion, status post drainge tube placement. - extensive subcutaneous emphysema from neck to right side thoracic cage. - increased right hilar opacity. - atherosclerosis and tortuous aorta. - obscured bilateral costophrenic angles. - spondylosis and mild scoliosis of thoracolumbar spine. - oa of right glenohumeral joint. - generalized osteopenia.']\n",
                        "\n",
                        "Rouge-2 score : {'Rouge-L-P': 0.085938996476299, 'Rouge-L-R': 0.056635869110051494, 'Rouge-L-F': 0.056635869110051494, 'Rouge-2-P': 0.04757304609812339, 'Rouge-2-R': 0.030349151880111627, 'Rouge-2-F': 0.030349151880111627}\n"
                    ]
                },
                {
                    "name": "stderr",
                    "output_type": "stream",
                    "text": [
                        "Training Epoch [12 / 50]: 100%|██████████| 89/89 [00:20<00:00,  4.37it/s, loss=0.248]\n",
                        "Evaluating: :  10%|█         | 1/10 [00:05<00:47,  5.28s/it]"
                    ]
                },
                {
                    "name": "stdout",
                    "output_type": "stream",
                    "text": [
                        "Names      : ['NLP_CHEST_002']\n",
                        "Predictions: ['']\n",
                        "Labels     : ['chest pa view shows : partial atelectasis at left lower lung field. left pleural effusion. borderline heart size. atherosclerotic change of aortic knob. s / p port - a implantation via left subclavian vein. intraperitoneal port catheter. surgical clips at ruq of abdomen.']\n",
                        "\n"
                    ]
                },
                {
                    "name": "stderr",
                    "output_type": "stream",
                    "text": [
                        "Evaluating: :  20%|██        | 2/10 [00:10<00:42,  5.31s/it]"
                    ]
                },
                {
                    "name": "stdout",
                    "output_type": "stream",
                    "text": [
                        "Names      : ['NLP_CHEST_004']\n",
                        "Predictions: ['']\n",
                        "Labels     : ['chest pa view show : impression : - s / p rll wedge resection. - bilateral lungs metastasis. - left lower lung subsegmental atelectasis. - increased infiltrations in both lungs. - blunting right cp angle. - tortuous atherosclerotic aorta. - scoliosis, djd and osteoporosis of spine. - compression fracture of l1.']\n",
                        "\n"
                    ]
                },
                {
                    "name": "stderr",
                    "output_type": "stream",
                    "text": [
                        "Evaluating: :  30%|███       | 3/10 [00:15<00:36,  5.27s/it]"
                    ]
                },
                {
                    "name": "stdout",
                    "output_type": "stream",
                    "text": [
                        "Names      : ['NLP_CHEST_011']\n",
                        "Predictions: ['']\n",
                        "Labels     : [\"chest ap view showed : 1. s / p sternotomy and cabg. enlarged heart size with tortuous aorta. 2. r't middle and lower lung faint patches. l't lower lung consolidation. l't pleural effusion. 3. no mediastinum widening. 4. s / p endotracheal tube and ng intubation.\"]\n",
                        "\n"
                    ]
                },
                {
                    "name": "stderr",
                    "output_type": "stream",
                    "text": [
                        "Evaluating: :  40%|████      | 4/10 [00:21<00:31,  5.28s/it]"
                    ]
                },
                {
                    "name": "stdout",
                    "output_type": "stream",
                    "text": [
                        "Names      : ['NLP_CHEST_015']\n",
                        "Predictions: ['']\n",
                        "Labels     : ['chest x ray : - no obvious lung mass nor consolidation patch. - normal heart size. - no pleural effusion.']\n",
                        "\n"
                    ]
                },
                {
                    "name": "stderr",
                    "output_type": "stream",
                    "text": [
                        "Evaluating: :  50%|█████     | 5/10 [00:26<00:26,  5.25s/it]"
                    ]
                },
                {
                    "name": "stdout",
                    "output_type": "stream",
                    "text": [
                        "Names      : ['NLP_CHEST_027']\n",
                        "Predictions: ['']\n",
                        "Labels     : ['chest pa view : impression : > cardiomegaly with bilateral pulmonary congestion. > postinflammatory fibrosis in both upper lungs. > atherosclerosis of aorta. > old fractures of left 5th and 6th ribs. > r / o osteoporosis. > spondylosis of thoracolumbar spine. > s / p abdominal operation in ruq.']\n",
                        "\n"
                    ]
                },
                {
                    "name": "stderr",
                    "output_type": "stream",
                    "text": [
                        "Evaluating: :  60%|██████    | 6/10 [00:31<00:21,  5.27s/it]"
                    ]
                },
                {
                    "name": "stdout",
                    "output_type": "stream",
                    "text": [
                        "Names      : ['NLP_CHEST_031']\n",
                        "Predictions: ['']\n",
                        "Labels     : ['chest pa view : impression : - increased both lung markings. - compatible with right lung nodules. - fibrotic lesion in left upper lung. - normal heart size. atherosclerotic aorta. - suspect right pleural effusion. - spondylosis. r / o osteoporosis. - compatible with multiple bony metastases. - s / p ng and endotracheal tube. - s / p lt subclavian port - a - cath.']\n",
                        "\n"
                    ]
                },
                {
                    "name": "stderr",
                    "output_type": "stream",
                    "text": [
                        "Evaluating: :  70%|███████   | 7/10 [00:36<00:15,  5.29s/it]"
                    ]
                },
                {
                    "name": "stdout",
                    "output_type": "stream",
                    "text": [
                        "Names      : ['NLP_CHEST_057']\n",
                        "Predictions: ['']\n",
                        "Labels     : ['chest plain film shows : impression : - increased infiltrations in both lungs. - tortuous atherosclerotic dilated aorta. - normal heart size. - djd of spine. old fracture of right ribs. - increased both lung markings. s / p lt jugular cvc insertion. s / p ng and endotracheal tube. - susp. lt pneumothorax. suspect pneumomediastinum. subcutaneous emphysema in bilateral neck. - s / p bilateral chest tube insertion.']\n",
                        "\n"
                    ]
                },
                {
                    "name": "stderr",
                    "output_type": "stream",
                    "text": [
                        "Evaluating: :  80%|████████  | 8/10 [00:42<00:10,  5.30s/it]"
                    ]
                },
                {
                    "name": "stdout",
                    "output_type": "stream",
                    "text": [
                        "Names      : ['NLP_CHEST_059']\n",
                        "Predictions: ['']\n",
                        "Labels     : ['supine chest ap view shows : pigtail catheter at right lower chest. decreased amount of right pleural effusion. air in the right lower pleural space. poor lung expansion. mild subcutaneous emphysema at right chest wall. right pleural thickening. ill - defined masses at right perihilar region. normal heart size.']\n",
                        "\n"
                    ]
                },
                {
                    "name": "stderr",
                    "output_type": "stream",
                    "text": [
                        "Evaluating: :  90%|█████████ | 9/10 [00:47<00:05,  5.31s/it]"
                    ]
                },
                {
                    "name": "stdout",
                    "output_type": "stream",
                    "text": [
                        "Names      : ['NLP_CHEST_071']\n",
                        "Predictions: ['']\n",
                        "Labels     : ['chest film shows : impression : - bilateral lung infiltrations. - suspect right lower lung patch. blunting right cp angle. - tortuous atherosclerotic aorta. - scoliosis, djd and osteoporosis of spine. compression fracture of t12. old fracture of left ribs. - s / p fixation in l - spine. - s / p tracheostomy and ng tube.']\n",
                        "\n"
                    ]
                },
                {
                    "name": "stderr",
                    "output_type": "stream",
                    "text": [
                        "Evaluating: : 100%|██████████| 10/10 [00:52<00:00,  5.29s/it]\n"
                    ]
                },
                {
                    "name": "stdout",
                    "output_type": "stream",
                    "text": [
                        "Names      : ['NLP_CHEST_085']\n",
                        "Predictions: ['']\n",
                        "Labels     : ['chest x ray : - right pneumothorax with pleural effusion, status post drainge tube placement. - extensive subcutaneous emphysema from neck to right side thoracic cage. - increased right hilar opacity. - atherosclerosis and tortuous aorta. - obscured bilateral costophrenic angles. - spondylosis and mild scoliosis of thoracolumbar spine. - oa of right glenohumeral joint. - generalized osteopenia.']\n",
                        "\n",
                        "Rouge-2 score : {'Rouge-L-P': 0.07877741343660742, 'Rouge-L-R': 0.05191621335088054, 'Rouge-L-F': 0.05191621335088054, 'Rouge-2-P': 0.043608625589946444, 'Rouge-2-R': 0.027820055890102325, 'Rouge-2-F': 0.027820055890102325}\n"
                    ]
                },
                {
                    "name": "stderr",
                    "output_type": "stream",
                    "text": [
                        "Training Epoch [13 / 50]: 100%|██████████| 89/89 [00:18<00:00,  4.84it/s, loss=0.228]\n",
                        "Evaluating: :  10%|█         | 1/10 [00:05<00:48,  5.39s/it]"
                    ]
                },
                {
                    "name": "stdout",
                    "output_type": "stream",
                    "text": [
                        "Names      : ['NLP_CHEST_002']\n",
                        "Predictions: ['chest plain film view showed : impression : - increased infiltrations in both lungs. - blunting bilateral cp angles. - normal heart size. - atherosclerotic aorta. - scoliosis and djd of spine. - s / p ng and endotracheal tube.']\n",
                        "Labels     : ['chest pa view shows : partial atelectasis at left lower lung field. left pleural effusion. borderline heart size. atherosclerotic change of aortic knob. s / p port - a implantation via left subclavian vein. intraperitoneal port catheter. surgical clips at ruq of abdomen.']\n",
                        "\n"
                    ]
                },
                {
                    "name": "stderr",
                    "output_type": "stream",
                    "text": [
                        "Evaluating: :  20%|██        | 2/10 [00:10<00:42,  5.36s/it]"
                    ]
                },
                {
                    "name": "stdout",
                    "output_type": "stream",
                    "text": [
                        "Names      : ['NLP_CHEST_004']\n",
                        "Predictions: ['chest plain film shows : impression : - increased infiltrations in both lungs. - blunting bilateral cp angles. - s / p coronary stenting. - s / p ng tube insertion.']\n",
                        "Labels     : ['chest pa view show : impression : - s / p rll wedge resection. - bilateral lungs metastasis. - left lower lung subsegmental atelectasis. - increased infiltrations in both lungs. - blunting right cp angle. - tortuous atherosclerotic aorta. - scoliosis, djd and osteoporosis of spine. - compression fracture of l1.']\n",
                        "\n"
                    ]
                },
                {
                    "name": "stderr",
                    "output_type": "stream",
                    "text": [
                        "Evaluating: :  30%|███       | 3/10 [00:15<00:37,  5.32s/it]"
                    ]
                },
                {
                    "name": "stdout",
                    "output_type": "stream",
                    "text": [
                        "Names      : ['NLP_CHEST_011']\n",
                        "Predictions: [\"chest ap view showed : 1. enlarged heart size with tortuous aorta. 2. r't middle lung and l't lower lung reticulonodular infiltrations. s / p endotracheal tube and ng intubation.\"]\n",
                        "Labels     : [\"chest ap view showed : 1. s / p sternotomy and cabg. enlarged heart size with tortuous aorta. 2. r't middle and lower lung faint patches. l't lower lung consolidation. l't pleural effusion. 3. no mediastinum widening. 4. s / p endotracheal tube and ng intubation.\"]\n",
                        "\n"
                    ]
                },
                {
                    "name": "stderr",
                    "output_type": "stream",
                    "text": [
                        "Evaluating: :  40%|████      | 4/10 [00:21<00:32,  5.33s/it]"
                    ]
                },
                {
                    "name": "stdout",
                    "output_type": "stream",
                    "text": [
                        "Names      : ['NLP_CHEST_015']\n",
                        "Predictions: ['chest plain film shows : impression : - increased infiltrations in both lungs. - normal heart size. - atherosclerosis of aorta. - scoliosis, djd and osteoporosis of spine. - s / p fixation in l - spine.']\n",
                        "Labels     : ['chest x ray : - no obvious lung mass nor consolidation patch. - normal heart size. - no pleural effusion.']\n",
                        "\n"
                    ]
                },
                {
                    "name": "stderr",
                    "output_type": "stream",
                    "text": [
                        "Evaluating: :  50%|█████     | 5/10 [00:26<00:26,  5.35s/it]"
                    ]
                },
                {
                    "name": "stdout",
                    "output_type": "stream",
                    "text": [
                        "Names      : ['NLP_CHEST_027']\n",
                        "Predictions: ['chest plain film shows : impression : - increased infiltrations in both lungs. - blunting bilateral cp angles. - s / p coronary stenting. - s / p ng tube insertion.']\n",
                        "Labels     : ['chest pa view : impression : > cardiomegaly with bilateral pulmonary congestion. > postinflammatory fibrosis in both upper lungs. > atherosclerosis of aorta. > old fractures of left 5th and 6th ribs. > r / o osteoporosis. > spondylosis of thoracolumbar spine. > s / p abdominal operation in ruq.']\n",
                        "\n"
                    ]
                },
                {
                    "name": "stderr",
                    "output_type": "stream",
                    "text": [
                        "Evaluating: :  60%|██████    | 6/10 [00:31<00:21,  5.25s/it]"
                    ]
                },
                {
                    "name": "stdout",
                    "output_type": "stream",
                    "text": [
                        "Names      : ['NLP_CHEST_031']\n",
                        "Predictions: [\"chest ap view showed : 1. enlarged heart size with tortuous aorta. 2. r't middle lung and l't lower lung reticulonodular infiltrations. l't upper lung small density. 3. no mediastinum widening. 4. s / p endotracheal tube and ng intubation. s / p r't jugular cvc insertion.\"]\n",
                        "Labels     : ['chest pa view : impression : - increased both lung markings. - compatible with right lung nodules. - fibrotic lesion in left upper lung. - normal heart size. atherosclerotic aorta. - suspect right pleural effusion. - spondylosis. r / o osteoporosis. - compatible with multiple bony metastases. - s / p ng and endotracheal tube. - s / p lt subclavian port - a - cath.']\n",
                        "\n"
                    ]
                },
                {
                    "name": "stderr",
                    "output_type": "stream",
                    "text": [
                        "Evaluating: :  70%|███████   | 7/10 [00:37<00:15,  5.32s/it]"
                    ]
                },
                {
                    "name": "stdout",
                    "output_type": "stream",
                    "text": [
                        "Names      : ['NLP_CHEST_057']\n",
                        "Predictions: ['chest plain film shows : impression : - increased infiltrations in both lungs. - blunting bilateral cp angles. - s / p coronary stenting. - s / p ng tube insertion.']\n",
                        "Labels     : ['chest plain film shows : impression : - increased infiltrations in both lungs. - tortuous atherosclerotic dilated aorta. - normal heart size. - djd of spine. old fracture of right ribs. - increased both lung markings. s / p lt jugular cvc insertion. s / p ng and endotracheal tube. - susp. lt pneumothorax. suspect pneumomediastinum. subcutaneous emphysema in bilateral neck. - s / p bilateral chest tube insertion.']\n",
                        "\n"
                    ]
                },
                {
                    "name": "stderr",
                    "output_type": "stream",
                    "text": [
                        "Evaluating: :  80%|████████  | 8/10 [00:42<00:10,  5.28s/it]"
                    ]
                },
                {
                    "name": "stdout",
                    "output_type": "stream",
                    "text": [
                        "Names      : ['NLP_CHEST_059']\n",
                        "Predictions: ['chest plain film shows : impression : - increased infiltrations in both lungs. - blunting bilateral cp angles. - tortuous atherosclerotic dilated aorta. - djd of spine. - s / p ng and endotracheal tube.']\n",
                        "Labels     : ['supine chest ap view shows : pigtail catheter at right lower chest. decreased amount of right pleural effusion. air in the right lower pleural space. poor lung expansion. mild subcutaneous emphysema at right chest wall. right pleural thickening. ill - defined masses at right perihilar region. normal heart size.']\n",
                        "\n"
                    ]
                },
                {
                    "name": "stderr",
                    "output_type": "stream",
                    "text": [
                        "Evaluating: :  90%|█████████ | 9/10 [00:47<00:05,  5.29s/it]"
                    ]
                },
                {
                    "name": "stdout",
                    "output_type": "stream",
                    "text": [
                        "Names      : ['NLP_CHEST_071']\n",
                        "Predictions: ['chest plain film shows : impression : - increased infiltrations in both lungs. - normal heart size. - atherosclerotic aorta. - scoliosis, djd and osteoporosis of spine. - s / p lt jugular cvc insertion.']\n",
                        "Labels     : ['chest film shows : impression : - bilateral lung infiltrations. - suspect right lower lung patch. blunting right cp angle. - tortuous atherosclerotic aorta. - scoliosis, djd and osteoporosis of spine. compression fracture of t12. old fracture of left ribs. - s / p fixation in l - spine. - s / p tracheostomy and ng tube.']\n",
                        "\n"
                    ]
                },
                {
                    "name": "stderr",
                    "output_type": "stream",
                    "text": [
                        "Evaluating: : 100%|██████████| 10/10 [00:52<00:00,  5.29s/it]\n"
                    ]
                },
                {
                    "name": "stdout",
                    "output_type": "stream",
                    "text": [
                        "Names      : ['NLP_CHEST_085']\n",
                        "Predictions: ['chest plain film view showed : impression : - suspicious right upper lung patch. - increased infiltrations in both lungs. - normal heart size. - atherosclerotic aorta. - scoliosis and djd of spine. - s / p ng and endotracheal tube.']\n",
                        "Labels     : ['chest x ray : - right pneumothorax with pleural effusion, status post drainge tube placement. - extensive subcutaneous emphysema from neck to right side thoracic cage. - increased right hilar opacity. - atherosclerosis and tortuous aorta. - obscured bilateral costophrenic angles. - spondylosis and mild scoliosis of thoracolumbar spine. - oa of right glenohumeral joint. - generalized osteopenia.']\n",
                        "\n",
                        "Rouge-2 score : {'Rouge-L-P': 0.10613466570197451, 'Rouge-L-R': 0.07092705656928028, 'Rouge-L-F': 0.07092705656928028, 'Rouge-2-P': 0.06300386676440302, 'Rouge-2-R': 0.040570455286858854, 'Rouge-2-F': 0.040570455286858854}\n"
                    ]
                },
                {
                    "name": "stderr",
                    "output_type": "stream",
                    "text": [
                        "Training Epoch [14 / 50]: 100%|██████████| 89/89 [00:18<00:00,  4.80it/s, loss=0.206]\n",
                        "Evaluating: :  10%|█         | 1/10 [00:05<00:48,  5.35s/it]"
                    ]
                },
                {
                    "name": "stdout",
                    "output_type": "stream",
                    "text": [
                        "Names      : ['NLP_CHEST_002']\n",
                        "Predictions: ['']\n",
                        "Labels     : ['chest pa view shows : partial atelectasis at left lower lung field. left pleural effusion. borderline heart size. atherosclerotic change of aortic knob. s / p port - a implantation via left subclavian vein. intraperitoneal port catheter. surgical clips at ruq of abdomen.']\n",
                        "\n"
                    ]
                },
                {
                    "name": "stderr",
                    "output_type": "stream",
                    "text": [
                        "Evaluating: :  20%|██        | 2/10 [00:10<00:40,  5.06s/it]"
                    ]
                },
                {
                    "name": "stdout",
                    "output_type": "stream",
                    "text": [
                        "Names      : ['NLP_CHEST_004']\n",
                        "Predictions: ['']\n",
                        "Labels     : ['chest pa view show : impression : - s / p rll wedge resection. - bilateral lungs metastasis. - left lower lung subsegmental atelectasis. - increased infiltrations in both lungs. - blunting right cp angle. - tortuous atherosclerotic aorta. - scoliosis, djd and osteoporosis of spine. - compression fracture of l1.']\n",
                        "\n"
                    ]
                },
                {
                    "name": "stderr",
                    "output_type": "stream",
                    "text": [
                        "Evaluating: :  30%|███       | 3/10 [00:15<00:36,  5.16s/it]"
                    ]
                },
                {
                    "name": "stdout",
                    "output_type": "stream",
                    "text": [
                        "Names      : ['NLP_CHEST_011']\n",
                        "Predictions: ['']\n",
                        "Labels     : [\"chest ap view showed : 1. s / p sternotomy and cabg. enlarged heart size with tortuous aorta. 2. r't middle and lower lung faint patches. l't lower lung consolidation. l't pleural effusion. 3. no mediastinum widening. 4. s / p endotracheal tube and ng intubation.\"]\n",
                        "\n"
                    ]
                },
                {
                    "name": "stderr",
                    "output_type": "stream",
                    "text": [
                        "Evaluating: :  40%|████      | 4/10 [00:20<00:31,  5.18s/it]"
                    ]
                },
                {
                    "name": "stdout",
                    "output_type": "stream",
                    "text": [
                        "Names      : ['NLP_CHEST_015']\n",
                        "Predictions: ['']\n",
                        "Labels     : ['chest x ray : - no obvious lung mass nor consolidation patch. - normal heart size. - no pleural effusion.']\n",
                        "\n"
                    ]
                },
                {
                    "name": "stderr",
                    "output_type": "stream",
                    "text": [
                        "Evaluating: :  50%|█████     | 5/10 [00:26<00:26,  5.26s/it]"
                    ]
                },
                {
                    "name": "stdout",
                    "output_type": "stream",
                    "text": [
                        "Names      : ['NLP_CHEST_027']\n",
                        "Predictions: ['']\n",
                        "Labels     : ['chest pa view : impression : > cardiomegaly with bilateral pulmonary congestion. > postinflammatory fibrosis in both upper lungs. > atherosclerosis of aorta. > old fractures of left 5th and 6th ribs. > r / o osteoporosis. > spondylosis of thoracolumbar spine. > s / p abdominal operation in ruq.']\n",
                        "\n"
                    ]
                },
                {
                    "name": "stderr",
                    "output_type": "stream",
                    "text": [
                        "Evaluating: :  60%|██████    | 6/10 [00:31<00:21,  5.27s/it]"
                    ]
                },
                {
                    "name": "stdout",
                    "output_type": "stream",
                    "text": [
                        "Names      : ['NLP_CHEST_031']\n",
                        "Predictions: ['']\n",
                        "Labels     : ['chest pa view : impression : - increased both lung markings. - compatible with right lung nodules. - fibrotic lesion in left upper lung. - normal heart size. atherosclerotic aorta. - suspect right pleural effusion. - spondylosis. r / o osteoporosis. - compatible with multiple bony metastases. - s / p ng and endotracheal tube. - s / p lt subclavian port - a - cath.']\n",
                        "\n"
                    ]
                },
                {
                    "name": "stderr",
                    "output_type": "stream",
                    "text": [
                        "Evaluating: :  70%|███████   | 7/10 [00:36<00:15,  5.27s/it]"
                    ]
                },
                {
                    "name": "stdout",
                    "output_type": "stream",
                    "text": [
                        "Names      : ['NLP_CHEST_057']\n",
                        "Predictions: ['']\n",
                        "Labels     : ['chest plain film shows : impression : - increased infiltrations in both lungs. - tortuous atherosclerotic dilated aorta. - normal heart size. - djd of spine. old fracture of right ribs. - increased both lung markings. s / p lt jugular cvc insertion. s / p ng and endotracheal tube. - susp. lt pneumothorax. suspect pneumomediastinum. subcutaneous emphysema in bilateral neck. - s / p bilateral chest tube insertion.']\n",
                        "\n"
                    ]
                },
                {
                    "name": "stderr",
                    "output_type": "stream",
                    "text": [
                        "Evaluating: :  80%|████████  | 8/10 [00:41<00:10,  5.29s/it]"
                    ]
                },
                {
                    "name": "stdout",
                    "output_type": "stream",
                    "text": [
                        "Names      : ['NLP_CHEST_059']\n",
                        "Predictions: ['']\n",
                        "Labels     : ['supine chest ap view shows : pigtail catheter at right lower chest. decreased amount of right pleural effusion. air in the right lower pleural space. poor lung expansion. mild subcutaneous emphysema at right chest wall. right pleural thickening. ill - defined masses at right perihilar region. normal heart size.']\n",
                        "\n"
                    ]
                },
                {
                    "name": "stderr",
                    "output_type": "stream",
                    "text": [
                        "Evaluating: :  90%|█████████ | 9/10 [00:47<00:05,  5.28s/it]"
                    ]
                },
                {
                    "name": "stdout",
                    "output_type": "stream",
                    "text": [
                        "Names      : ['NLP_CHEST_071']\n",
                        "Predictions: ['']\n",
                        "Labels     : ['chest film shows : impression : - bilateral lung infiltrations. - suspect right lower lung patch. blunting right cp angle. - tortuous atherosclerotic aorta. - scoliosis, djd and osteoporosis of spine. compression fracture of t12. old fracture of left ribs. - s / p fixation in l - spine. - s / p tracheostomy and ng tube.']\n",
                        "\n"
                    ]
                },
                {
                    "name": "stderr",
                    "output_type": "stream",
                    "text": [
                        "Evaluating: : 100%|██████████| 10/10 [00:52<00:00,  5.25s/it]\n"
                    ]
                },
                {
                    "name": "stdout",
                    "output_type": "stream",
                    "text": [
                        "Names      : ['NLP_CHEST_085']\n",
                        "Predictions: ['']\n",
                        "Labels     : ['chest x ray : - right pneumothorax with pleural effusion, status post drainge tube placement. - extensive subcutaneous emphysema from neck to right side thoracic cage. - increased right hilar opacity. - atherosclerosis and tortuous aorta. - obscured bilateral costophrenic angles. - spondylosis and mild scoliosis of thoracolumbar spine. - oa of right glenohumeral joint. - generalized osteopenia.']\n",
                        "\n",
                        "Rouge-2 score : {'Rouge-L-P': 0.09855361815183347, 'Rouge-L-R': 0.06586083824290312, 'Rouge-L-F': 0.06586083824290312, 'Rouge-2-P': 0.05850359056694565, 'Rouge-2-R': 0.03767256562351179, 'Rouge-2-F': 0.03767256562351179}\n"
                    ]
                },
                {
                    "name": "stderr",
                    "output_type": "stream",
                    "text": [
                        "Training Epoch [15 / 50]: 100%|██████████| 89/89 [00:18<00:00,  4.86it/s, loss=0.191]\n",
                        "Evaluating: :  10%|█         | 1/10 [00:05<00:46,  5.20s/it]"
                    ]
                },
                {
                    "name": "stdout",
                    "output_type": "stream",
                    "text": [
                        "Names      : ['NLP_CHEST_002']\n",
                        "Predictions: ['']\n",
                        "Labels     : ['chest pa view shows : partial atelectasis at left lower lung field. left pleural effusion. borderline heart size. atherosclerotic change of aortic knob. s / p port - a implantation via left subclavian vein. intraperitoneal port catheter. surgical clips at ruq of abdomen.']\n",
                        "\n"
                    ]
                },
                {
                    "name": "stderr",
                    "output_type": "stream",
                    "text": [
                        "Evaluating: :  20%|██        | 2/10 [00:10<00:42,  5.31s/it]"
                    ]
                },
                {
                    "name": "stdout",
                    "output_type": "stream",
                    "text": [
                        "Names      : ['NLP_CHEST_004']\n",
                        "Predictions: ['']\n",
                        "Labels     : ['chest pa view show : impression : - s / p rll wedge resection. - bilateral lungs metastasis. - left lower lung subsegmental atelectasis. - increased infiltrations in both lungs. - blunting right cp angle. - tortuous atherosclerotic aorta. - scoliosis, djd and osteoporosis of spine. - compression fracture of l1.']\n",
                        "\n"
                    ]
                },
                {
                    "name": "stderr",
                    "output_type": "stream",
                    "text": [
                        "Evaluating: :  30%|███       | 3/10 [00:15<00:36,  5.21s/it]"
                    ]
                },
                {
                    "name": "stdout",
                    "output_type": "stream",
                    "text": [
                        "Names      : ['NLP_CHEST_011']\n",
                        "Predictions: ['']\n",
                        "Labels     : [\"chest ap view showed : 1. s / p sternotomy and cabg. enlarged heart size with tortuous aorta. 2. r't middle and lower lung faint patches. l't lower lung consolidation. l't pleural effusion. 3. no mediastinum widening. 4. s / p endotracheal tube and ng intubation.\"]\n",
                        "\n"
                    ]
                },
                {
                    "name": "stderr",
                    "output_type": "stream",
                    "text": [
                        "Evaluating: :  40%|████      | 4/10 [00:20<00:31,  5.23s/it]"
                    ]
                },
                {
                    "name": "stdout",
                    "output_type": "stream",
                    "text": [
                        "Names      : ['NLP_CHEST_015']\n",
                        "Predictions: ['']\n",
                        "Labels     : ['chest x ray : - no obvious lung mass nor consolidation patch. - normal heart size. - no pleural effusion.']\n",
                        "\n"
                    ]
                },
                {
                    "name": "stderr",
                    "output_type": "stream",
                    "text": [
                        "Evaluating: :  50%|█████     | 5/10 [00:26<00:26,  5.23s/it]"
                    ]
                },
                {
                    "name": "stdout",
                    "output_type": "stream",
                    "text": [
                        "Names      : ['NLP_CHEST_027']\n",
                        "Predictions: ['']\n",
                        "Labels     : ['chest pa view : impression : > cardiomegaly with bilateral pulmonary congestion. > postinflammatory fibrosis in both upper lungs. > atherosclerosis of aorta. > old fractures of left 5th and 6th ribs. > r / o osteoporosis. > spondylosis of thoracolumbar spine. > s / p abdominal operation in ruq.']\n",
                        "\n"
                    ]
                },
                {
                    "name": "stderr",
                    "output_type": "stream",
                    "text": [
                        "Evaluating: :  60%|██████    | 6/10 [00:31<00:20,  5.23s/it]"
                    ]
                },
                {
                    "name": "stdout",
                    "output_type": "stream",
                    "text": [
                        "Names      : ['NLP_CHEST_031']\n",
                        "Predictions: ['']\n",
                        "Labels     : ['chest pa view : impression : - increased both lung markings. - compatible with right lung nodules. - fibrotic lesion in left upper lung. - normal heart size. atherosclerotic aorta. - suspect right pleural effusion. - spondylosis. r / o osteoporosis. - compatible with multiple bony metastases. - s / p ng and endotracheal tube. - s / p lt subclavian port - a - cath.']\n",
                        "\n"
                    ]
                },
                {
                    "name": "stderr",
                    "output_type": "stream",
                    "text": [
                        "Evaluating: :  70%|███████   | 7/10 [00:36<00:15,  5.21s/it]"
                    ]
                },
                {
                    "name": "stdout",
                    "output_type": "stream",
                    "text": [
                        "Names      : ['NLP_CHEST_057']\n",
                        "Predictions: ['']\n",
                        "Labels     : ['chest plain film shows : impression : - increased infiltrations in both lungs. - tortuous atherosclerotic dilated aorta. - normal heart size. - djd of spine. old fracture of right ribs. - increased both lung markings. s / p lt jugular cvc insertion. s / p ng and endotracheal tube. - susp. lt pneumothorax. suspect pneumomediastinum. subcutaneous emphysema in bilateral neck. - s / p bilateral chest tube insertion.']\n",
                        "\n"
                    ]
                },
                {
                    "name": "stderr",
                    "output_type": "stream",
                    "text": [
                        "Evaluating: :  80%|████████  | 8/10 [00:41<00:10,  5.20s/it]"
                    ]
                },
                {
                    "name": "stdout",
                    "output_type": "stream",
                    "text": [
                        "Names      : ['NLP_CHEST_059']\n",
                        "Predictions: ['']\n",
                        "Labels     : ['supine chest ap view shows : pigtail catheter at right lower chest. decreased amount of right pleural effusion. air in the right lower pleural space. poor lung expansion. mild subcutaneous emphysema at right chest wall. right pleural thickening. ill - defined masses at right perihilar region. normal heart size.']\n",
                        "\n"
                    ]
                },
                {
                    "name": "stderr",
                    "output_type": "stream",
                    "text": [
                        "Evaluating: :  90%|█████████ | 9/10 [00:47<00:05,  5.32s/it]"
                    ]
                },
                {
                    "name": "stdout",
                    "output_type": "stream",
                    "text": [
                        "Names      : ['NLP_CHEST_071']\n",
                        "Predictions: ['']\n",
                        "Labels     : ['chest film shows : impression : - bilateral lung infiltrations. - suspect right lower lung patch. blunting right cp angle. - tortuous atherosclerotic aorta. - scoliosis, djd and osteoporosis of spine. compression fracture of t12. old fracture of left ribs. - s / p fixation in l - spine. - s / p tracheostomy and ng tube.']\n",
                        "\n"
                    ]
                },
                {
                    "name": "stderr",
                    "output_type": "stream",
                    "text": [
                        "Evaluating: : 100%|██████████| 10/10 [00:52<00:00,  5.29s/it]\n"
                    ]
                },
                {
                    "name": "stdout",
                    "output_type": "stream",
                    "text": [
                        "Names      : ['NLP_CHEST_085']\n",
                        "Predictions: ['']\n",
                        "Labels     : ['chest x ray : - right pneumothorax with pleural effusion, status post drainge tube placement. - extensive subcutaneous emphysema from neck to right side thoracic cage. - increased right hilar opacity. - atherosclerosis and tortuous aorta. - obscured bilateral costophrenic angles. - spondylosis and mild scoliosis of thoracolumbar spine. - oa of right glenohumeral joint. - generalized osteopenia.']\n",
                        "\n",
                        "Rouge-2 score : {'Rouge-L-P': 0.09198337694171124, 'Rouge-L-R': 0.06147011569337624, 'Rouge-L-F': 0.06147011569337624, 'Rouge-2-P': 0.05460335119581594, 'Rouge-2-R': 0.03516106124861101, 'Rouge-2-F': 0.03516106124861101}\n"
                    ]
                },
                {
                    "name": "stderr",
                    "output_type": "stream",
                    "text": [
                        "Training Epoch [16 / 50]: 100%|██████████| 89/89 [00:18<00:00,  4.79it/s, loss=0.172]\n",
                        "Evaluating: :  10%|█         | 1/10 [00:05<00:51,  5.71s/it]"
                    ]
                },
                {
                    "name": "stdout",
                    "output_type": "stream",
                    "text": [
                        "Names      : ['NLP_CHEST_002']\n",
                        "Predictions: ['chest plain film view showed : impression : - increased both lung markings. - blunting bilateral cp angles. - the mediastinum is not widened. - normal heart size. - djd of spine. - s / p left brachiocephalic vein stent.']\n",
                        "Labels     : ['chest pa view shows : partial atelectasis at left lower lung field. left pleural effusion. borderline heart size. atherosclerotic change of aortic knob. s / p port - a implantation via left subclavian vein. intraperitoneal port catheter. surgical clips at ruq of abdomen.']\n",
                        "\n"
                    ]
                },
                {
                    "name": "stderr",
                    "output_type": "stream",
                    "text": [
                        "Evaluating: :  20%|██        | 2/10 [00:10<00:39,  4.89s/it]"
                    ]
                },
                {
                    "name": "stdout",
                    "output_type": "stream",
                    "text": [
                        "Names      : ['NLP_CHEST_004']\n",
                        "Predictions: ['']\n",
                        "Labels     : ['chest pa view show : impression : - s / p rll wedge resection. - bilateral lungs metastasis. - left lower lung subsegmental atelectasis. - increased infiltrations in both lungs. - blunting right cp angle. - tortuous atherosclerotic aorta. - scoliosis, djd and osteoporosis of spine. - compression fracture of l1.']\n",
                        "\n"
                    ]
                },
                {
                    "name": "stderr",
                    "output_type": "stream",
                    "text": [
                        "Evaluating: :  30%|███       | 3/10 [00:14<00:32,  4.58s/it]"
                    ]
                },
                {
                    "name": "stdout",
                    "output_type": "stream",
                    "text": [
                        "Names      : ['NLP_CHEST_011']\n",
                        "Predictions: [\"chest ap view showed : 1. enlarged heart size with tortuous aorta. 2. r't middle lung and l't lower lung reticulonodular infiltrations. mild l't pleural effusion. 3. no mediastinum widening. 4. s / p endotracheal tube and ng intubation. s / p r't jugular cvp.\"]\n",
                        "Labels     : [\"chest ap view showed : 1. s / p sternotomy and cabg. enlarged heart size with tortuous aorta. 2. r't middle and lower lung faint patches. l't lower lung consolidation. l't pleural effusion. 3. no mediastinum widening. 4. s / p endotracheal tube and ng intubation.\"]\n",
                        "\n"
                    ]
                },
                {
                    "name": "stderr",
                    "output_type": "stream",
                    "text": [
                        "Evaluating: :  40%|████      | 4/10 [00:17<00:24,  4.08s/it]"
                    ]
                },
                {
                    "name": "stdout",
                    "output_type": "stream",
                    "text": [
                        "Names      : ['NLP_CHEST_015']\n",
                        "Predictions: ['']\n",
                        "Labels     : ['chest x ray : - no obvious lung mass nor consolidation patch. - normal heart size. - no pleural effusion.']\n",
                        "\n"
                    ]
                },
                {
                    "name": "stderr",
                    "output_type": "stream",
                    "text": [
                        "Evaluating: :  50%|█████     | 5/10 [00:23<00:22,  4.58s/it]"
                    ]
                },
                {
                    "name": "stdout",
                    "output_type": "stream",
                    "text": [
                        "Names      : ['NLP_CHEST_027']\n",
                        "Predictions: ['']\n",
                        "Labels     : ['chest pa view : impression : > cardiomegaly with bilateral pulmonary congestion. > postinflammatory fibrosis in both upper lungs. > atherosclerosis of aorta. > old fractures of left 5th and 6th ribs. > r / o osteoporosis. > spondylosis of thoracolumbar spine. > s / p abdominal operation in ruq.']\n",
                        "\n"
                    ]
                },
                {
                    "name": "stderr",
                    "output_type": "stream",
                    "text": [
                        "Evaluating: :  60%|██████    | 6/10 [00:28<00:19,  4.93s/it]"
                    ]
                },
                {
                    "name": "stdout",
                    "output_type": "stream",
                    "text": [
                        "Names      : ['NLP_CHEST_031']\n",
                        "Predictions: [\"chest ap view showed : 1. enlarged heart size with tortuous aorta. 2. l't middle lung and l't lower lung reticulonodular infiltrations. l't upper lung mass. l't lower lung mass. l't pleural thickening. 3. no mediastinum widening. 4. s / p endotracheal tube and ng intubation. s / p r't jugular cvp.\"]\n",
                        "Labels     : ['chest pa view : impression : - increased both lung markings. - compatible with right lung nodules. - fibrotic lesion in left upper lung. - normal heart size. atherosclerotic aorta. - suspect right pleural effusion. - spondylosis. r / o osteoporosis. - compatible with multiple bony metastases. - s / p ng and endotracheal tube. - s / p lt subclavian port - a - cath.']\n",
                        "\n"
                    ]
                },
                {
                    "name": "stderr",
                    "output_type": "stream",
                    "text": [
                        "Evaluating: :  70%|███████   | 7/10 [00:34<00:15,  5.23s/it]"
                    ]
                },
                {
                    "name": "stdout",
                    "output_type": "stream",
                    "text": [
                        "Names      : ['NLP_CHEST_057']\n",
                        "Predictions: [\"chest ap view showed : 1. enlarged heart size with tortuous aorta. 2. s / p l't subclavian port - a implantation and ng intubation. s / p right chest tube insertion.\"]\n",
                        "Labels     : ['chest plain film shows : impression : - increased infiltrations in both lungs. - tortuous atherosclerotic dilated aorta. - normal heart size. - djd of spine. old fracture of right ribs. - increased both lung markings. s / p lt jugular cvc insertion. s / p ng and endotracheal tube. - susp. lt pneumothorax. suspect pneumomediastinum. subcutaneous emphysema in bilateral neck. - s / p bilateral chest tube insertion.']\n",
                        "\n"
                    ]
                },
                {
                    "name": "stderr",
                    "output_type": "stream",
                    "text": [
                        "Evaluating: :  80%|████████  | 8/10 [00:39<00:10,  5.16s/it]"
                    ]
                },
                {
                    "name": "stdout",
                    "output_type": "stream",
                    "text": [
                        "Names      : ['NLP_CHEST_059']\n",
                        "Predictions: ['']\n",
                        "Labels     : ['supine chest ap view shows : pigtail catheter at right lower chest. decreased amount of right pleural effusion. air in the right lower pleural space. poor lung expansion. mild subcutaneous emphysema at right chest wall. right pleural thickening. ill - defined masses at right perihilar region. normal heart size.']\n",
                        "\n"
                    ]
                },
                {
                    "name": "stderr",
                    "output_type": "stream",
                    "text": [
                        "Evaluating: :  90%|█████████ | 9/10 [00:45<00:05,  5.46s/it]"
                    ]
                },
                {
                    "name": "stdout",
                    "output_type": "stream",
                    "text": [
                        "Names      : ['NLP_CHEST_071']\n",
                        "Predictions: [\"chest ap view showed : 1. enlarged heart size with tortuous aorta. 2. s / p r't jugular cvp.\"]\n",
                        "Labels     : ['chest film shows : impression : - bilateral lung infiltrations. - suspect right lower lung patch. blunting right cp angle. - tortuous atherosclerotic aorta. - scoliosis, djd and osteoporosis of spine. compression fracture of t12. old fracture of left ribs. - s / p fixation in l - spine. - s / p tracheostomy and ng tube.']\n",
                        "\n"
                    ]
                },
                {
                    "name": "stderr",
                    "output_type": "stream",
                    "text": [
                        "Evaluating: : 100%|██████████| 10/10 [00:51<00:00,  5.15s/it]\n"
                    ]
                },
                {
                    "name": "stdout",
                    "output_type": "stream",
                    "text": [
                        "Names      : ['NLP_CHEST_085']\n",
                        "Predictions: ['chest plain film view showed : impression : - increased both lung markings. - blunting bilateral cp angles. - the mediastinum is not widened. - normal heart size. - djd of spine. - s / p left brachiocephalic vein stent.']\n",
                        "Labels     : ['chest x ray : - right pneumothorax with pleural effusion, status post drainge tube placement. - extensive subcutaneous emphysema from neck to right side thoracic cage. - increased right hilar opacity. - atherosclerosis and tortuous aorta. - obscured bilateral costophrenic angles. - spondylosis and mild scoliosis of thoracolumbar spine. - oa of right glenohumeral joint. - generalized osteopenia.']\n",
                        "\n",
                        "Rouge-2 score : {'Rouge-L-P': 0.10125272588060508, 'Rouge-L-R': 0.06852926765947313, 'Rouge-L-F': 0.06852926765947313, 'Rouge-2-P': 0.05925220910555751, 'Rouge-2-R': 0.039452264686238865, 'Rouge-2-F': 0.039452264686238865}\n"
                    ]
                },
                {
                    "name": "stderr",
                    "output_type": "stream",
                    "text": [
                        "Training Epoch [17 / 50]: 100%|██████████| 89/89 [00:18<00:00,  4.87it/s, loss=0.156]\n",
                        "Evaluating: :  10%|█         | 1/10 [00:05<00:50,  5.61s/it]"
                    ]
                },
                {
                    "name": "stdout",
                    "output_type": "stream",
                    "text": [
                        "Names      : ['NLP_CHEST_002']\n",
                        "Predictions: ['']\n",
                        "Labels     : ['chest pa view shows : partial atelectasis at left lower lung field. left pleural effusion. borderline heart size. atherosclerotic change of aortic knob. s / p port - a implantation via left subclavian vein. intraperitoneal port catheter. surgical clips at ruq of abdomen.']\n",
                        "\n"
                    ]
                },
                {
                    "name": "stderr",
                    "output_type": "stream",
                    "text": [
                        "Evaluating: :  20%|██        | 2/10 [00:09<00:38,  4.85s/it]"
                    ]
                },
                {
                    "name": "stdout",
                    "output_type": "stream",
                    "text": [
                        "Names      : ['NLP_CHEST_004']\n",
                        "Predictions: ['']\n",
                        "Labels     : ['chest pa view show : impression : - s / p rll wedge resection. - bilateral lungs metastasis. - left lower lung subsegmental atelectasis. - increased infiltrations in both lungs. - blunting right cp angle. - tortuous atherosclerotic aorta. - scoliosis, djd and osteoporosis of spine. - compression fracture of l1.']\n",
                        "\n"
                    ]
                },
                {
                    "name": "stderr",
                    "output_type": "stream",
                    "text": [
                        "Evaluating: :  30%|███       | 3/10 [00:13<00:30,  4.36s/it]"
                    ]
                },
                {
                    "name": "stdout",
                    "output_type": "stream",
                    "text": [
                        "Names      : ['NLP_CHEST_011']\n",
                        "Predictions: ['']\n",
                        "Labels     : [\"chest ap view showed : 1. s / p sternotomy and cabg. enlarged heart size with tortuous aorta. 2. r't middle and lower lung faint patches. l't lower lung consolidation. l't pleural effusion. 3. no mediastinum widening. 4. s / p endotracheal tube and ng intubation.\"]\n",
                        "\n"
                    ]
                },
                {
                    "name": "stderr",
                    "output_type": "stream",
                    "text": [
                        "Evaluating: :  40%|████      | 4/10 [00:17<00:24,  4.01s/it]"
                    ]
                },
                {
                    "name": "stdout",
                    "output_type": "stream",
                    "text": [
                        "Names      : ['NLP_CHEST_015']\n",
                        "Predictions: ['']\n",
                        "Labels     : ['chest x ray : - no obvious lung mass nor consolidation patch. - normal heart size. - no pleural effusion.']\n",
                        "\n"
                    ]
                },
                {
                    "name": "stderr",
                    "output_type": "stream",
                    "text": [
                        "Evaluating: :  50%|█████     | 5/10 [00:22<00:22,  4.47s/it]"
                    ]
                },
                {
                    "name": "stdout",
                    "output_type": "stream",
                    "text": [
                        "Names      : ['NLP_CHEST_027']\n",
                        "Predictions: ['']\n",
                        "Labels     : ['chest pa view : impression : > cardiomegaly with bilateral pulmonary congestion. > postinflammatory fibrosis in both upper lungs. > atherosclerosis of aorta. > old fractures of left 5th and 6th ribs. > r / o osteoporosis. > spondylosis of thoracolumbar spine. > s / p abdominal operation in ruq.']\n",
                        "\n"
                    ]
                },
                {
                    "name": "stderr",
                    "output_type": "stream",
                    "text": [
                        "Evaluating: :  60%|██████    | 6/10 [00:28<00:19,  4.98s/it]"
                    ]
                },
                {
                    "name": "stdout",
                    "output_type": "stream",
                    "text": [
                        "Names      : ['NLP_CHEST_031']\n",
                        "Predictions: ['']\n",
                        "Labels     : ['chest pa view : impression : - increased both lung markings. - compatible with right lung nodules. - fibrotic lesion in left upper lung. - normal heart size. atherosclerotic aorta. - suspect right pleural effusion. - spondylosis. r / o osteoporosis. - compatible with multiple bony metastases. - s / p ng and endotracheal tube. - s / p lt subclavian port - a - cath.']\n",
                        "\n"
                    ]
                },
                {
                    "name": "stderr",
                    "output_type": "stream",
                    "text": [
                        "Evaluating: :  70%|███████   | 7/10 [00:34<00:15,  5.28s/it]"
                    ]
                },
                {
                    "name": "stdout",
                    "output_type": "stream",
                    "text": [
                        "Names      : ['NLP_CHEST_057']\n",
                        "Predictions: ['']\n",
                        "Labels     : ['chest plain film shows : impression : - increased infiltrations in both lungs. - tortuous atherosclerotic dilated aorta. - normal heart size. - djd of spine. old fracture of right ribs. - increased both lung markings. s / p lt jugular cvc insertion. s / p ng and endotracheal tube. - susp. lt pneumothorax. suspect pneumomediastinum. subcutaneous emphysema in bilateral neck. - s / p bilateral chest tube insertion.']\n",
                        "\n"
                    ]
                },
                {
                    "name": "stderr",
                    "output_type": "stream",
                    "text": [
                        "Evaluating: :  80%|████████  | 8/10 [00:40<00:10,  5.47s/it]"
                    ]
                },
                {
                    "name": "stdout",
                    "output_type": "stream",
                    "text": [
                        "Names      : ['NLP_CHEST_059']\n",
                        "Predictions: ['']\n",
                        "Labels     : ['supine chest ap view shows : pigtail catheter at right lower chest. decreased amount of right pleural effusion. air in the right lower pleural space. poor lung expansion. mild subcutaneous emphysema at right chest wall. right pleural thickening. ill - defined masses at right perihilar region. normal heart size.']\n",
                        "\n"
                    ]
                },
                {
                    "name": "stderr",
                    "output_type": "stream",
                    "text": [
                        "Evaluating: :  90%|█████████ | 9/10 [00:45<00:05,  5.48s/it]"
                    ]
                },
                {
                    "name": "stdout",
                    "output_type": "stream",
                    "text": [
                        "Names      : ['NLP_CHEST_071']\n",
                        "Predictions: ['']\n",
                        "Labels     : ['chest film shows : impression : - bilateral lung infiltrations. - suspect right lower lung patch. blunting right cp angle. - tortuous atherosclerotic aorta. - scoliosis, djd and osteoporosis of spine. compression fracture of t12. old fracture of left ribs. - s / p fixation in l - spine. - s / p tracheostomy and ng tube.']\n",
                        "\n"
                    ]
                },
                {
                    "name": "stderr",
                    "output_type": "stream",
                    "text": [
                        "Evaluating: : 100%|██████████| 10/10 [00:51<00:00,  5.10s/it]\n"
                    ]
                },
                {
                    "name": "stdout",
                    "output_type": "stream",
                    "text": [
                        "Names      : ['NLP_CHEST_085']\n",
                        "Predictions: ['']\n",
                        "Labels     : ['chest x ray : - right pneumothorax with pleural effusion, status post drainge tube placement. - extensive subcutaneous emphysema from neck to right side thoracic cage. - increased right hilar opacity. - atherosclerosis and tortuous aorta. - obscured bilateral costophrenic angles. - spondylosis and mild scoliosis of thoracolumbar spine. - oa of right glenohumeral joint. - generalized osteopenia.']\n",
                        "\n",
                        "Rouge-2 score : {'Rouge-L-P': 0.09529668318174596, 'Rouge-L-R': 0.06449813426773943, 'Rouge-L-F': 0.06449813426773943, 'Rouge-2-P': 0.055766785040524715, 'Rouge-2-R': 0.03713154323410717, 'Rouge-2-F': 0.03713154323410717}\n"
                    ]
                },
                {
                    "name": "stderr",
                    "output_type": "stream",
                    "text": [
                        "Training Epoch [18 / 50]: 100%|██████████| 89/89 [00:18<00:00,  4.88it/s, loss=0.144] \n",
                        "Evaluating: :  10%|█         | 1/10 [00:05<00:52,  5.80s/it]"
                    ]
                },
                {
                    "name": "stdout",
                    "output_type": "stream",
                    "text": [
                        "Names      : ['NLP_CHEST_002']\n",
                        "Predictions: ['']\n",
                        "Labels     : ['chest pa view shows : partial atelectasis at left lower lung field. left pleural effusion. borderline heart size. atherosclerotic change of aortic knob. s / p port - a implantation via left subclavian vein. intraperitoneal port catheter. surgical clips at ruq of abdomen.']\n",
                        "\n"
                    ]
                },
                {
                    "name": "stderr",
                    "output_type": "stream",
                    "text": [
                        "Evaluating: :  20%|██        | 2/10 [00:11<00:44,  5.60s/it]"
                    ]
                },
                {
                    "name": "stdout",
                    "output_type": "stream",
                    "text": [
                        "Names      : ['NLP_CHEST_004']\n",
                        "Predictions: ['']\n",
                        "Labels     : ['chest pa view show : impression : - s / p rll wedge resection. - bilateral lungs metastasis. - left lower lung subsegmental atelectasis. - increased infiltrations in both lungs. - blunting right cp angle. - tortuous atherosclerotic aorta. - scoliosis, djd and osteoporosis of spine. - compression fracture of l1.']\n",
                        "\n"
                    ]
                },
                {
                    "name": "stderr",
                    "output_type": "stream",
                    "text": [
                        "Evaluating: :  30%|███       | 3/10 [00:16<00:38,  5.43s/it]"
                    ]
                },
                {
                    "name": "stdout",
                    "output_type": "stream",
                    "text": [
                        "Names      : ['NLP_CHEST_011']\n",
                        "Predictions: ['']\n",
                        "Labels     : [\"chest ap view showed : 1. s / p sternotomy and cabg. enlarged heart size with tortuous aorta. 2. r't middle and lower lung faint patches. l't lower lung consolidation. l't pleural effusion. 3. no mediastinum widening. 4. s / p endotracheal tube and ng intubation.\"]\n",
                        "\n"
                    ]
                },
                {
                    "name": "stderr",
                    "output_type": "stream",
                    "text": [
                        "Evaluating: :  40%|████      | 4/10 [00:22<00:33,  5.60s/it]"
                    ]
                },
                {
                    "name": "stdout",
                    "output_type": "stream",
                    "text": [
                        "Names      : ['NLP_CHEST_015']\n",
                        "Predictions: ['']\n",
                        "Labels     : ['chest x ray : - no obvious lung mass nor consolidation patch. - normal heart size. - no pleural effusion.']\n",
                        "\n"
                    ]
                },
                {
                    "name": "stderr",
                    "output_type": "stream",
                    "text": [
                        "Evaluating: :  50%|█████     | 5/10 [00:28<00:28,  5.73s/it]"
                    ]
                },
                {
                    "name": "stdout",
                    "output_type": "stream",
                    "text": [
                        "Names      : ['NLP_CHEST_027']\n",
                        "Predictions: ['']\n",
                        "Labels     : ['chest pa view : impression : > cardiomegaly with bilateral pulmonary congestion. > postinflammatory fibrosis in both upper lungs. > atherosclerosis of aorta. > old fractures of left 5th and 6th ribs. > r / o osteoporosis. > spondylosis of thoracolumbar spine. > s / p abdominal operation in ruq.']\n",
                        "\n"
                    ]
                },
                {
                    "name": "stderr",
                    "output_type": "stream",
                    "text": [
                        "Evaluating: :  60%|██████    | 6/10 [00:34<00:23,  5.79s/it]"
                    ]
                },
                {
                    "name": "stdout",
                    "output_type": "stream",
                    "text": [
                        "Names      : ['NLP_CHEST_031']\n",
                        "Predictions: ['']\n",
                        "Labels     : ['chest pa view : impression : - increased both lung markings. - compatible with right lung nodules. - fibrotic lesion in left upper lung. - normal heart size. atherosclerotic aorta. - suspect right pleural effusion. - spondylosis. r / o osteoporosis. - compatible with multiple bony metastases. - s / p ng and endotracheal tube. - s / p lt subclavian port - a - cath.']\n",
                        "\n"
                    ]
                },
                {
                    "name": "stderr",
                    "output_type": "stream",
                    "text": [
                        "Evaluating: :  70%|███████   | 7/10 [00:39<00:17,  5.68s/it]"
                    ]
                },
                {
                    "name": "stdout",
                    "output_type": "stream",
                    "text": [
                        "Names      : ['NLP_CHEST_057']\n",
                        "Predictions: ['']\n",
                        "Labels     : ['chest plain film shows : impression : - increased infiltrations in both lungs. - tortuous atherosclerotic dilated aorta. - normal heart size. - djd of spine. old fracture of right ribs. - increased both lung markings. s / p lt jugular cvc insertion. s / p ng and endotracheal tube. - susp. lt pneumothorax. suspect pneumomediastinum. subcutaneous emphysema in bilateral neck. - s / p bilateral chest tube insertion.']\n",
                        "\n"
                    ]
                },
                {
                    "name": "stderr",
                    "output_type": "stream",
                    "text": [
                        "Evaluating: :  80%|████████  | 8/10 [00:45<00:11,  5.78s/it]"
                    ]
                },
                {
                    "name": "stdout",
                    "output_type": "stream",
                    "text": [
                        "Names      : ['NLP_CHEST_059']\n",
                        "Predictions: ['']\n",
                        "Labels     : ['supine chest ap view shows : pigtail catheter at right lower chest. decreased amount of right pleural effusion. air in the right lower pleural space. poor lung expansion. mild subcutaneous emphysema at right chest wall. right pleural thickening. ill - defined masses at right perihilar region. normal heart size.']\n",
                        "\n"
                    ]
                },
                {
                    "name": "stderr",
                    "output_type": "stream",
                    "text": [
                        "Evaluating: :  90%|█████████ | 9/10 [00:51<00:05,  5.77s/it]"
                    ]
                },
                {
                    "name": "stdout",
                    "output_type": "stream",
                    "text": [
                        "Names      : ['NLP_CHEST_071']\n",
                        "Predictions: ['']\n",
                        "Labels     : ['chest film shows : impression : - bilateral lung infiltrations. - suspect right lower lung patch. blunting right cp angle. - tortuous atherosclerotic aorta. - scoliosis, djd and osteoporosis of spine. compression fracture of t12. old fracture of left ribs. - s / p fixation in l - spine. - s / p tracheostomy and ng tube.']\n",
                        "\n"
                    ]
                },
                {
                    "name": "stderr",
                    "output_type": "stream",
                    "text": [
                        "Evaluating: : 100%|██████████| 10/10 [00:56<00:00,  5.66s/it]\n"
                    ]
                },
                {
                    "name": "stdout",
                    "output_type": "stream",
                    "text": [
                        "Names      : ['NLP_CHEST_085']\n",
                        "Predictions: ['']\n",
                        "Labels     : ['chest x ray : - right pneumothorax with pleural effusion, status post drainge tube placement. - extensive subcutaneous emphysema from neck to right side thoracic cage. - increased right hilar opacity. - atherosclerosis and tortuous aorta. - obscured bilateral costophrenic angles. - spondylosis and mild scoliosis of thoracolumbar spine. - oa of right glenohumeral joint. - generalized osteopenia.']\n",
                        "\n",
                        "Rouge-2 score : {'Rouge-L-P': 0.09000242300498229, 'Rouge-L-R': 0.060914904586198346, 'Rouge-L-F': 0.060914904586198346, 'Rouge-2-P': 0.05266863031605112, 'Rouge-2-R': 0.03506867972110121, 'Rouge-2-F': 0.03506867972110121}\n"
                    ]
                },
                {
                    "name": "stderr",
                    "output_type": "stream",
                    "text": [
                        "Training Epoch [19 / 50]: 100%|██████████| 89/89 [00:19<00:00,  4.53it/s, loss=0.136]\n",
                        "Evaluating: :  10%|█         | 1/10 [00:05<00:53,  5.98s/it]"
                    ]
                },
                {
                    "name": "stdout",
                    "output_type": "stream",
                    "text": [
                        "Names      : ['NLP_CHEST_002']\n",
                        "Predictions: ['chest plain film view showed : impression : - sutures in right upper chest. - the mediastinum is not widened. - normal heart size. - atherosclerotic aorta. - djd of spine. - s / p fixation in c - spine.']\n",
                        "Labels     : ['chest pa view shows : partial atelectasis at left lower lung field. left pleural effusion. borderline heart size. atherosclerotic change of aortic knob. s / p port - a implantation via left subclavian vein. intraperitoneal port catheter. surgical clips at ruq of abdomen.']\n",
                        "\n"
                    ]
                },
                {
                    "name": "stderr",
                    "output_type": "stream",
                    "text": [
                        "Evaluating: :  20%|██        | 2/10 [00:11<00:45,  5.66s/it]"
                    ]
                },
                {
                    "name": "stdout",
                    "output_type": "stream",
                    "text": [
                        "Names      : ['NLP_CHEST_004']\n",
                        "Predictions: ['']\n",
                        "Labels     : ['chest pa view show : impression : - s / p rll wedge resection. - bilateral lungs metastasis. - left lower lung subsegmental atelectasis. - increased infiltrations in both lungs. - blunting right cp angle. - tortuous atherosclerotic aorta. - scoliosis, djd and osteoporosis of spine. - compression fracture of l1.']\n",
                        "\n"
                    ]
                },
                {
                    "name": "stderr",
                    "output_type": "stream",
                    "text": [
                        "Evaluating: :  30%|███       | 3/10 [00:17<00:39,  5.71s/it]"
                    ]
                },
                {
                    "name": "stdout",
                    "output_type": "stream",
                    "text": [
                        "Names      : ['NLP_CHEST_011']\n",
                        "Predictions: ['chest plain film shows : impression : - suspicious right upper lung nodules. - normal heart size. - djd of spine. - s / p coronary stenting. - atherosclerosis of aorta. - s / p ng and endotracheal tube. - s / p rt jugular cvp.']\n",
                        "Labels     : [\"chest ap view showed : 1. s / p sternotomy and cabg. enlarged heart size with tortuous aorta. 2. r't middle and lower lung faint patches. l't lower lung consolidation. l't pleural effusion. 3. no mediastinum widening. 4. s / p endotracheal tube and ng intubation.\"]\n",
                        "\n"
                    ]
                },
                {
                    "name": "stderr",
                    "output_type": "stream",
                    "text": [
                        "Evaluating: :  40%|████      | 4/10 [00:23<00:34,  5.75s/it]"
                    ]
                },
                {
                    "name": "stdout",
                    "output_type": "stream",
                    "text": [
                        "Names      : ['NLP_CHEST_015']\n",
                        "Predictions: ['']\n",
                        "Labels     : ['chest x ray : - no obvious lung mass nor consolidation patch. - normal heart size. - no pleural effusion.']\n",
                        "\n"
                    ]
                },
                {
                    "name": "stderr",
                    "output_type": "stream",
                    "text": [
                        "Evaluating: :  50%|█████     | 5/10 [00:28<00:28,  5.75s/it]"
                    ]
                },
                {
                    "name": "stdout",
                    "output_type": "stream",
                    "text": [
                        "Names      : ['NLP_CHEST_027']\n",
                        "Predictions: ['']\n",
                        "Labels     : ['chest pa view : impression : > cardiomegaly with bilateral pulmonary congestion. > postinflammatory fibrosis in both upper lungs. > atherosclerosis of aorta. > old fractures of left 5th and 6th ribs. > r / o osteoporosis. > spondylosis of thoracolumbar spine. > s / p abdominal operation in ruq.']\n",
                        "\n"
                    ]
                },
                {
                    "name": "stderr",
                    "output_type": "stream",
                    "text": [
                        "Evaluating: :  60%|██████    | 6/10 [00:34<00:23,  5.81s/it]"
                    ]
                },
                {
                    "name": "stdout",
                    "output_type": "stream",
                    "text": [
                        "Names      : ['NLP_CHEST_031']\n",
                        "Predictions: ['']\n",
                        "Labels     : ['chest pa view : impression : - increased both lung markings. - compatible with right lung nodules. - fibrotic lesion in left upper lung. - normal heart size. atherosclerotic aorta. - suspect right pleural effusion. - spondylosis. r / o osteoporosis. - compatible with multiple bony metastases. - s / p ng and endotracheal tube. - s / p lt subclavian port - a - cath.']\n",
                        "\n"
                    ]
                },
                {
                    "name": "stderr",
                    "output_type": "stream",
                    "text": [
                        "Evaluating: :  70%|███████   | 7/10 [00:39<00:16,  5.61s/it]"
                    ]
                },
                {
                    "name": "stdout",
                    "output_type": "stream",
                    "text": [
                        "Names      : ['NLP_CHEST_057']\n",
                        "Predictions: ['']\n",
                        "Labels     : ['chest plain film shows : impression : - increased infiltrations in both lungs. - tortuous atherosclerotic dilated aorta. - normal heart size. - djd of spine. old fracture of right ribs. - increased both lung markings. s / p lt jugular cvc insertion. s / p ng and endotracheal tube. - susp. lt pneumothorax. suspect pneumomediastinum. subcutaneous emphysema in bilateral neck. - s / p bilateral chest tube insertion.']\n",
                        "\n"
                    ]
                },
                {
                    "name": "stderr",
                    "output_type": "stream",
                    "text": [
                        "Evaluating: :  80%|████████  | 8/10 [00:44<00:10,  5.20s/it]"
                    ]
                },
                {
                    "name": "stdout",
                    "output_type": "stream",
                    "text": [
                        "Names      : ['NLP_CHEST_059']\n",
                        "Predictions: ['']\n",
                        "Labels     : ['supine chest ap view shows : pigtail catheter at right lower chest. decreased amount of right pleural effusion. air in the right lower pleural space. poor lung expansion. mild subcutaneous emphysema at right chest wall. right pleural thickening. ill - defined masses at right perihilar region. normal heart size.']\n",
                        "\n"
                    ]
                },
                {
                    "name": "stderr",
                    "output_type": "stream",
                    "text": [
                        "Evaluating: :  90%|█████████ | 9/10 [00:47<00:04,  4.56s/it]"
                    ]
                },
                {
                    "name": "stdout",
                    "output_type": "stream",
                    "text": [
                        "Names      : ['NLP_CHEST_071']\n",
                        "Predictions: ['chest plain film shows : impression : - increased infiltrations in both lungs. - blunting bilateral cp angles. - tortuous atherosclerotic dilated aorta. - djd of spine. - s / p fixation in c - spine.']\n",
                        "Labels     : ['chest film shows : impression : - bilateral lung infiltrations. - suspect right lower lung patch. blunting right cp angle. - tortuous atherosclerotic aorta. - scoliosis, djd and osteoporosis of spine. compression fracture of t12. old fracture of left ribs. - s / p fixation in l - spine. - s / p tracheostomy and ng tube.']\n",
                        "\n"
                    ]
                },
                {
                    "name": "stderr",
                    "output_type": "stream",
                    "text": [
                        "Evaluating: : 100%|██████████| 10/10 [00:50<00:00,  5.04s/it]\n"
                    ]
                },
                {
                    "name": "stdout",
                    "output_type": "stream",
                    "text": [
                        "Names      : ['NLP_CHEST_085']\n",
                        "Predictions: ['']\n",
                        "Labels     : ['chest x ray : - right pneumothorax with pleural effusion, status post drainge tube placement. - extensive subcutaneous emphysema from neck to right side thoracic cage. - increased right hilar opacity. - atherosclerosis and tortuous aorta. - obscured bilateral costophrenic angles. - spondylosis and mild scoliosis of thoracolumbar spine. - oa of right glenohumeral joint. - generalized osteopenia.']\n",
                        "\n",
                        "Rouge-2 score : {'Rouge-L-P': 0.09165815614456241, 'Rouge-L-R': 0.06260014965383734, 'Rouge-L-F': 0.06260014965383734, 'Rouge-2-P': 0.05317530673602118, 'Rouge-2-R': 0.03557049524121034, 'Rouge-2-F': 0.03557049524121034}\n"
                    ]
                },
                {
                    "name": "stderr",
                    "output_type": "stream",
                    "text": [
                        "Training Epoch [20 / 50]: 100%|██████████| 89/89 [00:17<00:00,  5.18it/s, loss=0.115]\n",
                        "Evaluating: :  10%|█         | 1/10 [00:02<00:26,  2.94s/it]"
                    ]
                },
                {
                    "name": "stdout",
                    "output_type": "stream",
                    "text": [
                        "Names      : ['NLP_CHEST_002']\n",
                        "Predictions: ['chest plain film view showed : impression : - suspicious right upper lung nodule. - increased infiltrates in both lungs. - normal heart size. - atherosclerotic aorta. - djd of spine. - s / p right chest tube insertion.']\n",
                        "Labels     : ['chest pa view shows : partial atelectasis at left lower lung field. left pleural effusion. borderline heart size. atherosclerotic change of aortic knob. s / p port - a implantation via left subclavian vein. intraperitoneal port catheter. surgical clips at ruq of abdomen.']\n",
                        "\n"
                    ]
                },
                {
                    "name": "stderr",
                    "output_type": "stream",
                    "text": [
                        "Evaluating: :  20%|██        | 2/10 [00:05<00:23,  2.98s/it]"
                    ]
                },
                {
                    "name": "stdout",
                    "output_type": "stream",
                    "text": [
                        "Names      : ['NLP_CHEST_004']\n",
                        "Predictions: ['chest plain film view showed : impression : - suspicious right upper lung nodule. - increased infiltrates in both lungs. - normal heart size. - djd of spine. - s / p right chest tube insertion.']\n",
                        "Labels     : ['chest pa view show : impression : - s / p rll wedge resection. - bilateral lungs metastasis. - left lower lung subsegmental atelectasis. - increased infiltrations in both lungs. - blunting right cp angle. - tortuous atherosclerotic aorta. - scoliosis, djd and osteoporosis of spine. - compression fracture of l1.']\n",
                        "\n"
                    ]
                },
                {
                    "name": "stderr",
                    "output_type": "stream",
                    "text": [
                        "Evaluating: :  30%|███       | 3/10 [00:09<00:21,  3.03s/it]"
                    ]
                },
                {
                    "name": "stdout",
                    "output_type": "stream",
                    "text": [
                        "Names      : ['NLP_CHEST_011']\n",
                        "Predictions: [\"chest ap view showed : 1. enlarged heart size with tortuous aorta. 2. r't middle lung and l't lower lung reticulonodular infiltrations. mild l't pleural effusion. 3. no mediastinum widening. 4. s / p endotracheal tube and ng intubation. s / p r't jugular cvp.\"]\n",
                        "Labels     : [\"chest ap view showed : 1. s / p sternotomy and cabg. enlarged heart size with tortuous aorta. 2. r't middle and lower lung faint patches. l't lower lung consolidation. l't pleural effusion. 3. no mediastinum widening. 4. s / p endotracheal tube and ng intubation.\"]\n",
                        "\n"
                    ]
                },
                {
                    "name": "stderr",
                    "output_type": "stream",
                    "text": [
                        "Evaluating: :  40%|████      | 4/10 [00:11<00:17,  2.97s/it]"
                    ]
                },
                {
                    "name": "stdout",
                    "output_type": "stream",
                    "text": [
                        "Names      : ['NLP_CHEST_015']\n",
                        "Predictions: ['']\n",
                        "Labels     : ['chest x ray : - no obvious lung mass nor consolidation patch. - normal heart size. - no pleural effusion.']\n",
                        "\n"
                    ]
                },
                {
                    "name": "stderr",
                    "output_type": "stream",
                    "text": [
                        "Evaluating: :  50%|█████     | 5/10 [00:14<00:14,  2.94s/it]"
                    ]
                },
                {
                    "name": "stdout",
                    "output_type": "stream",
                    "text": [
                        "Names      : ['NLP_CHEST_027']\n",
                        "Predictions: ['']\n",
                        "Labels     : ['chest pa view : impression : > cardiomegaly with bilateral pulmonary congestion. > postinflammatory fibrosis in both upper lungs. > atherosclerosis of aorta. > old fractures of left 5th and 6th ribs. > r / o osteoporosis. > spondylosis of thoracolumbar spine. > s / p abdominal operation in ruq.']\n",
                        "\n"
                    ]
                },
                {
                    "name": "stderr",
                    "output_type": "stream",
                    "text": [
                        "Evaluating: :  60%|██████    | 6/10 [00:17<00:11,  2.94s/it]"
                    ]
                },
                {
                    "name": "stdout",
                    "output_type": "stream",
                    "text": [
                        "Names      : ['NLP_CHEST_031']\n",
                        "Predictions: ['']\n",
                        "Labels     : ['chest pa view : impression : - increased both lung markings. - compatible with right lung nodules. - fibrotic lesion in left upper lung. - normal heart size. atherosclerotic aorta. - suspect right pleural effusion. - spondylosis. r / o osteoporosis. - compatible with multiple bony metastases. - s / p ng and endotracheal tube. - s / p lt subclavian port - a - cath.']\n",
                        "\n"
                    ]
                },
                {
                    "name": "stderr",
                    "output_type": "stream",
                    "text": [
                        "Evaluating: :  70%|███████   | 7/10 [00:20<00:08,  2.91s/it]"
                    ]
                },
                {
                    "name": "stdout",
                    "output_type": "stream",
                    "text": [
                        "Names      : ['NLP_CHEST_057']\n",
                        "Predictions: ['']\n",
                        "Labels     : ['chest plain film shows : impression : - increased infiltrations in both lungs. - tortuous atherosclerotic dilated aorta. - normal heart size. - djd of spine. old fracture of right ribs. - increased both lung markings. s / p lt jugular cvc insertion. s / p ng and endotracheal tube. - susp. lt pneumothorax. suspect pneumomediastinum. subcutaneous emphysema in bilateral neck. - s / p bilateral chest tube insertion.']\n",
                        "\n"
                    ]
                },
                {
                    "name": "stderr",
                    "output_type": "stream",
                    "text": [
                        "Evaluating: :  80%|████████  | 8/10 [00:23<00:05,  2.85s/it]"
                    ]
                },
                {
                    "name": "stdout",
                    "output_type": "stream",
                    "text": [
                        "Names      : ['NLP_CHEST_059']\n",
                        "Predictions: ['']\n",
                        "Labels     : ['supine chest ap view shows : pigtail catheter at right lower chest. decreased amount of right pleural effusion. air in the right lower pleural space. poor lung expansion. mild subcutaneous emphysema at right chest wall. right pleural thickening. ill - defined masses at right perihilar region. normal heart size.']\n",
                        "\n"
                    ]
                },
                {
                    "name": "stderr",
                    "output_type": "stream",
                    "text": [
                        "Evaluating: :  90%|█████████ | 9/10 [00:25<00:02,  2.79s/it]"
                    ]
                },
                {
                    "name": "stdout",
                    "output_type": "stream",
                    "text": [
                        "Names      : ['NLP_CHEST_071']\n",
                        "Predictions: ['chest plain film shows : impression : - suspicious right upper lung nodule. - increased infiltrates in both lungs. - tortuous atherosclerotic dilated aorta. - cardiomegaly. - djd of spine. - s / p lt subclavian port - a - cath.']\n",
                        "Labels     : ['chest film shows : impression : - bilateral lung infiltrations. - suspect right lower lung patch. blunting right cp angle. - tortuous atherosclerotic aorta. - scoliosis, djd and osteoporosis of spine. compression fracture of t12. old fracture of left ribs. - s / p fixation in l - spine. - s / p tracheostomy and ng tube.']\n",
                        "\n"
                    ]
                },
                {
                    "name": "stderr",
                    "output_type": "stream",
                    "text": [
                        "Evaluating: : 100%|██████████| 10/10 [00:28<00:00,  2.89s/it]\n"
                    ]
                },
                {
                    "name": "stdout",
                    "output_type": "stream",
                    "text": [
                        "Names      : ['NLP_CHEST_085']\n",
                        "Predictions: ['']\n",
                        "Labels     : ['chest x ray : - right pneumothorax with pleural effusion, status post drainge tube placement. - extensive subcutaneous emphysema from neck to right side thoracic cage. - increased right hilar opacity. - atherosclerosis and tortuous aorta. - obscured bilateral costophrenic angles. - spondylosis and mild scoliosis of thoracolumbar spine. - oa of right glenohumeral joint. - generalized osteopenia.']\n",
                        "\n",
                        "Rouge-2 score : {'Rouge-L-P': 0.09767927168526008, 'Rouge-L-R': 0.06833580950667635, 'Rouge-L-F': 0.06833580950667635, 'Rouge-2-P': 0.05788692759197473, 'Rouge-2-R': 0.040065383177562516, 'Rouge-2-F': 0.040065383177562516}\n"
                    ]
                },
                {
                    "name": "stderr",
                    "output_type": "stream",
                    "text": [
                        "Training Epoch [21 / 50]: 100%|██████████| 89/89 [00:16<00:00,  5.35it/s, loss=0.106] \n",
                        "Evaluating: :  10%|█         | 1/10 [00:04<00:39,  4.35s/it]"
                    ]
                },
                {
                    "name": "stdout",
                    "output_type": "stream",
                    "text": [
                        "Names      : ['NLP_CHEST_002']\n",
                        "Predictions: ['chest pa view shows : impression : - increased infiltrations in both lungs. - blunting bilateral cp angles. - normal heart size. - atherosclerotic aorta. - scoliosis and djd of spine. - s / p ng tube insertion.']\n",
                        "Labels     : ['chest pa view shows : partial atelectasis at left lower lung field. left pleural effusion. borderline heart size. atherosclerotic change of aortic knob. s / p port - a implantation via left subclavian vein. intraperitoneal port catheter. surgical clips at ruq of abdomen.']\n",
                        "\n"
                    ]
                },
                {
                    "name": "stderr",
                    "output_type": "stream",
                    "text": [
                        "Evaluating: :  20%|██        | 2/10 [00:09<00:37,  4.71s/it]"
                    ]
                },
                {
                    "name": "stdout",
                    "output_type": "stream",
                    "text": [
                        "Names      : ['NLP_CHEST_004']\n",
                        "Predictions: ['chest plain film shows : impression : - suspicious right upper lung nodule. - normal heart size. - s / p repair for left diaphragmatic hernia. - s / p endotracheal tube insertion. s / p og tube insertion.']\n",
                        "Labels     : ['chest pa view show : impression : - s / p rll wedge resection. - bilateral lungs metastasis. - left lower lung subsegmental atelectasis. - increased infiltrations in both lungs. - blunting right cp angle. - tortuous atherosclerotic aorta. - scoliosis, djd and osteoporosis of spine. - compression fracture of l1.']\n",
                        "\n"
                    ]
                },
                {
                    "name": "stderr",
                    "output_type": "stream",
                    "text": [
                        "Evaluating: :  30%|███       | 3/10 [00:12<00:28,  4.01s/it]"
                    ]
                },
                {
                    "name": "stdout",
                    "output_type": "stream",
                    "text": [
                        "Names      : ['NLP_CHEST_011']\n",
                        "Predictions: [\"chest ap view showed : 1. enlarged heart size with tortuous aorta. 2. r't middle lung and l't lower lung reticulonodular infiltrations. mild l't pleural effusion. 3. no mediastinum widening. 4. s / p endotracheal tube and ng intubation. s / p r't jugular cvp.\"]\n",
                        "Labels     : [\"chest ap view showed : 1. s / p sternotomy and cabg. enlarged heart size with tortuous aorta. 2. r't middle and lower lung faint patches. l't lower lung consolidation. l't pleural effusion. 3. no mediastinum widening. 4. s / p endotracheal tube and ng intubation.\"]\n",
                        "\n"
                    ]
                },
                {
                    "name": "stderr",
                    "output_type": "stream",
                    "text": [
                        "Evaluating: :  40%|████      | 4/10 [00:14<00:19,  3.28s/it]"
                    ]
                },
                {
                    "name": "stdout",
                    "output_type": "stream",
                    "text": [
                        "Names      : ['NLP_CHEST_015']\n",
                        "Predictions: ['chest pa view shows : > no obvious lung mass nor consolidation patch. > normal heart size. > no pleural effusion.']\n",
                        "Labels     : ['chest x ray : - no obvious lung mass nor consolidation patch. - normal heart size. - no pleural effusion.']\n",
                        "\n"
                    ]
                },
                {
                    "name": "stderr",
                    "output_type": "stream",
                    "text": [
                        "Evaluating: :  50%|█████     | 5/10 [00:16<00:14,  2.94s/it]"
                    ]
                },
                {
                    "name": "stdout",
                    "output_type": "stream",
                    "text": [
                        "Names      : ['NLP_CHEST_027']\n",
                        "Predictions: ['']\n",
                        "Labels     : ['chest pa view : impression : > cardiomegaly with bilateral pulmonary congestion. > postinflammatory fibrosis in both upper lungs. > atherosclerosis of aorta. > old fractures of left 5th and 6th ribs. > r / o osteoporosis. > spondylosis of thoracolumbar spine. > s / p abdominal operation in ruq.']\n",
                        "\n"
                    ]
                },
                {
                    "name": "stderr",
                    "output_type": "stream",
                    "text": [
                        "Evaluating: :  60%|██████    | 6/10 [00:19<00:10,  2.70s/it]"
                    ]
                },
                {
                    "name": "stdout",
                    "output_type": "stream",
                    "text": [
                        "Names      : ['NLP_CHEST_031']\n",
                        "Predictions: [\"chest ap view showed : 1. enlarged heart size with tortuous aorta. 2. l't middle lung small nodules. a r't upper lung mass. l't upper and middle lung patches. l't upper lung mass. l't retrocardiac patches. l't upper pleura thickening. s / p l't intrapleural pigtail drainage.\"]\n",
                        "Labels     : ['chest pa view : impression : - increased both lung markings. - compatible with right lung nodules. - fibrotic lesion in left upper lung. - normal heart size. atherosclerotic aorta. - suspect right pleural effusion. - spondylosis. r / o osteoporosis. - compatible with multiple bony metastases. - s / p ng and endotracheal tube. - s / p lt subclavian port - a - cath.']\n",
                        "\n"
                    ]
                },
                {
                    "name": "stderr",
                    "output_type": "stream",
                    "text": [
                        "Evaluating: :  70%|███████   | 7/10 [00:21<00:07,  2.56s/it]"
                    ]
                },
                {
                    "name": "stdout",
                    "output_type": "stream",
                    "text": [
                        "Names      : ['NLP_CHEST_057']\n",
                        "Predictions: [\"chest ap view showed : 1. enlarged heart size with tortuous aorta. 2. bilateral lung reticulonodular infiltrations. a r't upper lung mass. r't middle and lower lung faint patches. 3. no mediastinum widening. 4. s / p endotracheal tube and ng intubation. s / p r't jugular cvp.\"]\n",
                        "Labels     : ['chest plain film shows : impression : - increased infiltrations in both lungs. - tortuous atherosclerotic dilated aorta. - normal heart size. - djd of spine. old fracture of right ribs. - increased both lung markings. s / p lt jugular cvc insertion. s / p ng and endotracheal tube. - susp. lt pneumothorax. suspect pneumomediastinum. subcutaneous emphysema in bilateral neck. - s / p bilateral chest tube insertion.']\n",
                        "\n"
                    ]
                },
                {
                    "name": "stderr",
                    "output_type": "stream",
                    "text": [
                        "Evaluating: :  80%|████████  | 8/10 [00:23<00:05,  2.53s/it]"
                    ]
                },
                {
                    "name": "stdout",
                    "output_type": "stream",
                    "text": [
                        "Names      : ['NLP_CHEST_059']\n",
                        "Predictions: ['']\n",
                        "Labels     : ['supine chest ap view shows : pigtail catheter at right lower chest. decreased amount of right pleural effusion. air in the right lower pleural space. poor lung expansion. mild subcutaneous emphysema at right chest wall. right pleural thickening. ill - defined masses at right perihilar region. normal heart size.']\n",
                        "\n"
                    ]
                },
                {
                    "name": "stderr",
                    "output_type": "stream",
                    "text": [
                        "Evaluating: :  90%|█████████ | 9/10 [00:26<00:02,  2.48s/it]"
                    ]
                },
                {
                    "name": "stdout",
                    "output_type": "stream",
                    "text": [
                        "Names      : ['NLP_CHEST_071']\n",
                        "Predictions: ['chest plain film shows : impression : - suspicious right upper lung patch. - normal heart size. - s / p repair for left diaphragmatic hernia. - s / p endotracheal tube insertion.']\n",
                        "Labels     : ['chest film shows : impression : - bilateral lung infiltrations. - suspect right lower lung patch. blunting right cp angle. - tortuous atherosclerotic aorta. - scoliosis, djd and osteoporosis of spine. compression fracture of t12. old fracture of left ribs. - s / p fixation in l - spine. - s / p tracheostomy and ng tube.']\n",
                        "\n"
                    ]
                },
                {
                    "name": "stderr",
                    "output_type": "stream",
                    "text": [
                        "Evaluating: : 100%|██████████| 10/10 [00:28<00:00,  2.86s/it]\n"
                    ]
                },
                {
                    "name": "stdout",
                    "output_type": "stream",
                    "text": [
                        "Names      : ['NLP_CHEST_085']\n",
                        "Predictions: ['']\n",
                        "Labels     : ['chest x ray : - right pneumothorax with pleural effusion, status post drainge tube placement. - extensive subcutaneous emphysema from neck to right side thoracic cage. - increased right hilar opacity. - atherosclerosis and tortuous aorta. - obscured bilateral costophrenic angles. - spondylosis and mild scoliosis of thoracolumbar spine. - oa of right glenohumeral joint. - generalized osteopenia.']\n",
                        "\n",
                        "Rouge-2 score : {'Rouge-L-P': 0.10790436994361446, 'Rouge-L-R': 0.0777480605183111, 'Rouge-L-F': 0.0777480605183111, 'Rouge-2-P': 0.06502536578832026, 'Rouge-2-R': 0.0468621365582413, 'Rouge-2-F': 0.0468621365582413}\n"
                    ]
                },
                {
                    "name": "stderr",
                    "output_type": "stream",
                    "text": [
                        "Training Epoch [22 / 50]: 100%|██████████| 89/89 [00:16<00:00,  5.25it/s, loss=0.0974]\n",
                        "Evaluating: :  10%|█         | 1/10 [00:03<00:31,  3.53s/it]"
                    ]
                },
                {
                    "name": "stdout",
                    "output_type": "stream",
                    "text": [
                        "Names      : ['NLP_CHEST_002']\n",
                        "Predictions: ['']\n",
                        "Labels     : ['chest pa view shows : partial atelectasis at left lower lung field. left pleural effusion. borderline heart size. atherosclerotic change of aortic knob. s / p port - a implantation via left subclavian vein. intraperitoneal port catheter. surgical clips at ruq of abdomen.']\n",
                        "\n"
                    ]
                },
                {
                    "name": "stderr",
                    "output_type": "stream",
                    "text": [
                        "Evaluating: :  20%|██        | 2/10 [00:07<00:28,  3.58s/it]"
                    ]
                },
                {
                    "name": "stdout",
                    "output_type": "stream",
                    "text": [
                        "Names      : ['NLP_CHEST_004']\n",
                        "Predictions: ['']\n",
                        "Labels     : ['chest pa view show : impression : - s / p rll wedge resection. - bilateral lungs metastasis. - left lower lung subsegmental atelectasis. - increased infiltrations in both lungs. - blunting right cp angle. - tortuous atherosclerotic aorta. - scoliosis, djd and osteoporosis of spine. - compression fracture of l1.']\n",
                        "\n"
                    ]
                },
                {
                    "name": "stderr",
                    "output_type": "stream",
                    "text": [
                        "Evaluating: :  30%|███       | 3/10 [00:11<00:28,  4.00s/it]"
                    ]
                },
                {
                    "name": "stdout",
                    "output_type": "stream",
                    "text": [
                        "Names      : ['NLP_CHEST_011']\n",
                        "Predictions: ['']\n",
                        "Labels     : [\"chest ap view showed : 1. s / p sternotomy and cabg. enlarged heart size with tortuous aorta. 2. r't middle and lower lung faint patches. l't lower lung consolidation. l't pleural effusion. 3. no mediastinum widening. 4. s / p endotracheal tube and ng intubation.\"]\n",
                        "\n"
                    ]
                },
                {
                    "name": "stderr",
                    "output_type": "stream",
                    "text": [
                        "Evaluating: :  40%|████      | 4/10 [00:16<00:25,  4.18s/it]"
                    ]
                },
                {
                    "name": "stdout",
                    "output_type": "stream",
                    "text": [
                        "Names      : ['NLP_CHEST_015']\n",
                        "Predictions: ['']\n",
                        "Labels     : ['chest x ray : - no obvious lung mass nor consolidation patch. - normal heart size. - no pleural effusion.']\n",
                        "\n"
                    ]
                },
                {
                    "name": "stderr",
                    "output_type": "stream",
                    "text": [
                        "Evaluating: :  50%|█████     | 5/10 [00:19<00:19,  3.89s/it]"
                    ]
                },
                {
                    "name": "stdout",
                    "output_type": "stream",
                    "text": [
                        "Names      : ['NLP_CHEST_027']\n",
                        "Predictions: ['']\n",
                        "Labels     : ['chest pa view : impression : > cardiomegaly with bilateral pulmonary congestion. > postinflammatory fibrosis in both upper lungs. > atherosclerosis of aorta. > old fractures of left 5th and 6th ribs. > r / o osteoporosis. > spondylosis of thoracolumbar spine. > s / p abdominal operation in ruq.']\n",
                        "\n"
                    ]
                },
                {
                    "name": "stderr",
                    "output_type": "stream",
                    "text": [
                        "Evaluating: :  60%|██████    | 6/10 [00:24<00:16,  4.13s/it]"
                    ]
                },
                {
                    "name": "stdout",
                    "output_type": "stream",
                    "text": [
                        "Names      : ['NLP_CHEST_031']\n",
                        "Predictions: ['']\n",
                        "Labels     : ['chest pa view : impression : - increased both lung markings. - compatible with right lung nodules. - fibrotic lesion in left upper lung. - normal heart size. atherosclerotic aorta. - suspect right pleural effusion. - spondylosis. r / o osteoporosis. - compatible with multiple bony metastases. - s / p ng and endotracheal tube. - s / p lt subclavian port - a - cath.']\n",
                        "\n"
                    ]
                },
                {
                    "name": "stderr",
                    "output_type": "stream",
                    "text": [
                        "Evaluating: :  70%|███████   | 7/10 [00:28<00:12,  4.17s/it]"
                    ]
                },
                {
                    "name": "stdout",
                    "output_type": "stream",
                    "text": [
                        "Names      : ['NLP_CHEST_057']\n",
                        "Predictions: ['']\n",
                        "Labels     : ['chest plain film shows : impression : - increased infiltrations in both lungs. - tortuous atherosclerotic dilated aorta. - normal heart size. - djd of spine. old fracture of right ribs. - increased both lung markings. s / p lt jugular cvc insertion. s / p ng and endotracheal tube. - susp. lt pneumothorax. suspect pneumomediastinum. subcutaneous emphysema in bilateral neck. - s / p bilateral chest tube insertion.']\n",
                        "\n"
                    ]
                },
                {
                    "name": "stderr",
                    "output_type": "stream",
                    "text": [
                        "Evaluating: :  80%|████████  | 8/10 [00:33<00:08,  4.42s/it]"
                    ]
                },
                {
                    "name": "stdout",
                    "output_type": "stream",
                    "text": [
                        "Names      : ['NLP_CHEST_059']\n",
                        "Predictions: ['']\n",
                        "Labels     : ['supine chest ap view shows : pigtail catheter at right lower chest. decreased amount of right pleural effusion. air in the right lower pleural space. poor lung expansion. mild subcutaneous emphysema at right chest wall. right pleural thickening. ill - defined masses at right perihilar region. normal heart size.']\n",
                        "\n"
                    ]
                },
                {
                    "name": "stderr",
                    "output_type": "stream",
                    "text": [
                        "Evaluating: :  90%|█████████ | 9/10 [00:37<00:04,  4.25s/it]"
                    ]
                },
                {
                    "name": "stdout",
                    "output_type": "stream",
                    "text": [
                        "Names      : ['NLP_CHEST_071']\n",
                        "Predictions: ['']\n",
                        "Labels     : ['chest film shows : impression : - bilateral lung infiltrations. - suspect right lower lung patch. blunting right cp angle. - tortuous atherosclerotic aorta. - scoliosis, djd and osteoporosis of spine. compression fracture of t12. old fracture of left ribs. - s / p fixation in l - spine. - s / p tracheostomy and ng tube.']\n",
                        "\n"
                    ]
                },
                {
                    "name": "stderr",
                    "output_type": "stream",
                    "text": [
                        "Evaluating: : 100%|██████████| 10/10 [00:40<00:00,  4.02s/it]\n"
                    ]
                },
                {
                    "name": "stdout",
                    "output_type": "stream",
                    "text": [
                        "Names      : ['NLP_CHEST_085']\n",
                        "Predictions: ['']\n",
                        "Labels     : ['chest x ray : - right pneumothorax with pleural effusion, status post drainge tube placement. - extensive subcutaneous emphysema from neck to right side thoracic cage. - increased right hilar opacity. - atherosclerosis and tortuous aorta. - obscured bilateral costophrenic angles. - spondylosis and mild scoliosis of thoracolumbar spine. - oa of right glenohumeral joint. - generalized osteopenia.']\n",
                        "\n",
                        "Rouge-2 score : {'Rouge-L-P': 0.10299962585526835, 'Rouge-L-R': 0.07421405776747877, 'Rouge-L-F': 0.07421405776747877, 'Rouge-2-P': 0.06206966734339661, 'Rouge-2-R': 0.044732039441957604, 'Rouge-2-F': 0.044732039441957604}\n"
                    ]
                },
                {
                    "name": "stderr",
                    "output_type": "stream",
                    "text": [
                        "Training Epoch [23 / 50]: 100%|██████████| 89/89 [00:17<00:00,  5.08it/s, loss=0.0882]\n",
                        "Evaluating: :  10%|█         | 1/10 [00:04<00:36,  4.09s/it]"
                    ]
                },
                {
                    "name": "stdout",
                    "output_type": "stream",
                    "text": [
                        "Names      : ['NLP_CHEST_002']\n",
                        "Predictions: ['chest plain film view showed : impression : - sutures in right upper chest. - blunting right cp angle. - the mediastinum is not widened. - normal heart size. - djd of spine.']\n",
                        "Labels     : ['chest pa view shows : partial atelectasis at left lower lung field. left pleural effusion. borderline heart size. atherosclerotic change of aortic knob. s / p port - a implantation via left subclavian vein. intraperitoneal port catheter. surgical clips at ruq of abdomen.']\n",
                        "\n"
                    ]
                },
                {
                    "name": "stderr",
                    "output_type": "stream",
                    "text": [
                        "Evaluating: :  20%|██        | 2/10 [00:08<00:35,  4.48s/it]"
                    ]
                },
                {
                    "name": "stdout",
                    "output_type": "stream",
                    "text": [
                        "Names      : ['NLP_CHEST_004']\n",
                        "Predictions: ['chest plain film view showed : impression : - suspicious right upper lung patch. - increased infiltrations in both lungs. - normal heart size. - atherosclerotic aorta. - scoliosis and djd of spine. - s / p ng and endotracheal tube.']\n",
                        "Labels     : ['chest pa view show : impression : - s / p rll wedge resection. - bilateral lungs metastasis. - left lower lung subsegmental atelectasis. - increased infiltrations in both lungs. - blunting right cp angle. - tortuous atherosclerotic aorta. - scoliosis, djd and osteoporosis of spine. - compression fracture of l1.']\n",
                        "\n"
                    ]
                },
                {
                    "name": "stderr",
                    "output_type": "stream",
                    "text": [
                        "Evaluating: :  30%|███       | 3/10 [00:12<00:29,  4.16s/it]"
                    ]
                },
                {
                    "name": "stdout",
                    "output_type": "stream",
                    "text": [
                        "Names      : ['NLP_CHEST_011']\n",
                        "Predictions: ['chest plain film shows : impression : - increased infiltrations in both lungs. - blunting bilateral cp angles. - cardiomegaly. - atherosclerotic aorta. - djd of spine. s / p fixation in l - spine.']\n",
                        "Labels     : [\"chest ap view showed : 1. s / p sternotomy and cabg. enlarged heart size with tortuous aorta. 2. r't middle and lower lung faint patches. l't lower lung consolidation. l't pleural effusion. 3. no mediastinum widening. 4. s / p endotracheal tube and ng intubation.\"]\n",
                        "\n"
                    ]
                },
                {
                    "name": "stderr",
                    "output_type": "stream",
                    "text": [
                        "Evaluating: :  40%|████      | 4/10 [00:17<00:26,  4.37s/it]"
                    ]
                },
                {
                    "name": "stdout",
                    "output_type": "stream",
                    "text": [
                        "Names      : ['NLP_CHEST_015']\n",
                        "Predictions: ['chest pa view shows : > no obvious lung mass nor consolidation patch. > normal heart size. > no pleural effusion.']\n",
                        "Labels     : ['chest x ray : - no obvious lung mass nor consolidation patch. - normal heart size. - no pleural effusion.']\n",
                        "\n"
                    ]
                },
                {
                    "name": "stderr",
                    "output_type": "stream",
                    "text": [
                        "Evaluating: :  50%|█████     | 5/10 [00:21<00:21,  4.38s/it]"
                    ]
                },
                {
                    "name": "stdout",
                    "output_type": "stream",
                    "text": [
                        "Names      : ['NLP_CHEST_027']\n",
                        "Predictions: ['chest plain film shows : impression : - increased infiltrations in both lungs. - blunting bilateral cp angles. - atherosclerotic aorta. - scoliosis and djd of spine. - s / p fixation in t - l spine.']\n",
                        "Labels     : ['chest pa view : impression : > cardiomegaly with bilateral pulmonary congestion. > postinflammatory fibrosis in both upper lungs. > atherosclerosis of aorta. > old fractures of left 5th and 6th ribs. > r / o osteoporosis. > spondylosis of thoracolumbar spine. > s / p abdominal operation in ruq.']\n",
                        "\n"
                    ]
                },
                {
                    "name": "stderr",
                    "output_type": "stream",
                    "text": [
                        "Evaluating: :  60%|██████    | 6/10 [00:25<00:16,  4.14s/it]"
                    ]
                },
                {
                    "name": "stdout",
                    "output_type": "stream",
                    "text": [
                        "Names      : ['NLP_CHEST_031']\n",
                        "Predictions: ['chest pa view : impression : - increased both lung markings. - compatible with right lung nodules. - fibrotic lesion in left upper lung. - normal heart size. atherosclerotic aorta. - scoliosis and djd of spine. - calcified nodules in left upper abdomen. - s / p rt jugular cvc insertion.']\n",
                        "Labels     : ['chest pa view : impression : - increased both lung markings. - compatible with right lung nodules. - fibrotic lesion in left upper lung. - normal heart size. atherosclerotic aorta. - suspect right pleural effusion. - spondylosis. r / o osteoporosis. - compatible with multiple bony metastases. - s / p ng and endotracheal tube. - s / p lt subclavian port - a - cath.']\n",
                        "\n"
                    ]
                },
                {
                    "name": "stderr",
                    "output_type": "stream",
                    "text": [
                        "Evaluating: :  70%|███████   | 7/10 [00:29<00:12,  4.10s/it]"
                    ]
                },
                {
                    "name": "stdout",
                    "output_type": "stream",
                    "text": [
                        "Names      : ['NLP_CHEST_057']\n",
                        "Predictions: ['chest plain film shows : impression : - increased infiltrations in both lungs. - blunting bilateral cp angles. - cardiomegaly. - atherosclerotic aorta. - djd of spine. s / p fixation in l - spine.']\n",
                        "Labels     : ['chest plain film shows : impression : - increased infiltrations in both lungs. - tortuous atherosclerotic dilated aorta. - normal heart size. - djd of spine. old fracture of right ribs. - increased both lung markings. s / p lt jugular cvc insertion. s / p ng and endotracheal tube. - susp. lt pneumothorax. suspect pneumomediastinum. subcutaneous emphysema in bilateral neck. - s / p bilateral chest tube insertion.']\n",
                        "\n"
                    ]
                },
                {
                    "name": "stderr",
                    "output_type": "stream",
                    "text": [
                        "Evaluating: :  80%|████████  | 8/10 [00:33<00:08,  4.02s/it]"
                    ]
                },
                {
                    "name": "stdout",
                    "output_type": "stream",
                    "text": [
                        "Names      : ['NLP_CHEST_059']\n",
                        "Predictions: ['chest plain film shows : impression : - increased infiltrations in both lungs. - blunting bilateral cp angles. - cardiomegaly. - atherosclerotic aorta. - djd of spine. s / p fixation in l - spine.']\n",
                        "Labels     : ['supine chest ap view shows : pigtail catheter at right lower chest. decreased amount of right pleural effusion. air in the right lower pleural space. poor lung expansion. mild subcutaneous emphysema at right chest wall. right pleural thickening. ill - defined masses at right perihilar region. normal heart size.']\n",
                        "\n"
                    ]
                },
                {
                    "name": "stderr",
                    "output_type": "stream",
                    "text": [
                        "Evaluating: :  90%|█████████ | 9/10 [00:37<00:04,  4.07s/it]"
                    ]
                },
                {
                    "name": "stdout",
                    "output_type": "stream",
                    "text": [
                        "Names      : ['NLP_CHEST_071']\n",
                        "Predictions: ['chest plain film shows : impression : - increased infiltrations in both lungs. - blunting bilateral cp angles. - tortuous atherosclerotic dilated aorta. - cardiomegaly. - scoliosis, djd and osteoporosis of spine.']\n",
                        "Labels     : ['chest film shows : impression : - bilateral lung infiltrations. - suspect right lower lung patch. blunting right cp angle. - tortuous atherosclerotic aorta. - scoliosis, djd and osteoporosis of spine. compression fracture of t12. old fracture of left ribs. - s / p fixation in l - spine. - s / p tracheostomy and ng tube.']\n",
                        "\n"
                    ]
                },
                {
                    "name": "stderr",
                    "output_type": "stream",
                    "text": [
                        "Evaluating: : 100%|██████████| 10/10 [00:41<00:00,  4.15s/it]\n"
                    ]
                },
                {
                    "name": "stdout",
                    "output_type": "stream",
                    "text": [
                        "Names      : ['NLP_CHEST_085']\n",
                        "Predictions: ['chest plain film view showed : impression : - suspicious right upper lung patch. - increased infiltrations in both lungs. - tortuous atherosclerotic dilated aorta. - cardiomegaly. - djd of spine.']\n",
                        "Labels     : ['chest x ray : - right pneumothorax with pleural effusion, status post drainge tube placement. - extensive subcutaneous emphysema from neck to right side thoracic cage. - increased right hilar opacity. - atherosclerosis and tortuous aorta. - obscured bilateral costophrenic angles. - spondylosis and mild scoliosis of thoracolumbar spine. - oa of right glenohumeral joint. - generalized osteopenia.']\n",
                        "\n",
                        "Rouge-2 score : {'Rouge-L-P': 0.11898671928095103, 'Rouge-L-R': 0.0857585742932183, 'Rouge-L-F': 0.0857585742932183, 'Rouge-2-P': 0.07210494535300595, 'Rouge-2-R': 0.052035774938972816, 'Rouge-2-F': 0.052035774938972816}\n"
                    ]
                },
                {
                    "name": "stderr",
                    "output_type": "stream",
                    "text": [
                        "Training Epoch [24 / 50]: 100%|██████████| 89/89 [00:18<00:00,  4.86it/s, loss=0.0789]\n",
                        "Evaluating: :  10%|█         | 1/10 [00:04<00:39,  4.44s/it]"
                    ]
                },
                {
                    "name": "stdout",
                    "output_type": "stream",
                    "text": [
                        "Names      : ['NLP_CHEST_002']\n",
                        "Predictions: ['chest pa view shows : pneumoperitoneum. enlarged heart size with tortuous aorta. enlarged heart size with tortuous aorta.']\n",
                        "Labels     : ['chest pa view shows : partial atelectasis at left lower lung field. left pleural effusion. borderline heart size. atherosclerotic change of aortic knob. s / p port - a implantation via left subclavian vein. intraperitoneal port catheter. surgical clips at ruq of abdomen.']\n",
                        "\n"
                    ]
                },
                {
                    "name": "stderr",
                    "output_type": "stream",
                    "text": [
                        "Evaluating: :  20%|██        | 2/10 [00:08<00:34,  4.27s/it]"
                    ]
                },
                {
                    "name": "stdout",
                    "output_type": "stream",
                    "text": [
                        "Names      : ['NLP_CHEST_004']\n",
                        "Predictions: ['chest plain film shows : impression : - increased infiltrations in both lungs. - blunting bilateral cp angles. elevated right hemidiaphragm. - normal heart size. - djd of spine.']\n",
                        "Labels     : ['chest pa view show : impression : - s / p rll wedge resection. - bilateral lungs metastasis. - left lower lung subsegmental atelectasis. - increased infiltrations in both lungs. - blunting right cp angle. - tortuous atherosclerotic aorta. - scoliosis, djd and osteoporosis of spine. - compression fracture of l1.']\n",
                        "\n"
                    ]
                },
                {
                    "name": "stderr",
                    "output_type": "stream",
                    "text": [
                        "Evaluating: :  30%|███       | 3/10 [00:12<00:28,  4.07s/it]"
                    ]
                },
                {
                    "name": "stdout",
                    "output_type": "stream",
                    "text": [
                        "Names      : ['NLP_CHEST_011']\n",
                        "Predictions: ['chest plain film shows : impression : - increased infiltrations in both lungs. - blunting bilateral cp angles. - cardiomegaly. - atherosclerotic aorta. - djd of spine. - s / p ng and endotracheal tube.']\n",
                        "Labels     : [\"chest ap view showed : 1. s / p sternotomy and cabg. enlarged heart size with tortuous aorta. 2. r't middle and lower lung faint patches. l't lower lung consolidation. l't pleural effusion. 3. no mediastinum widening. 4. s / p endotracheal tube and ng intubation.\"]\n",
                        "\n"
                    ]
                },
                {
                    "name": "stderr",
                    "output_type": "stream",
                    "text": [
                        "Evaluating: :  40%|████      | 4/10 [00:15<00:22,  3.78s/it]"
                    ]
                },
                {
                    "name": "stdout",
                    "output_type": "stream",
                    "text": [
                        "Names      : ['NLP_CHEST_015']\n",
                        "Predictions: ['chest pa view shows : > no obvious lung mass nor consolidation patch. > normal heart size. > no pleural effusion.']\n",
                        "Labels     : ['chest x ray : - no obvious lung mass nor consolidation patch. - normal heart size. - no pleural effusion.']\n",
                        "\n"
                    ]
                },
                {
                    "name": "stderr",
                    "output_type": "stream",
                    "text": [
                        "Evaluating: :  50%|█████     | 5/10 [00:19<00:18,  3.79s/it]"
                    ]
                },
                {
                    "name": "stdout",
                    "output_type": "stream",
                    "text": [
                        "Names      : ['NLP_CHEST_027']\n",
                        "Predictions: ['chest plain film shows : impression : - increased both lung markings. - blunting bilateral cp angles. - cardiomegaly. - atherosclerotic aorta. - scoliosis, djd and osteoporosis of spine. - s / p lt subclavian port - a - cath.']\n",
                        "Labels     : ['chest pa view : impression : > cardiomegaly with bilateral pulmonary congestion. > postinflammatory fibrosis in both upper lungs. > atherosclerosis of aorta. > old fractures of left 5th and 6th ribs. > r / o osteoporosis. > spondylosis of thoracolumbar spine. > s / p abdominal operation in ruq.']\n",
                        "\n"
                    ]
                },
                {
                    "name": "stderr",
                    "output_type": "stream",
                    "text": [
                        "Evaluating: :  60%|██████    | 6/10 [00:23<00:14,  3.68s/it]"
                    ]
                },
                {
                    "name": "stdout",
                    "output_type": "stream",
                    "text": [
                        "Names      : ['NLP_CHEST_031']\n",
                        "Predictions: ['chest pa view : impression : - increased both lung markings. - compatible with right lung nodules. - fibrotic lesion in left upper lung. - normal heart size. atherosclerotic aorta. - spondylosis of spine. - s / p ng and endotracheal tube. s / p rt jugular cvc insertion.']\n",
                        "Labels     : ['chest pa view : impression : - increased both lung markings. - compatible with right lung nodules. - fibrotic lesion in left upper lung. - normal heart size. atherosclerotic aorta. - suspect right pleural effusion. - spondylosis. r / o osteoporosis. - compatible with multiple bony metastases. - s / p ng and endotracheal tube. - s / p lt subclavian port - a - cath.']\n",
                        "\n"
                    ]
                },
                {
                    "name": "stderr",
                    "output_type": "stream",
                    "text": [
                        "Evaluating: :  70%|███████   | 7/10 [00:26<00:10,  3.54s/it]"
                    ]
                },
                {
                    "name": "stdout",
                    "output_type": "stream",
                    "text": [
                        "Names      : ['NLP_CHEST_057']\n",
                        "Predictions: ['chest plain film shows : impression : - increased both lung markings. - blunting bilateral cp angles. - cardiomegaly. - atherosclerotic aorta. - spondylosis. - s / p ng and endotracheal tube. - s / p rt jugular cvc insertion.']\n",
                        "Labels     : ['chest plain film shows : impression : - increased infiltrations in both lungs. - tortuous atherosclerotic dilated aorta. - normal heart size. - djd of spine. old fracture of right ribs. - increased both lung markings. s / p lt jugular cvc insertion. s / p ng and endotracheal tube. - susp. lt pneumothorax. suspect pneumomediastinum. subcutaneous emphysema in bilateral neck. - s / p bilateral chest tube insertion.']\n",
                        "\n"
                    ]
                },
                {
                    "name": "stderr",
                    "output_type": "stream",
                    "text": [
                        "Evaluating: :  80%|████████  | 8/10 [00:30<00:07,  3.76s/it]"
                    ]
                },
                {
                    "name": "stdout",
                    "output_type": "stream",
                    "text": [
                        "Names      : ['NLP_CHEST_059']\n",
                        "Predictions: ['']\n",
                        "Labels     : ['supine chest ap view shows : pigtail catheter at right lower chest. decreased amount of right pleural effusion. air in the right lower pleural space. poor lung expansion. mild subcutaneous emphysema at right chest wall. right pleural thickening. ill - defined masses at right perihilar region. normal heart size.']\n",
                        "\n"
                    ]
                },
                {
                    "name": "stderr",
                    "output_type": "stream",
                    "text": [
                        "Evaluating: :  90%|█████████ | 9/10 [00:33<00:03,  3.59s/it]"
                    ]
                },
                {
                    "name": "stdout",
                    "output_type": "stream",
                    "text": [
                        "Names      : ['NLP_CHEST_071']\n",
                        "Predictions: ['chest plain film shows : impression : - increased infiltrations in both lungs. - tortuous atherosclerotic dilated aorta. - cardiomegaly. - scoliosis, djd of spine. - s / p ng and endotracheal tube.']\n",
                        "Labels     : ['chest film shows : impression : - bilateral lung infiltrations. - suspect right lower lung patch. blunting right cp angle. - tortuous atherosclerotic aorta. - scoliosis, djd and osteoporosis of spine. compression fracture of t12. old fracture of left ribs. - s / p fixation in l - spine. - s / p tracheostomy and ng tube.']\n",
                        "\n"
                    ]
                },
                {
                    "name": "stderr",
                    "output_type": "stream",
                    "text": [
                        "Evaluating: : 100%|██████████| 10/10 [00:37<00:00,  3.76s/it]\n"
                    ]
                },
                {
                    "name": "stdout",
                    "output_type": "stream",
                    "text": [
                        "Names      : ['NLP_CHEST_085']\n",
                        "Predictions: ['chest plain film shows : impression : - increased infiltrations in both lungs. - blunting bilateral cp angles. elevated right hemidiaphragm. - normal heart size. - djd of spine.']\n",
                        "Labels     : ['chest x ray : - right pneumothorax with pleural effusion, status post drainge tube placement. - extensive subcutaneous emphysema from neck to right side thoracic cage. - increased right hilar opacity. - atherosclerosis and tortuous aorta. - obscured bilateral costophrenic angles. - spondylosis and mild scoliosis of thoracolumbar spine. - oa of right glenohumeral joint. - generalized osteopenia.']\n",
                        "\n",
                        "Rouge-2 score : {'Rouge-L-P': 0.13366204686427757, 'Rouge-L-R': 0.09560486979270448, 'Rouge-L-F': 0.09560486979270448, 'Rouge-2-P': 0.08267391462701927, 'Rouge-2-R': 0.05913227190336322, 'Rouge-2-F': 0.05913227190336322}\n"
                    ]
                },
                {
                    "name": "stderr",
                    "output_type": "stream",
                    "text": [
                        "Training Epoch [25 / 50]: 100%|██████████| 89/89 [00:18<00:00,  4.91it/s, loss=0.0725]\n",
                        "Evaluating: :  10%|█         | 1/10 [00:03<00:27,  3.05s/it]"
                    ]
                },
                {
                    "name": "stdout",
                    "output_type": "stream",
                    "text": [
                        "Names      : ['NLP_CHEST_002']\n",
                        "Predictions: ['']\n",
                        "Labels     : ['chest pa view shows : partial atelectasis at left lower lung field. left pleural effusion. borderline heart size. atherosclerotic change of aortic knob. s / p port - a implantation via left subclavian vein. intraperitoneal port catheter. surgical clips at ruq of abdomen.']\n",
                        "\n"
                    ]
                },
                {
                    "name": "stderr",
                    "output_type": "stream",
                    "text": [
                        "Evaluating: :  20%|██        | 2/10 [00:07<00:30,  3.79s/it]"
                    ]
                },
                {
                    "name": "stdout",
                    "output_type": "stream",
                    "text": [
                        "Names      : ['NLP_CHEST_004']\n",
                        "Predictions: ['']\n",
                        "Labels     : ['chest pa view show : impression : - s / p rll wedge resection. - bilateral lungs metastasis. - left lower lung subsegmental atelectasis. - increased infiltrations in both lungs. - blunting right cp angle. - tortuous atherosclerotic aorta. - scoliosis, djd and osteoporosis of spine. - compression fracture of l1.']\n",
                        "\n"
                    ]
                },
                {
                    "name": "stderr",
                    "output_type": "stream",
                    "text": [
                        "Evaluating: :  30%|███       | 3/10 [00:12<00:30,  4.32s/it]"
                    ]
                },
                {
                    "name": "stdout",
                    "output_type": "stream",
                    "text": [
                        "Names      : ['NLP_CHEST_011']\n",
                        "Predictions: ['']\n",
                        "Labels     : [\"chest ap view showed : 1. s / p sternotomy and cabg. enlarged heart size with tortuous aorta. 2. r't middle and lower lung faint patches. l't lower lung consolidation. l't pleural effusion. 3. no mediastinum widening. 4. s / p endotracheal tube and ng intubation.\"]\n",
                        "\n"
                    ]
                },
                {
                    "name": "stderr",
                    "output_type": "stream",
                    "text": [
                        "Evaluating: :  40%|████      | 4/10 [00:16<00:26,  4.38s/it]"
                    ]
                },
                {
                    "name": "stdout",
                    "output_type": "stream",
                    "text": [
                        "Names      : ['NLP_CHEST_015']\n",
                        "Predictions: ['']\n",
                        "Labels     : ['chest x ray : - no obvious lung mass nor consolidation patch. - normal heart size. - no pleural effusion.']\n",
                        "\n"
                    ]
                },
                {
                    "name": "stderr",
                    "output_type": "stream",
                    "text": [
                        "Evaluating: :  50%|█████     | 5/10 [00:19<00:19,  3.93s/it]"
                    ]
                },
                {
                    "name": "stdout",
                    "output_type": "stream",
                    "text": [
                        "Names      : ['NLP_CHEST_027']\n",
                        "Predictions: ['']\n",
                        "Labels     : ['chest pa view : impression : > cardiomegaly with bilateral pulmonary congestion. > postinflammatory fibrosis in both upper lungs. > atherosclerosis of aorta. > old fractures of left 5th and 6th ribs. > r / o osteoporosis. > spondylosis of thoracolumbar spine. > s / p abdominal operation in ruq.']\n",
                        "\n"
                    ]
                },
                {
                    "name": "stderr",
                    "output_type": "stream",
                    "text": [
                        "Evaluating: :  60%|██████    | 6/10 [00:24<00:16,  4.05s/it]"
                    ]
                },
                {
                    "name": "stdout",
                    "output_type": "stream",
                    "text": [
                        "Names      : ['NLP_CHEST_031']\n",
                        "Predictions: ['']\n",
                        "Labels     : ['chest pa view : impression : - increased both lung markings. - compatible with right lung nodules. - fibrotic lesion in left upper lung. - normal heart size. atherosclerotic aorta. - suspect right pleural effusion. - spondylosis. r / o osteoporosis. - compatible with multiple bony metastases. - s / p ng and endotracheal tube. - s / p lt subclavian port - a - cath.']\n",
                        "\n"
                    ]
                },
                {
                    "name": "stderr",
                    "output_type": "stream",
                    "text": [
                        "Evaluating: :  70%|███████   | 7/10 [00:27<00:11,  3.81s/it]"
                    ]
                },
                {
                    "name": "stdout",
                    "output_type": "stream",
                    "text": [
                        "Names      : ['NLP_CHEST_057']\n",
                        "Predictions: ['']\n",
                        "Labels     : ['chest plain film shows : impression : - increased infiltrations in both lungs. - tortuous atherosclerotic dilated aorta. - normal heart size. - djd of spine. old fracture of right ribs. - increased both lung markings. s / p lt jugular cvc insertion. s / p ng and endotracheal tube. - susp. lt pneumothorax. suspect pneumomediastinum. subcutaneous emphysema in bilateral neck. - s / p bilateral chest tube insertion.']\n",
                        "\n"
                    ]
                },
                {
                    "name": "stderr",
                    "output_type": "stream",
                    "text": [
                        "Evaluating: :  80%|████████  | 8/10 [00:31<00:07,  3.78s/it]"
                    ]
                },
                {
                    "name": "stdout",
                    "output_type": "stream",
                    "text": [
                        "Names      : ['NLP_CHEST_059']\n",
                        "Predictions: ['']\n",
                        "Labels     : ['supine chest ap view shows : pigtail catheter at right lower chest. decreased amount of right pleural effusion. air in the right lower pleural space. poor lung expansion. mild subcutaneous emphysema at right chest wall. right pleural thickening. ill - defined masses at right perihilar region. normal heart size.']\n",
                        "\n"
                    ]
                },
                {
                    "name": "stderr",
                    "output_type": "stream",
                    "text": [
                        "Evaluating: :  90%|█████████ | 9/10 [00:35<00:03,  3.90s/it]"
                    ]
                },
                {
                    "name": "stdout",
                    "output_type": "stream",
                    "text": [
                        "Names      : ['NLP_CHEST_071']\n",
                        "Predictions: ['']\n",
                        "Labels     : ['chest film shows : impression : - bilateral lung infiltrations. - suspect right lower lung patch. blunting right cp angle. - tortuous atherosclerotic aorta. - scoliosis, djd and osteoporosis of spine. compression fracture of t12. old fracture of left ribs. - s / p fixation in l - spine. - s / p tracheostomy and ng tube.']\n",
                        "\n"
                    ]
                },
                {
                    "name": "stderr",
                    "output_type": "stream",
                    "text": [
                        "Evaluating: : 100%|██████████| 10/10 [00:37<00:00,  3.80s/it]\n"
                    ]
                },
                {
                    "name": "stdout",
                    "output_type": "stream",
                    "text": [
                        "Names      : ['NLP_CHEST_085']\n",
                        "Predictions: ['']\n",
                        "Labels     : ['chest x ray : - right pneumothorax with pleural effusion, status post drainge tube placement. - extensive subcutaneous emphysema from neck to right side thoracic cage. - increased right hilar opacity. - atherosclerosis and tortuous aorta. - obscured bilateral costophrenic angles. - spondylosis and mild scoliosis of thoracolumbar spine. - oa of right glenohumeral joint. - generalized osteopenia.']\n",
                        "\n",
                        "Rouge-2 score : {'Rouge-L-P': 0.12831556498970648, 'Rouge-L-R': 0.09178067500099629, 'Rouge-L-F': 0.09178067500099629, 'Rouge-2-P': 0.07936695804193851, 'Rouge-2-R': 0.056766981027228686, 'Rouge-2-F': 0.056766981027228686}\n"
                    ]
                },
                {
                    "name": "stderr",
                    "output_type": "stream",
                    "text": [
                        "Training Epoch [26 / 50]: 100%|██████████| 89/89 [00:14<00:00,  6.02it/s, loss=0.0669]\n",
                        "Evaluating: :  10%|█         | 1/10 [00:03<00:30,  3.40s/it]"
                    ]
                },
                {
                    "name": "stdout",
                    "output_type": "stream",
                    "text": [
                        "Names      : ['NLP_CHEST_002']\n",
                        "Predictions: ['chest plain film view showed : impression : - increased both lung markings. - blunting left cp angle. - the mediastinum is not widened. - normal heart size. - atherosclerotic aorta. - djd of spine. mild scoliosis of spine. - s / p fixation in l - spine.']\n",
                        "Labels     : ['chest pa view shows : partial atelectasis at left lower lung field. left pleural effusion. borderline heart size. atherosclerotic change of aortic knob. s / p port - a implantation via left subclavian vein. intraperitoneal port catheter. surgical clips at ruq of abdomen.']\n",
                        "\n"
                    ]
                },
                {
                    "name": "stderr",
                    "output_type": "stream",
                    "text": [
                        "Evaluating: :  20%|██        | 2/10 [00:05<00:23,  2.88s/it]"
                    ]
                },
                {
                    "name": "stdout",
                    "output_type": "stream",
                    "text": [
                        "Names      : ['NLP_CHEST_004']\n",
                        "Predictions: ['chest plain film view showed : impression : - suspicious right middle lung nodule. - increased infiltrates in both lungs. - blunting bilateral cp angles. - normal heart size. atherosclerotic aorta. - scoliosis, djd and osteoporosis of spine. - compression fracture of t - l spine.']\n",
                        "Labels     : ['chest pa view show : impression : - s / p rll wedge resection. - bilateral lungs metastasis. - left lower lung subsegmental atelectasis. - increased infiltrations in both lungs. - blunting right cp angle. - tortuous atherosclerotic aorta. - scoliosis, djd and osteoporosis of spine. - compression fracture of l1.']\n",
                        "\n"
                    ]
                },
                {
                    "name": "stderr",
                    "output_type": "stream",
                    "text": [
                        "Evaluating: :  30%|███       | 3/10 [00:08<00:20,  2.90s/it]"
                    ]
                },
                {
                    "name": "stdout",
                    "output_type": "stream",
                    "text": [
                        "Names      : ['NLP_CHEST_011']\n",
                        "Predictions: ['chest plain film shows : impression : - increased infiltrations in both lungs. - blunting bilateral cp angles. - cardiomegaly. - atherosclerotic aorta. - djd of spine. s / p fixation in l - spine. - s / p rt subclavian cvc insertion.']\n",
                        "Labels     : [\"chest ap view showed : 1. s / p sternotomy and cabg. enlarged heart size with tortuous aorta. 2. r't middle and lower lung faint patches. l't lower lung consolidation. l't pleural effusion. 3. no mediastinum widening. 4. s / p endotracheal tube and ng intubation.\"]\n",
                        "\n"
                    ]
                },
                {
                    "name": "stderr",
                    "output_type": "stream",
                    "text": [
                        "Evaluating: :  40%|████      | 4/10 [00:11<00:17,  2.92s/it]"
                    ]
                },
                {
                    "name": "stdout",
                    "output_type": "stream",
                    "text": [
                        "Names      : ['NLP_CHEST_015']\n",
                        "Predictions: ['chest pa view shows : > no obvious lung mass nor consolidation patch. > normal heart size. > no pleural effusion.']\n",
                        "Labels     : ['chest x ray : - no obvious lung mass nor consolidation patch. - normal heart size. - no pleural effusion.']\n",
                        "\n"
                    ]
                },
                {
                    "name": "stderr",
                    "output_type": "stream",
                    "text": [
                        "Evaluating: :  50%|█████     | 5/10 [00:14<00:14,  2.88s/it]"
                    ]
                },
                {
                    "name": "stdout",
                    "output_type": "stream",
                    "text": [
                        "Names      : ['NLP_CHEST_027']\n",
                        "Predictions: ['chest plain film shows : impression : - increased infiltrates in both lungs. - blunting bilateral cp angles. - cardiomegaly. - atherosclerosis of aorta. - scoliosis and djd of spine. - bilateral apical pleural thickening.']\n",
                        "Labels     : ['chest pa view : impression : > cardiomegaly with bilateral pulmonary congestion. > postinflammatory fibrosis in both upper lungs. > atherosclerosis of aorta. > old fractures of left 5th and 6th ribs. > r / o osteoporosis. > spondylosis of thoracolumbar spine. > s / p abdominal operation in ruq.']\n",
                        "\n"
                    ]
                },
                {
                    "name": "stderr",
                    "output_type": "stream",
                    "text": [
                        "Evaluating: :  60%|██████    | 6/10 [00:17<00:12,  3.03s/it]"
                    ]
                },
                {
                    "name": "stdout",
                    "output_type": "stream",
                    "text": [
                        "Names      : ['NLP_CHEST_031']\n",
                        "Predictions: ['chest pa view : impression : - increased both lung markings. - compatible with right lung nodules. - fibrotic lesion in left upper lung. - normal heart size. atherosclerotic aorta. - suspect right pleural effusion. - spondylosis. r / o osteoporosis. - compatible with multiple bony metastases. - s / p ng and endotracheal tube. - s / p lt subclavian port - a - cath.']\n",
                        "Labels     : ['chest pa view : impression : - increased both lung markings. - compatible with right lung nodules. - fibrotic lesion in left upper lung. - normal heart size. atherosclerotic aorta. - suspect right pleural effusion. - spondylosis. r / o osteoporosis. - compatible with multiple bony metastases. - s / p ng and endotracheal tube. - s / p lt subclavian port - a - cath.']\n",
                        "\n"
                    ]
                },
                {
                    "name": "stderr",
                    "output_type": "stream",
                    "text": [
                        "Evaluating: :  70%|███████   | 7/10 [00:22<00:10,  3.50s/it]"
                    ]
                },
                {
                    "name": "stdout",
                    "output_type": "stream",
                    "text": [
                        "Names      : ['NLP_CHEST_057']\n",
                        "Predictions: ['chest plain film view showed : impression : - suspicious pulmonary edema. superimposed pneumonia cannot be excluded. - elevated right hemidiaphragm. - normal heart size. atherosclerotic aorta. - spondylosis of spine. - s / p lt subclavian port - a - cath.']\n",
                        "Labels     : ['chest plain film shows : impression : - increased infiltrations in both lungs. - tortuous atherosclerotic dilated aorta. - normal heart size. - djd of spine. old fracture of right ribs. - increased both lung markings. s / p lt jugular cvc insertion. s / p ng and endotracheal tube. - susp. lt pneumothorax. suspect pneumomediastinum. subcutaneous emphysema in bilateral neck. - s / p bilateral chest tube insertion.']\n",
                        "\n"
                    ]
                },
                {
                    "name": "stderr",
                    "output_type": "stream",
                    "text": [
                        "Evaluating: :  80%|████████  | 8/10 [00:25<00:06,  3.44s/it]"
                    ]
                },
                {
                    "name": "stdout",
                    "output_type": "stream",
                    "text": [
                        "Names      : ['NLP_CHEST_059']\n",
                        "Predictions: ['chest plain film shows : impression : - increased infiltrations in both lungs. - blunting bilateral cp angles. elevated right hemidiaphragm. - normal heart size. atherosclerotic aorta. - spondylosis of thoracolumbar spine. compression fracture of t9 and t11. - s / p lt jugular cvc insertion.']\n",
                        "Labels     : ['supine chest ap view shows : pigtail catheter at right lower chest. decreased amount of right pleural effusion. air in the right lower pleural space. poor lung expansion. mild subcutaneous emphysema at right chest wall. right pleural thickening. ill - defined masses at right perihilar region. normal heart size.']\n",
                        "\n"
                    ]
                },
                {
                    "name": "stderr",
                    "output_type": "stream",
                    "text": [
                        "Evaluating: :  90%|█████████ | 9/10 [00:29<00:03,  3.45s/it]"
                    ]
                },
                {
                    "name": "stdout",
                    "output_type": "stream",
                    "text": [
                        "Names      : ['NLP_CHEST_071']\n",
                        "Predictions: ['chest plain film shows : impression : - increased infiltrations in both lungs. - blunting bilateral cp angles. - cardiomegaly. - atherosclerotic aorta. - scoliosis and djd of spine. - s / p lt subclavian port - a - cath.']\n",
                        "Labels     : ['chest film shows : impression : - bilateral lung infiltrations. - suspect right lower lung patch. blunting right cp angle. - tortuous atherosclerotic aorta. - scoliosis, djd and osteoporosis of spine. compression fracture of t12. old fracture of left ribs. - s / p fixation in l - spine. - s / p tracheostomy and ng tube.']\n",
                        "\n"
                    ]
                },
                {
                    "name": "stderr",
                    "output_type": "stream",
                    "text": [
                        "Evaluating: : 100%|██████████| 10/10 [00:34<00:00,  3.41s/it]\n"
                    ]
                },
                {
                    "name": "stdout",
                    "output_type": "stream",
                    "text": [
                        "Names      : ['NLP_CHEST_085']\n",
                        "Predictions: ['chest plain film view showed : impression : - suspicious right middle lung nodule. - increased infiltrates in both lungs. - blunting bilateral cp angles. - normal heart size. atherosclerotic aorta. - djd of spine. mild scoliosis of spine. - s / p ng and endotracheal tube.']\n",
                        "Labels     : ['chest x ray : - right pneumothorax with pleural effusion, status post drainge tube placement. - extensive subcutaneous emphysema from neck to right side thoracic cage. - increased right hilar opacity. - atherosclerosis and tortuous aorta. - obscured bilateral costophrenic angles. - spondylosis and mild scoliosis of thoracolumbar spine. - oa of right glenohumeral joint. - generalized osteopenia.']\n",
                        "\n",
                        "Rouge-2 score : {'Rouge-L-P': 0.14179050305616783, 'Rouge-L-R': 0.10447953206456144, 'Rouge-L-F': 0.10447953206456144, 'Rouge-2-P': 0.08830887293448927, 'Rouge-2-R': 0.06533036310652154, 'Rouge-2-F': 0.06533036310652154}\n"
                    ]
                },
                {
                    "name": "stderr",
                    "output_type": "stream",
                    "text": [
                        "Training Epoch [27 / 50]: 100%|██████████| 89/89 [00:15<00:00,  5.62it/s, loss=0.0614]\n",
                        "Evaluating: :  10%|█         | 1/10 [00:02<00:21,  2.35s/it]"
                    ]
                },
                {
                    "name": "stdout",
                    "output_type": "stream",
                    "text": [
                        "Names      : ['NLP_CHEST_002']\n",
                        "Predictions: ['']\n",
                        "Labels     : ['chest pa view shows : partial atelectasis at left lower lung field. left pleural effusion. borderline heart size. atherosclerotic change of aortic knob. s / p port - a implantation via left subclavian vein. intraperitoneal port catheter. surgical clips at ruq of abdomen.']\n",
                        "\n"
                    ]
                },
                {
                    "name": "stderr",
                    "output_type": "stream",
                    "text": [
                        "Evaluating: :  20%|██        | 2/10 [00:04<00:19,  2.40s/it]"
                    ]
                },
                {
                    "name": "stdout",
                    "output_type": "stream",
                    "text": [
                        "Names      : ['NLP_CHEST_004']\n",
                        "Predictions: ['']\n",
                        "Labels     : ['chest pa view show : impression : - s / p rll wedge resection. - bilateral lungs metastasis. - left lower lung subsegmental atelectasis. - increased infiltrations in both lungs. - blunting right cp angle. - tortuous atherosclerotic aorta. - scoliosis, djd and osteoporosis of spine. - compression fracture of l1.']\n",
                        "\n"
                    ]
                },
                {
                    "name": "stderr",
                    "output_type": "stream",
                    "text": [
                        "Evaluating: :  30%|███       | 3/10 [00:07<00:16,  2.37s/it]"
                    ]
                },
                {
                    "name": "stdout",
                    "output_type": "stream",
                    "text": [
                        "Names      : ['NLP_CHEST_011']\n",
                        "Predictions: ['']\n",
                        "Labels     : [\"chest ap view showed : 1. s / p sternotomy and cabg. enlarged heart size with tortuous aorta. 2. r't middle and lower lung faint patches. l't lower lung consolidation. l't pleural effusion. 3. no mediastinum widening. 4. s / p endotracheal tube and ng intubation.\"]\n",
                        "\n"
                    ]
                },
                {
                    "name": "stderr",
                    "output_type": "stream",
                    "text": [
                        "Evaluating: :  40%|████      | 4/10 [00:09<00:14,  2.38s/it]"
                    ]
                },
                {
                    "name": "stdout",
                    "output_type": "stream",
                    "text": [
                        "Names      : ['NLP_CHEST_015']\n",
                        "Predictions: ['']\n",
                        "Labels     : ['chest x ray : - no obvious lung mass nor consolidation patch. - normal heart size. - no pleural effusion.']\n",
                        "\n"
                    ]
                },
                {
                    "name": "stderr",
                    "output_type": "stream",
                    "text": [
                        "Evaluating: :  50%|█████     | 5/10 [00:12<00:13,  2.61s/it]"
                    ]
                },
                {
                    "name": "stdout",
                    "output_type": "stream",
                    "text": [
                        "Names      : ['NLP_CHEST_027']\n",
                        "Predictions: ['']\n",
                        "Labels     : ['chest pa view : impression : > cardiomegaly with bilateral pulmonary congestion. > postinflammatory fibrosis in both upper lungs. > atherosclerosis of aorta. > old fractures of left 5th and 6th ribs. > r / o osteoporosis. > spondylosis of thoracolumbar spine. > s / p abdominal operation in ruq.']\n",
                        "\n"
                    ]
                },
                {
                    "name": "stderr",
                    "output_type": "stream",
                    "text": [
                        "Evaluating: :  60%|██████    | 6/10 [00:15<00:10,  2.61s/it]"
                    ]
                },
                {
                    "name": "stdout",
                    "output_type": "stream",
                    "text": [
                        "Names      : ['NLP_CHEST_031']\n",
                        "Predictions: ['']\n",
                        "Labels     : ['chest pa view : impression : - increased both lung markings. - compatible with right lung nodules. - fibrotic lesion in left upper lung. - normal heart size. atherosclerotic aorta. - suspect right pleural effusion. - spondylosis. r / o osteoporosis. - compatible with multiple bony metastases. - s / p ng and endotracheal tube. - s / p lt subclavian port - a - cath.']\n",
                        "\n"
                    ]
                },
                {
                    "name": "stderr",
                    "output_type": "stream",
                    "text": [
                        "Evaluating: :  70%|███████   | 7/10 [00:17<00:07,  2.48s/it]"
                    ]
                },
                {
                    "name": "stdout",
                    "output_type": "stream",
                    "text": [
                        "Names      : ['NLP_CHEST_057']\n",
                        "Predictions: ['']\n",
                        "Labels     : ['chest plain film shows : impression : - increased infiltrations in both lungs. - tortuous atherosclerotic dilated aorta. - normal heart size. - djd of spine. old fracture of right ribs. - increased both lung markings. s / p lt jugular cvc insertion. s / p ng and endotracheal tube. - susp. lt pneumothorax. suspect pneumomediastinum. subcutaneous emphysema in bilateral neck. - s / p bilateral chest tube insertion.']\n",
                        "\n"
                    ]
                },
                {
                    "name": "stderr",
                    "output_type": "stream",
                    "text": [
                        "Evaluating: :  80%|████████  | 8/10 [00:19<00:04,  2.41s/it]"
                    ]
                },
                {
                    "name": "stdout",
                    "output_type": "stream",
                    "text": [
                        "Names      : ['NLP_CHEST_059']\n",
                        "Predictions: ['']\n",
                        "Labels     : ['supine chest ap view shows : pigtail catheter at right lower chest. decreased amount of right pleural effusion. air in the right lower pleural space. poor lung expansion. mild subcutaneous emphysema at right chest wall. right pleural thickening. ill - defined masses at right perihilar region. normal heart size.']\n",
                        "\n"
                    ]
                },
                {
                    "name": "stderr",
                    "output_type": "stream",
                    "text": [
                        "Evaluating: :  90%|█████████ | 9/10 [00:22<00:02,  2.46s/it]"
                    ]
                },
                {
                    "name": "stdout",
                    "output_type": "stream",
                    "text": [
                        "Names      : ['NLP_CHEST_071']\n",
                        "Predictions: ['']\n",
                        "Labels     : ['chest film shows : impression : - bilateral lung infiltrations. - suspect right lower lung patch. blunting right cp angle. - tortuous atherosclerotic aorta. - scoliosis, djd and osteoporosis of spine. compression fracture of t12. old fracture of left ribs. - s / p fixation in l - spine. - s / p tracheostomy and ng tube.']\n",
                        "\n"
                    ]
                },
                {
                    "name": "stderr",
                    "output_type": "stream",
                    "text": [
                        "Evaluating: : 100%|██████████| 10/10 [00:24<00:00,  2.46s/it]\n"
                    ]
                },
                {
                    "name": "stdout",
                    "output_type": "stream",
                    "text": [
                        "Names      : ['NLP_CHEST_085']\n",
                        "Predictions: ['']\n",
                        "Labels     : ['chest x ray : - right pneumothorax with pleural effusion, status post drainge tube placement. - extensive subcutaneous emphysema from neck to right side thoracic cage. - increased right hilar opacity. - atherosclerosis and tortuous aorta. - obscured bilateral costophrenic angles. - spondylosis and mild scoliosis of thoracolumbar spine. - oa of right glenohumeral joint. - generalized osteopenia.']\n",
                        "\n",
                        "Rouge-2 score : {'Rouge-L-P': 0.13653900294297644, 'Rouge-L-R': 0.10060991976587398, 'Rouge-L-F': 0.10060991976587398, 'Rouge-2-P': 0.08503817393691561, 'Rouge-2-R': 0.06291072002850222, 'Rouge-2-F': 0.06291072002850222}\n"
                    ]
                },
                {
                    "name": "stderr",
                    "output_type": "stream",
                    "text": [
                        "Training Epoch [28 / 50]: 100%|██████████| 89/89 [00:14<00:00,  5.97it/s, loss=0.0548]\n",
                        "Evaluating: :  10%|█         | 1/10 [00:02<00:23,  2.66s/it]"
                    ]
                },
                {
                    "name": "stdout",
                    "output_type": "stream",
                    "text": [
                        "Names      : ['NLP_CHEST_002']\n",
                        "Predictions: ['chest pa view shows : impression : > increased bilateral lung markings. > blunting bilateral cp angles. > the heart shadow is enlarged. > the aortic shadow is atherosclerotic and tortuous.']\n",
                        "Labels     : ['chest pa view shows : partial atelectasis at left lower lung field. left pleural effusion. borderline heart size. atherosclerotic change of aortic knob. s / p port - a implantation via left subclavian vein. intraperitoneal port catheter. surgical clips at ruq of abdomen.']\n",
                        "\n"
                    ]
                },
                {
                    "name": "stderr",
                    "output_type": "stream",
                    "text": [
                        "Evaluating: :  20%|██        | 2/10 [00:05<00:21,  2.70s/it]"
                    ]
                },
                {
                    "name": "stdout",
                    "output_type": "stream",
                    "text": [
                        "Names      : ['NLP_CHEST_004']\n",
                        "Predictions: ['chest plain film view showed : impression : - suspicious right upper lung nodule. - increased infiltrations in both lungs. - suspicious right upper lung patch. blunting bilateral cp angles. - normal heart size. scoliosis and djd of spine. - s / p lt subclavian port - a - cath.']\n",
                        "Labels     : ['chest pa view show : impression : - s / p rll wedge resection. - bilateral lungs metastasis. - left lower lung subsegmental atelectasis. - increased infiltrations in both lungs. - blunting right cp angle. - tortuous atherosclerotic aorta. - scoliosis, djd and osteoporosis of spine. - compression fracture of l1.']\n",
                        "\n"
                    ]
                },
                {
                    "name": "stderr",
                    "output_type": "stream",
                    "text": [
                        "Evaluating: :  30%|███       | 3/10 [00:07<00:17,  2.53s/it]"
                    ]
                },
                {
                    "name": "stdout",
                    "output_type": "stream",
                    "text": [
                        "Names      : ['NLP_CHEST_011']\n",
                        "Predictions: [\"chest ap view showed : 1. enlarged heart size with tortuous aorta. 2. bilateral lung reticulonodular infiltrations. r't upper and middle lung faint patches. mild l't pleural effusion. 3. no mediastinum widening. 4. s / p endotracheal tube and ng intubation. s / p r't jugular cvp.\"]\n",
                        "Labels     : [\"chest ap view showed : 1. s / p sternotomy and cabg. enlarged heart size with tortuous aorta. 2. r't middle and lower lung faint patches. l't lower lung consolidation. l't pleural effusion. 3. no mediastinum widening. 4. s / p endotracheal tube and ng intubation.\"]\n",
                        "\n"
                    ]
                },
                {
                    "name": "stderr",
                    "output_type": "stream",
                    "text": [
                        "Evaluating: :  40%|████      | 4/10 [00:10<00:14,  2.46s/it]"
                    ]
                },
                {
                    "name": "stdout",
                    "output_type": "stream",
                    "text": [
                        "Names      : ['NLP_CHEST_015']\n",
                        "Predictions: ['chest pa view shows : > no obvious lung mass nor consolidation patch. > normal heart size. > no pleural effusion.']\n",
                        "Labels     : ['chest x ray : - no obvious lung mass nor consolidation patch. - normal heart size. - no pleural effusion.']\n",
                        "\n"
                    ]
                },
                {
                    "name": "stderr",
                    "output_type": "stream",
                    "text": [
                        "Evaluating: :  50%|█████     | 5/10 [00:12<00:12,  2.46s/it]"
                    ]
                },
                {
                    "name": "stdout",
                    "output_type": "stream",
                    "text": [
                        "Names      : ['NLP_CHEST_027']\n",
                        "Predictions: ['']\n",
                        "Labels     : ['chest pa view : impression : > cardiomegaly with bilateral pulmonary congestion. > postinflammatory fibrosis in both upper lungs. > atherosclerosis of aorta. > old fractures of left 5th and 6th ribs. > r / o osteoporosis. > spondylosis of thoracolumbar spine. > s / p abdominal operation in ruq.']\n",
                        "\n"
                    ]
                },
                {
                    "name": "stderr",
                    "output_type": "stream",
                    "text": [
                        "Evaluating: :  60%|██████    | 6/10 [00:14<00:09,  2.39s/it]"
                    ]
                },
                {
                    "name": "stdout",
                    "output_type": "stream",
                    "text": [
                        "Names      : ['NLP_CHEST_031']\n",
                        "Predictions: ['chest pa view : impression : - increased both lung markings. - compatible with right lung nodules. - fibrotic lesion in left upper lung. - normal heart size. atherosclerotic aorta. - suspect right pleural effusion. - spondylosis. r / o osteoporosis. - compatible with multiple bony metastases. - s / p ng and endotracheal tube. - s / p lt subclavian port - a - cath.']\n",
                        "Labels     : ['chest pa view : impression : - increased both lung markings. - compatible with right lung nodules. - fibrotic lesion in left upper lung. - normal heart size. atherosclerotic aorta. - suspect right pleural effusion. - spondylosis. r / o osteoporosis. - compatible with multiple bony metastases. - s / p ng and endotracheal tube. - s / p lt subclavian port - a - cath.']\n",
                        "\n"
                    ]
                },
                {
                    "name": "stderr",
                    "output_type": "stream",
                    "text": [
                        "Evaluating: :  70%|███████   | 7/10 [00:16<00:06,  2.33s/it]"
                    ]
                },
                {
                    "name": "stdout",
                    "output_type": "stream",
                    "text": [
                        "Names      : ['NLP_CHEST_057']\n",
                        "Predictions: ['']\n",
                        "Labels     : ['chest plain film shows : impression : - increased infiltrations in both lungs. - tortuous atherosclerotic dilated aorta. - normal heart size. - djd of spine. old fracture of right ribs. - increased both lung markings. s / p lt jugular cvc insertion. s / p ng and endotracheal tube. - susp. lt pneumothorax. suspect pneumomediastinum. subcutaneous emphysema in bilateral neck. - s / p bilateral chest tube insertion.']\n",
                        "\n"
                    ]
                },
                {
                    "name": "stderr",
                    "output_type": "stream",
                    "text": [
                        "Evaluating: :  80%|████████  | 8/10 [00:19<00:04,  2.29s/it]"
                    ]
                },
                {
                    "name": "stdout",
                    "output_type": "stream",
                    "text": [
                        "Names      : ['NLP_CHEST_059']\n",
                        "Predictions: ['']\n",
                        "Labels     : ['supine chest ap view shows : pigtail catheter at right lower chest. decreased amount of right pleural effusion. air in the right lower pleural space. poor lung expansion. mild subcutaneous emphysema at right chest wall. right pleural thickening. ill - defined masses at right perihilar region. normal heart size.']\n",
                        "\n"
                    ]
                },
                {
                    "name": "stderr",
                    "output_type": "stream",
                    "text": [
                        "Evaluating: :  90%|█████████ | 9/10 [00:21<00:02,  2.25s/it]"
                    ]
                },
                {
                    "name": "stdout",
                    "output_type": "stream",
                    "text": [
                        "Names      : ['NLP_CHEST_071']\n",
                        "Predictions: ['chest pa view shows : s / p port - a implantation via left subclavian vein. mass consolidation at left lung field. enlarged cardiac silhouette.']\n",
                        "Labels     : ['chest film shows : impression : - bilateral lung infiltrations. - suspect right lower lung patch. blunting right cp angle. - tortuous atherosclerotic aorta. - scoliosis, djd and osteoporosis of spine. compression fracture of t12. old fracture of left ribs. - s / p fixation in l - spine. - s / p tracheostomy and ng tube.']\n",
                        "\n"
                    ]
                },
                {
                    "name": "stderr",
                    "output_type": "stream",
                    "text": [
                        "Evaluating: : 100%|██████████| 10/10 [00:23<00:00,  2.35s/it]\n"
                    ]
                },
                {
                    "name": "stdout",
                    "output_type": "stream",
                    "text": [
                        "Names      : ['NLP_CHEST_085']\n",
                        "Predictions: ['']\n",
                        "Labels     : ['chest x ray : - right pneumothorax with pleural effusion, status post drainge tube placement. - extensive subcutaneous emphysema from neck to right side thoracic cage. - increased right hilar opacity. - atherosclerosis and tortuous aorta. - obscured bilateral costophrenic angles. - spondylosis and mild scoliosis of thoracolumbar spine. - oa of right glenohumeral joint. - generalized osteopenia.']\n",
                        "\n",
                        "Rouge-2 score : {'Rouge-L-P': 0.14379030457263403, 'Rouge-L-R': 0.10848009645222394, 'Rouge-L-F': 0.10848009645222394, 'Rouge-2-P': 0.09163045891092253, 'Rouge-2-R': 0.07002745138444813, 'Rouge-2-F': 0.07002745138444813}\n"
                    ]
                },
                {
                    "name": "stderr",
                    "output_type": "stream",
                    "text": [
                        "Training Epoch [29 / 50]: 100%|██████████| 89/89 [00:14<00:00,  6.21it/s, loss=0.049] \n",
                        "Evaluating: :  10%|█         | 1/10 [00:02<00:22,  2.49s/it]"
                    ]
                },
                {
                    "name": "stdout",
                    "output_type": "stream",
                    "text": [
                        "Names      : ['NLP_CHEST_002']\n",
                        "Predictions: ['chest film showed imp : 1 ) one drainage tube on right lung, bluntening of right costophrenic angle. 2 ) one drainage tube on right lung. 3 ) spur on the spine.']\n",
                        "Labels     : ['chest pa view shows : partial atelectasis at left lower lung field. left pleural effusion. borderline heart size. atherosclerotic change of aortic knob. s / p port - a implantation via left subclavian vein. intraperitoneal port catheter. surgical clips at ruq of abdomen.']\n",
                        "\n"
                    ]
                },
                {
                    "name": "stderr",
                    "output_type": "stream",
                    "text": [
                        "Evaluating: :  20%|██        | 2/10 [00:04<00:19,  2.42s/it]"
                    ]
                },
                {
                    "name": "stdout",
                    "output_type": "stream",
                    "text": [
                        "Names      : ['NLP_CHEST_004']\n",
                        "Predictions: ['']\n",
                        "Labels     : ['chest pa view show : impression : - s / p rll wedge resection. - bilateral lungs metastasis. - left lower lung subsegmental atelectasis. - increased infiltrations in both lungs. - blunting right cp angle. - tortuous atherosclerotic aorta. - scoliosis, djd and osteoporosis of spine. - compression fracture of l1.']\n",
                        "\n"
                    ]
                },
                {
                    "name": "stderr",
                    "output_type": "stream",
                    "text": [
                        "Evaluating: :  30%|███       | 3/10 [00:07<00:16,  2.38s/it]"
                    ]
                },
                {
                    "name": "stdout",
                    "output_type": "stream",
                    "text": [
                        "Names      : ['NLP_CHEST_011']\n",
                        "Predictions: ['']\n",
                        "Labels     : [\"chest ap view showed : 1. s / p sternotomy and cabg. enlarged heart size with tortuous aorta. 2. r't middle and lower lung faint patches. l't lower lung consolidation. l't pleural effusion. 3. no mediastinum widening. 4. s / p endotracheal tube and ng intubation.\"]\n",
                        "\n"
                    ]
                },
                {
                    "name": "stderr",
                    "output_type": "stream",
                    "text": [
                        "Evaluating: :  40%|████      | 4/10 [00:10<00:16,  2.72s/it]"
                    ]
                },
                {
                    "name": "stdout",
                    "output_type": "stream",
                    "text": [
                        "Names      : ['NLP_CHEST_015']\n",
                        "Predictions: ['']\n",
                        "Labels     : ['chest x ray : - no obvious lung mass nor consolidation patch. - normal heart size. - no pleural effusion.']\n",
                        "\n"
                    ]
                },
                {
                    "name": "stderr",
                    "output_type": "stream",
                    "text": [
                        "Evaluating: :  50%|█████     | 5/10 [00:13<00:13,  2.79s/it]"
                    ]
                },
                {
                    "name": "stdout",
                    "output_type": "stream",
                    "text": [
                        "Names      : ['NLP_CHEST_027']\n",
                        "Predictions: ['']\n",
                        "Labels     : ['chest pa view : impression : > cardiomegaly with bilateral pulmonary congestion. > postinflammatory fibrosis in both upper lungs. > atherosclerosis of aorta. > old fractures of left 5th and 6th ribs. > r / o osteoporosis. > spondylosis of thoracolumbar spine. > s / p abdominal operation in ruq.']\n",
                        "\n"
                    ]
                },
                {
                    "name": "stderr",
                    "output_type": "stream",
                    "text": [
                        "Evaluating: :  60%|██████    | 6/10 [00:16<00:11,  2.78s/it]"
                    ]
                },
                {
                    "name": "stdout",
                    "output_type": "stream",
                    "text": [
                        "Names      : ['NLP_CHEST_031']\n",
                        "Predictions: ['chest pa view : impression : - increased both lung markings. - compatible with right lung nodules. - fibrotic lesion in left upper lung. - normal heart size. atherosclerotic aorta. - suspect right pleural effusion. - spondylosis. r / o osteoporosis. - compatible with multiple bony metastases. - s / p ng and endotracheal tube. - s / p lt subclavian port - a - cath.']\n",
                        "Labels     : ['chest pa view : impression : - increased both lung markings. - compatible with right lung nodules. - fibrotic lesion in left upper lung. - normal heart size. atherosclerotic aorta. - suspect right pleural effusion. - spondylosis. r / o osteoporosis. - compatible with multiple bony metastases. - s / p ng and endotracheal tube. - s / p lt subclavian port - a - cath.']\n",
                        "\n"
                    ]
                },
                {
                    "name": "stderr",
                    "output_type": "stream",
                    "text": [
                        "Evaluating: :  70%|███████   | 7/10 [00:18<00:08,  2.79s/it]"
                    ]
                },
                {
                    "name": "stdout",
                    "output_type": "stream",
                    "text": [
                        "Names      : ['NLP_CHEST_057']\n",
                        "Predictions: ['chest ap view showed : impression : - suspicious pulmonary edema. superimposed pneumonia cannot be excluded. - blunting bilateral cp angles. - normal heart size. atherosclerotic aorta. - scoliosis and djd of spine. - normal heart size. - s / p ng and endotracheal tube. s / p rt jugular cvc insertion.']\n",
                        "Labels     : ['chest plain film shows : impression : - increased infiltrations in both lungs. - tortuous atherosclerotic dilated aorta. - normal heart size. - djd of spine. old fracture of right ribs. - increased both lung markings. s / p lt jugular cvc insertion. s / p ng and endotracheal tube. - susp. lt pneumothorax. suspect pneumomediastinum. subcutaneous emphysema in bilateral neck. - s / p bilateral chest tube insertion.']\n",
                        "\n"
                    ]
                },
                {
                    "name": "stderr",
                    "output_type": "stream",
                    "text": [
                        "Evaluating: :  80%|████████  | 8/10 [00:21<00:05,  2.73s/it]"
                    ]
                },
                {
                    "name": "stdout",
                    "output_type": "stream",
                    "text": [
                        "Names      : ['NLP_CHEST_059']\n",
                        "Predictions: ['']\n",
                        "Labels     : ['supine chest ap view shows : pigtail catheter at right lower chest. decreased amount of right pleural effusion. air in the right lower pleural space. poor lung expansion. mild subcutaneous emphysema at right chest wall. right pleural thickening. ill - defined masses at right perihilar region. normal heart size.']\n",
                        "\n"
                    ]
                },
                {
                    "name": "stderr",
                    "output_type": "stream",
                    "text": [
                        "Evaluating: :  90%|█████████ | 9/10 [00:24<00:02,  2.65s/it]"
                    ]
                },
                {
                    "name": "stdout",
                    "output_type": "stream",
                    "text": [
                        "Names      : ['NLP_CHEST_071']\n",
                        "Predictions: ['chest pa view shows : impression : - increased infiltrations in both lungs. - blunting bilateral cp angles. - tortuous atherosclerotic dilated aorta. - normal heart size. - djd of spine. - s / p rt jugular cvc insertion.']\n",
                        "Labels     : ['chest film shows : impression : - bilateral lung infiltrations. - suspect right lower lung patch. blunting right cp angle. - tortuous atherosclerotic aorta. - scoliosis, djd and osteoporosis of spine. compression fracture of t12. old fracture of left ribs. - s / p fixation in l - spine. - s / p tracheostomy and ng tube.']\n",
                        "\n"
                    ]
                },
                {
                    "name": "stderr",
                    "output_type": "stream",
                    "text": [
                        "Evaluating: : 100%|██████████| 10/10 [00:26<00:00,  2.64s/it]\n"
                    ]
                },
                {
                    "name": "stdout",
                    "output_type": "stream",
                    "text": [
                        "Names      : ['NLP_CHEST_085']\n",
                        "Predictions: ['']\n",
                        "Labels     : ['chest x ray : - right pneumothorax with pleural effusion, status post drainge tube placement. - extensive subcutaneous emphysema from neck to right side thoracic cage. - increased right hilar opacity. - atherosclerosis and tortuous aorta. - obscured bilateral costophrenic angles. - spondylosis and mild scoliosis of thoracolumbar spine. - oa of right glenohumeral joint. - generalized osteopenia.']\n",
                        "\n",
                        "Rouge-2 score : {'Rouge-L-P': 0.14618447178896232, 'Rouge-L-R': 0.11099802446661258, 'Rouge-L-F': 0.11099802446661258, 'Rouge-2-P': 0.09442787129180989, 'Rouge-2-R': 0.07286481252187225, 'Rouge-2-F': 0.07286481252187225}\n"
                    ]
                },
                {
                    "name": "stderr",
                    "output_type": "stream",
                    "text": [
                        "Training Epoch [30 / 50]: 100%|██████████| 89/89 [00:14<00:00,  6.13it/s, loss=0.0471]\n",
                        "Evaluating: :  10%|█         | 1/10 [00:03<00:29,  3.22s/it]"
                    ]
                },
                {
                    "name": "stdout",
                    "output_type": "stream",
                    "text": [
                        "Names      : ['NLP_CHEST_002']\n",
                        "Predictions: ['chest pa view shows : impression : > increased bilateral lung markings. > normal heart size. > atherosclerotic aorta. > spondylosis. > stent in left axillary region. > calcified nodules in bilateral abdomen, consider bilateral renal stones. > radiopaque lesions in right upper abdomen.']\n",
                        "Labels     : ['chest pa view shows : partial atelectasis at left lower lung field. left pleural effusion. borderline heart size. atherosclerotic change of aortic knob. s / p port - a implantation via left subclavian vein. intraperitoneal port catheter. surgical clips at ruq of abdomen.']\n",
                        "\n"
                    ]
                },
                {
                    "name": "stderr",
                    "output_type": "stream",
                    "text": [
                        "Evaluating: :  20%|██        | 2/10 [00:06<00:25,  3.20s/it]"
                    ]
                },
                {
                    "name": "stdout",
                    "output_type": "stream",
                    "text": [
                        "Names      : ['NLP_CHEST_004']\n",
                        "Predictions: ['chest plain film shows : impression : - suspicious right upper lung nodule. - increased infiltrations in both lungs. - tortuous atherosclerotic dilated aorta. - normal heart size. - djd of spine. - s / p lt subclavian port - a - cath.']\n",
                        "Labels     : ['chest pa view show : impression : - s / p rll wedge resection. - bilateral lungs metastasis. - left lower lung subsegmental atelectasis. - increased infiltrations in both lungs. - blunting right cp angle. - tortuous atherosclerotic aorta. - scoliosis, djd and osteoporosis of spine. - compression fracture of l1.']\n",
                        "\n"
                    ]
                },
                {
                    "name": "stderr",
                    "output_type": "stream",
                    "text": [
                        "Evaluating: :  30%|███       | 3/10 [00:09<00:21,  3.01s/it]"
                    ]
                },
                {
                    "name": "stdout",
                    "output_type": "stream",
                    "text": [
                        "Names      : ['NLP_CHEST_011']\n",
                        "Predictions: ['chest pa shows : impression : - increased infiltrations in both lungs. - blunting bilateral cp angles. - suspect bilateral lower lung patches. - bilateral apical pleural thickening. - tortuous atherosclerotic dilated aorta. - cardiomegaly. - djd of spine. - s / p rt jugular cvc insertion.']\n",
                        "Labels     : [\"chest ap view showed : 1. s / p sternotomy and cabg. enlarged heart size with tortuous aorta. 2. r't middle and lower lung faint patches. l't lower lung consolidation. l't pleural effusion. 3. no mediastinum widening. 4. s / p endotracheal tube and ng intubation.\"]\n",
                        "\n"
                    ]
                },
                {
                    "name": "stderr",
                    "output_type": "stream",
                    "text": [
                        "Evaluating: :  40%|████      | 4/10 [00:12<00:17,  2.95s/it]"
                    ]
                },
                {
                    "name": "stdout",
                    "output_type": "stream",
                    "text": [
                        "Names      : ['NLP_CHEST_015']\n",
                        "Predictions: ['chest pa view shows : > no obvious lung mass nor consolidation patch. > normal heart size. > no pleural effusion.']\n",
                        "Labels     : ['chest x ray : - no obvious lung mass nor consolidation patch. - normal heart size. - no pleural effusion.']\n",
                        "\n"
                    ]
                },
                {
                    "name": "stderr",
                    "output_type": "stream",
                    "text": [
                        "Evaluating: :  50%|█████     | 5/10 [00:15<00:14,  2.98s/it]"
                    ]
                },
                {
                    "name": "stdout",
                    "output_type": "stream",
                    "text": [
                        "Names      : ['NLP_CHEST_027']\n",
                        "Predictions: ['chest plain film shows : impression : - increased both lung markings. - blunting bilateral cp angles. - atherosclerosis of aorta. - scoliosis, djd and osteoporosis of spine. - compression fracture of t - l spine. - calcified nodules in left upper abdomen.']\n",
                        "Labels     : ['chest pa view : impression : > cardiomegaly with bilateral pulmonary congestion. > postinflammatory fibrosis in both upper lungs. > atherosclerosis of aorta. > old fractures of left 5th and 6th ribs. > r / o osteoporosis. > spondylosis of thoracolumbar spine. > s / p abdominal operation in ruq.']\n",
                        "\n"
                    ]
                },
                {
                    "name": "stderr",
                    "output_type": "stream",
                    "text": [
                        "Evaluating: :  60%|██████    | 6/10 [00:17<00:11,  2.93s/it]"
                    ]
                },
                {
                    "name": "stdout",
                    "output_type": "stream",
                    "text": [
                        "Names      : ['NLP_CHEST_031']\n",
                        "Predictions: ['chest pa view : impression : - increased both lung markings. - compatible with right lung nodules. - fibrotic lesion in left upper lung. - normal heart size. atherosclerotic aorta. - suspect right pleural effusion. - spondylosis. r / o osteoporosis. - compatible with multiple bony metastases. - s / p ng and endotracheal tube. - s / p lt subclavian port - a - cath.']\n",
                        "Labels     : ['chest pa view : impression : - increased both lung markings. - compatible with right lung nodules. - fibrotic lesion in left upper lung. - normal heart size. atherosclerotic aorta. - suspect right pleural effusion. - spondylosis. r / o osteoporosis. - compatible with multiple bony metastases. - s / p ng and endotracheal tube. - s / p lt subclavian port - a - cath.']\n",
                        "\n"
                    ]
                },
                {
                    "name": "stderr",
                    "output_type": "stream",
                    "text": [
                        "Evaluating: :  70%|███████   | 7/10 [00:21<00:08,  2.99s/it]"
                    ]
                },
                {
                    "name": "stdout",
                    "output_type": "stream",
                    "text": [
                        "Names      : ['NLP_CHEST_057']\n",
                        "Predictions: ['chest pa view : impression : - increased both lung markings. - compatible with right lung nodules. - blunting bilateral cp angles. - normal heart size. atherosclerotic aorta. - scoliosis and djd of spine. - normal heart size. - s / p lt subclavian port - a - cath.']\n",
                        "Labels     : ['chest plain film shows : impression : - increased infiltrations in both lungs. - tortuous atherosclerotic dilated aorta. - normal heart size. - djd of spine. old fracture of right ribs. - increased both lung markings. s / p lt jugular cvc insertion. s / p ng and endotracheal tube. - susp. lt pneumothorax. suspect pneumomediastinum. subcutaneous emphysema in bilateral neck. - s / p bilateral chest tube insertion.']\n",
                        "\n"
                    ]
                },
                {
                    "name": "stderr",
                    "output_type": "stream",
                    "text": [
                        "Evaluating: :  80%|████████  | 8/10 [00:24<00:06,  3.03s/it]"
                    ]
                },
                {
                    "name": "stdout",
                    "output_type": "stream",
                    "text": [
                        "Names      : ['NLP_CHEST_059']\n",
                        "Predictions: ['chest pa view shows : impression : > increased bilateral lung markings. > blunting left cp angle. > atherosclerosis of aorta. > r / o osteoporosis. > spondylosis and scoliosis. > s / p ng and endotracheal tube.']\n",
                        "Labels     : ['supine chest ap view shows : pigtail catheter at right lower chest. decreased amount of right pleural effusion. air in the right lower pleural space. poor lung expansion. mild subcutaneous emphysema at right chest wall. right pleural thickening. ill - defined masses at right perihilar region. normal heart size.']\n",
                        "\n"
                    ]
                },
                {
                    "name": "stderr",
                    "output_type": "stream",
                    "text": [
                        "Evaluating: :  90%|█████████ | 9/10 [00:27<00:02,  2.98s/it]"
                    ]
                },
                {
                    "name": "stdout",
                    "output_type": "stream",
                    "text": [
                        "Names      : ['NLP_CHEST_071']\n",
                        "Predictions: ['chest pa view shows : impression : - increased infiltrations in both lungs. - blunting bilateral cp angles. - tortuous atherosclerotic dilated aorta. - normal heart size. - djd of spine. - s / p lt subclavian port - a - cath.']\n",
                        "Labels     : ['chest film shows : impression : - bilateral lung infiltrations. - suspect right lower lung patch. blunting right cp angle. - tortuous atherosclerotic aorta. - scoliosis, djd and osteoporosis of spine. compression fracture of t12. old fracture of left ribs. - s / p fixation in l - spine. - s / p tracheostomy and ng tube.']\n",
                        "\n"
                    ]
                },
                {
                    "name": "stderr",
                    "output_type": "stream",
                    "text": [
                        "Evaluating: : 100%|██████████| 10/10 [00:29<00:00,  2.98s/it]\n"
                    ]
                },
                {
                    "name": "stdout",
                    "output_type": "stream",
                    "text": [
                        "Names      : ['NLP_CHEST_085']\n",
                        "Predictions: ['chest pa view shows : impression : > increased bilateral lung markings. > blunting left cp angle. > the aortic arch is not enlarged. > atherosclerotic aorta. > scoliosis and djd of spine. > s / p ng and endotracheal tube.']\n",
                        "Labels     : ['chest x ray : - right pneumothorax with pleural effusion, status post drainge tube placement. - extensive subcutaneous emphysema from neck to right side thoracic cage. - increased right hilar opacity. - atherosclerosis and tortuous aorta. - obscured bilateral costophrenic angles. - spondylosis and mild scoliosis of thoracolumbar spine. - oa of right glenohumeral joint. - generalized osteopenia.']\n",
                        "\n",
                        "Rouge-2 score : {'Rouge-L-P': 0.15545343737552872, 'Rouge-L-R': 0.1200074350178784, 'Rouge-L-F': 0.1200074350178784, 'Rouge-2-P': 0.10095772038859992, 'Rouge-2-R': 0.07928372207632492, 'Rouge-2-F': 0.07928372207632492}\n"
                    ]
                },
                {
                    "name": "stderr",
                    "output_type": "stream",
                    "text": [
                        "Training Epoch [31 / 50]: 100%|██████████| 89/89 [00:17<00:00,  5.07it/s, loss=0.0433]\n",
                        "Evaluating: :  10%|█         | 1/10 [00:02<00:22,  2.47s/it]"
                    ]
                },
                {
                    "name": "stdout",
                    "output_type": "stream",
                    "text": [
                        "Names      : ['NLP_CHEST_002']\n",
                        "Predictions: ['chest pa view shows : impression : > increased bilateral lung markings. > normal heart size. > atherosclerotic aorta. > spondylosis of spine.']\n",
                        "Labels     : ['chest pa view shows : partial atelectasis at left lower lung field. left pleural effusion. borderline heart size. atherosclerotic change of aortic knob. s / p port - a implantation via left subclavian vein. intraperitoneal port catheter. surgical clips at ruq of abdomen.']\n",
                        "\n"
                    ]
                },
                {
                    "name": "stderr",
                    "output_type": "stream",
                    "text": [
                        "Evaluating: :  20%|██        | 2/10 [00:04<00:18,  2.36s/it]"
                    ]
                },
                {
                    "name": "stdout",
                    "output_type": "stream",
                    "text": [
                        "Names      : ['NLP_CHEST_004']\n",
                        "Predictions: ['chest plain film shows : impression : - suspicious right upper lung nodule. - normal heart size. - s / p repair for left diaphragmatic hernia. - s / p endotracheal tube insertion. s / p og tube insertion. s / p right arm picc insertion.']\n",
                        "Labels     : ['chest pa view show : impression : - s / p rll wedge resection. - bilateral lungs metastasis. - left lower lung subsegmental atelectasis. - increased infiltrations in both lungs. - blunting right cp angle. - tortuous atherosclerotic aorta. - scoliosis, djd and osteoporosis of spine. - compression fracture of l1.']\n",
                        "\n"
                    ]
                },
                {
                    "name": "stderr",
                    "output_type": "stream",
                    "text": [
                        "Evaluating: :  30%|███       | 3/10 [00:07<00:16,  2.38s/it]"
                    ]
                },
                {
                    "name": "stdout",
                    "output_type": "stream",
                    "text": [
                        "Names      : ['NLP_CHEST_011']\n",
                        "Predictions: [\"chest ap view showed : 1. enlarged heart size with tortuous aorta. 2. a l't basal lung small density. 3. no mediastinum widening. 4. s / p endotracheal tube and ng intubation. s / p r't jugular cvp.\"]\n",
                        "Labels     : [\"chest ap view showed : 1. s / p sternotomy and cabg. enlarged heart size with tortuous aorta. 2. r't middle and lower lung faint patches. l't lower lung consolidation. l't pleural effusion. 3. no mediastinum widening. 4. s / p endotracheal tube and ng intubation.\"]\n",
                        "\n"
                    ]
                },
                {
                    "name": "stderr",
                    "output_type": "stream",
                    "text": [
                        "Evaluating: :  40%|████      | 4/10 [00:09<00:14,  2.36s/it]"
                    ]
                },
                {
                    "name": "stdout",
                    "output_type": "stream",
                    "text": [
                        "Names      : ['NLP_CHEST_015']\n",
                        "Predictions: ['chest pa view shows : > no obvious lung mass nor consolidation patch. > normal heart size. > no pleural effusion.']\n",
                        "Labels     : ['chest x ray : - no obvious lung mass nor consolidation patch. - normal heart size. - no pleural effusion.']\n",
                        "\n"
                    ]
                },
                {
                    "name": "stderr",
                    "output_type": "stream",
                    "text": [
                        "Evaluating: :  50%|█████     | 5/10 [00:11<00:11,  2.33s/it]"
                    ]
                },
                {
                    "name": "stdout",
                    "output_type": "stream",
                    "text": [
                        "Names      : ['NLP_CHEST_027']\n",
                        "Predictions: ['']\n",
                        "Labels     : ['chest pa view : impression : > cardiomegaly with bilateral pulmonary congestion. > postinflammatory fibrosis in both upper lungs. > atherosclerosis of aorta. > old fractures of left 5th and 6th ribs. > r / o osteoporosis. > spondylosis of thoracolumbar spine. > s / p abdominal operation in ruq.']\n",
                        "\n"
                    ]
                },
                {
                    "name": "stderr",
                    "output_type": "stream",
                    "text": [
                        "Evaluating: :  60%|██████    | 6/10 [00:13<00:09,  2.29s/it]"
                    ]
                },
                {
                    "name": "stdout",
                    "output_type": "stream",
                    "text": [
                        "Names      : ['NLP_CHEST_031']\n",
                        "Predictions: ['chest pa view : impression : - increased both lung markings. - compatible with right lung nodules. - fibrotic lesion in left upper lung. - normal heart size. atherosclerotic aorta. - spondylosis of spine. - s / p lt subclavian port - a - cath.']\n",
                        "Labels     : ['chest pa view : impression : - increased both lung markings. - compatible with right lung nodules. - fibrotic lesion in left upper lung. - normal heart size. atherosclerotic aorta. - suspect right pleural effusion. - spondylosis. r / o osteoporosis. - compatible with multiple bony metastases. - s / p ng and endotracheal tube. - s / p lt subclavian port - a - cath.']\n",
                        "\n"
                    ]
                },
                {
                    "name": "stderr",
                    "output_type": "stream",
                    "text": [
                        "Evaluating: :  70%|███████   | 7/10 [00:16<00:06,  2.31s/it]"
                    ]
                },
                {
                    "name": "stdout",
                    "output_type": "stream",
                    "text": [
                        "Names      : ['NLP_CHEST_057']\n",
                        "Predictions: ['chest ap view showed : 1. enlarged heart size with tortuous aorta. 2. s / p rt jugular cvc insertion. 3. no mediastinum widening. 4. s / p endotracheal tube and ng intubation. s / p rt jugular cvc insertion.']\n",
                        "Labels     : ['chest plain film shows : impression : - increased infiltrations in both lungs. - tortuous atherosclerotic dilated aorta. - normal heart size. - djd of spine. old fracture of right ribs. - increased both lung markings. s / p lt jugular cvc insertion. s / p ng and endotracheal tube. - susp. lt pneumothorax. suspect pneumomediastinum. subcutaneous emphysema in bilateral neck. - s / p bilateral chest tube insertion.']\n",
                        "\n"
                    ]
                },
                {
                    "name": "stderr",
                    "output_type": "stream",
                    "text": [
                        "Evaluating: :  80%|████████  | 8/10 [00:18<00:04,  2.31s/it]"
                    ]
                },
                {
                    "name": "stdout",
                    "output_type": "stream",
                    "text": [
                        "Names      : ['NLP_CHEST_059']\n",
                        "Predictions: ['']\n",
                        "Labels     : ['supine chest ap view shows : pigtail catheter at right lower chest. decreased amount of right pleural effusion. air in the right lower pleural space. poor lung expansion. mild subcutaneous emphysema at right chest wall. right pleural thickening. ill - defined masses at right perihilar region. normal heart size.']\n",
                        "\n"
                    ]
                },
                {
                    "name": "stderr",
                    "output_type": "stream",
                    "text": [
                        "Evaluating: :  90%|█████████ | 9/10 [00:21<00:02,  2.36s/it]"
                    ]
                },
                {
                    "name": "stdout",
                    "output_type": "stream",
                    "text": [
                        "Names      : ['NLP_CHEST_071']\n",
                        "Predictions: ['chest pa view shows : impression : - increased infiltrations in both lungs. - blunting bilateral cp angles. - tortuous atherosclerotic dilated aorta. - normal heart size. - djd of spine.']\n",
                        "Labels     : ['chest film shows : impression : - bilateral lung infiltrations. - suspect right lower lung patch. blunting right cp angle. - tortuous atherosclerotic aorta. - scoliosis, djd and osteoporosis of spine. compression fracture of t12. old fracture of left ribs. - s / p fixation in l - spine. - s / p tracheostomy and ng tube.']\n",
                        "\n"
                    ]
                },
                {
                    "name": "stderr",
                    "output_type": "stream",
                    "text": [
                        "Evaluating: : 100%|██████████| 10/10 [00:23<00:00,  2.37s/it]\n"
                    ]
                },
                {
                    "name": "stdout",
                    "output_type": "stream",
                    "text": [
                        "Names      : ['NLP_CHEST_085']\n",
                        "Predictions: ['chest plain film shows : impression : - increased both lung markings. - compatible with right lung nodules. - fibrotic lesion in left upper lung. - normal heart size. atherosclerotic aorta. - djd of spine. mild scoliosis of spine.']\n",
                        "Labels     : ['chest x ray : - right pneumothorax with pleural effusion, status post drainge tube placement. - extensive subcutaneous emphysema from neck to right side thoracic cage. - increased right hilar opacity. - atherosclerosis and tortuous aorta. - obscured bilateral costophrenic angles. - spondylosis and mild scoliosis of thoracolumbar spine. - oa of right glenohumeral joint. - generalized osteopenia.']\n",
                        "\n",
                        "Rouge-2 score : {'Rouge-L-P': 0.16460040593266648, 'Rouge-L-R': 0.12654447522010553, 'Rouge-L-F': 0.12654447522010553, 'Rouge-2-P': 0.1075356857455352, 'Rouge-2-R': 0.08409562484608142, 'Rouge-2-F': 0.08409562484608142}\n"
                    ]
                },
                {
                    "name": "stderr",
                    "output_type": "stream",
                    "text": [
                        "Training Epoch [32 / 50]: 100%|██████████| 89/89 [00:15<00:00,  5.93it/s, loss=0.0419]\n",
                        "Evaluating: :  10%|█         | 1/10 [00:02<00:23,  2.62s/it]"
                    ]
                },
                {
                    "name": "stdout",
                    "output_type": "stream",
                    "text": [
                        "Names      : ['NLP_CHEST_002']\n",
                        "Predictions: ['chest pa view shows : impression : - right upper lung mass. - fibrotic lesion in left upper lung. - blunted bilateral cp angles. - normal heart size. atherosclerotic aorta. - spondylosis of spine. - old fracture of right ribs.']\n",
                        "Labels     : ['chest pa view shows : partial atelectasis at left lower lung field. left pleural effusion. borderline heart size. atherosclerotic change of aortic knob. s / p port - a implantation via left subclavian vein. intraperitoneal port catheter. surgical clips at ruq of abdomen.']\n",
                        "\n"
                    ]
                },
                {
                    "name": "stderr",
                    "output_type": "stream",
                    "text": [
                        "Evaluating: :  20%|██        | 2/10 [00:05<00:21,  2.68s/it]"
                    ]
                },
                {
                    "name": "stdout",
                    "output_type": "stream",
                    "text": [
                        "Names      : ['NLP_CHEST_004']\n",
                        "Predictions: ['']\n",
                        "Labels     : ['chest pa view show : impression : - s / p rll wedge resection. - bilateral lungs metastasis. - left lower lung subsegmental atelectasis. - increased infiltrations in both lungs. - blunting right cp angle. - tortuous atherosclerotic aorta. - scoliosis, djd and osteoporosis of spine. - compression fracture of l1.']\n",
                        "\n"
                    ]
                },
                {
                    "name": "stderr",
                    "output_type": "stream",
                    "text": [
                        "Evaluating: :  30%|███       | 3/10 [00:07<00:17,  2.57s/it]"
                    ]
                },
                {
                    "name": "stdout",
                    "output_type": "stream",
                    "text": [
                        "Names      : ['NLP_CHEST_011']\n",
                        "Predictions: ['']\n",
                        "Labels     : [\"chest ap view showed : 1. s / p sternotomy and cabg. enlarged heart size with tortuous aorta. 2. r't middle and lower lung faint patches. l't lower lung consolidation. l't pleural effusion. 3. no mediastinum widening. 4. s / p endotracheal tube and ng intubation.\"]\n",
                        "\n"
                    ]
                },
                {
                    "name": "stderr",
                    "output_type": "stream",
                    "text": [
                        "Evaluating: :  40%|████      | 4/10 [00:10<00:15,  2.55s/it]"
                    ]
                },
                {
                    "name": "stdout",
                    "output_type": "stream",
                    "text": [
                        "Names      : ['NLP_CHEST_015']\n",
                        "Predictions: ['']\n",
                        "Labels     : ['chest x ray : - no obvious lung mass nor consolidation patch. - normal heart size. - no pleural effusion.']\n",
                        "\n"
                    ]
                },
                {
                    "name": "stderr",
                    "output_type": "stream",
                    "text": [
                        "Evaluating: :  50%|█████     | 5/10 [00:12<00:12,  2.54s/it]"
                    ]
                },
                {
                    "name": "stdout",
                    "output_type": "stream",
                    "text": [
                        "Names      : ['NLP_CHEST_027']\n",
                        "Predictions: ['']\n",
                        "Labels     : ['chest pa view : impression : > cardiomegaly with bilateral pulmonary congestion. > postinflammatory fibrosis in both upper lungs. > atherosclerosis of aorta. > old fractures of left 5th and 6th ribs. > r / o osteoporosis. > spondylosis of thoracolumbar spine. > s / p abdominal operation in ruq.']\n",
                        "\n"
                    ]
                },
                {
                    "name": "stderr",
                    "output_type": "stream",
                    "text": [
                        "Evaluating: :  60%|██████    | 6/10 [00:15<00:10,  2.59s/it]"
                    ]
                },
                {
                    "name": "stdout",
                    "output_type": "stream",
                    "text": [
                        "Names      : ['NLP_CHEST_031']\n",
                        "Predictions: ['chest pa view : impression : - increased both lung markings. - compatible with right lung nodules. - fibrotic lesion in left upper lung. - normal heart size. atherosclerotic aorta. - suspect right pleural effusion. - spondylosis. r / o osteoporosis. - compatible with multiple bony metastases. - s / p ng and endotracheal tube. - s / p lt subclavian port - a - cath.']\n",
                        "Labels     : ['chest pa view : impression : - increased both lung markings. - compatible with right lung nodules. - fibrotic lesion in left upper lung. - normal heart size. atherosclerotic aorta. - suspect right pleural effusion. - spondylosis. r / o osteoporosis. - compatible with multiple bony metastases. - s / p ng and endotracheal tube. - s / p lt subclavian port - a - cath.']\n",
                        "\n"
                    ]
                },
                {
                    "name": "stderr",
                    "output_type": "stream",
                    "text": [
                        "Evaluating: :  70%|███████   | 7/10 [00:17<00:07,  2.51s/it]"
                    ]
                },
                {
                    "name": "stdout",
                    "output_type": "stream",
                    "text": [
                        "Names      : ['NLP_CHEST_057']\n",
                        "Predictions: [\"chest ap view showed : 1. normal heart size with tortuous aorta. 2. bilateral lung reticulonodular infiltrations. a r't upper and middle lung faint patches. mild l't pleural thickening. 3. no mediastinum widening. 4. s / p endotracheal tube and ng intubation. s / p r't jugular cvp.\"]\n",
                        "Labels     : ['chest plain film shows : impression : - increased infiltrations in both lungs. - tortuous atherosclerotic dilated aorta. - normal heart size. - djd of spine. old fracture of right ribs. - increased both lung markings. s / p lt jugular cvc insertion. s / p ng and endotracheal tube. - susp. lt pneumothorax. suspect pneumomediastinum. subcutaneous emphysema in bilateral neck. - s / p bilateral chest tube insertion.']\n",
                        "\n"
                    ]
                },
                {
                    "name": "stderr",
                    "output_type": "stream",
                    "text": [
                        "Evaluating: :  80%|████████  | 8/10 [00:20<00:05,  2.54s/it]"
                    ]
                },
                {
                    "name": "stdout",
                    "output_type": "stream",
                    "text": [
                        "Names      : ['NLP_CHEST_059']\n",
                        "Predictions: ['']\n",
                        "Labels     : ['supine chest ap view shows : pigtail catheter at right lower chest. decreased amount of right pleural effusion. air in the right lower pleural space. poor lung expansion. mild subcutaneous emphysema at right chest wall. right pleural thickening. ill - defined masses at right perihilar region. normal heart size.']\n",
                        "\n"
                    ]
                },
                {
                    "name": "stderr",
                    "output_type": "stream",
                    "text": [
                        "Evaluating: :  90%|█████████ | 9/10 [00:22<00:02,  2.49s/it]"
                    ]
                },
                {
                    "name": "stdout",
                    "output_type": "stream",
                    "text": [
                        "Names      : ['NLP_CHEST_071']\n",
                        "Predictions: ['chest plain film shows : impression : - increased infiltrations in both lungs. - blunting bilateral cp angles. - cardiomegaly. - atherosclerotic aorta. - scoliosis and djd of spine. - bilateral apical pleural thickening.']\n",
                        "Labels     : ['chest film shows : impression : - bilateral lung infiltrations. - suspect right lower lung patch. blunting right cp angle. - tortuous atherosclerotic aorta. - scoliosis, djd and osteoporosis of spine. compression fracture of t12. old fracture of left ribs. - s / p fixation in l - spine. - s / p tracheostomy and ng tube.']\n",
                        "\n"
                    ]
                },
                {
                    "name": "stderr",
                    "output_type": "stream",
                    "text": [
                        "Evaluating: : 100%|██████████| 10/10 [00:25<00:00,  2.55s/it]\n"
                    ]
                },
                {
                    "name": "stdout",
                    "output_type": "stream",
                    "text": [
                        "Names      : ['NLP_CHEST_085']\n",
                        "Predictions: ['']\n",
                        "Labels     : ['chest x ray : - right pneumothorax with pleural effusion, status post drainge tube placement. - extensive subcutaneous emphysema from neck to right side thoracic cage. - increased right hilar opacity. - atherosclerosis and tortuous aorta. - obscured bilateral costophrenic angles. - spondylosis and mild scoliosis of thoracolumbar spine. - oa of right glenohumeral joint. - generalized osteopenia.']\n",
                        "\n",
                        "Rouge-2 score : {'Rouge-L-P': 0.16603293001197655, 'Rouge-L-R': 0.12819004817747043, 'Rouge-L-F': 0.12819004817747043, 'Rouge-2-P': 0.10906038130223679, 'Rouge-2-R': 0.08582688026712036, 'Rouge-2-F': 0.08582688026712036}\n"
                    ]
                },
                {
                    "name": "stderr",
                    "output_type": "stream",
                    "text": [
                        "Training Epoch [33 / 50]: 100%|██████████| 89/89 [00:14<00:00,  6.13it/s, loss=0.0386]\n",
                        "Evaluating: :  10%|█         | 1/10 [00:02<00:24,  2.72s/it]"
                    ]
                },
                {
                    "name": "stdout",
                    "output_type": "stream",
                    "text": [
                        "Names      : ['NLP_CHEST_002']\n",
                        "Predictions: ['']\n",
                        "Labels     : ['chest pa view shows : partial atelectasis at left lower lung field. left pleural effusion. borderline heart size. atherosclerotic change of aortic knob. s / p port - a implantation via left subclavian vein. intraperitoneal port catheter. surgical clips at ruq of abdomen.']\n",
                        "\n"
                    ]
                },
                {
                    "name": "stderr",
                    "output_type": "stream",
                    "text": [
                        "Evaluating: :  20%|██        | 2/10 [00:05<00:20,  2.61s/it]"
                    ]
                },
                {
                    "name": "stdout",
                    "output_type": "stream",
                    "text": [
                        "Names      : ['NLP_CHEST_004']\n",
                        "Predictions: ['']\n",
                        "Labels     : ['chest pa view show : impression : - s / p rll wedge resection. - bilateral lungs metastasis. - left lower lung subsegmental atelectasis. - increased infiltrations in both lungs. - blunting right cp angle. - tortuous atherosclerotic aorta. - scoliosis, djd and osteoporosis of spine. - compression fracture of l1.']\n",
                        "\n"
                    ]
                },
                {
                    "name": "stderr",
                    "output_type": "stream",
                    "text": [
                        "Evaluating: :  30%|███       | 3/10 [00:08<00:18,  2.68s/it]"
                    ]
                },
                {
                    "name": "stdout",
                    "output_type": "stream",
                    "text": [
                        "Names      : ['NLP_CHEST_011']\n",
                        "Predictions: ['']\n",
                        "Labels     : [\"chest ap view showed : 1. s / p sternotomy and cabg. enlarged heart size with tortuous aorta. 2. r't middle and lower lung faint patches. l't lower lung consolidation. l't pleural effusion. 3. no mediastinum widening. 4. s / p endotracheal tube and ng intubation.\"]\n",
                        "\n"
                    ]
                },
                {
                    "name": "stderr",
                    "output_type": "stream",
                    "text": [
                        "Evaluating: :  40%|████      | 4/10 [00:10<00:16,  2.68s/it]"
                    ]
                },
                {
                    "name": "stdout",
                    "output_type": "stream",
                    "text": [
                        "Names      : ['NLP_CHEST_015']\n",
                        "Predictions: ['']\n",
                        "Labels     : ['chest x ray : - no obvious lung mass nor consolidation patch. - normal heart size. - no pleural effusion.']\n",
                        "\n"
                    ]
                },
                {
                    "name": "stderr",
                    "output_type": "stream",
                    "text": [
                        "Evaluating: :  50%|█████     | 5/10 [00:13<00:13,  2.70s/it]"
                    ]
                },
                {
                    "name": "stdout",
                    "output_type": "stream",
                    "text": [
                        "Names      : ['NLP_CHEST_027']\n",
                        "Predictions: ['']\n",
                        "Labels     : ['chest pa view : impression : > cardiomegaly with bilateral pulmonary congestion. > postinflammatory fibrosis in both upper lungs. > atherosclerosis of aorta. > old fractures of left 5th and 6th ribs. > r / o osteoporosis. > spondylosis of thoracolumbar spine. > s / p abdominal operation in ruq.']\n",
                        "\n"
                    ]
                },
                {
                    "name": "stderr",
                    "output_type": "stream",
                    "text": [
                        "Evaluating: :  60%|██████    | 6/10 [00:16<00:11,  2.79s/it]"
                    ]
                },
                {
                    "name": "stdout",
                    "output_type": "stream",
                    "text": [
                        "Names      : ['NLP_CHEST_031']\n",
                        "Predictions: ['']\n",
                        "Labels     : ['chest pa view : impression : - increased both lung markings. - compatible with right lung nodules. - fibrotic lesion in left upper lung. - normal heart size. atherosclerotic aorta. - suspect right pleural effusion. - spondylosis. r / o osteoporosis. - compatible with multiple bony metastases. - s / p ng and endotracheal tube. - s / p lt subclavian port - a - cath.']\n",
                        "\n"
                    ]
                },
                {
                    "name": "stderr",
                    "output_type": "stream",
                    "text": [
                        "Evaluating: :  70%|███████   | 7/10 [00:19<00:08,  2.97s/it]"
                    ]
                },
                {
                    "name": "stdout",
                    "output_type": "stream",
                    "text": [
                        "Names      : ['NLP_CHEST_057']\n",
                        "Predictions: ['']\n",
                        "Labels     : ['chest plain film shows : impression : - increased infiltrations in both lungs. - tortuous atherosclerotic dilated aorta. - normal heart size. - djd of spine. old fracture of right ribs. - increased both lung markings. s / p lt jugular cvc insertion. s / p ng and endotracheal tube. - susp. lt pneumothorax. suspect pneumomediastinum. subcutaneous emphysema in bilateral neck. - s / p bilateral chest tube insertion.']\n",
                        "\n"
                    ]
                },
                {
                    "name": "stderr",
                    "output_type": "stream",
                    "text": [
                        "Evaluating: :  80%|████████  | 8/10 [00:22<00:05,  2.89s/it]"
                    ]
                },
                {
                    "name": "stdout",
                    "output_type": "stream",
                    "text": [
                        "Names      : ['NLP_CHEST_059']\n",
                        "Predictions: ['']\n",
                        "Labels     : ['supine chest ap view shows : pigtail catheter at right lower chest. decreased amount of right pleural effusion. air in the right lower pleural space. poor lung expansion. mild subcutaneous emphysema at right chest wall. right pleural thickening. ill - defined masses at right perihilar region. normal heart size.']\n",
                        "\n"
                    ]
                },
                {
                    "name": "stderr",
                    "output_type": "stream",
                    "text": [
                        "Evaluating: :  90%|█████████ | 9/10 [00:25<00:03,  3.03s/it]"
                    ]
                },
                {
                    "name": "stdout",
                    "output_type": "stream",
                    "text": [
                        "Names      : ['NLP_CHEST_071']\n",
                        "Predictions: ['']\n",
                        "Labels     : ['chest film shows : impression : - bilateral lung infiltrations. - suspect right lower lung patch. blunting right cp angle. - tortuous atherosclerotic aorta. - scoliosis, djd and osteoporosis of spine. compression fracture of t12. old fracture of left ribs. - s / p fixation in l - spine. - s / p tracheostomy and ng tube.']\n",
                        "\n"
                    ]
                },
                {
                    "name": "stderr",
                    "output_type": "stream",
                    "text": [
                        "Evaluating: : 100%|██████████| 10/10 [00:28<00:00,  2.85s/it]\n"
                    ]
                },
                {
                    "name": "stdout",
                    "output_type": "stream",
                    "text": [
                        "Names      : ['NLP_CHEST_085']\n",
                        "Predictions: ['']\n",
                        "Labels     : ['chest x ray : - right pneumothorax with pleural effusion, status post drainge tube placement. - extensive subcutaneous emphysema from neck to right side thoracic cage. - increased right hilar opacity. - atherosclerosis and tortuous aorta. - obscured bilateral costophrenic angles. - spondylosis and mild scoliosis of thoracolumbar spine. - oa of right glenohumeral joint. - generalized osteopenia.']\n",
                        "\n",
                        "Rouge-2 score : {'Rouge-L-P': 0.16100162910252272, 'Rouge-L-R': 0.12430550126300163, 'Rouge-L-F': 0.12430550126300163, 'Rouge-2-P': 0.10575552126277507, 'Rouge-2-R': 0.08322606571357126, 'Rouge-2-F': 0.08322606571357126}\n"
                    ]
                },
                {
                    "name": "stderr",
                    "output_type": "stream",
                    "text": [
                        "Training Epoch [34 / 50]: 100%|██████████| 89/89 [00:14<00:00,  6.04it/s, loss=0.0358]\n",
                        "Evaluating: :  10%|█         | 1/10 [00:02<00:20,  2.32s/it]"
                    ]
                },
                {
                    "name": "stdout",
                    "output_type": "stream",
                    "text": [
                        "Names      : ['NLP_CHEST_002']\n",
                        "Predictions: ['chest pa view shows : impression : - increased both lung markings. - blunting bilateral cp angles. - the mediastinum is not widened. - normal heart size. - atherosclerotic aorta. - djd of spine. - mild scoliosis of spine.']\n",
                        "Labels     : ['chest pa view shows : partial atelectasis at left lower lung field. left pleural effusion. borderline heart size. atherosclerotic change of aortic knob. s / p port - a implantation via left subclavian vein. intraperitoneal port catheter. surgical clips at ruq of abdomen.']\n",
                        "\n"
                    ]
                },
                {
                    "name": "stderr",
                    "output_type": "stream",
                    "text": [
                        "Evaluating: :  20%|██        | 2/10 [00:04<00:18,  2.36s/it]"
                    ]
                },
                {
                    "name": "stdout",
                    "output_type": "stream",
                    "text": [
                        "Names      : ['NLP_CHEST_004']\n",
                        "Predictions: ['chest plain film view showed : impression : - suspicious right upper lung nodule. - increased infiltrations in both lungs. - suspicious left lower lung patch. blunting bilateral cp angles. - elevated right hemidiaphragm. - normal heart size. - spondylosis of spine.']\n",
                        "Labels     : ['chest pa view show : impression : - s / p rll wedge resection. - bilateral lungs metastasis. - left lower lung subsegmental atelectasis. - increased infiltrations in both lungs. - blunting right cp angle. - tortuous atherosclerotic aorta. - scoliosis, djd and osteoporosis of spine. - compression fracture of l1.']\n",
                        "\n"
                    ]
                },
                {
                    "name": "stderr",
                    "output_type": "stream",
                    "text": [
                        "Evaluating: :  30%|███       | 3/10 [00:07<00:16,  2.39s/it]"
                    ]
                },
                {
                    "name": "stdout",
                    "output_type": "stream",
                    "text": [
                        "Names      : ['NLP_CHEST_011']\n",
                        "Predictions: [\"chest ap view showed : 1. s / p sternotomy and cardiac valve replacement with drainage tubes. enlarged heart size with tortuous aorta. 2. mild r't pneumothorax. s / p og tube insertion. s / p r't jugular cvp.\"]\n",
                        "Labels     : [\"chest ap view showed : 1. s / p sternotomy and cabg. enlarged heart size with tortuous aorta. 2. r't middle and lower lung faint patches. l't lower lung consolidation. l't pleural effusion. 3. no mediastinum widening. 4. s / p endotracheal tube and ng intubation.\"]\n",
                        "\n"
                    ]
                },
                {
                    "name": "stderr",
                    "output_type": "stream",
                    "text": [
                        "Evaluating: :  40%|████      | 4/10 [00:09<00:14,  2.41s/it]"
                    ]
                },
                {
                    "name": "stdout",
                    "output_type": "stream",
                    "text": [
                        "Names      : ['NLP_CHEST_015']\n",
                        "Predictions: ['chest pa view shows : > no obvious lung mass nor consolidation patch. > normal heart size. > no pleural effusion.']\n",
                        "Labels     : ['chest x ray : - no obvious lung mass nor consolidation patch. - normal heart size. - no pleural effusion.']\n",
                        "\n"
                    ]
                },
                {
                    "name": "stderr",
                    "output_type": "stream",
                    "text": [
                        "Evaluating: :  50%|█████     | 5/10 [00:12<00:12,  2.46s/it]"
                    ]
                },
                {
                    "name": "stdout",
                    "output_type": "stream",
                    "text": [
                        "Names      : ['NLP_CHEST_027']\n",
                        "Predictions: ['chest plain film shows : impression : - increased infiltrates in both lungs. - blunting bilateral cp angles. - cardiomegaly. - atherosclerosis of aorta. - scoliosis and djd of spine. - bilateral apical pleural thickening.']\n",
                        "Labels     : ['chest pa view : impression : > cardiomegaly with bilateral pulmonary congestion. > postinflammatory fibrosis in both upper lungs. > atherosclerosis of aorta. > old fractures of left 5th and 6th ribs. > r / o osteoporosis. > spondylosis of thoracolumbar spine. > s / p abdominal operation in ruq.']\n",
                        "\n"
                    ]
                },
                {
                    "name": "stderr",
                    "output_type": "stream",
                    "text": [
                        "Evaluating: :  60%|██████    | 6/10 [00:14<00:09,  2.44s/it]"
                    ]
                },
                {
                    "name": "stdout",
                    "output_type": "stream",
                    "text": [
                        "Names      : ['NLP_CHEST_031']\n",
                        "Predictions: ['chest pa view : impression : - increased both lung markings. - compatible with right lung nodules. - fibrotic lesion in left upper lung. - normal heart size. atherosclerotic aorta. - suspect right pleural effusion. - spondylosis. r / o osteoporosis. - compatible with multiple bony metastases. - s / p ng and endotracheal tube. - s / p lt subclavian port - a - cath.']\n",
                        "Labels     : ['chest pa view : impression : - increased both lung markings. - compatible with right lung nodules. - fibrotic lesion in left upper lung. - normal heart size. atherosclerotic aorta. - suspect right pleural effusion. - spondylosis. r / o osteoporosis. - compatible with multiple bony metastases. - s / p ng and endotracheal tube. - s / p lt subclavian port - a - cath.']\n",
                        "\n"
                    ]
                },
                {
                    "name": "stderr",
                    "output_type": "stream",
                    "text": [
                        "Evaluating: :  70%|███████   | 7/10 [00:16<00:07,  2.42s/it]"
                    ]
                },
                {
                    "name": "stdout",
                    "output_type": "stream",
                    "text": [
                        "Names      : ['NLP_CHEST_057']\n",
                        "Predictions: ['chest plain film shows : impression : - increased infiltrations in both lungs. - blunting bilateral cp angles. elevated right hemidiaphragm. - normal heart size. - s / p coronary stenting. - s / p ng and endotracheal tube. s / p rt jugular cvc insertion.']\n",
                        "Labels     : ['chest plain film shows : impression : - increased infiltrations in both lungs. - tortuous atherosclerotic dilated aorta. - normal heart size. - djd of spine. old fracture of right ribs. - increased both lung markings. s / p lt jugular cvc insertion. s / p ng and endotracheal tube. - susp. lt pneumothorax. suspect pneumomediastinum. subcutaneous emphysema in bilateral neck. - s / p bilateral chest tube insertion.']\n",
                        "\n"
                    ]
                },
                {
                    "name": "stderr",
                    "output_type": "stream",
                    "text": [
                        "Evaluating: :  80%|████████  | 8/10 [00:19<00:04,  2.42s/it]"
                    ]
                },
                {
                    "name": "stdout",
                    "output_type": "stream",
                    "text": [
                        "Names      : ['NLP_CHEST_059']\n",
                        "Predictions: ['chest plain film shows : impression : - increased infiltrations in both lungs. - blunting bilateral cp angles. elevated right hemidiaphragm. - tortuous atherosclerotic dilated aorta. - cardiomegaly. - djd of spine. s / p fixation in l - spine.']\n",
                        "Labels     : ['supine chest ap view shows : pigtail catheter at right lower chest. decreased amount of right pleural effusion. air in the right lower pleural space. poor lung expansion. mild subcutaneous emphysema at right chest wall. right pleural thickening. ill - defined masses at right perihilar region. normal heart size.']\n",
                        "\n"
                    ]
                },
                {
                    "name": "stderr",
                    "output_type": "stream",
                    "text": [
                        "Evaluating: :  90%|█████████ | 9/10 [00:21<00:02,  2.42s/it]"
                    ]
                },
                {
                    "name": "stdout",
                    "output_type": "stream",
                    "text": [
                        "Names      : ['NLP_CHEST_071']\n",
                        "Predictions: ['chest plain film shows : impression : - increased infiltrations in both lungs. - blunting bilateral cp angles. elevated right hemidiaphragm. - tortuous atherosclerotic dilated aorta. - cardiomegaly. - djd of spine. s / p rt jugular cvc insertion.']\n",
                        "Labels     : ['chest film shows : impression : - bilateral lung infiltrations. - suspect right lower lung patch. blunting right cp angle. - tortuous atherosclerotic aorta. - scoliosis, djd and osteoporosis of spine. compression fracture of t12. old fracture of left ribs. - s / p fixation in l - spine. - s / p tracheostomy and ng tube.']\n",
                        "\n"
                    ]
                },
                {
                    "name": "stderr",
                    "output_type": "stream",
                    "text": [
                        "Evaluating: : 100%|██████████| 10/10 [00:24<00:00,  2.41s/it]\n"
                    ]
                },
                {
                    "name": "stdout",
                    "output_type": "stream",
                    "text": [
                        "Names      : ['NLP_CHEST_085']\n",
                        "Predictions: ['chest plain film shows : impression : - increased infiltrates in both lungs. - blunting bilateral cp angles. elevated right hemidiaphragm. - tortuous atherosclerotic dilated aorta. - djd of spine. - mild scoliosis of spine.']\n",
                        "Labels     : ['chest x ray : - right pneumothorax with pleural effusion, status post drainge tube placement. - extensive subcutaneous emphysema from neck to right side thoracic cage. - increased right hilar opacity. - atherosclerosis and tortuous aorta. - obscured bilateral costophrenic angles. - spondylosis and mild scoliosis of thoracolumbar spine. - oa of right glenohumeral joint. - generalized osteopenia.']\n",
                        "\n",
                        "Rouge-2 score : {'Rouge-L-P': 0.171825679723478, 'Rouge-L-R': 0.1336263541834596, 'Rouge-L-F': 0.1336263541834596, 'Rouge-2-P': 0.11353699673447853, 'Rouge-2-R': 0.09004619836344478, 'Rouge-2-F': 0.09004619836344478}\n"
                    ]
                },
                {
                    "name": "stderr",
                    "output_type": "stream",
                    "text": [
                        "Training Epoch [35 / 50]: 100%|██████████| 89/89 [00:14<00:00,  6.13it/s, loss=0.0359]\n",
                        "Evaluating: :  10%|█         | 1/10 [00:02<00:23,  2.63s/it]"
                    ]
                },
                {
                    "name": "stdout",
                    "output_type": "stream",
                    "text": [
                        "Names      : ['NLP_CHEST_002']\n",
                        "Predictions: ['']\n",
                        "Labels     : ['chest pa view shows : partial atelectasis at left lower lung field. left pleural effusion. borderline heart size. atherosclerotic change of aortic knob. s / p port - a implantation via left subclavian vein. intraperitoneal port catheter. surgical clips at ruq of abdomen.']\n",
                        "\n"
                    ]
                },
                {
                    "name": "stderr",
                    "output_type": "stream",
                    "text": [
                        "Evaluating: :  20%|██        | 2/10 [00:05<00:21,  2.63s/it]"
                    ]
                },
                {
                    "name": "stdout",
                    "output_type": "stream",
                    "text": [
                        "Names      : ['NLP_CHEST_004']\n",
                        "Predictions: ['']\n",
                        "Labels     : ['chest pa view show : impression : - s / p rll wedge resection. - bilateral lungs metastasis. - left lower lung subsegmental atelectasis. - increased infiltrations in both lungs. - blunting right cp angle. - tortuous atherosclerotic aorta. - scoliosis, djd and osteoporosis of spine. - compression fracture of l1.']\n",
                        "\n"
                    ]
                },
                {
                    "name": "stderr",
                    "output_type": "stream",
                    "text": [
                        "Evaluating: :  30%|███       | 3/10 [00:07<00:18,  2.60s/it]"
                    ]
                },
                {
                    "name": "stdout",
                    "output_type": "stream",
                    "text": [
                        "Names      : ['NLP_CHEST_011']\n",
                        "Predictions: ['']\n",
                        "Labels     : [\"chest ap view showed : 1. s / p sternotomy and cabg. enlarged heart size with tortuous aorta. 2. r't middle and lower lung faint patches. l't lower lung consolidation. l't pleural effusion. 3. no mediastinum widening. 4. s / p endotracheal tube and ng intubation.\"]\n",
                        "\n"
                    ]
                },
                {
                    "name": "stderr",
                    "output_type": "stream",
                    "text": [
                        "Evaluating: :  40%|████      | 4/10 [00:10<00:15,  2.56s/it]"
                    ]
                },
                {
                    "name": "stdout",
                    "output_type": "stream",
                    "text": [
                        "Names      : ['NLP_CHEST_015']\n",
                        "Predictions: ['']\n",
                        "Labels     : ['chest x ray : - no obvious lung mass nor consolidation patch. - normal heart size. - no pleural effusion.']\n",
                        "\n"
                    ]
                },
                {
                    "name": "stderr",
                    "output_type": "stream",
                    "text": [
                        "Evaluating: :  50%|█████     | 5/10 [00:13<00:13,  2.61s/it]"
                    ]
                },
                {
                    "name": "stdout",
                    "output_type": "stream",
                    "text": [
                        "Names      : ['NLP_CHEST_027']\n",
                        "Predictions: ['']\n",
                        "Labels     : ['chest pa view : impression : > cardiomegaly with bilateral pulmonary congestion. > postinflammatory fibrosis in both upper lungs. > atherosclerosis of aorta. > old fractures of left 5th and 6th ribs. > r / o osteoporosis. > spondylosis of thoracolumbar spine. > s / p abdominal operation in ruq.']\n",
                        "\n"
                    ]
                },
                {
                    "name": "stderr",
                    "output_type": "stream",
                    "text": [
                        "Evaluating: :  60%|██████    | 6/10 [00:15<00:10,  2.66s/it]"
                    ]
                },
                {
                    "name": "stdout",
                    "output_type": "stream",
                    "text": [
                        "Names      : ['NLP_CHEST_031']\n",
                        "Predictions: ['']\n",
                        "Labels     : ['chest pa view : impression : - increased both lung markings. - compatible with right lung nodules. - fibrotic lesion in left upper lung. - normal heart size. atherosclerotic aorta. - suspect right pleural effusion. - spondylosis. r / o osteoporosis. - compatible with multiple bony metastases. - s / p ng and endotracheal tube. - s / p lt subclavian port - a - cath.']\n",
                        "\n"
                    ]
                },
                {
                    "name": "stderr",
                    "output_type": "stream",
                    "text": [
                        "Evaluating: :  70%|███████   | 7/10 [00:18<00:08,  2.74s/it]"
                    ]
                },
                {
                    "name": "stdout",
                    "output_type": "stream",
                    "text": [
                        "Names      : ['NLP_CHEST_057']\n",
                        "Predictions: ['']\n",
                        "Labels     : ['chest plain film shows : impression : - increased infiltrations in both lungs. - tortuous atherosclerotic dilated aorta. - normal heart size. - djd of spine. old fracture of right ribs. - increased both lung markings. s / p lt jugular cvc insertion. s / p ng and endotracheal tube. - susp. lt pneumothorax. suspect pneumomediastinum. subcutaneous emphysema in bilateral neck. - s / p bilateral chest tube insertion.']\n",
                        "\n"
                    ]
                },
                {
                    "name": "stderr",
                    "output_type": "stream",
                    "text": [
                        "Evaluating: :  80%|████████  | 8/10 [00:21<00:05,  2.73s/it]"
                    ]
                },
                {
                    "name": "stdout",
                    "output_type": "stream",
                    "text": [
                        "Names      : ['NLP_CHEST_059']\n",
                        "Predictions: ['']\n",
                        "Labels     : ['supine chest ap view shows : pigtail catheter at right lower chest. decreased amount of right pleural effusion. air in the right lower pleural space. poor lung expansion. mild subcutaneous emphysema at right chest wall. right pleural thickening. ill - defined masses at right perihilar region. normal heart size.']\n",
                        "\n"
                    ]
                },
                {
                    "name": "stderr",
                    "output_type": "stream",
                    "text": [
                        "Evaluating: :  90%|█████████ | 9/10 [00:24<00:02,  2.79s/it]"
                    ]
                },
                {
                    "name": "stdout",
                    "output_type": "stream",
                    "text": [
                        "Names      : ['NLP_CHEST_071']\n",
                        "Predictions: ['']\n",
                        "Labels     : ['chest film shows : impression : - bilateral lung infiltrations. - suspect right lower lung patch. blunting right cp angle. - tortuous atherosclerotic aorta. - scoliosis, djd and osteoporosis of spine. compression fracture of t12. old fracture of left ribs. - s / p fixation in l - spine. - s / p tracheostomy and ng tube.']\n",
                        "\n"
                    ]
                },
                {
                    "name": "stderr",
                    "output_type": "stream",
                    "text": [
                        "Evaluating: : 100%|██████████| 10/10 [00:26<00:00,  2.69s/it]\n"
                    ]
                },
                {
                    "name": "stdout",
                    "output_type": "stream",
                    "text": [
                        "Names      : ['NLP_CHEST_085']\n",
                        "Predictions: ['']\n",
                        "Labels     : ['chest x ray : - right pneumothorax with pleural effusion, status post drainge tube placement. - extensive subcutaneous emphysema from neck to right side thoracic cage. - increased right hilar opacity. - atherosclerosis and tortuous aorta. - obscured bilateral costophrenic angles. - spondylosis and mild scoliosis of thoracolumbar spine. - oa of right glenohumeral joint. - generalized osteopenia.']\n",
                        "\n",
                        "Rouge-2 score : {'Rouge-L-P': 0.1669163745885215, 'Rouge-L-R': 0.1298084583496465, 'Rouge-L-F': 0.1298084583496465, 'Rouge-2-P': 0.11029308254206485, 'Rouge-2-R': 0.08747344983877493, 'Rouge-2-F': 0.08747344983877493}\n"
                    ]
                },
                {
                    "name": "stderr",
                    "output_type": "stream",
                    "text": [
                        "Training Epoch [36 / 50]: 100%|██████████| 89/89 [00:14<00:00,  6.08it/s, loss=0.0292]\n",
                        "Evaluating: :  10%|█         | 1/10 [00:02<00:24,  2.69s/it]"
                    ]
                },
                {
                    "name": "stdout",
                    "output_type": "stream",
                    "text": [
                        "Names      : ['NLP_CHEST_002']\n",
                        "Predictions: ['chest pa view shows : impression : > increased bilateral lung markings. > suspect atelectasis in both lower lung fields. > cardiomegaly. > atherosclerotic aorta. > spondylosis and scoliosis. > s / p ng and endotracheal tube. s / p rt jugular cvc insertion.']\n",
                        "Labels     : ['chest pa view shows : partial atelectasis at left lower lung field. left pleural effusion. borderline heart size. atherosclerotic change of aortic knob. s / p port - a implantation via left subclavian vein. intraperitoneal port catheter. surgical clips at ruq of abdomen.']\n",
                        "\n"
                    ]
                },
                {
                    "name": "stderr",
                    "output_type": "stream",
                    "text": [
                        "Evaluating: :  20%|██        | 2/10 [00:05<00:20,  2.59s/it]"
                    ]
                },
                {
                    "name": "stdout",
                    "output_type": "stream",
                    "text": [
                        "Names      : ['NLP_CHEST_004']\n",
                        "Predictions: ['chest plain film view showed : impression : - suspicious right upper lung nodule. suspect left lower lung patch. - increased infiltrations in both lungs. - blunting bilateral cp angles. - tortuous atherosclerotic dilated aorta. - cardiomegaly. - scoliosis, djd and osteoporosis of spine.']\n",
                        "Labels     : ['chest pa view show : impression : - s / p rll wedge resection. - bilateral lungs metastasis. - left lower lung subsegmental atelectasis. - increased infiltrations in both lungs. - blunting right cp angle. - tortuous atherosclerotic aorta. - scoliosis, djd and osteoporosis of spine. - compression fracture of l1.']\n",
                        "\n"
                    ]
                },
                {
                    "name": "stderr",
                    "output_type": "stream",
                    "text": [
                        "Evaluating: :  30%|███       | 3/10 [00:07<00:17,  2.54s/it]"
                    ]
                },
                {
                    "name": "stdout",
                    "output_type": "stream",
                    "text": [
                        "Names      : ['NLP_CHEST_011']\n",
                        "Predictions: [\"chest ap view showed : 1. enlarged heart size with tortuous aorta. 2. bilateral lung reticulonodular infiltrations. a r't upper lung mass. r't middle and lower lung faint patches. 3. no mediastinum widening. 4. s / p r't jugular cvp.\"]\n",
                        "Labels     : [\"chest ap view showed : 1. s / p sternotomy and cabg. enlarged heart size with tortuous aorta. 2. r't middle and lower lung faint patches. l't lower lung consolidation. l't pleural effusion. 3. no mediastinum widening. 4. s / p endotracheal tube and ng intubation.\"]\n",
                        "\n"
                    ]
                },
                {
                    "name": "stderr",
                    "output_type": "stream",
                    "text": [
                        "Evaluating: :  40%|████      | 4/10 [00:10<00:15,  2.58s/it]"
                    ]
                },
                {
                    "name": "stdout",
                    "output_type": "stream",
                    "text": [
                        "Names      : ['NLP_CHEST_015']\n",
                        "Predictions: ['chest pa view shows : > no obvious lung mass nor consolidation patch. > normal heart size. > no pleural effusion.']\n",
                        "Labels     : ['chest x ray : - no obvious lung mass nor consolidation patch. - normal heart size. - no pleural effusion.']\n",
                        "\n"
                    ]
                },
                {
                    "name": "stderr",
                    "output_type": "stream",
                    "text": [
                        "Evaluating: :  50%|█████     | 5/10 [00:12<00:12,  2.54s/it]"
                    ]
                },
                {
                    "name": "stdout",
                    "output_type": "stream",
                    "text": [
                        "Names      : ['NLP_CHEST_027']\n",
                        "Predictions: ['chest plain film shows : impression : - increased both lung infiltrates. - blunting bilateral cp angles. - cardiomegaly. - atherosclerotic aorta. - scoliosis and djd of spine. - bilateral apical pleural thickening.']\n",
                        "Labels     : ['chest pa view : impression : > cardiomegaly with bilateral pulmonary congestion. > postinflammatory fibrosis in both upper lungs. > atherosclerosis of aorta. > old fractures of left 5th and 6th ribs. > r / o osteoporosis. > spondylosis of thoracolumbar spine. > s / p abdominal operation in ruq.']\n",
                        "\n"
                    ]
                },
                {
                    "name": "stderr",
                    "output_type": "stream",
                    "text": [
                        "Evaluating: :  60%|██████    | 6/10 [00:15<00:10,  2.58s/it]"
                    ]
                },
                {
                    "name": "stdout",
                    "output_type": "stream",
                    "text": [
                        "Names      : ['NLP_CHEST_031']\n",
                        "Predictions: ['chest pa view : impression : - increased both lung markings. - compatible with right lung nodules. - fibrotic lesion in left upper lung. - normal heart size. atherosclerotic aorta. - suspect right pleural effusion. - spondylosis. r / o osteoporosis. - compatible with multiple bony metastases. - s / p ng and endotracheal tube. - s / p lt subclavian port - a - cath.']\n",
                        "Labels     : ['chest pa view : impression : - increased both lung markings. - compatible with right lung nodules. - fibrotic lesion in left upper lung. - normal heart size. atherosclerotic aorta. - suspect right pleural effusion. - spondylosis. r / o osteoporosis. - compatible with multiple bony metastases. - s / p ng and endotracheal tube. - s / p lt subclavian port - a - cath.']\n",
                        "\n"
                    ]
                },
                {
                    "name": "stderr",
                    "output_type": "stream",
                    "text": [
                        "Evaluating: :  70%|███████   | 7/10 [00:18<00:07,  2.61s/it]"
                    ]
                },
                {
                    "name": "stdout",
                    "output_type": "stream",
                    "text": [
                        "Names      : ['NLP_CHEST_057']\n",
                        "Predictions: ['chest plain film ap view showed : impression : - right upper lung mass. compatible with right lung nodules. - increased bilateral lung markings. - blunting left cp angle. - elevated right hemidiaphragm. - normal heart size. - spondylosis of spine. - s / p lt subclavian port - a - cath.']\n",
                        "Labels     : ['chest plain film shows : impression : - increased infiltrations in both lungs. - tortuous atherosclerotic dilated aorta. - normal heart size. - djd of spine. old fracture of right ribs. - increased both lung markings. s / p lt jugular cvc insertion. s / p ng and endotracheal tube. - susp. lt pneumothorax. suspect pneumomediastinum. subcutaneous emphysema in bilateral neck. - s / p bilateral chest tube insertion.']\n",
                        "\n"
                    ]
                },
                {
                    "name": "stderr",
                    "output_type": "stream",
                    "text": [
                        "Evaluating: :  80%|████████  | 8/10 [00:20<00:05,  2.53s/it]"
                    ]
                },
                {
                    "name": "stdout",
                    "output_type": "stream",
                    "text": [
                        "Names      : ['NLP_CHEST_059']\n",
                        "Predictions: ['chest pa view shows : impression : > increased bilateral lung markings. > suspect atelectasis in both lower lung fields. > cardiomegaly. > atherosclerotic aorta. > spondylosis and scoliosis. > s / p ng and endotracheal tube. s / p rt jugular cvc insertion.']\n",
                        "Labels     : ['supine chest ap view shows : pigtail catheter at right lower chest. decreased amount of right pleural effusion. air in the right lower pleural space. poor lung expansion. mild subcutaneous emphysema at right chest wall. right pleural thickening. ill - defined masses at right perihilar region. normal heart size.']\n",
                        "\n"
                    ]
                },
                {
                    "name": "stderr",
                    "output_type": "stream",
                    "text": [
                        "Evaluating: :  90%|█████████ | 9/10 [00:22<00:02,  2.48s/it]"
                    ]
                },
                {
                    "name": "stdout",
                    "output_type": "stream",
                    "text": [
                        "Names      : ['NLP_CHEST_071']\n",
                        "Predictions: ['chest plain film shows : impression : - increased infiltrations in both lungs. - left lung white out. - s / p left brachiocephalic vein stent. - suspect left pleural effusion. - tortuous atherosclerotic dilated aorta. - cardiomegaly. - spondylosis.']\n",
                        "Labels     : ['chest film shows : impression : - bilateral lung infiltrations. - suspect right lower lung patch. blunting right cp angle. - tortuous atherosclerotic aorta. - scoliosis, djd and osteoporosis of spine. compression fracture of t12. old fracture of left ribs. - s / p fixation in l - spine. - s / p tracheostomy and ng tube.']\n",
                        "\n"
                    ]
                },
                {
                    "name": "stderr",
                    "output_type": "stream",
                    "text": [
                        "Evaluating: : 100%|██████████| 10/10 [00:25<00:00,  2.57s/it]\n"
                    ]
                },
                {
                    "name": "stdout",
                    "output_type": "stream",
                    "text": [
                        "Names      : ['NLP_CHEST_085']\n",
                        "Predictions: ['chest plain film view showed : impression : - suspicious pulmonary edema. superimposed pneumonia cannot be excluded. - the mediastinum is not widened. - normal heart size. - djd of spine. - s / p ng and endotracheal tube. - s / p rt subclavian cvc insertion.']\n",
                        "Labels     : ['chest x ray : - right pneumothorax with pleural effusion, status post drainge tube placement. - extensive subcutaneous emphysema from neck to right side thoracic cage. - increased right hilar opacity. - atherosclerosis and tortuous aorta. - obscured bilateral costophrenic angles. - spondylosis and mild scoliosis of thoracolumbar spine. - oa of right glenohumeral joint. - generalized osteopenia.']\n",
                        "\n",
                        "Rouge-2 score : {'Rouge-L-P': 0.17570479676016415, 'Rouge-L-R': 0.13819072032403426, 'Rouge-L-F': 0.13819072032403426, 'Rouge-2-P': 0.11706398328463864, 'Rouge-2-R': 0.0939699271596478, 'Rouge-2-F': 0.0939699271596478}\n"
                    ]
                },
                {
                    "name": "stderr",
                    "output_type": "stream",
                    "text": [
                        "Training Epoch [37 / 50]: 100%|██████████| 89/89 [00:15<00:00,  5.61it/s, loss=0.0274]\n",
                        "Evaluating: :  10%|█         | 1/10 [00:03<00:29,  3.23s/it]"
                    ]
                },
                {
                    "name": "stdout",
                    "output_type": "stream",
                    "text": [
                        "Names      : ['NLP_CHEST_002']\n",
                        "Predictions: ['chest pa view shows : > bilateral lung markings increased. > no pleural effusion.']\n",
                        "Labels     : ['chest pa view shows : partial atelectasis at left lower lung field. left pleural effusion. borderline heart size. atherosclerotic change of aortic knob. s / p port - a implantation via left subclavian vein. intraperitoneal port catheter. surgical clips at ruq of abdomen.']\n",
                        "\n"
                    ]
                },
                {
                    "name": "stderr",
                    "output_type": "stream",
                    "text": [
                        "Evaluating: :  20%|██        | 2/10 [00:06<00:25,  3.17s/it]"
                    ]
                },
                {
                    "name": "stdout",
                    "output_type": "stream",
                    "text": [
                        "Names      : ['NLP_CHEST_004']\n",
                        "Predictions: ['chest plain film view showed : impression : - suspicious right upper lung nodule. - increased infiltrations in both lungs. - blunting bilateral cp angles. - normal heart size. - djd of spine. s / p ng and endotracheal tube.']\n",
                        "Labels     : ['chest pa view show : impression : - s / p rll wedge resection. - bilateral lungs metastasis. - left lower lung subsegmental atelectasis. - increased infiltrations in both lungs. - blunting right cp angle. - tortuous atherosclerotic aorta. - scoliosis, djd and osteoporosis of spine. - compression fracture of l1.']\n",
                        "\n"
                    ]
                },
                {
                    "name": "stderr",
                    "output_type": "stream",
                    "text": [
                        "Evaluating: :  30%|███       | 3/10 [00:09<00:21,  3.03s/it]"
                    ]
                },
                {
                    "name": "stdout",
                    "output_type": "stream",
                    "text": [
                        "Names      : ['NLP_CHEST_011']\n",
                        "Predictions: ['chest plain film shows : impression : - increased infiltrations in both lungs. - blunting bilateral cp angles. - cardiomegaly. - atherosclerotic aorta. - djd of spine. - s / p ng and endotracheal tube. s / p rt jugular cvc insertion.']\n",
                        "Labels     : [\"chest ap view showed : 1. s / p sternotomy and cabg. enlarged heart size with tortuous aorta. 2. r't middle and lower lung faint patches. l't lower lung consolidation. l't pleural effusion. 3. no mediastinum widening. 4. s / p endotracheal tube and ng intubation.\"]\n",
                        "\n"
                    ]
                },
                {
                    "name": "stderr",
                    "output_type": "stream",
                    "text": [
                        "Evaluating: :  40%|████      | 4/10 [00:12<00:17,  2.98s/it]"
                    ]
                },
                {
                    "name": "stdout",
                    "output_type": "stream",
                    "text": [
                        "Names      : ['NLP_CHEST_015']\n",
                        "Predictions: ['chest pa view shows : > no obvious lung mass nor consolidation patch. > normal heart size. > no pleural effusion.']\n",
                        "Labels     : ['chest x ray : - no obvious lung mass nor consolidation patch. - normal heart size. - no pleural effusion.']\n",
                        "\n"
                    ]
                },
                {
                    "name": "stderr",
                    "output_type": "stream",
                    "text": [
                        "Evaluating: :  50%|█████     | 5/10 [00:15<00:15,  3.01s/it]"
                    ]
                },
                {
                    "name": "stdout",
                    "output_type": "stream",
                    "text": [
                        "Names      : ['NLP_CHEST_027']\n",
                        "Predictions: ['chest plain film shows : impression : - increased both lung markings. - blunting bilateral cp angles. - cardiomegaly. - atherosclerotic aorta. - scoliosis, djd and osteoporosis of spine. - compression fracture of t - l spine. - s / p lt jugular cvc insertion.']\n",
                        "Labels     : ['chest pa view : impression : > cardiomegaly with bilateral pulmonary congestion. > postinflammatory fibrosis in both upper lungs. > atherosclerosis of aorta. > old fractures of left 5th and 6th ribs. > r / o osteoporosis. > spondylosis of thoracolumbar spine. > s / p abdominal operation in ruq.']\n",
                        "\n"
                    ]
                },
                {
                    "name": "stderr",
                    "output_type": "stream",
                    "text": [
                        "Evaluating: :  60%|██████    | 6/10 [00:18<00:11,  2.95s/it]"
                    ]
                },
                {
                    "name": "stdout",
                    "output_type": "stream",
                    "text": [
                        "Names      : ['NLP_CHEST_031']\n",
                        "Predictions: ['chest pa view : impression : - increased both lung markings. - compatible with right lung nodules. - fibrotic lesion in left upper lung. - normal heart size. atherosclerotic aorta. - suspect right pleural effusion. - spondylosis. r / o osteoporosis. - compatible with multiple bony metastases. - s / p ng and endotracheal tube. - s / p lt subclavian port - a - cath.']\n",
                        "Labels     : ['chest pa view : impression : - increased both lung markings. - compatible with right lung nodules. - fibrotic lesion in left upper lung. - normal heart size. atherosclerotic aorta. - suspect right pleural effusion. - spondylosis. r / o osteoporosis. - compatible with multiple bony metastases. - s / p ng and endotracheal tube. - s / p lt subclavian port - a - cath.']\n",
                        "\n"
                    ]
                },
                {
                    "name": "stderr",
                    "output_type": "stream",
                    "text": [
                        "Evaluating: :  70%|███████   | 7/10 [00:21<00:08,  2.97s/it]"
                    ]
                },
                {
                    "name": "stdout",
                    "output_type": "stream",
                    "text": [
                        "Names      : ['NLP_CHEST_057']\n",
                        "Predictions: ['chest plain film shows : impression : - increased both lung markings. - compatible with right lung nodules. - blunting bilateral cp angles. - elevation of right hemidiaphragm. - normal heart size. - s / p coronary stenting. - atherosclerosis of aorta. - s / p rt jugular cvc insertion.']\n",
                        "Labels     : ['chest plain film shows : impression : - increased infiltrations in both lungs. - tortuous atherosclerotic dilated aorta. - normal heart size. - djd of spine. old fracture of right ribs. - increased both lung markings. s / p lt jugular cvc insertion. s / p ng and endotracheal tube. - susp. lt pneumothorax. suspect pneumomediastinum. subcutaneous emphysema in bilateral neck. - s / p bilateral chest tube insertion.']\n",
                        "\n"
                    ]
                },
                {
                    "name": "stderr",
                    "output_type": "stream",
                    "text": [
                        "Evaluating: :  80%|████████  | 8/10 [00:23<00:05,  2.95s/it]"
                    ]
                },
                {
                    "name": "stdout",
                    "output_type": "stream",
                    "text": [
                        "Names      : ['NLP_CHEST_059']\n",
                        "Predictions: ['chest plain film shows : impression : - increased infiltrations in both lungs. - blunting bilateral cp angles. - cardiomegaly. - atherosclerotic aorta. - djd of spine. - s / p ng and endotracheal tube.']\n",
                        "Labels     : ['supine chest ap view shows : pigtail catheter at right lower chest. decreased amount of right pleural effusion. air in the right lower pleural space. poor lung expansion. mild subcutaneous emphysema at right chest wall. right pleural thickening. ill - defined masses at right perihilar region. normal heart size.']\n",
                        "\n"
                    ]
                },
                {
                    "name": "stderr",
                    "output_type": "stream",
                    "text": [
                        "Evaluating: :  90%|█████████ | 9/10 [00:26<00:02,  2.89s/it]"
                    ]
                },
                {
                    "name": "stdout",
                    "output_type": "stream",
                    "text": [
                        "Names      : ['NLP_CHEST_071']\n",
                        "Predictions: ['chest plain film shows : impression : - increased infiltrations in both lungs. - blunting bilateral cp angles. - cardiomegaly. - atherosclerotic aorta. - scoliosis and djd of spine. - normal heart size. - s / p lt subclavian port - a - cath.']\n",
                        "Labels     : ['chest film shows : impression : - bilateral lung infiltrations. - suspect right lower lung patch. blunting right cp angle. - tortuous atherosclerotic aorta. - scoliosis, djd and osteoporosis of spine. compression fracture of t12. old fracture of left ribs. - s / p fixation in l - spine. - s / p tracheostomy and ng tube.']\n",
                        "\n"
                    ]
                },
                {
                    "name": "stderr",
                    "output_type": "stream",
                    "text": [
                        "Evaluating: : 100%|██████████| 10/10 [00:29<00:00,  2.93s/it]\n"
                    ]
                },
                {
                    "name": "stdout",
                    "output_type": "stream",
                    "text": [
                        "Names      : ['NLP_CHEST_085']\n",
                        "Predictions: ['chest plain film view showed : impression : - suspicious right upper lung nodule. - increased infiltrations in both lungs. - tortuous atherosclerotic dilated aorta. - normal heart size. - djd of spine. mild scoliosis of spine.']\n",
                        "Labels     : ['chest x ray : - right pneumothorax with pleural effusion, status post drainge tube placement. - extensive subcutaneous emphysema from neck to right side thoracic cage. - increased right hilar opacity. - atherosclerosis and tortuous aorta. - obscured bilateral costophrenic angles. - spondylosis and mild scoliosis of thoracolumbar spine. - oa of right glenohumeral joint. - generalized osteopenia.']\n",
                        "\n",
                        "Rouge-2 score : {'Rouge-L-P': 0.18409833330085285, 'Rouge-L-R': 0.1450232752069375, 'Rouge-L-F': 0.1450232752069375, 'Rouge-2-P': 0.12293680839551745, 'Rouge-2-R': 0.09886713040616184, 'Rouge-2-F': 0.09886713040616184}\n"
                    ]
                },
                {
                    "name": "stderr",
                    "output_type": "stream",
                    "text": [
                        "Training Epoch [38 / 50]: 100%|██████████| 89/89 [00:14<00:00,  6.05it/s, loss=0.027] \n",
                        "Evaluating: :  10%|█         | 1/10 [00:03<00:28,  3.16s/it]"
                    ]
                },
                {
                    "name": "stdout",
                    "output_type": "stream",
                    "text": [
                        "Names      : ['NLP_CHEST_002']\n",
                        "Predictions: ['chest pa view shows : impression : > increased bilateral lung markings. > normal heart size. > atherosclerotic aorta. > r / o osteoporosis. > spondylosis of thoracolumbar spine. > s / p ng and endotracheal tube.']\n",
                        "Labels     : ['chest pa view shows : partial atelectasis at left lower lung field. left pleural effusion. borderline heart size. atherosclerotic change of aortic knob. s / p port - a implantation via left subclavian vein. intraperitoneal port catheter. surgical clips at ruq of abdomen.']\n",
                        "\n"
                    ]
                },
                {
                    "name": "stderr",
                    "output_type": "stream",
                    "text": [
                        "Evaluating: :  20%|██        | 2/10 [00:06<00:24,  3.10s/it]"
                    ]
                },
                {
                    "name": "stdout",
                    "output_type": "stream",
                    "text": [
                        "Names      : ['NLP_CHEST_004']\n",
                        "Predictions: ['chest plain film view showed : impression : - suspicious right upper lung nodule. - increased both lung markings. - suspicious left upper and bilateral lower lung patch. - blunting bilateral cp angles. - elevated right hemidiaphragm. - normal heart size. - spondylosis of spine. - s / p lt jugular cvc insertion.']\n",
                        "Labels     : ['chest pa view show : impression : - s / p rll wedge resection. - bilateral lungs metastasis. - left lower lung subsegmental atelectasis. - increased infiltrations in both lungs. - blunting right cp angle. - tortuous atherosclerotic aorta. - scoliosis, djd and osteoporosis of spine. - compression fracture of l1.']\n",
                        "\n"
                    ]
                },
                {
                    "name": "stderr",
                    "output_type": "stream",
                    "text": [
                        "Evaluating: :  30%|███       | 3/10 [00:08<00:19,  2.72s/it]"
                    ]
                },
                {
                    "name": "stdout",
                    "output_type": "stream",
                    "text": [
                        "Names      : ['NLP_CHEST_011']\n",
                        "Predictions: ['chest plain film shows : impression : - increased infiltrations in both lungs. - suspicious right upper lung patch. blunting bilateral cp angles. - tortuous atherosclerotic dilated aorta. - normal heart size. - djd of spine. - s / p fixation in l - spine. - s / p rt jugular cvc insertion.']\n",
                        "Labels     : [\"chest ap view showed : 1. s / p sternotomy and cabg. enlarged heart size with tortuous aorta. 2. r't middle and lower lung faint patches. l't lower lung consolidation. l't pleural effusion. 3. no mediastinum widening. 4. s / p endotracheal tube and ng intubation.\"]\n",
                        "\n"
                    ]
                },
                {
                    "name": "stderr",
                    "output_type": "stream",
                    "text": [
                        "Evaluating: :  40%|████      | 4/10 [00:10<00:15,  2.61s/it]"
                    ]
                },
                {
                    "name": "stdout",
                    "output_type": "stream",
                    "text": [
                        "Names      : ['NLP_CHEST_015']\n",
                        "Predictions: ['chest pa view shows : > no obvious lung mass nor consolidation patch. > normal heart size. > no pleural effusion.']\n",
                        "Labels     : ['chest x ray : - no obvious lung mass nor consolidation patch. - normal heart size. - no pleural effusion.']\n",
                        "\n"
                    ]
                },
                {
                    "name": "stderr",
                    "output_type": "stream",
                    "text": [
                        "Evaluating: :  50%|█████     | 5/10 [00:13<00:12,  2.51s/it]"
                    ]
                },
                {
                    "name": "stdout",
                    "output_type": "stream",
                    "text": [
                        "Names      : ['NLP_CHEST_027']\n",
                        "Predictions: ['chest plain film shows : impression : - increased both lung markings. - bilateral hilar enlargement. - cardiomegaly. - atherosclerotic aorta. - scoliosis and djd of spine. - bilateral apical pleural thickening. - s / p lt subclavian port - a - cath.']\n",
                        "Labels     : ['chest pa view : impression : > cardiomegaly with bilateral pulmonary congestion. > postinflammatory fibrosis in both upper lungs. > atherosclerosis of aorta. > old fractures of left 5th and 6th ribs. > r / o osteoporosis. > spondylosis of thoracolumbar spine. > s / p abdominal operation in ruq.']\n",
                        "\n"
                    ]
                },
                {
                    "name": "stderr",
                    "output_type": "stream",
                    "text": [
                        "Evaluating: :  60%|██████    | 6/10 [00:15<00:10,  2.50s/it]"
                    ]
                },
                {
                    "name": "stdout",
                    "output_type": "stream",
                    "text": [
                        "Names      : ['NLP_CHEST_031']\n",
                        "Predictions: ['chest pa view : impression : - increased both lung markings. - compatible with right lung nodules. - fibrotic lesion in left upper lung. - normal heart size. atherosclerotic aorta. - suspect right pleural effusion. - spondylosis. r / o osteoporosis. - compatible with multiple bony metastases. - s / p ng and endotracheal tube. - s / p lt subclavian port - a - cath.']\n",
                        "Labels     : ['chest pa view : impression : - increased both lung markings. - compatible with right lung nodules. - fibrotic lesion in left upper lung. - normal heart size. atherosclerotic aorta. - suspect right pleural effusion. - spondylosis. r / o osteoporosis. - compatible with multiple bony metastases. - s / p ng and endotracheal tube. - s / p lt subclavian port - a - cath.']\n",
                        "\n"
                    ]
                },
                {
                    "name": "stderr",
                    "output_type": "stream",
                    "text": [
                        "Evaluating: :  70%|███████   | 7/10 [00:18<00:07,  2.53s/it]"
                    ]
                },
                {
                    "name": "stdout",
                    "output_type": "stream",
                    "text": [
                        "Names      : ['NLP_CHEST_057']\n",
                        "Predictions: ['chest plain film showed : impression : - suspicious pulmonary edema. superimposed pneumonia cannot be excluded. - elevated right hemidiaphragm. - normal heart size. - atherosclerosis of aorta. - djd of spine. - s / p lt subclavian port - a - cath.']\n",
                        "Labels     : ['chest plain film shows : impression : - increased infiltrations in both lungs. - tortuous atherosclerotic dilated aorta. - normal heart size. - djd of spine. old fracture of right ribs. - increased both lung markings. s / p lt jugular cvc insertion. s / p ng and endotracheal tube. - susp. lt pneumothorax. suspect pneumomediastinum. subcutaneous emphysema in bilateral neck. - s / p bilateral chest tube insertion.']\n",
                        "\n"
                    ]
                },
                {
                    "name": "stderr",
                    "output_type": "stream",
                    "text": [
                        "Evaluating: :  80%|████████  | 8/10 [00:20<00:04,  2.50s/it]"
                    ]
                },
                {
                    "name": "stdout",
                    "output_type": "stream",
                    "text": [
                        "Names      : ['NLP_CHEST_059']\n",
                        "Predictions: ['chest plain film shows : impression : - increased infiltrations in both lungs. - blunting bilateral cp angles. - atherosclerosis of aorta. - normal heart size. - djd of spine. s / p fixation in t9 and tracheal.']\n",
                        "Labels     : ['supine chest ap view shows : pigtail catheter at right lower chest. decreased amount of right pleural effusion. air in the right lower pleural space. poor lung expansion. mild subcutaneous emphysema at right chest wall. right pleural thickening. ill - defined masses at right perihilar region. normal heart size.']\n",
                        "\n"
                    ]
                },
                {
                    "name": "stderr",
                    "output_type": "stream",
                    "text": [
                        "Evaluating: :  90%|█████████ | 9/10 [00:23<00:02,  2.42s/it]"
                    ]
                },
                {
                    "name": "stdout",
                    "output_type": "stream",
                    "text": [
                        "Names      : ['NLP_CHEST_071']\n",
                        "Predictions: ['chest plain film shows : impression : - increased infiltrations in both lungs. - blunting bilateral cp angles. - tortuous atherosclerotic dilated aorta. - normal heart size. - djd of spine. - s / p lt subclavian port - a - cath.']\n",
                        "Labels     : ['chest film shows : impression : - bilateral lung infiltrations. - suspect right lower lung patch. blunting right cp angle. - tortuous atherosclerotic aorta. - scoliosis, djd and osteoporosis of spine. compression fracture of t12. old fracture of left ribs. - s / p fixation in l - spine. - s / p tracheostomy and ng tube.']\n",
                        "\n"
                    ]
                },
                {
                    "name": "stderr",
                    "output_type": "stream",
                    "text": [
                        "Evaluating: : 100%|██████████| 10/10 [00:25<00:00,  2.54s/it]\n"
                    ]
                },
                {
                    "name": "stdout",
                    "output_type": "stream",
                    "text": [
                        "Names      : ['NLP_CHEST_085']\n",
                        "Predictions: ['chest plain film view showed : impression : - increased both lung markings. - compatible with right lung nodules. - fibrotic lesion in left upper lung. - normal heart size. atherosclerotic aorta. - djd of spine. - s / p right chest tube insertion.']\n",
                        "Labels     : ['chest x ray : - right pneumothorax with pleural effusion, status post drainge tube placement. - extensive subcutaneous emphysema from neck to right side thoracic cage. - increased right hilar opacity. - atherosclerosis and tortuous aorta. - obscured bilateral costophrenic angles. - spondylosis and mild scoliosis of thoracolumbar spine. - oa of right glenohumeral joint. - generalized osteopenia.']\n",
                        "\n",
                        "Rouge-2 score : {'Rouge-L-P': 0.19100741386910905, 'Rouge-L-R': 0.1516820754555725, 'Rouge-L-F': 0.1516820754555725, 'Rouge-2-P': 0.12752816472861628, 'Rouge-2-R': 0.10336621195818341, 'Rouge-2-F': 0.10336621195818341}\n"
                    ]
                },
                {
                    "name": "stderr",
                    "output_type": "stream",
                    "text": [
                        "Training Epoch [39 / 50]: 100%|██████████| 89/89 [00:15<00:00,  5.56it/s, loss=0.0259]\n",
                        "Evaluating: :  10%|█         | 1/10 [00:03<00:32,  3.57s/it]"
                    ]
                },
                {
                    "name": "stdout",
                    "output_type": "stream",
                    "text": [
                        "Names      : ['NLP_CHEST_002']\n",
                        "Predictions: ['chest pa view shows : > no obvious lung mass nor consolidation patch. > normal heart size. > atherosclerotic aorta. > spondylosis of spine. > s / p ng and endotracheal tube.']\n",
                        "Labels     : ['chest pa view shows : partial atelectasis at left lower lung field. left pleural effusion. borderline heart size. atherosclerotic change of aortic knob. s / p port - a implantation via left subclavian vein. intraperitoneal port catheter. surgical clips at ruq of abdomen.']\n",
                        "\n"
                    ]
                },
                {
                    "name": "stderr",
                    "output_type": "stream",
                    "text": [
                        "Evaluating: :  20%|██        | 2/10 [00:05<00:23,  2.90s/it]"
                    ]
                },
                {
                    "name": "stdout",
                    "output_type": "stream",
                    "text": [
                        "Names      : ['NLP_CHEST_004']\n",
                        "Predictions: ['chest plain film view showed : impression : - suspicious right upper lung nodule. - increased both lung markings. - suspicious left upper and bilateral lower lung patch. - the mediastinum is not widened. - normal heart size. - djd of spine. - s / p rt jugular cvc insertion.']\n",
                        "Labels     : ['chest pa view show : impression : - s / p rll wedge resection. - bilateral lungs metastasis. - left lower lung subsegmental atelectasis. - increased infiltrations in both lungs. - blunting right cp angle. - tortuous atherosclerotic aorta. - scoliosis, djd and osteoporosis of spine. - compression fracture of l1.']\n",
                        "\n"
                    ]
                },
                {
                    "name": "stderr",
                    "output_type": "stream",
                    "text": [
                        "Evaluating: :  30%|███       | 3/10 [00:08<00:17,  2.54s/it]"
                    ]
                },
                {
                    "name": "stdout",
                    "output_type": "stream",
                    "text": [
                        "Names      : ['NLP_CHEST_011']\n",
                        "Predictions: ['']\n",
                        "Labels     : [\"chest ap view showed : 1. s / p sternotomy and cabg. enlarged heart size with tortuous aorta. 2. r't middle and lower lung faint patches. l't lower lung consolidation. l't pleural effusion. 3. no mediastinum widening. 4. s / p endotracheal tube and ng intubation.\"]\n",
                        "\n"
                    ]
                },
                {
                    "name": "stderr",
                    "output_type": "stream",
                    "text": [
                        "Evaluating: :  40%|████      | 4/10 [00:10<00:14,  2.39s/it]"
                    ]
                },
                {
                    "name": "stdout",
                    "output_type": "stream",
                    "text": [
                        "Names      : ['NLP_CHEST_015']\n",
                        "Predictions: ['']\n",
                        "Labels     : ['chest x ray : - no obvious lung mass nor consolidation patch. - normal heart size. - no pleural effusion.']\n",
                        "\n"
                    ]
                },
                {
                    "name": "stderr",
                    "output_type": "stream",
                    "text": [
                        "Evaluating: :  50%|█████     | 5/10 [00:12<00:11,  2.31s/it]"
                    ]
                },
                {
                    "name": "stdout",
                    "output_type": "stream",
                    "text": [
                        "Names      : ['NLP_CHEST_027']\n",
                        "Predictions: ['']\n",
                        "Labels     : ['chest pa view : impression : > cardiomegaly with bilateral pulmonary congestion. > postinflammatory fibrosis in both upper lungs. > atherosclerosis of aorta. > old fractures of left 5th and 6th ribs. > r / o osteoporosis. > spondylosis of thoracolumbar spine. > s / p abdominal operation in ruq.']\n",
                        "\n"
                    ]
                },
                {
                    "name": "stderr",
                    "output_type": "stream",
                    "text": [
                        "Evaluating: :  60%|██████    | 6/10 [00:14<00:09,  2.32s/it]"
                    ]
                },
                {
                    "name": "stdout",
                    "output_type": "stream",
                    "text": [
                        "Names      : ['NLP_CHEST_031']\n",
                        "Predictions: ['chest pa view : impression : - increased both lung markings. - compatible with right lung nodules. - fibrotic lesion in left upper lung. - normal heart size. atherosclerotic aorta. - djd of spine. - s / p ng and endotracheal tube. s / p rt jugular cvc insertion.']\n",
                        "Labels     : ['chest pa view : impression : - increased both lung markings. - compatible with right lung nodules. - fibrotic lesion in left upper lung. - normal heart size. atherosclerotic aorta. - suspect right pleural effusion. - spondylosis. r / o osteoporosis. - compatible with multiple bony metastases. - s / p ng and endotracheal tube. - s / p lt subclavian port - a - cath.']\n",
                        "\n"
                    ]
                },
                {
                    "name": "stderr",
                    "output_type": "stream",
                    "text": [
                        "Evaluating: :  70%|███████   | 7/10 [00:17<00:07,  2.36s/it]"
                    ]
                },
                {
                    "name": "stdout",
                    "output_type": "stream",
                    "text": [
                        "Names      : ['NLP_CHEST_057']\n",
                        "Predictions: ['chest plain film pa view showed : impression : - suspicious pulmonary edema. superimposed pneumonia cannot be excluded. - the mediastinum is not widened. - normal heart size. - djd of spine. s / p ng and endotracheal tube. - s / p rt jugular cvc insertion.']\n",
                        "Labels     : ['chest plain film shows : impression : - increased infiltrations in both lungs. - tortuous atherosclerotic dilated aorta. - normal heart size. - djd of spine. old fracture of right ribs. - increased both lung markings. s / p lt jugular cvc insertion. s / p ng and endotracheal tube. - susp. lt pneumothorax. suspect pneumomediastinum. subcutaneous emphysema in bilateral neck. - s / p bilateral chest tube insertion.']\n",
                        "\n"
                    ]
                },
                {
                    "name": "stderr",
                    "output_type": "stream",
                    "text": [
                        "Evaluating: :  80%|████████  | 8/10 [00:19<00:04,  2.36s/it]"
                    ]
                },
                {
                    "name": "stdout",
                    "output_type": "stream",
                    "text": [
                        "Names      : ['NLP_CHEST_059']\n",
                        "Predictions: ['']\n",
                        "Labels     : ['supine chest ap view shows : pigtail catheter at right lower chest. decreased amount of right pleural effusion. air in the right lower pleural space. poor lung expansion. mild subcutaneous emphysema at right chest wall. right pleural thickening. ill - defined masses at right perihilar region. normal heart size.']\n",
                        "\n"
                    ]
                },
                {
                    "name": "stderr",
                    "output_type": "stream",
                    "text": [
                        "Evaluating: :  90%|█████████ | 9/10 [00:24<00:03,  3.16s/it]"
                    ]
                },
                {
                    "name": "stdout",
                    "output_type": "stream",
                    "text": [
                        "Names      : ['NLP_CHEST_071']\n",
                        "Predictions: ['chest plain film shows : impression : - increased infiltrations in both lungs. - left lung white out. - s / p left brachiocephalic vein stent. - suspect left pleural effusion. - tortuous atherosclerotic dilated aorta. - djd of spine.']\n",
                        "Labels     : ['chest film shows : impression : - bilateral lung infiltrations. - suspect right lower lung patch. blunting right cp angle. - tortuous atherosclerotic aorta. - scoliosis, djd and osteoporosis of spine. compression fracture of t12. old fracture of left ribs. - s / p fixation in l - spine. - s / p tracheostomy and ng tube.']\n",
                        "\n"
                    ]
                },
                {
                    "name": "stderr",
                    "output_type": "stream",
                    "text": [
                        "Evaluating: : 100%|██████████| 10/10 [00:27<00:00,  2.78s/it]\n"
                    ]
                },
                {
                    "name": "stdout",
                    "output_type": "stream",
                    "text": [
                        "Names      : ['NLP_CHEST_085']\n",
                        "Predictions: ['chest plain film view showed : impression : - suspicious right upper lung nodule. - increased both lung markings. - suspicious left lower lung patch. blunting bilateral cp angles. - tortuous atherosclerotic dilated aorta. - djd of spine. - s / p ng and endotracheal tube. s / p rt jugular cvc insertion.']\n",
                        "Labels     : ['chest x ray : - right pneumothorax with pleural effusion, status post drainge tube placement. - extensive subcutaneous emphysema from neck to right side thoracic cage. - increased right hilar opacity. - atherosclerosis and tortuous aorta. - obscured bilateral costophrenic angles. - spondylosis and mild scoliosis of thoracolumbar spine. - oa of right glenohumeral joint. - generalized osteopenia.']\n",
                        "\n",
                        "Rouge-2 score : {'Rouge-L-P': 0.19358266109518796, 'Rouge-L-R': 0.15352959890644893, 'Rouge-L-F': 0.15352959890644893, 'Rouge-2-P': 0.12988286407964644, 'Rouge-2-R': 0.10491956549393697, 'Rouge-2-F': 0.10491956549393697}\n"
                    ]
                },
                {
                    "name": "stderr",
                    "output_type": "stream",
                    "text": [
                        "Training Epoch [40 / 50]: 100%|██████████| 89/89 [00:18<00:00,  4.94it/s, loss=0.0217]\n",
                        "Evaluating: :  10%|█         | 1/10 [00:03<00:30,  3.40s/it]"
                    ]
                },
                {
                    "name": "stdout",
                    "output_type": "stream",
                    "text": [
                        "Names      : ['NLP_CHEST_002']\n",
                        "Predictions: ['chest pa view shows : impression : - increased both lung markings. - blunting bilateral cp angles. - the mediastinum is not widened. - normal heart size. - atherosclerotic aorta. - djd of spine. - s / p ng and endotracheal tube. s / p right chest tube insertion.']\n",
                        "Labels     : ['chest pa view shows : partial atelectasis at left lower lung field. left pleural effusion. borderline heart size. atherosclerotic change of aortic knob. s / p port - a implantation via left subclavian vein. intraperitoneal port catheter. surgical clips at ruq of abdomen.']\n",
                        "\n"
                    ]
                },
                {
                    "name": "stderr",
                    "output_type": "stream",
                    "text": [
                        "Evaluating: :  20%|██        | 2/10 [00:06<00:24,  3.08s/it]"
                    ]
                },
                {
                    "name": "stdout",
                    "output_type": "stream",
                    "text": [
                        "Names      : ['NLP_CHEST_004']\n",
                        "Predictions: ['chest plain film shows : impression : - suspicious right upper lung nodule. - increased infiltrations in both lungs. - normal heart size. - scoliosis, djd and osteoporosis of spine. s / p fixation in t - l spine.']\n",
                        "Labels     : ['chest pa view show : impression : - s / p rll wedge resection. - bilateral lungs metastasis. - left lower lung subsegmental atelectasis. - increased infiltrations in both lungs. - blunting right cp angle. - tortuous atherosclerotic aorta. - scoliosis, djd and osteoporosis of spine. - compression fracture of l1.']\n",
                        "\n"
                    ]
                },
                {
                    "name": "stderr",
                    "output_type": "stream",
                    "text": [
                        "Evaluating: :  30%|███       | 3/10 [00:09<00:21,  3.10s/it]"
                    ]
                },
                {
                    "name": "stdout",
                    "output_type": "stream",
                    "text": [
                        "Names      : ['NLP_CHEST_011']\n",
                        "Predictions: [\"chest ap view showed : 1. enlarged heart size with tortuous aorta. 2. bilateral lung reticulonodular infiltrations. a r't upper lung mass. r't middle and lower lung faint patches. 3. no mediastinum widening. 4. s / p endotracheal tube and ng intubation. s / p r't jugular cvp.\"]\n",
                        "Labels     : [\"chest ap view showed : 1. s / p sternotomy and cabg. enlarged heart size with tortuous aorta. 2. r't middle and lower lung faint patches. l't lower lung consolidation. l't pleural effusion. 3. no mediastinum widening. 4. s / p endotracheal tube and ng intubation.\"]\n",
                        "\n"
                    ]
                },
                {
                    "name": "stderr",
                    "output_type": "stream",
                    "text": [
                        "Evaluating: :  40%|████      | 4/10 [00:12<00:17,  2.94s/it]"
                    ]
                },
                {
                    "name": "stdout",
                    "output_type": "stream",
                    "text": [
                        "Names      : ['NLP_CHEST_015']\n",
                        "Predictions: ['chest pa view shows : > no obvious lung mass nor consolidation patch. > normal heart size. > no pleural effusion.']\n",
                        "Labels     : ['chest x ray : - no obvious lung mass nor consolidation patch. - normal heart size. - no pleural effusion.']\n",
                        "\n"
                    ]
                },
                {
                    "name": "stderr",
                    "output_type": "stream",
                    "text": [
                        "Evaluating: :  50%|█████     | 5/10 [00:15<00:15,  3.06s/it]"
                    ]
                },
                {
                    "name": "stdout",
                    "output_type": "stream",
                    "text": [
                        "Names      : ['NLP_CHEST_027']\n",
                        "Predictions: ['chest plain film shows : impression : - increased infiltrates in both lungs. - blunting bilateral cp angles. - cardiomegaly. - atherosclerotic aorta. - scoliosis and djd of spine. - bilateral apical pleural thickening.']\n",
                        "Labels     : ['chest pa view : impression : > cardiomegaly with bilateral pulmonary congestion. > postinflammatory fibrosis in both upper lungs. > atherosclerosis of aorta. > old fractures of left 5th and 6th ribs. > r / o osteoporosis. > spondylosis of thoracolumbar spine. > s / p abdominal operation in ruq.']\n",
                        "\n"
                    ]
                },
                {
                    "name": "stderr",
                    "output_type": "stream",
                    "text": [
                        "Evaluating: :  60%|██████    | 6/10 [00:18<00:12,  3.08s/it]"
                    ]
                },
                {
                    "name": "stdout",
                    "output_type": "stream",
                    "text": [
                        "Names      : ['NLP_CHEST_031']\n",
                        "Predictions: ['chest pa view : impression : - increased both lung markings. - compatible with right lung nodules. - fibrotic lesion in left upper lung. - normal heart size. atherosclerotic aorta. - suspect right pleural effusion. - spondylosis. r / o osteoporosis. - compatible with multiple bony metastases. - s / p ng and endotracheal tube. - s / p lt subclavian port - a - cath.']\n",
                        "Labels     : ['chest pa view : impression : - increased both lung markings. - compatible with right lung nodules. - fibrotic lesion in left upper lung. - normal heart size. atherosclerotic aorta. - suspect right pleural effusion. - spondylosis. r / o osteoporosis. - compatible with multiple bony metastases. - s / p ng and endotracheal tube. - s / p lt subclavian port - a - cath.']\n",
                        "\n"
                    ]
                },
                {
                    "name": "stderr",
                    "output_type": "stream",
                    "text": [
                        "Evaluating: :  70%|███████   | 7/10 [00:21<00:09,  3.00s/it]"
                    ]
                },
                {
                    "name": "stdout",
                    "output_type": "stream",
                    "text": [
                        "Names      : ['NLP_CHEST_057']\n",
                        "Predictions: ['chest plain film shows : impression : - increased both lung markings. - compatible with right lung nodules. - increased infiltrations in both lungs. - blunting left cp angle. - normal heart size. s / p coronary stenting. - dilated atherosclerotic aorta. - s / p ng and endotracheal tube. s / p rt jugular cvc insertion.']\n",
                        "Labels     : ['chest plain film shows : impression : - increased infiltrations in both lungs. - tortuous atherosclerotic dilated aorta. - normal heart size. - djd of spine. old fracture of right ribs. - increased both lung markings. s / p lt jugular cvc insertion. s / p ng and endotracheal tube. - susp. lt pneumothorax. suspect pneumomediastinum. subcutaneous emphysema in bilateral neck. - s / p bilateral chest tube insertion.']\n",
                        "\n"
                    ]
                },
                {
                    "name": "stderr",
                    "output_type": "stream",
                    "text": [
                        "Evaluating: :  80%|████████  | 8/10 [00:24<00:05,  2.96s/it]"
                    ]
                },
                {
                    "name": "stdout",
                    "output_type": "stream",
                    "text": [
                        "Names      : ['NLP_CHEST_059']\n",
                        "Predictions: ['chest pa view shows : impression : - increased infiltrations in both lungs. - blunting bilateral cp angles. - cardiomegaly. - atherosclerotic aorta. - scoliosis and djd of spine. - bilateral apical pleural thickening.']\n",
                        "Labels     : ['supine chest ap view shows : pigtail catheter at right lower chest. decreased amount of right pleural effusion. air in the right lower pleural space. poor lung expansion. mild subcutaneous emphysema at right chest wall. right pleural thickening. ill - defined masses at right perihilar region. normal heart size.']\n",
                        "\n"
                    ]
                },
                {
                    "name": "stderr",
                    "output_type": "stream",
                    "text": [
                        "Evaluating: :  90%|█████████ | 9/10 [00:26<00:02,  2.92s/it]"
                    ]
                },
                {
                    "name": "stdout",
                    "output_type": "stream",
                    "text": [
                        "Names      : ['NLP_CHEST_071']\n",
                        "Predictions: ['chest plain film shows : impression : - increased infiltrations in both lungs. - blunting bilateral cp angles. - cardiomegaly. - atherosclerotic aorta. - scoliosis and djd of spine. - bilateral apical pleural thickening.']\n",
                        "Labels     : ['chest film shows : impression : - bilateral lung infiltrations. - suspect right lower lung patch. blunting right cp angle. - tortuous atherosclerotic aorta. - scoliosis, djd and osteoporosis of spine. compression fracture of t12. old fracture of left ribs. - s / p fixation in l - spine. - s / p tracheostomy and ng tube.']\n",
                        "\n"
                    ]
                },
                {
                    "name": "stderr",
                    "output_type": "stream",
                    "text": [
                        "Evaluating: : 100%|██████████| 10/10 [00:29<00:00,  2.98s/it]\n"
                    ]
                },
                {
                    "name": "stdout",
                    "output_type": "stream",
                    "text": [
                        "Names      : ['NLP_CHEST_085']\n",
                        "Predictions: ['chest plain film shows : impression : - increased infiltrations in both lungs. - blunting bilateral cp angles. - cardiomegaly. - atherosclerotic aorta. - djd of spine. s / p right chest tube insertion.']\n",
                        "Labels     : ['chest x ray : - right pneumothorax with pleural effusion, status post drainge tube placement. - extensive subcutaneous emphysema from neck to right side thoracic cage. - increased right hilar opacity. - atherosclerosis and tortuous aorta. - obscured bilateral costophrenic angles. - spondylosis and mild scoliosis of thoracolumbar spine. - oa of right glenohumeral joint. - generalized osteopenia.']\n",
                        "\n",
                        "Rouge-2 score : {'Rouge-L-P': 0.20161636913066983, 'Rouge-L-R': 0.1609752376750945, 'Rouge-L-F': 0.1609752376750945, 'Rouge-2-P': 0.13655074169184164, 'Rouge-2-R': 0.11128243311157127, 'Rouge-2-F': 0.11128243311157127}\n"
                    ]
                },
                {
                    "name": "stderr",
                    "output_type": "stream",
                    "text": [
                        "Training Epoch [41 / 50]: 100%|██████████| 89/89 [00:16<00:00,  5.32it/s, loss=0.0207]\n",
                        "Evaluating: :  10%|█         | 1/10 [00:02<00:26,  2.93s/it]"
                    ]
                },
                {
                    "name": "stdout",
                    "output_type": "stream",
                    "text": [
                        "Names      : ['NLP_CHEST_002']\n",
                        "Predictions: ['chest pa view shows : impression : - increased both lung markings. - blunting left cp angle. - the mediastinum is not widened. - normal heart size. - atherosclerotic aorta. - djd of spine. mild scoliosis of spine. - s / p left pleural pigtail tube.']\n",
                        "Labels     : ['chest pa view shows : partial atelectasis at left lower lung field. left pleural effusion. borderline heart size. atherosclerotic change of aortic knob. s / p port - a implantation via left subclavian vein. intraperitoneal port catheter. surgical clips at ruq of abdomen.']\n",
                        "\n"
                    ]
                },
                {
                    "name": "stderr",
                    "output_type": "stream",
                    "text": [
                        "Evaluating: :  20%|██        | 2/10 [00:06<00:24,  3.02s/it]"
                    ]
                },
                {
                    "name": "stdout",
                    "output_type": "stream",
                    "text": [
                        "Names      : ['NLP_CHEST_004']\n",
                        "Predictions: ['']\n",
                        "Labels     : ['chest pa view show : impression : - s / p rll wedge resection. - bilateral lungs metastasis. - left lower lung subsegmental atelectasis. - increased infiltrations in both lungs. - blunting right cp angle. - tortuous atherosclerotic aorta. - scoliosis, djd and osteoporosis of spine. - compression fracture of l1.']\n",
                        "\n"
                    ]
                },
                {
                    "name": "stderr",
                    "output_type": "stream",
                    "text": [
                        "Evaluating: :  30%|███       | 3/10 [00:08<00:20,  2.92s/it]"
                    ]
                },
                {
                    "name": "stdout",
                    "output_type": "stream",
                    "text": [
                        "Names      : ['NLP_CHEST_011']\n",
                        "Predictions: ['']\n",
                        "Labels     : [\"chest ap view showed : 1. s / p sternotomy and cabg. enlarged heart size with tortuous aorta. 2. r't middle and lower lung faint patches. l't lower lung consolidation. l't pleural effusion. 3. no mediastinum widening. 4. s / p endotracheal tube and ng intubation.\"]\n",
                        "\n"
                    ]
                },
                {
                    "name": "stderr",
                    "output_type": "stream",
                    "text": [
                        "Evaluating: :  40%|████      | 4/10 [00:11<00:17,  2.92s/it]"
                    ]
                },
                {
                    "name": "stdout",
                    "output_type": "stream",
                    "text": [
                        "Names      : ['NLP_CHEST_015']\n",
                        "Predictions: ['']\n",
                        "Labels     : ['chest x ray : - no obvious lung mass nor consolidation patch. - normal heart size. - no pleural effusion.']\n",
                        "\n"
                    ]
                },
                {
                    "name": "stderr",
                    "output_type": "stream",
                    "text": [
                        "Evaluating: :  50%|█████     | 5/10 [00:14<00:14,  2.93s/it]"
                    ]
                },
                {
                    "name": "stdout",
                    "output_type": "stream",
                    "text": [
                        "Names      : ['NLP_CHEST_027']\n",
                        "Predictions: ['']\n",
                        "Labels     : ['chest pa view : impression : > cardiomegaly with bilateral pulmonary congestion. > postinflammatory fibrosis in both upper lungs. > atherosclerosis of aorta. > old fractures of left 5th and 6th ribs. > r / o osteoporosis. > spondylosis of thoracolumbar spine. > s / p abdominal operation in ruq.']\n",
                        "\n"
                    ]
                },
                {
                    "name": "stderr",
                    "output_type": "stream",
                    "text": [
                        "Evaluating: :  60%|██████    | 6/10 [00:17<00:11,  2.90s/it]"
                    ]
                },
                {
                    "name": "stdout",
                    "output_type": "stream",
                    "text": [
                        "Names      : ['NLP_CHEST_031']\n",
                        "Predictions: ['']\n",
                        "Labels     : ['chest pa view : impression : - increased both lung markings. - compatible with right lung nodules. - fibrotic lesion in left upper lung. - normal heart size. atherosclerotic aorta. - suspect right pleural effusion. - spondylosis. r / o osteoporosis. - compatible with multiple bony metastases. - s / p ng and endotracheal tube. - s / p lt subclavian port - a - cath.']\n",
                        "\n"
                    ]
                },
                {
                    "name": "stderr",
                    "output_type": "stream",
                    "text": [
                        "Evaluating: :  70%|███████   | 7/10 [00:20<00:08,  2.89s/it]"
                    ]
                },
                {
                    "name": "stdout",
                    "output_type": "stream",
                    "text": [
                        "Names      : ['NLP_CHEST_057']\n",
                        "Predictions: ['']\n",
                        "Labels     : ['chest plain film shows : impression : - increased infiltrations in both lungs. - tortuous atherosclerotic dilated aorta. - normal heart size. - djd of spine. old fracture of right ribs. - increased both lung markings. s / p lt jugular cvc insertion. s / p ng and endotracheal tube. - susp. lt pneumothorax. suspect pneumomediastinum. subcutaneous emphysema in bilateral neck. - s / p bilateral chest tube insertion.']\n",
                        "\n"
                    ]
                },
                {
                    "name": "stderr",
                    "output_type": "stream",
                    "text": [
                        "Evaluating: :  80%|████████  | 8/10 [00:23<00:05,  2.86s/it]"
                    ]
                },
                {
                    "name": "stdout",
                    "output_type": "stream",
                    "text": [
                        "Names      : ['NLP_CHEST_059']\n",
                        "Predictions: ['']\n",
                        "Labels     : ['supine chest ap view shows : pigtail catheter at right lower chest. decreased amount of right pleural effusion. air in the right lower pleural space. poor lung expansion. mild subcutaneous emphysema at right chest wall. right pleural thickening. ill - defined masses at right perihilar region. normal heart size.']\n",
                        "\n"
                    ]
                },
                {
                    "name": "stderr",
                    "output_type": "stream",
                    "text": [
                        "Evaluating: :  90%|█████████ | 9/10 [00:26<00:03,  3.00s/it]"
                    ]
                },
                {
                    "name": "stdout",
                    "output_type": "stream",
                    "text": [
                        "Names      : ['NLP_CHEST_071']\n",
                        "Predictions: ['']\n",
                        "Labels     : ['chest film shows : impression : - bilateral lung infiltrations. - suspect right lower lung patch. blunting right cp angle. - tortuous atherosclerotic aorta. - scoliosis, djd and osteoporosis of spine. compression fracture of t12. old fracture of left ribs. - s / p fixation in l - spine. - s / p tracheostomy and ng tube.']\n",
                        "\n"
                    ]
                },
                {
                    "name": "stderr",
                    "output_type": "stream",
                    "text": [
                        "Evaluating: : 100%|██████████| 10/10 [00:29<00:00,  2.99s/it]\n"
                    ]
                },
                {
                    "name": "stdout",
                    "output_type": "stream",
                    "text": [
                        "Names      : ['NLP_CHEST_085']\n",
                        "Predictions: ['']\n",
                        "Labels     : ['chest x ray : - right pneumothorax with pleural effusion, status post drainge tube placement. - extensive subcutaneous emphysema from neck to right side thoracic cage. - increased right hilar opacity. - atherosclerosis and tortuous aorta. - obscured bilateral costophrenic angles. - spondylosis and mild scoliosis of thoracolumbar spine. - oa of right glenohumeral joint. - generalized osteopenia.']\n",
                        "\n",
                        "Rouge-2 score : {'Rouge-L-P': 0.1974942307531455, 'Rouge-L-R': 0.15789983482765887, 'Rouge-L-F': 0.15789983482765887, 'Rouge-2-P': 0.13365384013296203, 'Rouge-2-R': 0.10903280350025535, 'Rouge-2-F': 0.10903280350025535}\n"
                    ]
                },
                {
                    "name": "stderr",
                    "output_type": "stream",
                    "text": [
                        "Training Epoch [42 / 50]: 100%|██████████| 89/89 [00:17<00:00,  5.17it/s, loss=0.0211]\n",
                        "Evaluating: :  10%|█         | 1/10 [00:03<00:27,  3.00s/it]"
                    ]
                },
                {
                    "name": "stdout",
                    "output_type": "stream",
                    "text": [
                        "Names      : ['NLP_CHEST_002']\n",
                        "Predictions: ['chest pa view shows : impression : - increased both lung markings. - blunting left cp angle. - the mediastinum is not widened. - normal heart size. - atherosclerotic aorta. - djd of spine. mild scoliosis of spine. - s / p left pleural pigtail tube. subcutaneous emphysema in left chest wall.']\n",
                        "Labels     : ['chest pa view shows : partial atelectasis at left lower lung field. left pleural effusion. borderline heart size. atherosclerotic change of aortic knob. s / p port - a implantation via left subclavian vein. intraperitoneal port catheter. surgical clips at ruq of abdomen.']\n",
                        "\n"
                    ]
                },
                {
                    "name": "stderr",
                    "output_type": "stream",
                    "text": [
                        "Evaluating: :  20%|██        | 2/10 [00:05<00:23,  2.91s/it]"
                    ]
                },
                {
                    "name": "stdout",
                    "output_type": "stream",
                    "text": [
                        "Names      : ['NLP_CHEST_004']\n",
                        "Predictions: ['chest plain film view showed : impression : - suspicious right upper lung nodule. - increased infiltrations in both lungs. - blunting bilateral cp angles. - normal heart size. atherosclerotic aorta. - scoliosis, djd and osteoporosis of spine. s / p rt jugular cvc insertion.']\n",
                        "Labels     : ['chest pa view show : impression : - s / p rll wedge resection. - bilateral lungs metastasis. - left lower lung subsegmental atelectasis. - increased infiltrations in both lungs. - blunting right cp angle. - tortuous atherosclerotic aorta. - scoliosis, djd and osteoporosis of spine. - compression fracture of l1.']\n",
                        "\n"
                    ]
                },
                {
                    "name": "stderr",
                    "output_type": "stream",
                    "text": [
                        "Evaluating: :  30%|███       | 3/10 [00:08<00:20,  2.91s/it]"
                    ]
                },
                {
                    "name": "stdout",
                    "output_type": "stream",
                    "text": [
                        "Names      : ['NLP_CHEST_011']\n",
                        "Predictions: [\"chest ap view showed : 1. enlarged heart size with tortuous aorta. 2. bilateral lung reticulonodular infiltrations. r't upper and middle lung faint patches. s / p endotracheal tube and ng intubation. s / p r't jugular cvp.\"]\n",
                        "Labels     : [\"chest ap view showed : 1. s / p sternotomy and cabg. enlarged heart size with tortuous aorta. 2. r't middle and lower lung faint patches. l't lower lung consolidation. l't pleural effusion. 3. no mediastinum widening. 4. s / p endotracheal tube and ng intubation.\"]\n",
                        "\n"
                    ]
                },
                {
                    "name": "stderr",
                    "output_type": "stream",
                    "text": [
                        "Evaluating: :  40%|████      | 4/10 [00:12<00:19,  3.22s/it]"
                    ]
                },
                {
                    "name": "stdout",
                    "output_type": "stream",
                    "text": [
                        "Names      : ['NLP_CHEST_015']\n",
                        "Predictions: ['chest pa view shows : > no obvious lung mass nor consolidation patch. > normal heart size. > no pleural effusion.']\n",
                        "Labels     : ['chest x ray : - no obvious lung mass nor consolidation patch. - normal heart size. - no pleural effusion.']\n",
                        "\n"
                    ]
                },
                {
                    "name": "stderr",
                    "output_type": "stream",
                    "text": [
                        "Evaluating: :  50%|█████     | 5/10 [00:15<00:15,  3.16s/it]"
                    ]
                },
                {
                    "name": "stdout",
                    "output_type": "stream",
                    "text": [
                        "Names      : ['NLP_CHEST_027']\n",
                        "Predictions: ['chest plain film shows : impression : - s / p lul lobectomy, rul and rml wedge resection. - suspect left lower lung patch. - bilateral pleural effusions. - the heart shadow is not enlarged. - atherosclerosis of aorta. - scoliosis, djd and osteoporosis of spine. - s / p fixation in left clavicle.']\n",
                        "Labels     : ['chest pa view : impression : > cardiomegaly with bilateral pulmonary congestion. > postinflammatory fibrosis in both upper lungs. > atherosclerosis of aorta. > old fractures of left 5th and 6th ribs. > r / o osteoporosis. > spondylosis of thoracolumbar spine. > s / p abdominal operation in ruq.']\n",
                        "\n"
                    ]
                },
                {
                    "name": "stderr",
                    "output_type": "stream",
                    "text": [
                        "Evaluating: :  60%|██████    | 6/10 [00:18<00:12,  3.12s/it]"
                    ]
                },
                {
                    "name": "stdout",
                    "output_type": "stream",
                    "text": [
                        "Names      : ['NLP_CHEST_031']\n",
                        "Predictions: ['chest pa view : impression : - increased both lung markings. - compatible with right lung nodules. - fibrotic lesion in left upper lung. - normal heart size. atherosclerotic aorta. - suspect right pleural effusion. - spondylosis. r / o osteoporosis. - compatible with multiple bony metastases. - s / p ng and endotracheal tube. - s / p lt subclavian port - a - cath.']\n",
                        "Labels     : ['chest pa view : impression : - increased both lung markings. - compatible with right lung nodules. - fibrotic lesion in left upper lung. - normal heart size. atherosclerotic aorta. - suspect right pleural effusion. - spondylosis. r / o osteoporosis. - compatible with multiple bony metastases. - s / p ng and endotracheal tube. - s / p lt subclavian port - a - cath.']\n",
                        "\n"
                    ]
                },
                {
                    "name": "stderr",
                    "output_type": "stream",
                    "text": [
                        "Evaluating: :  70%|███████   | 7/10 [00:22<00:10,  3.38s/it]"
                    ]
                },
                {
                    "name": "stdout",
                    "output_type": "stream",
                    "text": [
                        "Names      : ['NLP_CHEST_057']\n",
                        "Predictions: ['chest plain film ap view showed : impression : - right upper lung mass. bilateral lung nodules. compatible with pulmonary tb. - increased infiltrations in both lungs. - blunting bilateral cp angles. - spondylosis of spine. - compression fracture of t - l spine. - s / p lt subclavian port - a - cath.']\n",
                        "Labels     : ['chest plain film shows : impression : - increased infiltrations in both lungs. - tortuous atherosclerotic dilated aorta. - normal heart size. - djd of spine. old fracture of right ribs. - increased both lung markings. s / p lt jugular cvc insertion. s / p ng and endotracheal tube. - susp. lt pneumothorax. suspect pneumomediastinum. subcutaneous emphysema in bilateral neck. - s / p bilateral chest tube insertion.']\n",
                        "\n"
                    ]
                },
                {
                    "name": "stderr",
                    "output_type": "stream",
                    "text": [
                        "Evaluating: :  80%|████████  | 8/10 [00:26<00:07,  3.58s/it]"
                    ]
                },
                {
                    "name": "stdout",
                    "output_type": "stream",
                    "text": [
                        "Names      : ['NLP_CHEST_059']\n",
                        "Predictions: ['chest pa view shows : impression : - increased infiltrations in both lungs. - blunting bilateral cp angles. - cardiomegaly. - atherosclerotic aorta. - scoliosis and djd of spine. - bilateral apical pleural thickening.']\n",
                        "Labels     : ['supine chest ap view shows : pigtail catheter at right lower chest. decreased amount of right pleural effusion. air in the right lower pleural space. poor lung expansion. mild subcutaneous emphysema at right chest wall. right pleural thickening. ill - defined masses at right perihilar region. normal heart size.']\n",
                        "\n"
                    ]
                },
                {
                    "name": "stderr",
                    "output_type": "stream",
                    "text": [
                        "Evaluating: :  90%|█████████ | 9/10 [00:29<00:03,  3.54s/it]"
                    ]
                },
                {
                    "name": "stdout",
                    "output_type": "stream",
                    "text": [
                        "Names      : ['NLP_CHEST_071']\n",
                        "Predictions: ['chest pa view shows : impression : - increased infiltrations in both lungs. - blunting bilateral cp angles. - s / p ng and endotracheal tube. - s / p ng and endotracheal tube. s / p rt jugular cvc insertion.']\n",
                        "Labels     : ['chest film shows : impression : - bilateral lung infiltrations. - suspect right lower lung patch. blunting right cp angle. - tortuous atherosclerotic aorta. - scoliosis, djd and osteoporosis of spine. compression fracture of t12. old fracture of left ribs. - s / p fixation in l - spine. - s / p tracheostomy and ng tube.']\n",
                        "\n"
                    ]
                },
                {
                    "name": "stderr",
                    "output_type": "stream",
                    "text": [
                        "Evaluating: : 100%|██████████| 10/10 [00:32<00:00,  3.28s/it]\n"
                    ]
                },
                {
                    "name": "stdout",
                    "output_type": "stream",
                    "text": [
                        "Names      : ['NLP_CHEST_085']\n",
                        "Predictions: ['chest plain film view showed : impression : - increased both lung markings. - blunting left cp angle. - the mediastinum is not widened. - normal heart size. - djd of spine. - s / p ng and endotracheal tube.']\n",
                        "Labels     : ['chest x ray : - right pneumothorax with pleural effusion, status post drainge tube placement. - extensive subcutaneous emphysema from neck to right side thoracic cage. - increased right hilar opacity. - atherosclerosis and tortuous aorta. - obscured bilateral costophrenic angles. - spondylosis and mild scoliosis of thoracolumbar spine. - oa of right glenohumeral joint. - generalized osteopenia.']\n",
                        "\n",
                        "Rouge-2 score : {'Rouge-L-P': 0.20449759615486007, 'Rouge-L-R': 0.16481836645568823, 'Rouge-L-F': 0.16481836645568823, 'Rouge-2-P': 0.13892840899659364, 'Rouge-2-R': 0.11422686259774784, 'Rouge-2-F': 0.11422686259774784}\n"
                    ]
                },
                {
                    "name": "stderr",
                    "output_type": "stream",
                    "text": [
                        "Training Epoch [43 / 50]: 100%|██████████| 89/89 [00:16<00:00,  5.28it/s, loss=0.0213]\n",
                        "Evaluating: :  10%|█         | 1/10 [00:02<00:21,  2.36s/it]"
                    ]
                },
                {
                    "name": "stdout",
                    "output_type": "stream",
                    "text": [
                        "Names      : ['NLP_CHEST_002']\n",
                        "Predictions: ['chest pa view shows : impression : - increased both lung markings. - blunting left cp angle. - the mediastinum is not widened. - normal heart size. - atherosclerotic aorta. - djd of spine. mild scoliosis of spine. - s / p left pleural pigtail tube.']\n",
                        "Labels     : ['chest pa view shows : partial atelectasis at left lower lung field. left pleural effusion. borderline heart size. atherosclerotic change of aortic knob. s / p port - a implantation via left subclavian vein. intraperitoneal port catheter. surgical clips at ruq of abdomen.']\n",
                        "\n"
                    ]
                },
                {
                    "name": "stderr",
                    "output_type": "stream",
                    "text": [
                        "Evaluating: :  20%|██        | 2/10 [00:04<00:18,  2.28s/it]"
                    ]
                },
                {
                    "name": "stdout",
                    "output_type": "stream",
                    "text": [
                        "Names      : ['NLP_CHEST_004']\n",
                        "Predictions: ['chest plain film shows : impression : - suspicious right upper lung nodule. - increased infiltrations in both lungs. - suspicious bilateral lower lung patches. - blunting bilateral cp angles. - tortuous atherosclerotic dilated aorta. - cardiomegaly. - scoliosis, djd and osteoporosis of spine.']\n",
                        "Labels     : ['chest pa view show : impression : - s / p rll wedge resection. - bilateral lungs metastasis. - left lower lung subsegmental atelectasis. - increased infiltrations in both lungs. - blunting right cp angle. - tortuous atherosclerotic aorta. - scoliosis, djd and osteoporosis of spine. - compression fracture of l1.']\n",
                        "\n"
                    ]
                },
                {
                    "name": "stderr",
                    "output_type": "stream",
                    "text": [
                        "Evaluating: :  30%|███       | 3/10 [00:06<00:15,  2.28s/it]"
                    ]
                },
                {
                    "name": "stdout",
                    "output_type": "stream",
                    "text": [
                        "Names      : ['NLP_CHEST_011']\n",
                        "Predictions: [\"chest ap view showed : 1. enlarged heart size with tortuous aorta. 2. bilateral lung reticulonodular infiltrations. r't upper and middle lung faint patches. a l't upper pleural thickening. s / p r't jugular cvp.\"]\n",
                        "Labels     : [\"chest ap view showed : 1. s / p sternotomy and cabg. enlarged heart size with tortuous aorta. 2. r't middle and lower lung faint patches. l't lower lung consolidation. l't pleural effusion. 3. no mediastinum widening. 4. s / p endotracheal tube and ng intubation.\"]\n",
                        "\n"
                    ]
                },
                {
                    "name": "stderr",
                    "output_type": "stream",
                    "text": [
                        "Evaluating: :  40%|████      | 4/10 [00:09<00:13,  2.26s/it]"
                    ]
                },
                {
                    "name": "stdout",
                    "output_type": "stream",
                    "text": [
                        "Names      : ['NLP_CHEST_015']\n",
                        "Predictions: ['chest pa view shows : > no obvious lung mass nor consolidation patch. > normal heart size. > no pleural effusion.']\n",
                        "Labels     : ['chest x ray : - no obvious lung mass nor consolidation patch. - normal heart size. - no pleural effusion.']\n",
                        "\n"
                    ]
                },
                {
                    "name": "stderr",
                    "output_type": "stream",
                    "text": [
                        "Evaluating: :  50%|█████     | 5/10 [00:11<00:11,  2.26s/it]"
                    ]
                },
                {
                    "name": "stdout",
                    "output_type": "stream",
                    "text": [
                        "Names      : ['NLP_CHEST_027']\n",
                        "Predictions: ['chest plain film shows : impression : - increased infiltrates in both lungs. - blunting bilateral cp angles. - cardiomegaly. - atherosclerotic aorta. - scoliosis and djd of spine. - bilateral apical pleural thickening.']\n",
                        "Labels     : ['chest pa view : impression : > cardiomegaly with bilateral pulmonary congestion. > postinflammatory fibrosis in both upper lungs. > atherosclerosis of aorta. > old fractures of left 5th and 6th ribs. > r / o osteoporosis. > spondylosis of thoracolumbar spine. > s / p abdominal operation in ruq.']\n",
                        "\n"
                    ]
                },
                {
                    "name": "stderr",
                    "output_type": "stream",
                    "text": [
                        "Evaluating: :  60%|██████    | 6/10 [00:13<00:09,  2.27s/it]"
                    ]
                },
                {
                    "name": "stdout",
                    "output_type": "stream",
                    "text": [
                        "Names      : ['NLP_CHEST_031']\n",
                        "Predictions: ['chest pa view : impression : - increased both lung markings. - compatible with right lung nodules. - fibrotic lesion in left upper lung. - normal heart size. atherosclerotic aorta. - suspect right pleural effusion. - spondylosis. r / o osteoporosis. - compatible with multiple bony metastases. - s / p ng and endotracheal tube. - s / p lt subclavian port - a - cath.']\n",
                        "Labels     : ['chest pa view : impression : - increased both lung markings. - compatible with right lung nodules. - fibrotic lesion in left upper lung. - normal heart size. atherosclerotic aorta. - suspect right pleural effusion. - spondylosis. r / o osteoporosis. - compatible with multiple bony metastases. - s / p ng and endotracheal tube. - s / p lt subclavian port - a - cath.']\n",
                        "\n"
                    ]
                },
                {
                    "name": "stderr",
                    "output_type": "stream",
                    "text": [
                        "Evaluating: :  70%|███████   | 7/10 [00:15<00:06,  2.28s/it]"
                    ]
                },
                {
                    "name": "stdout",
                    "output_type": "stream",
                    "text": [
                        "Names      : ['NLP_CHEST_057']\n",
                        "Predictions: ['chest plain film showed : impression : - suspicious pulmonary edema. superimposed pneumonia cannot be excluded. - elevated right hemidiaphragm. - normal heart size. atherosclerotic aorta. - scoliosis, djd and osteoporosis of spine. - s / p fixation in l - spine.']\n",
                        "Labels     : ['chest plain film shows : impression : - increased infiltrations in both lungs. - tortuous atherosclerotic dilated aorta. - normal heart size. - djd of spine. old fracture of right ribs. - increased both lung markings. s / p lt jugular cvc insertion. s / p ng and endotracheal tube. - susp. lt pneumothorax. suspect pneumomediastinum. subcutaneous emphysema in bilateral neck. - s / p bilateral chest tube insertion.']\n",
                        "\n"
                    ]
                },
                {
                    "name": "stderr",
                    "output_type": "stream",
                    "text": [
                        "Evaluating: :  80%|████████  | 8/10 [00:18<00:04,  2.31s/it]"
                    ]
                },
                {
                    "name": "stdout",
                    "output_type": "stream",
                    "text": [
                        "Names      : ['NLP_CHEST_059']\n",
                        "Predictions: ['chest pa view shows : impression : - increased infiltrations in both lungs. - blunting bilateral cp angles. - cardiomegaly. - atherosclerotic aorta. - djd of spine. s / p ng and endotracheal tube. s / p rt subclavian cvc insertion.']\n",
                        "Labels     : ['supine chest ap view shows : pigtail catheter at right lower chest. decreased amount of right pleural effusion. air in the right lower pleural space. poor lung expansion. mild subcutaneous emphysema at right chest wall. right pleural thickening. ill - defined masses at right perihilar region. normal heart size.']\n",
                        "\n"
                    ]
                },
                {
                    "name": "stderr",
                    "output_type": "stream",
                    "text": [
                        "Evaluating: :  90%|█████████ | 9/10 [00:20<00:02,  2.36s/it]"
                    ]
                },
                {
                    "name": "stdout",
                    "output_type": "stream",
                    "text": [
                        "Names      : ['NLP_CHEST_071']\n",
                        "Predictions: ['chest plain film shows : impression : - increased infiltrations in both lungs. - blunting bilateral cp angles. - tortuous atherosclerotic dilated aorta. - normal heart size. - djd of spine. - s / p lt subclavian port - a - cath.']\n",
                        "Labels     : ['chest film shows : impression : - bilateral lung infiltrations. - suspect right lower lung patch. blunting right cp angle. - tortuous atherosclerotic aorta. - scoliosis, djd and osteoporosis of spine. compression fracture of t12. old fracture of left ribs. - s / p fixation in l - spine. - s / p tracheostomy and ng tube.']\n",
                        "\n"
                    ]
                },
                {
                    "name": "stderr",
                    "output_type": "stream",
                    "text": [
                        "Evaluating: : 100%|██████████| 10/10 [00:23<00:00,  2.35s/it]\n"
                    ]
                },
                {
                    "name": "stdout",
                    "output_type": "stream",
                    "text": [
                        "Names      : ['NLP_CHEST_085']\n",
                        "Predictions: ['chest plain film shows : impression : - increased infiltrations in both lungs. - blunting bilateral cp angles. - atherosclerotic aorta. - djd of spine. - s / p ng and endotracheal tube. s / p rt jugular cvc insertion.']\n",
                        "Labels     : ['chest x ray : - right pneumothorax with pleural effusion, status post drainge tube placement. - extensive subcutaneous emphysema from neck to right side thoracic cage. - increased right hilar opacity. - atherosclerosis and tortuous aorta. - obscured bilateral costophrenic angles. - spondylosis and mild scoliosis of thoracolumbar spine. - oa of right glenohumeral joint. - generalized osteopenia.']\n",
                        "\n",
                        "Rouge-2 score : {'Rouge-L-P': 0.2116686604053908, 'Rouge-L-R': 0.17117291257105752, 'Rouge-L-F': 0.17117291257105752, 'Rouge-2-P': 0.14380758806182034, 'Rouge-2-R': 0.11869613345761997, 'Rouge-2-F': 0.11869613345761997}\n"
                    ]
                },
                {
                    "name": "stderr",
                    "output_type": "stream",
                    "text": [
                        "Training Epoch [44 / 50]: 100%|██████████| 89/89 [00:14<00:00,  5.98it/s, loss=0.0202]\n",
                        "Evaluating: :  10%|█         | 1/10 [00:02<00:21,  2.42s/it]"
                    ]
                },
                {
                    "name": "stdout",
                    "output_type": "stream",
                    "text": [
                        "Names      : ['NLP_CHEST_002']\n",
                        "Predictions: ['']\n",
                        "Labels     : ['chest pa view shows : partial atelectasis at left lower lung field. left pleural effusion. borderline heart size. atherosclerotic change of aortic knob. s / p port - a implantation via left subclavian vein. intraperitoneal port catheter. surgical clips at ruq of abdomen.']\n",
                        "\n"
                    ]
                },
                {
                    "name": "stderr",
                    "output_type": "stream",
                    "text": [
                        "Evaluating: :  20%|██        | 2/10 [00:04<00:18,  2.34s/it]"
                    ]
                },
                {
                    "name": "stdout",
                    "output_type": "stream",
                    "text": [
                        "Names      : ['NLP_CHEST_004']\n",
                        "Predictions: ['']\n",
                        "Labels     : ['chest pa view show : impression : - s / p rll wedge resection. - bilateral lungs metastasis. - left lower lung subsegmental atelectasis. - increased infiltrations in both lungs. - blunting right cp angle. - tortuous atherosclerotic aorta. - scoliosis, djd and osteoporosis of spine. - compression fracture of l1.']\n",
                        "\n"
                    ]
                },
                {
                    "name": "stderr",
                    "output_type": "stream",
                    "text": [
                        "Evaluating: :  30%|███       | 3/10 [00:07<00:16,  2.34s/it]"
                    ]
                },
                {
                    "name": "stdout",
                    "output_type": "stream",
                    "text": [
                        "Names      : ['NLP_CHEST_011']\n",
                        "Predictions: ['']\n",
                        "Labels     : [\"chest ap view showed : 1. s / p sternotomy and cabg. enlarged heart size with tortuous aorta. 2. r't middle and lower lung faint patches. l't lower lung consolidation. l't pleural effusion. 3. no mediastinum widening. 4. s / p endotracheal tube and ng intubation.\"]\n",
                        "\n"
                    ]
                },
                {
                    "name": "stderr",
                    "output_type": "stream",
                    "text": [
                        "Evaluating: :  40%|████      | 4/10 [00:09<00:14,  2.37s/it]"
                    ]
                },
                {
                    "name": "stdout",
                    "output_type": "stream",
                    "text": [
                        "Names      : ['NLP_CHEST_015']\n",
                        "Predictions: ['']\n",
                        "Labels     : ['chest x ray : - no obvious lung mass nor consolidation patch. - normal heart size. - no pleural effusion.']\n",
                        "\n"
                    ]
                },
                {
                    "name": "stderr",
                    "output_type": "stream",
                    "text": [
                        "Evaluating: :  50%|█████     | 5/10 [00:12<00:12,  2.51s/it]"
                    ]
                },
                {
                    "name": "stdout",
                    "output_type": "stream",
                    "text": [
                        "Names      : ['NLP_CHEST_027']\n",
                        "Predictions: ['']\n",
                        "Labels     : ['chest pa view : impression : > cardiomegaly with bilateral pulmonary congestion. > postinflammatory fibrosis in both upper lungs. > atherosclerosis of aorta. > old fractures of left 5th and 6th ribs. > r / o osteoporosis. > spondylosis of thoracolumbar spine. > s / p abdominal operation in ruq.']\n",
                        "\n"
                    ]
                },
                {
                    "name": "stderr",
                    "output_type": "stream",
                    "text": [
                        "Evaluating: :  60%|██████    | 6/10 [00:14<00:10,  2.52s/it]"
                    ]
                },
                {
                    "name": "stdout",
                    "output_type": "stream",
                    "text": [
                        "Names      : ['NLP_CHEST_031']\n",
                        "Predictions: ['']\n",
                        "Labels     : ['chest pa view : impression : - increased both lung markings. - compatible with right lung nodules. - fibrotic lesion in left upper lung. - normal heart size. atherosclerotic aorta. - suspect right pleural effusion. - spondylosis. r / o osteoporosis. - compatible with multiple bony metastases. - s / p ng and endotracheal tube. - s / p lt subclavian port - a - cath.']\n",
                        "\n"
                    ]
                },
                {
                    "name": "stderr",
                    "output_type": "stream",
                    "text": [
                        "Evaluating: :  70%|███████   | 7/10 [00:17<00:07,  2.47s/it]"
                    ]
                },
                {
                    "name": "stdout",
                    "output_type": "stream",
                    "text": [
                        "Names      : ['NLP_CHEST_057']\n",
                        "Predictions: ['']\n",
                        "Labels     : ['chest plain film shows : impression : - increased infiltrations in both lungs. - tortuous atherosclerotic dilated aorta. - normal heart size. - djd of spine. old fracture of right ribs. - increased both lung markings. s / p lt jugular cvc insertion. s / p ng and endotracheal tube. - susp. lt pneumothorax. suspect pneumomediastinum. subcutaneous emphysema in bilateral neck. - s / p bilateral chest tube insertion.']\n",
                        "\n"
                    ]
                },
                {
                    "name": "stderr",
                    "output_type": "stream",
                    "text": [
                        "Evaluating: :  80%|████████  | 8/10 [00:19<00:04,  2.43s/it]"
                    ]
                },
                {
                    "name": "stdout",
                    "output_type": "stream",
                    "text": [
                        "Names      : ['NLP_CHEST_059']\n",
                        "Predictions: ['']\n",
                        "Labels     : ['supine chest ap view shows : pigtail catheter at right lower chest. decreased amount of right pleural effusion. air in the right lower pleural space. poor lung expansion. mild subcutaneous emphysema at right chest wall. right pleural thickening. ill - defined masses at right perihilar region. normal heart size.']\n",
                        "\n"
                    ]
                },
                {
                    "name": "stderr",
                    "output_type": "stream",
                    "text": [
                        "Evaluating: :  90%|█████████ | 9/10 [00:21<00:02,  2.45s/it]"
                    ]
                },
                {
                    "name": "stdout",
                    "output_type": "stream",
                    "text": [
                        "Names      : ['NLP_CHEST_071']\n",
                        "Predictions: ['']\n",
                        "Labels     : ['chest film shows : impression : - bilateral lung infiltrations. - suspect right lower lung patch. blunting right cp angle. - tortuous atherosclerotic aorta. - scoliosis, djd and osteoporosis of spine. compression fracture of t12. old fracture of left ribs. - s / p fixation in l - spine. - s / p tracheostomy and ng tube.']\n",
                        "\n"
                    ]
                },
                {
                    "name": "stderr",
                    "output_type": "stream",
                    "text": [
                        "Evaluating: : 100%|██████████| 10/10 [00:24<00:00,  2.46s/it]\n"
                    ]
                },
                {
                    "name": "stdout",
                    "output_type": "stream",
                    "text": [
                        "Names      : ['NLP_CHEST_085']\n",
                        "Predictions: ['']\n",
                        "Labels     : ['chest x ray : - right pneumothorax with pleural effusion, status post drainge tube placement. - extensive subcutaneous emphysema from neck to right side thoracic cage. - increased right hilar opacity. - atherosclerosis and tortuous aorta. - obscured bilateral costophrenic angles. - spondylosis and mild scoliosis of thoracolumbar spine. - oa of right glenohumeral joint. - generalized osteopenia.']\n",
                        "\n",
                        "Rouge-2 score : {'Rouge-L-P': 0.20685800903254103, 'Rouge-L-R': 0.16728261910353348, 'Rouge-L-F': 0.16728261910353348, 'Rouge-2-P': 0.14053923378768807, 'Rouge-2-R': 0.11599849406085588, 'Rouge-2-F': 0.11599849406085588}\n"
                    ]
                },
                {
                    "name": "stderr",
                    "output_type": "stream",
                    "text": [
                        "Training Epoch [45 / 50]: 100%|██████████| 89/89 [00:14<00:00,  6.20it/s, loss=0.0193]\n",
                        "Evaluating: :  10%|█         | 1/10 [00:02<00:21,  2.44s/it]"
                    ]
                },
                {
                    "name": "stdout",
                    "output_type": "stream",
                    "text": [
                        "Names      : ['NLP_CHEST_002']\n",
                        "Predictions: ['chest pa view shows : impression : - increased both lung markings. blunting bilateral cp angles. - the mediastinum is not widened. - normal heart size. - atherosclerotic aorta. - djd of spine. mild scoliosis of spine. - s / p left pleural pigtail tube. subcutaneous emphysema in left chest wall.']\n",
                        "Labels     : ['chest pa view shows : partial atelectasis at left lower lung field. left pleural effusion. borderline heart size. atherosclerotic change of aortic knob. s / p port - a implantation via left subclavian vein. intraperitoneal port catheter. surgical clips at ruq of abdomen.']\n",
                        "\n"
                    ]
                },
                {
                    "name": "stderr",
                    "output_type": "stream",
                    "text": [
                        "Evaluating: :  20%|██        | 2/10 [00:04<00:19,  2.44s/it]"
                    ]
                },
                {
                    "name": "stdout",
                    "output_type": "stream",
                    "text": [
                        "Names      : ['NLP_CHEST_004']\n",
                        "Predictions: ['']\n",
                        "Labels     : ['chest pa view show : impression : - s / p rll wedge resection. - bilateral lungs metastasis. - left lower lung subsegmental atelectasis. - increased infiltrations in both lungs. - blunting right cp angle. - tortuous atherosclerotic aorta. - scoliosis, djd and osteoporosis of spine. - compression fracture of l1.']\n",
                        "\n"
                    ]
                },
                {
                    "name": "stderr",
                    "output_type": "stream",
                    "text": [
                        "Evaluating: :  30%|███       | 3/10 [00:07<00:18,  2.62s/it]"
                    ]
                },
                {
                    "name": "stdout",
                    "output_type": "stream",
                    "text": [
                        "Names      : ['NLP_CHEST_011']\n",
                        "Predictions: ['']\n",
                        "Labels     : [\"chest ap view showed : 1. s / p sternotomy and cabg. enlarged heart size with tortuous aorta. 2. r't middle and lower lung faint patches. l't lower lung consolidation. l't pleural effusion. 3. no mediastinum widening. 4. s / p endotracheal tube and ng intubation.\"]\n",
                        "\n"
                    ]
                },
                {
                    "name": "stderr",
                    "output_type": "stream",
                    "text": [
                        "Evaluating: :  40%|████      | 4/10 [00:10<00:16,  2.68s/it]"
                    ]
                },
                {
                    "name": "stdout",
                    "output_type": "stream",
                    "text": [
                        "Names      : ['NLP_CHEST_015']\n",
                        "Predictions: ['']\n",
                        "Labels     : ['chest x ray : - no obvious lung mass nor consolidation patch. - normal heart size. - no pleural effusion.']\n",
                        "\n"
                    ]
                },
                {
                    "name": "stderr",
                    "output_type": "stream",
                    "text": [
                        "Evaluating: :  50%|█████     | 5/10 [00:12<00:13,  2.61s/it]"
                    ]
                },
                {
                    "name": "stdout",
                    "output_type": "stream",
                    "text": [
                        "Names      : ['NLP_CHEST_027']\n",
                        "Predictions: ['']\n",
                        "Labels     : ['chest pa view : impression : > cardiomegaly with bilateral pulmonary congestion. > postinflammatory fibrosis in both upper lungs. > atherosclerosis of aorta. > old fractures of left 5th and 6th ribs. > r / o osteoporosis. > spondylosis of thoracolumbar spine. > s / p abdominal operation in ruq.']\n",
                        "\n"
                    ]
                },
                {
                    "name": "stderr",
                    "output_type": "stream",
                    "text": [
                        "Evaluating: :  60%|██████    | 6/10 [00:15<00:10,  2.50s/it]"
                    ]
                },
                {
                    "name": "stdout",
                    "output_type": "stream",
                    "text": [
                        "Names      : ['NLP_CHEST_031']\n",
                        "Predictions: ['chest pa view : impression : - increased both lung markings. - compatible with right lung nodules. - fibrotic lesion in left upper lung. - normal heart size. atherosclerotic aorta. - suspect right pleural effusion. - spondylosis. r / o osteoporosis. - compatible with multiple bony metastases. - s / p ng and endotracheal tube. - s / p lt subclavian port - a - cath.']\n",
                        "Labels     : ['chest pa view : impression : - increased both lung markings. - compatible with right lung nodules. - fibrotic lesion in left upper lung. - normal heart size. atherosclerotic aorta. - suspect right pleural effusion. - spondylosis. r / o osteoporosis. - compatible with multiple bony metastases. - s / p ng and endotracheal tube. - s / p lt subclavian port - a - cath.']\n",
                        "\n"
                    ]
                },
                {
                    "name": "stderr",
                    "output_type": "stream",
                    "text": [
                        "Evaluating: :  70%|███████   | 7/10 [00:17<00:07,  2.44s/it]"
                    ]
                },
                {
                    "name": "stdout",
                    "output_type": "stream",
                    "text": [
                        "Names      : ['NLP_CHEST_057']\n",
                        "Predictions: ['']\n",
                        "Labels     : ['chest plain film shows : impression : - increased infiltrations in both lungs. - tortuous atherosclerotic dilated aorta. - normal heart size. - djd of spine. old fracture of right ribs. - increased both lung markings. s / p lt jugular cvc insertion. s / p ng and endotracheal tube. - susp. lt pneumothorax. suspect pneumomediastinum. subcutaneous emphysema in bilateral neck. - s / p bilateral chest tube insertion.']\n",
                        "\n"
                    ]
                },
                {
                    "name": "stderr",
                    "output_type": "stream",
                    "text": [
                        "Evaluating: :  80%|████████  | 8/10 [00:19<00:04,  2.39s/it]"
                    ]
                },
                {
                    "name": "stdout",
                    "output_type": "stream",
                    "text": [
                        "Names      : ['NLP_CHEST_059']\n",
                        "Predictions: ['']\n",
                        "Labels     : ['supine chest ap view shows : pigtail catheter at right lower chest. decreased amount of right pleural effusion. air in the right lower pleural space. poor lung expansion. mild subcutaneous emphysema at right chest wall. right pleural thickening. ill - defined masses at right perihilar region. normal heart size.']\n",
                        "\n"
                    ]
                },
                {
                    "name": "stderr",
                    "output_type": "stream",
                    "text": [
                        "Evaluating: :  90%|█████████ | 9/10 [00:22<00:02,  2.36s/it]"
                    ]
                },
                {
                    "name": "stdout",
                    "output_type": "stream",
                    "text": [
                        "Names      : ['NLP_CHEST_071']\n",
                        "Predictions: ['chest pa view show : impression : - increased infiltrations in both lungs. - blunting bilateral cp angles. - tortuous atherosclerotic dilated aorta. - normal heart size. - djd of spine. s / p rt jugular cvc insertion.']\n",
                        "Labels     : ['chest film shows : impression : - bilateral lung infiltrations. - suspect right lower lung patch. blunting right cp angle. - tortuous atherosclerotic aorta. - scoliosis, djd and osteoporosis of spine. compression fracture of t12. old fracture of left ribs. - s / p fixation in l - spine. - s / p tracheostomy and ng tube.']\n",
                        "\n"
                    ]
                },
                {
                    "name": "stderr",
                    "output_type": "stream",
                    "text": [
                        "Evaluating: : 100%|██████████| 10/10 [00:24<00:00,  2.44s/it]\n"
                    ]
                },
                {
                    "name": "stdout",
                    "output_type": "stream",
                    "text": [
                        "Names      : ['NLP_CHEST_085']\n",
                        "Predictions: ['']\n",
                        "Labels     : ['chest x ray : - right pneumothorax with pleural effusion, status post drainge tube placement. - extensive subcutaneous emphysema from neck to right side thoracic cage. - increased right hilar opacity. - atherosclerosis and tortuous aorta. - obscured bilateral costophrenic angles. - spondylosis and mild scoliosis of thoracolumbar spine. - oa of right glenohumeral joint. - generalized osteopenia.']\n",
                        "\n",
                        "Rouge-2 score : {'Rouge-L-P': 0.20620451950719917, 'Rouge-L-R': 0.16725170474274867, 'Rouge-L-F': 0.16725170474274867, 'Rouge-2-P': 0.14053445802183553, 'Rouge-2-R': 0.11642339525103791, 'Rouge-2-F': 0.11642339525103791}\n"
                    ]
                },
                {
                    "name": "stderr",
                    "output_type": "stream",
                    "text": [
                        "Training Epoch [46 / 50]: 100%|██████████| 89/89 [00:14<00:00,  6.25it/s, loss=0.0185]\n",
                        "Evaluating: :  10%|█         | 1/10 [00:02<00:20,  2.27s/it]"
                    ]
                },
                {
                    "name": "stdout",
                    "output_type": "stream",
                    "text": [
                        "Names      : ['NLP_CHEST_002']\n",
                        "Predictions: ['chest pa view shows : impression : - increased both lung markings. blunting bilateral cp angles. - the mediastinum is not widened. - normal heart size. - atherosclerotic aorta. - djd of spine. mild scoliosis of spine.']\n",
                        "Labels     : ['chest pa view shows : partial atelectasis at left lower lung field. left pleural effusion. borderline heart size. atherosclerotic change of aortic knob. s / p port - a implantation via left subclavian vein. intraperitoneal port catheter. surgical clips at ruq of abdomen.']\n",
                        "\n"
                    ]
                },
                {
                    "name": "stderr",
                    "output_type": "stream",
                    "text": [
                        "Evaluating: :  20%|██        | 2/10 [00:04<00:18,  2.34s/it]"
                    ]
                },
                {
                    "name": "stdout",
                    "output_type": "stream",
                    "text": [
                        "Names      : ['NLP_CHEST_004']\n",
                        "Predictions: ['chest plain film shows : impression : - suspicious right upper lung nodule. - increased infiltrations in both lungs. - tortuous atherosclerotic dilated aorta. - normal heart size.']\n",
                        "Labels     : ['chest pa view show : impression : - s / p rll wedge resection. - bilateral lungs metastasis. - left lower lung subsegmental atelectasis. - increased infiltrations in both lungs. - blunting right cp angle. - tortuous atherosclerotic aorta. - scoliosis, djd and osteoporosis of spine. - compression fracture of l1.']\n",
                        "\n"
                    ]
                },
                {
                    "name": "stderr",
                    "output_type": "stream",
                    "text": [
                        "Evaluating: :  30%|███       | 3/10 [00:07<00:17,  2.47s/it]"
                    ]
                },
                {
                    "name": "stdout",
                    "output_type": "stream",
                    "text": [
                        "Names      : ['NLP_CHEST_011']\n",
                        "Predictions: ['chest plain film shows : impression : - suspect right upper lung mass. - suspect pulmonary fibrosis. suspect right lower lung patch. blunting bilateral cp angles. - increased infiltrations in both lungs. - tortuous atherosclerotic dilated aorta. - cardiomegaly. - djd of spine. - s / p rt jugular cvc insertion.']\n",
                        "Labels     : [\"chest ap view showed : 1. s / p sternotomy and cabg. enlarged heart size with tortuous aorta. 2. r't middle and lower lung faint patches. l't lower lung consolidation. l't pleural effusion. 3. no mediastinum widening. 4. s / p endotracheal tube and ng intubation.\"]\n",
                        "\n"
                    ]
                },
                {
                    "name": "stderr",
                    "output_type": "stream",
                    "text": [
                        "Evaluating: :  40%|████      | 4/10 [00:10<00:16,  2.68s/it]"
                    ]
                },
                {
                    "name": "stdout",
                    "output_type": "stream",
                    "text": [
                        "Names      : ['NLP_CHEST_015']\n",
                        "Predictions: ['chest pa view shows : > no obvious lung mass nor consolidation patch. > normal heart size. > no pleural effusion.']\n",
                        "Labels     : ['chest x ray : - no obvious lung mass nor consolidation patch. - normal heart size. - no pleural effusion.']\n",
                        "\n"
                    ]
                },
                {
                    "name": "stderr",
                    "output_type": "stream",
                    "text": [
                        "Evaluating: :  50%|█████     | 5/10 [00:13<00:14,  2.81s/it]"
                    ]
                },
                {
                    "name": "stdout",
                    "output_type": "stream",
                    "text": [
                        "Names      : ['NLP_CHEST_027']\n",
                        "Predictions: ['chest plain film shows : impression : - cardiomegaly. - atherosclerotic aorta. - scoliosis and djd of spine. - bilateral apical pleural thickening.']\n",
                        "Labels     : ['chest pa view : impression : > cardiomegaly with bilateral pulmonary congestion. > postinflammatory fibrosis in both upper lungs. > atherosclerosis of aorta. > old fractures of left 5th and 6th ribs. > r / o osteoporosis. > spondylosis of thoracolumbar spine. > s / p abdominal operation in ruq.']\n",
                        "\n"
                    ]
                },
                {
                    "name": "stderr",
                    "output_type": "stream",
                    "text": [
                        "Evaluating: :  60%|██████    | 6/10 [00:16<00:11,  2.80s/it]"
                    ]
                },
                {
                    "name": "stdout",
                    "output_type": "stream",
                    "text": [
                        "Names      : ['NLP_CHEST_031']\n",
                        "Predictions: ['chest pa view : impression : - increased both lung markings. - compatible with right lung nodules. - fibrotic lesion in left upper lung. - normal heart size. atherosclerotic aorta. - suspect right pleural effusion. - spondylosis. r / o osteoporosis. - compatible with multiple bony metastases. - s / p ng and endotracheal tube. - s / p lt subclavian port - a - cath.']\n",
                        "Labels     : ['chest pa view : impression : - increased both lung markings. - compatible with right lung nodules. - fibrotic lesion in left upper lung. - normal heart size. atherosclerotic aorta. - suspect right pleural effusion. - spondylosis. r / o osteoporosis. - compatible with multiple bony metastases. - s / p ng and endotracheal tube. - s / p lt subclavian port - a - cath.']\n",
                        "\n"
                    ]
                },
                {
                    "name": "stderr",
                    "output_type": "stream",
                    "text": [
                        "Evaluating: :  70%|███████   | 7/10 [00:18<00:08,  2.72s/it]"
                    ]
                },
                {
                    "name": "stdout",
                    "output_type": "stream",
                    "text": [
                        "Names      : ['NLP_CHEST_057']\n",
                        "Predictions: ['chest plain film shows : impression : - increased infiltrations in both lungs. - blunting bilateral cp angles. - normal heart size. - atherosclerotic aorta. - scoliosis and djd of spine. - normal heart size. - s / p lt subclavian port - a - cath.']\n",
                        "Labels     : ['chest plain film shows : impression : - increased infiltrations in both lungs. - tortuous atherosclerotic dilated aorta. - normal heart size. - djd of spine. old fracture of right ribs. - increased both lung markings. s / p lt jugular cvc insertion. s / p ng and endotracheal tube. - susp. lt pneumothorax. suspect pneumomediastinum. subcutaneous emphysema in bilateral neck. - s / p bilateral chest tube insertion.']\n",
                        "\n"
                    ]
                },
                {
                    "name": "stderr",
                    "output_type": "stream",
                    "text": [
                        "Evaluating: :  80%|████████  | 8/10 [00:21<00:05,  2.70s/it]"
                    ]
                },
                {
                    "name": "stdout",
                    "output_type": "stream",
                    "text": [
                        "Names      : ['NLP_CHEST_059']\n",
                        "Predictions: ['chest plain film shows : impression : - increased infiltrations in both lungs. - blunting bilateral cp angles. - cardiomegaly. - atherosclerotic aorta. - scoliosis and djd of spine. - bilateral apical pleural thickening.']\n",
                        "Labels     : ['supine chest ap view shows : pigtail catheter at right lower chest. decreased amount of right pleural effusion. air in the right lower pleural space. poor lung expansion. mild subcutaneous emphysema at right chest wall. right pleural thickening. ill - defined masses at right perihilar region. normal heart size.']\n",
                        "\n"
                    ]
                },
                {
                    "name": "stderr",
                    "output_type": "stream",
                    "text": [
                        "Evaluating: :  90%|█████████ | 9/10 [00:23<00:02,  2.68s/it]"
                    ]
                },
                {
                    "name": "stdout",
                    "output_type": "stream",
                    "text": [
                        "Names      : ['NLP_CHEST_071']\n",
                        "Predictions: ['chest plain film shows : impression : - increased infiltrations in both lungs. - blunting bilateral cp angles. - cardiomegaly. - atherosclerotic aorta. - scoliosis and djd of spine. - bilateral apical pleural thickening.']\n",
                        "Labels     : ['chest film shows : impression : - bilateral lung infiltrations. - suspect right lower lung patch. blunting right cp angle. - tortuous atherosclerotic aorta. - scoliosis, djd and osteoporosis of spine. compression fracture of t12. old fracture of left ribs. - s / p fixation in l - spine. - s / p tracheostomy and ng tube.']\n",
                        "\n"
                    ]
                },
                {
                    "name": "stderr",
                    "output_type": "stream",
                    "text": [
                        "Evaluating: : 100%|██████████| 10/10 [00:26<00:00,  2.69s/it]\n"
                    ]
                },
                {
                    "name": "stdout",
                    "output_type": "stream",
                    "text": [
                        "Names      : ['NLP_CHEST_085']\n",
                        "Predictions: ['chest plain film shows : impression : - increased infiltrations in both lungs. - blunting bilateral cp angles. - cardiomegaly. - atherosclerotic aorta. - djd of spine. - s / p ng and endotracheal tube.']\n",
                        "Labels     : ['chest x ray : - right pneumothorax with pleural effusion, status post drainge tube placement. - extensive subcutaneous emphysema from neck to right side thoracic cage. - increased right hilar opacity. - atherosclerosis and tortuous aorta. - obscured bilateral costophrenic angles. - spondylosis and mild scoliosis of thoracolumbar spine. - oa of right glenohumeral joint. - generalized osteopenia.']\n",
                        "\n",
                        "Rouge-2 score : {'Rouge-L-P': 0.2121001115844688, 'Rouge-L-R': 0.1717054585767373, 'Rouge-L-F': 0.1717054585767373, 'Rouge-2-P': 0.14460603707514674, 'Rouge-2-R': 0.11966146268399988, 'Rouge-2-F': 0.11966146268399988}\n"
                    ]
                },
                {
                    "name": "stderr",
                    "output_type": "stream",
                    "text": [
                        "Training Epoch [47 / 50]: 100%|██████████| 89/89 [00:15<00:00,  5.82it/s, loss=0.0164]\n",
                        "Evaluating: :  10%|█         | 1/10 [00:02<00:23,  2.66s/it]"
                    ]
                },
                {
                    "name": "stdout",
                    "output_type": "stream",
                    "text": [
                        "Names      : ['NLP_CHEST_002']\n",
                        "Predictions: ['chest pa view shows : > bilateral lung markings increased. > no pleural effusion. > the heart shadow is enlarged. > the aortic shadow is atherosclerotic and tortuous.']\n",
                        "Labels     : ['chest pa view shows : partial atelectasis at left lower lung field. left pleural effusion. borderline heart size. atherosclerotic change of aortic knob. s / p port - a implantation via left subclavian vein. intraperitoneal port catheter. surgical clips at ruq of abdomen.']\n",
                        "\n"
                    ]
                },
                {
                    "name": "stderr",
                    "output_type": "stream",
                    "text": [
                        "Evaluating: :  20%|██        | 2/10 [00:05<00:20,  2.55s/it]"
                    ]
                },
                {
                    "name": "stdout",
                    "output_type": "stream",
                    "text": [
                        "Names      : ['NLP_CHEST_004']\n",
                        "Predictions: ['']\n",
                        "Labels     : ['chest pa view show : impression : - s / p rll wedge resection. - bilateral lungs metastasis. - left lower lung subsegmental atelectasis. - increased infiltrations in both lungs. - blunting right cp angle. - tortuous atherosclerotic aorta. - scoliosis, djd and osteoporosis of spine. - compression fracture of l1.']\n",
                        "\n"
                    ]
                },
                {
                    "name": "stderr",
                    "output_type": "stream",
                    "text": [
                        "Evaluating: :  30%|███       | 3/10 [00:07<00:17,  2.53s/it]"
                    ]
                },
                {
                    "name": "stdout",
                    "output_type": "stream",
                    "text": [
                        "Names      : ['NLP_CHEST_011']\n",
                        "Predictions: ['']\n",
                        "Labels     : [\"chest ap view showed : 1. s / p sternotomy and cabg. enlarged heart size with tortuous aorta. 2. r't middle and lower lung faint patches. l't lower lung consolidation. l't pleural effusion. 3. no mediastinum widening. 4. s / p endotracheal tube and ng intubation.\"]\n",
                        "\n"
                    ]
                },
                {
                    "name": "stderr",
                    "output_type": "stream",
                    "text": [
                        "Evaluating: :  40%|████      | 4/10 [00:10<00:14,  2.47s/it]"
                    ]
                },
                {
                    "name": "stdout",
                    "output_type": "stream",
                    "text": [
                        "Names      : ['NLP_CHEST_015']\n",
                        "Predictions: ['']\n",
                        "Labels     : ['chest x ray : - no obvious lung mass nor consolidation patch. - normal heart size. - no pleural effusion.']\n",
                        "\n"
                    ]
                },
                {
                    "name": "stderr",
                    "output_type": "stream",
                    "text": [
                        "Evaluating: :  50%|█████     | 5/10 [00:12<00:12,  2.43s/it]"
                    ]
                },
                {
                    "name": "stdout",
                    "output_type": "stream",
                    "text": [
                        "Names      : ['NLP_CHEST_027']\n",
                        "Predictions: ['']\n",
                        "Labels     : ['chest pa view : impression : > cardiomegaly with bilateral pulmonary congestion. > postinflammatory fibrosis in both upper lungs. > atherosclerosis of aorta. > old fractures of left 5th and 6th ribs. > r / o osteoporosis. > spondylosis of thoracolumbar spine. > s / p abdominal operation in ruq.']\n",
                        "\n"
                    ]
                },
                {
                    "name": "stderr",
                    "output_type": "stream",
                    "text": [
                        "Evaluating: :  60%|██████    | 6/10 [00:14<00:09,  2.45s/it]"
                    ]
                },
                {
                    "name": "stdout",
                    "output_type": "stream",
                    "text": [
                        "Names      : ['NLP_CHEST_031']\n",
                        "Predictions: ['chest pa view : impression : - increased both lung markings. - compatible with right lung nodules. - fibrotic lesion in left upper lung. - normal heart size. atherosclerotic aorta. - suspect right pleural effusion. - spondylosis. r / o osteoporosis. - compatible with multiple bony metastases. - s / p ng and endotracheal tube. - s / p lt subclavian port - a - cath.']\n",
                        "Labels     : ['chest pa view : impression : - increased both lung markings. - compatible with right lung nodules. - fibrotic lesion in left upper lung. - normal heart size. atherosclerotic aorta. - suspect right pleural effusion. - spondylosis. r / o osteoporosis. - compatible with multiple bony metastases. - s / p ng and endotracheal tube. - s / p lt subclavian port - a - cath.']\n",
                        "\n"
                    ]
                },
                {
                    "name": "stderr",
                    "output_type": "stream",
                    "text": [
                        "Evaluating: :  70%|███████   | 7/10 [00:17<00:07,  2.49s/it]"
                    ]
                },
                {
                    "name": "stdout",
                    "output_type": "stream",
                    "text": [
                        "Names      : ['NLP_CHEST_057']\n",
                        "Predictions: ['']\n",
                        "Labels     : ['chest plain film shows : impression : - increased infiltrations in both lungs. - tortuous atherosclerotic dilated aorta. - normal heart size. - djd of spine. old fracture of right ribs. - increased both lung markings. s / p lt jugular cvc insertion. s / p ng and endotracheal tube. - susp. lt pneumothorax. suspect pneumomediastinum. subcutaneous emphysema in bilateral neck. - s / p bilateral chest tube insertion.']\n",
                        "\n"
                    ]
                },
                {
                    "name": "stderr",
                    "output_type": "stream",
                    "text": [
                        "Evaluating: :  80%|████████  | 8/10 [00:19<00:04,  2.49s/it]"
                    ]
                },
                {
                    "name": "stdout",
                    "output_type": "stream",
                    "text": [
                        "Names      : ['NLP_CHEST_059']\n",
                        "Predictions: ['']\n",
                        "Labels     : ['supine chest ap view shows : pigtail catheter at right lower chest. decreased amount of right pleural effusion. air in the right lower pleural space. poor lung expansion. mild subcutaneous emphysema at right chest wall. right pleural thickening. ill - defined masses at right perihilar region. normal heart size.']\n",
                        "\n"
                    ]
                },
                {
                    "name": "stderr",
                    "output_type": "stream",
                    "text": [
                        "Evaluating: :  90%|█████████ | 9/10 [00:22<00:02,  2.54s/it]"
                    ]
                },
                {
                    "name": "stdout",
                    "output_type": "stream",
                    "text": [
                        "Names      : ['NLP_CHEST_071']\n",
                        "Predictions: ['chest plain film shows : impression : - increased infiltrations in both lungs. - suspicious right lower lung patch. blunting bilateral cp angles. - tortuous atherosclerotic dilated aorta. - normal heart size. - djd of spine. - s / p rt subclavian cvc insertion.']\n",
                        "Labels     : ['chest film shows : impression : - bilateral lung infiltrations. - suspect right lower lung patch. blunting right cp angle. - tortuous atherosclerotic aorta. - scoliosis, djd and osteoporosis of spine. compression fracture of t12. old fracture of left ribs. - s / p fixation in l - spine. - s / p tracheostomy and ng tube.']\n",
                        "\n"
                    ]
                },
                {
                    "name": "stderr",
                    "output_type": "stream",
                    "text": [
                        "Evaluating: : 100%|██████████| 10/10 [00:25<00:00,  2.50s/it]\n"
                    ]
                },
                {
                    "name": "stdout",
                    "output_type": "stream",
                    "text": [
                        "Names      : ['NLP_CHEST_085']\n",
                        "Predictions: ['']\n",
                        "Labels     : ['chest x ray : - right pneumothorax with pleural effusion, status post drainge tube placement. - extensive subcutaneous emphysema from neck to right side thoracic cage. - increased right hilar opacity. - atherosclerosis and tortuous aorta. - obscured bilateral costophrenic angles. - spondylosis and mild scoliosis of thoracolumbar spine. - oa of right glenohumeral joint. - generalized osteopenia.']\n",
                        "\n",
                        "Rouge-2 score : {'Rouge-L-P': 0.21173213463171828, 'Rouge-L-R': 0.1716451264589601, 'Rouge-L-F': 0.1716451264589601, 'Rouge-2-P': 0.1448921512275787, 'Rouge-2-R': 0.12014232315374256, 'Rouge-2-F': 0.12014232315374256}\n"
                    ]
                },
                {
                    "name": "stderr",
                    "output_type": "stream",
                    "text": [
                        "Training Epoch [48 / 50]: 100%|██████████| 89/89 [00:15<00:00,  5.81it/s, loss=0.0179]\n",
                        "Evaluating: :  10%|█         | 1/10 [00:03<00:28,  3.11s/it]"
                    ]
                },
                {
                    "name": "stdout",
                    "output_type": "stream",
                    "text": [
                        "Names      : ['NLP_CHEST_002']\n",
                        "Predictions: ['chest pa view shows : impression : - susp. rt pneumothorax. - increased bilateral lung infiltrates. - blunting bilateral cp angles. - atherosclerotic aorta. - scoliosis, djd and osteoporosis of spine. - clips in right upper abdomen.']\n",
                        "Labels     : ['chest pa view shows : partial atelectasis at left lower lung field. left pleural effusion. borderline heart size. atherosclerotic change of aortic knob. s / p port - a implantation via left subclavian vein. intraperitoneal port catheter. surgical clips at ruq of abdomen.']\n",
                        "\n"
                    ]
                },
                {
                    "name": "stderr",
                    "output_type": "stream",
                    "text": [
                        "Evaluating: :  20%|██        | 2/10 [00:06<00:24,  3.02s/it]"
                    ]
                },
                {
                    "name": "stdout",
                    "output_type": "stream",
                    "text": [
                        "Names      : ['NLP_CHEST_004']\n",
                        "Predictions: ['']\n",
                        "Labels     : ['chest pa view show : impression : - s / p rll wedge resection. - bilateral lungs metastasis. - left lower lung subsegmental atelectasis. - increased infiltrations in both lungs. - blunting right cp angle. - tortuous atherosclerotic aorta. - scoliosis, djd and osteoporosis of spine. - compression fracture of l1.']\n",
                        "\n"
                    ]
                },
                {
                    "name": "stderr",
                    "output_type": "stream",
                    "text": [
                        "Evaluating: :  30%|███       | 3/10 [00:08<00:19,  2.75s/it]"
                    ]
                },
                {
                    "name": "stdout",
                    "output_type": "stream",
                    "text": [
                        "Names      : ['NLP_CHEST_011']\n",
                        "Predictions: ['']\n",
                        "Labels     : [\"chest ap view showed : 1. s / p sternotomy and cabg. enlarged heart size with tortuous aorta. 2. r't middle and lower lung faint patches. l't lower lung consolidation. l't pleural effusion. 3. no mediastinum widening. 4. s / p endotracheal tube and ng intubation.\"]\n",
                        "\n"
                    ]
                },
                {
                    "name": "stderr",
                    "output_type": "stream",
                    "text": [
                        "Evaluating: :  40%|████      | 4/10 [00:10<00:15,  2.62s/it]"
                    ]
                },
                {
                    "name": "stdout",
                    "output_type": "stream",
                    "text": [
                        "Names      : ['NLP_CHEST_015']\n",
                        "Predictions: ['']\n",
                        "Labels     : ['chest x ray : - no obvious lung mass nor consolidation patch. - normal heart size. - no pleural effusion.']\n",
                        "\n"
                    ]
                },
                {
                    "name": "stderr",
                    "output_type": "stream",
                    "text": [
                        "Evaluating: :  50%|█████     | 5/10 [00:13<00:12,  2.57s/it]"
                    ]
                },
                {
                    "name": "stdout",
                    "output_type": "stream",
                    "text": [
                        "Names      : ['NLP_CHEST_027']\n",
                        "Predictions: ['']\n",
                        "Labels     : ['chest pa view : impression : > cardiomegaly with bilateral pulmonary congestion. > postinflammatory fibrosis in both upper lungs. > atherosclerosis of aorta. > old fractures of left 5th and 6th ribs. > r / o osteoporosis. > spondylosis of thoracolumbar spine. > s / p abdominal operation in ruq.']\n",
                        "\n"
                    ]
                },
                {
                    "name": "stderr",
                    "output_type": "stream",
                    "text": [
                        "Evaluating: :  60%|██████    | 6/10 [00:15<00:10,  2.58s/it]"
                    ]
                },
                {
                    "name": "stdout",
                    "output_type": "stream",
                    "text": [
                        "Names      : ['NLP_CHEST_031']\n",
                        "Predictions: ['chest pa view : impression : - increased both lung markings. - compatible with right lung nodules. - fibrotic lesion in left upper lung. - normal heart size. atherosclerotic aorta. - suspect right pleural effusion. - spondylosis. r / o osteoporosis. - compatible with multiple bony metastases. - s / p ng and endotracheal tube. - s / p lt subclavian port - a - cath.']\n",
                        "Labels     : ['chest pa view : impression : - increased both lung markings. - compatible with right lung nodules. - fibrotic lesion in left upper lung. - normal heart size. atherosclerotic aorta. - suspect right pleural effusion. - spondylosis. r / o osteoporosis. - compatible with multiple bony metastases. - s / p ng and endotracheal tube. - s / p lt subclavian port - a - cath.']\n",
                        "\n"
                    ]
                },
                {
                    "name": "stderr",
                    "output_type": "stream",
                    "text": [
                        "Evaluating: :  70%|███████   | 7/10 [00:18<00:07,  2.51s/it]"
                    ]
                },
                {
                    "name": "stdout",
                    "output_type": "stream",
                    "text": [
                        "Names      : ['NLP_CHEST_057']\n",
                        "Predictions: ['']\n",
                        "Labels     : ['chest plain film shows : impression : - increased infiltrations in both lungs. - tortuous atherosclerotic dilated aorta. - normal heart size. - djd of spine. old fracture of right ribs. - increased both lung markings. s / p lt jugular cvc insertion. s / p ng and endotracheal tube. - susp. lt pneumothorax. suspect pneumomediastinum. subcutaneous emphysema in bilateral neck. - s / p bilateral chest tube insertion.']\n",
                        "\n"
                    ]
                },
                {
                    "name": "stderr",
                    "output_type": "stream",
                    "text": [
                        "Evaluating: :  80%|████████  | 8/10 [00:20<00:04,  2.44s/it]"
                    ]
                },
                {
                    "name": "stdout",
                    "output_type": "stream",
                    "text": [
                        "Names      : ['NLP_CHEST_059']\n",
                        "Predictions: ['']\n",
                        "Labels     : ['supine chest ap view shows : pigtail catheter at right lower chest. decreased amount of right pleural effusion. air in the right lower pleural space. poor lung expansion. mild subcutaneous emphysema at right chest wall. right pleural thickening. ill - defined masses at right perihilar region. normal heart size.']\n",
                        "\n"
                    ]
                },
                {
                    "name": "stderr",
                    "output_type": "stream",
                    "text": [
                        "Evaluating: :  90%|█████████ | 9/10 [00:23<00:02,  2.44s/it]"
                    ]
                },
                {
                    "name": "stdout",
                    "output_type": "stream",
                    "text": [
                        "Names      : ['NLP_CHEST_071']\n",
                        "Predictions: ['chest pa view shows : impression : - increased infiltrations in both lungs. - blunting bilateral cp angles. - tortuous atherosclerotic dilated aorta. - normal heart size.']\n",
                        "Labels     : ['chest film shows : impression : - bilateral lung infiltrations. - suspect right lower lung patch. blunting right cp angle. - tortuous atherosclerotic aorta. - scoliosis, djd and osteoporosis of spine. compression fracture of t12. old fracture of left ribs. - s / p fixation in l - spine. - s / p tracheostomy and ng tube.']\n",
                        "\n"
                    ]
                },
                {
                    "name": "stderr",
                    "output_type": "stream",
                    "text": [
                        "Evaluating: : 100%|██████████| 10/10 [00:25<00:00,  2.56s/it]\n"
                    ]
                },
                {
                    "name": "stdout",
                    "output_type": "stream",
                    "text": [
                        "Names      : ['NLP_CHEST_085']\n",
                        "Predictions: ['']\n",
                        "Labels     : ['chest x ray : - right pneumothorax with pleural effusion, status post drainge tube placement. - extensive subcutaneous emphysema from neck to right side thoracic cage. - increased right hilar opacity. - atherosclerosis and tortuous aorta. - obscured bilateral costophrenic angles. - spondylosis and mild scoliosis of thoracolumbar spine. - oa of right glenohumeral joint. - generalized osteopenia.']\n",
                        "\n",
                        "Rouge-2 score : {'Rouge-L-P': 0.21110399810984043, 'Rouge-L-R': 0.17119716130059862, 'Rouge-L-F': 0.17119716130059862, 'Rouge-2-P': 0.14474927699438309, 'Rouge-2-R': 0.12018152078645228, 'Rouge-2-F': 0.12018152078645228}\n"
                    ]
                },
                {
                    "name": "stderr",
                    "output_type": "stream",
                    "text": [
                        "Training Epoch [49 / 50]: 100%|██████████| 89/89 [00:14<00:00,  6.10it/s, loss=0.0165]\n",
                        "Evaluating: :  10%|█         | 1/10 [00:02<00:21,  2.40s/it]"
                    ]
                },
                {
                    "name": "stdout",
                    "output_type": "stream",
                    "text": [
                        "Names      : ['NLP_CHEST_002']\n",
                        "Predictions: ['chest pa view shows : impression : > increased bilateral lung markings. > no pleural effusion. > the heart shadow is enlarged. > the aortic shadow is atherosclerotic and tortuous.']\n",
                        "Labels     : ['chest pa view shows : partial atelectasis at left lower lung field. left pleural effusion. borderline heart size. atherosclerotic change of aortic knob. s / p port - a implantation via left subclavian vein. intraperitoneal port catheter. surgical clips at ruq of abdomen.']\n",
                        "\n"
                    ]
                },
                {
                    "name": "stderr",
                    "output_type": "stream",
                    "text": [
                        "Evaluating: :  20%|██        | 2/10 [00:04<00:20,  2.50s/it]"
                    ]
                },
                {
                    "name": "stdout",
                    "output_type": "stream",
                    "text": [
                        "Names      : ['NLP_CHEST_004']\n",
                        "Predictions: ['chest plain film view showed : impression : - suspicious right upper lung nodule. - increased infiltrations in both lungs. - suspicious bilateral lower lung patches. - blunting right cp angle. - normal heart size. - atherosclerotic aorta. - scoliosis and djd of spine. - s / p rt jugular cvc insertion.']\n",
                        "Labels     : ['chest pa view show : impression : - s / p rll wedge resection. - bilateral lungs metastasis. - left lower lung subsegmental atelectasis. - increased infiltrations in both lungs. - blunting right cp angle. - tortuous atherosclerotic aorta. - scoliosis, djd and osteoporosis of spine. - compression fracture of l1.']\n",
                        "\n"
                    ]
                },
                {
                    "name": "stderr",
                    "output_type": "stream",
                    "text": [
                        "Evaluating: :  30%|███       | 3/10 [00:07<00:16,  2.42s/it]"
                    ]
                },
                {
                    "name": "stdout",
                    "output_type": "stream",
                    "text": [
                        "Names      : ['NLP_CHEST_011']\n",
                        "Predictions: [\"chest ap view showed : 1. enlarged heart size with tortuous aorta. 2. bilateral lung reticulonodular infiltrations. r't upper and middle lung faint patches. a l't upper lung mass. l't retrocardiac patches. l't upper pleura thickening. s / p r't jugular cvp.\"]\n",
                        "Labels     : [\"chest ap view showed : 1. s / p sternotomy and cabg. enlarged heart size with tortuous aorta. 2. r't middle and lower lung faint patches. l't lower lung consolidation. l't pleural effusion. 3. no mediastinum widening. 4. s / p endotracheal tube and ng intubation.\"]\n",
                        "\n"
                    ]
                },
                {
                    "name": "stderr",
                    "output_type": "stream",
                    "text": [
                        "Evaluating: :  40%|████      | 4/10 [00:10<00:15,  2.55s/it]"
                    ]
                },
                {
                    "name": "stdout",
                    "output_type": "stream",
                    "text": [
                        "Names      : ['NLP_CHEST_015']\n",
                        "Predictions: ['chest pa view shows : > no obvious lung mass nor consolidation patch. > normal heart size. > no pleural effusion.']\n",
                        "Labels     : ['chest x ray : - no obvious lung mass nor consolidation patch. - normal heart size. - no pleural effusion.']\n",
                        "\n"
                    ]
                },
                {
                    "name": "stderr",
                    "output_type": "stream",
                    "text": [
                        "Evaluating: :  50%|█████     | 5/10 [00:12<00:12,  2.58s/it]"
                    ]
                },
                {
                    "name": "stdout",
                    "output_type": "stream",
                    "text": [
                        "Names      : ['NLP_CHEST_027']\n",
                        "Predictions: ['chest plain film shows : impression : - increased infiltrates in both lungs. - blunting bilateral cp angles. - cardiomegaly. - atherosclerotic aorta. - scoliosis and djd of spine. - bilateral apical pleural thickening.']\n",
                        "Labels     : ['chest pa view : impression : > cardiomegaly with bilateral pulmonary congestion. > postinflammatory fibrosis in both upper lungs. > atherosclerosis of aorta. > old fractures of left 5th and 6th ribs. > r / o osteoporosis. > spondylosis of thoracolumbar spine. > s / p abdominal operation in ruq.']\n",
                        "\n"
                    ]
                },
                {
                    "name": "stderr",
                    "output_type": "stream",
                    "text": [
                        "Evaluating: :  60%|██████    | 6/10 [00:15<00:10,  2.62s/it]"
                    ]
                },
                {
                    "name": "stdout",
                    "output_type": "stream",
                    "text": [
                        "Names      : ['NLP_CHEST_031']\n",
                        "Predictions: ['chest pa view : impression : - increased both lung markings. - compatible with right lung nodules. - fibrotic lesion in left upper lung. - normal heart size. atherosclerotic aorta. - suspect right pleural effusion. - spondylosis. r / o osteoporosis. - compatible with multiple bony metastases. - s / p ng and endotracheal tube. - s / p lt subclavian port - a - cath.']\n",
                        "Labels     : ['chest pa view : impression : - increased both lung markings. - compatible with right lung nodules. - fibrotic lesion in left upper lung. - normal heart size. atherosclerotic aorta. - suspect right pleural effusion. - spondylosis. r / o osteoporosis. - compatible with multiple bony metastases. - s / p ng and endotracheal tube. - s / p lt subclavian port - a - cath.']\n",
                        "\n"
                    ]
                },
                {
                    "name": "stderr",
                    "output_type": "stream",
                    "text": [
                        "Evaluating: :  70%|███████   | 7/10 [00:17<00:07,  2.52s/it]"
                    ]
                },
                {
                    "name": "stdout",
                    "output_type": "stream",
                    "text": [
                        "Names      : ['NLP_CHEST_057']\n",
                        "Predictions: ['chest plain film ap view showed : impression : - right upper lung mass. bilateral lung nodules. compatible with pulmonary tb. - increased infiltrations in bilateral lungs. - blunting left cp angle. - atherosclerotic aorta. - scoliosis and djd of spine. - normal heart size. - s / p lt subclavian port - a - cath.']\n",
                        "Labels     : ['chest plain film shows : impression : - increased infiltrations in both lungs. - tortuous atherosclerotic dilated aorta. - normal heart size. - djd of spine. old fracture of right ribs. - increased both lung markings. s / p lt jugular cvc insertion. s / p ng and endotracheal tube. - susp. lt pneumothorax. suspect pneumomediastinum. subcutaneous emphysema in bilateral neck. - s / p bilateral chest tube insertion.']\n",
                        "\n"
                    ]
                },
                {
                    "name": "stderr",
                    "output_type": "stream",
                    "text": [
                        "Evaluating: :  80%|████████  | 8/10 [00:20<00:04,  2.49s/it]"
                    ]
                },
                {
                    "name": "stdout",
                    "output_type": "stream",
                    "text": [
                        "Names      : ['NLP_CHEST_059']\n",
                        "Predictions: ['chest plain film shows : impression : - increased infiltrations in both lungs. - blunting bilateral cp angles. - cardiomegaly. - atherosclerotic aorta. - djd of spine. s / p ng and endotracheal tube. s / p rt subclavian cvc insertion.']\n",
                        "Labels     : ['supine chest ap view shows : pigtail catheter at right lower chest. decreased amount of right pleural effusion. air in the right lower pleural space. poor lung expansion. mild subcutaneous emphysema at right chest wall. right pleural thickening. ill - defined masses at right perihilar region. normal heart size.']\n",
                        "\n"
                    ]
                },
                {
                    "name": "stderr",
                    "output_type": "stream",
                    "text": [
                        "Evaluating: :  90%|█████████ | 9/10 [00:22<00:02,  2.42s/it]"
                    ]
                },
                {
                    "name": "stdout",
                    "output_type": "stream",
                    "text": [
                        "Names      : ['NLP_CHEST_071']\n",
                        "Predictions: ['chest plain film shows : impression : - increased infiltrations in both lungs. - suspicious right lower lung patch. blunting bilateral cp angles. - tortuous atherosclerotic dilated aorta. - normal heart size. - djd of spine. - s / p lt subclavian port - a - cath.']\n",
                        "Labels     : ['chest film shows : impression : - bilateral lung infiltrations. - suspect right lower lung patch. blunting right cp angle. - tortuous atherosclerotic aorta. - scoliosis, djd and osteoporosis of spine. compression fracture of t12. old fracture of left ribs. - s / p fixation in l - spine. - s / p tracheostomy and ng tube.']\n",
                        "\n"
                    ]
                },
                {
                    "name": "stderr",
                    "output_type": "stream",
                    "text": [
                        "Evaluating: : 100%|██████████| 10/10 [00:24<00:00,  2.47s/it]\n"
                    ]
                },
                {
                    "name": "stdout",
                    "output_type": "stream",
                    "text": [
                        "Names      : ['NLP_CHEST_085']\n",
                        "Predictions: ['chest plain film view showed : impression : - increased both lung markings. blunting bilateral cp angles. - the mediastinum is not widened. - normal heart size. - atherosclerotic aorta. - djd of spine. mild scoliosis of spine. - s / p left pleural pigtail tube. subcutaneous emphysema in left chest wall.']\n",
                        "Labels     : ['chest x ray : - right pneumothorax with pleural effusion, status post drainge tube placement. - extensive subcutaneous emphysema from neck to right side thoracic cage. - increased right hilar opacity. - atherosclerosis and tortuous aorta. - obscured bilateral costophrenic angles. - spondylosis and mild scoliosis of thoracolumbar spine. - oa of right glenohumeral joint. - generalized osteopenia.']\n",
                        "\n",
                        "Rouge-2 score : {'Rouge-L-P': 0.21670738897005623, 'Rouge-L-R': 0.17671115157947306, 'Rouge-L-F': 0.17671115157947306, 'Rouge-2-P': 0.148975180483842, 'Rouge-2-R': 0.12441398489771302, 'Rouge-2-F': 0.12441398489771302}\n"
                    ]
                },
                {
                    "name": "stderr",
                    "output_type": "stream",
                    "text": [
                        "Training Epoch [50 / 50]: 100%|██████████| 89/89 [00:14<00:00,  6.13it/s, loss=0.0153]\n",
                        "Evaluating: :  10%|█         | 1/10 [00:02<00:22,  2.47s/it]"
                    ]
                },
                {
                    "name": "stdout",
                    "output_type": "stream",
                    "text": [
                        "Names      : ['NLP_CHEST_002']\n",
                        "Predictions: ['chest pa view shows : impression : - increased both lung markings. blunting bilateral cp angles. - the mediastinum is not widened. - normal heart size. - atherosclerotic aorta. - djd of spine. mild scoliosis of spine.']\n",
                        "Labels     : ['chest pa view shows : partial atelectasis at left lower lung field. left pleural effusion. borderline heart size. atherosclerotic change of aortic knob. s / p port - a implantation via left subclavian vein. intraperitoneal port catheter. surgical clips at ruq of abdomen.']\n",
                        "\n"
                    ]
                },
                {
                    "name": "stderr",
                    "output_type": "stream",
                    "text": [
                        "Evaluating: :  20%|██        | 2/10 [00:05<00:20,  2.56s/it]"
                    ]
                },
                {
                    "name": "stdout",
                    "output_type": "stream",
                    "text": [
                        "Names      : ['NLP_CHEST_004']\n",
                        "Predictions: ['chest plain film view showed : impression : - suspicious right upper lung nodule. - increased infiltrations in both lungs. - suspicious bilateral lower lung patches. - blunting bilateral cp angles. - normal heart size. scoliosis and djd of spine. - s / p rt subclavian cvc insertion.']\n",
                        "Labels     : ['chest pa view show : impression : - s / p rll wedge resection. - bilateral lungs metastasis. - left lower lung subsegmental atelectasis. - increased infiltrations in both lungs. - blunting right cp angle. - tortuous atherosclerotic aorta. - scoliosis, djd and osteoporosis of spine. - compression fracture of l1.']\n",
                        "\n"
                    ]
                },
                {
                    "name": "stderr",
                    "output_type": "stream",
                    "text": [
                        "Evaluating: :  30%|███       | 3/10 [00:07<00:18,  2.57s/it]"
                    ]
                },
                {
                    "name": "stdout",
                    "output_type": "stream",
                    "text": [
                        "Names      : ['NLP_CHEST_011']\n",
                        "Predictions: ['']\n",
                        "Labels     : [\"chest ap view showed : 1. s / p sternotomy and cabg. enlarged heart size with tortuous aorta. 2. r't middle and lower lung faint patches. l't lower lung consolidation. l't pleural effusion. 3. no mediastinum widening. 4. s / p endotracheal tube and ng intubation.\"]\n",
                        "\n"
                    ]
                },
                {
                    "name": "stderr",
                    "output_type": "stream",
                    "text": [
                        "Evaluating: :  40%|████      | 4/10 [00:10<00:14,  2.50s/it]"
                    ]
                },
                {
                    "name": "stdout",
                    "output_type": "stream",
                    "text": [
                        "Names      : ['NLP_CHEST_015']\n",
                        "Predictions: ['']\n",
                        "Labels     : ['chest x ray : - no obvious lung mass nor consolidation patch. - normal heart size. - no pleural effusion.']\n",
                        "\n"
                    ]
                },
                {
                    "name": "stderr",
                    "output_type": "stream",
                    "text": [
                        "Evaluating: :  50%|█████     | 5/10 [00:12<00:12,  2.45s/it]"
                    ]
                },
                {
                    "name": "stdout",
                    "output_type": "stream",
                    "text": [
                        "Names      : ['NLP_CHEST_027']\n",
                        "Predictions: ['']\n",
                        "Labels     : ['chest pa view : impression : > cardiomegaly with bilateral pulmonary congestion. > postinflammatory fibrosis in both upper lungs. > atherosclerosis of aorta. > old fractures of left 5th and 6th ribs. > r / o osteoporosis. > spondylosis of thoracolumbar spine. > s / p abdominal operation in ruq.']\n",
                        "\n"
                    ]
                },
                {
                    "name": "stderr",
                    "output_type": "stream",
                    "text": [
                        "Evaluating: :  60%|██████    | 6/10 [00:14<00:09,  2.42s/it]"
                    ]
                },
                {
                    "name": "stdout",
                    "output_type": "stream",
                    "text": [
                        "Names      : ['NLP_CHEST_031']\n",
                        "Predictions: ['chest pa view : impression : - increased both lung markings. - compatible with right lung nodules. - fibrotic lesion in left upper lung. - normal heart size. atherosclerotic aorta. - suspect right pleural effusion. - spondylosis. r / o osteoporosis. - compatible with multiple bony metastases. - s / p ng and endotracheal tube. - s / p lt subclavian port - a - cath.']\n",
                        "Labels     : ['chest pa view : impression : - increased both lung markings. - compatible with right lung nodules. - fibrotic lesion in left upper lung. - normal heart size. atherosclerotic aorta. - suspect right pleural effusion. - spondylosis. r / o osteoporosis. - compatible with multiple bony metastases. - s / p ng and endotracheal tube. - s / p lt subclavian port - a - cath.']\n",
                        "\n"
                    ]
                },
                {
                    "name": "stderr",
                    "output_type": "stream",
                    "text": [
                        "Evaluating: :  70%|███████   | 7/10 [00:17<00:07,  2.39s/it]"
                    ]
                },
                {
                    "name": "stdout",
                    "output_type": "stream",
                    "text": [
                        "Names      : ['NLP_CHEST_057']\n",
                        "Predictions: ['']\n",
                        "Labels     : ['chest plain film shows : impression : - increased infiltrations in both lungs. - tortuous atherosclerotic dilated aorta. - normal heart size. - djd of spine. old fracture of right ribs. - increased both lung markings. s / p lt jugular cvc insertion. s / p ng and endotracheal tube. - susp. lt pneumothorax. suspect pneumomediastinum. subcutaneous emphysema in bilateral neck. - s / p bilateral chest tube insertion.']\n",
                        "\n"
                    ]
                },
                {
                    "name": "stderr",
                    "output_type": "stream",
                    "text": [
                        "Evaluating: :  80%|████████  | 8/10 [00:19<00:04,  2.34s/it]"
                    ]
                },
                {
                    "name": "stdout",
                    "output_type": "stream",
                    "text": [
                        "Names      : ['NLP_CHEST_059']\n",
                        "Predictions: ['']\n",
                        "Labels     : ['supine chest ap view shows : pigtail catheter at right lower chest. decreased amount of right pleural effusion. air in the right lower pleural space. poor lung expansion. mild subcutaneous emphysema at right chest wall. right pleural thickening. ill - defined masses at right perihilar region. normal heart size.']\n",
                        "\n"
                    ]
                },
                {
                    "name": "stderr",
                    "output_type": "stream",
                    "text": [
                        "Evaluating: :  90%|█████████ | 9/10 [00:21<00:02,  2.33s/it]"
                    ]
                },
                {
                    "name": "stdout",
                    "output_type": "stream",
                    "text": [
                        "Names      : ['NLP_CHEST_071']\n",
                        "Predictions: ['chest plain film shows : impression : - increased infiltrations in both lungs. - suspicious right lower lung patch. blunting bilateral cp angles. - tortuous atherosclerotic dilated aorta. - normal heart size. - djd of spine. - s / p rt jugular cvp.']\n",
                        "Labels     : ['chest film shows : impression : - bilateral lung infiltrations. - suspect right lower lung patch. blunting right cp angle. - tortuous atherosclerotic aorta. - scoliosis, djd and osteoporosis of spine. compression fracture of t12. old fracture of left ribs. - s / p fixation in l - spine. - s / p tracheostomy and ng tube.']\n",
                        "\n"
                    ]
                },
                {
                    "name": "stderr",
                    "output_type": "stream",
                    "text": [
                        "Evaluating: : 100%|██████████| 10/10 [00:24<00:00,  2.40s/it]"
                    ]
                },
                {
                    "name": "stdout",
                    "output_type": "stream",
                    "text": [
                        "Names      : ['NLP_CHEST_085']\n",
                        "Predictions: ['chest plain film view showed : impression : - increased both lung markings. blunting bilateral cp angles. - the mediastinum is not widened. - normal heart size. - atherosclerotic aorta. - djd of spine. mild scoliosis of spine. - s / p left pleural pigtail tube. subcutaneous emphysema in left chest wall.']\n",
                        "Labels     : ['chest x ray : - right pneumothorax with pleural effusion, status post drainge tube placement. - extensive subcutaneous emphysema from neck to right side thoracic cage. - increased right hilar opacity. - atherosclerosis and tortuous aorta. - obscured bilateral costophrenic angles. - spondylosis and mild scoliosis of thoracolumbar spine. - oa of right glenohumeral joint. - generalized osteopenia.']\n",
                        "\n",
                        "Rouge-2 score : {'Rouge-L-P': 0.2175521381108311, 'Rouge-L-R': 0.17787264243044837, 'Rouge-L-F': 0.17787264243044837, 'Rouge-2-P': 0.15007755501549258, 'Rouge-2-R': 0.12569164504938282, 'Rouge-2-F': 0.12569164504938282}\n"
                    ]
                },
                {
                    "name": "stderr",
                    "output_type": "stream",
                    "text": [
                        "\n"
                    ]
                }
            ],
            "source": [
                "min_loss = float(\"inf\")\n",
                "\n",
                "for epoch in range(epochs):\n",
                "    model.train()\n",
                "\n",
                "    pbar = tqdm(train_dataloader)\n",
                "    pbar.set_description(f\"Training Epoch [{epoch + 1} / {epochs}]\")\n",
                "\n",
                "    loss_list = []\n",
                "    average_loss = 0\n",
                "\n",
                "    for batch in pbar:\n",
                "        optimizer.zero_grad()\n",
                "\n",
                "        pixel_values = batch[\"pixel_values\"]\n",
                "        label_ids = batch[\"label_ids\"]\n",
                "\n",
                "        outputs = model(\n",
                "            pixel_values=pixel_values,\n",
                "            labels=label_ids\n",
                "        )\n",
                "        loss = outputs.loss\n",
                "\n",
                "        loss_list.append(loss.item())\n",
                "        average_loss = np.mean(np.array(loss_list))\n",
                "        loss.backward()\n",
                "        optimizer.step()\n",
                "\n",
                "        pbar.set_postfix(loss=average_loss)\n",
                "\n",
                "    checkpoint_path = os.path.join(\"./outputs_original\", f\"checkpoint_epoch_{epoch + 1}.pt\")\n",
                "    torch.save(model.state_dict(), checkpoint_path)    \n",
                "\n",
                "    if average_loss < min_loss:\n",
                "        min_loss = average_loss\n",
                "        torch.save(model.state_dict(), f\"outputs_original/best_checkpoint.pt\")\n",
                "\n",
                "    print(f\"Rouge-2 score :\", eval(model=model))"
            ]
        },
        {
            "cell_type": "code",
            "execution_count": 15,
            "metadata": {},
            "outputs": [
                {
                    "name": "stderr",
                    "output_type": "stream",
                    "text": [
                        "Evaluating: :  10%|█         | 1/10 [00:02<00:21,  2.41s/it]"
                    ]
                },
                {
                    "name": "stdout",
                    "output_type": "stream",
                    "text": [
                        "Names      : ['NLP_CHEST_002']\n",
                        "Predictions: ['chest pa view shows : impression : - increased both lung markings. blunting bilateral cp angles. - the mediastinum is not widened. - normal heart size. - atherosclerotic aorta. - djd of spine. mild scoliosis of spine.']\n",
                        "Labels     : ['chest pa view shows : partial atelectasis at left lower lung field. left pleural effusion. borderline heart size. atherosclerotic change of aortic knob. s / p port - a implantation via left subclavian vein. intraperitoneal port catheter. surgical clips at ruq of abdomen.']\n",
                        "\n"
                    ]
                },
                {
                    "name": "stderr",
                    "output_type": "stream",
                    "text": [
                        "Evaluating: :  20%|██        | 2/10 [00:04<00:18,  2.35s/it]"
                    ]
                },
                {
                    "name": "stdout",
                    "output_type": "stream",
                    "text": [
                        "Names      : ['NLP_CHEST_004']\n",
                        "Predictions: ['chest plain film view showed : impression : - suspicious right upper lung nodule. - increased infiltrations in both lungs. - suspicious bilateral lower lung patches. - blunting bilateral cp angles. - normal heart size. scoliosis and djd of spine. - s / p rt subclavian cvc insertion.']\n",
                        "Labels     : ['chest pa view show : impression : - s / p rll wedge resection. - bilateral lungs metastasis. - left lower lung subsegmental atelectasis. - increased infiltrations in both lungs. - blunting right cp angle. - tortuous atherosclerotic aorta. - scoliosis, djd and osteoporosis of spine. - compression fracture of l1.']\n",
                        "\n"
                    ]
                },
                {
                    "name": "stderr",
                    "output_type": "stream",
                    "text": [
                        "Evaluating: :  30%|███       | 3/10 [00:06<00:16,  2.31s/it]"
                    ]
                },
                {
                    "name": "stdout",
                    "output_type": "stream",
                    "text": [
                        "Names      : ['NLP_CHEST_011']\n",
                        "Predictions: ['']\n",
                        "Labels     : [\"chest ap view showed : 1. s / p sternotomy and cabg. enlarged heart size with tortuous aorta. 2. r't middle and lower lung faint patches. l't lower lung consolidation. l't pleural effusion. 3. no mediastinum widening. 4. s / p endotracheal tube and ng intubation.\"]\n",
                        "\n"
                    ]
                },
                {
                    "name": "stderr",
                    "output_type": "stream",
                    "text": [
                        "Evaluating: :  40%|████      | 4/10 [00:09<00:14,  2.34s/it]"
                    ]
                },
                {
                    "name": "stdout",
                    "output_type": "stream",
                    "text": [
                        "Names      : ['NLP_CHEST_015']\n",
                        "Predictions: ['']\n",
                        "Labels     : ['chest x ray : - no obvious lung mass nor consolidation patch. - normal heart size. - no pleural effusion.']\n",
                        "\n"
                    ]
                },
                {
                    "name": "stderr",
                    "output_type": "stream",
                    "text": [
                        "Evaluating: :  50%|█████     | 5/10 [00:11<00:11,  2.33s/it]"
                    ]
                },
                {
                    "name": "stdout",
                    "output_type": "stream",
                    "text": [
                        "Names      : ['NLP_CHEST_027']\n",
                        "Predictions: ['']\n",
                        "Labels     : ['chest pa view : impression : > cardiomegaly with bilateral pulmonary congestion. > postinflammatory fibrosis in both upper lungs. > atherosclerosis of aorta. > old fractures of left 5th and 6th ribs. > r / o osteoporosis. > spondylosis of thoracolumbar spine. > s / p abdominal operation in ruq.']\n",
                        "\n"
                    ]
                },
                {
                    "name": "stderr",
                    "output_type": "stream",
                    "text": [
                        "Evaluating: :  60%|██████    | 6/10 [00:13<00:09,  2.32s/it]"
                    ]
                },
                {
                    "name": "stdout",
                    "output_type": "stream",
                    "text": [
                        "Names      : ['NLP_CHEST_031']\n",
                        "Predictions: ['chest pa view : impression : - increased both lung markings. - compatible with right lung nodules. - fibrotic lesion in left upper lung. - normal heart size. atherosclerotic aorta. - suspect right pleural effusion. - spondylosis. r / o osteoporosis. - compatible with multiple bony metastases. - s / p ng and endotracheal tube. - s / p lt subclavian port - a - cath.']\n",
                        "Labels     : ['chest pa view : impression : - increased both lung markings. - compatible with right lung nodules. - fibrotic lesion in left upper lung. - normal heart size. atherosclerotic aorta. - suspect right pleural effusion. - spondylosis. r / o osteoporosis. - compatible with multiple bony metastases. - s / p ng and endotracheal tube. - s / p lt subclavian port - a - cath.']\n",
                        "\n"
                    ]
                },
                {
                    "name": "stderr",
                    "output_type": "stream",
                    "text": [
                        "Evaluating: :  70%|███████   | 7/10 [00:16<00:07,  2.35s/it]"
                    ]
                },
                {
                    "name": "stdout",
                    "output_type": "stream",
                    "text": [
                        "Names      : ['NLP_CHEST_057']\n",
                        "Predictions: ['']\n",
                        "Labels     : ['chest plain film shows : impression : - increased infiltrations in both lungs. - tortuous atherosclerotic dilated aorta. - normal heart size. - djd of spine. old fracture of right ribs. - increased both lung markings. s / p lt jugular cvc insertion. s / p ng and endotracheal tube. - susp. lt pneumothorax. suspect pneumomediastinum. subcutaneous emphysema in bilateral neck. - s / p bilateral chest tube insertion.']\n",
                        "\n"
                    ]
                },
                {
                    "name": "stderr",
                    "output_type": "stream",
                    "text": [
                        "Evaluating: :  80%|████████  | 8/10 [00:18<00:04,  2.34s/it]"
                    ]
                },
                {
                    "name": "stdout",
                    "output_type": "stream",
                    "text": [
                        "Names      : ['NLP_CHEST_059']\n",
                        "Predictions: ['']\n",
                        "Labels     : ['supine chest ap view shows : pigtail catheter at right lower chest. decreased amount of right pleural effusion. air in the right lower pleural space. poor lung expansion. mild subcutaneous emphysema at right chest wall. right pleural thickening. ill - defined masses at right perihilar region. normal heart size.']\n",
                        "\n"
                    ]
                },
                {
                    "name": "stderr",
                    "output_type": "stream",
                    "text": [
                        "Evaluating: :  90%|█████████ | 9/10 [00:20<00:02,  2.32s/it]"
                    ]
                },
                {
                    "name": "stdout",
                    "output_type": "stream",
                    "text": [
                        "Names      : ['NLP_CHEST_071']\n",
                        "Predictions: ['chest plain film shows : impression : - increased infiltrations in both lungs. - suspicious right lower lung patch. blunting bilateral cp angles. - tortuous atherosclerotic dilated aorta. - normal heart size. - djd of spine. - s / p rt jugular cvp.']\n",
                        "Labels     : ['chest film shows : impression : - bilateral lung infiltrations. - suspect right lower lung patch. blunting right cp angle. - tortuous atherosclerotic aorta. - scoliosis, djd and osteoporosis of spine. compression fracture of t12. old fracture of left ribs. - s / p fixation in l - spine. - s / p tracheostomy and ng tube.']\n",
                        "\n"
                    ]
                },
                {
                    "name": "stderr",
                    "output_type": "stream",
                    "text": [
                        "Evaluating: : 100%|██████████| 10/10 [00:23<00:00,  2.35s/it]"
                    ]
                },
                {
                    "name": "stdout",
                    "output_type": "stream",
                    "text": [
                        "Names      : ['NLP_CHEST_085']\n",
                        "Predictions: ['chest plain film view showed : impression : - increased both lung markings. blunting bilateral cp angles. - the mediastinum is not widened. - normal heart size. - atherosclerotic aorta. - djd of spine. mild scoliosis of spine. - s / p left pleural pigtail tube. subcutaneous emphysema in left chest wall.']\n",
                        "Labels     : ['chest x ray : - right pneumothorax with pleural effusion, status post drainge tube placement. - extensive subcutaneous emphysema from neck to right side thoracic cage. - increased right hilar opacity. - atherosclerosis and tortuous aorta. - obscured bilateral costophrenic angles. - spondylosis and mild scoliosis of thoracolumbar spine. - oa of right glenohumeral joint. - generalized osteopenia.']\n",
                        "\n",
                        "Rouge-2 score on epoch 50: {'Rouge-L-P': 0.22613318170419364, 'Rouge-L-R': 0.18662223580490242, 'Rouge-L-F': 0.18662223580490242, 'Rouge-2-P': 0.15638902540060418, 'Rouge-2-R': 0.13214610270304242, 'Rouge-2-F': 0.13214610270304242}\n"
                    ]
                },
                {
                    "name": "stderr",
                    "output_type": "stream",
                    "text": [
                        "\n"
                    ]
                }
            ],
            "source": [
                "checkpoint_path = \"outputs_original/best_checkpoint.pt\"\n",
                "model.load_state_dict(torch.load(checkpoint_path, map_location=device))\n",
                "\n",
                "print(f\"Rouge-2 score on epoch {epochs}:\", eval(model=model))\n"
            ]
        }
    ],
    "metadata": {
        "kernelspec": {
            "display_name": "GAI",
            "language": "python",
            "name": "python3"
        },
        "language_info": {
            "codemirror_mode": {
                "name": "ipython",
                "version": 3
            },
            "file_extension": ".py",
            "mimetype": "text/x-python",
            "name": "python",
            "nbconvert_exporter": "python",
            "pygments_lexer": "ipython3",
            "version": "3.8.19"
        }
    },
    "nbformat": 4,
    "nbformat_minor": 2
}
