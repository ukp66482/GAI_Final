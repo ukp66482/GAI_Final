{
    "cells": [
        {
            "cell_type": "markdown",
            "metadata": {},
            "source": [
                "# Chest X-ray Image Report Generation (CXIRG) Original"
            ]
        },
        {
            "cell_type": "markdown",
            "metadata": {},
            "source": [
                "## Install Required Modules"
            ]
        },
        {
            "cell_type": "code",
            "execution_count": 1,
            "metadata": {},
            "outputs": [
                {
                    "name": "stdout",
                    "output_type": "stream",
                    "text": [
                        "Requirement already satisfied: openpyxl in c:\\users\\kartg\\anaconda3\\envs\\myenv\\lib\\site-packages (3.1.4)\n",
                        "Requirement already satisfied: et-xmlfile in c:\\users\\kartg\\anaconda3\\envs\\myenv\\lib\\site-packages (from openpyxl) (1.1.0)\n",
                        "Requirement already satisfied: pandas in c:\\users\\kartg\\anaconda3\\envs\\myenv\\lib\\site-packages (2.0.3)\n",
                        "Requirement already satisfied: python-dateutil>=2.8.2 in c:\\users\\kartg\\anaconda3\\envs\\myenv\\lib\\site-packages (from pandas) (2.9.0)\n",
                        "Requirement already satisfied: pytz>=2020.1 in c:\\users\\kartg\\anaconda3\\envs\\myenv\\lib\\site-packages (from pandas) (2024.1)\n",
                        "Requirement already satisfied: tzdata>=2022.1 in c:\\users\\kartg\\anaconda3\\envs\\myenv\\lib\\site-packages (from pandas) (2023.3)\n",
                        "Requirement already satisfied: numpy>=1.20.3 in c:\\users\\kartg\\anaconda3\\envs\\myenv\\lib\\site-packages (from pandas) (1.24.3)\n",
                        "Requirement already satisfied: six>=1.5 in c:\\users\\kartg\\anaconda3\\envs\\myenv\\lib\\site-packages (from python-dateutil>=2.8.2->pandas) (1.16.0)\n",
                        "Requirement already satisfied: pillow in c:\\users\\kartg\\anaconda3\\envs\\myenv\\lib\\site-packages (10.3.0)\n",
                        "Requirement already satisfied: pytorch-ignite in c:\\users\\kartg\\anaconda3\\envs\\myenv\\lib\\site-packages (0.5.0.post2)\n",
                        "Requirement already satisfied: torch<3,>=1.3 in c:\\users\\kartg\\anaconda3\\envs\\myenv\\lib\\site-packages (from pytorch-ignite) (2.3.1+cu118)\n",
                        "Requirement already satisfied: packaging in c:\\users\\kartg\\anaconda3\\envs\\myenv\\lib\\site-packages (from pytorch-ignite) (24.1)\n",
                        "Requirement already satisfied: filelock in c:\\users\\kartg\\anaconda3\\envs\\myenv\\lib\\site-packages (from torch<3,>=1.3->pytorch-ignite) (3.13.1)\n",
                        "Requirement already satisfied: typing-extensions>=4.8.0 in c:\\users\\kartg\\anaconda3\\envs\\myenv\\lib\\site-packages (from torch<3,>=1.3->pytorch-ignite) (4.11.0)\n",
                        "Requirement already satisfied: sympy in c:\\users\\kartg\\anaconda3\\envs\\myenv\\lib\\site-packages (from torch<3,>=1.3->pytorch-ignite) (1.12)\n",
                        "Requirement already satisfied: networkx in c:\\users\\kartg\\anaconda3\\envs\\myenv\\lib\\site-packages (from torch<3,>=1.3->pytorch-ignite) (3.1)\n",
                        "Requirement already satisfied: jinja2 in c:\\users\\kartg\\anaconda3\\envs\\myenv\\lib\\site-packages (from torch<3,>=1.3->pytorch-ignite) (3.1.4)\n",
                        "Requirement already satisfied: fsspec in c:\\users\\kartg\\anaconda3\\envs\\myenv\\lib\\site-packages (from torch<3,>=1.3->pytorch-ignite) (2024.5.0)\n",
                        "Requirement already satisfied: mkl<=2021.4.0,>=2021.1.1 in c:\\users\\kartg\\anaconda3\\envs\\myenv\\lib\\site-packages (from torch<3,>=1.3->pytorch-ignite) (2021.4.0)\n",
                        "Requirement already satisfied: intel-openmp==2021.* in c:\\users\\kartg\\anaconda3\\envs\\myenv\\lib\\site-packages (from mkl<=2021.4.0,>=2021.1.1->torch<3,>=1.3->pytorch-ignite) (2021.4.0)\n",
                        "Requirement already satisfied: tbb==2021.* in c:\\users\\kartg\\anaconda3\\envs\\myenv\\lib\\site-packages (from mkl<=2021.4.0,>=2021.1.1->torch<3,>=1.3->pytorch-ignite) (2021.12.0)\n",
                        "Requirement already satisfied: MarkupSafe>=2.0 in c:\\users\\kartg\\anaconda3\\envs\\myenv\\lib\\site-packages (from jinja2->torch<3,>=1.3->pytorch-ignite) (2.1.3)\n",
                        "Requirement already satisfied: mpmath>=0.19 in c:\\users\\kartg\\anaconda3\\envs\\myenv\\lib\\site-packages (from sympy->torch<3,>=1.3->pytorch-ignite) (1.3.0)\n",
                        "Requirement already satisfied: scikit-learn in c:\\users\\kartg\\anaconda3\\envs\\myenv\\lib\\site-packages (1.3.2)\n",
                        "Requirement already satisfied: numpy<2.0,>=1.17.3 in c:\\users\\kartg\\anaconda3\\envs\\myenv\\lib\\site-packages (from scikit-learn) (1.24.3)\n",
                        "Requirement already satisfied: scipy>=1.5.0 in c:\\users\\kartg\\anaconda3\\envs\\myenv\\lib\\site-packages (from scikit-learn) (1.10.1)\n",
                        "Requirement already satisfied: joblib>=1.1.1 in c:\\users\\kartg\\anaconda3\\envs\\myenv\\lib\\site-packages (from scikit-learn) (1.4.2)\n",
                        "Requirement already satisfied: threadpoolctl>=2.0.0 in c:\\users\\kartg\\anaconda3\\envs\\myenv\\lib\\site-packages (from scikit-learn) (3.5.0)\n",
                        "Requirement already satisfied: torch in c:\\users\\kartg\\anaconda3\\envs\\myenv\\lib\\site-packages (2.3.1+cu118)\n",
                        "Requirement already satisfied: filelock in c:\\users\\kartg\\anaconda3\\envs\\myenv\\lib\\site-packages (from torch) (3.13.1)\n",
                        "Requirement already satisfied: typing-extensions>=4.8.0 in c:\\users\\kartg\\anaconda3\\envs\\myenv\\lib\\site-packages (from torch) (4.11.0)\n",
                        "Requirement already satisfied: sympy in c:\\users\\kartg\\anaconda3\\envs\\myenv\\lib\\site-packages (from torch) (1.12)\n",
                        "Requirement already satisfied: networkx in c:\\users\\kartg\\anaconda3\\envs\\myenv\\lib\\site-packages (from torch) (3.1)\n",
                        "Requirement already satisfied: jinja2 in c:\\users\\kartg\\anaconda3\\envs\\myenv\\lib\\site-packages (from torch) (3.1.4)\n",
                        "Requirement already satisfied: fsspec in c:\\users\\kartg\\anaconda3\\envs\\myenv\\lib\\site-packages (from torch) (2024.5.0)\n",
                        "Requirement already satisfied: mkl<=2021.4.0,>=2021.1.1 in c:\\users\\kartg\\anaconda3\\envs\\myenv\\lib\\site-packages (from torch) (2021.4.0)\n",
                        "Requirement already satisfied: intel-openmp==2021.* in c:\\users\\kartg\\anaconda3\\envs\\myenv\\lib\\site-packages (from mkl<=2021.4.0,>=2021.1.1->torch) (2021.4.0)\n",
                        "Requirement already satisfied: tbb==2021.* in c:\\users\\kartg\\anaconda3\\envs\\myenv\\lib\\site-packages (from mkl<=2021.4.0,>=2021.1.1->torch) (2021.12.0)\n",
                        "Requirement already satisfied: MarkupSafe>=2.0 in c:\\users\\kartg\\anaconda3\\envs\\myenv\\lib\\site-packages (from jinja2->torch) (2.1.3)\n",
                        "Requirement already satisfied: mpmath>=0.19 in c:\\users\\kartg\\anaconda3\\envs\\myenv\\lib\\site-packages (from sympy->torch) (1.3.0)\n",
                        "Requirement already satisfied: transformers in c:\\users\\kartg\\anaconda3\\envs\\myenv\\lib\\site-packages (4.41.2)\n",
                        "Requirement already satisfied: filelock in c:\\users\\kartg\\anaconda3\\envs\\myenv\\lib\\site-packages (from transformers) (3.13.1)\n",
                        "Requirement already satisfied: huggingface-hub<1.0,>=0.23.0 in c:\\users\\kartg\\anaconda3\\envs\\myenv\\lib\\site-packages (from transformers) (0.23.4)\n",
                        "Requirement already satisfied: numpy>=1.17 in c:\\users\\kartg\\anaconda3\\envs\\myenv\\lib\\site-packages (from transformers) (1.24.3)\n",
                        "Requirement already satisfied: packaging>=20.0 in c:\\users\\kartg\\anaconda3\\envs\\myenv\\lib\\site-packages (from transformers) (24.1)\n",
                        "Requirement already satisfied: pyyaml>=5.1 in c:\\users\\kartg\\anaconda3\\envs\\myenv\\lib\\site-packages (from transformers) (6.0.1)\n",
                        "Requirement already satisfied: regex!=2019.12.17 in c:\\users\\kartg\\anaconda3\\envs\\myenv\\lib\\site-packages (from transformers) (2024.5.15)\n",
                        "Requirement already satisfied: requests in c:\\users\\kartg\\anaconda3\\envs\\myenv\\lib\\site-packages (from transformers) (2.32.2)\n",
                        "Requirement already satisfied: tokenizers<0.20,>=0.19 in c:\\users\\kartg\\anaconda3\\envs\\myenv\\lib\\site-packages (from transformers) (0.19.1)\n",
                        "Requirement already satisfied: safetensors>=0.4.1 in c:\\users\\kartg\\anaconda3\\envs\\myenv\\lib\\site-packages (from transformers) (0.4.3)\n",
                        "Requirement already satisfied: tqdm>=4.27 in c:\\users\\kartg\\anaconda3\\envs\\myenv\\lib\\site-packages (from transformers) (4.66.4)\n",
                        "Requirement already satisfied: fsspec>=2023.5.0 in c:\\users\\kartg\\anaconda3\\envs\\myenv\\lib\\site-packages (from huggingface-hub<1.0,>=0.23.0->transformers) (2024.5.0)\n",
                        "Requirement already satisfied: typing-extensions>=3.7.4.3 in c:\\users\\kartg\\anaconda3\\envs\\myenv\\lib\\site-packages (from huggingface-hub<1.0,>=0.23.0->transformers) (4.11.0)\n",
                        "Requirement already satisfied: colorama in c:\\users\\kartg\\anaconda3\\envs\\myenv\\lib\\site-packages (from tqdm>=4.27->transformers) (0.4.6)\n",
                        "Requirement already satisfied: charset-normalizer<4,>=2 in c:\\users\\kartg\\anaconda3\\envs\\myenv\\lib\\site-packages (from requests->transformers) (2.0.4)\n",
                        "Requirement already satisfied: idna<4,>=2.5 in c:\\users\\kartg\\anaconda3\\envs\\myenv\\lib\\site-packages (from requests->transformers) (3.7)\n",
                        "Requirement already satisfied: urllib3<3,>=1.21.1 in c:\\users\\kartg\\anaconda3\\envs\\myenv\\lib\\site-packages (from requests->transformers) (2.2.1)\n",
                        "Requirement already satisfied: certifi>=2017.4.17 in c:\\users\\kartg\\anaconda3\\envs\\myenv\\lib\\site-packages (from requests->transformers) (2024.6.2)\n"
                    ]
                }
            ],
            "source": [
                "!pip install openpyxl\n",
                "!pip install pandas\n",
                "!pip install pillow\n",
                "!pip install pytorch-ignite\n",
                "!pip install scikit-learn\n",
                "!pip install torch\n",
                "!pip install transformers"
            ]
        },
        {
            "cell_type": "markdown",
            "metadata": {},
            "source": [
                "## Import Required Modules"
            ]
        },
        {
            "cell_type": "code",
            "execution_count": 2,
            "metadata": {},
            "outputs": [
                {
                    "name": "stderr",
                    "output_type": "stream",
                    "text": [
                        "c:\\Users\\kartg\\anaconda3\\envs\\myenv\\lib\\site-packages\\tqdm\\auto.py:21: TqdmWarning: IProgress not found. Please update jupyter and ipywidgets. See https://ipywidgets.readthedocs.io/en/stable/user_install.html\n",
                        "  from .autonotebook import tqdm as notebook_tqdm\n"
                    ]
                }
            ],
            "source": [
                "import os\n",
                "import random\n",
                "import torch\n",
                "\n",
                "import numpy as np\n",
                "import pandas as pd\n",
                "import torch.nn as nn\n",
                "import nltk\n",
                "\n",
                "from ignite.metrics import Rouge\n",
                "from pandas.core.common import random_state\n",
                "from PIL import Image\n",
                "from torch.optim import AdamW\n",
                "from torch.utils.data import Dataset, DataLoader\n",
                "from tqdm import tqdm\n",
                "from transformers import AutoTokenizer, AutoModelForCausalLM, VisionEncoderDecoderModel, ViTImageProcessor\n",
                "from typing import Any, Dict, List\n",
                "from torch.utils.data import DataLoader\n",
                "from datasets import load_metric"
            ]
        },
        {
            "cell_type": "markdown",
            "metadata": {},
            "source": [
                "## Set The Random Seed"
            ]
        },
        {
            "cell_type": "code",
            "execution_count": 3,
            "metadata": {},
            "outputs": [],
            "source": [
                "seed = 42\n",
                "\n",
                "np.random.seed(seed=seed, )\n",
                "\n",
                "random_state(state=seed, )\n",
                "\n",
                "random.seed(a=seed, )\n",
                "\n",
                "torch.manual_seed(seed=seed, )\n",
                "torch.cuda.manual_seed(seed=seed, )\n",
                "torch.cuda.manual_seed_all(seed=seed, )\n",
                "torch.backends.cudnn.benchmark = False\n",
                "torch.backends.cudnn.deterministic = True"
            ]
        },
        {
            "cell_type": "markdown",
            "metadata": {},
            "source": [
                "## Set The Device & Initialize Models"
            ]
        },
        {
            "cell_type": "code",
            "execution_count": 4,
            "metadata": {},
            "outputs": [
                {
                    "name": "stderr",
                    "output_type": "stream",
                    "text": [
                        "c:\\Users\\kartg\\anaconda3\\envs\\myenv\\lib\\site-packages\\huggingface_hub\\file_download.py:1132: FutureWarning: `resume_download` is deprecated and will be removed in version 1.0.0. Downloads always resume when possible. If you want to force a new download, use `force_download=True`.\n",
                        "  warnings.warn(\n",
                        "Some weights of ViTModel were not initialized from the model checkpoint at nickmuchi/vit-finetuned-chest-xray-pneumonia and are newly initialized: ['vit.pooler.dense.bias', 'vit.pooler.dense.weight']\n",
                        "You should probably TRAIN this model on a down-stream task to be able to use it for predictions and inference.\n",
                        "Some weights of BertLMHeadModel were not initialized from the model checkpoint at emilyalsentzer/Bio_ClinicalBERT and are newly initialized: ['bert.encoder.layer.0.crossattention.output.LayerNorm.bias', 'bert.encoder.layer.0.crossattention.output.LayerNorm.weight', 'bert.encoder.layer.0.crossattention.output.dense.bias', 'bert.encoder.layer.0.crossattention.output.dense.weight', 'bert.encoder.layer.0.crossattention.self.key.bias', 'bert.encoder.layer.0.crossattention.self.key.weight', 'bert.encoder.layer.0.crossattention.self.query.bias', 'bert.encoder.layer.0.crossattention.self.query.weight', 'bert.encoder.layer.0.crossattention.self.value.bias', 'bert.encoder.layer.0.crossattention.self.value.weight', 'bert.encoder.layer.1.crossattention.output.LayerNorm.bias', 'bert.encoder.layer.1.crossattention.output.LayerNorm.weight', 'bert.encoder.layer.1.crossattention.output.dense.bias', 'bert.encoder.layer.1.crossattention.output.dense.weight', 'bert.encoder.layer.1.crossattention.self.key.bias', 'bert.encoder.layer.1.crossattention.self.key.weight', 'bert.encoder.layer.1.crossattention.self.query.bias', 'bert.encoder.layer.1.crossattention.self.query.weight', 'bert.encoder.layer.1.crossattention.self.value.bias', 'bert.encoder.layer.1.crossattention.self.value.weight', 'bert.encoder.layer.10.crossattention.output.LayerNorm.bias', 'bert.encoder.layer.10.crossattention.output.LayerNorm.weight', 'bert.encoder.layer.10.crossattention.output.dense.bias', 'bert.encoder.layer.10.crossattention.output.dense.weight', 'bert.encoder.layer.10.crossattention.self.key.bias', 'bert.encoder.layer.10.crossattention.self.key.weight', 'bert.encoder.layer.10.crossattention.self.query.bias', 'bert.encoder.layer.10.crossattention.self.query.weight', 'bert.encoder.layer.10.crossattention.self.value.bias', 'bert.encoder.layer.10.crossattention.self.value.weight', 'bert.encoder.layer.11.crossattention.output.LayerNorm.bias', 'bert.encoder.layer.11.crossattention.output.LayerNorm.weight', 'bert.encoder.layer.11.crossattention.output.dense.bias', 'bert.encoder.layer.11.crossattention.output.dense.weight', 'bert.encoder.layer.11.crossattention.self.key.bias', 'bert.encoder.layer.11.crossattention.self.key.weight', 'bert.encoder.layer.11.crossattention.self.query.bias', 'bert.encoder.layer.11.crossattention.self.query.weight', 'bert.encoder.layer.11.crossattention.self.value.bias', 'bert.encoder.layer.11.crossattention.self.value.weight', 'bert.encoder.layer.2.crossattention.output.LayerNorm.bias', 'bert.encoder.layer.2.crossattention.output.LayerNorm.weight', 'bert.encoder.layer.2.crossattention.output.dense.bias', 'bert.encoder.layer.2.crossattention.output.dense.weight', 'bert.encoder.layer.2.crossattention.self.key.bias', 'bert.encoder.layer.2.crossattention.self.key.weight', 'bert.encoder.layer.2.crossattention.self.query.bias', 'bert.encoder.layer.2.crossattention.self.query.weight', 'bert.encoder.layer.2.crossattention.self.value.bias', 'bert.encoder.layer.2.crossattention.self.value.weight', 'bert.encoder.layer.3.crossattention.output.LayerNorm.bias', 'bert.encoder.layer.3.crossattention.output.LayerNorm.weight', 'bert.encoder.layer.3.crossattention.output.dense.bias', 'bert.encoder.layer.3.crossattention.output.dense.weight', 'bert.encoder.layer.3.crossattention.self.key.bias', 'bert.encoder.layer.3.crossattention.self.key.weight', 'bert.encoder.layer.3.crossattention.self.query.bias', 'bert.encoder.layer.3.crossattention.self.query.weight', 'bert.encoder.layer.3.crossattention.self.value.bias', 'bert.encoder.layer.3.crossattention.self.value.weight', 'bert.encoder.layer.4.crossattention.output.LayerNorm.bias', 'bert.encoder.layer.4.crossattention.output.LayerNorm.weight', 'bert.encoder.layer.4.crossattention.output.dense.bias', 'bert.encoder.layer.4.crossattention.output.dense.weight', 'bert.encoder.layer.4.crossattention.self.key.bias', 'bert.encoder.layer.4.crossattention.self.key.weight', 'bert.encoder.layer.4.crossattention.self.query.bias', 'bert.encoder.layer.4.crossattention.self.query.weight', 'bert.encoder.layer.4.crossattention.self.value.bias', 'bert.encoder.layer.4.crossattention.self.value.weight', 'bert.encoder.layer.5.crossattention.output.LayerNorm.bias', 'bert.encoder.layer.5.crossattention.output.LayerNorm.weight', 'bert.encoder.layer.5.crossattention.output.dense.bias', 'bert.encoder.layer.5.crossattention.output.dense.weight', 'bert.encoder.layer.5.crossattention.self.key.bias', 'bert.encoder.layer.5.crossattention.self.key.weight', 'bert.encoder.layer.5.crossattention.self.query.bias', 'bert.encoder.layer.5.crossattention.self.query.weight', 'bert.encoder.layer.5.crossattention.self.value.bias', 'bert.encoder.layer.5.crossattention.self.value.weight', 'bert.encoder.layer.6.crossattention.output.LayerNorm.bias', 'bert.encoder.layer.6.crossattention.output.LayerNorm.weight', 'bert.encoder.layer.6.crossattention.output.dense.bias', 'bert.encoder.layer.6.crossattention.output.dense.weight', 'bert.encoder.layer.6.crossattention.self.key.bias', 'bert.encoder.layer.6.crossattention.self.key.weight', 'bert.encoder.layer.6.crossattention.self.query.bias', 'bert.encoder.layer.6.crossattention.self.query.weight', 'bert.encoder.layer.6.crossattention.self.value.bias', 'bert.encoder.layer.6.crossattention.self.value.weight', 'bert.encoder.layer.7.crossattention.output.LayerNorm.bias', 'bert.encoder.layer.7.crossattention.output.LayerNorm.weight', 'bert.encoder.layer.7.crossattention.output.dense.bias', 'bert.encoder.layer.7.crossattention.output.dense.weight', 'bert.encoder.layer.7.crossattention.self.key.bias', 'bert.encoder.layer.7.crossattention.self.key.weight', 'bert.encoder.layer.7.crossattention.self.query.bias', 'bert.encoder.layer.7.crossattention.self.query.weight', 'bert.encoder.layer.7.crossattention.self.value.bias', 'bert.encoder.layer.7.crossattention.self.value.weight', 'bert.encoder.layer.8.crossattention.output.LayerNorm.bias', 'bert.encoder.layer.8.crossattention.output.LayerNorm.weight', 'bert.encoder.layer.8.crossattention.output.dense.bias', 'bert.encoder.layer.8.crossattention.output.dense.weight', 'bert.encoder.layer.8.crossattention.self.key.bias', 'bert.encoder.layer.8.crossattention.self.key.weight', 'bert.encoder.layer.8.crossattention.self.query.bias', 'bert.encoder.layer.8.crossattention.self.query.weight', 'bert.encoder.layer.8.crossattention.self.value.bias', 'bert.encoder.layer.8.crossattention.self.value.weight', 'bert.encoder.layer.9.crossattention.output.LayerNorm.bias', 'bert.encoder.layer.9.crossattention.output.LayerNorm.weight', 'bert.encoder.layer.9.crossattention.output.dense.bias', 'bert.encoder.layer.9.crossattention.output.dense.weight', 'bert.encoder.layer.9.crossattention.self.key.bias', 'bert.encoder.layer.9.crossattention.self.key.weight', 'bert.encoder.layer.9.crossattention.self.query.bias', 'bert.encoder.layer.9.crossattention.self.query.weight', 'bert.encoder.layer.9.crossattention.self.value.bias', 'bert.encoder.layer.9.crossattention.self.value.weight']\n",
                        "You should probably TRAIN this model on a down-stream task to be able to use it for predictions and inference.\n"
                    ]
                },
                {
                    "name": "stdout",
                    "output_type": "stream",
                    "text": [
                        "['[UNK]', '[SEP]', '[PAD]', '[CLS]', '[MASK]']\n"
                    ]
                }
            ],
            "source": [
                "device = \"cuda\" if torch.cuda.is_available() else \"cpu\"\n",
                "\n",
                "model = VisionEncoderDecoderModel.from_encoder_decoder_pretrained(\"nickmuchi/vit-finetuned-chest-xray-pneumonia\", \"emilyalsentzer/Bio_ClinicalBERT\").to(device)\n",
                "\n",
                "tokenizer = AutoTokenizer.from_pretrained(\"emilyalsentzer/Bio_ClinicalBERT\")\n",
                "\n",
                "print(tokenizer.all_special_tokens)\n",
                "\n",
                "tokenizer.add_special_tokens({\n",
                "    \"bos_token\": tokenizer.cls_token,\n",
                "    \"eos_token\": tokenizer.sep_token,\n",
                "    \"pad_token\": tokenizer.pad_token,\n",
                "    #\"bos_token\": \"<|beginoftext|>\",\n",
                "    #\"pad_token\": \"<|pad|>\",\n",
                "})\n",
                "\n",
                "model.config.decoder_start_token_id = tokenizer.bos_token_id\n",
                "model.config.pad_token_id = tokenizer.pad_token_id\n",
                "model.config.eos_token_id = tokenizer.eos_token_id\n",
                "#model.generation_config.decoder_start_token_id = tokenizer.cls_token_id\n",
                "\n",
                "model.decoder.resize_token_embeddings(len(tokenizer))\n",
                "\n",
                "processor = ViTImageProcessor.from_pretrained(\"nickmuchi/vit-finetuned-chest-xray-pneumonia\")"
            ]
        },
        {
            "cell_type": "markdown",
            "metadata": {},
            "source": [
                "## The CXIRG Dataset"
            ]
        },
        {
            "cell_type": "code",
            "execution_count": 5,
            "metadata": {},
            "outputs": [],
            "source": [
                "class CXIRGDataset(Dataset):\n",
                "    def __init__(self, data: List[Dict[str, Any]]) -> None:\n",
                "        super(CXIRGDataset, self).__init__()\n",
                "        self.data = data\n",
                "\n",
                "    def __getitem__(self, index: int) -> Dict[str, Any]:\n",
                "        return self.data[index]\n",
                "\n",
                "    def __len__(self) -> int:\n",
                "        return len(self.data)"
            ]
        },
        {
            "cell_type": "markdown",
            "metadata": {},
            "source": [
                "## The Collate Function for The DataLoader"
            ]
        },
        {
            "cell_type": "code",
            "execution_count": 6,
            "metadata": {},
            "outputs": [],
            "source": [
                "max_length = 256\n",
                "\n",
                "def train_dl_collate_fn(one_batch_data: List[Dict[str, Any]]) -> Dict[str, Any]:\n",
                "    names, pixel_values, reports = [], [], []\n",
                "\n",
                "    for one_data in one_batch_data:\n",
                "        names.append(one_data[\"name\"])\n",
                "        pixel_values.append(one_data[\"image\"])\n",
                "        reports.append(one_data[\"text\"])\n",
                "\n",
                "    # Process images\n",
                "    pixel_values = processor(images=pixel_values, return_tensors=\"pt\").pixel_values\n",
                "    \n",
                "    # Tokenize reports\n",
                "    label_ids = tokenizer(\n",
                "        reports,\n",
                "        padding=\"max_length\",\n",
                "        truncation=True,\n",
                "        max_length=max_length,\n",
                "        return_tensors=\"pt\"\n",
                "    ).input_ids\n",
                "\n",
                "    return {\n",
                "        \"names\": names,\n",
                "        \"pixel_values\": pixel_values.to(device, dtype=torch.float32),\n",
                "        \"label_ids\": label_ids.to(device, dtype=torch.int64)\n",
                "    }\n",
                "\n",
                "def valid_dl_collate_fn(one_batch_data: List[Dict[str, Any]]) -> Dict[str, Any]:\n",
                "    names, pixel_values, reports = [], [], []\n",
                "\n",
                "    for one_data in one_batch_data:\n",
                "        names.append(one_data[\"name\"])\n",
                "        pixel_values.append(one_data[\"image\"])\n",
                "        reports.append(one_data[\"text\"])\n",
                "\n",
                "    # Process images\n",
                "    pixel_values = processor(images=pixel_values, return_tensors=\"pt\").pixel_values\n",
                "\n",
                "    # Tokenize reports\n",
                "    label_ids = tokenizer(\n",
                "        reports,\n",
                "        padding=\"max_length\",\n",
                "        truncation=True,\n",
                "        max_length=max_length,\n",
                "        return_tensors=\"pt\"\n",
                "    ).input_ids\n",
                "\n",
                "    return {\n",
                "        \"names\": names,\n",
                "        \"pixel_values\": pixel_values.to(device, dtype=torch.float32),\n",
                "        \"label_ids\": label_ids.to(device, dtype=torch.int64)\n",
                "    }\n"
            ]
        },
        {
            "cell_type": "markdown",
            "metadata": {},
            "source": [
                "## Load The Train & Validation Data"
            ]
        },
        {
            "cell_type": "code",
            "execution_count": 7,
            "metadata": {},
            "outputs": [
                {
                    "name": "stdout",
                    "output_type": "stream",
                    "text": [
                        "{'names': ['NLP_CHEST_018', 'NLP_CHEST_098', 'NLP_CHEST_084', 'NLP_CHEST_036'], 'pixel_values': tensor([[[[-0.9451, -0.9451, -0.9451,  ..., -0.8510, -0.7490, -0.7020],\n",
                        "          [-0.9451, -0.9373, -0.9451,  ..., -0.8902, -0.7882, -0.7882],\n",
                        "          [-0.9373, -0.9373, -0.9373,  ..., -0.9137, -0.9137, -0.9137],\n",
                        "          ...,\n",
                        "          [-0.9922, -0.9922, -0.9922,  ..., -0.9686, -0.9686, -0.9686],\n",
                        "          [-0.9922, -0.9922, -0.9922,  ..., -0.9686, -0.9686, -0.9686],\n",
                        "          [-0.9922, -0.9922, -0.9922,  ..., -0.9686, -0.9686, -0.9686]],\n",
                        "\n",
                        "         [[-0.9451, -0.9451, -0.9451,  ..., -0.8510, -0.7490, -0.7020],\n",
                        "          [-0.9451, -0.9373, -0.9451,  ..., -0.8902, -0.7882, -0.7882],\n",
                        "          [-0.9373, -0.9373, -0.9373,  ..., -0.9137, -0.9137, -0.9137],\n",
                        "          ...,\n",
                        "          [-0.9922, -0.9922, -0.9922,  ..., -0.9686, -0.9686, -0.9686],\n",
                        "          [-0.9922, -0.9922, -0.9922,  ..., -0.9686, -0.9686, -0.9686],\n",
                        "          [-0.9922, -0.9922, -0.9922,  ..., -0.9686, -0.9686, -0.9686]],\n",
                        "\n",
                        "         [[-0.9451, -0.9451, -0.9451,  ..., -0.8510, -0.7490, -0.7020],\n",
                        "          [-0.9451, -0.9373, -0.9451,  ..., -0.8902, -0.7882, -0.7882],\n",
                        "          [-0.9373, -0.9373, -0.9373,  ..., -0.9137, -0.9137, -0.9137],\n",
                        "          ...,\n",
                        "          [-0.9922, -0.9922, -0.9922,  ..., -0.9686, -0.9686, -0.9686],\n",
                        "          [-0.9922, -0.9922, -0.9922,  ..., -0.9686, -0.9686, -0.9686],\n",
                        "          [-0.9922, -0.9922, -0.9922,  ..., -0.9686, -0.9686, -0.9686]]],\n",
                        "\n",
                        "\n",
                        "        [[[-0.2706, -0.7804, -0.9373,  ..., -0.8510, -0.8039, -0.8431],\n",
                        "          [-0.8745, -0.9294, -0.9451,  ..., -0.5922, -0.2549, -0.3098],\n",
                        "          [-0.9451, -0.9451, -0.9451,  ..., -0.3961, -0.1608, -0.3647],\n",
                        "          ...,\n",
                        "          [-0.1373, -0.0667,  0.0039,  ..., -0.5059, -0.6471, -0.7804],\n",
                        "          [-0.0824, -0.0118,  0.0431,  ..., -0.5765, -0.6863, -0.8196],\n",
                        "          [-0.0667,  0.0196,  0.0588,  ..., -0.6471, -0.7255, -0.8510]],\n",
                        "\n",
                        "         [[-0.2706, -0.7804, -0.9373,  ..., -0.8510, -0.8039, -0.8431],\n",
                        "          [-0.8745, -0.9294, -0.9451,  ..., -0.5922, -0.2549, -0.3098],\n",
                        "          [-0.9451, -0.9451, -0.9451,  ..., -0.3961, -0.1608, -0.3647],\n",
                        "          ...,\n",
                        "          [-0.1373, -0.0667,  0.0039,  ..., -0.5059, -0.6471, -0.7804],\n",
                        "          [-0.0824, -0.0118,  0.0431,  ..., -0.5765, -0.6863, -0.8196],\n",
                        "          [-0.0667,  0.0196,  0.0588,  ..., -0.6471, -0.7255, -0.8510]],\n",
                        "\n",
                        "         [[-0.2706, -0.7804, -0.9373,  ..., -0.8510, -0.8039, -0.8431],\n",
                        "          [-0.8745, -0.9294, -0.9451,  ..., -0.5922, -0.2549, -0.3098],\n",
                        "          [-0.9451, -0.9451, -0.9451,  ..., -0.3961, -0.1608, -0.3647],\n",
                        "          ...,\n",
                        "          [-0.1373, -0.0667,  0.0039,  ..., -0.5059, -0.6471, -0.7804],\n",
                        "          [-0.0824, -0.0118,  0.0431,  ..., -0.5765, -0.6863, -0.8196],\n",
                        "          [-0.0667,  0.0196,  0.0588,  ..., -0.6471, -0.7255, -0.8510]]],\n",
                        "\n",
                        "\n",
                        "        [[[-0.9608, -0.9451, -0.9608,  ..., -0.9216, -0.9373, -0.9686],\n",
                        "          [-0.8980, -0.8980, -0.9059,  ..., -0.7961, -0.7176, -0.7961],\n",
                        "          [-0.8196, -0.8431, -0.8588,  ..., -0.2314, -0.2000, -0.3098],\n",
                        "          ...,\n",
                        "          [-0.9686, -0.9765, -0.7725,  ..., -0.7882, -0.7725, -0.7804],\n",
                        "          [-0.9529, -0.9765, -0.7961,  ..., -0.7804, -0.7647, -0.7176],\n",
                        "          [-0.9608, -0.9686, -0.8275,  ..., -0.7725, -0.6627, -0.2235]],\n",
                        "\n",
                        "         [[-0.9608, -0.9451, -0.9608,  ..., -0.9216, -0.9373, -0.9686],\n",
                        "          [-0.8980, -0.8980, -0.9059,  ..., -0.7961, -0.7176, -0.7961],\n",
                        "          [-0.8196, -0.8431, -0.8588,  ..., -0.2314, -0.2000, -0.3098],\n",
                        "          ...,\n",
                        "          [-0.9686, -0.9765, -0.7725,  ..., -0.7882, -0.7725, -0.7804],\n",
                        "          [-0.9529, -0.9765, -0.7961,  ..., -0.7804, -0.7647, -0.7176],\n",
                        "          [-0.9608, -0.9686, -0.8275,  ..., -0.7725, -0.6627, -0.2235]],\n",
                        "\n",
                        "         [[-0.9608, -0.9451, -0.9608,  ..., -0.9216, -0.9373, -0.9686],\n",
                        "          [-0.8980, -0.8980, -0.9059,  ..., -0.7961, -0.7176, -0.7961],\n",
                        "          [-0.8196, -0.8431, -0.8588,  ..., -0.2314, -0.2000, -0.3098],\n",
                        "          ...,\n",
                        "          [-0.9686, -0.9765, -0.7725,  ..., -0.7882, -0.7725, -0.7804],\n",
                        "          [-0.9529, -0.9765, -0.7961,  ..., -0.7804, -0.7647, -0.7176],\n",
                        "          [-0.9608, -0.9686, -0.8275,  ..., -0.7725, -0.6627, -0.2235]]],\n",
                        "\n",
                        "\n",
                        "        [[[ 0.6000,  0.6392,  0.6392,  ...,  0.8118,  0.8118,  0.8196],\n",
                        "          [ 0.5608,  0.6000,  0.5922,  ...,  0.6784,  0.6863,  0.6627],\n",
                        "          [ 0.5451,  0.5843,  0.5765,  ...,  0.4275,  0.4667,  0.4353],\n",
                        "          ...,\n",
                        "          [-1.0000, -0.9608, -0.8353,  ...,  0.1608,  0.0980,  0.0588],\n",
                        "          [-1.0000, -0.9686, -0.8196,  ...,  0.1451,  0.0824,  0.0275],\n",
                        "          [-1.0000, -0.9686, -0.7961,  ...,  0.1451,  0.0824,  0.0353]],\n",
                        "\n",
                        "         [[ 0.6000,  0.6392,  0.6392,  ...,  0.8118,  0.8118,  0.8196],\n",
                        "          [ 0.5608,  0.6000,  0.5922,  ...,  0.6784,  0.6863,  0.6627],\n",
                        "          [ 0.5451,  0.5843,  0.5765,  ...,  0.4275,  0.4667,  0.4353],\n",
                        "          ...,\n",
                        "          [-1.0000, -0.9608, -0.8353,  ...,  0.1608,  0.0980,  0.0588],\n",
                        "          [-1.0000, -0.9686, -0.8196,  ...,  0.1451,  0.0824,  0.0275],\n",
                        "          [-1.0000, -0.9686, -0.7961,  ...,  0.1451,  0.0824,  0.0353]],\n",
                        "\n",
                        "         [[ 0.6000,  0.6392,  0.6392,  ...,  0.8118,  0.8118,  0.8196],\n",
                        "          [ 0.5608,  0.6000,  0.5922,  ...,  0.6784,  0.6863,  0.6627],\n",
                        "          [ 0.5451,  0.5843,  0.5765,  ...,  0.4275,  0.4667,  0.4353],\n",
                        "          ...,\n",
                        "          [-1.0000, -0.9608, -0.8353,  ...,  0.1608,  0.0980,  0.0588],\n",
                        "          [-1.0000, -0.9686, -0.8196,  ...,  0.1451,  0.0824,  0.0275],\n",
                        "          [-1.0000, -0.9686, -0.7961,  ...,  0.1451,  0.0824,  0.0353]]]],\n",
                        "       device='cuda:0'), 'label_ids': tensor([[ 101, 2229,  185,  ...,    0,    0,    0],\n",
                        "        [ 101, 2229,  185,  ...,    0,    0,    0],\n",
                        "        [ 101, 2229,  170,  ...,    0,    0,    0],\n",
                        "        [ 101, 2229, 1273,  ...,    0,    0,    0]], device='cuda:0')}\n",
                        "{'names': ['NLP_CHEST_034', 'NLP_CHEST_076', 'NLP_CHEST_091', 'NLP_CHEST_070'], 'pixel_values': tensor([[[[-0.9137, -0.9137, -0.9137,  ..., -0.9608, -0.9608, -0.9608],\n",
                        "          [-0.9137, -0.9137, -0.9216,  ..., -0.7490, -0.6549, -0.6157],\n",
                        "          [-0.9137, -0.9137, -0.9216,  ..., -0.5294, -0.5373, -0.4510],\n",
                        "          ...,\n",
                        "          [-0.9137, -0.9059, -0.9294,  ...,  0.3725,  0.2863,  0.2392],\n",
                        "          [-0.9137, -0.9137, -0.9373,  ...,  0.3412,  0.2706,  0.2392],\n",
                        "          [-0.9059, -0.9059, -0.9373,  ...,  0.3098,  0.2000,  0.1137]],\n",
                        "\n",
                        "         [[-0.9137, -0.9137, -0.9137,  ..., -0.9608, -0.9608, -0.9608],\n",
                        "          [-0.9137, -0.9137, -0.9216,  ..., -0.7490, -0.6549, -0.6157],\n",
                        "          [-0.9137, -0.9137, -0.9216,  ..., -0.5294, -0.5373, -0.4510],\n",
                        "          ...,\n",
                        "          [-0.9137, -0.9059, -0.9294,  ...,  0.3725,  0.2863,  0.2392],\n",
                        "          [-0.9137, -0.9137, -0.9373,  ...,  0.3412,  0.2706,  0.2392],\n",
                        "          [-0.9059, -0.9059, -0.9373,  ...,  0.3098,  0.2000,  0.1137]],\n",
                        "\n",
                        "         [[-0.9137, -0.9137, -0.9137,  ..., -0.9608, -0.9608, -0.9608],\n",
                        "          [-0.9137, -0.9137, -0.9216,  ..., -0.7490, -0.6549, -0.6157],\n",
                        "          [-0.9137, -0.9137, -0.9216,  ..., -0.5294, -0.5373, -0.4510],\n",
                        "          ...,\n",
                        "          [-0.9137, -0.9059, -0.9294,  ...,  0.3725,  0.2863,  0.2392],\n",
                        "          [-0.9137, -0.9137, -0.9373,  ...,  0.3412,  0.2706,  0.2392],\n",
                        "          [-0.9059, -0.9059, -0.9373,  ...,  0.3098,  0.2000,  0.1137]]],\n",
                        "\n",
                        "\n",
                        "        [[[-1.0000, -1.0000, -1.0000,  ..., -1.0000, -0.8980, -0.6000],\n",
                        "          [-0.9922, -0.9922, -0.9922,  ..., -0.8902, -0.7569, -0.7647],\n",
                        "          [-0.9922, -0.9922, -0.9922,  ..., -0.3098, -0.5059, -0.3098],\n",
                        "          ...,\n",
                        "          [-0.5137, -0.3882, -0.2549,  ...,  0.2157,  0.1529,  0.1137],\n",
                        "          [-0.5059, -0.3647, -0.2314,  ...,  0.2392,  0.1922,  0.1294],\n",
                        "          [-0.4824, -0.3333, -0.2000,  ...,  0.2863,  0.2392,  0.1686]],\n",
                        "\n",
                        "         [[-1.0000, -1.0000, -1.0000,  ..., -1.0000, -0.8980, -0.6000],\n",
                        "          [-0.9922, -0.9922, -0.9922,  ..., -0.8902, -0.7569, -0.7647],\n",
                        "          [-0.9922, -0.9922, -0.9922,  ..., -0.3098, -0.5059, -0.3098],\n",
                        "          ...,\n",
                        "          [-0.5137, -0.3882, -0.2549,  ...,  0.2157,  0.1529,  0.1137],\n",
                        "          [-0.5059, -0.3647, -0.2314,  ...,  0.2392,  0.1922,  0.1294],\n",
                        "          [-0.4824, -0.3333, -0.2000,  ...,  0.2863,  0.2392,  0.1686]],\n",
                        "\n",
                        "         [[-1.0000, -1.0000, -1.0000,  ..., -1.0000, -0.8980, -0.6000],\n",
                        "          [-0.9922, -0.9922, -0.9922,  ..., -0.8902, -0.7569, -0.7647],\n",
                        "          [-0.9922, -0.9922, -0.9922,  ..., -0.3098, -0.5059, -0.3098],\n",
                        "          ...,\n",
                        "          [-0.5137, -0.3882, -0.2549,  ...,  0.2157,  0.1529,  0.1137],\n",
                        "          [-0.5059, -0.3647, -0.2314,  ...,  0.2392,  0.1922,  0.1294],\n",
                        "          [-0.4824, -0.3333, -0.2000,  ...,  0.2863,  0.2392,  0.1686]]],\n",
                        "\n",
                        "\n",
                        "        [[[-0.9608, -0.9608, -0.9608,  ..., -0.7961, -0.7569, -0.7569],\n",
                        "          [-0.9529, -0.9608, -0.9608,  ..., -0.6157, -0.3412, -0.3333],\n",
                        "          [-0.9529, -0.9608, -0.9608,  ..., -0.3333, -0.2314, -0.3804],\n",
                        "          ...,\n",
                        "          [-1.0000, -1.0000, -1.0000,  ..., -0.9608, -0.9608, -0.9608],\n",
                        "          [-0.9294, -0.9922, -1.0000,  ..., -0.9529, -0.9608, -0.9686],\n",
                        "          [-0.3725, -0.9373, -1.0000,  ..., -0.9608, -0.9608, -0.9686]],\n",
                        "\n",
                        "         [[-0.9608, -0.9608, -0.9608,  ..., -0.7961, -0.7569, -0.7569],\n",
                        "          [-0.9529, -0.9608, -0.9608,  ..., -0.6157, -0.3412, -0.3333],\n",
                        "          [-0.9529, -0.9608, -0.9608,  ..., -0.3333, -0.2314, -0.3804],\n",
                        "          ...,\n",
                        "          [-1.0000, -1.0000, -1.0000,  ..., -0.9608, -0.9608, -0.9608],\n",
                        "          [-0.9294, -0.9922, -1.0000,  ..., -0.9529, -0.9608, -0.9686],\n",
                        "          [-0.3725, -0.9373, -1.0000,  ..., -0.9608, -0.9608, -0.9686]],\n",
                        "\n",
                        "         [[-0.9608, -0.9608, -0.9608,  ..., -0.7961, -0.7569, -0.7569],\n",
                        "          [-0.9529, -0.9608, -0.9608,  ..., -0.6157, -0.3412, -0.3333],\n",
                        "          [-0.9529, -0.9608, -0.9608,  ..., -0.3333, -0.2314, -0.3804],\n",
                        "          ...,\n",
                        "          [-1.0000, -1.0000, -1.0000,  ..., -0.9608, -0.9608, -0.9608],\n",
                        "          [-0.9294, -0.9922, -1.0000,  ..., -0.9529, -0.9608, -0.9686],\n",
                        "          [-0.3725, -0.9373, -1.0000,  ..., -0.9608, -0.9608, -0.9686]]],\n",
                        "\n",
                        "\n",
                        "        [[[-0.9373, -0.9294, -0.9294,  ..., -0.9137, -0.8902, -0.8980],\n",
                        "          [-0.9373, -0.9294, -0.9294,  ..., -0.6392, -0.3647, -0.3725],\n",
                        "          [-0.9373, -0.9294, -0.9294,  ..., -0.3098, -0.2157, -0.3569],\n",
                        "          ...,\n",
                        "          [-0.9608, -0.9529, -0.9529,  ..., -0.9529, -0.9529, -0.9529],\n",
                        "          [-0.8824, -0.9451, -0.9529,  ..., -0.9529, -0.9529, -0.9529],\n",
                        "          [-0.3490, -0.8824, -0.9451,  ..., -0.9608, -0.9608, -0.9608]],\n",
                        "\n",
                        "         [[-0.9373, -0.9294, -0.9294,  ..., -0.9137, -0.8902, -0.8980],\n",
                        "          [-0.9373, -0.9294, -0.9294,  ..., -0.6392, -0.3647, -0.3725],\n",
                        "          [-0.9373, -0.9294, -0.9294,  ..., -0.3098, -0.2157, -0.3569],\n",
                        "          ...,\n",
                        "          [-0.9608, -0.9529, -0.9529,  ..., -0.9529, -0.9529, -0.9529],\n",
                        "          [-0.8824, -0.9451, -0.9529,  ..., -0.9529, -0.9529, -0.9529],\n",
                        "          [-0.3490, -0.8824, -0.9451,  ..., -0.9608, -0.9608, -0.9608]],\n",
                        "\n",
                        "         [[-0.9373, -0.9294, -0.9294,  ..., -0.9137, -0.8902, -0.8980],\n",
                        "          [-0.9373, -0.9294, -0.9294,  ..., -0.6392, -0.3647, -0.3725],\n",
                        "          [-0.9373, -0.9294, -0.9294,  ..., -0.3098, -0.2157, -0.3569],\n",
                        "          ...,\n",
                        "          [-0.9608, -0.9529, -0.9529,  ..., -0.9529, -0.9529, -0.9529],\n",
                        "          [-0.8824, -0.9451, -0.9529,  ..., -0.9529, -0.9529, -0.9529],\n",
                        "          [-0.3490, -0.8824, -0.9451,  ..., -0.9608, -0.9608, -0.9608]]]],\n",
                        "       device='cuda:0'), 'label_ids': tensor([[ 101, 2229, 6188,  ...,    0,    0,    0],\n",
                        "        [ 101, 2229, 6188,  ...,    0,    0,    0],\n",
                        "        [ 101, 2229,  185,  ...,    0,    0,    0],\n",
                        "        [ 101, 2229, 6188,  ...,    0,    0,    0]], device='cuda:0')}\n",
                        "{'names': ['NLP_CHEST_014', 'NLP_CHEST_013', 'NLP_CHEST_021', 'NLP_CHEST_088'], 'pixel_values': tensor([[[[-0.9608, -0.9608, -0.9608,  ..., -0.8902, -0.7569, -0.7098],\n",
                        "          [-0.9608, -0.9608, -0.9608,  ..., -0.9373, -0.8196, -0.8196],\n",
                        "          [-0.9529, -0.9529, -0.9529,  ..., -0.9608, -0.9608, -0.9529],\n",
                        "          ...,\n",
                        "          [-1.0000, -1.0000, -1.0000,  ..., -1.0000, -1.0000, -1.0000],\n",
                        "          [-1.0000, -1.0000, -1.0000,  ..., -1.0000, -1.0000, -1.0000],\n",
                        "          [-1.0000, -1.0000, -1.0000,  ..., -1.0000, -1.0000, -1.0000]],\n",
                        "\n",
                        "         [[-0.9608, -0.9608, -0.9608,  ..., -0.8902, -0.7569, -0.7098],\n",
                        "          [-0.9608, -0.9608, -0.9608,  ..., -0.9373, -0.8196, -0.8196],\n",
                        "          [-0.9529, -0.9529, -0.9529,  ..., -0.9608, -0.9608, -0.9529],\n",
                        "          ...,\n",
                        "          [-1.0000, -1.0000, -1.0000,  ..., -1.0000, -1.0000, -1.0000],\n",
                        "          [-1.0000, -1.0000, -1.0000,  ..., -1.0000, -1.0000, -1.0000],\n",
                        "          [-1.0000, -1.0000, -1.0000,  ..., -1.0000, -1.0000, -1.0000]],\n",
                        "\n",
                        "         [[-0.9608, -0.9608, -0.9608,  ..., -0.8902, -0.7569, -0.7098],\n",
                        "          [-0.9608, -0.9608, -0.9608,  ..., -0.9373, -0.8196, -0.8196],\n",
                        "          [-0.9529, -0.9529, -0.9529,  ..., -0.9608, -0.9608, -0.9529],\n",
                        "          ...,\n",
                        "          [-1.0000, -1.0000, -1.0000,  ..., -1.0000, -1.0000, -1.0000],\n",
                        "          [-1.0000, -1.0000, -1.0000,  ..., -1.0000, -1.0000, -1.0000],\n",
                        "          [-1.0000, -1.0000, -1.0000,  ..., -1.0000, -1.0000, -1.0000]]],\n",
                        "\n",
                        "\n",
                        "        [[[-0.9843, -0.9843, -0.9843,  ..., -0.9294, -0.7647, -0.7255],\n",
                        "          [-0.9843, -0.9843, -0.9843,  ..., -0.9765, -0.8431, -0.8510],\n",
                        "          [-0.9843, -0.9843, -0.9843,  ..., -1.0000, -1.0000, -1.0000],\n",
                        "          ...,\n",
                        "          [-0.3020, -0.2392, -0.1843,  ..., -0.3255, -0.4118, -0.4902],\n",
                        "          [-0.2627, -0.2078, -0.1451,  ..., -0.2863, -0.3804, -0.4431],\n",
                        "          [-0.2157, -0.1608, -0.1059,  ..., -0.2471, -0.3333, -0.4039]],\n",
                        "\n",
                        "         [[-0.9843, -0.9843, -0.9843,  ..., -0.9294, -0.7647, -0.7255],\n",
                        "          [-0.9843, -0.9843, -0.9843,  ..., -0.9765, -0.8431, -0.8510],\n",
                        "          [-0.9843, -0.9843, -0.9843,  ..., -1.0000, -1.0000, -1.0000],\n",
                        "          ...,\n",
                        "          [-0.3020, -0.2392, -0.1843,  ..., -0.3255, -0.4118, -0.4902],\n",
                        "          [-0.2627, -0.2078, -0.1451,  ..., -0.2863, -0.3804, -0.4431],\n",
                        "          [-0.2157, -0.1608, -0.1059,  ..., -0.2471, -0.3333, -0.4039]],\n",
                        "\n",
                        "         [[-0.9843, -0.9843, -0.9843,  ..., -0.9294, -0.7647, -0.7255],\n",
                        "          [-0.9843, -0.9843, -0.9843,  ..., -0.9765, -0.8431, -0.8510],\n",
                        "          [-0.9843, -0.9843, -0.9843,  ..., -1.0000, -1.0000, -1.0000],\n",
                        "          ...,\n",
                        "          [-0.3020, -0.2392, -0.1843,  ..., -0.3255, -0.4118, -0.4902],\n",
                        "          [-0.2627, -0.2078, -0.1451,  ..., -0.2863, -0.3804, -0.4431],\n",
                        "          [-0.2157, -0.1608, -0.1059,  ..., -0.2471, -0.3333, -0.4039]]],\n",
                        "\n",
                        "\n",
                        "        [[[-0.9059, -0.9137, -0.9137,  ..., -0.8824, -0.8824, -0.8745],\n",
                        "          [-0.9137, -0.9137, -0.9137,  ..., -0.6863, -0.6000, -0.5529],\n",
                        "          [-0.9137, -0.9137, -0.9137,  ..., -0.4824, -0.4902, -0.4039],\n",
                        "          ...,\n",
                        "          [-0.4667, -0.1216,  0.0588,  ..., -0.9294, -0.9922, -1.0000],\n",
                        "          [-0.4431, -0.1216,  0.0667,  ..., -0.9137, -0.9765, -0.9294],\n",
                        "          [-0.4196, -0.1373,  0.0275,  ..., -0.8980, -0.8431, -0.3020]],\n",
                        "\n",
                        "         [[-0.9059, -0.9137, -0.9137,  ..., -0.8824, -0.8824, -0.8745],\n",
                        "          [-0.9137, -0.9137, -0.9137,  ..., -0.6863, -0.6000, -0.5529],\n",
                        "          [-0.9137, -0.9137, -0.9137,  ..., -0.4824, -0.4902, -0.4039],\n",
                        "          ...,\n",
                        "          [-0.4667, -0.1216,  0.0588,  ..., -0.9294, -0.9922, -1.0000],\n",
                        "          [-0.4431, -0.1216,  0.0667,  ..., -0.9137, -0.9765, -0.9294],\n",
                        "          [-0.4196, -0.1373,  0.0275,  ..., -0.8980, -0.8431, -0.3020]],\n",
                        "\n",
                        "         [[-0.9059, -0.9137, -0.9137,  ..., -0.8824, -0.8824, -0.8745],\n",
                        "          [-0.9137, -0.9137, -0.9137,  ..., -0.6863, -0.6000, -0.5529],\n",
                        "          [-0.9137, -0.9137, -0.9137,  ..., -0.4824, -0.4902, -0.4039],\n",
                        "          ...,\n",
                        "          [-0.4667, -0.1216,  0.0588,  ..., -0.9294, -0.9922, -1.0000],\n",
                        "          [-0.4431, -0.1216,  0.0667,  ..., -0.9137, -0.9765, -0.9294],\n",
                        "          [-0.4196, -0.1373,  0.0275,  ..., -0.8980, -0.8431, -0.3020]]],\n",
                        "\n",
                        "\n",
                        "        [[[-0.3098, -0.8667, -1.0000,  ..., -0.9922, -0.9373, -0.9765],\n",
                        "          [-0.9294, -0.9843, -1.0000,  ..., -0.7804, -0.3412, -0.4039],\n",
                        "          [-1.0000, -1.0000, -1.0000,  ..., -0.4824, -0.2157, -0.4431],\n",
                        "          ...,\n",
                        "          [ 0.2078,  0.2157,  0.2314,  ...,  0.2784,  0.2549,  0.2392],\n",
                        "          [ 0.2235,  0.2314,  0.2314,  ...,  0.2863,  0.2784,  0.2706],\n",
                        "          [ 0.2000,  0.2157,  0.2314,  ...,  0.2941,  0.2941,  0.2941]],\n",
                        "\n",
                        "         [[-0.3098, -0.8667, -1.0000,  ..., -0.9922, -0.9373, -0.9765],\n",
                        "          [-0.9294, -0.9843, -1.0000,  ..., -0.7804, -0.3412, -0.4039],\n",
                        "          [-1.0000, -1.0000, -1.0000,  ..., -0.4824, -0.2157, -0.4431],\n",
                        "          ...,\n",
                        "          [ 0.2078,  0.2157,  0.2314,  ...,  0.2784,  0.2549,  0.2392],\n",
                        "          [ 0.2235,  0.2314,  0.2314,  ...,  0.2863,  0.2784,  0.2706],\n",
                        "          [ 0.2000,  0.2157,  0.2314,  ...,  0.2941,  0.2941,  0.2941]],\n",
                        "\n",
                        "         [[-0.3098, -0.8667, -1.0000,  ..., -0.9922, -0.9373, -0.9765],\n",
                        "          [-0.9294, -0.9843, -1.0000,  ..., -0.7804, -0.3412, -0.4039],\n",
                        "          [-1.0000, -1.0000, -1.0000,  ..., -0.4824, -0.2157, -0.4431],\n",
                        "          ...,\n",
                        "          [ 0.2078,  0.2157,  0.2314,  ...,  0.2784,  0.2549,  0.2392],\n",
                        "          [ 0.2235,  0.2314,  0.2314,  ...,  0.2863,  0.2784,  0.2706],\n",
                        "          [ 0.2000,  0.2157,  0.2314,  ...,  0.2941,  0.2941,  0.2941]]]],\n",
                        "       device='cuda:0'), 'label_ids': tensor([[ 101, 2229,  193,  ...,    0,    0,    0],\n",
                        "        [ 101, 2229,  193,  ...,    0,    0,    0],\n",
                        "        [ 101, 2229,  170,  ...,    0,    0,    0],\n",
                        "        [ 101, 2229,  170,  ...,    0,    0,    0]], device='cuda:0')}\n",
                        "{'names': ['NLP_CHEST_049', 'NLP_CHEST_063', 'NLP_CHEST_012', 'NLP_CHEST_081'], 'pixel_values': tensor([[[[-1.0000, -1.0000, -1.0000,  ..., -0.9922, -0.9373, -0.9765],\n",
                        "          [-1.0000, -1.0000, -1.0000,  ..., -0.7804, -0.3412, -0.4039],\n",
                        "          [-1.0000, -1.0000, -1.0000,  ..., -0.4824, -0.2157, -0.4431],\n",
                        "          ...,\n",
                        "          [-0.7725, -0.8118, -0.8118,  ...,  0.1216,  0.1059,  0.0745],\n",
                        "          [-0.7882, -0.8196, -0.8353,  ...,  0.1765,  0.1137,  0.0745],\n",
                        "          [-0.7961, -0.8196, -0.8510,  ...,  0.2314,  0.0902,  0.0510]],\n",
                        "\n",
                        "         [[-1.0000, -1.0000, -1.0000,  ..., -0.9922, -0.9373, -0.9765],\n",
                        "          [-1.0000, -1.0000, -1.0000,  ..., -0.7804, -0.3412, -0.4039],\n",
                        "          [-1.0000, -1.0000, -1.0000,  ..., -0.4824, -0.2157, -0.4431],\n",
                        "          ...,\n",
                        "          [-0.7725, -0.8118, -0.8118,  ...,  0.1216,  0.1059,  0.0745],\n",
                        "          [-0.7882, -0.8196, -0.8353,  ...,  0.1765,  0.1137,  0.0745],\n",
                        "          [-0.7961, -0.8196, -0.8510,  ...,  0.2314,  0.0902,  0.0510]],\n",
                        "\n",
                        "         [[-1.0000, -1.0000, -1.0000,  ..., -0.9922, -0.9373, -0.9765],\n",
                        "          [-1.0000, -1.0000, -1.0000,  ..., -0.7804, -0.3412, -0.4039],\n",
                        "          [-1.0000, -1.0000, -1.0000,  ..., -0.4824, -0.2157, -0.4431],\n",
                        "          ...,\n",
                        "          [-0.7725, -0.8118, -0.8118,  ...,  0.1216,  0.1059,  0.0745],\n",
                        "          [-0.7882, -0.8196, -0.8353,  ...,  0.1765,  0.1137,  0.0745],\n",
                        "          [-0.7961, -0.8196, -0.8510,  ...,  0.2314,  0.0902,  0.0510]]],\n",
                        "\n",
                        "\n",
                        "        [[[-0.2549, -0.7176, -0.9451,  ..., -0.9137, -0.9137, -0.9059],\n",
                        "          [-0.8745, -0.9216, -0.9451,  ..., -0.7098, -0.5529, -0.6078],\n",
                        "          [-0.9451, -0.9451, -0.9451,  ..., -0.7020, -0.3804, -0.4824],\n",
                        "          ...,\n",
                        "          [-0.5373, -0.2784, -0.0745,  ..., -0.7176, -0.8902, -0.9922],\n",
                        "          [-0.2157, -0.0667, -0.0275,  ..., -0.7725, -0.9059, -1.0000],\n",
                        "          [-0.0745,  0.0196,  0.0039,  ..., -0.8196, -0.9294, -1.0000]],\n",
                        "\n",
                        "         [[-0.2549, -0.7176, -0.9451,  ..., -0.9137, -0.9137, -0.9059],\n",
                        "          [-0.8745, -0.9216, -0.9451,  ..., -0.7098, -0.5529, -0.6078],\n",
                        "          [-0.9451, -0.9451, -0.9451,  ..., -0.7020, -0.3804, -0.4824],\n",
                        "          ...,\n",
                        "          [-0.5373, -0.2784, -0.0745,  ..., -0.7176, -0.8902, -0.9922],\n",
                        "          [-0.2157, -0.0667, -0.0275,  ..., -0.7725, -0.9059, -1.0000],\n",
                        "          [-0.0745,  0.0196,  0.0039,  ..., -0.8196, -0.9294, -1.0000]],\n",
                        "\n",
                        "         [[-0.2549, -0.7176, -0.9451,  ..., -0.9137, -0.9137, -0.9059],\n",
                        "          [-0.8745, -0.9216, -0.9451,  ..., -0.7098, -0.5529, -0.6078],\n",
                        "          [-0.9451, -0.9451, -0.9451,  ..., -0.7020, -0.3804, -0.4824],\n",
                        "          ...,\n",
                        "          [-0.5373, -0.2784, -0.0745,  ..., -0.7176, -0.8902, -0.9922],\n",
                        "          [-0.2157, -0.0667, -0.0275,  ..., -0.7725, -0.9059, -1.0000],\n",
                        "          [-0.0745,  0.0196,  0.0039,  ..., -0.8196, -0.9294, -1.0000]]],\n",
                        "\n",
                        "\n",
                        "        [[[-1.0000, -1.0000, -1.0000,  ..., -0.9922, -0.9922, -0.9843],\n",
                        "          [-1.0000, -1.0000, -1.0000,  ..., -0.7804, -0.6863, -0.6392],\n",
                        "          [-1.0000, -1.0000, -1.0000,  ..., -0.5529, -0.5686, -0.4745],\n",
                        "          ...,\n",
                        "          [-0.0275,  0.1608,  0.2392,  ..., -0.0118, -0.0824, -0.1294],\n",
                        "          [-0.0510,  0.1373,  0.2078,  ..., -0.0039, -0.0745, -0.1216],\n",
                        "          [-0.0824,  0.0196,  0.0824,  ..., -0.0667, -0.1059, -0.0275]],\n",
                        "\n",
                        "         [[-1.0000, -1.0000, -1.0000,  ..., -0.9922, -0.9922, -0.9843],\n",
                        "          [-1.0000, -1.0000, -1.0000,  ..., -0.7804, -0.6863, -0.6392],\n",
                        "          [-1.0000, -1.0000, -1.0000,  ..., -0.5529, -0.5686, -0.4745],\n",
                        "          ...,\n",
                        "          [-0.0275,  0.1608,  0.2392,  ..., -0.0118, -0.0824, -0.1294],\n",
                        "          [-0.0510,  0.1373,  0.2078,  ..., -0.0039, -0.0745, -0.1216],\n",
                        "          [-0.0824,  0.0196,  0.0824,  ..., -0.0667, -0.1059, -0.0275]],\n",
                        "\n",
                        "         [[-1.0000, -1.0000, -1.0000,  ..., -0.9922, -0.9922, -0.9843],\n",
                        "          [-1.0000, -1.0000, -1.0000,  ..., -0.7804, -0.6863, -0.6392],\n",
                        "          [-1.0000, -1.0000, -1.0000,  ..., -0.5529, -0.5686, -0.4745],\n",
                        "          ...,\n",
                        "          [-0.0275,  0.1608,  0.2392,  ..., -0.0118, -0.0824, -0.1294],\n",
                        "          [-0.0510,  0.1373,  0.2078,  ..., -0.0039, -0.0745, -0.1216],\n",
                        "          [-0.0824,  0.0196,  0.0824,  ..., -0.0667, -0.1059, -0.0275]]],\n",
                        "\n",
                        "\n",
                        "        [[[-0.3569, -0.8824, -0.9529,  ..., -0.9294, -0.8902, -0.9059],\n",
                        "          [-0.8902, -0.9529, -0.9608,  ..., -0.6706, -0.3569, -0.3647],\n",
                        "          [-0.9608, -0.9608, -0.9608,  ..., -0.3255, -0.2000, -0.4039],\n",
                        "          ...,\n",
                        "          [-0.9373, -0.9373, -0.9451,  ..., -0.8745, -0.8902, -0.8980],\n",
                        "          [-0.9451, -0.9373, -0.9373,  ..., -0.8510, -0.8667, -0.8902],\n",
                        "          [-0.9451, -0.9451, -0.9373,  ..., -0.8353, -0.8510, -0.8824]],\n",
                        "\n",
                        "         [[-0.3569, -0.8824, -0.9529,  ..., -0.9294, -0.8902, -0.9059],\n",
                        "          [-0.8902, -0.9529, -0.9608,  ..., -0.6706, -0.3569, -0.3647],\n",
                        "          [-0.9608, -0.9608, -0.9608,  ..., -0.3255, -0.2000, -0.4039],\n",
                        "          ...,\n",
                        "          [-0.9373, -0.9373, -0.9451,  ..., -0.8745, -0.8902, -0.8980],\n",
                        "          [-0.9451, -0.9373, -0.9373,  ..., -0.8510, -0.8667, -0.8902],\n",
                        "          [-0.9451, -0.9451, -0.9373,  ..., -0.8353, -0.8510, -0.8824]],\n",
                        "\n",
                        "         [[-0.3569, -0.8824, -0.9529,  ..., -0.9294, -0.8902, -0.9059],\n",
                        "          [-0.8902, -0.9529, -0.9608,  ..., -0.6706, -0.3569, -0.3647],\n",
                        "          [-0.9608, -0.9608, -0.9608,  ..., -0.3255, -0.2000, -0.4039],\n",
                        "          ...,\n",
                        "          [-0.9373, -0.9373, -0.9451,  ..., -0.8745, -0.8902, -0.8980],\n",
                        "          [-0.9451, -0.9373, -0.9373,  ..., -0.8510, -0.8667, -0.8902],\n",
                        "          [-0.9451, -0.9451, -0.9373,  ..., -0.8353, -0.8510, -0.8824]]]],\n",
                        "       device='cuda:0'), 'label_ids': tensor([[ 101, 2229,  170,  ...,    0,    0,    0],\n",
                        "        [ 101, 2229, 6188,  ...,    0,    0,    0],\n",
                        "        [ 101, 2229,  170,  ...,    0,    0,    0],\n",
                        "        [ 101, 2229,  170,  ...,    0,    0,    0]], device='cuda:0')}\n",
                        "{'names': ['NLP_CHEST_044', 'NLP_CHEST_055', 'NLP_CHEST_030', 'NLP_CHEST_064'], 'pixel_values': tensor([[[[ 0.5843, -0.0745, -0.7333,  ..., -0.8902, -0.8902, -0.8902],\n",
                        "          [ 0.7961,  0.7961,  0.5059,  ..., -0.8980, -0.8902, -0.8980],\n",
                        "          [ 0.7961,  0.8353,  0.8353,  ..., -0.9059, -0.8980, -0.9059],\n",
                        "          ...,\n",
                        "          [ 0.6078,  0.5922,  0.5843,  ..., -0.6471, -0.6784, -0.6863],\n",
                        "          [ 0.6000,  0.6000,  0.5843,  ..., -0.6157, -0.6627, -0.6627],\n",
                        "          [ 0.3569,  0.3490,  0.3412,  ..., -0.6157, -0.6471, -0.6549]],\n",
                        "\n",
                        "         [[ 0.5843, -0.0745, -0.7333,  ..., -0.8902, -0.8902, -0.8902],\n",
                        "          [ 0.7961,  0.7961,  0.5059,  ..., -0.8980, -0.8902, -0.8980],\n",
                        "          [ 0.7961,  0.8353,  0.8353,  ..., -0.9059, -0.8980, -0.9059],\n",
                        "          ...,\n",
                        "          [ 0.6078,  0.5922,  0.5843,  ..., -0.6471, -0.6784, -0.6863],\n",
                        "          [ 0.6000,  0.6000,  0.5843,  ..., -0.6157, -0.6627, -0.6627],\n",
                        "          [ 0.3569,  0.3490,  0.3412,  ..., -0.6157, -0.6471, -0.6549]],\n",
                        "\n",
                        "         [[ 0.5843, -0.0745, -0.7333,  ..., -0.8902, -0.8902, -0.8902],\n",
                        "          [ 0.7961,  0.7961,  0.5059,  ..., -0.8980, -0.8902, -0.8980],\n",
                        "          [ 0.7961,  0.8353,  0.8353,  ..., -0.9059, -0.8980, -0.9059],\n",
                        "          ...,\n",
                        "          [ 0.6078,  0.5922,  0.5843,  ..., -0.6471, -0.6784, -0.6863],\n",
                        "          [ 0.6000,  0.6000,  0.5843,  ..., -0.6157, -0.6627, -0.6627],\n",
                        "          [ 0.3569,  0.3490,  0.3412,  ..., -0.6157, -0.6471, -0.6549]]],\n",
                        "\n",
                        "\n",
                        "        [[[-0.7882, -0.7961, -0.7961,  ..., -0.7490, -0.6863, -0.5216],\n",
                        "          [-0.7961, -0.7961, -0.7961,  ..., -0.7647, -0.7569, -0.7176],\n",
                        "          [-0.8039, -0.8039, -0.8039,  ..., -0.7647, -0.7647, -0.7569],\n",
                        "          ...,\n",
                        "          [-0.3490, -0.2863, -0.2392,  ..., -1.0000, -1.0000, -1.0000],\n",
                        "          [-0.3647, -0.3020, -0.2549,  ..., -1.0000, -1.0000, -1.0000],\n",
                        "          [-0.3647, -0.3020, -0.2706,  ..., -1.0000, -1.0000, -1.0000]],\n",
                        "\n",
                        "         [[-0.7882, -0.7961, -0.7961,  ..., -0.7490, -0.6863, -0.5216],\n",
                        "          [-0.7961, -0.7961, -0.7961,  ..., -0.7647, -0.7569, -0.7176],\n",
                        "          [-0.8039, -0.8039, -0.8039,  ..., -0.7647, -0.7647, -0.7569],\n",
                        "          ...,\n",
                        "          [-0.3490, -0.2863, -0.2392,  ..., -1.0000, -1.0000, -1.0000],\n",
                        "          [-0.3647, -0.3020, -0.2549,  ..., -1.0000, -1.0000, -1.0000],\n",
                        "          [-0.3647, -0.3020, -0.2706,  ..., -1.0000, -1.0000, -1.0000]],\n",
                        "\n",
                        "         [[-0.7882, -0.7961, -0.7961,  ..., -0.7490, -0.6863, -0.5216],\n",
                        "          [-0.7961, -0.7961, -0.7961,  ..., -0.7647, -0.7569, -0.7176],\n",
                        "          [-0.8039, -0.8039, -0.8039,  ..., -0.7647, -0.7647, -0.7569],\n",
                        "          ...,\n",
                        "          [-0.3490, -0.2863, -0.2392,  ..., -1.0000, -1.0000, -1.0000],\n",
                        "          [-0.3647, -0.3020, -0.2549,  ..., -1.0000, -1.0000, -1.0000],\n",
                        "          [-0.3647, -0.3020, -0.2706,  ..., -1.0000, -1.0000, -1.0000]]],\n",
                        "\n",
                        "\n",
                        "        [[[-0.9059, -0.9059, -0.9059,  ..., -0.8196, -0.7490, -0.7333],\n",
                        "          [-0.8902, -0.8902, -0.9137,  ..., -0.5843, -0.2706, -0.2627],\n",
                        "          [-0.8824, -0.8902, -0.9059,  ..., -0.2706, -0.1373, -0.3176],\n",
                        "          ...,\n",
                        "          [ 0.0667,  0.1686,  0.1843,  ..., -1.0000, -1.0000, -1.0000],\n",
                        "          [ 0.0902,  0.1843,  0.2078,  ..., -1.0000, -0.9922, -0.9373],\n",
                        "          [ 0.1059,  0.1843,  0.2078,  ..., -1.0000, -0.9294, -0.3725]],\n",
                        "\n",
                        "         [[-0.9059, -0.9059, -0.9059,  ..., -0.8196, -0.7490, -0.7333],\n",
                        "          [-0.8902, -0.8902, -0.9137,  ..., -0.5843, -0.2706, -0.2627],\n",
                        "          [-0.8824, -0.8902, -0.9059,  ..., -0.2706, -0.1373, -0.3176],\n",
                        "          ...,\n",
                        "          [ 0.0667,  0.1686,  0.1843,  ..., -1.0000, -1.0000, -1.0000],\n",
                        "          [ 0.0902,  0.1843,  0.2078,  ..., -1.0000, -0.9922, -0.9373],\n",
                        "          [ 0.1059,  0.1843,  0.2078,  ..., -1.0000, -0.9294, -0.3725]],\n",
                        "\n",
                        "         [[-0.9059, -0.9059, -0.9059,  ..., -0.8196, -0.7490, -0.7333],\n",
                        "          [-0.8902, -0.8902, -0.9137,  ..., -0.5843, -0.2706, -0.2627],\n",
                        "          [-0.8824, -0.8902, -0.9059,  ..., -0.2706, -0.1373, -0.3176],\n",
                        "          ...,\n",
                        "          [ 0.0667,  0.1686,  0.1843,  ..., -1.0000, -1.0000, -1.0000],\n",
                        "          [ 0.0902,  0.1843,  0.2078,  ..., -1.0000, -0.9922, -0.9373],\n",
                        "          [ 0.1059,  0.1843,  0.2078,  ..., -1.0000, -0.9294, -0.3725]]],\n",
                        "\n",
                        "\n",
                        "        [[[-0.9608, -0.9608, -0.9608,  ..., -0.8980, -0.7569, -0.7176],\n",
                        "          [-0.9529, -0.9529, -0.9529,  ..., -0.9451, -0.8275, -0.8275],\n",
                        "          [-0.9529, -0.9529, -0.9529,  ..., -0.9686, -0.9686, -0.9686],\n",
                        "          ...,\n",
                        "          [-1.0000, -1.0000, -0.9608,  ..., -0.9765, -1.0000, -1.0000],\n",
                        "          [-1.0000, -1.0000, -0.9529,  ..., -0.9765, -1.0000, -1.0000],\n",
                        "          [-1.0000, -0.9922, -0.9451,  ..., -0.9843, -1.0000, -1.0000]],\n",
                        "\n",
                        "         [[-0.9608, -0.9608, -0.9608,  ..., -0.8980, -0.7569, -0.7176],\n",
                        "          [-0.9529, -0.9529, -0.9529,  ..., -0.9451, -0.8275, -0.8275],\n",
                        "          [-0.9529, -0.9529, -0.9529,  ..., -0.9686, -0.9686, -0.9686],\n",
                        "          ...,\n",
                        "          [-1.0000, -1.0000, -0.9608,  ..., -0.9765, -1.0000, -1.0000],\n",
                        "          [-1.0000, -1.0000, -0.9529,  ..., -0.9765, -1.0000, -1.0000],\n",
                        "          [-1.0000, -0.9922, -0.9451,  ..., -0.9843, -1.0000, -1.0000]],\n",
                        "\n",
                        "         [[-0.9608, -0.9608, -0.9608,  ..., -0.8980, -0.7569, -0.7176],\n",
                        "          [-0.9529, -0.9529, -0.9529,  ..., -0.9451, -0.8275, -0.8275],\n",
                        "          [-0.9529, -0.9529, -0.9529,  ..., -0.9686, -0.9686, -0.9686],\n",
                        "          ...,\n",
                        "          [-1.0000, -1.0000, -0.9608,  ..., -0.9765, -1.0000, -1.0000],\n",
                        "          [-1.0000, -1.0000, -0.9529,  ..., -0.9765, -1.0000, -1.0000],\n",
                        "          [-1.0000, -0.9922, -0.9451,  ..., -0.9843, -1.0000, -1.0000]]]],\n",
                        "       device='cuda:0'), 'label_ids': tensor([[ 101, 2229, 6188,  ...,    0,    0,    0],\n",
                        "        [ 101, 2229, 6188,  ...,    0,    0,    0],\n",
                        "        [ 101, 2229, 6188,  ...,    0,    0,    0],\n",
                        "        [ 101, 2229,  193,  ...,    0,    0,    0]], device='cuda:0')}\n",
                        "{'names': ['NLP_CHEST_065', 'NLP_CHEST_041', 'NLP_CHEST_056', 'NLP_CHEST_061'], 'pixel_values': tensor([[[[-0.0824, -0.4196, -0.8196,  ...,  0.1529,  0.1529,  0.2078],\n",
                        "          [-0.4431, -0.6235, -0.8275,  ...,  0.1686,  0.1216,  0.1608],\n",
                        "          [-0.8196, -0.8275, -0.8275,  ...,  0.2314,  0.1843,  0.1529],\n",
                        "          ...,\n",
                        "          [-0.9137, -0.9137, -0.9059,  ..., -0.9137, -0.9137, -0.9137],\n",
                        "          [-0.9216, -0.9216, -0.9137,  ..., -0.9137, -0.9137, -0.9137],\n",
                        "          [-0.9216, -0.9216, -0.9059,  ..., -0.9137, -0.9137, -0.9137]],\n",
                        "\n",
                        "         [[-0.0824, -0.4196, -0.8196,  ...,  0.1529,  0.1529,  0.2078],\n",
                        "          [-0.4431, -0.6235, -0.8275,  ...,  0.1686,  0.1216,  0.1608],\n",
                        "          [-0.8196, -0.8275, -0.8275,  ...,  0.2314,  0.1843,  0.1529],\n",
                        "          ...,\n",
                        "          [-0.9137, -0.9137, -0.9059,  ..., -0.9137, -0.9137, -0.9137],\n",
                        "          [-0.9216, -0.9216, -0.9137,  ..., -0.9137, -0.9137, -0.9137],\n",
                        "          [-0.9216, -0.9216, -0.9059,  ..., -0.9137, -0.9137, -0.9137]],\n",
                        "\n",
                        "         [[-0.0824, -0.4196, -0.8196,  ...,  0.1529,  0.1529,  0.2078],\n",
                        "          [-0.4431, -0.6235, -0.8275,  ...,  0.1686,  0.1216,  0.1608],\n",
                        "          [-0.8196, -0.8275, -0.8275,  ...,  0.2314,  0.1843,  0.1529],\n",
                        "          ...,\n",
                        "          [-0.9137, -0.9137, -0.9059,  ..., -0.9137, -0.9137, -0.9137],\n",
                        "          [-0.9216, -0.9216, -0.9137,  ..., -0.9137, -0.9137, -0.9137],\n",
                        "          [-0.9216, -0.9216, -0.9059,  ..., -0.9137, -0.9137, -0.9137]]],\n",
                        "\n",
                        "\n",
                        "        [[[-0.9216, -0.9216, -0.9216,  ..., -0.9137, -0.9137, -0.9137],\n",
                        "          [-0.9216, -0.9216, -0.9216,  ..., -0.7098, -0.6157, -0.5765],\n",
                        "          [-0.9216, -0.9216, -0.9216,  ..., -0.4902, -0.5059, -0.4196],\n",
                        "          ...,\n",
                        "          [-1.0000, -1.0000, -1.0000,  ..., -1.0000, -1.0000, -1.0000],\n",
                        "          [-1.0000, -0.9922, -1.0000,  ..., -1.0000, -0.9843, -0.9294],\n",
                        "          [-0.9922, -0.9922, -1.0000,  ..., -1.0000, -0.8510, -0.3020]],\n",
                        "\n",
                        "         [[-0.9216, -0.9216, -0.9216,  ..., -0.9137, -0.9137, -0.9137],\n",
                        "          [-0.9216, -0.9216, -0.9216,  ..., -0.7098, -0.6157, -0.5765],\n",
                        "          [-0.9216, -0.9216, -0.9216,  ..., -0.4902, -0.5059, -0.4196],\n",
                        "          ...,\n",
                        "          [-1.0000, -1.0000, -1.0000,  ..., -1.0000, -1.0000, -1.0000],\n",
                        "          [-1.0000, -0.9922, -1.0000,  ..., -1.0000, -0.9843, -0.9294],\n",
                        "          [-0.9922, -0.9922, -1.0000,  ..., -1.0000, -0.8510, -0.3020]],\n",
                        "\n",
                        "         [[-0.9216, -0.9216, -0.9216,  ..., -0.9137, -0.9137, -0.9137],\n",
                        "          [-0.9216, -0.9216, -0.9216,  ..., -0.7098, -0.6157, -0.5765],\n",
                        "          [-0.9216, -0.9216, -0.9216,  ..., -0.4902, -0.5059, -0.4196],\n",
                        "          ...,\n",
                        "          [-1.0000, -1.0000, -1.0000,  ..., -1.0000, -1.0000, -1.0000],\n",
                        "          [-1.0000, -0.9922, -1.0000,  ..., -1.0000, -0.9843, -0.9294],\n",
                        "          [-0.9922, -0.9922, -1.0000,  ..., -1.0000, -0.8510, -0.3020]]],\n",
                        "\n",
                        "\n",
                        "        [[[-0.3412, -0.8588, -0.9216,  ..., -0.8980, -0.8588, -0.8824],\n",
                        "          [-0.8667, -0.9216, -0.9294,  ..., -0.6549, -0.3412, -0.3490],\n",
                        "          [-0.9294, -0.9294, -0.9294,  ..., -0.3098, -0.1922, -0.3961],\n",
                        "          ...,\n",
                        "          [ 0.6706,  0.5294,  0.5451,  ...,  0.2392,  0.2157, -0.1294],\n",
                        "          [ 0.7020,  0.6000,  0.6627,  ...,  0.2235,  0.1922, -0.1373],\n",
                        "          [ 0.8667,  0.8667,  0.8431,  ...,  0.2078,  0.1608, -0.1686]],\n",
                        "\n",
                        "         [[-0.3412, -0.8588, -0.9216,  ..., -0.8980, -0.8588, -0.8824],\n",
                        "          [-0.8667, -0.9216, -0.9294,  ..., -0.6549, -0.3412, -0.3490],\n",
                        "          [-0.9294, -0.9294, -0.9294,  ..., -0.3098, -0.1922, -0.3961],\n",
                        "          ...,\n",
                        "          [ 0.6706,  0.5294,  0.5451,  ...,  0.2392,  0.2157, -0.1294],\n",
                        "          [ 0.7020,  0.6000,  0.6627,  ...,  0.2235,  0.1922, -0.1373],\n",
                        "          [ 0.8667,  0.8667,  0.8431,  ...,  0.2078,  0.1608, -0.1686]],\n",
                        "\n",
                        "         [[-0.3412, -0.8588, -0.9216,  ..., -0.8980, -0.8588, -0.8824],\n",
                        "          [-0.8667, -0.9216, -0.9294,  ..., -0.6549, -0.3412, -0.3490],\n",
                        "          [-0.9294, -0.9294, -0.9294,  ..., -0.3098, -0.1922, -0.3961],\n",
                        "          ...,\n",
                        "          [ 0.6706,  0.5294,  0.5451,  ...,  0.2392,  0.2157, -0.1294],\n",
                        "          [ 0.7020,  0.6000,  0.6627,  ...,  0.2235,  0.1922, -0.1373],\n",
                        "          [ 0.8667,  0.8667,  0.8431,  ...,  0.2078,  0.1608, -0.1686]]],\n",
                        "\n",
                        "\n",
                        "        [[[-0.2471, -0.1608, -0.1608,  ...,  0.4510,  0.3176, -0.8667],\n",
                        "          [-0.6471, -0.5765, -0.6000,  ...,  0.0353,  0.1059, -0.8745],\n",
                        "          [-0.7961, -0.7569, -0.7882,  ..., -0.3961, -0.2000, -0.9059],\n",
                        "          ...,\n",
                        "          [-1.0000, -1.0000, -1.0000,  ..., -0.3882, -0.0745, -0.7098],\n",
                        "          [-0.9608, -0.9608, -0.9608,  ..., -0.3961,  0.0039, -0.0510],\n",
                        "          [-0.8667, -0.8588, -0.8588,  ..., -0.4039, -0.0431, -0.2314]],\n",
                        "\n",
                        "         [[-0.2471, -0.1608, -0.1608,  ...,  0.4510,  0.3176, -0.8667],\n",
                        "          [-0.6471, -0.5765, -0.6000,  ...,  0.0353,  0.1059, -0.8745],\n",
                        "          [-0.7961, -0.7569, -0.7882,  ..., -0.3961, -0.2000, -0.9059],\n",
                        "          ...,\n",
                        "          [-1.0000, -1.0000, -1.0000,  ..., -0.3882, -0.0745, -0.7098],\n",
                        "          [-0.9608, -0.9608, -0.9608,  ..., -0.3961,  0.0039, -0.0510],\n",
                        "          [-0.8667, -0.8588, -0.8588,  ..., -0.4039, -0.0431, -0.2314]],\n",
                        "\n",
                        "         [[-0.2471, -0.1608, -0.1608,  ...,  0.4510,  0.3176, -0.8667],\n",
                        "          [-0.6471, -0.5765, -0.6000,  ...,  0.0353,  0.1059, -0.8745],\n",
                        "          [-0.7961, -0.7569, -0.7882,  ..., -0.3961, -0.2000, -0.9059],\n",
                        "          ...,\n",
                        "          [-1.0000, -1.0000, -1.0000,  ..., -0.3882, -0.0745, -0.7098],\n",
                        "          [-0.9608, -0.9608, -0.9608,  ..., -0.3961,  0.0039, -0.0510],\n",
                        "          [-0.8667, -0.8588, -0.8588,  ..., -0.4039, -0.0431, -0.2314]]]],\n",
                        "       device='cuda:0'), 'label_ids': tensor([[ 101, 2229, 6188,  ...,    0,    0,    0],\n",
                        "        [ 101, 2229,  170,  ...,    0,    0,    0],\n",
                        "        [ 101, 2229, 1273,  ...,    0,    0,    0],\n",
                        "        [ 101, 2229, 6188,  ...,    0,    0,    0]], device='cuda:0')}\n",
                        "{'names': ['NLP_CHEST_080', 'NLP_CHEST_090', 'NLP_CHEST_038', 'NLP_CHEST_054'], 'pixel_values': tensor([[[[-0.7882, -0.7961, -0.7961,  ..., -0.7490, -0.6863, -0.5216],\n",
                        "          [-0.7961, -0.7961, -0.7961,  ..., -0.7647, -0.7569, -0.7176],\n",
                        "          [-0.8039, -0.8039, -0.8039,  ..., -0.7647, -0.7647, -0.7569],\n",
                        "          ...,\n",
                        "          [-0.3490, -0.2863, -0.2392,  ..., -1.0000, -1.0000, -1.0000],\n",
                        "          [-0.3647, -0.3020, -0.2549,  ..., -1.0000, -1.0000, -1.0000],\n",
                        "          [-0.3647, -0.3020, -0.2706,  ..., -1.0000, -1.0000, -1.0000]],\n",
                        "\n",
                        "         [[-0.7882, -0.7961, -0.7961,  ..., -0.7490, -0.6863, -0.5216],\n",
                        "          [-0.7961, -0.7961, -0.7961,  ..., -0.7647, -0.7569, -0.7176],\n",
                        "          [-0.8039, -0.8039, -0.8039,  ..., -0.7647, -0.7647, -0.7569],\n",
                        "          ...,\n",
                        "          [-0.3490, -0.2863, -0.2392,  ..., -1.0000, -1.0000, -1.0000],\n",
                        "          [-0.3647, -0.3020, -0.2549,  ..., -1.0000, -1.0000, -1.0000],\n",
                        "          [-0.3647, -0.3020, -0.2706,  ..., -1.0000, -1.0000, -1.0000]],\n",
                        "\n",
                        "         [[-0.7882, -0.7961, -0.7961,  ..., -0.7490, -0.6863, -0.5216],\n",
                        "          [-0.7961, -0.7961, -0.7961,  ..., -0.7647, -0.7569, -0.7176],\n",
                        "          [-0.8039, -0.8039, -0.8039,  ..., -0.7647, -0.7647, -0.7569],\n",
                        "          ...,\n",
                        "          [-0.3490, -0.2863, -0.2392,  ..., -1.0000, -1.0000, -1.0000],\n",
                        "          [-0.3647, -0.3020, -0.2549,  ..., -1.0000, -1.0000, -1.0000],\n",
                        "          [-0.3647, -0.3020, -0.2706,  ..., -1.0000, -1.0000, -1.0000]]],\n",
                        "\n",
                        "\n",
                        "        [[[-0.9922, -0.9922, -0.9922,  ..., -0.9765, -0.9216, -0.8745],\n",
                        "          [-0.9922, -0.9922, -0.9922,  ..., -0.5608, -0.2392, -0.2392],\n",
                        "          [-0.9922, -0.9922, -0.9922,  ..., -0.3490, -0.1608, -0.2000],\n",
                        "          ...,\n",
                        "          [-0.9765, -0.9765, -0.9765,  ...,  0.0039, -0.0980, -0.1765],\n",
                        "          [-0.8902, -0.9529, -0.9686,  ...,  0.0353, -0.0667, -0.1529],\n",
                        "          [-0.2549, -0.7804, -0.9765,  ...,  0.0824, -0.0118, -0.1216]],\n",
                        "\n",
                        "         [[-0.9922, -0.9922, -0.9922,  ..., -0.9765, -0.9216, -0.8745],\n",
                        "          [-0.9922, -0.9922, -0.9922,  ..., -0.5608, -0.2392, -0.2392],\n",
                        "          [-0.9922, -0.9922, -0.9922,  ..., -0.3490, -0.1608, -0.2000],\n",
                        "          ...,\n",
                        "          [-0.9765, -0.9765, -0.9765,  ...,  0.0039, -0.0980, -0.1765],\n",
                        "          [-0.8902, -0.9529, -0.9686,  ...,  0.0353, -0.0667, -0.1529],\n",
                        "          [-0.2549, -0.7804, -0.9765,  ...,  0.0824, -0.0118, -0.1216]],\n",
                        "\n",
                        "         [[-0.9922, -0.9922, -0.9922,  ..., -0.9765, -0.9216, -0.8745],\n",
                        "          [-0.9922, -0.9922, -0.9922,  ..., -0.5608, -0.2392, -0.2392],\n",
                        "          [-0.9922, -0.9922, -0.9922,  ..., -0.3490, -0.1608, -0.2000],\n",
                        "          ...,\n",
                        "          [-0.9765, -0.9765, -0.9765,  ...,  0.0039, -0.0980, -0.1765],\n",
                        "          [-0.8902, -0.9529, -0.9686,  ...,  0.0353, -0.0667, -0.1529],\n",
                        "          [-0.2549, -0.7804, -0.9765,  ...,  0.0824, -0.0118, -0.1216]]],\n",
                        "\n",
                        "\n",
                        "        [[[-0.2078, -0.5765, -0.6706,  ..., -0.7098, -0.7020, -0.6941],\n",
                        "          [-0.6863, -0.7176, -0.7255,  ..., -0.5686, -0.4824, -0.4431],\n",
                        "          [-0.7804, -0.7804, -0.7804,  ..., -0.4118, -0.4196, -0.3333],\n",
                        "          ...,\n",
                        "          [-0.8902, -0.6235, -0.3412,  ..., -0.8667, -0.9216, -0.9843],\n",
                        "          [-0.9451, -0.7333, -0.4510,  ..., -0.8667, -0.9059, -0.9843],\n",
                        "          [-0.9686, -0.8196, -0.5608,  ..., -0.8510, -0.8824, -0.9765]],\n",
                        "\n",
                        "         [[-0.2078, -0.5765, -0.6706,  ..., -0.7098, -0.7020, -0.6941],\n",
                        "          [-0.6863, -0.7176, -0.7255,  ..., -0.5686, -0.4824, -0.4431],\n",
                        "          [-0.7804, -0.7804, -0.7804,  ..., -0.4118, -0.4196, -0.3333],\n",
                        "          ...,\n",
                        "          [-0.8902, -0.6235, -0.3412,  ..., -0.8667, -0.9216, -0.9843],\n",
                        "          [-0.9451, -0.7333, -0.4510,  ..., -0.8667, -0.9059, -0.9843],\n",
                        "          [-0.9686, -0.8196, -0.5608,  ..., -0.8510, -0.8824, -0.9765]],\n",
                        "\n",
                        "         [[-0.2078, -0.5765, -0.6706,  ..., -0.7098, -0.7020, -0.6941],\n",
                        "          [-0.6863, -0.7176, -0.7255,  ..., -0.5686, -0.4824, -0.4431],\n",
                        "          [-0.7804, -0.7804, -0.7804,  ..., -0.4118, -0.4196, -0.3333],\n",
                        "          ...,\n",
                        "          [-0.8902, -0.6235, -0.3412,  ..., -0.8667, -0.9216, -0.9843],\n",
                        "          [-0.9451, -0.7333, -0.4510,  ..., -0.8667, -0.9059, -0.9843],\n",
                        "          [-0.9686, -0.8196, -0.5608,  ..., -0.8510, -0.8824, -0.9765]]],\n",
                        "\n",
                        "\n",
                        "        [[[-0.9373, -0.9294, -0.9294,  ..., -0.9216, -0.8980, -0.9059],\n",
                        "          [-0.9373, -0.9294, -0.9294,  ..., -0.6471, -0.3647, -0.3725],\n",
                        "          [-0.9373, -0.9294, -0.9294,  ..., -0.3098, -0.2157, -0.3647],\n",
                        "          ...,\n",
                        "          [-0.6157, -0.6549, -0.7804,  ..., -0.6863, -0.8431, -0.9529],\n",
                        "          [-0.5216, -0.7176, -0.7882,  ..., -0.6471, -0.8275, -0.9451],\n",
                        "          [-0.2471, -0.7412, -0.8039,  ..., -0.6392, -0.8118, -0.9373]],\n",
                        "\n",
                        "         [[-0.9373, -0.9294, -0.9294,  ..., -0.9216, -0.8980, -0.9059],\n",
                        "          [-0.9373, -0.9294, -0.9294,  ..., -0.6471, -0.3647, -0.3725],\n",
                        "          [-0.9373, -0.9294, -0.9294,  ..., -0.3098, -0.2157, -0.3647],\n",
                        "          ...,\n",
                        "          [-0.6157, -0.6549, -0.7804,  ..., -0.6863, -0.8431, -0.9529],\n",
                        "          [-0.5216, -0.7176, -0.7882,  ..., -0.6471, -0.8275, -0.9451],\n",
                        "          [-0.2471, -0.7412, -0.8039,  ..., -0.6392, -0.8118, -0.9373]],\n",
                        "\n",
                        "         [[-0.9373, -0.9294, -0.9294,  ..., -0.9216, -0.8980, -0.9059],\n",
                        "          [-0.9373, -0.9294, -0.9294,  ..., -0.6471, -0.3647, -0.3725],\n",
                        "          [-0.9373, -0.9294, -0.9294,  ..., -0.3098, -0.2157, -0.3647],\n",
                        "          ...,\n",
                        "          [-0.6157, -0.6549, -0.7804,  ..., -0.6863, -0.8431, -0.9529],\n",
                        "          [-0.5216, -0.7176, -0.7882,  ..., -0.6471, -0.8275, -0.9451],\n",
                        "          [-0.2471, -0.7412, -0.8039,  ..., -0.6392, -0.8118, -0.9373]]]],\n",
                        "       device='cuda:0'), 'label_ids': tensor([[ 101, 2229, 6188,  ...,    0,    0,    0],\n",
                        "        [ 101, 2229,  185,  ...,    0,    0,    0],\n",
                        "        [ 101, 2229, 6188,  ...,    0,    0,    0],\n",
                        "        [ 101, 2229, 6188,  ...,    0,    0,    0]], device='cuda:0')}\n",
                        "{'names': ['NLP_CHEST_093', 'NLP_CHEST_043', 'NLP_CHEST_035', 'NLP_CHEST_073'], 'pixel_values': tensor([[[[-0.3412, -0.8510, -0.9137,  ..., -0.7020, -0.6863, -0.7333],\n",
                        "          [-0.8588, -0.9137, -0.9216,  ..., -0.4980, -0.1922, -0.1843],\n",
                        "          [-0.9216, -0.9216, -0.9216,  ..., -0.2941, -0.1686, -0.3647],\n",
                        "          ...,\n",
                        "          [-0.4980, -0.3647, -0.2549,  ..., -0.7882, -0.7490, -0.6627],\n",
                        "          [-0.4745, -0.3961, -0.2706,  ..., -0.7882, -0.7412, -0.6078],\n",
                        "          [-0.4980, -0.4196, -0.3098,  ..., -0.7882, -0.7412, -0.6157]],\n",
                        "\n",
                        "         [[-0.3412, -0.8510, -0.9137,  ..., -0.7020, -0.6863, -0.7333],\n",
                        "          [-0.8588, -0.9137, -0.9216,  ..., -0.4980, -0.1922, -0.1843],\n",
                        "          [-0.9216, -0.9216, -0.9216,  ..., -0.2941, -0.1686, -0.3647],\n",
                        "          ...,\n",
                        "          [-0.4980, -0.3647, -0.2549,  ..., -0.7882, -0.7490, -0.6627],\n",
                        "          [-0.4745, -0.3961, -0.2706,  ..., -0.7882, -0.7412, -0.6078],\n",
                        "          [-0.4980, -0.4196, -0.3098,  ..., -0.7882, -0.7412, -0.6157]],\n",
                        "\n",
                        "         [[-0.3412, -0.8510, -0.9137,  ..., -0.7020, -0.6863, -0.7333],\n",
                        "          [-0.8588, -0.9137, -0.9216,  ..., -0.4980, -0.1922, -0.1843],\n",
                        "          [-0.9216, -0.9216, -0.9216,  ..., -0.2941, -0.1686, -0.3647],\n",
                        "          ...,\n",
                        "          [-0.4980, -0.3647, -0.2549,  ..., -0.7882, -0.7490, -0.6627],\n",
                        "          [-0.4745, -0.3961, -0.2706,  ..., -0.7882, -0.7412, -0.6078],\n",
                        "          [-0.4980, -0.4196, -0.3098,  ..., -0.7882, -0.7412, -0.6157]]],\n",
                        "\n",
                        "\n",
                        "        [[[-0.2471, -0.6863, -0.8039,  ..., -0.8588, -0.8588, -0.8588],\n",
                        "          [-0.7647, -0.8118, -0.8275,  ..., -0.6706, -0.5843, -0.5451],\n",
                        "          [-0.8431, -0.8431, -0.8431,  ..., -0.4745, -0.4902, -0.4039],\n",
                        "          ...,\n",
                        "          [-0.9843, -0.9843, -0.9843,  ..., -0.9216, -0.9059, -0.8980],\n",
                        "          [-0.9765, -0.9686, -0.9765,  ..., -0.9137, -0.9059, -0.8980],\n",
                        "          [-0.9608, -0.9529, -0.9608,  ..., -0.8980, -0.8980, -0.8824]],\n",
                        "\n",
                        "         [[-0.2471, -0.6863, -0.8039,  ..., -0.8588, -0.8588, -0.8588],\n",
                        "          [-0.7647, -0.8118, -0.8275,  ..., -0.6706, -0.5843, -0.5451],\n",
                        "          [-0.8431, -0.8431, -0.8431,  ..., -0.4745, -0.4902, -0.4039],\n",
                        "          ...,\n",
                        "          [-0.9843, -0.9843, -0.9843,  ..., -0.9216, -0.9059, -0.8980],\n",
                        "          [-0.9765, -0.9686, -0.9765,  ..., -0.9137, -0.9059, -0.8980],\n",
                        "          [-0.9608, -0.9529, -0.9608,  ..., -0.8980, -0.8980, -0.8824]],\n",
                        "\n",
                        "         [[-0.2471, -0.6863, -0.8039,  ..., -0.8588, -0.8588, -0.8588],\n",
                        "          [-0.7647, -0.8118, -0.8275,  ..., -0.6706, -0.5843, -0.5451],\n",
                        "          [-0.8431, -0.8431, -0.8431,  ..., -0.4745, -0.4902, -0.4039],\n",
                        "          ...,\n",
                        "          [-0.9843, -0.9843, -0.9843,  ..., -0.9216, -0.9059, -0.8980],\n",
                        "          [-0.9765, -0.9686, -0.9765,  ..., -0.9137, -0.9059, -0.8980],\n",
                        "          [-0.9608, -0.9529, -0.9608,  ..., -0.8980, -0.8980, -0.8824]]],\n",
                        "\n",
                        "\n",
                        "        [[[-0.9686, -0.9686, -0.9686,  ..., -0.6863, -0.6235, -0.4980],\n",
                        "          [-0.9686, -0.9686, -0.9686,  ..., -0.7020, -0.5765, -0.6000],\n",
                        "          [-0.9686, -0.9686, -0.9686,  ..., -0.2392, -0.4196, -0.2314],\n",
                        "          ...,\n",
                        "          [-1.0000, -0.9059, -0.5451,  ..., -1.0000, -1.0000, -1.0000],\n",
                        "          [-1.0000, -0.8667, -0.4980,  ..., -1.0000, -1.0000, -1.0000],\n",
                        "          [-1.0000, -0.8275, -0.4510,  ..., -1.0000, -1.0000, -1.0000]],\n",
                        "\n",
                        "         [[-0.9686, -0.9686, -0.9686,  ..., -0.6863, -0.6235, -0.4980],\n",
                        "          [-0.9686, -0.9686, -0.9686,  ..., -0.7020, -0.5765, -0.6000],\n",
                        "          [-0.9686, -0.9686, -0.9686,  ..., -0.2392, -0.4196, -0.2314],\n",
                        "          ...,\n",
                        "          [-1.0000, -0.9059, -0.5451,  ..., -1.0000, -1.0000, -1.0000],\n",
                        "          [-1.0000, -0.8667, -0.4980,  ..., -1.0000, -1.0000, -1.0000],\n",
                        "          [-1.0000, -0.8275, -0.4510,  ..., -1.0000, -1.0000, -1.0000]],\n",
                        "\n",
                        "         [[-0.9686, -0.9686, -0.9686,  ..., -0.6863, -0.6235, -0.4980],\n",
                        "          [-0.9686, -0.9686, -0.9686,  ..., -0.7020, -0.5765, -0.6000],\n",
                        "          [-0.9686, -0.9686, -0.9686,  ..., -0.2392, -0.4196, -0.2314],\n",
                        "          ...,\n",
                        "          [-1.0000, -0.9059, -0.5451,  ..., -1.0000, -1.0000, -1.0000],\n",
                        "          [-1.0000, -0.8667, -0.4980,  ..., -1.0000, -1.0000, -1.0000],\n",
                        "          [-1.0000, -0.8275, -0.4510,  ..., -1.0000, -1.0000, -1.0000]]],\n",
                        "\n",
                        "\n",
                        "        [[[-0.2078, -0.6235, -0.7333,  ..., -0.9137, -0.9137, -0.9137],\n",
                        "          [-0.6941, -0.7490, -0.7569,  ..., -0.8118, -0.7333, -0.7804],\n",
                        "          [-0.7725, -0.7804, -0.7882,  ..., -0.1686, -0.1608, -0.2627],\n",
                        "          ...,\n",
                        "          [-0.8745, -0.8980, -0.8039,  ...,  0.0275, -0.2627, -0.4745],\n",
                        "          [-0.8902, -0.9059, -0.6941,  ...,  0.0275, -0.2392, -0.4353],\n",
                        "          [-0.8667, -0.8902, -0.5843,  ...,  0.0588, -0.2157, -0.4118]],\n",
                        "\n",
                        "         [[-0.2078, -0.6235, -0.7333,  ..., -0.9137, -0.9137, -0.9137],\n",
                        "          [-0.6941, -0.7490, -0.7569,  ..., -0.8118, -0.7333, -0.7804],\n",
                        "          [-0.7725, -0.7804, -0.7882,  ..., -0.1686, -0.1608, -0.2627],\n",
                        "          ...,\n",
                        "          [-0.8745, -0.8980, -0.8039,  ...,  0.0275, -0.2627, -0.4745],\n",
                        "          [-0.8902, -0.9059, -0.6941,  ...,  0.0275, -0.2392, -0.4353],\n",
                        "          [-0.8667, -0.8902, -0.5843,  ...,  0.0588, -0.2157, -0.4118]],\n",
                        "\n",
                        "         [[-0.2078, -0.6235, -0.7333,  ..., -0.9137, -0.9137, -0.9137],\n",
                        "          [-0.6941, -0.7490, -0.7569,  ..., -0.8118, -0.7333, -0.7804],\n",
                        "          [-0.7725, -0.7804, -0.7882,  ..., -0.1686, -0.1608, -0.2627],\n",
                        "          ...,\n",
                        "          [-0.8745, -0.8980, -0.8039,  ...,  0.0275, -0.2627, -0.4745],\n",
                        "          [-0.8902, -0.9059, -0.6941,  ...,  0.0275, -0.2392, -0.4353],\n",
                        "          [-0.8667, -0.8902, -0.5843,  ...,  0.0588, -0.2157, -0.4118]]]],\n",
                        "       device='cuda:0'), 'label_ids': tensor([[ 101, 2229, 6188,  ...,    0,    0,    0],\n",
                        "        [ 101, 2229, 6188,  ...,    0,    0,    0],\n",
                        "        [ 101, 2229, 6188,  ...,    0,    0,    0],\n",
                        "        [ 101, 2229,  185,  ...,    0,    0,    0]], device='cuda:0')}\n",
                        "{'names': ['NLP_CHEST_092', 'NLP_CHEST_086', 'NLP_CHEST_078', 'NLP_CHEST_024'], 'pixel_values': tensor([[[[-0.2157, -0.6078, -0.7176,  ..., -0.8196, -0.8196, -0.8196],\n",
                        "          [-0.6941, -0.7333, -0.7412,  ..., -0.6392, -0.5529, -0.5137],\n",
                        "          [-0.7725, -0.7725, -0.7725,  ..., -0.4431, -0.4588, -0.3725],\n",
                        "          ...,\n",
                        "          [-0.9294, -0.9216, -0.9216,  ..., -0.0824, -0.3176, -0.5373],\n",
                        "          [-0.9294, -0.9216, -0.9137,  ..., -0.0353, -0.2941, -0.5137],\n",
                        "          [-0.9059, -0.9059, -0.8980,  ...,  0.0039, -0.2392, -0.4588]],\n",
                        "\n",
                        "         [[-0.2157, -0.6078, -0.7176,  ..., -0.8196, -0.8196, -0.8196],\n",
                        "          [-0.6941, -0.7333, -0.7412,  ..., -0.6392, -0.5529, -0.5137],\n",
                        "          [-0.7725, -0.7725, -0.7725,  ..., -0.4431, -0.4588, -0.3725],\n",
                        "          ...,\n",
                        "          [-0.9294, -0.9216, -0.9216,  ..., -0.0824, -0.3176, -0.5373],\n",
                        "          [-0.9294, -0.9216, -0.9137,  ..., -0.0353, -0.2941, -0.5137],\n",
                        "          [-0.9059, -0.9059, -0.8980,  ...,  0.0039, -0.2392, -0.4588]],\n",
                        "\n",
                        "         [[-0.2157, -0.6078, -0.7176,  ..., -0.8196, -0.8196, -0.8196],\n",
                        "          [-0.6941, -0.7333, -0.7412,  ..., -0.6392, -0.5529, -0.5137],\n",
                        "          [-0.7725, -0.7725, -0.7725,  ..., -0.4431, -0.4588, -0.3725],\n",
                        "          ...,\n",
                        "          [-0.9294, -0.9216, -0.9216,  ..., -0.0824, -0.3176, -0.5373],\n",
                        "          [-0.9294, -0.9216, -0.9137,  ..., -0.0353, -0.2941, -0.5137],\n",
                        "          [-0.9059, -0.9059, -0.8980,  ...,  0.0039, -0.2392, -0.4588]]],\n",
                        "\n",
                        "\n",
                        "        [[[-0.3725, -0.9294, -1.0000,  ..., -0.8275, -0.7804, -0.7804],\n",
                        "          [-0.9373, -0.9922, -1.0000,  ..., -0.5922, -0.2863, -0.2863],\n",
                        "          [-1.0000, -1.0000, -1.0000,  ..., -0.2706, -0.1451, -0.3333],\n",
                        "          ...,\n",
                        "          [-1.0000, -0.9922, -0.9373,  ..., -0.9059, -0.9059, -0.9137],\n",
                        "          [-1.0000, -0.9843, -0.9529,  ..., -0.9059, -0.9137, -0.9137],\n",
                        "          [-1.0000, -0.9765, -0.9373,  ..., -0.9137, -0.9137, -0.9059]],\n",
                        "\n",
                        "         [[-0.3725, -0.9294, -1.0000,  ..., -0.8275, -0.7804, -0.7804],\n",
                        "          [-0.9373, -0.9922, -1.0000,  ..., -0.5922, -0.2863, -0.2863],\n",
                        "          [-1.0000, -1.0000, -1.0000,  ..., -0.2706, -0.1451, -0.3333],\n",
                        "          ...,\n",
                        "          [-1.0000, -0.9922, -0.9373,  ..., -0.9059, -0.9059, -0.9137],\n",
                        "          [-1.0000, -0.9843, -0.9529,  ..., -0.9059, -0.9137, -0.9137],\n",
                        "          [-1.0000, -0.9765, -0.9373,  ..., -0.9137, -0.9137, -0.9059]],\n",
                        "\n",
                        "         [[-0.3725, -0.9294, -1.0000,  ..., -0.8275, -0.7804, -0.7804],\n",
                        "          [-0.9373, -0.9922, -1.0000,  ..., -0.5922, -0.2863, -0.2863],\n",
                        "          [-1.0000, -1.0000, -1.0000,  ..., -0.2706, -0.1451, -0.3333],\n",
                        "          ...,\n",
                        "          [-1.0000, -0.9922, -0.9373,  ..., -0.9059, -0.9059, -0.9137],\n",
                        "          [-1.0000, -0.9843, -0.9529,  ..., -0.9059, -0.9137, -0.9137],\n",
                        "          [-1.0000, -0.9765, -0.9373,  ..., -0.9137, -0.9137, -0.9059]]],\n",
                        "\n",
                        "\n",
                        "        [[[-0.9765, -0.9765, -0.9765,  ..., -0.6549, -0.6392, -0.6235],\n",
                        "          [-0.9765, -0.9765, -0.9765,  ..., -0.7882, -0.8196, -0.7961],\n",
                        "          [-0.9765, -0.9765, -0.9765,  ..., -0.3569, -0.2235, -0.3333],\n",
                        "          ...,\n",
                        "          [ 0.0588,  0.1529,  0.2235,  ..., -0.9765, -0.9765, -0.9765],\n",
                        "          [ 0.1137,  0.1922,  0.2627,  ..., -0.9765, -0.9686, -0.9137],\n",
                        "          [ 0.1765,  0.2627,  0.3333,  ..., -0.9765, -0.9059, -0.3647]],\n",
                        "\n",
                        "         [[-0.9765, -0.9765, -0.9765,  ..., -0.6549, -0.6392, -0.6235],\n",
                        "          [-0.9765, -0.9765, -0.9765,  ..., -0.7882, -0.8196, -0.7961],\n",
                        "          [-0.9765, -0.9765, -0.9765,  ..., -0.3569, -0.2235, -0.3333],\n",
                        "          ...,\n",
                        "          [ 0.0588,  0.1529,  0.2235,  ..., -0.9765, -0.9765, -0.9765],\n",
                        "          [ 0.1137,  0.1922,  0.2627,  ..., -0.9765, -0.9686, -0.9137],\n",
                        "          [ 0.1765,  0.2627,  0.3333,  ..., -0.9765, -0.9059, -0.3647]],\n",
                        "\n",
                        "         [[-0.9765, -0.9765, -0.9765,  ..., -0.6549, -0.6392, -0.6235],\n",
                        "          [-0.9765, -0.9765, -0.9765,  ..., -0.7882, -0.8196, -0.7961],\n",
                        "          [-0.9765, -0.9765, -0.9765,  ..., -0.3569, -0.2235, -0.3333],\n",
                        "          ...,\n",
                        "          [ 0.0588,  0.1529,  0.2235,  ..., -0.9765, -0.9765, -0.9765],\n",
                        "          [ 0.1137,  0.1922,  0.2627,  ..., -0.9765, -0.9686, -0.9137],\n",
                        "          [ 0.1765,  0.2627,  0.3333,  ..., -0.9765, -0.9059, -0.3647]]],\n",
                        "\n",
                        "\n",
                        "        [[[-0.7804, -0.7882, -0.7882,  ..., -0.7490, -0.6941, -0.5216],\n",
                        "          [-0.7961, -0.7961, -0.7961,  ..., -0.7569, -0.7490, -0.7176],\n",
                        "          [-0.7961, -0.8039, -0.8039,  ..., -0.7647, -0.7647, -0.7647],\n",
                        "          ...,\n",
                        "          [-0.8588, -0.8588, -0.8353,  ..., -0.7490, -0.7490, -0.7412],\n",
                        "          [-0.8588, -0.8588, -0.8353,  ..., -0.7490, -0.7490, -0.7490],\n",
                        "          [-0.8588, -0.8510, -0.8275,  ..., -0.7490, -0.7412, -0.7412]],\n",
                        "\n",
                        "         [[-0.7804, -0.7882, -0.7882,  ..., -0.7490, -0.6941, -0.5216],\n",
                        "          [-0.7961, -0.7961, -0.7961,  ..., -0.7569, -0.7490, -0.7176],\n",
                        "          [-0.7961, -0.8039, -0.8039,  ..., -0.7647, -0.7647, -0.7647],\n",
                        "          ...,\n",
                        "          [-0.8588, -0.8588, -0.8353,  ..., -0.7490, -0.7490, -0.7412],\n",
                        "          [-0.8588, -0.8588, -0.8353,  ..., -0.7490, -0.7490, -0.7490],\n",
                        "          [-0.8588, -0.8510, -0.8275,  ..., -0.7490, -0.7412, -0.7412]],\n",
                        "\n",
                        "         [[-0.7804, -0.7882, -0.7882,  ..., -0.7490, -0.6941, -0.5216],\n",
                        "          [-0.7961, -0.7961, -0.7961,  ..., -0.7569, -0.7490, -0.7176],\n",
                        "          [-0.7961, -0.8039, -0.8039,  ..., -0.7647, -0.7647, -0.7647],\n",
                        "          ...,\n",
                        "          [-0.8588, -0.8588, -0.8353,  ..., -0.7490, -0.7490, -0.7412],\n",
                        "          [-0.8588, -0.8588, -0.8353,  ..., -0.7490, -0.7490, -0.7490],\n",
                        "          [-0.8588, -0.8510, -0.8275,  ..., -0.7490, -0.7412, -0.7412]]]],\n",
                        "       device='cuda:0'), 'label_ids': tensor([[ 101, 2229, 6188,  ...,    0,    0,    0],\n",
                        "        [ 101, 2229,  170,  ...,    0,    0,    0],\n",
                        "        [ 101, 2229, 6188,  ...,    0,    0,    0],\n",
                        "        [ 101, 2229,  185,  ...,    0,    0,    0]], device='cuda:0')}\n",
                        "{'names': ['NLP_CHEST_072', 'NLP_CHEST_045', 'NLP_CHEST_069', 'NLP_CHEST_039'], 'pixel_values': tensor([[[[-1.0000, -1.0000, -1.0000,  ..., -0.8039, -0.7961, -0.7882],\n",
                        "          [-1.0000, -1.0000, -1.0000,  ..., -0.8745, -0.7961, -0.8353],\n",
                        "          [-1.0000, -1.0000, -1.0000,  ..., -0.2941, -0.2471, -0.3412],\n",
                        "          ...,\n",
                        "          [ 0.0118,  0.0667,  0.1216,  ..., -1.0000, -1.0000, -1.0000],\n",
                        "          [ 0.0588,  0.0980,  0.1451,  ..., -1.0000, -0.9843, -0.9294],\n",
                        "          [ 0.0980,  0.1529,  0.1922,  ..., -1.0000, -0.8667, -0.3098]],\n",
                        "\n",
                        "         [[-1.0000, -1.0000, -1.0000,  ..., -0.8039, -0.7961, -0.7882],\n",
                        "          [-1.0000, -1.0000, -1.0000,  ..., -0.8745, -0.7961, -0.8353],\n",
                        "          [-1.0000, -1.0000, -1.0000,  ..., -0.2941, -0.2471, -0.3412],\n",
                        "          ...,\n",
                        "          [ 0.0118,  0.0667,  0.1216,  ..., -1.0000, -1.0000, -1.0000],\n",
                        "          [ 0.0588,  0.0980,  0.1451,  ..., -1.0000, -0.9843, -0.9294],\n",
                        "          [ 0.0980,  0.1529,  0.1922,  ..., -1.0000, -0.8667, -0.3098]],\n",
                        "\n",
                        "         [[-1.0000, -1.0000, -1.0000,  ..., -0.8039, -0.7961, -0.7882],\n",
                        "          [-1.0000, -1.0000, -1.0000,  ..., -0.8745, -0.7961, -0.8353],\n",
                        "          [-1.0000, -1.0000, -1.0000,  ..., -0.2941, -0.2471, -0.3412],\n",
                        "          ...,\n",
                        "          [ 0.0118,  0.0667,  0.1216,  ..., -1.0000, -1.0000, -1.0000],\n",
                        "          [ 0.0588,  0.0980,  0.1451,  ..., -1.0000, -0.9843, -0.9294],\n",
                        "          [ 0.0980,  0.1529,  0.1922,  ..., -1.0000, -0.8667, -0.3098]]],\n",
                        "\n",
                        "\n",
                        "        [[[-0.3569, -0.8902, -0.9529,  ..., -0.9294, -0.9059, -0.9373],\n",
                        "          [-0.8902, -0.9451, -0.9529,  ..., -0.6627, -0.3490, -0.3725],\n",
                        "          [-0.9529, -0.9529, -0.9529,  ..., -0.3255, -0.1922, -0.3961],\n",
                        "          ...,\n",
                        "          [-1.0000, -1.0000, -1.0000,  ..., -0.9294, -0.9294, -0.9294],\n",
                        "          [-1.0000, -1.0000, -1.0000,  ..., -0.9216, -0.9216, -0.9216],\n",
                        "          [-0.9686, -0.9922, -1.0000,  ..., -0.9137, -0.9059, -0.9137]],\n",
                        "\n",
                        "         [[-0.3569, -0.8902, -0.9529,  ..., -0.9294, -0.9059, -0.9373],\n",
                        "          [-0.8902, -0.9451, -0.9529,  ..., -0.6627, -0.3490, -0.3725],\n",
                        "          [-0.9529, -0.9529, -0.9529,  ..., -0.3255, -0.1922, -0.3961],\n",
                        "          ...,\n",
                        "          [-1.0000, -1.0000, -1.0000,  ..., -0.9294, -0.9294, -0.9294],\n",
                        "          [-1.0000, -1.0000, -1.0000,  ..., -0.9216, -0.9216, -0.9216],\n",
                        "          [-0.9686, -0.9922, -1.0000,  ..., -0.9137, -0.9059, -0.9137]],\n",
                        "\n",
                        "         [[-0.3569, -0.8902, -0.9529,  ..., -0.9294, -0.9059, -0.9373],\n",
                        "          [-0.8902, -0.9451, -0.9529,  ..., -0.6627, -0.3490, -0.3725],\n",
                        "          [-0.9529, -0.9529, -0.9529,  ..., -0.3255, -0.1922, -0.3961],\n",
                        "          ...,\n",
                        "          [-1.0000, -1.0000, -1.0000,  ..., -0.9294, -0.9294, -0.9294],\n",
                        "          [-1.0000, -1.0000, -1.0000,  ..., -0.9216, -0.9216, -0.9216],\n",
                        "          [-0.9686, -0.9922, -1.0000,  ..., -0.9137, -0.9059, -0.9137]]],\n",
                        "\n",
                        "\n",
                        "        [[[-0.9608, -0.9608, -0.9608,  ..., -0.9451, -0.8510, -0.5843],\n",
                        "          [-0.9608, -0.9608, -0.9608,  ..., -0.8353, -0.7098, -0.7176],\n",
                        "          [-0.9608, -0.9608, -0.9608,  ..., -0.2784, -0.4667, -0.2784],\n",
                        "          ...,\n",
                        "          [-0.6549, -0.5451, -0.4039,  ..., -0.9608, -0.9529, -0.9529],\n",
                        "          [-0.4510, -0.3569, -0.2549,  ..., -0.9608, -0.9529, -0.9529],\n",
                        "          [-0.3020, -0.2078, -0.1059,  ..., -0.9608, -0.9529, -0.9529]],\n",
                        "\n",
                        "         [[-0.9608, -0.9608, -0.9608,  ..., -0.9451, -0.8510, -0.5843],\n",
                        "          [-0.9608, -0.9608, -0.9608,  ..., -0.8353, -0.7098, -0.7176],\n",
                        "          [-0.9608, -0.9608, -0.9608,  ..., -0.2784, -0.4667, -0.2784],\n",
                        "          ...,\n",
                        "          [-0.6549, -0.5451, -0.4039,  ..., -0.9608, -0.9529, -0.9529],\n",
                        "          [-0.4510, -0.3569, -0.2549,  ..., -0.9608, -0.9529, -0.9529],\n",
                        "          [-0.3020, -0.2078, -0.1059,  ..., -0.9608, -0.9529, -0.9529]],\n",
                        "\n",
                        "         [[-0.9608, -0.9608, -0.9608,  ..., -0.9451, -0.8510, -0.5843],\n",
                        "          [-0.9608, -0.9608, -0.9608,  ..., -0.8353, -0.7098, -0.7176],\n",
                        "          [-0.9608, -0.9608, -0.9608,  ..., -0.2784, -0.4667, -0.2784],\n",
                        "          ...,\n",
                        "          [-0.6549, -0.5451, -0.4039,  ..., -0.9608, -0.9529, -0.9529],\n",
                        "          [-0.4510, -0.3569, -0.2549,  ..., -0.9608, -0.9529, -0.9529],\n",
                        "          [-0.3020, -0.2078, -0.1059,  ..., -0.9608, -0.9529, -0.9529]]],\n",
                        "\n",
                        "\n",
                        "        [[[-1.0000, -1.0000, -1.0000,  ..., -0.8039, -0.7961, -0.7882],\n",
                        "          [-1.0000, -1.0000, -1.0000,  ..., -0.8745, -0.7961, -0.8353],\n",
                        "          [-1.0000, -1.0000, -1.0000,  ..., -0.2941, -0.2471, -0.3412],\n",
                        "          ...,\n",
                        "          [ 0.0118,  0.0667,  0.1216,  ..., -1.0000, -1.0000, -1.0000],\n",
                        "          [ 0.0588,  0.0980,  0.1451,  ..., -1.0000, -0.9843, -0.9294],\n",
                        "          [ 0.0980,  0.1529,  0.1922,  ..., -1.0000, -0.8667, -0.3098]],\n",
                        "\n",
                        "         [[-1.0000, -1.0000, -1.0000,  ..., -0.8039, -0.7961, -0.7882],\n",
                        "          [-1.0000, -1.0000, -1.0000,  ..., -0.8745, -0.7961, -0.8353],\n",
                        "          [-1.0000, -1.0000, -1.0000,  ..., -0.2941, -0.2471, -0.3412],\n",
                        "          ...,\n",
                        "          [ 0.0118,  0.0667,  0.1216,  ..., -1.0000, -1.0000, -1.0000],\n",
                        "          [ 0.0588,  0.0980,  0.1451,  ..., -1.0000, -0.9843, -0.9294],\n",
                        "          [ 0.0980,  0.1529,  0.1922,  ..., -1.0000, -0.8667, -0.3098]],\n",
                        "\n",
                        "         [[-1.0000, -1.0000, -1.0000,  ..., -0.8039, -0.7961, -0.7882],\n",
                        "          [-1.0000, -1.0000, -1.0000,  ..., -0.8745, -0.7961, -0.8353],\n",
                        "          [-1.0000, -1.0000, -1.0000,  ..., -0.2941, -0.2471, -0.3412],\n",
                        "          ...,\n",
                        "          [ 0.0118,  0.0667,  0.1216,  ..., -1.0000, -1.0000, -1.0000],\n",
                        "          [ 0.0588,  0.0980,  0.1451,  ..., -1.0000, -0.9843, -0.9294],\n",
                        "          [ 0.0980,  0.1529,  0.1922,  ..., -1.0000, -0.8667, -0.3098]]]],\n",
                        "       device='cuda:0'), 'label_ids': tensor([[ 101, 2229, 6188,  ...,    0,    0,    0],\n",
                        "        [ 101, 2229,  185,  ...,    0,    0,    0],\n",
                        "        [ 101, 2229,  170,  ...,    0,    0,    0],\n",
                        "        [ 101, 2229, 6188,  ...,    0,    0,    0]], device='cuda:0')}\n",
                        "{'names': ['NLP_CHEST_010', 'NLP_CHEST_058', 'NLP_CHEST_052', 'NLP_CHEST_095'], 'pixel_values': tensor([[[[-0.9216, -0.9216, -0.9216,  ..., -1.0000, -1.0000, -1.0000],\n",
                        "          [-0.9216, -0.9216, -0.9216,  ..., -0.7804, -0.6863, -0.6471],\n",
                        "          [-0.9216, -0.9216, -0.9216,  ..., -0.5608, -0.5608, -0.4745],\n",
                        "          ...,\n",
                        "          [ 0.1843,  0.3647,  0.3961,  ..., -1.0000, -0.9922, -0.9529],\n",
                        "          [ 0.2235,  0.3882,  0.4431,  ..., -1.0000, -0.9765, -0.8824],\n",
                        "          [ 0.2471,  0.3569,  0.4039,  ..., -1.0000, -0.8353, -0.2863]],\n",
                        "\n",
                        "         [[-0.9216, -0.9216, -0.9216,  ..., -1.0000, -1.0000, -1.0000],\n",
                        "          [-0.9216, -0.9216, -0.9216,  ..., -0.7804, -0.6863, -0.6471],\n",
                        "          [-0.9216, -0.9216, -0.9216,  ..., -0.5608, -0.5608, -0.4745],\n",
                        "          ...,\n",
                        "          [ 0.1843,  0.3647,  0.3961,  ..., -1.0000, -0.9922, -0.9529],\n",
                        "          [ 0.2235,  0.3882,  0.4431,  ..., -1.0000, -0.9765, -0.8824],\n",
                        "          [ 0.2471,  0.3569,  0.4039,  ..., -1.0000, -0.8353, -0.2863]],\n",
                        "\n",
                        "         [[-0.9216, -0.9216, -0.9216,  ..., -1.0000, -1.0000, -1.0000],\n",
                        "          [-0.9216, -0.9216, -0.9216,  ..., -0.7804, -0.6863, -0.6471],\n",
                        "          [-0.9216, -0.9216, -0.9216,  ..., -0.5608, -0.5608, -0.4745],\n",
                        "          ...,\n",
                        "          [ 0.1843,  0.3647,  0.3961,  ..., -1.0000, -0.9922, -0.9529],\n",
                        "          [ 0.2235,  0.3882,  0.4431,  ..., -1.0000, -0.9765, -0.8824],\n",
                        "          [ 0.2471,  0.3569,  0.4039,  ..., -1.0000, -0.8353, -0.2863]]],\n",
                        "\n",
                        "\n",
                        "        [[[-0.7569, -0.7647, -0.7569,  ..., -0.8039, -0.7255, -0.5373],\n",
                        "          [-0.7647, -0.7647, -0.7647,  ..., -0.8118, -0.8039, -0.7647],\n",
                        "          [-0.7725, -0.7725, -0.7647,  ..., -0.8118, -0.8118, -0.8118],\n",
                        "          ...,\n",
                        "          [-0.7176, -0.7490, -0.7569,  ..., -0.8745, -0.8667, -0.8588],\n",
                        "          [-0.7255, -0.7490, -0.7490,  ..., -0.8745, -0.8667, -0.8588],\n",
                        "          [-0.7333, -0.7412, -0.7412,  ..., -0.8667, -0.8667, -0.8588]],\n",
                        "\n",
                        "         [[-0.7569, -0.7647, -0.7569,  ..., -0.8039, -0.7255, -0.5373],\n",
                        "          [-0.7647, -0.7647, -0.7647,  ..., -0.8118, -0.8039, -0.7647],\n",
                        "          [-0.7725, -0.7725, -0.7647,  ..., -0.8118, -0.8118, -0.8118],\n",
                        "          ...,\n",
                        "          [-0.7176, -0.7490, -0.7569,  ..., -0.8745, -0.8667, -0.8588],\n",
                        "          [-0.7255, -0.7490, -0.7490,  ..., -0.8745, -0.8667, -0.8588],\n",
                        "          [-0.7333, -0.7412, -0.7412,  ..., -0.8667, -0.8667, -0.8588]],\n",
                        "\n",
                        "         [[-0.7569, -0.7647, -0.7569,  ..., -0.8039, -0.7255, -0.5373],\n",
                        "          [-0.7647, -0.7647, -0.7647,  ..., -0.8118, -0.8039, -0.7647],\n",
                        "          [-0.7725, -0.7725, -0.7647,  ..., -0.8118, -0.8118, -0.8118],\n",
                        "          ...,\n",
                        "          [-0.7176, -0.7490, -0.7569,  ..., -0.8745, -0.8667, -0.8588],\n",
                        "          [-0.7255, -0.7490, -0.7490,  ..., -0.8745, -0.8667, -0.8588],\n",
                        "          [-0.7333, -0.7412, -0.7412,  ..., -0.8667, -0.8667, -0.8588]]],\n",
                        "\n",
                        "\n",
                        "        [[[-0.9608, -0.9608, -0.9608,  ..., -0.9451, -0.8510, -0.5843],\n",
                        "          [-0.9608, -0.9608, -0.9608,  ..., -0.8353, -0.7098, -0.7176],\n",
                        "          [-0.9608, -0.9608, -0.9608,  ..., -0.2784, -0.4667, -0.2784],\n",
                        "          ...,\n",
                        "          [-0.6549, -0.5451, -0.4039,  ..., -0.9608, -0.9529, -0.9529],\n",
                        "          [-0.4510, -0.3569, -0.2549,  ..., -0.9608, -0.9529, -0.9529],\n",
                        "          [-0.3020, -0.2078, -0.1059,  ..., -0.9608, -0.9529, -0.9529]],\n",
                        "\n",
                        "         [[-0.9608, -0.9608, -0.9608,  ..., -0.9451, -0.8510, -0.5843],\n",
                        "          [-0.9608, -0.9608, -0.9608,  ..., -0.8353, -0.7098, -0.7176],\n",
                        "          [-0.9608, -0.9608, -0.9608,  ..., -0.2784, -0.4667, -0.2784],\n",
                        "          ...,\n",
                        "          [-0.6549, -0.5451, -0.4039,  ..., -0.9608, -0.9529, -0.9529],\n",
                        "          [-0.4510, -0.3569, -0.2549,  ..., -0.9608, -0.9529, -0.9529],\n",
                        "          [-0.3020, -0.2078, -0.1059,  ..., -0.9608, -0.9529, -0.9529]],\n",
                        "\n",
                        "         [[-0.9608, -0.9608, -0.9608,  ..., -0.9451, -0.8510, -0.5843],\n",
                        "          [-0.9608, -0.9608, -0.9608,  ..., -0.8353, -0.7098, -0.7176],\n",
                        "          [-0.9608, -0.9608, -0.9608,  ..., -0.2784, -0.4667, -0.2784],\n",
                        "          ...,\n",
                        "          [-0.6549, -0.5451, -0.4039,  ..., -0.9608, -0.9529, -0.9529],\n",
                        "          [-0.4510, -0.3569, -0.2549,  ..., -0.9608, -0.9529, -0.9529],\n",
                        "          [-0.3020, -0.2078, -0.1059,  ..., -0.9608, -0.9529, -0.9529]]],\n",
                        "\n",
                        "\n",
                        "        [[[-0.9373, -0.9373, -0.9294,  ..., -0.9922, -0.9608, -0.9765],\n",
                        "          [-0.9373, -0.9294, -0.9294,  ..., -0.7020, -0.4118, -0.4196],\n",
                        "          [-0.9373, -0.9294, -0.9294,  ..., -0.1686, -0.0745, -0.1373],\n",
                        "          ...,\n",
                        "          [-0.6941, -0.7098, -0.7333,  ..., -0.7882, -0.8824, -0.9608],\n",
                        "          [-0.6627, -0.7176, -0.7412,  ..., -0.7647, -0.8667, -0.9451],\n",
                        "          [-0.2627, -0.6941, -0.7569,  ..., -0.7255, -0.8353, -0.9294]],\n",
                        "\n",
                        "         [[-0.9373, -0.9373, -0.9294,  ..., -0.9922, -0.9608, -0.9765],\n",
                        "          [-0.9373, -0.9294, -0.9294,  ..., -0.7020, -0.4118, -0.4196],\n",
                        "          [-0.9373, -0.9294, -0.9294,  ..., -0.1686, -0.0745, -0.1373],\n",
                        "          ...,\n",
                        "          [-0.6941, -0.7098, -0.7333,  ..., -0.7882, -0.8824, -0.9608],\n",
                        "          [-0.6627, -0.7176, -0.7412,  ..., -0.7647, -0.8667, -0.9451],\n",
                        "          [-0.2627, -0.6941, -0.7569,  ..., -0.7255, -0.8353, -0.9294]],\n",
                        "\n",
                        "         [[-0.9373, -0.9373, -0.9294,  ..., -0.9922, -0.9608, -0.9765],\n",
                        "          [-0.9373, -0.9294, -0.9294,  ..., -0.7020, -0.4118, -0.4196],\n",
                        "          [-0.9373, -0.9294, -0.9294,  ..., -0.1686, -0.0745, -0.1373],\n",
                        "          ...,\n",
                        "          [-0.6941, -0.7098, -0.7333,  ..., -0.7882, -0.8824, -0.9608],\n",
                        "          [-0.6627, -0.7176, -0.7412,  ..., -0.7647, -0.8667, -0.9451],\n",
                        "          [-0.2627, -0.6941, -0.7569,  ..., -0.7255, -0.8353, -0.9294]]]],\n",
                        "       device='cuda:0'), 'label_ids': tensor([[ 101, 2229,  193,  ...,    0,    0,    0],\n",
                        "        [ 101, 2229, 1273,  ...,    0,    0,    0],\n",
                        "        [ 101, 2229,  170,  ...,    0,    0,    0],\n",
                        "        [ 101, 2229,  185,  ...,    0,    0,    0]], device='cuda:0')}\n",
                        "{'names': ['NLP_CHEST_062', 'NLP_CHEST_008', 'NLP_CHEST_033', 'NLP_CHEST_037'], 'pixel_values': tensor([[[[-1.0000, -1.0000, -1.0000,  ..., -0.5373, -0.0118, -0.4353],\n",
                        "          [-1.0000, -1.0000, -1.0000,  ..., -0.3569,  0.2392, -0.2235],\n",
                        "          [-1.0000, -1.0000, -1.0000,  ..., -0.8588, -0.5843, -0.8196],\n",
                        "          ...,\n",
                        "          [-1.0000, -1.0000, -1.0000,  ..., -0.9608, -0.9294, -0.9137],\n",
                        "          [-1.0000, -1.0000, -1.0000,  ..., -0.9608, -0.9373, -0.9216],\n",
                        "          [-1.0000, -1.0000, -1.0000,  ..., -0.9529, -0.9451, -0.9216]],\n",
                        "\n",
                        "         [[-1.0000, -1.0000, -1.0000,  ..., -0.5373, -0.0118, -0.4353],\n",
                        "          [-1.0000, -1.0000, -1.0000,  ..., -0.3569,  0.2392, -0.2235],\n",
                        "          [-1.0000, -1.0000, -1.0000,  ..., -0.8588, -0.5843, -0.8196],\n",
                        "          ...,\n",
                        "          [-1.0000, -1.0000, -1.0000,  ..., -0.9608, -0.9294, -0.9137],\n",
                        "          [-1.0000, -1.0000, -1.0000,  ..., -0.9608, -0.9373, -0.9216],\n",
                        "          [-1.0000, -1.0000, -1.0000,  ..., -0.9529, -0.9451, -0.9216]],\n",
                        "\n",
                        "         [[-1.0000, -1.0000, -1.0000,  ..., -0.5373, -0.0118, -0.4353],\n",
                        "          [-1.0000, -1.0000, -1.0000,  ..., -0.3569,  0.2392, -0.2235],\n",
                        "          [-1.0000, -1.0000, -1.0000,  ..., -0.8588, -0.5843, -0.8196],\n",
                        "          ...,\n",
                        "          [-1.0000, -1.0000, -1.0000,  ..., -0.9608, -0.9294, -0.9137],\n",
                        "          [-1.0000, -1.0000, -1.0000,  ..., -0.9608, -0.9373, -0.9216],\n",
                        "          [-1.0000, -1.0000, -1.0000,  ..., -0.9529, -0.9451, -0.9216]]],\n",
                        "\n",
                        "\n",
                        "        [[[-0.8196, -0.8196, -0.8196,  ..., -0.8353, -0.7569, -0.5451],\n",
                        "          [-0.7804, -0.7804, -0.7804,  ..., -0.8118, -0.8039, -0.7647],\n",
                        "          [-0.7647, -0.7725, -0.7647,  ..., -0.8039, -0.8039, -0.8039],\n",
                        "          ...,\n",
                        "          [-0.8824, -0.8902, -0.9059,  ..., -1.0000, -1.0000, -1.0000],\n",
                        "          [-0.8902, -0.8980, -0.9137,  ..., -1.0000, -1.0000, -1.0000],\n",
                        "          [-0.9373, -0.9451, -0.9529,  ..., -1.0000, -1.0000, -1.0000]],\n",
                        "\n",
                        "         [[-0.8196, -0.8196, -0.8196,  ..., -0.8353, -0.7569, -0.5451],\n",
                        "          [-0.7804, -0.7804, -0.7804,  ..., -0.8118, -0.8039, -0.7647],\n",
                        "          [-0.7647, -0.7725, -0.7647,  ..., -0.8039, -0.8039, -0.8039],\n",
                        "          ...,\n",
                        "          [-0.8824, -0.8902, -0.9059,  ..., -1.0000, -1.0000, -1.0000],\n",
                        "          [-0.8902, -0.8980, -0.9137,  ..., -1.0000, -1.0000, -1.0000],\n",
                        "          [-0.9373, -0.9451, -0.9529,  ..., -1.0000, -1.0000, -1.0000]],\n",
                        "\n",
                        "         [[-0.8196, -0.8196, -0.8196,  ..., -0.8353, -0.7569, -0.5451],\n",
                        "          [-0.7804, -0.7804, -0.7804,  ..., -0.8118, -0.8039, -0.7647],\n",
                        "          [-0.7647, -0.7725, -0.7647,  ..., -0.8039, -0.8039, -0.8039],\n",
                        "          ...,\n",
                        "          [-0.8824, -0.8902, -0.9059,  ..., -1.0000, -1.0000, -1.0000],\n",
                        "          [-0.8902, -0.8980, -0.9137,  ..., -1.0000, -1.0000, -1.0000],\n",
                        "          [-0.9373, -0.9451, -0.9529,  ..., -1.0000, -1.0000, -1.0000]]],\n",
                        "\n",
                        "\n",
                        "        [[[-0.3725, -0.9294, -1.0000,  ..., -0.9137, -0.8824, -0.8980],\n",
                        "          [-0.9373, -0.9922, -1.0000,  ..., -0.6706, -0.3490, -0.3647],\n",
                        "          [-1.0000, -1.0000, -1.0000,  ..., -0.3255, -0.2000, -0.4039],\n",
                        "          ...,\n",
                        "          [-0.6392, -0.6706, -0.6627,  ...,  0.2078,  0.1922,  0.0667],\n",
                        "          [-0.6392, -0.6627, -0.6784,  ...,  0.2941,  0.2706,  0.1608],\n",
                        "          [-0.6157, -0.6314, -0.7020,  ...,  0.4118,  0.3882,  0.2784]],\n",
                        "\n",
                        "         [[-0.3725, -0.9294, -1.0000,  ..., -0.9137, -0.8824, -0.8980],\n",
                        "          [-0.9373, -0.9922, -1.0000,  ..., -0.6706, -0.3490, -0.3647],\n",
                        "          [-1.0000, -1.0000, -1.0000,  ..., -0.3255, -0.2000, -0.4039],\n",
                        "          ...,\n",
                        "          [-0.6392, -0.6706, -0.6627,  ...,  0.2078,  0.1922,  0.0667],\n",
                        "          [-0.6392, -0.6627, -0.6784,  ...,  0.2941,  0.2706,  0.1608],\n",
                        "          [-0.6157, -0.6314, -0.7020,  ...,  0.4118,  0.3882,  0.2784]],\n",
                        "\n",
                        "         [[-0.3725, -0.9294, -1.0000,  ..., -0.9137, -0.8824, -0.8980],\n",
                        "          [-0.9373, -0.9922, -1.0000,  ..., -0.6706, -0.3490, -0.3647],\n",
                        "          [-1.0000, -1.0000, -1.0000,  ..., -0.3255, -0.2000, -0.4039],\n",
                        "          ...,\n",
                        "          [-0.6392, -0.6706, -0.6627,  ...,  0.2078,  0.1922,  0.0667],\n",
                        "          [-0.6392, -0.6627, -0.6784,  ...,  0.2941,  0.2706,  0.1608],\n",
                        "          [-0.6157, -0.6314, -0.7020,  ...,  0.4118,  0.3882,  0.2784]]],\n",
                        "\n",
                        "\n",
                        "        [[[ 0.1373,  0.2863,  0.3333,  ..., -0.3412, -0.3412, -0.3412],\n",
                        "          [ 0.0980,  0.1059,  0.1059,  ..., -0.3804, -0.3176, -0.3412],\n",
                        "          [-0.1294, -0.1294, -0.1451,  ..., -0.0353, -0.0196, -0.0745],\n",
                        "          ...,\n",
                        "          [-0.5922, -0.4667, -0.3569,  ...,  0.0510, -0.1216, -0.3882],\n",
                        "          [-0.6235, -0.4745, -0.3412,  ...,  0.0745, -0.0745, -0.2706],\n",
                        "          [-0.6157, -0.4588, -0.3020,  ...,  0.1137, -0.0196, -0.1765]],\n",
                        "\n",
                        "         [[ 0.1373,  0.2863,  0.3333,  ..., -0.3412, -0.3412, -0.3412],\n",
                        "          [ 0.0980,  0.1059,  0.1059,  ..., -0.3804, -0.3176, -0.3412],\n",
                        "          [-0.1294, -0.1294, -0.1451,  ..., -0.0353, -0.0196, -0.0745],\n",
                        "          ...,\n",
                        "          [-0.5922, -0.4667, -0.3569,  ...,  0.0510, -0.1216, -0.3882],\n",
                        "          [-0.6235, -0.4745, -0.3412,  ...,  0.0745, -0.0745, -0.2706],\n",
                        "          [-0.6157, -0.4588, -0.3020,  ...,  0.1137, -0.0196, -0.1765]],\n",
                        "\n",
                        "         [[ 0.1373,  0.2863,  0.3333,  ..., -0.3412, -0.3412, -0.3412],\n",
                        "          [ 0.0980,  0.1059,  0.1059,  ..., -0.3804, -0.3176, -0.3412],\n",
                        "          [-0.1294, -0.1294, -0.1451,  ..., -0.0353, -0.0196, -0.0745],\n",
                        "          ...,\n",
                        "          [-0.5922, -0.4667, -0.3569,  ...,  0.0510, -0.1216, -0.3882],\n",
                        "          [-0.6235, -0.4745, -0.3412,  ...,  0.0745, -0.0745, -0.2706],\n",
                        "          [-0.6157, -0.4588, -0.3020,  ...,  0.1137, -0.0196, -0.1765]]]],\n",
                        "       device='cuda:0'), 'label_ids': tensor([[ 101, 2229, 6188,  ...,    0,    0,    0],\n",
                        "        [ 101, 2229,  185,  ...,    0,    0,    0],\n",
                        "        [ 101, 2229, 6188,  ...,    0,    0,    0],\n",
                        "        [ 101, 2229, 6188,  ...,    0,    0,    0]], device='cuda:0')}\n",
                        "{'names': ['NLP_CHEST_089', 'NLP_CHEST_097', 'NLP_CHEST_017', 'NLP_CHEST_042'], 'pixel_values': tensor([[[[-1.0000, -1.0000, -1.0000,  ..., -0.9922, -0.9373, -0.9765],\n",
                        "          [-1.0000, -1.0000, -1.0000,  ..., -0.7804, -0.3412, -0.4039],\n",
                        "          [-1.0000, -1.0000, -1.0000,  ..., -0.4824, -0.2157, -0.4431],\n",
                        "          ...,\n",
                        "          [-0.7725, -0.8118, -0.8118,  ...,  0.1216,  0.1059,  0.0745],\n",
                        "          [-0.7882, -0.8196, -0.8353,  ...,  0.1765,  0.1137,  0.0745],\n",
                        "          [-0.7961, -0.8196, -0.8510,  ...,  0.2314,  0.0902,  0.0510]],\n",
                        "\n",
                        "         [[-1.0000, -1.0000, -1.0000,  ..., -0.9922, -0.9373, -0.9765],\n",
                        "          [-1.0000, -1.0000, -1.0000,  ..., -0.7804, -0.3412, -0.4039],\n",
                        "          [-1.0000, -1.0000, -1.0000,  ..., -0.4824, -0.2157, -0.4431],\n",
                        "          ...,\n",
                        "          [-0.7725, -0.8118, -0.8118,  ...,  0.1216,  0.1059,  0.0745],\n",
                        "          [-0.7882, -0.8196, -0.8353,  ...,  0.1765,  0.1137,  0.0745],\n",
                        "          [-0.7961, -0.8196, -0.8510,  ...,  0.2314,  0.0902,  0.0510]],\n",
                        "\n",
                        "         [[-1.0000, -1.0000, -1.0000,  ..., -0.9922, -0.9373, -0.9765],\n",
                        "          [-1.0000, -1.0000, -1.0000,  ..., -0.7804, -0.3412, -0.4039],\n",
                        "          [-1.0000, -1.0000, -1.0000,  ..., -0.4824, -0.2157, -0.4431],\n",
                        "          ...,\n",
                        "          [-0.7725, -0.8118, -0.8118,  ...,  0.1216,  0.1059,  0.0745],\n",
                        "          [-0.7882, -0.8196, -0.8353,  ...,  0.1765,  0.1137,  0.0745],\n",
                        "          [-0.7961, -0.8196, -0.8510,  ...,  0.2314,  0.0902,  0.0510]]],\n",
                        "\n",
                        "\n",
                        "        [[[-0.9059, -0.9059, -0.9059,  ..., -0.9608, -0.8667, -0.5922],\n",
                        "          [-0.9137, -0.9137, -0.9137,  ..., -0.8588, -0.7255, -0.7333],\n",
                        "          [-0.9137, -0.9137, -0.9137,  ..., -0.2863, -0.4824, -0.2863],\n",
                        "          ...,\n",
                        "          [-0.8353, -0.8353, -0.8275,  ..., -0.8588, -0.8510, -0.8510],\n",
                        "          [-0.8353, -0.8275, -0.8196,  ..., -0.8510, -0.8510, -0.8510],\n",
                        "          [-0.8275, -0.8275, -0.8118,  ..., -0.8510, -0.8510, -0.8431]],\n",
                        "\n",
                        "         [[-0.9059, -0.9059, -0.9059,  ..., -0.9608, -0.8667, -0.5922],\n",
                        "          [-0.9137, -0.9137, -0.9137,  ..., -0.8588, -0.7255, -0.7333],\n",
                        "          [-0.9137, -0.9137, -0.9137,  ..., -0.2863, -0.4824, -0.2863],\n",
                        "          ...,\n",
                        "          [-0.8353, -0.8353, -0.8275,  ..., -0.8588, -0.8510, -0.8510],\n",
                        "          [-0.8353, -0.8275, -0.8196,  ..., -0.8510, -0.8510, -0.8510],\n",
                        "          [-0.8275, -0.8275, -0.8118,  ..., -0.8510, -0.8510, -0.8431]],\n",
                        "\n",
                        "         [[-0.9059, -0.9059, -0.9059,  ..., -0.9608, -0.8667, -0.5922],\n",
                        "          [-0.9137, -0.9137, -0.9137,  ..., -0.8588, -0.7255, -0.7333],\n",
                        "          [-0.9137, -0.9137, -0.9137,  ..., -0.2863, -0.4824, -0.2863],\n",
                        "          ...,\n",
                        "          [-0.8353, -0.8353, -0.8275,  ..., -0.8588, -0.8510, -0.8510],\n",
                        "          [-0.8353, -0.8275, -0.8196,  ..., -0.8510, -0.8510, -0.8510],\n",
                        "          [-0.8275, -0.8275, -0.8118,  ..., -0.8510, -0.8510, -0.8431]]],\n",
                        "\n",
                        "\n",
                        "        [[[-0.6392, -0.6392, -0.6314,  ..., -0.6471, -0.5922, -0.4824],\n",
                        "          [-0.6471, -0.6471, -0.6471,  ..., -0.6627, -0.6549, -0.6235],\n",
                        "          [-0.6471, -0.6471, -0.6471,  ..., -0.6627, -0.6549, -0.6549],\n",
                        "          ...,\n",
                        "          [-0.6784, -0.6863, -0.6941,  ..., -0.7098, -0.7020, -0.6941],\n",
                        "          [-0.6784, -0.6863, -0.6863,  ..., -0.7098, -0.7020, -0.6941],\n",
                        "          [-0.6706, -0.6706, -0.6784,  ..., -0.7020, -0.7020, -0.6863]],\n",
                        "\n",
                        "         [[-0.6392, -0.6392, -0.6314,  ..., -0.6471, -0.5922, -0.4824],\n",
                        "          [-0.6471, -0.6471, -0.6471,  ..., -0.6627, -0.6549, -0.6235],\n",
                        "          [-0.6471, -0.6471, -0.6471,  ..., -0.6627, -0.6549, -0.6549],\n",
                        "          ...,\n",
                        "          [-0.6784, -0.6863, -0.6941,  ..., -0.7098, -0.7020, -0.6941],\n",
                        "          [-0.6784, -0.6863, -0.6863,  ..., -0.7098, -0.7020, -0.6941],\n",
                        "          [-0.6706, -0.6706, -0.6784,  ..., -0.7020, -0.7020, -0.6863]],\n",
                        "\n",
                        "         [[-0.6392, -0.6392, -0.6314,  ..., -0.6471, -0.5922, -0.4824],\n",
                        "          [-0.6471, -0.6471, -0.6471,  ..., -0.6627, -0.6549, -0.6235],\n",
                        "          [-0.6471, -0.6471, -0.6471,  ..., -0.6627, -0.6549, -0.6549],\n",
                        "          ...,\n",
                        "          [-0.6784, -0.6863, -0.6941,  ..., -0.7098, -0.7020, -0.6941],\n",
                        "          [-0.6784, -0.6863, -0.6863,  ..., -0.7098, -0.7020, -0.6941],\n",
                        "          [-0.6706, -0.6706, -0.6784,  ..., -0.7020, -0.7020, -0.6863]]],\n",
                        "\n",
                        "\n",
                        "        [[[-0.6549, -0.6549, -0.6627,  ..., -0.8353, -0.8353, -0.8353],\n",
                        "          [-0.7098, -0.7098, -0.7098,  ..., -0.6549, -0.5765, -0.5373],\n",
                        "          [-0.7569, -0.7647, -0.7725,  ..., -0.4667, -0.4824, -0.4039],\n",
                        "          ...,\n",
                        "          [-0.9765, -0.9451, -0.8902,  ..., -1.0000, -1.0000, -1.0000],\n",
                        "          [-0.9529, -0.9137, -0.8667,  ..., -1.0000, -0.9843, -0.9294],\n",
                        "          [-0.9216, -0.8824, -0.8196,  ..., -1.0000, -0.8588, -0.3020]],\n",
                        "\n",
                        "         [[-0.6549, -0.6549, -0.6627,  ..., -0.8353, -0.8353, -0.8353],\n",
                        "          [-0.7098, -0.7098, -0.7098,  ..., -0.6549, -0.5765, -0.5373],\n",
                        "          [-0.7569, -0.7647, -0.7725,  ..., -0.4667, -0.4824, -0.4039],\n",
                        "          ...,\n",
                        "          [-0.9765, -0.9451, -0.8902,  ..., -1.0000, -1.0000, -1.0000],\n",
                        "          [-0.9529, -0.9137, -0.8667,  ..., -1.0000, -0.9843, -0.9294],\n",
                        "          [-0.9216, -0.8824, -0.8196,  ..., -1.0000, -0.8588, -0.3020]],\n",
                        "\n",
                        "         [[-0.6549, -0.6549, -0.6627,  ..., -0.8353, -0.8353, -0.8353],\n",
                        "          [-0.7098, -0.7098, -0.7098,  ..., -0.6549, -0.5765, -0.5373],\n",
                        "          [-0.7569, -0.7647, -0.7725,  ..., -0.4667, -0.4824, -0.4039],\n",
                        "          ...,\n",
                        "          [-0.9765, -0.9451, -0.8902,  ..., -1.0000, -1.0000, -1.0000],\n",
                        "          [-0.9529, -0.9137, -0.8667,  ..., -1.0000, -0.9843, -0.9294],\n",
                        "          [-0.9216, -0.8824, -0.8196,  ..., -1.0000, -0.8588, -0.3020]]]],\n",
                        "       device='cuda:0'), 'label_ids': tensor([[ 101, 2229,  170,  ...,    0,    0,    0],\n",
                        "        [ 101, 2229,  185,  ...,    0,    0,    0],\n",
                        "        [ 101, 2229,  185,  ...,    0,    0,    0],\n",
                        "        [ 101, 2229, 6188,  ...,    0,    0,    0]], device='cuda:0')}\n",
                        "{'names': ['NLP_CHEST_029', 'NLP_CHEST_025', 'NLP_CHEST_048', 'NLP_CHEST_051'], 'pixel_values': tensor([[[[-0.9765, -0.9765, -0.9765,  ..., -0.9765, -0.9373, -0.9529],\n",
                        "          [-0.9843, -0.9843, -0.9922,  ..., -0.7098, -0.3804, -0.3961],\n",
                        "          [-0.9922, -0.9922, -0.9922,  ..., -0.3490, -0.2235, -0.4353],\n",
                        "          ...,\n",
                        "          [-0.9059, -0.8980, -0.9059,  ..., -1.0000, -1.0000, -1.0000],\n",
                        "          [-0.9059, -0.8980, -0.8902,  ..., -1.0000, -0.9922, -0.9373],\n",
                        "          [-0.9059, -0.8824, -0.8824,  ..., -1.0000, -0.9294, -0.3725]],\n",
                        "\n",
                        "         [[-0.9765, -0.9765, -0.9765,  ..., -0.9765, -0.9373, -0.9529],\n",
                        "          [-0.9843, -0.9843, -0.9922,  ..., -0.7098, -0.3804, -0.3961],\n",
                        "          [-0.9922, -0.9922, -0.9922,  ..., -0.3490, -0.2235, -0.4353],\n",
                        "          ...,\n",
                        "          [-0.9059, -0.8980, -0.9059,  ..., -1.0000, -1.0000, -1.0000],\n",
                        "          [-0.9059, -0.8980, -0.8902,  ..., -1.0000, -0.9922, -0.9373],\n",
                        "          [-0.9059, -0.8824, -0.8824,  ..., -1.0000, -0.9294, -0.3725]],\n",
                        "\n",
                        "         [[-0.9765, -0.9765, -0.9765,  ..., -0.9765, -0.9373, -0.9529],\n",
                        "          [-0.9843, -0.9843, -0.9922,  ..., -0.7098, -0.3804, -0.3961],\n",
                        "          [-0.9922, -0.9922, -0.9922,  ..., -0.3490, -0.2235, -0.4353],\n",
                        "          ...,\n",
                        "          [-0.9059, -0.8980, -0.9059,  ..., -1.0000, -1.0000, -1.0000],\n",
                        "          [-0.9059, -0.8980, -0.8902,  ..., -1.0000, -0.9922, -0.9373],\n",
                        "          [-0.9059, -0.8824, -0.8824,  ..., -1.0000, -0.9294, -0.3725]]],\n",
                        "\n",
                        "\n",
                        "        [[[-0.8902, -0.8902, -0.8902,  ..., -0.8353, -0.7412, -0.6941],\n",
                        "          [-0.8902, -0.8902, -0.8902,  ..., -0.8824, -0.7804, -0.7804],\n",
                        "          [-0.8824, -0.8824, -0.8902,  ..., -0.9059, -0.8980, -0.8980],\n",
                        "          ...,\n",
                        "          [-0.9608, -0.9608, -0.9608,  ..., -0.9765, -0.9765, -0.9765],\n",
                        "          [-0.9608, -0.9608, -0.9608,  ..., -0.9765, -0.9765, -0.9765],\n",
                        "          [-0.9608, -0.9608, -0.9608,  ..., -0.9765, -0.9765, -0.9765]],\n",
                        "\n",
                        "         [[-0.8902, -0.8902, -0.8902,  ..., -0.8353, -0.7412, -0.6941],\n",
                        "          [-0.8902, -0.8902, -0.8902,  ..., -0.8824, -0.7804, -0.7804],\n",
                        "          [-0.8824, -0.8824, -0.8902,  ..., -0.9059, -0.8980, -0.8980],\n",
                        "          ...,\n",
                        "          [-0.9608, -0.9608, -0.9608,  ..., -0.9765, -0.9765, -0.9765],\n",
                        "          [-0.9608, -0.9608, -0.9608,  ..., -0.9765, -0.9765, -0.9765],\n",
                        "          [-0.9608, -0.9608, -0.9608,  ..., -0.9765, -0.9765, -0.9765]],\n",
                        "\n",
                        "         [[-0.8902, -0.8902, -0.8902,  ..., -0.8353, -0.7412, -0.6941],\n",
                        "          [-0.8902, -0.8902, -0.8902,  ..., -0.8824, -0.7804, -0.7804],\n",
                        "          [-0.8824, -0.8824, -0.8902,  ..., -0.9059, -0.8980, -0.8980],\n",
                        "          ...,\n",
                        "          [-0.9608, -0.9608, -0.9608,  ..., -0.9765, -0.9765, -0.9765],\n",
                        "          [-0.9608, -0.9608, -0.9608,  ..., -0.9765, -0.9765, -0.9765],\n",
                        "          [-0.9608, -0.9608, -0.9608,  ..., -0.9765, -0.9765, -0.9765]]],\n",
                        "\n",
                        "\n",
                        "        [[[-0.9373, -0.9294, -0.9294,  ..., -0.9529, -0.9608, -0.9608],\n",
                        "          [-0.9294, -0.9294, -0.9294,  ..., -0.9529, -0.9529, -0.9608],\n",
                        "          [-0.9294, -0.9294, -0.9294,  ..., -0.9529, -0.9529, -0.9608],\n",
                        "          ...,\n",
                        "          [-0.1529, -0.0118,  0.0510,  ..., -0.7333, -0.8275, -0.9216],\n",
                        "          [-0.1373, -0.0118,  0.0745,  ..., -0.6941, -0.7882, -0.8275],\n",
                        "          [-0.1529, -0.0353,  0.0431,  ..., -0.6549, -0.6471, -0.2549]],\n",
                        "\n",
                        "         [[-0.9373, -0.9294, -0.9294,  ..., -0.9529, -0.9608, -0.9608],\n",
                        "          [-0.9294, -0.9294, -0.9294,  ..., -0.9529, -0.9529, -0.9608],\n",
                        "          [-0.9294, -0.9294, -0.9294,  ..., -0.9529, -0.9529, -0.9608],\n",
                        "          ...,\n",
                        "          [-0.1529, -0.0118,  0.0510,  ..., -0.7333, -0.8275, -0.9216],\n",
                        "          [-0.1373, -0.0118,  0.0745,  ..., -0.6941, -0.7882, -0.8275],\n",
                        "          [-0.1529, -0.0353,  0.0431,  ..., -0.6549, -0.6471, -0.2549]],\n",
                        "\n",
                        "         [[-0.9373, -0.9294, -0.9294,  ..., -0.9529, -0.9608, -0.9608],\n",
                        "          [-0.9294, -0.9294, -0.9294,  ..., -0.9529, -0.9529, -0.9608],\n",
                        "          [-0.9294, -0.9294, -0.9294,  ..., -0.9529, -0.9529, -0.9608],\n",
                        "          ...,\n",
                        "          [-0.1529, -0.0118,  0.0510,  ..., -0.7333, -0.8275, -0.9216],\n",
                        "          [-0.1373, -0.0118,  0.0745,  ..., -0.6941, -0.7882, -0.8275],\n",
                        "          [-0.1529, -0.0353,  0.0431,  ..., -0.6549, -0.6471, -0.2549]]],\n",
                        "\n",
                        "\n",
                        "        [[[-0.2549, -0.7176, -0.8431,  ..., -0.8588, -0.8588, -0.8510],\n",
                        "          [-0.7961, -0.8431, -0.8588,  ..., -0.6706, -0.5843, -0.5451],\n",
                        "          [-0.8667, -0.8745, -0.8745,  ..., -0.4745, -0.4902, -0.3961],\n",
                        "          ...,\n",
                        "          [-0.9137, -0.9216, -0.9216,  ..., -0.9843, -0.9765, -0.9686],\n",
                        "          [-0.9059, -0.9137, -0.9137,  ..., -0.9686, -0.9608, -0.9529],\n",
                        "          [-0.8980, -0.8980, -0.8980,  ..., -0.9608, -0.9373, -0.9137]],\n",
                        "\n",
                        "         [[-0.2549, -0.7176, -0.8431,  ..., -0.8588, -0.8588, -0.8510],\n",
                        "          [-0.7961, -0.8431, -0.8588,  ..., -0.6706, -0.5843, -0.5451],\n",
                        "          [-0.8667, -0.8745, -0.8745,  ..., -0.4745, -0.4902, -0.3961],\n",
                        "          ...,\n",
                        "          [-0.9137, -0.9216, -0.9216,  ..., -0.9843, -0.9765, -0.9686],\n",
                        "          [-0.9059, -0.9137, -0.9137,  ..., -0.9686, -0.9608, -0.9529],\n",
                        "          [-0.8980, -0.8980, -0.8980,  ..., -0.9608, -0.9373, -0.9137]],\n",
                        "\n",
                        "         [[-0.2549, -0.7176, -0.8431,  ..., -0.8588, -0.8588, -0.8510],\n",
                        "          [-0.7961, -0.8431, -0.8588,  ..., -0.6706, -0.5843, -0.5451],\n",
                        "          [-0.8667, -0.8745, -0.8745,  ..., -0.4745, -0.4902, -0.3961],\n",
                        "          ...,\n",
                        "          [-0.9137, -0.9216, -0.9216,  ..., -0.9843, -0.9765, -0.9686],\n",
                        "          [-0.9059, -0.9137, -0.9137,  ..., -0.9686, -0.9608, -0.9529],\n",
                        "          [-0.8980, -0.8980, -0.8980,  ..., -0.9608, -0.9373, -0.9137]]]],\n",
                        "       device='cuda:0'), 'label_ids': tensor([[ 101, 2229, 6188,  ...,    0,    0,    0],\n",
                        "        [ 101, 2229, 1273,  ...,    0,    0,    0],\n",
                        "        [ 101, 2229,  170,  ...,    0,    0,    0],\n",
                        "        [ 101, 2229, 1273,  ...,    0,    0,    0]], device='cuda:0')}\n",
                        "{'names': ['NLP_CHEST_067', 'NLP_CHEST_003', 'NLP_CHEST_026', 'NLP_CHEST_007'], 'pixel_values': tensor([[[[-1.0000, -1.0000, -1.0000,  ..., -0.9922, -0.8902, -0.6000],\n",
                        "          [-1.0000, -1.0000, -1.0000,  ..., -0.8902, -0.7569, -0.7647],\n",
                        "          [-1.0000, -1.0000, -1.0000,  ..., -0.3098, -0.5059, -0.3098],\n",
                        "          ...,\n",
                        "          [-1.0000, -1.0000, -1.0000,  ..., -1.0000, -1.0000, -1.0000],\n",
                        "          [-1.0000, -1.0000, -1.0000,  ..., -1.0000, -1.0000, -1.0000],\n",
                        "          [-1.0000, -1.0000, -1.0000,  ..., -1.0000, -1.0000, -1.0000]],\n",
                        "\n",
                        "         [[-1.0000, -1.0000, -1.0000,  ..., -0.9922, -0.8902, -0.6000],\n",
                        "          [-1.0000, -1.0000, -1.0000,  ..., -0.8902, -0.7569, -0.7647],\n",
                        "          [-1.0000, -1.0000, -1.0000,  ..., -0.3098, -0.5059, -0.3098],\n",
                        "          ...,\n",
                        "          [-1.0000, -1.0000, -1.0000,  ..., -1.0000, -1.0000, -1.0000],\n",
                        "          [-1.0000, -1.0000, -1.0000,  ..., -1.0000, -1.0000, -1.0000],\n",
                        "          [-1.0000, -1.0000, -1.0000,  ..., -1.0000, -1.0000, -1.0000]],\n",
                        "\n",
                        "         [[-1.0000, -1.0000, -1.0000,  ..., -0.9922, -0.8902, -0.6000],\n",
                        "          [-1.0000, -1.0000, -1.0000,  ..., -0.8902, -0.7569, -0.7647],\n",
                        "          [-1.0000, -1.0000, -1.0000,  ..., -0.3098, -0.5059, -0.3098],\n",
                        "          ...,\n",
                        "          [-1.0000, -1.0000, -1.0000,  ..., -1.0000, -1.0000, -1.0000],\n",
                        "          [-1.0000, -1.0000, -1.0000,  ..., -1.0000, -1.0000, -1.0000],\n",
                        "          [-1.0000, -1.0000, -1.0000,  ..., -1.0000, -1.0000, -1.0000]]],\n",
                        "\n",
                        "\n",
                        "        [[[-0.9059, -0.9059, -0.9059,  ..., -0.7647, -0.6941, -0.5294],\n",
                        "          [-0.9137, -0.9137, -0.9137,  ..., -0.7255, -0.6078, -0.6235],\n",
                        "          [-0.9137, -0.9137, -0.9137,  ..., -0.2471, -0.4196, -0.2392],\n",
                        "          ...,\n",
                        "          [-0.4667, -0.2784, -0.0588,  ..., -0.3412, -0.7255, -0.9922],\n",
                        "          [-0.4824, -0.3020, -0.0824,  ..., -0.3882, -0.7961, -1.0000],\n",
                        "          [-0.4824, -0.3176, -0.0902,  ..., -0.4275, -0.8431, -1.0000]],\n",
                        "\n",
                        "         [[-0.9059, -0.9059, -0.9059,  ..., -0.7647, -0.6941, -0.5294],\n",
                        "          [-0.9137, -0.9137, -0.9137,  ..., -0.7255, -0.6078, -0.6235],\n",
                        "          [-0.9137, -0.9137, -0.9137,  ..., -0.2471, -0.4196, -0.2392],\n",
                        "          ...,\n",
                        "          [-0.4667, -0.2784, -0.0588,  ..., -0.3412, -0.7255, -0.9922],\n",
                        "          [-0.4824, -0.3020, -0.0824,  ..., -0.3882, -0.7961, -1.0000],\n",
                        "          [-0.4824, -0.3176, -0.0902,  ..., -0.4275, -0.8431, -1.0000]],\n",
                        "\n",
                        "         [[-0.9059, -0.9059, -0.9059,  ..., -0.7647, -0.6941, -0.5294],\n",
                        "          [-0.9137, -0.9137, -0.9137,  ..., -0.7255, -0.6078, -0.6235],\n",
                        "          [-0.9137, -0.9137, -0.9137,  ..., -0.2471, -0.4196, -0.2392],\n",
                        "          ...,\n",
                        "          [-0.4667, -0.2784, -0.0588,  ..., -0.3412, -0.7255, -0.9922],\n",
                        "          [-0.4824, -0.3020, -0.0824,  ..., -0.3882, -0.7961, -1.0000],\n",
                        "          [-0.4824, -0.3176, -0.0902,  ..., -0.4275, -0.8431, -1.0000]]],\n",
                        "\n",
                        "\n",
                        "        [[[-0.9529, -0.9529, -0.9529,  ..., -0.8667, -0.7882, -0.5608],\n",
                        "          [-0.9608, -0.9608, -0.9608,  ..., -0.8039, -0.6784, -0.6863],\n",
                        "          [-0.9608, -0.9608, -0.9608,  ..., -0.2706, -0.4588, -0.2706],\n",
                        "          ...,\n",
                        "          [-0.9686, -0.9765, -0.9843,  ..., -1.0000, -0.9843, -0.9922],\n",
                        "          [-0.9686, -0.9765, -0.9843,  ..., -0.9922, -0.9843, -0.9922],\n",
                        "          [-0.9686, -0.9765, -0.9765,  ..., -0.9922, -0.9922, -0.9922]],\n",
                        "\n",
                        "         [[-0.9529, -0.9529, -0.9529,  ..., -0.8667, -0.7882, -0.5608],\n",
                        "          [-0.9608, -0.9608, -0.9608,  ..., -0.8039, -0.6784, -0.6863],\n",
                        "          [-0.9608, -0.9608, -0.9608,  ..., -0.2706, -0.4588, -0.2706],\n",
                        "          ...,\n",
                        "          [-0.9686, -0.9765, -0.9843,  ..., -1.0000, -0.9843, -0.9922],\n",
                        "          [-0.9686, -0.9765, -0.9843,  ..., -0.9922, -0.9843, -0.9922],\n",
                        "          [-0.9686, -0.9765, -0.9765,  ..., -0.9922, -0.9922, -0.9922]],\n",
                        "\n",
                        "         [[-0.9529, -0.9529, -0.9529,  ..., -0.8667, -0.7882, -0.5608],\n",
                        "          [-0.9608, -0.9608, -0.9608,  ..., -0.8039, -0.6784, -0.6863],\n",
                        "          [-0.9608, -0.9608, -0.9608,  ..., -0.2706, -0.4588, -0.2706],\n",
                        "          ...,\n",
                        "          [-0.9686, -0.9765, -0.9843,  ..., -1.0000, -0.9843, -0.9922],\n",
                        "          [-0.9686, -0.9765, -0.9843,  ..., -0.9922, -0.9843, -0.9922],\n",
                        "          [-0.9686, -0.9765, -0.9765,  ..., -0.9922, -0.9922, -0.9922]]],\n",
                        "\n",
                        "\n",
                        "        [[[-0.6549, -0.6549, -0.6549,  ..., -0.7490, -0.6784, -0.5216],\n",
                        "          [-0.6627, -0.6627, -0.6627,  ..., -0.7569, -0.7490, -0.7098],\n",
                        "          [-0.6627, -0.6627, -0.6627,  ..., -0.7569, -0.7569, -0.7490],\n",
                        "          ...,\n",
                        "          [-1.0000, -1.0000, -0.9922,  ...,  0.4980,  0.5137,  0.5059],\n",
                        "          [-1.0000, -1.0000, -0.9843,  ...,  0.4980,  0.5137,  0.5216],\n",
                        "          [-1.0000, -1.0000, -0.9765,  ...,  0.5294,  0.5294,  0.5529]],\n",
                        "\n",
                        "         [[-0.6549, -0.6549, -0.6549,  ..., -0.7490, -0.6784, -0.5216],\n",
                        "          [-0.6627, -0.6627, -0.6627,  ..., -0.7569, -0.7490, -0.7098],\n",
                        "          [-0.6627, -0.6627, -0.6627,  ..., -0.7569, -0.7569, -0.7490],\n",
                        "          ...,\n",
                        "          [-1.0000, -1.0000, -0.9922,  ...,  0.4980,  0.5137,  0.5059],\n",
                        "          [-1.0000, -1.0000, -0.9843,  ...,  0.4980,  0.5137,  0.5216],\n",
                        "          [-1.0000, -1.0000, -0.9765,  ...,  0.5294,  0.5294,  0.5529]],\n",
                        "\n",
                        "         [[-0.6549, -0.6549, -0.6549,  ..., -0.7490, -0.6784, -0.5216],\n",
                        "          [-0.6627, -0.6627, -0.6627,  ..., -0.7569, -0.7490, -0.7098],\n",
                        "          [-0.6627, -0.6627, -0.6627,  ..., -0.7569, -0.7569, -0.7490],\n",
                        "          ...,\n",
                        "          [-1.0000, -1.0000, -0.9922,  ...,  0.4980,  0.5137,  0.5059],\n",
                        "          [-1.0000, -1.0000, -0.9843,  ...,  0.4980,  0.5137,  0.5216],\n",
                        "          [-1.0000, -1.0000, -0.9765,  ...,  0.5294,  0.5294,  0.5529]]]],\n",
                        "       device='cuda:0'), 'label_ids': tensor([[ 101, 2229, 6188,  ...,    0,    0,    0],\n",
                        "        [ 101, 2229, 6188,  ...,    0,    0,    0],\n",
                        "        [ 101, 2229,  185,  ...,    0,    0,    0],\n",
                        "        [ 101, 2229,  185,  ...,    0,    0,    0]], device='cuda:0')}\n",
                        "{'names': ['NLP_CHEST_060', 'NLP_CHEST_053', 'NLP_CHEST_019', 'NLP_CHEST_096'], 'pixel_values': tensor([[[[-0.8275, -0.8353, -0.8353,  ..., -0.8510, -0.7804, -0.5608],\n",
                        "          [-0.8353, -0.8431, -0.8431,  ..., -0.8588, -0.8510, -0.8039],\n",
                        "          [-0.8353, -0.8431, -0.8431,  ..., -0.8588, -0.8588, -0.8510],\n",
                        "          ...,\n",
                        "          [-0.8588, -0.8510, -0.8667,  ..., -1.0000, -1.0000, -1.0000],\n",
                        "          [-0.9059, -0.8980, -0.8902,  ..., -1.0000, -1.0000, -1.0000],\n",
                        "          [-0.9059, -0.9137, -0.9137,  ..., -1.0000, -1.0000, -1.0000]],\n",
                        "\n",
                        "         [[-0.8275, -0.8353, -0.8353,  ..., -0.8510, -0.7804, -0.5608],\n",
                        "          [-0.8353, -0.8431, -0.8431,  ..., -0.8588, -0.8510, -0.8039],\n",
                        "          [-0.8353, -0.8431, -0.8431,  ..., -0.8588, -0.8588, -0.8510],\n",
                        "          ...,\n",
                        "          [-0.8588, -0.8510, -0.8667,  ..., -1.0000, -1.0000, -1.0000],\n",
                        "          [-0.9059, -0.8980, -0.8902,  ..., -1.0000, -1.0000, -1.0000],\n",
                        "          [-0.9059, -0.9137, -0.9137,  ..., -1.0000, -1.0000, -1.0000]],\n",
                        "\n",
                        "         [[-0.8275, -0.8353, -0.8353,  ..., -0.8510, -0.7804, -0.5608],\n",
                        "          [-0.8353, -0.8431, -0.8431,  ..., -0.8588, -0.8510, -0.8039],\n",
                        "          [-0.8353, -0.8431, -0.8431,  ..., -0.8588, -0.8588, -0.8510],\n",
                        "          ...,\n",
                        "          [-0.8588, -0.8510, -0.8667,  ..., -1.0000, -1.0000, -1.0000],\n",
                        "          [-0.9059, -0.8980, -0.8902,  ..., -1.0000, -1.0000, -1.0000],\n",
                        "          [-0.9059, -0.9137, -0.9137,  ..., -1.0000, -1.0000, -1.0000]]],\n",
                        "\n",
                        "\n",
                        "        [[[-0.7255, -0.8275, -0.8902,  ..., -0.9216, -0.9216, -0.9137],\n",
                        "          [-0.7333, -0.8353, -0.8980,  ..., -0.7176, -0.6235, -0.5843],\n",
                        "          [-0.7412, -0.8431, -0.9059,  ..., -0.4980, -0.5059, -0.4196],\n",
                        "          ...,\n",
                        "          [ 0.1373,  0.1843,  0.2314,  ..., -1.0000, -1.0000, -1.0000],\n",
                        "          [ 0.1373,  0.1922,  0.2471,  ..., -1.0000, -0.9843, -0.9294],\n",
                        "          [ 0.1529,  0.2078,  0.2627,  ..., -1.0000, -0.8588, -0.3020]],\n",
                        "\n",
                        "         [[-0.7255, -0.8275, -0.8902,  ..., -0.9216, -0.9216, -0.9137],\n",
                        "          [-0.7333, -0.8353, -0.8980,  ..., -0.7176, -0.6235, -0.5843],\n",
                        "          [-0.7412, -0.8431, -0.9059,  ..., -0.4980, -0.5059, -0.4196],\n",
                        "          ...,\n",
                        "          [ 0.1373,  0.1843,  0.2314,  ..., -1.0000, -1.0000, -1.0000],\n",
                        "          [ 0.1373,  0.1922,  0.2471,  ..., -1.0000, -0.9843, -0.9294],\n",
                        "          [ 0.1529,  0.2078,  0.2627,  ..., -1.0000, -0.8588, -0.3020]],\n",
                        "\n",
                        "         [[-0.7255, -0.8275, -0.8902,  ..., -0.9216, -0.9216, -0.9137],\n",
                        "          [-0.7333, -0.8353, -0.8980,  ..., -0.7176, -0.6235, -0.5843],\n",
                        "          [-0.7412, -0.8431, -0.9059,  ..., -0.4980, -0.5059, -0.4196],\n",
                        "          ...,\n",
                        "          [ 0.1373,  0.1843,  0.2314,  ..., -1.0000, -1.0000, -1.0000],\n",
                        "          [ 0.1373,  0.1922,  0.2471,  ..., -1.0000, -0.9843, -0.9294],\n",
                        "          [ 0.1529,  0.2078,  0.2627,  ..., -1.0000, -0.8588, -0.3020]]],\n",
                        "\n",
                        "\n",
                        "        [[[-0.8824, -0.8824, -0.8824,  ..., -0.7961, -0.7333, -0.6784],\n",
                        "          [-0.8745, -0.8745, -0.8745,  ..., -0.8431, -0.7490, -0.7490],\n",
                        "          [-0.8745, -0.8745, -0.8745,  ..., -0.8588, -0.8588, -0.8588],\n",
                        "          ...,\n",
                        "          [-0.9686, -0.9686, -0.9686,  ..., -0.6784, -0.8039, -0.9137],\n",
                        "          [-0.9686, -0.9686, -0.9686,  ..., -0.5686, -0.6863, -0.8039],\n",
                        "          [-0.9686, -0.9686, -0.9765,  ..., -0.4353, -0.5608, -0.6863]],\n",
                        "\n",
                        "         [[-0.8824, -0.8824, -0.8824,  ..., -0.7961, -0.7333, -0.6784],\n",
                        "          [-0.8745, -0.8745, -0.8745,  ..., -0.8431, -0.7490, -0.7490],\n",
                        "          [-0.8745, -0.8745, -0.8745,  ..., -0.8588, -0.8588, -0.8588],\n",
                        "          ...,\n",
                        "          [-0.9686, -0.9686, -0.9686,  ..., -0.6784, -0.8039, -0.9137],\n",
                        "          [-0.9686, -0.9686, -0.9686,  ..., -0.5686, -0.6863, -0.8039],\n",
                        "          [-0.9686, -0.9686, -0.9765,  ..., -0.4353, -0.5608, -0.6863]],\n",
                        "\n",
                        "         [[-0.8824, -0.8824, -0.8824,  ..., -0.7961, -0.7333, -0.6784],\n",
                        "          [-0.8745, -0.8745, -0.8745,  ..., -0.8431, -0.7490, -0.7490],\n",
                        "          [-0.8745, -0.8745, -0.8745,  ..., -0.8588, -0.8588, -0.8588],\n",
                        "          ...,\n",
                        "          [-0.9686, -0.9686, -0.9686,  ..., -0.6784, -0.8039, -0.9137],\n",
                        "          [-0.9686, -0.9686, -0.9686,  ..., -0.5686, -0.6863, -0.8039],\n",
                        "          [-0.9686, -0.9686, -0.9765,  ..., -0.4353, -0.5608, -0.6863]]],\n",
                        "\n",
                        "\n",
                        "        [[[-0.1843, -0.5373, -0.6392,  ..., -0.7490, -0.7490, -0.7412],\n",
                        "          [-0.6627, -0.7098, -0.7255,  ..., -0.7020, -0.6157, -0.6549],\n",
                        "          [-0.7725, -0.7882, -0.7882,  ..., -0.1922, -0.1608, -0.2471],\n",
                        "          ...,\n",
                        "          [ 0.6392,  0.6471,  0.6706,  ...,  0.5294,  0.4980,  0.4824],\n",
                        "          [ 0.6471,  0.6706,  0.6627,  ...,  0.5137,  0.4980,  0.4745],\n",
                        "          [ 0.6549,  0.6706,  0.6863,  ...,  0.5137,  0.4902,  0.4745]],\n",
                        "\n",
                        "         [[-0.1843, -0.5373, -0.6392,  ..., -0.7490, -0.7490, -0.7412],\n",
                        "          [-0.6627, -0.7098, -0.7255,  ..., -0.7020, -0.6157, -0.6549],\n",
                        "          [-0.7725, -0.7882, -0.7882,  ..., -0.1922, -0.1608, -0.2471],\n",
                        "          ...,\n",
                        "          [ 0.6392,  0.6471,  0.6706,  ...,  0.5294,  0.4980,  0.4824],\n",
                        "          [ 0.6471,  0.6706,  0.6627,  ...,  0.5137,  0.4980,  0.4745],\n",
                        "          [ 0.6549,  0.6706,  0.6863,  ...,  0.5137,  0.4902,  0.4745]],\n",
                        "\n",
                        "         [[-0.1843, -0.5373, -0.6392,  ..., -0.7490, -0.7490, -0.7412],\n",
                        "          [-0.6627, -0.7098, -0.7255,  ..., -0.7020, -0.6157, -0.6549],\n",
                        "          [-0.7725, -0.7882, -0.7882,  ..., -0.1922, -0.1608, -0.2471],\n",
                        "          ...,\n",
                        "          [ 0.6392,  0.6471,  0.6706,  ...,  0.5294,  0.4980,  0.4824],\n",
                        "          [ 0.6471,  0.6706,  0.6627,  ...,  0.5137,  0.4980,  0.4745],\n",
                        "          [ 0.6549,  0.6706,  0.6863,  ...,  0.5137,  0.4902,  0.4745]]]],\n",
                        "       device='cuda:0'), 'label_ids': tensor([[ 101, 2229, 6188,  ...,    0,    0,    0],\n",
                        "        [ 101, 2229,  170,  ...,    0,    0,    0],\n",
                        "        [ 101, 2229, 1273,  ...,    0,    0,    0],\n",
                        "        [ 101, 2229, 6188,  ...,    0,    0,    0]], device='cuda:0')}\n",
                        "{'names': ['NLP_CHEST_020', 'NLP_CHEST_046', 'NLP_CHEST_023', 'NLP_CHEST_074'], 'pixel_values': tensor([[[[-0.9451, -0.9451, -0.9451,  ..., -0.9922, -0.9529, -0.9686],\n",
                        "          [-0.9608, -0.9608, -0.9529,  ..., -0.7255, -0.3961, -0.4118],\n",
                        "          [-0.9608, -0.9608, -0.9608,  ..., -0.3647, -0.2314, -0.4431],\n",
                        "          ...,\n",
                        "          [-0.8902, -0.8824, -0.9294,  ..., -0.1686, -0.2235, -0.3020],\n",
                        "          [-0.9059, -0.9059, -0.9294,  ..., -0.1686, -0.2314, -0.2863],\n",
                        "          [-0.9137, -0.9451, -0.9294,  ..., -0.1922, -0.2314, -0.0902]],\n",
                        "\n",
                        "         [[-0.9451, -0.9451, -0.9451,  ..., -0.9922, -0.9529, -0.9686],\n",
                        "          [-0.9608, -0.9608, -0.9529,  ..., -0.7255, -0.3961, -0.4118],\n",
                        "          [-0.9608, -0.9608, -0.9608,  ..., -0.3647, -0.2314, -0.4431],\n",
                        "          ...,\n",
                        "          [-0.8902, -0.8824, -0.9294,  ..., -0.1686, -0.2235, -0.3020],\n",
                        "          [-0.9059, -0.9059, -0.9294,  ..., -0.1686, -0.2314, -0.2863],\n",
                        "          [-0.9137, -0.9451, -0.9294,  ..., -0.1922, -0.2314, -0.0902]],\n",
                        "\n",
                        "         [[-0.9451, -0.9451, -0.9451,  ..., -0.9922, -0.9529, -0.9686],\n",
                        "          [-0.9608, -0.9608, -0.9529,  ..., -0.7255, -0.3961, -0.4118],\n",
                        "          [-0.9608, -0.9608, -0.9608,  ..., -0.3647, -0.2314, -0.4431],\n",
                        "          ...,\n",
                        "          [-0.8902, -0.8824, -0.9294,  ..., -0.1686, -0.2235, -0.3020],\n",
                        "          [-0.9059, -0.9059, -0.9294,  ..., -0.1686, -0.2314, -0.2863],\n",
                        "          [-0.9137, -0.9451, -0.9294,  ..., -0.1922, -0.2314, -0.0902]]],\n",
                        "\n",
                        "\n",
                        "        [[[-0.2863, -0.8196, -0.9765,  ..., -0.9137, -0.9137, -0.9137],\n",
                        "          [-0.9059, -0.9608, -0.9765,  ..., -0.7020, -0.6078, -0.5843],\n",
                        "          [-0.9765, -0.9765, -0.9765,  ..., -0.5137, -0.4902, -0.4196],\n",
                        "          ...,\n",
                        "          [-0.9059, -0.9137, -0.9294,  ..., -0.8667, -0.8667, -0.8745],\n",
                        "          [-0.8980, -0.9059, -0.9137,  ..., -0.8588, -0.8745, -0.8745],\n",
                        "          [-0.8745, -0.8902, -0.8980,  ..., -0.8588, -0.8588, -0.8588]],\n",
                        "\n",
                        "         [[-0.2863, -0.8196, -0.9765,  ..., -0.9137, -0.9137, -0.9137],\n",
                        "          [-0.9059, -0.9608, -0.9765,  ..., -0.7020, -0.6078, -0.5843],\n",
                        "          [-0.9765, -0.9765, -0.9765,  ..., -0.5137, -0.4902, -0.4196],\n",
                        "          ...,\n",
                        "          [-0.9059, -0.9137, -0.9294,  ..., -0.8667, -0.8667, -0.8745],\n",
                        "          [-0.8980, -0.9059, -0.9137,  ..., -0.8588, -0.8745, -0.8745],\n",
                        "          [-0.8745, -0.8902, -0.8980,  ..., -0.8588, -0.8588, -0.8588]],\n",
                        "\n",
                        "         [[-0.2863, -0.8196, -0.9765,  ..., -0.9137, -0.9137, -0.9137],\n",
                        "          [-0.9059, -0.9608, -0.9765,  ..., -0.7020, -0.6078, -0.5843],\n",
                        "          [-0.9765, -0.9765, -0.9765,  ..., -0.5137, -0.4902, -0.4196],\n",
                        "          ...,\n",
                        "          [-0.9059, -0.9137, -0.9294,  ..., -0.8667, -0.8667, -0.8745],\n",
                        "          [-0.8980, -0.9059, -0.9137,  ..., -0.8588, -0.8745, -0.8745],\n",
                        "          [-0.8745, -0.8902, -0.8980,  ..., -0.8588, -0.8588, -0.8588]]],\n",
                        "\n",
                        "\n",
                        "        [[[-0.7412, -0.7412, -0.7412,  ..., -0.7725, -0.7020, -0.5216],\n",
                        "          [-0.7490, -0.7490, -0.7490,  ..., -0.7804, -0.7725, -0.7333],\n",
                        "          [-0.7490, -0.7490, -0.7569,  ..., -0.7804, -0.7804, -0.7804],\n",
                        "          ...,\n",
                        "          [-0.7490, -0.7569, -0.7725,  ..., -0.7804, -0.7804, -0.7804],\n",
                        "          [-0.7490, -0.7569, -0.7647,  ..., -0.7804, -0.7882, -0.7804],\n",
                        "          [-0.7333, -0.7490, -0.7647,  ..., -0.7725, -0.7804, -0.7725]],\n",
                        "\n",
                        "         [[-0.7412, -0.7412, -0.7412,  ..., -0.7725, -0.7020, -0.5216],\n",
                        "          [-0.7490, -0.7490, -0.7490,  ..., -0.7804, -0.7725, -0.7333],\n",
                        "          [-0.7490, -0.7490, -0.7569,  ..., -0.7804, -0.7804, -0.7804],\n",
                        "          ...,\n",
                        "          [-0.7490, -0.7569, -0.7725,  ..., -0.7804, -0.7804, -0.7804],\n",
                        "          [-0.7490, -0.7569, -0.7647,  ..., -0.7804, -0.7882, -0.7804],\n",
                        "          [-0.7333, -0.7490, -0.7647,  ..., -0.7725, -0.7804, -0.7725]],\n",
                        "\n",
                        "         [[-0.7412, -0.7412, -0.7412,  ..., -0.7725, -0.7020, -0.5216],\n",
                        "          [-0.7490, -0.7490, -0.7490,  ..., -0.7804, -0.7725, -0.7333],\n",
                        "          [-0.7490, -0.7490, -0.7569,  ..., -0.7804, -0.7804, -0.7804],\n",
                        "          ...,\n",
                        "          [-0.7490, -0.7569, -0.7725,  ..., -0.7804, -0.7804, -0.7804],\n",
                        "          [-0.7490, -0.7569, -0.7647,  ..., -0.7804, -0.7882, -0.7804],\n",
                        "          [-0.7333, -0.7490, -0.7647,  ..., -0.7725, -0.7804, -0.7725]]],\n",
                        "\n",
                        "\n",
                        "        [[[ 0.1373,  0.2863,  0.3333,  ..., -0.3412, -0.3412, -0.3412],\n",
                        "          [ 0.0980,  0.1059,  0.1059,  ..., -0.3804, -0.3176, -0.3412],\n",
                        "          [-0.1294, -0.1294, -0.1451,  ..., -0.0353, -0.0196, -0.0745],\n",
                        "          ...,\n",
                        "          [-0.5922, -0.4667, -0.3569,  ...,  0.0510, -0.1216, -0.3882],\n",
                        "          [-0.6235, -0.4745, -0.3412,  ...,  0.0745, -0.0745, -0.2706],\n",
                        "          [-0.6157, -0.4588, -0.3020,  ...,  0.1137, -0.0196, -0.1765]],\n",
                        "\n",
                        "         [[ 0.1373,  0.2863,  0.3333,  ..., -0.3412, -0.3412, -0.3412],\n",
                        "          [ 0.0980,  0.1059,  0.1059,  ..., -0.3804, -0.3176, -0.3412],\n",
                        "          [-0.1294, -0.1294, -0.1451,  ..., -0.0353, -0.0196, -0.0745],\n",
                        "          ...,\n",
                        "          [-0.5922, -0.4667, -0.3569,  ...,  0.0510, -0.1216, -0.3882],\n",
                        "          [-0.6235, -0.4745, -0.3412,  ...,  0.0745, -0.0745, -0.2706],\n",
                        "          [-0.6157, -0.4588, -0.3020,  ...,  0.1137, -0.0196, -0.1765]],\n",
                        "\n",
                        "         [[ 0.1373,  0.2863,  0.3333,  ..., -0.3412, -0.3412, -0.3412],\n",
                        "          [ 0.0980,  0.1059,  0.1059,  ..., -0.3804, -0.3176, -0.3412],\n",
                        "          [-0.1294, -0.1294, -0.1451,  ..., -0.0353, -0.0196, -0.0745],\n",
                        "          ...,\n",
                        "          [-0.5922, -0.4667, -0.3569,  ...,  0.0510, -0.1216, -0.3882],\n",
                        "          [-0.6235, -0.4745, -0.3412,  ...,  0.0745, -0.0745, -0.2706],\n",
                        "          [-0.6157, -0.4588, -0.3020,  ...,  0.1137, -0.0196, -0.1765]]]],\n",
                        "       device='cuda:0'), 'label_ids': tensor([[ 101, 2229,  170,  ...,    0,    0,    0],\n",
                        "        [ 101, 2229, 6188,  ...,    0,    0,    0],\n",
                        "        [ 101, 2229,  185,  ...,    0,    0,    0],\n",
                        "        [ 101, 2229, 6188,  ...,    0,    0,    0]], device='cuda:0')}\n",
                        "{'names': ['NLP_CHEST_075', 'NLP_CHEST_099', 'NLP_CHEST_082', 'NLP_CHEST_022'], 'pixel_values': tensor([[[[-0.2157, -0.6078, -0.7176,  ..., -0.8196, -0.8196, -0.8196],\n",
                        "          [-0.6941, -0.7333, -0.7412,  ..., -0.6392, -0.5529, -0.5137],\n",
                        "          [-0.7725, -0.7725, -0.7725,  ..., -0.4431, -0.4588, -0.3725],\n",
                        "          ...,\n",
                        "          [-0.9294, -0.9216, -0.9216,  ..., -0.0824, -0.3176, -0.5373],\n",
                        "          [-0.9294, -0.9216, -0.9137,  ..., -0.0353, -0.2941, -0.5137],\n",
                        "          [-0.9059, -0.9059, -0.8980,  ...,  0.0039, -0.2392, -0.4588]],\n",
                        "\n",
                        "         [[-0.2157, -0.6078, -0.7176,  ..., -0.8196, -0.8196, -0.8196],\n",
                        "          [-0.6941, -0.7333, -0.7412,  ..., -0.6392, -0.5529, -0.5137],\n",
                        "          [-0.7725, -0.7725, -0.7725,  ..., -0.4431, -0.4588, -0.3725],\n",
                        "          ...,\n",
                        "          [-0.9294, -0.9216, -0.9216,  ..., -0.0824, -0.3176, -0.5373],\n",
                        "          [-0.9294, -0.9216, -0.9137,  ..., -0.0353, -0.2941, -0.5137],\n",
                        "          [-0.9059, -0.9059, -0.8980,  ...,  0.0039, -0.2392, -0.4588]],\n",
                        "\n",
                        "         [[-0.2157, -0.6078, -0.7176,  ..., -0.8196, -0.8196, -0.8196],\n",
                        "          [-0.6941, -0.7333, -0.7412,  ..., -0.6392, -0.5529, -0.5137],\n",
                        "          [-0.7725, -0.7725, -0.7725,  ..., -0.4431, -0.4588, -0.3725],\n",
                        "          ...,\n",
                        "          [-0.9294, -0.9216, -0.9216,  ..., -0.0824, -0.3176, -0.5373],\n",
                        "          [-0.9294, -0.9216, -0.9137,  ..., -0.0353, -0.2941, -0.5137],\n",
                        "          [-0.9059, -0.9059, -0.8980,  ...,  0.0039, -0.2392, -0.4588]]],\n",
                        "\n",
                        "\n",
                        "        [[[-0.9373, -0.9373, -0.9373,  ..., -0.7647, -0.7255, -0.7569],\n",
                        "          [-0.9373, -0.9373, -0.9373,  ..., -0.6549, -0.2471, -0.3176],\n",
                        "          [-0.9451, -0.9451, -0.9451,  ..., -0.4431, -0.1765, -0.3490],\n",
                        "          ...,\n",
                        "          [-1.0000, -0.9216, -0.7804,  ..., -0.3647, -0.5373, -0.7647],\n",
                        "          [-0.9059, -0.8745, -0.7569,  ..., -0.3098, -0.4902, -0.6706],\n",
                        "          [-0.2784, -0.7176, -0.7176,  ..., -0.2784, -0.4510, -0.5922]],\n",
                        "\n",
                        "         [[-0.9373, -0.9373, -0.9373,  ..., -0.7647, -0.7255, -0.7569],\n",
                        "          [-0.9373, -0.9373, -0.9373,  ..., -0.6549, -0.2471, -0.3176],\n",
                        "          [-0.9451, -0.9451, -0.9451,  ..., -0.4431, -0.1765, -0.3490],\n",
                        "          ...,\n",
                        "          [-1.0000, -0.9216, -0.7804,  ..., -0.3647, -0.5373, -0.7647],\n",
                        "          [-0.9059, -0.8745, -0.7569,  ..., -0.3098, -0.4902, -0.6706],\n",
                        "          [-0.2784, -0.7176, -0.7176,  ..., -0.2784, -0.4510, -0.5922]],\n",
                        "\n",
                        "         [[-0.9373, -0.9373, -0.9373,  ..., -0.7647, -0.7255, -0.7569],\n",
                        "          [-0.9373, -0.9373, -0.9373,  ..., -0.6549, -0.2471, -0.3176],\n",
                        "          [-0.9451, -0.9451, -0.9451,  ..., -0.4431, -0.1765, -0.3490],\n",
                        "          ...,\n",
                        "          [-1.0000, -0.9216, -0.7804,  ..., -0.3647, -0.5373, -0.7647],\n",
                        "          [-0.9059, -0.8745, -0.7569,  ..., -0.3098, -0.4902, -0.6706],\n",
                        "          [-0.2784, -0.7176, -0.7176,  ..., -0.2784, -0.4510, -0.5922]]],\n",
                        "\n",
                        "\n",
                        "        [[[-0.7882, -0.7882, -0.7961,  ..., -0.9216, -0.8824, -0.8980],\n",
                        "          [-0.8039, -0.8039, -0.8118,  ..., -0.6627, -0.3490, -0.3647],\n",
                        "          [-0.8196, -0.8196, -0.8353,  ..., -0.3255, -0.2000, -0.4039],\n",
                        "          ...,\n",
                        "          [-0.8196, -0.8588, -0.8980,  ..., -0.9373, -0.9373, -0.9373],\n",
                        "          [-0.8353, -0.8667, -0.9059,  ..., -0.9294, -0.9294, -0.8745],\n",
                        "          [-0.8667, -0.8902, -0.9137,  ..., -0.9294, -0.8667, -0.3490]],\n",
                        "\n",
                        "         [[-0.7882, -0.7882, -0.7961,  ..., -0.9216, -0.8824, -0.8980],\n",
                        "          [-0.8039, -0.8039, -0.8118,  ..., -0.6627, -0.3490, -0.3647],\n",
                        "          [-0.8196, -0.8196, -0.8353,  ..., -0.3255, -0.2000, -0.4039],\n",
                        "          ...,\n",
                        "          [-0.8196, -0.8588, -0.8980,  ..., -0.9373, -0.9373, -0.9373],\n",
                        "          [-0.8353, -0.8667, -0.9059,  ..., -0.9294, -0.9294, -0.8745],\n",
                        "          [-0.8667, -0.8902, -0.9137,  ..., -0.9294, -0.8667, -0.3490]],\n",
                        "\n",
                        "         [[-0.7882, -0.7882, -0.7961,  ..., -0.9216, -0.8824, -0.8980],\n",
                        "          [-0.8039, -0.8039, -0.8118,  ..., -0.6627, -0.3490, -0.3647],\n",
                        "          [-0.8196, -0.8196, -0.8353,  ..., -0.3255, -0.2000, -0.4039],\n",
                        "          ...,\n",
                        "          [-0.8196, -0.8588, -0.8980,  ..., -0.9373, -0.9373, -0.9373],\n",
                        "          [-0.8353, -0.8667, -0.9059,  ..., -0.9294, -0.9294, -0.8745],\n",
                        "          [-0.8667, -0.8902, -0.9137,  ..., -0.9294, -0.8667, -0.3490]]],\n",
                        "\n",
                        "\n",
                        "        [[[-0.9686, -0.9765, -0.9765,  ..., -0.4745, -0.5137, -0.5137],\n",
                        "          [-0.9843, -0.9922, -0.9922,  ..., -0.3882, -0.3882, -0.3804],\n",
                        "          [-0.9686, -0.9686, -0.9608,  ..., -0.3412, -0.3725, -0.3882],\n",
                        "          ...,\n",
                        "          [-0.8902, -0.8980, -0.9059,  ..., -0.0667, -0.1216, -0.1922],\n",
                        "          [-0.8824, -0.8824, -0.8980,  ..., -0.0902, -0.1373, -0.2078],\n",
                        "          [-0.8745, -0.8824, -0.8902,  ..., -0.0745, -0.1373, -0.2157]],\n",
                        "\n",
                        "         [[-0.9686, -0.9765, -0.9765,  ..., -0.4745, -0.5137, -0.5137],\n",
                        "          [-0.9843, -0.9922, -0.9922,  ..., -0.3882, -0.3882, -0.3804],\n",
                        "          [-0.9686, -0.9686, -0.9608,  ..., -0.3412, -0.3725, -0.3882],\n",
                        "          ...,\n",
                        "          [-0.8902, -0.8980, -0.9059,  ..., -0.0667, -0.1216, -0.1922],\n",
                        "          [-0.8824, -0.8824, -0.8980,  ..., -0.0902, -0.1373, -0.2078],\n",
                        "          [-0.8745, -0.8824, -0.8902,  ..., -0.0745, -0.1373, -0.2157]],\n",
                        "\n",
                        "         [[-0.9686, -0.9765, -0.9765,  ..., -0.4745, -0.5137, -0.5137],\n",
                        "          [-0.9843, -0.9922, -0.9922,  ..., -0.3882, -0.3882, -0.3804],\n",
                        "          [-0.9686, -0.9686, -0.9608,  ..., -0.3412, -0.3725, -0.3882],\n",
                        "          ...,\n",
                        "          [-0.8902, -0.8980, -0.9059,  ..., -0.0667, -0.1216, -0.1922],\n",
                        "          [-0.8824, -0.8824, -0.8980,  ..., -0.0902, -0.1373, -0.2078],\n",
                        "          [-0.8745, -0.8824, -0.8902,  ..., -0.0745, -0.1373, -0.2157]]]],\n",
                        "       device='cuda:0'), 'label_ids': tensor([[ 101, 2229, 6188,  ...,    0,    0,    0],\n",
                        "        [ 101, 2229, 6188,  ...,    0,    0,    0],\n",
                        "        [ 101, 2229,  185,  ...,    0,    0,    0],\n",
                        "        [ 101, 2229, 6188,  ...,    0,    0,    0]], device='cuda:0')}\n",
                        "{'names': ['NLP_CHEST_028', 'NLP_CHEST_047', 'NLP_CHEST_032', 'NLP_CHEST_006'], 'pixel_values': tensor([[[[-0.5686, -0.5686, -0.5686,  ..., -0.5765, -0.5294, -0.4588],\n",
                        "          [-0.5843, -0.5843, -0.5843,  ..., -0.5843, -0.5765, -0.5529],\n",
                        "          [-0.5843, -0.5843, -0.5922,  ..., -0.5922, -0.5922, -0.5843],\n",
                        "          ...,\n",
                        "          [-0.5216, -0.5294, -0.5451,  ..., -0.6078, -0.6078, -0.6000],\n",
                        "          [-0.5216, -0.5294, -0.5373,  ..., -0.6000, -0.6000, -0.6000],\n",
                        "          [-0.5059, -0.5137, -0.5216,  ..., -0.5922, -0.5922, -0.5922]],\n",
                        "\n",
                        "         [[-0.5686, -0.5686, -0.5686,  ..., -0.5765, -0.5294, -0.4588],\n",
                        "          [-0.5843, -0.5843, -0.5843,  ..., -0.5843, -0.5765, -0.5529],\n",
                        "          [-0.5843, -0.5843, -0.5922,  ..., -0.5922, -0.5922, -0.5843],\n",
                        "          ...,\n",
                        "          [-0.5216, -0.5294, -0.5451,  ..., -0.6078, -0.6078, -0.6000],\n",
                        "          [-0.5216, -0.5294, -0.5373,  ..., -0.6000, -0.6000, -0.6000],\n",
                        "          [-0.5059, -0.5137, -0.5216,  ..., -0.5922, -0.5922, -0.5922]],\n",
                        "\n",
                        "         [[-0.5686, -0.5686, -0.5686,  ..., -0.5765, -0.5294, -0.4588],\n",
                        "          [-0.5843, -0.5843, -0.5843,  ..., -0.5843, -0.5765, -0.5529],\n",
                        "          [-0.5843, -0.5843, -0.5922,  ..., -0.5922, -0.5922, -0.5843],\n",
                        "          ...,\n",
                        "          [-0.5216, -0.5294, -0.5451,  ..., -0.6078, -0.6078, -0.6000],\n",
                        "          [-0.5216, -0.5294, -0.5373,  ..., -0.6000, -0.6000, -0.6000],\n",
                        "          [-0.5059, -0.5137, -0.5216,  ..., -0.5922, -0.5922, -0.5922]]],\n",
                        "\n",
                        "\n",
                        "        [[[-0.3569, -0.8902, -0.9529,  ..., -0.9216, -0.8824, -0.8980],\n",
                        "          [-0.8980, -0.9529, -0.9608,  ..., -0.6627, -0.3490, -0.3647],\n",
                        "          [-0.9686, -0.9686, -0.9686,  ..., -0.3255, -0.2000, -0.4039],\n",
                        "          ...,\n",
                        "          [-1.0000, -1.0000, -1.0000,  ..., -0.5843, -0.7725, -0.9137],\n",
                        "          [-1.0000, -1.0000, -1.0000,  ..., -0.5059, -0.6941, -0.8588],\n",
                        "          [-1.0000, -1.0000, -1.0000,  ..., -0.4745, -0.6471, -0.7961]],\n",
                        "\n",
                        "         [[-0.3569, -0.8902, -0.9529,  ..., -0.9216, -0.8824, -0.8980],\n",
                        "          [-0.8980, -0.9529, -0.9608,  ..., -0.6627, -0.3490, -0.3647],\n",
                        "          [-0.9686, -0.9686, -0.9686,  ..., -0.3255, -0.2000, -0.4039],\n",
                        "          ...,\n",
                        "          [-1.0000, -1.0000, -1.0000,  ..., -0.5843, -0.7725, -0.9137],\n",
                        "          [-1.0000, -1.0000, -1.0000,  ..., -0.5059, -0.6941, -0.8588],\n",
                        "          [-1.0000, -1.0000, -1.0000,  ..., -0.4745, -0.6471, -0.7961]],\n",
                        "\n",
                        "         [[-0.3569, -0.8902, -0.9529,  ..., -0.9216, -0.8824, -0.8980],\n",
                        "          [-0.8980, -0.9529, -0.9608,  ..., -0.6627, -0.3490, -0.3647],\n",
                        "          [-0.9686, -0.9686, -0.9686,  ..., -0.3255, -0.2000, -0.4039],\n",
                        "          ...,\n",
                        "          [-1.0000, -1.0000, -1.0000,  ..., -0.5843, -0.7725, -0.9137],\n",
                        "          [-1.0000, -1.0000, -1.0000,  ..., -0.5059, -0.6941, -0.8588],\n",
                        "          [-1.0000, -1.0000, -1.0000,  ..., -0.4745, -0.6471, -0.7961]]],\n",
                        "\n",
                        "\n",
                        "        [[[-0.6235, -0.6235, -0.6235,  ..., -0.6392, -0.5843, -0.4824],\n",
                        "          [-0.6314, -0.6392, -0.6314,  ..., -0.6471, -0.6392, -0.6157],\n",
                        "          [-0.6392, -0.6392, -0.6392,  ..., -0.6471, -0.6471, -0.6471],\n",
                        "          ...,\n",
                        "          [-0.7882, -0.8118, -0.8275,  ..., -0.9059, -0.8980, -0.8902],\n",
                        "          [-0.7725, -0.7961, -0.8118,  ..., -0.9059, -0.8902, -0.8824],\n",
                        "          [-0.7490, -0.7804, -0.7961,  ..., -0.8902, -0.8824, -0.8745]],\n",
                        "\n",
                        "         [[-0.6235, -0.6235, -0.6235,  ..., -0.6392, -0.5843, -0.4824],\n",
                        "          [-0.6314, -0.6392, -0.6314,  ..., -0.6471, -0.6392, -0.6157],\n",
                        "          [-0.6392, -0.6392, -0.6392,  ..., -0.6471, -0.6471, -0.6471],\n",
                        "          ...,\n",
                        "          [-0.7882, -0.8118, -0.8275,  ..., -0.9059, -0.8980, -0.8902],\n",
                        "          [-0.7725, -0.7961, -0.8118,  ..., -0.9059, -0.8902, -0.8824],\n",
                        "          [-0.7490, -0.7804, -0.7961,  ..., -0.8902, -0.8824, -0.8745]],\n",
                        "\n",
                        "         [[-0.6235, -0.6235, -0.6235,  ..., -0.6392, -0.5843, -0.4824],\n",
                        "          [-0.6314, -0.6392, -0.6314,  ..., -0.6471, -0.6392, -0.6157],\n",
                        "          [-0.6392, -0.6392, -0.6392,  ..., -0.6471, -0.6471, -0.6471],\n",
                        "          ...,\n",
                        "          [-0.7882, -0.8118, -0.8275,  ..., -0.9059, -0.8980, -0.8902],\n",
                        "          [-0.7725, -0.7961, -0.8118,  ..., -0.9059, -0.8902, -0.8824],\n",
                        "          [-0.7490, -0.7804, -0.7961,  ..., -0.8902, -0.8824, -0.8745]]],\n",
                        "\n",
                        "\n",
                        "        [[[-0.8902, -0.8902, -0.8902,  ..., -0.8510, -0.7490, -0.6941],\n",
                        "          [-0.8902, -0.8902, -0.8902,  ..., -0.8824, -0.7804, -0.7804],\n",
                        "          [-0.8980, -0.8902, -0.8902,  ..., -0.9059, -0.9059, -0.9059],\n",
                        "          ...,\n",
                        "          [-0.4902, -0.3490, -0.2314,  ..., -1.0000, -1.0000, -1.0000],\n",
                        "          [-0.4745, -0.3333, -0.2235,  ..., -1.0000, -1.0000, -1.0000],\n",
                        "          [-0.4510, -0.3255, -0.2078,  ..., -1.0000, -1.0000, -1.0000]],\n",
                        "\n",
                        "         [[-0.8902, -0.8902, -0.8902,  ..., -0.8510, -0.7490, -0.6941],\n",
                        "          [-0.8902, -0.8902, -0.8902,  ..., -0.8824, -0.7804, -0.7804],\n",
                        "          [-0.8980, -0.8902, -0.8902,  ..., -0.9059, -0.9059, -0.9059],\n",
                        "          ...,\n",
                        "          [-0.4902, -0.3490, -0.2314,  ..., -1.0000, -1.0000, -1.0000],\n",
                        "          [-0.4745, -0.3333, -0.2235,  ..., -1.0000, -1.0000, -1.0000],\n",
                        "          [-0.4510, -0.3255, -0.2078,  ..., -1.0000, -1.0000, -1.0000]],\n",
                        "\n",
                        "         [[-0.8902, -0.8902, -0.8902,  ..., -0.8510, -0.7490, -0.6941],\n",
                        "          [-0.8902, -0.8902, -0.8902,  ..., -0.8824, -0.7804, -0.7804],\n",
                        "          [-0.8980, -0.8902, -0.8902,  ..., -0.9059, -0.9059, -0.9059],\n",
                        "          ...,\n",
                        "          [-0.4902, -0.3490, -0.2314,  ..., -1.0000, -1.0000, -1.0000],\n",
                        "          [-0.4745, -0.3333, -0.2235,  ..., -1.0000, -1.0000, -1.0000],\n",
                        "          [-0.4510, -0.3255, -0.2078,  ..., -1.0000, -1.0000, -1.0000]]]],\n",
                        "       device='cuda:0'), 'label_ids': tensor([[ 101, 2229,  185,  ...,    0,    0,    0],\n",
                        "        [ 101, 1107, 8702,  ...,    0,    0,    0],\n",
                        "        [ 101, 2229,  193,  ...,    0,    0,    0],\n",
                        "        [ 101, 2229, 6188,  ...,    0,    0,    0]], device='cuda:0')}\n",
                        "{'names': ['NLP_CHEST_016', 'NLP_CHEST_077', 'NLP_CHEST_001', 'NLP_CHEST_066'], 'pixel_values': tensor([[[[-0.8745, -0.8745, -0.8745,  ..., -0.8196, -0.7412, -0.6863],\n",
                        "          [-0.8667, -0.8667, -0.8667,  ..., -0.8510, -0.7569, -0.7569],\n",
                        "          [-0.8588, -0.8588, -0.8588,  ..., -0.8745, -0.8745, -0.8745],\n",
                        "          ...,\n",
                        "          [-0.7725, -0.6157, -0.4431,  ..., -0.9451, -0.9686, -1.0000],\n",
                        "          [-0.7725, -0.6157, -0.4275,  ..., -0.9451, -0.9765, -1.0000],\n",
                        "          [-0.7725, -0.6078, -0.4196,  ..., -0.9451, -0.9765, -1.0000]],\n",
                        "\n",
                        "         [[-0.8745, -0.8745, -0.8745,  ..., -0.8196, -0.7412, -0.6863],\n",
                        "          [-0.8667, -0.8667, -0.8667,  ..., -0.8510, -0.7569, -0.7569],\n",
                        "          [-0.8588, -0.8588, -0.8588,  ..., -0.8745, -0.8745, -0.8745],\n",
                        "          ...,\n",
                        "          [-0.7725, -0.6157, -0.4431,  ..., -0.9451, -0.9686, -1.0000],\n",
                        "          [-0.7725, -0.6157, -0.4275,  ..., -0.9451, -0.9765, -1.0000],\n",
                        "          [-0.7725, -0.6078, -0.4196,  ..., -0.9451, -0.9765, -1.0000]],\n",
                        "\n",
                        "         [[-0.8745, -0.8745, -0.8745,  ..., -0.8196, -0.7412, -0.6863],\n",
                        "          [-0.8667, -0.8667, -0.8667,  ..., -0.8510, -0.7569, -0.7569],\n",
                        "          [-0.8588, -0.8588, -0.8588,  ..., -0.8745, -0.8745, -0.8745],\n",
                        "          ...,\n",
                        "          [-0.7725, -0.6157, -0.4431,  ..., -0.9451, -0.9686, -1.0000],\n",
                        "          [-0.7725, -0.6157, -0.4275,  ..., -0.9451, -0.9765, -1.0000],\n",
                        "          [-0.7725, -0.6078, -0.4196,  ..., -0.9451, -0.9765, -1.0000]]],\n",
                        "\n",
                        "\n",
                        "        [[[-1.0000, -1.0000, -1.0000,  ..., -1.0000, -0.8980, -0.6000],\n",
                        "          [-1.0000, -1.0000, -1.0000,  ..., -0.8902, -0.7569, -0.7647],\n",
                        "          [-1.0000, -1.0000, -1.0000,  ..., -0.3098, -0.5059, -0.3098],\n",
                        "          ...,\n",
                        "          [-0.7255, -0.6235, -0.5059,  ..., -0.3882, -0.5059, -0.6078],\n",
                        "          [-0.7255, -0.6235, -0.5059,  ..., -0.3804, -0.4902, -0.5843],\n",
                        "          [-0.7176, -0.6157, -0.4824,  ..., -0.3412, -0.4510, -0.5529]],\n",
                        "\n",
                        "         [[-1.0000, -1.0000, -1.0000,  ..., -1.0000, -0.8980, -0.6000],\n",
                        "          [-1.0000, -1.0000, -1.0000,  ..., -0.8902, -0.7569, -0.7647],\n",
                        "          [-1.0000, -1.0000, -1.0000,  ..., -0.3098, -0.5059, -0.3098],\n",
                        "          ...,\n",
                        "          [-0.7255, -0.6235, -0.5059,  ..., -0.3882, -0.5059, -0.6078],\n",
                        "          [-0.7255, -0.6235, -0.5059,  ..., -0.3804, -0.4902, -0.5843],\n",
                        "          [-0.7176, -0.6157, -0.4824,  ..., -0.3412, -0.4510, -0.5529]],\n",
                        "\n",
                        "         [[-1.0000, -1.0000, -1.0000,  ..., -1.0000, -0.8980, -0.6000],\n",
                        "          [-1.0000, -1.0000, -1.0000,  ..., -0.8902, -0.7569, -0.7647],\n",
                        "          [-1.0000, -1.0000, -1.0000,  ..., -0.3098, -0.5059, -0.3098],\n",
                        "          ...,\n",
                        "          [-0.7255, -0.6235, -0.5059,  ..., -0.3882, -0.5059, -0.6078],\n",
                        "          [-0.7255, -0.6235, -0.5059,  ..., -0.3804, -0.4902, -0.5843],\n",
                        "          [-0.7176, -0.6157, -0.4824,  ..., -0.3412, -0.4510, -0.5529]]],\n",
                        "\n",
                        "\n",
                        "        [[[-0.1843, -0.4118, -0.4118,  ..., -0.9137, -0.9137, -0.9137],\n",
                        "          [-0.5686, -0.4667, -0.3804,  ..., -0.7098, -0.6235, -0.5765],\n",
                        "          [-0.6549, -0.5216, -0.3490,  ..., -0.4902, -0.5059, -0.4196],\n",
                        "          ...,\n",
                        "          [ 0.2941,  0.3412,  0.3882,  ..., -0.9529, -0.9451, -0.9373],\n",
                        "          [ 0.2706,  0.3020,  0.3804,  ..., -0.9451, -0.9451, -0.9373],\n",
                        "          [ 0.2471,  0.2863,  0.3490,  ..., -0.9451, -0.9373, -0.9294]],\n",
                        "\n",
                        "         [[-0.1843, -0.4118, -0.4118,  ..., -0.9137, -0.9137, -0.9137],\n",
                        "          [-0.5686, -0.4667, -0.3804,  ..., -0.7098, -0.6235, -0.5765],\n",
                        "          [-0.6549, -0.5216, -0.3490,  ..., -0.4902, -0.5059, -0.4196],\n",
                        "          ...,\n",
                        "          [ 0.2941,  0.3412,  0.3882,  ..., -0.9529, -0.9451, -0.9373],\n",
                        "          [ 0.2706,  0.3020,  0.3804,  ..., -0.9451, -0.9451, -0.9373],\n",
                        "          [ 0.2471,  0.2863,  0.3490,  ..., -0.9451, -0.9373, -0.9294]],\n",
                        "\n",
                        "         [[-0.1843, -0.4118, -0.4118,  ..., -0.9137, -0.9137, -0.9137],\n",
                        "          [-0.5686, -0.4667, -0.3804,  ..., -0.7098, -0.6235, -0.5765],\n",
                        "          [-0.6549, -0.5216, -0.3490,  ..., -0.4902, -0.5059, -0.4196],\n",
                        "          ...,\n",
                        "          [ 0.2941,  0.3412,  0.3882,  ..., -0.9529, -0.9451, -0.9373],\n",
                        "          [ 0.2706,  0.3020,  0.3804,  ..., -0.9451, -0.9451, -0.9373],\n",
                        "          [ 0.2471,  0.2863,  0.3490,  ..., -0.9451, -0.9373, -0.9294]]],\n",
                        "\n",
                        "\n",
                        "        [[[-1.0000, -1.0000, -1.0000,  ..., -0.9922, -0.9373, -0.9765],\n",
                        "          [-1.0000, -1.0000, -1.0000,  ..., -0.7804, -0.3412, -0.4039],\n",
                        "          [-1.0000, -1.0000, -1.0000,  ..., -0.4824, -0.2157, -0.4431],\n",
                        "          ...,\n",
                        "          [-0.7725, -0.8118, -0.8118,  ...,  0.1216,  0.1059,  0.0745],\n",
                        "          [-0.7882, -0.8196, -0.8353,  ...,  0.1765,  0.1137,  0.0745],\n",
                        "          [-0.7961, -0.8196, -0.8510,  ...,  0.2314,  0.0902,  0.0510]],\n",
                        "\n",
                        "         [[-1.0000, -1.0000, -1.0000,  ..., -0.9922, -0.9373, -0.9765],\n",
                        "          [-1.0000, -1.0000, -1.0000,  ..., -0.7804, -0.3412, -0.4039],\n",
                        "          [-1.0000, -1.0000, -1.0000,  ..., -0.4824, -0.2157, -0.4431],\n",
                        "          ...,\n",
                        "          [-0.7725, -0.8118, -0.8118,  ...,  0.1216,  0.1059,  0.0745],\n",
                        "          [-0.7882, -0.8196, -0.8353,  ...,  0.1765,  0.1137,  0.0745],\n",
                        "          [-0.7961, -0.8196, -0.8510,  ...,  0.2314,  0.0902,  0.0510]],\n",
                        "\n",
                        "         [[-1.0000, -1.0000, -1.0000,  ..., -0.9922, -0.9373, -0.9765],\n",
                        "          [-1.0000, -1.0000, -1.0000,  ..., -0.7804, -0.3412, -0.4039],\n",
                        "          [-1.0000, -1.0000, -1.0000,  ..., -0.4824, -0.2157, -0.4431],\n",
                        "          ...,\n",
                        "          [-0.7725, -0.8118, -0.8118,  ...,  0.1216,  0.1059,  0.0745],\n",
                        "          [-0.7882, -0.8196, -0.8353,  ...,  0.1765,  0.1137,  0.0745],\n",
                        "          [-0.7961, -0.8196, -0.8510,  ...,  0.2314,  0.0902,  0.0510]]]],\n",
                        "       device='cuda:0'), 'label_ids': tensor([[ 101, 2229,  185,  ...,    0,    0,    0],\n",
                        "        [ 101, 2229, 6188,  ...,    0,    0,    0],\n",
                        "        [ 101, 2229,  170,  ...,    0,    0,    0],\n",
                        "        [ 101, 2229,  170,  ...,    0,    0,    0]], device='cuda:0')}\n",
                        "{'names': ['NLP_CHEST_083', 'NLP_CHEST_068', 'NLP_CHEST_009', 'NLP_CHEST_094'], 'pixel_values': tensor([[[[-0.8431, -0.7725, -0.7569,  ..., -0.9529, -0.9137, -0.9373],\n",
                        "          [-0.9529, -0.9451, -0.9137,  ..., -0.6863, -0.3647, -0.3882],\n",
                        "          [-0.9608, -0.9608, -0.9373,  ..., -0.3412, -0.2157, -0.4196],\n",
                        "          ...,\n",
                        "          [-0.9373, -0.9216, -0.9216,  ..., -1.0000, -0.9843, -1.0000],\n",
                        "          [-0.9373, -0.9216, -0.9294,  ..., -0.9922, -0.9765, -0.9373],\n",
                        "          [-0.9373, -0.9137, -0.9294,  ..., -0.9922, -0.9137, -0.3725]],\n",
                        "\n",
                        "         [[-0.8431, -0.7725, -0.7569,  ..., -0.9529, -0.9137, -0.9373],\n",
                        "          [-0.9529, -0.9451, -0.9137,  ..., -0.6863, -0.3647, -0.3882],\n",
                        "          [-0.9608, -0.9608, -0.9373,  ..., -0.3412, -0.2157, -0.4196],\n",
                        "          ...,\n",
                        "          [-0.9373, -0.9216, -0.9216,  ..., -1.0000, -0.9843, -1.0000],\n",
                        "          [-0.9373, -0.9216, -0.9294,  ..., -0.9922, -0.9765, -0.9373],\n",
                        "          [-0.9373, -0.9137, -0.9294,  ..., -0.9922, -0.9137, -0.3725]],\n",
                        "\n",
                        "         [[-0.8431, -0.7725, -0.7569,  ..., -0.9529, -0.9137, -0.9373],\n",
                        "          [-0.9529, -0.9451, -0.9137,  ..., -0.6863, -0.3647, -0.3882],\n",
                        "          [-0.9608, -0.9608, -0.9373,  ..., -0.3412, -0.2157, -0.4196],\n",
                        "          ...,\n",
                        "          [-0.9373, -0.9216, -0.9216,  ..., -1.0000, -0.9843, -1.0000],\n",
                        "          [-0.9373, -0.9216, -0.9294,  ..., -0.9922, -0.9765, -0.9373],\n",
                        "          [-0.9373, -0.9137, -0.9294,  ..., -0.9922, -0.9137, -0.3725]]],\n",
                        "\n",
                        "\n",
                        "        [[[-0.9686, -0.9686, -0.9686,  ..., -0.9765, -0.8824, -0.6000],\n",
                        "          [-0.9686, -0.9686, -0.9686,  ..., -0.8745, -0.7412, -0.7490],\n",
                        "          [-0.9686, -0.9686, -0.9686,  ..., -0.3020, -0.4902, -0.3020],\n",
                        "          ...,\n",
                        "          [-1.0000, -1.0000, -1.0000,  ..., -1.0000, -1.0000, -1.0000],\n",
                        "          [-1.0000, -1.0000, -1.0000,  ..., -1.0000, -1.0000, -1.0000],\n",
                        "          [-1.0000, -1.0000, -0.9922,  ..., -1.0000, -1.0000, -1.0000]],\n",
                        "\n",
                        "         [[-0.9686, -0.9686, -0.9686,  ..., -0.9765, -0.8824, -0.6000],\n",
                        "          [-0.9686, -0.9686, -0.9686,  ..., -0.8745, -0.7412, -0.7490],\n",
                        "          [-0.9686, -0.9686, -0.9686,  ..., -0.3020, -0.4902, -0.3020],\n",
                        "          ...,\n",
                        "          [-1.0000, -1.0000, -1.0000,  ..., -1.0000, -1.0000, -1.0000],\n",
                        "          [-1.0000, -1.0000, -1.0000,  ..., -1.0000, -1.0000, -1.0000],\n",
                        "          [-1.0000, -1.0000, -0.9922,  ..., -1.0000, -1.0000, -1.0000]],\n",
                        "\n",
                        "         [[-0.9686, -0.9686, -0.9686,  ..., -0.9765, -0.8824, -0.6000],\n",
                        "          [-0.9686, -0.9686, -0.9686,  ..., -0.8745, -0.7412, -0.7490],\n",
                        "          [-0.9686, -0.9686, -0.9686,  ..., -0.3020, -0.4902, -0.3020],\n",
                        "          ...,\n",
                        "          [-1.0000, -1.0000, -1.0000,  ..., -1.0000, -1.0000, -1.0000],\n",
                        "          [-1.0000, -1.0000, -1.0000,  ..., -1.0000, -1.0000, -1.0000],\n",
                        "          [-1.0000, -1.0000, -0.9922,  ..., -1.0000, -1.0000, -1.0000]]],\n",
                        "\n",
                        "\n",
                        "        [[[-0.9922, -0.9922, -0.9922,  ..., -0.9922, -0.9922, -0.9922],\n",
                        "          [-0.9922, -0.9922, -0.9922,  ..., -0.8824, -0.7569, -0.8196],\n",
                        "          [-0.9922, -0.9922, -0.9922,  ..., -0.3020, -0.5059, -0.3020],\n",
                        "          ...,\n",
                        "          [-0.4039, -0.2549, -0.1529,  ..., -0.9294, -0.8902, -0.8667],\n",
                        "          [-0.3804, -0.2627, -0.1608,  ..., -0.9137, -0.8588, -0.7961],\n",
                        "          [-0.3725, -0.2863, -0.1922,  ..., -0.9137, -0.7412, -0.2627]],\n",
                        "\n",
                        "         [[-0.9922, -0.9922, -0.9922,  ..., -0.9922, -0.9922, -0.9922],\n",
                        "          [-0.9922, -0.9922, -0.9922,  ..., -0.8824, -0.7569, -0.8196],\n",
                        "          [-0.9922, -0.9922, -0.9922,  ..., -0.3020, -0.5059, -0.3020],\n",
                        "          ...,\n",
                        "          [-0.4039, -0.2549, -0.1529,  ..., -0.9294, -0.8902, -0.8667],\n",
                        "          [-0.3804, -0.2627, -0.1608,  ..., -0.9137, -0.8588, -0.7961],\n",
                        "          [-0.3725, -0.2863, -0.1922,  ..., -0.9137, -0.7412, -0.2627]],\n",
                        "\n",
                        "         [[-0.9922, -0.9922, -0.9922,  ..., -0.9922, -0.9922, -0.9922],\n",
                        "          [-0.9922, -0.9922, -0.9922,  ..., -0.8824, -0.7569, -0.8196],\n",
                        "          [-0.9922, -0.9922, -0.9922,  ..., -0.3020, -0.5059, -0.3020],\n",
                        "          ...,\n",
                        "          [-0.4039, -0.2549, -0.1529,  ..., -0.9294, -0.8902, -0.8667],\n",
                        "          [-0.3804, -0.2627, -0.1608,  ..., -0.9137, -0.8588, -0.7961],\n",
                        "          [-0.3725, -0.2863, -0.1922,  ..., -0.9137, -0.7412, -0.2627]]],\n",
                        "\n",
                        "\n",
                        "        [[[-0.0510, -0.1451, -0.1608,  ..., -0.8353, -0.8275, -0.8588],\n",
                        "          [-0.2314, -0.2078, -0.2157,  ..., -0.7020, -0.2863, -0.3333],\n",
                        "          [-0.3098, -0.2784, -0.2784,  ..., -0.3804, -0.1608, -0.3804],\n",
                        "          ...,\n",
                        "          [-0.5373, -0.4118, -0.3569,  ..., -0.8980, -0.9922, -1.0000],\n",
                        "          [-0.5608, -0.4510, -0.3725,  ..., -0.9059, -0.9922, -1.0000],\n",
                        "          [-0.5843, -0.4980, -0.3882,  ..., -0.8980, -0.9922, -1.0000]],\n",
                        "\n",
                        "         [[-0.0510, -0.1451, -0.1608,  ..., -0.8353, -0.8275, -0.8588],\n",
                        "          [-0.2314, -0.2078, -0.2157,  ..., -0.7020, -0.2863, -0.3333],\n",
                        "          [-0.3098, -0.2784, -0.2784,  ..., -0.3804, -0.1608, -0.3804],\n",
                        "          ...,\n",
                        "          [-0.5373, -0.4118, -0.3569,  ..., -0.8980, -0.9922, -1.0000],\n",
                        "          [-0.5608, -0.4510, -0.3725,  ..., -0.9059, -0.9922, -1.0000],\n",
                        "          [-0.5843, -0.4980, -0.3882,  ..., -0.8980, -0.9922, -1.0000]],\n",
                        "\n",
                        "         [[-0.0510, -0.1451, -0.1608,  ..., -0.8353, -0.8275, -0.8588],\n",
                        "          [-0.2314, -0.2078, -0.2157,  ..., -0.7020, -0.2863, -0.3333],\n",
                        "          [-0.3098, -0.2784, -0.2784,  ..., -0.3804, -0.1608, -0.3804],\n",
                        "          ...,\n",
                        "          [-0.5373, -0.4118, -0.3569,  ..., -0.8980, -0.9922, -1.0000],\n",
                        "          [-0.5608, -0.4510, -0.3725,  ..., -0.9059, -0.9922, -1.0000],\n",
                        "          [-0.5843, -0.4980, -0.3882,  ..., -0.8980, -0.9922, -1.0000]]]],\n",
                        "       device='cuda:0'), 'label_ids': tensor([[ 101, 2229,  170,  ...,    0,    0,    0],\n",
                        "        [ 101, 2229, 6188,  ...,    0,    0,    0],\n",
                        "        [ 101, 2229,  170,  ...,    0,    0,    0],\n",
                        "        [ 101, 2229, 6188,  ...,    0,    0,    0]], device='cuda:0')}\n",
                        "{'names': ['NLP_CHEST_079', 'NLP_CHEST_040', 'NLP_CHEST_050', 'NLP_CHEST_005'], 'pixel_values': tensor([[[[-0.9922, -0.9922, -1.0000,  ..., -0.9529, -0.9137, -0.9373],\n",
                        "          [-0.9843, -0.9922, -0.9922,  ..., -0.7490, -0.3176, -0.3882],\n",
                        "          [-0.9843, -0.9843, -0.9843,  ..., -0.4745, -0.2000, -0.3725],\n",
                        "          ...,\n",
                        "          [-0.9843, -0.9922, -0.9922,  ..., -0.9843, -0.9843, -1.0000],\n",
                        "          [-0.9059, -0.9765, -1.0000,  ..., -0.9686, -0.9843, -1.0000],\n",
                        "          [-0.2941, -0.8588, -1.0000,  ..., -0.9608, -0.9843, -0.9922]],\n",
                        "\n",
                        "         [[-0.9922, -0.9922, -1.0000,  ..., -0.9529, -0.9137, -0.9373],\n",
                        "          [-0.9843, -0.9922, -0.9922,  ..., -0.7490, -0.3176, -0.3882],\n",
                        "          [-0.9843, -0.9843, -0.9843,  ..., -0.4745, -0.2000, -0.3725],\n",
                        "          ...,\n",
                        "          [-0.9843, -0.9922, -0.9922,  ..., -0.9843, -0.9843, -1.0000],\n",
                        "          [-0.9059, -0.9765, -1.0000,  ..., -0.9686, -0.9843, -1.0000],\n",
                        "          [-0.2941, -0.8588, -1.0000,  ..., -0.9608, -0.9843, -0.9922]],\n",
                        "\n",
                        "         [[-0.9922, -0.9922, -1.0000,  ..., -0.9529, -0.9137, -0.9373],\n",
                        "          [-0.9843, -0.9922, -0.9922,  ..., -0.7490, -0.3176, -0.3882],\n",
                        "          [-0.9843, -0.9843, -0.9843,  ..., -0.4745, -0.2000, -0.3725],\n",
                        "          ...,\n",
                        "          [-0.9843, -0.9922, -0.9922,  ..., -0.9843, -0.9843, -1.0000],\n",
                        "          [-0.9059, -0.9765, -1.0000,  ..., -0.9686, -0.9843, -1.0000],\n",
                        "          [-0.2941, -0.8588, -1.0000,  ..., -0.9608, -0.9843, -0.9922]]],\n",
                        "\n",
                        "\n",
                        "        [[[-0.7176, -0.7098, -0.7098,  ..., -0.7882, -0.7882, -0.7804],\n",
                        "          [-0.7412, -0.7412, -0.7412,  ..., -0.6157, -0.5294, -0.4902],\n",
                        "          [-0.7725, -0.7725, -0.7725,  ..., -0.4353, -0.4431, -0.3647],\n",
                        "          ...,\n",
                        "          [-0.9843, -0.9294, -0.8196,  ...,  0.4980,  0.4667,  0.4667],\n",
                        "          [-0.9843, -0.9216, -0.8196,  ...,  0.5216,  0.4745,  0.4353],\n",
                        "          [-0.9843, -0.9137, -0.7961,  ...,  0.5451,  0.4431,  0.1922]],\n",
                        "\n",
                        "         [[-0.7176, -0.7098, -0.7098,  ..., -0.7882, -0.7882, -0.7804],\n",
                        "          [-0.7412, -0.7412, -0.7412,  ..., -0.6157, -0.5294, -0.4902],\n",
                        "          [-0.7725, -0.7725, -0.7725,  ..., -0.4353, -0.4431, -0.3647],\n",
                        "          ...,\n",
                        "          [-0.9843, -0.9294, -0.8196,  ...,  0.4980,  0.4667,  0.4667],\n",
                        "          [-0.9843, -0.9216, -0.8196,  ...,  0.5216,  0.4745,  0.4353],\n",
                        "          [-0.9843, -0.9137, -0.7961,  ...,  0.5451,  0.4431,  0.1922]],\n",
                        "\n",
                        "         [[-0.7176, -0.7098, -0.7098,  ..., -0.7882, -0.7882, -0.7804],\n",
                        "          [-0.7412, -0.7412, -0.7412,  ..., -0.6157, -0.5294, -0.4902],\n",
                        "          [-0.7725, -0.7725, -0.7725,  ..., -0.4353, -0.4431, -0.3647],\n",
                        "          ...,\n",
                        "          [-0.9843, -0.9294, -0.8196,  ...,  0.4980,  0.4667,  0.4667],\n",
                        "          [-0.9843, -0.9216, -0.8196,  ...,  0.5216,  0.4745,  0.4353],\n",
                        "          [-0.9843, -0.9137, -0.7961,  ...,  0.5451,  0.4431,  0.1922]]],\n",
                        "\n",
                        "\n",
                        "        [[[-0.9608, -0.9608, -0.9608,  ..., -0.7961, -0.7569, -0.7569],\n",
                        "          [-0.9529, -0.9608, -0.9608,  ..., -0.6157, -0.3412, -0.3333],\n",
                        "          [-0.9529, -0.9608, -0.9608,  ..., -0.3333, -0.2314, -0.3804],\n",
                        "          ...,\n",
                        "          [-1.0000, -1.0000, -1.0000,  ..., -0.9608, -0.9608, -0.9608],\n",
                        "          [-0.9294, -0.9922, -1.0000,  ..., -0.9529, -0.9608, -0.9686],\n",
                        "          [-0.3725, -0.9373, -1.0000,  ..., -0.9608, -0.9608, -0.9686]],\n",
                        "\n",
                        "         [[-0.9608, -0.9608, -0.9608,  ..., -0.7961, -0.7569, -0.7569],\n",
                        "          [-0.9529, -0.9608, -0.9608,  ..., -0.6157, -0.3412, -0.3333],\n",
                        "          [-0.9529, -0.9608, -0.9608,  ..., -0.3333, -0.2314, -0.3804],\n",
                        "          ...,\n",
                        "          [-1.0000, -1.0000, -1.0000,  ..., -0.9608, -0.9608, -0.9608],\n",
                        "          [-0.9294, -0.9922, -1.0000,  ..., -0.9529, -0.9608, -0.9686],\n",
                        "          [-0.3725, -0.9373, -1.0000,  ..., -0.9608, -0.9608, -0.9686]],\n",
                        "\n",
                        "         [[-0.9608, -0.9608, -0.9608,  ..., -0.7961, -0.7569, -0.7569],\n",
                        "          [-0.9529, -0.9608, -0.9608,  ..., -0.6157, -0.3412, -0.3333],\n",
                        "          [-0.9529, -0.9608, -0.9608,  ..., -0.3333, -0.2314, -0.3804],\n",
                        "          ...,\n",
                        "          [-1.0000, -1.0000, -1.0000,  ..., -0.9608, -0.9608, -0.9608],\n",
                        "          [-0.9294, -0.9922, -1.0000,  ..., -0.9529, -0.9608, -0.9686],\n",
                        "          [-0.3725, -0.9373, -1.0000,  ..., -0.9608, -0.9608, -0.9686]]],\n",
                        "\n",
                        "\n",
                        "        [[[-0.9686, -0.9686, -0.9686,  ..., -0.9686, -0.9373, -0.9529],\n",
                        "          [-0.9686, -0.9608, -0.9608,  ..., -0.6784, -0.3961, -0.4039],\n",
                        "          [-0.9686, -0.9608, -0.9608,  ..., -0.3412, -0.2471, -0.3882],\n",
                        "          ...,\n",
                        "          [-0.9373, -0.9373, -0.9451,  ..., -0.7647, -0.8824, -0.9608],\n",
                        "          [-0.8745, -0.9373, -0.9451,  ..., -0.7647, -0.8745, -0.9608],\n",
                        "          [-0.3490, -0.8824, -0.9451,  ..., -0.7569, -0.8745, -0.9608]],\n",
                        "\n",
                        "         [[-0.9686, -0.9686, -0.9686,  ..., -0.9686, -0.9373, -0.9529],\n",
                        "          [-0.9686, -0.9608, -0.9608,  ..., -0.6784, -0.3961, -0.4039],\n",
                        "          [-0.9686, -0.9608, -0.9608,  ..., -0.3412, -0.2471, -0.3882],\n",
                        "          ...,\n",
                        "          [-0.9373, -0.9373, -0.9451,  ..., -0.7647, -0.8824, -0.9608],\n",
                        "          [-0.8745, -0.9373, -0.9451,  ..., -0.7647, -0.8745, -0.9608],\n",
                        "          [-0.3490, -0.8824, -0.9451,  ..., -0.7569, -0.8745, -0.9608]],\n",
                        "\n",
                        "         [[-0.9686, -0.9686, -0.9686,  ..., -0.9686, -0.9373, -0.9529],\n",
                        "          [-0.9686, -0.9608, -0.9608,  ..., -0.6784, -0.3961, -0.4039],\n",
                        "          [-0.9686, -0.9608, -0.9608,  ..., -0.3412, -0.2471, -0.3882],\n",
                        "          ...,\n",
                        "          [-0.9373, -0.9373, -0.9451,  ..., -0.7647, -0.8824, -0.9608],\n",
                        "          [-0.8745, -0.9373, -0.9451,  ..., -0.7647, -0.8745, -0.9608],\n",
                        "          [-0.3490, -0.8824, -0.9451,  ..., -0.7569, -0.8745, -0.9608]]]],\n",
                        "       device='cuda:0'), 'label_ids': tensor([[ 101, 2229,  170,  ...,    0,    0,    0],\n",
                        "        [ 101, 2229, 6188,  ...,    0,    0,    0],\n",
                        "        [ 101, 2229,  185,  ...,    0,    0,    0],\n",
                        "        [ 101, 2229,  185,  ...,    0,    0,    0]], device='cuda:0')}\n",
                        "{'names': ['NLP_CHEST_087'], 'pixel_values': tensor([[[[-0.3412, -0.8275, -0.8824,  ...,  0.0196,  0.0510,  0.0431],\n",
                        "          [-0.8431, -0.8745, -0.8902,  ...,  0.1451,  0.2784,  0.2784],\n",
                        "          [-0.9059, -0.8980, -0.9137,  ...,  0.2235,  0.2627,  0.1451],\n",
                        "          ...,\n",
                        "          [-0.4431, -0.3255, -0.2706,  ...,  0.3725,  0.3882,  0.3882],\n",
                        "          [-0.4275, -0.3255, -0.2627,  ...,  0.4196,  0.4275,  0.4353],\n",
                        "          [-0.4275, -0.3176, -0.2392,  ...,  0.4118,  0.4824,  0.5216]],\n",
                        "\n",
                        "         [[-0.3412, -0.8275, -0.8824,  ...,  0.0196,  0.0510,  0.0431],\n",
                        "          [-0.8431, -0.8745, -0.8902,  ...,  0.1451,  0.2784,  0.2784],\n",
                        "          [-0.9059, -0.8980, -0.9137,  ...,  0.2235,  0.2627,  0.1451],\n",
                        "          ...,\n",
                        "          [-0.4431, -0.3255, -0.2706,  ...,  0.3725,  0.3882,  0.3882],\n",
                        "          [-0.4275, -0.3255, -0.2627,  ...,  0.4196,  0.4275,  0.4353],\n",
                        "          [-0.4275, -0.3176, -0.2392,  ...,  0.4118,  0.4824,  0.5216]],\n",
                        "\n",
                        "         [[-0.3412, -0.8275, -0.8824,  ...,  0.0196,  0.0510,  0.0431],\n",
                        "          [-0.8431, -0.8745, -0.8902,  ...,  0.1451,  0.2784,  0.2784],\n",
                        "          [-0.9059, -0.8980, -0.9137,  ...,  0.2235,  0.2627,  0.1451],\n",
                        "          ...,\n",
                        "          [-0.4431, -0.3255, -0.2706,  ...,  0.3725,  0.3882,  0.3882],\n",
                        "          [-0.4275, -0.3255, -0.2627,  ...,  0.4196,  0.4275,  0.4353],\n",
                        "          [-0.4275, -0.3176, -0.2392,  ...,  0.4118,  0.4824,  0.5216]]]],\n",
                        "       device='cuda:0'), 'label_ids': tensor([[  101,  2229,   170,  1643,  2458,  2799,   131,   122,   119, 12089,\n",
                        "          1762,  2060,  1114,  1106,  3740,  8163,   170, 12148,  1161,   119,\n",
                        "           123,   119,   170,   181,   112,   189, 16361, 13093,  1353,  3476,\n",
                        "           119,   124,   119,  1185,  2394,  2050,  1394,  1818, 19852,   119,\n",
                        "           125,   119,   188,   120,   185,  1322,  3329, 19366, 13836,  1233,\n",
                        "          7159,  1105, 21174,  1107, 25098,  1891,   119,   188,   120,   185,\n",
                        "           187,   112,   189,   179,  9610,  5552,   172,  1964,  1643,   119,\n",
                        "           102,     0,     0,     0,     0,     0,     0,     0,     0,     0,\n",
                        "             0,     0,     0,     0,     0,     0,     0,     0,     0,     0,\n",
                        "             0,     0,     0,     0,     0,     0,     0,     0,     0,     0,\n",
                        "             0,     0,     0,     0,     0,     0,     0,     0,     0,     0,\n",
                        "             0,     0,     0,     0,     0,     0,     0,     0,     0,     0,\n",
                        "             0,     0,     0,     0,     0,     0,     0,     0,     0,     0,\n",
                        "             0,     0,     0,     0,     0,     0,     0,     0,     0,     0,\n",
                        "             0,     0,     0,     0,     0,     0,     0,     0,     0,     0,\n",
                        "             0,     0,     0,     0,     0,     0,     0,     0,     0,     0,\n",
                        "             0,     0,     0,     0,     0,     0,     0,     0,     0,     0,\n",
                        "             0,     0,     0,     0,     0,     0,     0,     0,     0,     0,\n",
                        "             0,     0,     0,     0,     0,     0,     0,     0,     0,     0,\n",
                        "             0,     0,     0,     0,     0,     0,     0,     0,     0,     0,\n",
                        "             0,     0,     0,     0,     0,     0,     0,     0,     0,     0,\n",
                        "             0,     0,     0,     0,     0,     0,     0,     0,     0,     0,\n",
                        "             0,     0,     0,     0,     0,     0,     0,     0,     0,     0,\n",
                        "             0,     0,     0,     0,     0,     0,     0,     0,     0,     0,\n",
                        "             0,     0,     0,     0,     0,     0,     0,     0,     0,     0,\n",
                        "             0,     0,     0,     0,     0,     0]], device='cuda:0')}\n"
                    ]
                }
            ],
            "source": [
                "report_path = \"CXIRG_Data/train_data/reports.xlsx\"\n",
                "report_df = pd.read_excel(report_path)\n",
                "\n",
                "image_dir_path = \"CXIRG_Data/train_data/images\"\n",
                "\n",
                "train_data = []\n",
                "\n",
                "for image_name in os.listdir(image_dir_path):\n",
                "    image_path = os.path.join(image_dir_path, image_name)\n",
                "    \n",
                "    with Image.open(image_path) as img:\n",
                "        if img.mode != \"RGB\":\n",
                "            img = img.convert(\"RGB\")\n",
                "        text = report_df[report_df[\"name\"] == image_name[:13]][\"text\"].values[0].replace(\"_x000D_\", \"\\r\")\n",
                "\n",
                "        train_data.append({\n",
                "            \"name\": image_name[:13],\n",
                "            \"image\": img,\n",
                "            \"text\": text\n",
                "        })\n",
                "\n",
                "\n",
                "train_dataset = CXIRGDataset(train_data)\n",
                "\n",
                "train_dataloader = DataLoader(train_dataset, batch_size=4, shuffle=True, collate_fn=train_dl_collate_fn)\n",
                "\n",
                "for batch in train_dataloader:\n",
                "    print(batch)"
            ]
        },
        {
            "cell_type": "code",
            "execution_count": 8,
            "metadata": {},
            "outputs": [
                {
                    "name": "stdout",
                    "output_type": "stream",
                    "text": [
                        "{'names': ['NLP_CHEST_002', 'NLP_CHEST_004', 'NLP_CHEST_011', 'NLP_CHEST_015'], 'pixel_values': tensor([[[[-0.4980, -0.4824, -0.4745,  ..., -0.7255, -0.6549, -0.5059],\n",
                        "          [-0.3961, -0.3961, -0.3882,  ..., -0.7333, -0.7255, -0.6863],\n",
                        "          [-0.3882, -0.3882, -0.3882,  ..., -0.7412, -0.7333, -0.7255],\n",
                        "          ...,\n",
                        "          [-0.6863, -0.6863, -0.7020,  ..., -1.0000, -0.9922, -0.9922],\n",
                        "          [-0.6784, -0.6941, -0.7020,  ..., -1.0000, -0.9922, -0.9922],\n",
                        "          [-0.6706, -0.6784, -0.6863,  ..., -1.0000, -0.9922, -0.9922]],\n",
                        "\n",
                        "         [[-0.4980, -0.4824, -0.4745,  ..., -0.7255, -0.6549, -0.5059],\n",
                        "          [-0.3961, -0.3961, -0.3882,  ..., -0.7333, -0.7255, -0.6863],\n",
                        "          [-0.3882, -0.3882, -0.3882,  ..., -0.7412, -0.7333, -0.7255],\n",
                        "          ...,\n",
                        "          [-0.6863, -0.6863, -0.7020,  ..., -1.0000, -0.9922, -0.9922],\n",
                        "          [-0.6784, -0.6941, -0.7020,  ..., -1.0000, -0.9922, -0.9922],\n",
                        "          [-0.6706, -0.6784, -0.6863,  ..., -1.0000, -0.9922, -0.9922]],\n",
                        "\n",
                        "         [[-0.4980, -0.4824, -0.4745,  ..., -0.7255, -0.6549, -0.5059],\n",
                        "          [-0.3961, -0.3961, -0.3882,  ..., -0.7333, -0.7255, -0.6863],\n",
                        "          [-0.3882, -0.3882, -0.3882,  ..., -0.7412, -0.7333, -0.7255],\n",
                        "          ...,\n",
                        "          [-0.6863, -0.6863, -0.7020,  ..., -1.0000, -0.9922, -0.9922],\n",
                        "          [-0.6784, -0.6941, -0.7020,  ..., -1.0000, -0.9922, -0.9922],\n",
                        "          [-0.6706, -0.6784, -0.6863,  ..., -1.0000, -0.9922, -0.9922]]],\n",
                        "\n",
                        "\n",
                        "        [[[-0.3412, -0.8588, -0.9216,  ..., -0.8902, -0.8510, -0.8745],\n",
                        "          [-0.8667, -0.9137, -0.9216,  ..., -0.6392, -0.3255, -0.3412],\n",
                        "          [-0.9294, -0.9216, -0.9216,  ..., -0.3020, -0.1765, -0.3804],\n",
                        "          ...,\n",
                        "          [-0.9059, -0.9294, -0.9294,  ..., -0.8275, -0.9922, -1.0000],\n",
                        "          [-0.8824, -0.9294, -0.9294,  ..., -0.7412, -0.9686, -1.0000],\n",
                        "          [-0.8667, -0.9294, -0.9294,  ..., -0.6235, -0.9137, -1.0000]],\n",
                        "\n",
                        "         [[-0.3412, -0.8588, -0.9216,  ..., -0.8902, -0.8510, -0.8745],\n",
                        "          [-0.8667, -0.9137, -0.9216,  ..., -0.6392, -0.3255, -0.3412],\n",
                        "          [-0.9294, -0.9216, -0.9216,  ..., -0.3020, -0.1765, -0.3804],\n",
                        "          ...,\n",
                        "          [-0.9059, -0.9294, -0.9294,  ..., -0.8275, -0.9922, -1.0000],\n",
                        "          [-0.8824, -0.9294, -0.9294,  ..., -0.7412, -0.9686, -1.0000],\n",
                        "          [-0.8667, -0.9294, -0.9294,  ..., -0.6235, -0.9137, -1.0000]],\n",
                        "\n",
                        "         [[-0.3412, -0.8588, -0.9216,  ..., -0.8902, -0.8510, -0.8745],\n",
                        "          [-0.8667, -0.9137, -0.9216,  ..., -0.6392, -0.3255, -0.3412],\n",
                        "          [-0.9294, -0.9216, -0.9216,  ..., -0.3020, -0.1765, -0.3804],\n",
                        "          ...,\n",
                        "          [-0.9059, -0.9294, -0.9294,  ..., -0.8275, -0.9922, -1.0000],\n",
                        "          [-0.8824, -0.9294, -0.9294,  ..., -0.7412, -0.9686, -1.0000],\n",
                        "          [-0.8667, -0.9294, -0.9294,  ..., -0.6235, -0.9137, -1.0000]]],\n",
                        "\n",
                        "\n",
                        "        [[[-1.0000, -1.0000, -1.0000,  ..., -0.9373, -0.8980, -0.9137],\n",
                        "          [-1.0000, -1.0000, -1.0000,  ..., -0.6784, -0.3569, -0.3725],\n",
                        "          [-1.0000, -1.0000, -1.0000,  ..., -0.3333, -0.2078, -0.4118],\n",
                        "          ...,\n",
                        "          [-1.0000, -1.0000, -1.0000,  ..., -0.9529, -1.0000, -1.0000],\n",
                        "          [-1.0000, -1.0000, -1.0000,  ..., -0.9922, -0.9922, -0.9373],\n",
                        "          [-1.0000, -1.0000, -1.0000,  ..., -1.0000, -0.9294, -0.3725]],\n",
                        "\n",
                        "         [[-1.0000, -1.0000, -1.0000,  ..., -0.9373, -0.8980, -0.9137],\n",
                        "          [-1.0000, -1.0000, -1.0000,  ..., -0.6784, -0.3569, -0.3725],\n",
                        "          [-1.0000, -1.0000, -1.0000,  ..., -0.3333, -0.2078, -0.4118],\n",
                        "          ...,\n",
                        "          [-1.0000, -1.0000, -1.0000,  ..., -0.9529, -1.0000, -1.0000],\n",
                        "          [-1.0000, -1.0000, -1.0000,  ..., -0.9922, -0.9922, -0.9373],\n",
                        "          [-1.0000, -1.0000, -1.0000,  ..., -1.0000, -0.9294, -0.3725]],\n",
                        "\n",
                        "         [[-1.0000, -1.0000, -1.0000,  ..., -0.9373, -0.8980, -0.9137],\n",
                        "          [-1.0000, -1.0000, -1.0000,  ..., -0.6784, -0.3569, -0.3725],\n",
                        "          [-1.0000, -1.0000, -1.0000,  ..., -0.3333, -0.2078, -0.4118],\n",
                        "          ...,\n",
                        "          [-1.0000, -1.0000, -1.0000,  ..., -0.9529, -1.0000, -1.0000],\n",
                        "          [-1.0000, -1.0000, -1.0000,  ..., -0.9922, -0.9922, -0.9373],\n",
                        "          [-1.0000, -1.0000, -1.0000,  ..., -1.0000, -0.9294, -0.3725]]],\n",
                        "\n",
                        "\n",
                        "        [[[-0.8510, -0.8510, -0.8588,  ..., -0.8431, -0.7882, -0.5686],\n",
                        "          [-0.8588, -0.8588, -0.8588,  ..., -0.8431, -0.8353, -0.7961],\n",
                        "          [-0.8588, -0.8588, -0.8588,  ..., -0.8431, -0.8431, -0.8431],\n",
                        "          ...,\n",
                        "          [-1.0000, -0.9922, -0.8667,  ..., -1.0000, -1.0000, -1.0000],\n",
                        "          [-1.0000, -0.9922, -0.8824,  ..., -1.0000, -1.0000, -1.0000],\n",
                        "          [-1.0000, -0.9922, -0.8824,  ..., -1.0000, -1.0000, -1.0000]],\n",
                        "\n",
                        "         [[-0.8510, -0.8510, -0.8588,  ..., -0.8431, -0.7882, -0.5686],\n",
                        "          [-0.8588, -0.8588, -0.8588,  ..., -0.8431, -0.8353, -0.7961],\n",
                        "          [-0.8588, -0.8588, -0.8588,  ..., -0.8431, -0.8431, -0.8431],\n",
                        "          ...,\n",
                        "          [-1.0000, -0.9922, -0.8667,  ..., -1.0000, -1.0000, -1.0000],\n",
                        "          [-1.0000, -0.9922, -0.8824,  ..., -1.0000, -1.0000, -1.0000],\n",
                        "          [-1.0000, -0.9922, -0.8824,  ..., -1.0000, -1.0000, -1.0000]],\n",
                        "\n",
                        "         [[-0.8510, -0.8510, -0.8588,  ..., -0.8431, -0.7882, -0.5686],\n",
                        "          [-0.8588, -0.8588, -0.8588,  ..., -0.8431, -0.8353, -0.7961],\n",
                        "          [-0.8588, -0.8588, -0.8588,  ..., -0.8431, -0.8431, -0.8431],\n",
                        "          ...,\n",
                        "          [-1.0000, -0.9922, -0.8667,  ..., -1.0000, -1.0000, -1.0000],\n",
                        "          [-1.0000, -0.9922, -0.8824,  ..., -1.0000, -1.0000, -1.0000],\n",
                        "          [-1.0000, -0.9922, -0.8824,  ..., -1.0000, -1.0000, -1.0000]]]],\n",
                        "       device='cuda:0'), 'label_ids': tensor([[ 101, 2229,  185,  ...,    0,    0,    0],\n",
                        "        [ 101, 2229,  185,  ...,    0,    0,    0],\n",
                        "        [ 101, 2229,  170,  ...,    0,    0,    0],\n",
                        "        [ 101, 2229,  193,  ...,    0,    0,    0]], device='cuda:0')}\n",
                        "{'names': ['NLP_CHEST_027', 'NLP_CHEST_031', 'NLP_CHEST_057', 'NLP_CHEST_059'], 'pixel_values': tensor([[[[-0.7255, -0.7255, -0.7255,  ..., -0.6784, -0.6784, -0.6863],\n",
                        "          [-0.7490, -0.7569, -0.7569,  ..., -0.5451, -0.4667, -0.4275],\n",
                        "          [-0.7725, -0.7804, -0.7882,  ..., -0.3961, -0.4039, -0.3255],\n",
                        "          ...,\n",
                        "          [ 0.0431,  0.0353,  0.0431,  ..., -0.9765, -0.9373, -0.8118],\n",
                        "          [ 0.0902,  0.0980,  0.1059,  ..., -0.9765, -0.9294, -0.7569],\n",
                        "          [ 0.1843,  0.1529,  0.1373,  ..., -0.9529, -0.8039, -0.2471]],\n",
                        "\n",
                        "         [[-0.7255, -0.7255, -0.7255,  ..., -0.6784, -0.6784, -0.6863],\n",
                        "          [-0.7490, -0.7569, -0.7569,  ..., -0.5451, -0.4667, -0.4275],\n",
                        "          [-0.7725, -0.7804, -0.7882,  ..., -0.3961, -0.4039, -0.3255],\n",
                        "          ...,\n",
                        "          [ 0.0431,  0.0353,  0.0431,  ..., -0.9765, -0.9373, -0.8118],\n",
                        "          [ 0.0902,  0.0980,  0.1059,  ..., -0.9765, -0.9294, -0.7569],\n",
                        "          [ 0.1843,  0.1529,  0.1373,  ..., -0.9529, -0.8039, -0.2471]],\n",
                        "\n",
                        "         [[-0.7255, -0.7255, -0.7255,  ..., -0.6784, -0.6784, -0.6863],\n",
                        "          [-0.7490, -0.7569, -0.7569,  ..., -0.5451, -0.4667, -0.4275],\n",
                        "          [-0.7725, -0.7804, -0.7882,  ..., -0.3961, -0.4039, -0.3255],\n",
                        "          ...,\n",
                        "          [ 0.0431,  0.0353,  0.0431,  ..., -0.9765, -0.9373, -0.8118],\n",
                        "          [ 0.0902,  0.0980,  0.1059,  ..., -0.9765, -0.9294, -0.7569],\n",
                        "          [ 0.1843,  0.1529,  0.1373,  ..., -0.9529, -0.8039, -0.2471]]],\n",
                        "\n",
                        "\n",
                        "        [[[-0.9608, -0.9608, -0.9608,  ..., -0.7961, -0.7569, -0.7569],\n",
                        "          [-0.9529, -0.9608, -0.9608,  ..., -0.6157, -0.3412, -0.3333],\n",
                        "          [-0.9529, -0.9608, -0.9608,  ..., -0.3333, -0.2314, -0.3804],\n",
                        "          ...,\n",
                        "          [-1.0000, -1.0000, -1.0000,  ..., -0.9608, -0.9608, -0.9608],\n",
                        "          [-0.9294, -0.9922, -1.0000,  ..., -0.9529, -0.9608, -0.9686],\n",
                        "          [-0.3725, -0.9373, -1.0000,  ..., -0.9608, -0.9608, -0.9686]],\n",
                        "\n",
                        "         [[-0.9608, -0.9608, -0.9608,  ..., -0.7961, -0.7569, -0.7569],\n",
                        "          [-0.9529, -0.9608, -0.9608,  ..., -0.6157, -0.3412, -0.3333],\n",
                        "          [-0.9529, -0.9608, -0.9608,  ..., -0.3333, -0.2314, -0.3804],\n",
                        "          ...,\n",
                        "          [-1.0000, -1.0000, -1.0000,  ..., -0.9608, -0.9608, -0.9608],\n",
                        "          [-0.9294, -0.9922, -1.0000,  ..., -0.9529, -0.9608, -0.9686],\n",
                        "          [-0.3725, -0.9373, -1.0000,  ..., -0.9608, -0.9608, -0.9686]],\n",
                        "\n",
                        "         [[-0.9608, -0.9608, -0.9608,  ..., -0.7961, -0.7569, -0.7569],\n",
                        "          [-0.9529, -0.9608, -0.9608,  ..., -0.6157, -0.3412, -0.3333],\n",
                        "          [-0.9529, -0.9608, -0.9608,  ..., -0.3333, -0.2314, -0.3804],\n",
                        "          ...,\n",
                        "          [-1.0000, -1.0000, -1.0000,  ..., -0.9608, -0.9608, -0.9608],\n",
                        "          [-0.9294, -0.9922, -1.0000,  ..., -0.9529, -0.9608, -0.9686],\n",
                        "          [-0.3725, -0.9373, -1.0000,  ..., -0.9608, -0.9608, -0.9686]]],\n",
                        "\n",
                        "\n",
                        "        [[[-0.9294, -0.9294, -0.9294,  ..., -0.9294, -0.8902, -0.9059],\n",
                        "          [-0.9529, -0.9529, -0.9608,  ..., -0.6706, -0.3569, -0.3647],\n",
                        "          [-0.9608, -0.9608, -0.9608,  ..., -0.3255, -0.2000, -0.4039],\n",
                        "          ...,\n",
                        "          [ 0.1608,  0.1059,  0.0196,  ..., -0.0510,  0.0196,  0.0510],\n",
                        "          [ 0.1373,  0.0824,  0.0275,  ..., -0.0588,  0.0275,  0.0980],\n",
                        "          [ 0.1686,  0.0902,  0.0353,  ..., -0.0353,  0.0118,  0.0588]],\n",
                        "\n",
                        "         [[-0.9294, -0.9294, -0.9294,  ..., -0.9294, -0.8902, -0.9059],\n",
                        "          [-0.9529, -0.9529, -0.9608,  ..., -0.6706, -0.3569, -0.3647],\n",
                        "          [-0.9608, -0.9608, -0.9608,  ..., -0.3255, -0.2000, -0.4039],\n",
                        "          ...,\n",
                        "          [ 0.1608,  0.1059,  0.0196,  ..., -0.0510,  0.0196,  0.0510],\n",
                        "          [ 0.1373,  0.0824,  0.0275,  ..., -0.0588,  0.0275,  0.0980],\n",
                        "          [ 0.1686,  0.0902,  0.0353,  ..., -0.0353,  0.0118,  0.0588]],\n",
                        "\n",
                        "         [[-0.9294, -0.9294, -0.9294,  ..., -0.9294, -0.8902, -0.9059],\n",
                        "          [-0.9529, -0.9529, -0.9608,  ..., -0.6706, -0.3569, -0.3647],\n",
                        "          [-0.9608, -0.9608, -0.9608,  ..., -0.3255, -0.2000, -0.4039],\n",
                        "          ...,\n",
                        "          [ 0.1608,  0.1059,  0.0196,  ..., -0.0510,  0.0196,  0.0510],\n",
                        "          [ 0.1373,  0.0824,  0.0275,  ..., -0.0588,  0.0275,  0.0980],\n",
                        "          [ 0.1686,  0.0902,  0.0353,  ..., -0.0353,  0.0118,  0.0588]]],\n",
                        "\n",
                        "\n",
                        "        [[[-0.8118, -0.8118, -0.8196,  ..., -0.7725, -0.7725, -0.7725],\n",
                        "          [-0.8118, -0.8118, -0.8196,  ..., -0.6706, -0.5843, -0.6235],\n",
                        "          [-0.8196, -0.8196, -0.8196,  ..., -0.1608, -0.1294, -0.2078],\n",
                        "          ...,\n",
                        "          [-0.8353, -0.8431, -0.8510,  ..., -0.7882, -0.7882, -0.7882],\n",
                        "          [-0.8431, -0.8275, -0.8353,  ..., -0.7804, -0.7804, -0.7255],\n",
                        "          [-0.8039, -0.7804, -0.7961,  ..., -0.7882, -0.6706, -0.2314]],\n",
                        "\n",
                        "         [[-0.8118, -0.8118, -0.8196,  ..., -0.7725, -0.7725, -0.7725],\n",
                        "          [-0.8118, -0.8118, -0.8196,  ..., -0.6706, -0.5843, -0.6235],\n",
                        "          [-0.8196, -0.8196, -0.8196,  ..., -0.1608, -0.1294, -0.2078],\n",
                        "          ...,\n",
                        "          [-0.8353, -0.8431, -0.8510,  ..., -0.7882, -0.7882, -0.7882],\n",
                        "          [-0.8431, -0.8275, -0.8353,  ..., -0.7804, -0.7804, -0.7255],\n",
                        "          [-0.8039, -0.7804, -0.7961,  ..., -0.7882, -0.6706, -0.2314]],\n",
                        "\n",
                        "         [[-0.8118, -0.8118, -0.8196,  ..., -0.7725, -0.7725, -0.7725],\n",
                        "          [-0.8118, -0.8118, -0.8196,  ..., -0.6706, -0.5843, -0.6235],\n",
                        "          [-0.8196, -0.8196, -0.8196,  ..., -0.1608, -0.1294, -0.2078],\n",
                        "          ...,\n",
                        "          [-0.8353, -0.8431, -0.8510,  ..., -0.7882, -0.7882, -0.7882],\n",
                        "          [-0.8431, -0.8275, -0.8353,  ..., -0.7804, -0.7804, -0.7255],\n",
                        "          [-0.8039, -0.7804, -0.7961,  ..., -0.7882, -0.6706, -0.2314]]]],\n",
                        "       device='cuda:0'), 'label_ids': tensor([[  101,  2229,   185,  ...,     0,     0,     0],\n",
                        "        [  101,  2229,   185,  ...,     0,     0,     0],\n",
                        "        [  101,  2229,  6188,  ...,     0,     0,     0],\n",
                        "        [  101, 28117, 18351,  ...,     0,     0,     0]], device='cuda:0')}\n",
                        "{'names': ['NLP_CHEST_071', 'NLP_CHEST_085'], 'pixel_values': tensor([[[[-0.3412, -0.8431, -0.9137,  ..., -0.9294, -0.8980, -0.9137],\n",
                        "          [-0.8510, -0.8980, -0.9059,  ..., -0.6784, -0.3569, -0.3725],\n",
                        "          [-0.9137, -0.9059, -0.9137,  ..., -0.3333, -0.2078, -0.4118],\n",
                        "          ...,\n",
                        "          [-0.8980, -0.8980, -0.9059,  ..., -0.9608, -0.9373, -0.8667],\n",
                        "          [-0.8902, -0.8902, -0.8980,  ..., -0.9608, -0.9451, -0.8745],\n",
                        "          [-0.8902, -0.8902, -0.8980,  ..., -0.9608, -0.9451, -0.8902]],\n",
                        "\n",
                        "         [[-0.3412, -0.8431, -0.9137,  ..., -0.9294, -0.8980, -0.9137],\n",
                        "          [-0.8510, -0.8980, -0.9059,  ..., -0.6784, -0.3569, -0.3725],\n",
                        "          [-0.9137, -0.9059, -0.9137,  ..., -0.3333, -0.2078, -0.4118],\n",
                        "          ...,\n",
                        "          [-0.8980, -0.8980, -0.9059,  ..., -0.9608, -0.9373, -0.8667],\n",
                        "          [-0.8902, -0.8902, -0.8980,  ..., -0.9608, -0.9451, -0.8745],\n",
                        "          [-0.8902, -0.8902, -0.8980,  ..., -0.9608, -0.9451, -0.8902]],\n",
                        "\n",
                        "         [[-0.3412, -0.8431, -0.9137,  ..., -0.9294, -0.8980, -0.9137],\n",
                        "          [-0.8510, -0.8980, -0.9059,  ..., -0.6784, -0.3569, -0.3725],\n",
                        "          [-0.9137, -0.9059, -0.9137,  ..., -0.3333, -0.2078, -0.4118],\n",
                        "          ...,\n",
                        "          [-0.8980, -0.8980, -0.9059,  ..., -0.9608, -0.9373, -0.8667],\n",
                        "          [-0.8902, -0.8902, -0.8980,  ..., -0.9608, -0.9451, -0.8745],\n",
                        "          [-0.8902, -0.8902, -0.8980,  ..., -0.9608, -0.9451, -0.8902]]],\n",
                        "\n",
                        "\n",
                        "        [[[-0.7020, -0.7020, -0.7020,  ..., -0.7412, -0.6706, -0.5137],\n",
                        "          [-0.7098, -0.7098, -0.7098,  ..., -0.7412, -0.7333, -0.7020],\n",
                        "          [-0.7098, -0.7098, -0.7098,  ..., -0.7490, -0.7490, -0.7490],\n",
                        "          ...,\n",
                        "          [-0.8118, -0.7882, -0.7569,  ..., -0.8275, -0.8667, -0.9137],\n",
                        "          [-0.8039, -0.7804, -0.7647,  ..., -0.8275, -0.8588, -0.9137],\n",
                        "          [-0.7725, -0.7569, -0.7725,  ..., -0.8353, -0.8431, -0.9059]],\n",
                        "\n",
                        "         [[-0.7020, -0.7020, -0.7020,  ..., -0.7412, -0.6706, -0.5137],\n",
                        "          [-0.7098, -0.7098, -0.7098,  ..., -0.7412, -0.7333, -0.7020],\n",
                        "          [-0.7098, -0.7098, -0.7098,  ..., -0.7490, -0.7490, -0.7490],\n",
                        "          ...,\n",
                        "          [-0.8118, -0.7882, -0.7569,  ..., -0.8275, -0.8667, -0.9137],\n",
                        "          [-0.8039, -0.7804, -0.7647,  ..., -0.8275, -0.8588, -0.9137],\n",
                        "          [-0.7725, -0.7569, -0.7725,  ..., -0.8353, -0.8431, -0.9059]],\n",
                        "\n",
                        "         [[-0.7020, -0.7020, -0.7020,  ..., -0.7412, -0.6706, -0.5137],\n",
                        "          [-0.7098, -0.7098, -0.7098,  ..., -0.7412, -0.7333, -0.7020],\n",
                        "          [-0.7098, -0.7098, -0.7098,  ..., -0.7490, -0.7490, -0.7490],\n",
                        "          ...,\n",
                        "          [-0.8118, -0.7882, -0.7569,  ..., -0.8275, -0.8667, -0.9137],\n",
                        "          [-0.8039, -0.7804, -0.7647,  ..., -0.8275, -0.8588, -0.9137],\n",
                        "          [-0.7725, -0.7569, -0.7725,  ..., -0.8353, -0.8431, -0.9059]]]],\n",
                        "       device='cuda:0'), 'label_ids': tensor([[  101,  2229,  1273,  2196,   131,  8351,   131,   118, 20557, 13093,\n",
                        "          1107,  8702, 21875,  1116,   119,   118,  8095,  1268,  2211, 13093,\n",
                        "         10085,   119, 20294,  1158,  1268,   172,  1643,  6341,   119,   118,\n",
                        "          1106,  3740,  8163,  1120,  4679,  2155, 10536, 10595,  1596,   170,\n",
                        "         12148,  1161,   119,   118,   188,  2528,  9436,  4863,   117,   173,\n",
                        "          3361,  1181,  1105,   184, 13894,  4184, 14824,  4863,  1104,  8340,\n",
                        "           119, 14928, 22869,  1104,   189, 11964,   119,  1385, 22869,  1104,\n",
                        "          1286, 10346,   119,   118,   188,   120,   185,  8239,  1891,  1107,\n",
                        "           181,   118,  8340,   119,   118,   188,   120,   185,   189, 19366,\n",
                        "          4638, 15540, 18574,  1105, 21174,  7159,   119,   102,     0,     0,\n",
                        "             0,     0,     0,     0,     0,     0,     0,     0,     0,     0,\n",
                        "             0,     0,     0,     0,     0,     0,     0,     0,     0,     0,\n",
                        "             0,     0,     0,     0,     0,     0,     0,     0,     0,     0,\n",
                        "             0,     0,     0,     0,     0,     0,     0,     0,     0,     0,\n",
                        "             0,     0,     0,     0,     0,     0,     0,     0,     0,     0,\n",
                        "             0,     0,     0,     0,     0,     0,     0,     0,     0,     0,\n",
                        "             0,     0,     0,     0,     0,     0,     0,     0,     0,     0,\n",
                        "             0,     0,     0,     0,     0,     0,     0,     0,     0,     0,\n",
                        "             0,     0,     0,     0,     0,     0,     0,     0,     0,     0,\n",
                        "             0,     0,     0,     0,     0,     0,     0,     0,     0,     0,\n",
                        "             0,     0,     0,     0,     0,     0,     0,     0,     0,     0,\n",
                        "             0,     0,     0,     0,     0,     0,     0,     0,     0,     0,\n",
                        "             0,     0,     0,     0,     0,     0,     0,     0,     0,     0,\n",
                        "             0,     0,     0,     0,     0,     0,     0,     0,     0,     0,\n",
                        "             0,     0,     0,     0,     0,     0,     0,     0,     0,     0,\n",
                        "             0,     0,     0,     0,     0,     0],\n",
                        "        [  101,  2229,   193,  7586,   131,   118,  1268,   185,  1673,  1818,\n",
                        "         12858, 25632,  1114,   185,  1513, 12602,   174,  3101, 17268,   117,\n",
                        "          2781,  2112, 13734,  2176,  7159, 12693,   119,   118,  4154,  4841,\n",
                        "         12734, 13064,  9712, 22192,  2217,  1918,  1121,  2455,  1106,  1268,\n",
                        "          1334, 24438,  6533,  6617,  1665, 10096,   119,   118,  2569,  1268,\n",
                        "         20844,  5815, 11769, 19905,   119,   118,  1120,  4679,  2155, 10536,\n",
                        "         21556,  1105,  1106,  3740,  8163,   170, 12148,  1161,   119,   118,\n",
                        "         26771, 20557,  2616,  4184, 22165,  1596, 12879,   119,   118,   188,\n",
                        "          5674, 22600,  8867,  1548,  1105, 10496,   188,  2528,  9436,  4863,\n",
                        "          1104, 24438,  6533,  2528,  7776,  6824,  8340,   119,   118,   184,\n",
                        "          1161,  1104,  1268,   176,  7836, 10559, 15447,  4412,  4091,   119,\n",
                        "           118, 22214,   184, 13894, 15622,  5813,   119,   102,     0,     0,\n",
                        "             0,     0,     0,     0,     0,     0,     0,     0,     0,     0,\n",
                        "             0,     0,     0,     0,     0,     0,     0,     0,     0,     0,\n",
                        "             0,     0,     0,     0,     0,     0,     0,     0,     0,     0,\n",
                        "             0,     0,     0,     0,     0,     0,     0,     0,     0,     0,\n",
                        "             0,     0,     0,     0,     0,     0,     0,     0,     0,     0,\n",
                        "             0,     0,     0,     0,     0,     0,     0,     0,     0,     0,\n",
                        "             0,     0,     0,     0,     0,     0,     0,     0,     0,     0,\n",
                        "             0,     0,     0,     0,     0,     0,     0,     0,     0,     0,\n",
                        "             0,     0,     0,     0,     0,     0,     0,     0,     0,     0,\n",
                        "             0,     0,     0,     0,     0,     0,     0,     0,     0,     0,\n",
                        "             0,     0,     0,     0,     0,     0,     0,     0,     0,     0,\n",
                        "             0,     0,     0,     0,     0,     0,     0,     0,     0,     0,\n",
                        "             0,     0,     0,     0,     0,     0,     0,     0,     0,     0,\n",
                        "             0,     0,     0,     0,     0,     0]], device='cuda:0')}\n"
                    ]
                }
            ],
            "source": [
                "report_path = \"CXIRG_Data/valid_data/reports.xlsx\"\n",
                "report_df = pd.read_excel(report_path)\n",
                "\n",
                "image_dir_path = \"CXIRG_Data/valid_data/images\"\n",
                "\n",
                "valid_data = []\n",
                "\n",
                "\n",
                "for image_name in os.listdir(image_dir_path):\n",
                "    image_path = os.path.join(image_dir_path, image_name)\n",
                "    \n",
                "    with Image.open(image_path) as img:\n",
                "        if img.mode != \"RGB\":\n",
                "            img = img.convert(\"RGB\")\n",
                "\n",
                "        text = report_df[report_df[\"name\"] == image_name[:13]][\"text\"].values[0].replace(\"_x000D_\", \"\\r\")\n",
                "\n",
                "        valid_data.append({\n",
                "            \"name\": image_name[:13],\n",
                "            \"image\": img,\n",
                "            \"text\": text\n",
                "        })\n",
                "\n",
                "valid_dataset = CXIRGDataset(valid_data)\n",
                "\n",
                "valid_dataloader = DataLoader(valid_dataset, batch_size=4, shuffle=False, collate_fn=valid_dl_collate_fn)\n",
                "\n",
                "for batch in valid_dataloader:\n",
                "    print(batch)"
            ]
        },
        {
            "cell_type": "markdown",
            "metadata": {},
            "source": [
                "## Set The Hyperparameters & Initialize The Optimizer, Dataloaders and Evaluation Metric"
            ]
        },
        {
            "cell_type": "code",
            "execution_count": 9,
            "metadata": {},
            "outputs": [],
            "source": [
                "lr = 3e-5\n",
                "epochs = 50\n",
                "optimizer = AdamW(params=model.parameters(), lr=lr)\n",
                "\n",
                "train_batch_size = 1\n",
                "valid_batch_size = 1\n",
                "train_dataloader = DataLoader(\n",
                "    dataset=train_dataset,\n",
                "    batch_size=train_batch_size,\n",
                "    shuffle=True,\n",
                "    collate_fn=train_dl_collate_fn\n",
                ")\n",
                "valid_dataloader = DataLoader(\n",
                "    dataset=valid_dataset,\n",
                "    batch_size=valid_batch_size,\n",
                "    shuffle=False,\n",
                "    collate_fn=valid_dl_collate_fn\n",
                ")\n",
                "\n",
                "rouge = Rouge(variants=[\"L\", 2], multiref=\"best\")"
            ]
        },
        {
            "cell_type": "markdown",
            "metadata": {},
            "source": [
                "## The Evaluation Function"
            ]
        },
        {
            "cell_type": "code",
            "execution_count": 10,
            "metadata": {},
            "outputs": [],
            "source": [
                "def evaluate(model: VisionEncoderDecoderModel, epoch: int) -> Dict[str, float]:\n",
                "    model.eval()\n",
                "    pbar = tqdm(valid_dataloader)\n",
                "    pbar.set_description(f\"Evaluating Epoch: {epoch + 1}\")\n",
                "\n",
                "    with torch.no_grad():\n",
                "        for batch in pbar:\n",
                "            names = batch[\"names\"]\n",
                "            pixel_values = batch[\"pixel_values\"]\n",
                "            label_ids = batch[\"label_ids\"]\n",
                "\n",
                "            predictions = model.generate(\n",
                "                pixel_values, \n",
                "                decoder_start_token_id=model.config.decoder_start_token_id,\n",
                "                max_length=256,\n",
                "                #num_beams=4,     \n",
                "                #early_stopping=True\n",
                "            )\n",
                "\n",
                "            _predictions = tokenizer.batch_decode(predictions, skip_special_tokens=True)\n",
                "            _labels = tokenizer.batch_decode(label_ids, skip_special_tokens=True)\n",
                "\n",
                "            print(f\"Names      : {names}\")\n",
                "            print(f\"Predictions: {_predictions}\")\n",
                "            print(f\"Labels     : {_labels}\")\n",
                "            print()\n",
                "\n",
                "            for _prediction, _label in zip(_predictions, _labels):\n",
                "                split_prediction = _prediction.split()\n",
                "                split_label = _label.split()\n",
                "\n",
                "                rouge.update(([split_prediction], [[split_label]]))\n",
                "\n",
                "    return rouge.compute()\n",
                "\n",
                "def eval(model: VisionEncoderDecoderModel) -> Dict[str, float]:\n",
                "    model.eval()\n",
                "    pbar = tqdm(valid_dataloader)\n",
                "    pbar.set_description(f\"Evaluating: \")\n",
                "\n",
                "    with torch.no_grad():\n",
                "        for batch in pbar:\n",
                "            names = batch[\"names\"]\n",
                "            pixel_values = batch[\"pixel_values\"]\n",
                "            label_ids = batch[\"label_ids\"]\n",
                "\n",
                "            predictions = model.generate(\n",
                "                pixel_values, \n",
                "                decoder_start_token_id=model.config.decoder_start_token_id,\n",
                "                max_length=256,\n",
                "                #num_beams=4,     \n",
                "                #early_stopping=True\n",
                "            )\n",
                "\n",
                "            _predictions = tokenizer.batch_decode(predictions, skip_special_tokens=True)\n",
                "            _labels = tokenizer.batch_decode(label_ids, skip_special_tokens=True)\n",
                "\n",
                "            print(f\"Names      : {names}\")\n",
                "            print(f\"Predictions: {_predictions}\")\n",
                "            print(f\"Labels     : {_labels}\")\n",
                "            print()\n",
                "\n",
                "            for _prediction, _label in zip(_predictions, _labels):\n",
                "                split_prediction = _prediction.split()\n",
                "                split_label = _label.split()\n",
                "\n",
                "                rouge.update(([split_prediction], [[split_label]]))\n",
                "\n",
                "    return rouge.compute()"
            ]
        },
        {
            "cell_type": "code",
            "execution_count": 11,
            "metadata": {},
            "outputs": [
                {
                    "name": "stdout",
                    "output_type": "stream",
                    "text": [
                        "cuda\n"
                    ]
                }
            ],
            "source": [
                "device = \"cuda\" if torch.cuda.is_available() else \"cpu\"\n",
                "print(device)"
            ]
        },
        {
            "cell_type": "code",
            "execution_count": 12,
            "metadata": {},
            "outputs": [
                {
                    "name": "stderr",
                    "output_type": "stream",
                    "text": [
                        "Training Epoch [1 / 50]:   0%|          | 0/89 [00:00<?, ?it/s]c:\\Users\\kartg\\anaconda3\\envs\\myenv\\lib\\site-packages\\transformers\\models\\vit\\modeling_vit.py:253: UserWarning: 1Torch was not compiled with flash attention. (Triggered internally at C:\\actions-runner\\_work\\pytorch\\pytorch\\builder\\windows\\pytorch\\aten\\src\\ATen\\native\\transformers\\cuda\\sdp_utils.cpp:455.)\n",
                        "  context_layer = torch.nn.functional.scaled_dot_product_attention(\n",
                        "We strongly recommend passing in an `attention_mask` since your input_ids may be padded. See https://huggingface.co/docs/transformers/troubleshooting#incorrect-output-when-padding-tokens-arent-masked.\n",
                        "Training Epoch [1 / 50]: 100%|██████████| 89/89 [00:14<00:00,  6.00it/s, loss=1.82]\n",
                        "Evaluating: :  10%|█         | 1/10 [00:02<00:20,  2.30s/it]"
                    ]
                },
                {
                    "name": "stdout",
                    "output_type": "stream",
                    "text": [
                        "Names      : ['NLP_CHEST_002']\n",
                        "Predictions: ['chest pa view : impression : : impression : - mild mild bilateral lungeningeningening. - s / p rt ptjjjjjjjjjjjjjjjjjjjjjjjjjjjjjjjjjjjjjjjjjjjjjjjjjjjjjjjjjjjjjjjjjjjjjjjjjjjjjjjjjjjjjjjjjjjjjjjjjjjjjjjjjjjjjjjjjjjjjjjjjjjjjjjjjjjjjjjjjjjjjjjjjjjjjjjjjjjjjjjjjjjjjjjjjjjjjjjjjjjjjjjjjjjjjjjjjjjjjjjjjjjjjjjjjjjjjjjjjjjjjjjjjjjj']\n",
                        "Labels     : ['chest pa view shows : partial atelectasis at left lower lung field. left pleural effusion. borderline heart size. atherosclerotic change of aortic knob. s / p port - a implantation via left subclavian vein. intraperitoneal port catheter. surgical clips at ruq of abdomen.']\n",
                        "\n"
                    ]
                },
                {
                    "name": "stderr",
                    "output_type": "stream",
                    "text": [
                        "Evaluating: :  20%|██        | 2/10 [00:04<00:18,  2.35s/it]"
                    ]
                },
                {
                    "name": "stdout",
                    "output_type": "stream",
                    "text": [
                        "Names      : ['NLP_CHEST_004']\n",
                        "Predictions: ['chest pa view : impression : : impression : - mild mild bilateral lungeningeningening. - s / p rt ptjjjjjjjjjjjjjjjjjjjjjjjjjjjjjjjjjjjjjjjjjjjjjjjjjjjjjjjjjjjjjjjjjjjjjjjjjjjjjjjjjjjjjjjjjjjjjjjjjjjjjjjjjjjjjjjjjjjjjjjjjjjjjjjjjjjjjjjjjjjjjjjjjjjjjjjjjjjjjjjjjjjjjjjjjjjjjjjjjjjjjjjjjjjjjjjjjjjjjjjjjjjjjjjjjjjjjjjjjjjjjjjjjjjj']\n",
                        "Labels     : ['chest pa view show : impression : - s / p rll wedge resection. - bilateral lungs metastasis. - left lower lung subsegmental atelectasis. - increased infiltrations in both lungs. - blunting right cp angle. - tortuous atherosclerotic aorta. - scoliosis, djd and osteoporosis of spine. - compression fracture of l1.']\n",
                        "\n"
                    ]
                },
                {
                    "name": "stderr",
                    "output_type": "stream",
                    "text": [
                        "Evaluating: :  30%|███       | 3/10 [00:06<00:16,  2.32s/it]"
                    ]
                },
                {
                    "name": "stdout",
                    "output_type": "stream",
                    "text": [
                        "Names      : ['NLP_CHEST_011']\n",
                        "Predictions: ['chest pa view : impression : : impression : - mild mild bilateral lungeningeningening. - s / p rt ptjjjjjjjjjjjjjjjjjjjjjjjjjjjjjjjjjjjjjjjjjjjjjjjjjjjjjjjjjjjjjjjjjjjjjjjjjjjjjjjjjjjjjjjjjjjjjjjjjjjjjjjjjjjjjjjjjjjjjjjjjjjjjjjjjjjjjjjjjjjjjjjjjjjjjjjjjjjjjjjjjjjjjjjjjjjjjjjjjjjjjjjjjjjjjjjjjjjjjjjjjjjjjjjjjjjjjjjjjjjjjjjjjjjj']\n",
                        "Labels     : [\"chest ap view showed : 1. s / p sternotomy and cabg. enlarged heart size with tortuous aorta. 2. r't middle and lower lung faint patches. l't lower lung consolidation. l't pleural effusion. 3. no mediastinum widening. 4. s / p endotracheal tube and ng intubation.\"]\n",
                        "\n"
                    ]
                },
                {
                    "name": "stderr",
                    "output_type": "stream",
                    "text": [
                        "Evaluating: :  40%|████      | 4/10 [00:09<00:13,  2.28s/it]"
                    ]
                },
                {
                    "name": "stdout",
                    "output_type": "stream",
                    "text": [
                        "Names      : ['NLP_CHEST_015']\n",
                        "Predictions: ['chest pa view : impression : : impression : - mild mild bilateral lungeningeningening. - s / p rt ptjjjjjjjjjjjjjjjjjjjjjjjjjjjjjjjjjjjjjjjjjjjjjjjjjjjjjjjjjjjjjjjjjjjjjjjjjjjjjjjjjjjjjjjjjjjjjjjjjjjjjjjjjjjjjjjjjjjjjjjjjjjjjjjjjjjjjjjjjjjjjjjjjjjjjjjjjjjjjjjjjjjjjjjjjjjjjjjjjjjjjjjjjjjjjjjjjjjjjjjjjjjjjjjjjjjjjjjjjjjjjjjjjjjj']\n",
                        "Labels     : ['chest x ray : - no obvious lung mass nor consolidation patch. - normal heart size. - no pleural effusion.']\n",
                        "\n"
                    ]
                },
                {
                    "name": "stderr",
                    "output_type": "stream",
                    "text": [
                        "Evaluating: :  50%|█████     | 5/10 [00:11<00:11,  2.24s/it]"
                    ]
                },
                {
                    "name": "stdout",
                    "output_type": "stream",
                    "text": [
                        "Names      : ['NLP_CHEST_027']\n",
                        "Predictions: ['chest pa view : impression : : impression : - mild mild bilateral lungeningeningening. - s / p rt ptjjjjjjjjjjjjjjjjjjjjjjjjjjjjjjjjjjjjjjjjjjjjjjjjjjjjjjjjjjjjjjjjjjjjjjjjjjjjjjjjjjjjjjjjjjjjjjjjjjjjjjjjjjjjjjjjjjjjjjjjjjjjjjjjjjjjjjjjjjjjjjjjjjjjjjjjjjjjjjjjjjjjjjjjjjjjjjjjjjjjjjjjjjjjjjjjjjjjjjjjjjjjjjjjjjjjjjjjjjjjjjjjjjjj']\n",
                        "Labels     : ['chest pa view : impression : > cardiomegaly with bilateral pulmonary congestion. > postinflammatory fibrosis in both upper lungs. > atherosclerosis of aorta. > old fractures of left 5th and 6th ribs. > r / o osteoporosis. > spondylosis of thoracolumbar spine. > s / p abdominal operation in ruq.']\n",
                        "\n"
                    ]
                },
                {
                    "name": "stderr",
                    "output_type": "stream",
                    "text": [
                        "Evaluating: :  60%|██████    | 6/10 [00:13<00:08,  2.24s/it]"
                    ]
                },
                {
                    "name": "stdout",
                    "output_type": "stream",
                    "text": [
                        "Names      : ['NLP_CHEST_031']\n",
                        "Predictions: ['chest pa view : impression : : impression : - mild mild bilateral lungeningeningening. - s / p rt ptjjjjjjjjjjjjjjjjjjjjjjjjjjjjjjjjjjjjjjjjjjjjjjjjjjjjjjjjjjjjjjjjjjjjjjjjjjjjjjjjjjjjjjjjjjjjjjjjjjjjjjjjjjjjjjjjjjjjjjjjjjjjjjjjjjjjjjjjjjjjjjjjjjjjjjjjjjjjjjjjjjjjjjjjjjjjjjjjjjjjjjjjjjjjjjjjjjjjjjjjjjjjjjjjjjjjjjjjjjjjjjjjjjjj']\n",
                        "Labels     : ['chest pa view : impression : - increased both lung markings. - compatible with right lung nodules. - fibrotic lesion in left upper lung. - normal heart size. atherosclerotic aorta. - suspect right pleural effusion. - spondylosis. r / o osteoporosis. - compatible with multiple bony metastases. - s / p ng and endotracheal tube. - s / p lt subclavian port - a - cath.']\n",
                        "\n"
                    ]
                },
                {
                    "name": "stderr",
                    "output_type": "stream",
                    "text": [
                        "Evaluating: :  70%|███████   | 7/10 [00:15<00:06,  2.22s/it]"
                    ]
                },
                {
                    "name": "stdout",
                    "output_type": "stream",
                    "text": [
                        "Names      : ['NLP_CHEST_057']\n",
                        "Predictions: ['chest pa view : impression : : impression : - mild mild bilateral lungeningeningening. - s / p rt ptjjjjjjjjjjjjjjjjjjjjjjjjjjjjjjjjjjjjjjjjjjjjjjjjjjjjjjjjjjjjjjjjjjjjjjjjjjjjjjjjjjjjjjjjjjjjjjjjjjjjjjjjjjjjjjjjjjjjjjjjjjjjjjjjjjjjjjjjjjjjjjjjjjjjjjjjjjjjjjjjjjjjjjjjjjjjjjjjjjjjjjjjjjjjjjjjjjjjjjjjjjjjjjjjjjjjjjjjjjjjjjjjjjjj']\n",
                        "Labels     : ['chest plain film shows : impression : - increased infiltrations in both lungs. - tortuous atherosclerotic dilated aorta. - normal heart size. - djd of spine. old fracture of right ribs. - increased both lung markings. s / p lt jugular cvc insertion. s / p ng and endotracheal tube. - susp. lt pneumothorax. suspect pneumomediastinum. subcutaneous emphysema in bilateral neck. - s / p bilateral chest tube insertion.']\n",
                        "\n"
                    ]
                },
                {
                    "name": "stderr",
                    "output_type": "stream",
                    "text": [
                        "Evaluating: :  80%|████████  | 8/10 [00:17<00:04,  2.18s/it]"
                    ]
                },
                {
                    "name": "stdout",
                    "output_type": "stream",
                    "text": [
                        "Names      : ['NLP_CHEST_059']\n",
                        "Predictions: ['chest pa view : impression : : impression : - mild mild bilateral lungeningeningening. - s / p rt ptjjjjjjjjjjjjjjjjjjjjjjjjjjjjjjjjjjjjjjjjjjjjjjjjjjjjjjjjjjjjjjjjjjjjjjjjjjjjjjjjjjjjjjjjjjjjjjjjjjjjjjjjjjjjjjjjjjjjjjjjjjjjjjjjjjjjjjjjjjjjjjjjjjjjjjjjjjjjjjjjjjjjjjjjjjjjjjjjjjjjjjjjjjjjjjjjjjjjjjjjjjjjjjjjjjjjjjjjjjjjjjjjjjjj']\n",
                        "Labels     : ['supine chest ap view shows : pigtail catheter at right lower chest. decreased amount of right pleural effusion. air in the right lower pleural space. poor lung expansion. mild subcutaneous emphysema at right chest wall. right pleural thickening. ill - defined masses at right perihilar region. normal heart size.']\n",
                        "\n"
                    ]
                },
                {
                    "name": "stderr",
                    "output_type": "stream",
                    "text": [
                        "Evaluating: :  90%|█████████ | 9/10 [00:20<00:02,  2.18s/it]"
                    ]
                },
                {
                    "name": "stdout",
                    "output_type": "stream",
                    "text": [
                        "Names      : ['NLP_CHEST_071']\n",
                        "Predictions: ['chest pa view : impression : : impression : - mild mild bilateral lungeningeningening. - s / p rt ptjjjjjjjjjjjjjjjjjjjjjjjjjjjjjjjjjjjjjjjjjjjjjjjjjjjjjjjjjjjjjjjjjjjjjjjjjjjjjjjjjjjjjjjjjjjjjjjjjjjjjjjjjjjjjjjjjjjjjjjjjjjjjjjjjjjjjjjjjjjjjjjjjjjjjjjjjjjjjjjjjjjjjjjjjjjjjjjjjjjjjjjjjjjjjjjjjjjjjjjjjjjjjjjjjjjjjjjjjjjjjjjjjjjj']\n",
                        "Labels     : ['chest film shows : impression : - bilateral lung infiltrations. - suspect right lower lung patch. blunting right cp angle. - tortuous atherosclerotic aorta. - scoliosis, djd and osteoporosis of spine. compression fracture of t12. old fracture of left ribs. - s / p fixation in l - spine. - s / p tracheostomy and ng tube.']\n",
                        "\n"
                    ]
                },
                {
                    "name": "stderr",
                    "output_type": "stream",
                    "text": [
                        "Evaluating: : 100%|██████████| 10/10 [00:22<00:00,  2.22s/it]\n"
                    ]
                },
                {
                    "name": "stdout",
                    "output_type": "stream",
                    "text": [
                        "Names      : ['NLP_CHEST_085']\n",
                        "Predictions: ['chest pa view : impression : : impression : - mild mild bilateral lungeningeningening. - s / p rt ptjjjjjjjjjjjjjjjjjjjjjjjjjjjjjjjjjjjjjjjjjjjjjjjjjjjjjjjjjjjjjjjjjjjjjjjjjjjjjjjjjjjjjjjjjjjjjjjjjjjjjjjjjjjjjjjjjjjjjjjjjjjjjjjjjjjjjjjjjjjjjjjjjjjjjjjjjjjjjjjjjjjjjjjjjjjjjjjjjjjjjjjjjjjjjjjjjjjjjjjjjjjjjjjjjjjjjjjjjjjjjjjjjjjj']\n",
                        "Labels     : ['chest x ray : - right pneumothorax with pleural effusion, status post drainge tube placement. - extensive subcutaneous emphysema from neck to right side thoracic cage. - increased right hilar opacity. - atherosclerosis and tortuous aorta. - obscured bilateral costophrenic angles. - spondylosis and mild scoliosis of thoracolumbar spine. - oa of right glenohumeral joint. - generalized osteopenia.']\n",
                        "\n",
                        "Rouge-2 score : {'Rouge-L-P': 0.39, 'Rouge-L-R': 0.1564584423923697, 'Rouge-L-F': 0.1564584423923697, 'Rouge-2-P': 0.23157894736842105, 'Rouge-2-R': 0.08465548108582163, 'Rouge-2-F': 0.08465548108582163}\n"
                    ]
                },
                {
                    "name": "stderr",
                    "output_type": "stream",
                    "text": [
                        "Training Epoch [2 / 50]: 100%|██████████| 89/89 [00:13<00:00,  6.49it/s, loss=0.747]\n",
                        "Evaluating: :  10%|█         | 1/10 [00:02<00:19,  2.20s/it]"
                    ]
                },
                {
                    "name": "stdout",
                    "output_type": "stream",
                    "text": [
                        "Names      : ['NLP_CHEST_002']\n",
                        "Predictions: ['chest plain film shows : impression : - increased infiltrations in both lungs. - atherosclerotic aorta. - atherosclerotic aorta. - atherosclerotic aorta. - atherosclerotic aorta. - scoliosis. - scoliosis of spine. - s / p ng and endotracheal tube. - s / p ng and endotracheal tube. - s / p ng and endotracheal tube. - s / p ng and endotracheal tube. - s / p ng and ng ng. - s / p ng insertion. - s / p ng insertion. - s / p ng insertion insertion. - s / p ng insertion insertion. - s / p ng insertion insertion. - s / p ng insertion insertion. - s / p ng and ng insertion insertion. - s / p ng insertion insertion. - scoliosis of of spine spine. - s / p ng and ng in intubation. - s / p ng insertion. - s / p ng intubation. - s / p ng tube insertion. - s / p ng tube insertion insertion.']\n",
                        "Labels     : ['chest pa view shows : partial atelectasis at left lower lung field. left pleural effusion. borderline heart size. atherosclerotic change of aortic knob. s / p port - a implantation via left subclavian vein. intraperitoneal port catheter. surgical clips at ruq of abdomen.']\n",
                        "\n"
                    ]
                },
                {
                    "name": "stderr",
                    "output_type": "stream",
                    "text": [
                        "Evaluating: :  20%|██        | 2/10 [00:04<00:17,  2.24s/it]"
                    ]
                },
                {
                    "name": "stdout",
                    "output_type": "stream",
                    "text": [
                        "Names      : ['NLP_CHEST_004']\n",
                        "Predictions: ['chest plain film shows : impression : - increased infiltrations in both lungs. - atherosclerotic aorta. - atherosclerotic aorta. - atherosclerotic aorta. - atherosclerotic aorta. - scoliosis. - scoliosis of spine. - s / p ng and endotracheal tube. - s / p ng and endotracheal tube. - s / p ng and endotracheal tube. - s / p ng and endotracheal tube. - s / p ng and ng ng. - s / p ng insertion. - s / p ng insertion. - s / p ng insertion insertion. - s / p ng insertion insertion. - s / p ng insertion insertion. - s / p ng insertion insertion. - s / p ng and ng insertion insertion. - s / p ng insertion insertion. - scoliosis of of spine spine. - s / p ng and ng in intubation. - s / p ng insertion. - s / p ng intubation. - s / p ng tube insertion. - s / p ng tube insertion insertion.']\n",
                        "Labels     : ['chest pa view show : impression : - s / p rll wedge resection. - bilateral lungs metastasis. - left lower lung subsegmental atelectasis. - increased infiltrations in both lungs. - blunting right cp angle. - tortuous atherosclerotic aorta. - scoliosis, djd and osteoporosis of spine. - compression fracture of l1.']\n",
                        "\n"
                    ]
                },
                {
                    "name": "stderr",
                    "output_type": "stream",
                    "text": [
                        "Evaluating: :  30%|███       | 3/10 [00:06<00:15,  2.24s/it]"
                    ]
                },
                {
                    "name": "stdout",
                    "output_type": "stream",
                    "text": [
                        "Names      : ['NLP_CHEST_011']\n",
                        "Predictions: ['chest plain film shows : impression : - increased infiltrations in both lungs. - atherosclerotic aorta. - atherosclerotic aorta. - atherosclerotic aorta. - atherosclerotic aorta. - scoliosis. - s / p ng and endotracheal tube. - s / p ng tube insertion. - s / p ng intubation. - s / p ng and ng insertion insertion. - s / p ng and endotracheal tube. - s / p ng insertion insertion. - s / p ng in insertion. - s / p ng and ng insertion insertion. - s / p ng and ng insertion insertion. - s / p ng and ng insertion insertion. - s / p ng insertion insertion. - s / p ng insertion insertion. - s / p ng insertion insertion. - s / p ng insertion insertion. - s / p ng insertion insertion. - s / p ng tube insertion. - s / p ng and ng. - s / p ng insertion. - s / p ng tube insertion insertion. - s / p ng tube insertion insertion. - s / p ng insertion insertion.']\n",
                        "Labels     : [\"chest ap view showed : 1. s / p sternotomy and cabg. enlarged heart size with tortuous aorta. 2. r't middle and lower lung faint patches. l't lower lung consolidation. l't pleural effusion. 3. no mediastinum widening. 4. s / p endotracheal tube and ng intubation.\"]\n",
                        "\n"
                    ]
                },
                {
                    "name": "stderr",
                    "output_type": "stream",
                    "text": [
                        "Evaluating: :  40%|████      | 4/10 [00:08<00:13,  2.26s/it]"
                    ]
                },
                {
                    "name": "stdout",
                    "output_type": "stream",
                    "text": [
                        "Names      : ['NLP_CHEST_015']\n",
                        "Predictions: ['chest plain film shows : impression : - increased infiltrations in both lungs. - atherosclerotic aorta. - atherosclerotic aorta. - atherosclerotic aorta. - atherosclerotic aorta. - scoliosis. - scoliosis of spine. - s / p ng and endotracheal tube. - s / p ng and endotracheal tube. - s / p ng and endotracheal tube. - s / p ng and endotracheal tube. - s / p ng and ng ng. - s / p ng insertion. - s / p ng and ng insertion insertion. - s / p ng insertion insertion. - s / p ng insertion insertion. - s / p ng insertion insertion. - s / p ng and ng ng insertion. - s / p ng insertion insertion. - s / p ng insertion insertion. - s / p ng and end endotracheal tube. - s / p ng intubation. - s / p ng insertion. - s / p ng tube insertion insertion. - s / p p ng tube insertion insertion. - s /']\n",
                        "Labels     : ['chest x ray : - no obvious lung mass nor consolidation patch. - normal heart size. - no pleural effusion.']\n",
                        "\n"
                    ]
                },
                {
                    "name": "stderr",
                    "output_type": "stream",
                    "text": [
                        "Evaluating: :  50%|█████     | 5/10 [00:11<00:11,  2.25s/it]"
                    ]
                },
                {
                    "name": "stdout",
                    "output_type": "stream",
                    "text": [
                        "Names      : ['NLP_CHEST_027']\n",
                        "Predictions: ['chest plain film shows : impression : - increased infiltrates in both lungs. - atherosclerotic aorta. - atherosclerotic aorta. - atherosclerotic aorta. - atherosclerotic aorta. - scoliosis. - scoliosis of spine. - s / p ng and endotracheal tube. - s / p ng and endotracheal tube. - s / p ng and endotracheal tube. - s / p ng and ng insertion. - s / p ng and end endotracll tube. - s / p ng insertion insertion. - s / p ng insertion insertion. - s / p ng and ng insertion insertion. - s / p ng insertion insertion. - s / p ng insertion insertion. - s / p ng insertion insertion. - s / p ng insertion insertion. - s / p ng insertion insertion. - s / p ng and end endotracheal tube. - s / p ng intubation. - s / p ng. - s / p ng intubation. - s / p ng tube insertion. - s / p ng in']\n",
                        "Labels     : ['chest pa view : impression : > cardiomegaly with bilateral pulmonary congestion. > postinflammatory fibrosis in both upper lungs. > atherosclerosis of aorta. > old fractures of left 5th and 6th ribs. > r / o osteoporosis. > spondylosis of thoracolumbar spine. > s / p abdominal operation in ruq.']\n",
                        "\n"
                    ]
                },
                {
                    "name": "stderr",
                    "output_type": "stream",
                    "text": [
                        "Evaluating: :  60%|██████    | 6/10 [00:13<00:08,  2.22s/it]"
                    ]
                },
                {
                    "name": "stdout",
                    "output_type": "stream",
                    "text": [
                        "Names      : ['NLP_CHEST_031']\n",
                        "Predictions: ['chest plain film shows : impression : - increased infiltrates in both lungs. - atherosclerotic aorta. - atherosclerotic aorta. - atherosclerotic aorta. - atherosclerotic aorta. - scoliosis. - scoliosis of spine. - s / p ng and endotracheal tube. - s / p ng and endotracheal tube. - s / p ng and endotracheal tube. - s / p ng and ng insertion. - s / p ng and end endotracll tube. - s / p ng insertion insertion. - s / p ng insertion insertion. - s / p ng and ng insertion insertion. - s / p ng insertion insertion. - s / p ng insertion insertion. - s / p ng insertion insertion. - s / p ng insertion insertion. - s / p ng insertion insertion. - s / p ng and end endotracheal tube. - s / p ng intubation. - s / p ng. - s / p ng intubation. - s / p ng tube insertion. - s / p ng in']\n",
                        "Labels     : ['chest pa view : impression : - increased both lung markings. - compatible with right lung nodules. - fibrotic lesion in left upper lung. - normal heart size. atherosclerotic aorta. - suspect right pleural effusion. - spondylosis. r / o osteoporosis. - compatible with multiple bony metastases. - s / p ng and endotracheal tube. - s / p lt subclavian port - a - cath.']\n",
                        "\n"
                    ]
                },
                {
                    "name": "stderr",
                    "output_type": "stream",
                    "text": [
                        "Evaluating: :  70%|███████   | 7/10 [00:15<00:06,  2.21s/it]"
                    ]
                },
                {
                    "name": "stdout",
                    "output_type": "stream",
                    "text": [
                        "Names      : ['NLP_CHEST_057']\n",
                        "Predictions: ['chest plain film shows : impression : - increased infiltrates in both lungs. - atherosclerotic aorta. - atherosclerotic aorta. - atherosclerotic aorta. - atherosclerotic aorta. - scoliosis. - scoliosis of spine. - s / p ng and endotracheal tube. - s / p ng and endotracheal tube. - s / p ng and endotracheal tube. - s / p ng and ng insertion. - s / p ng and end endotracll tube. - s / p ng insertion insertion. - s / p ng and ng insertion insertion. - s / p ng insertion. - s / p ng insertion insertion. - s / p ng insertion insertion. - s / p ng insertion insertion. - s / p ng and ng insertion insertion. - s / p p ng insertion. - s / p ng and endotracheal tube. - s / p ng intubation. - s / p ng. - s / p ng tube insertion insertion. - s / p p ng tube insertion. - s / p ng']\n",
                        "Labels     : ['chest plain film shows : impression : - increased infiltrations in both lungs. - tortuous atherosclerotic dilated aorta. - normal heart size. - djd of spine. old fracture of right ribs. - increased both lung markings. s / p lt jugular cvc insertion. s / p ng and endotracheal tube. - susp. lt pneumothorax. suspect pneumomediastinum. subcutaneous emphysema in bilateral neck. - s / p bilateral chest tube insertion.']\n",
                        "\n"
                    ]
                },
                {
                    "name": "stderr",
                    "output_type": "stream",
                    "text": [
                        "Evaluating: :  80%|████████  | 8/10 [00:17<00:04,  2.20s/it]"
                    ]
                },
                {
                    "name": "stdout",
                    "output_type": "stream",
                    "text": [
                        "Names      : ['NLP_CHEST_059']\n",
                        "Predictions: ['chest plain film shows : impression : - increased infiltrations in both lungs. - atherosclerotic aorta. - atherosclerotic aorta. - atherosclerotic aorta. - atherosclerotic aorta. - scoliosis. - scoliosis of spine. - s / p ng and endotracheal tube. - s / p ng and endotracheal tube. - s / p ng and endotracheal tube. - s / p ng and endotracheal tube. - s / p ng and ng ng. - s / p ng insertion. - s / p ng and ng insertion insertion. - s / p ng insertion insertion. - s / p ng insertion. - s / p ng insertion insertion. - s / p ng insertion insertion. - s / p ng and ng insertion insertion. - s / p ng insertion insertion. - scoliosis of spine. - s / p ng in intubation. - s / p ng intubation. - s / p ng intubation. - s / p ng tube insertion. - s / p ng tube insertion insertion.']\n",
                        "Labels     : ['supine chest ap view shows : pigtail catheter at right lower chest. decreased amount of right pleural effusion. air in the right lower pleural space. poor lung expansion. mild subcutaneous emphysema at right chest wall. right pleural thickening. ill - defined masses at right perihilar region. normal heart size.']\n",
                        "\n"
                    ]
                },
                {
                    "name": "stderr",
                    "output_type": "stream",
                    "text": [
                        "Evaluating: :  90%|█████████ | 9/10 [00:19<00:02,  2.20s/it]"
                    ]
                },
                {
                    "name": "stdout",
                    "output_type": "stream",
                    "text": [
                        "Names      : ['NLP_CHEST_071']\n",
                        "Predictions: ['chest plain film shows : impression : - increased infiltrations in both lungs. - atherosclerotic aorta. - atherosclerotic aorta. - atherosclerotic aorta. - atherosclerotic aorta. - scoliosis. - s / p ng and endotracheal tube. - s / p ng tube insertion. - s / p ng intubation. - s / p ng and endotracheal tube. - s / p ng and ng intubation. - s / p ng insertion. - s / p ng and ng intubation. - s / p ng and ng insertion insertion. - s / p ng insertion insertion. - s / p ng and ng insertion insertion. - s / p ng insertion insertion. - s / p ng insertion insertion. - s / p ng insertion. - s / p ng insertion insertion. - s / p ng insertion insertion. - s / ng ng. - s / p ng. - s / p ng and ng ng insertion insertion. - s / p ng intt. - s / p ng insertion. - s / p ng insertion insertion.. -']\n",
                        "Labels     : ['chest film shows : impression : - bilateral lung infiltrations. - suspect right lower lung patch. blunting right cp angle. - tortuous atherosclerotic aorta. - scoliosis, djd and osteoporosis of spine. compression fracture of t12. old fracture of left ribs. - s / p fixation in l - spine. - s / p tracheostomy and ng tube.']\n",
                        "\n"
                    ]
                },
                {
                    "name": "stderr",
                    "output_type": "stream",
                    "text": [
                        "Evaluating: : 100%|██████████| 10/10 [00:22<00:00,  2.21s/it]\n"
                    ]
                },
                {
                    "name": "stdout",
                    "output_type": "stream",
                    "text": [
                        "Names      : ['NLP_CHEST_085']\n",
                        "Predictions: ['chest plain film shows : impression : - increased infiltrations in both lungs. - atherosclerotic aorta. - atherosclerotic aorta. - atherosclerotic aorta. - atherosclerotic aorta. - scoliosis. - scoliosis of spine. - s / p ng and endotracheal tube. - s / p ng and endotracheal tube. - s / p ng and endotracheal tube. - s / p ng and endotracheal tube. - s / p ng and ng ng. - s / p ng insertion. - s / p ng insertion. - s / p ng insertion insertion. - s / p ng insertion insertion. - s / p ng insertion insertion. - s / p ng insertion insertion. - s / p ng and ng insertion insertion. - s / p ng insertion insertion. - scoliosis of of spine spine. - s / p ng and ng in intubation. - s / p ng insertion. - s / p ng intubation. - s / p ng tube insertion. - s / p ng tube insertion insertion.']\n",
                        "Labels     : ['chest x ray : - right pneumothorax with pleural effusion, status post drainge tube placement. - extensive subcutaneous emphysema from neck to right side thoracic cage. - increased right hilar opacity. - atherosclerosis and tortuous aorta. - obscured bilateral costophrenic angles. - spondylosis and mild scoliosis of thoracolumbar spine. - oa of right glenohumeral joint. - generalized osteopenia.']\n",
                        "\n",
                        "Rouge-2 score : {'Rouge-L-P': 0.24628487639061505, 'Rouge-L-R': 0.2415715901102975, 'Rouge-L-F': 0.2415715901102975, 'Rouge-2-P': 0.14333894815411988, 'Rouge-2-R': 0.12642165725939497, 'Rouge-2-F': 0.12642165725939497}\n"
                    ]
                },
                {
                    "name": "stderr",
                    "output_type": "stream",
                    "text": [
                        "Training Epoch [3 / 50]: 100%|██████████| 89/89 [00:14<00:00,  6.35it/s, loss=0.43] \n",
                        "Evaluating: :  10%|█         | 1/10 [00:02<00:20,  2.23s/it]"
                    ]
                },
                {
                    "name": "stdout",
                    "output_type": "stream",
                    "text": [
                        "Names      : ['NLP_CHEST_002']\n",
                        "Predictions: ['chest plain film shows : impression : - increased infiltrations in both lungs. - blunting bilateral cp angles. - blunting bilateral cp angles. - blunting bilateral cp angles. - blunting bilateral cp angles. - scoliosis. - s / p sternotomy.']\n",
                        "Labels     : ['chest pa view shows : partial atelectasis at left lower lung field. left pleural effusion. borderline heart size. atherosclerotic change of aortic knob. s / p port - a implantation via left subclavian vein. intraperitoneal port catheter. surgical clips at ruq of abdomen.']\n",
                        "\n"
                    ]
                },
                {
                    "name": "stderr",
                    "output_type": "stream",
                    "text": [
                        "Evaluating: :  20%|██        | 2/10 [00:04<00:17,  2.22s/it]"
                    ]
                },
                {
                    "name": "stdout",
                    "output_type": "stream",
                    "text": [
                        "Names      : ['NLP_CHEST_004']\n",
                        "Predictions: ['chest plain film shows : impression : - increased infiltrations in both lungs. - blunting bilateral cp angles. - blunting bilateral cp angles. - blunting bilateral cp angles. - blunting bilateral cp angles. - spondylosis. - s / p sternotomy. - s / p ng and endotracheal tube.']\n",
                        "Labels     : ['chest pa view show : impression : - s / p rll wedge resection. - bilateral lungs metastasis. - left lower lung subsegmental atelectasis. - increased infiltrations in both lungs. - blunting right cp angle. - tortuous atherosclerotic aorta. - scoliosis, djd and osteoporosis of spine. - compression fracture of l1.']\n",
                        "\n"
                    ]
                },
                {
                    "name": "stderr",
                    "output_type": "stream",
                    "text": [
                        "Evaluating: :  30%|███       | 3/10 [00:06<00:15,  2.20s/it]"
                    ]
                },
                {
                    "name": "stdout",
                    "output_type": "stream",
                    "text": [
                        "Names      : ['NLP_CHEST_011']\n",
                        "Predictions: ['chest plain film shows : impression : - increased infiltrations in both lungs. - blunting bilateral cp angles. - blunting bilateral cp angles. - blunting bilateral cp angles. - blunting bilateral cp angles. - scoliosis, djd of spine. - s / p ng and endotracheal tube.']\n",
                        "Labels     : [\"chest ap view showed : 1. s / p sternotomy and cabg. enlarged heart size with tortuous aorta. 2. r't middle and lower lung faint patches. l't lower lung consolidation. l't pleural effusion. 3. no mediastinum widening. 4. s / p endotracheal tube and ng intubation.\"]\n",
                        "\n"
                    ]
                },
                {
                    "name": "stderr",
                    "output_type": "stream",
                    "text": [
                        "Evaluating: :  40%|████      | 4/10 [00:08<00:13,  2.18s/it]"
                    ]
                },
                {
                    "name": "stdout",
                    "output_type": "stream",
                    "text": [
                        "Names      : ['NLP_CHEST_015']\n",
                        "Predictions: ['chest plain film shows : impression : - increased infiltrations in both lungs. - blunting bilateral cp angles. - blunting bilateral cp angles. - blunting bilateral cp angles. - blunting bilateral cp angles. - spondylosis. - s / p sternotomy. - s / p ng and endotracheal tube.']\n",
                        "Labels     : ['chest x ray : - no obvious lung mass nor consolidation patch. - normal heart size. - no pleural effusion.']\n",
                        "\n"
                    ]
                },
                {
                    "name": "stderr",
                    "output_type": "stream",
                    "text": [
                        "Evaluating: :  50%|█████     | 5/10 [00:10<00:10,  2.17s/it]"
                    ]
                },
                {
                    "name": "stdout",
                    "output_type": "stream",
                    "text": [
                        "Names      : ['NLP_CHEST_027']\n",
                        "Predictions: ['chest plain film shows : impression : - increased infiltrations in both lungs. - blunting bilateral cp angles. - blunting bilateral cp angles. - blunting bilateral cp angles. - blunting bilateral cp angles. - scoliosis, djd of spine. - s / p ng and endotracheal tube.']\n",
                        "Labels     : ['chest pa view : impression : > cardiomegaly with bilateral pulmonary congestion. > postinflammatory fibrosis in both upper lungs. > atherosclerosis of aorta. > old fractures of left 5th and 6th ribs. > r / o osteoporosis. > spondylosis of thoracolumbar spine. > s / p abdominal operation in ruq.']\n",
                        "\n"
                    ]
                },
                {
                    "name": "stderr",
                    "output_type": "stream",
                    "text": [
                        "Evaluating: :  60%|██████    | 6/10 [00:13<00:08,  2.18s/it]"
                    ]
                },
                {
                    "name": "stdout",
                    "output_type": "stream",
                    "text": [
                        "Names      : ['NLP_CHEST_031']\n",
                        "Predictions: ['chest plain film shows : impression : - increased infiltrations in both lungs. - blunting bilateral cp angles. - blunting bilateral cp angles. - blunting bilateral cp angles. - blunting bilateral cp angles. - scoliosis. - s / p sternotomy. - s / p sternotomy.']\n",
                        "Labels     : ['chest pa view : impression : - increased both lung markings. - compatible with right lung nodules. - fibrotic lesion in left upper lung. - normal heart size. atherosclerotic aorta. - suspect right pleural effusion. - spondylosis. r / o osteoporosis. - compatible with multiple bony metastases. - s / p ng and endotracheal tube. - s / p lt subclavian port - a - cath.']\n",
                        "\n"
                    ]
                },
                {
                    "name": "stderr",
                    "output_type": "stream",
                    "text": [
                        "Evaluating: :  70%|███████   | 7/10 [00:15<00:06,  2.20s/it]"
                    ]
                },
                {
                    "name": "stdout",
                    "output_type": "stream",
                    "text": [
                        "Names      : ['NLP_CHEST_057']\n",
                        "Predictions: ['chest plain film shows : impression : - increased infiltrations in both lungs. - blunting bilateral cp angles. - blunting bilateral cp angles. - blunting bilateral cp angles. - blunting bilateral cp angles. - scoliosis. - s / p sternotomy.']\n",
                        "Labels     : ['chest plain film shows : impression : - increased infiltrations in both lungs. - tortuous atherosclerotic dilated aorta. - normal heart size. - djd of spine. old fracture of right ribs. - increased both lung markings. s / p lt jugular cvc insertion. s / p ng and endotracheal tube. - susp. lt pneumothorax. suspect pneumomediastinum. subcutaneous emphysema in bilateral neck. - s / p bilateral chest tube insertion.']\n",
                        "\n"
                    ]
                },
                {
                    "name": "stderr",
                    "output_type": "stream",
                    "text": [
                        "Evaluating: :  80%|████████  | 8/10 [00:17<00:04,  2.19s/it]"
                    ]
                },
                {
                    "name": "stdout",
                    "output_type": "stream",
                    "text": [
                        "Names      : ['NLP_CHEST_059']\n",
                        "Predictions: ['chest plain film shows : impression : - increased infiltrations in both lungs. - blunting bilateral cp angles. - blunting bilateral cp angles. - blunting bilateral cp angles. - blunting bilateral cp angles. - scoliosis. - s / p sternotomy.']\n",
                        "Labels     : ['supine chest ap view shows : pigtail catheter at right lower chest. decreased amount of right pleural effusion. air in the right lower pleural space. poor lung expansion. mild subcutaneous emphysema at right chest wall. right pleural thickening. ill - defined masses at right perihilar region. normal heart size.']\n",
                        "\n"
                    ]
                },
                {
                    "name": "stderr",
                    "output_type": "stream",
                    "text": [
                        "Evaluating: :  90%|█████████ | 9/10 [00:19<00:02,  2.17s/it]"
                    ]
                },
                {
                    "name": "stdout",
                    "output_type": "stream",
                    "text": [
                        "Names      : ['NLP_CHEST_071']\n",
                        "Predictions: ['chest plain film shows : impression : - increased infiltrations in both lungs. - blunting bilateral cp angles. - blunting bilateral cp angles. - blunting bilateral cp angles. - blunting bilateral cp angles. - scoliosis. - s / p sternotomy.']\n",
                        "Labels     : ['chest film shows : impression : - bilateral lung infiltrations. - suspect right lower lung patch. blunting right cp angle. - tortuous atherosclerotic aorta. - scoliosis, djd and osteoporosis of spine. compression fracture of t12. old fracture of left ribs. - s / p fixation in l - spine. - s / p tracheostomy and ng tube.']\n",
                        "\n"
                    ]
                },
                {
                    "name": "stderr",
                    "output_type": "stream",
                    "text": [
                        "Evaluating: : 100%|██████████| 10/10 [00:21<00:00,  2.19s/it]\n"
                    ]
                },
                {
                    "name": "stdout",
                    "output_type": "stream",
                    "text": [
                        "Names      : ['NLP_CHEST_085']\n",
                        "Predictions: ['chest plain film shows : impression : - increased infiltrations in both lungs. - blunting bilateral cp angles. - blunting bilateral cp angles. - blunting bilateral cp angles. - blunting bilateral cp angles. - scoliosis. - s / p sternotomy.']\n",
                        "Labels     : ['chest x ray : - right pneumothorax with pleural effusion, status post drainge tube placement. - extensive subcutaneous emphysema from neck to right side thoracic cage. - increased right hilar opacity. - atherosclerosis and tortuous aorta. - obscured bilateral costophrenic angles. - spondylosis and mild scoliosis of thoracolumbar spine. - oa of right glenohumeral joint. - generalized osteopenia.']\n",
                        "\n",
                        "Rouge-2 score : {'Rouge-L-P': 0.2590228483505872, 'Rouge-L-R': 0.23854074781104728, 'Rouge-L-F': 0.23854074781104728, 'Rouge-2-P': 0.14474504604026692, 'Rouge-2-R': 0.12214802943219574, 'Rouge-2-F': 0.12214802943219574}\n"
                    ]
                },
                {
                    "name": "stderr",
                    "output_type": "stream",
                    "text": [
                        "Training Epoch [4 / 50]: 100%|██████████| 89/89 [00:13<00:00,  6.46it/s, loss=0.406]\n",
                        "Evaluating: :  10%|█         | 1/10 [00:02<00:19,  2.19s/it]"
                    ]
                },
                {
                    "name": "stdout",
                    "output_type": "stream",
                    "text": [
                        "Names      : ['NLP_CHEST_002']\n",
                        "Predictions: ['chest plain film shows : impression : - increased infiltrates in both lungs. - normal heart size. - atherosclerosis of aorta. - atherosclerosis of aorta. - djd of spine. - s / p ng and endotracheal tube.']\n",
                        "Labels     : ['chest pa view shows : partial atelectasis at left lower lung field. left pleural effusion. borderline heart size. atherosclerotic change of aortic knob. s / p port - a implantation via left subclavian vein. intraperitoneal port catheter. surgical clips at ruq of abdomen.']\n",
                        "\n"
                    ]
                },
                {
                    "name": "stderr",
                    "output_type": "stream",
                    "text": [
                        "Evaluating: :  20%|██        | 2/10 [00:04<00:17,  2.17s/it]"
                    ]
                },
                {
                    "name": "stdout",
                    "output_type": "stream",
                    "text": [
                        "Names      : ['NLP_CHEST_004']\n",
                        "Predictions: ['chest plain film shows : impression : - increased infiltrates in both lungs. - normal heart size. - atherosclerosis of aorta. - atherosclerosis of aorta. - djd of spine. - s / p ng and endotracheal tube.']\n",
                        "Labels     : ['chest pa view show : impression : - s / p rll wedge resection. - bilateral lungs metastasis. - left lower lung subsegmental atelectasis. - increased infiltrations in both lungs. - blunting right cp angle. - tortuous atherosclerotic aorta. - scoliosis, djd and osteoporosis of spine. - compression fracture of l1.']\n",
                        "\n"
                    ]
                },
                {
                    "name": "stderr",
                    "output_type": "stream",
                    "text": [
                        "Evaluating: :  30%|███       | 3/10 [00:06<00:15,  2.15s/it]"
                    ]
                },
                {
                    "name": "stdout",
                    "output_type": "stream",
                    "text": [
                        "Names      : ['NLP_CHEST_011']\n",
                        "Predictions: ['chest plain film shows : impression : - increased infiltrates in both lungs. - the mediastinum is not widened. - the mediastinum is not widened. - the mediastinum is not widened. - the mediastinum is not widened. - atherosclerosis of aorta. - spondylosis of spine. - s / p rt subclavian cvc insertion.']\n",
                        "Labels     : [\"chest ap view showed : 1. s / p sternotomy and cabg. enlarged heart size with tortuous aorta. 2. r't middle and lower lung faint patches. l't lower lung consolidation. l't pleural effusion. 3. no mediastinum widening. 4. s / p endotracheal tube and ng intubation.\"]\n",
                        "\n"
                    ]
                },
                {
                    "name": "stderr",
                    "output_type": "stream",
                    "text": [
                        "Evaluating: :  40%|████      | 4/10 [00:08<00:12,  2.15s/it]"
                    ]
                },
                {
                    "name": "stdout",
                    "output_type": "stream",
                    "text": [
                        "Names      : ['NLP_CHEST_015']\n",
                        "Predictions: ['chest plain film shows : impression : - increased infiltrates in both lungs. - normal heart size. - atherosclerosis of aorta. - atherosclerosis of aorta. - djd of spine. - s / p ng and endotracheal tube.']\n",
                        "Labels     : ['chest x ray : - no obvious lung mass nor consolidation patch. - normal heart size. - no pleural effusion.']\n",
                        "\n"
                    ]
                },
                {
                    "name": "stderr",
                    "output_type": "stream",
                    "text": [
                        "Evaluating: :  50%|█████     | 5/10 [00:10<00:10,  2.14s/it]"
                    ]
                },
                {
                    "name": "stdout",
                    "output_type": "stream",
                    "text": [
                        "Names      : ['NLP_CHEST_027']\n",
                        "Predictions: ['chest plain film shows : impression : - increased infiltrates in both lungs. - the mediastinum is not widened. - the mediastinum is not widened. - the mediastinum is not widened. - the mediastinum widening. - atherosclerosis of aorta. - spondylosis of spine.']\n",
                        "Labels     : ['chest pa view : impression : > cardiomegaly with bilateral pulmonary congestion. > postinflammatory fibrosis in both upper lungs. > atherosclerosis of aorta. > old fractures of left 5th and 6th ribs. > r / o osteoporosis. > spondylosis of thoracolumbar spine. > s / p abdominal operation in ruq.']\n",
                        "\n"
                    ]
                },
                {
                    "name": "stderr",
                    "output_type": "stream",
                    "text": [
                        "Evaluating: :  60%|██████    | 6/10 [00:12<00:08,  2.16s/it]"
                    ]
                },
                {
                    "name": "stdout",
                    "output_type": "stream",
                    "text": [
                        "Names      : ['NLP_CHEST_031']\n",
                        "Predictions: ['chest plain film shows : impression : - increased infiltrates in both lungs. - the mediastinum is not widened. - the mediastinum is not widened. - the mediastinum is not widened. - the mediastinum is not widened. - atherosclerosis of aorta. - spondylosis of spine. - s / p rt subclavian cvc insertion.']\n",
                        "Labels     : ['chest pa view : impression : - increased both lung markings. - compatible with right lung nodules. - fibrotic lesion in left upper lung. - normal heart size. atherosclerotic aorta. - suspect right pleural effusion. - spondylosis. r / o osteoporosis. - compatible with multiple bony metastases. - s / p ng and endotracheal tube. - s / p lt subclavian port - a - cath.']\n",
                        "\n"
                    ]
                },
                {
                    "name": "stderr",
                    "output_type": "stream",
                    "text": [
                        "Evaluating: :  70%|███████   | 7/10 [00:15<00:06,  2.17s/it]"
                    ]
                },
                {
                    "name": "stdout",
                    "output_type": "stream",
                    "text": [
                        "Names      : ['NLP_CHEST_057']\n",
                        "Predictions: ['chest plain film shows : impression : - increased infiltrates in both lungs. - normal heart size. - atherosclerosis of aorta. - atherosclerosis of aorta. - djd of spine. - s / p ng and endotracheal tube.']\n",
                        "Labels     : ['chest plain film shows : impression : - increased infiltrations in both lungs. - tortuous atherosclerotic dilated aorta. - normal heart size. - djd of spine. old fracture of right ribs. - increased both lung markings. s / p lt jugular cvc insertion. s / p ng and endotracheal tube. - susp. lt pneumothorax. suspect pneumomediastinum. subcutaneous emphysema in bilateral neck. - s / p bilateral chest tube insertion.']\n",
                        "\n"
                    ]
                },
                {
                    "name": "stderr",
                    "output_type": "stream",
                    "text": [
                        "Evaluating: :  80%|████████  | 8/10 [00:17<00:04,  2.16s/it]"
                    ]
                },
                {
                    "name": "stdout",
                    "output_type": "stream",
                    "text": [
                        "Names      : ['NLP_CHEST_059']\n",
                        "Predictions: ['chest plain film shows : impression : - increased infiltrates in both lungs. - the mediastinum is not widened. - the mediastinum is not widened. - the mediastinum is not widened. - the mediastinum widening. - atherosclerosis of aorta. - spondylosis of spine.']\n",
                        "Labels     : ['supine chest ap view shows : pigtail catheter at right lower chest. decreased amount of right pleural effusion. air in the right lower pleural space. poor lung expansion. mild subcutaneous emphysema at right chest wall. right pleural thickening. ill - defined masses at right perihilar region. normal heart size.']\n",
                        "\n"
                    ]
                },
                {
                    "name": "stderr",
                    "output_type": "stream",
                    "text": [
                        "Evaluating: :  90%|█████████ | 9/10 [00:19<00:02,  2.16s/it]"
                    ]
                },
                {
                    "name": "stdout",
                    "output_type": "stream",
                    "text": [
                        "Names      : ['NLP_CHEST_071']\n",
                        "Predictions: ['chest plain film shows : impression : - increased infiltrates in both lungs. - the mediastinum is not widened. - the mediastinum is not widened. - the mediastinum is not widened. - the mediastinum widening. - atherosclerosis of aorta. - spondylosis of spine.']\n",
                        "Labels     : ['chest film shows : impression : - bilateral lung infiltrations. - suspect right lower lung patch. blunting right cp angle. - tortuous atherosclerotic aorta. - scoliosis, djd and osteoporosis of spine. compression fracture of t12. old fracture of left ribs. - s / p fixation in l - spine. - s / p tracheostomy and ng tube.']\n",
                        "\n"
                    ]
                },
                {
                    "name": "stderr",
                    "output_type": "stream",
                    "text": [
                        "Evaluating: : 100%|██████████| 10/10 [00:21<00:00,  2.16s/it]\n"
                    ]
                },
                {
                    "name": "stdout",
                    "output_type": "stream",
                    "text": [
                        "Names      : ['NLP_CHEST_085']\n",
                        "Predictions: ['chest plain film shows : impression : - increased infiltrates in both lungs. - the mediastinum is not widened. - the mediastinum is not widened. - the mediastinum is not widened. - the mediastinum widening. - atherosclerosis of aorta. - spondylosis of spine.']\n",
                        "Labels     : ['chest x ray : - right pneumothorax with pleural effusion, status post drainge tube placement. - extensive subcutaneous emphysema from neck to right side thoracic cage. - increased right hilar opacity. - atherosclerosis and tortuous aorta. - obscured bilateral costophrenic angles. - spondylosis and mild scoliosis of thoracolumbar spine. - oa of right glenohumeral joint. - generalized osteopenia.']\n",
                        "\n",
                        "Rouge-2 score : {'Rouge-L-P': 0.2730611782206507, 'Rouge-L-R': 0.24313082391964908, 'Rouge-L-F': 0.24313082391964908, 'Rouge-2-P': 0.15800933398074962, 'Rouge-2-R': 0.12971781982023578, 'Rouge-2-F': 0.12971781982023578}\n"
                    ]
                },
                {
                    "name": "stderr",
                    "output_type": "stream",
                    "text": [
                        "Training Epoch [5 / 50]: 100%|██████████| 89/89 [00:13<00:00,  6.47it/s, loss=0.33] \n",
                        "Evaluating: :  10%|█         | 1/10 [00:02<00:19,  2.21s/it]"
                    ]
                },
                {
                    "name": "stdout",
                    "output_type": "stream",
                    "text": [
                        "Names      : ['NLP_CHEST_002']\n",
                        "Predictions: ['']\n",
                        "Labels     : ['chest pa view shows : partial atelectasis at left lower lung field. left pleural effusion. borderline heart size. atherosclerotic change of aortic knob. s / p port - a implantation via left subclavian vein. intraperitoneal port catheter. surgical clips at ruq of abdomen.']\n",
                        "\n"
                    ]
                },
                {
                    "name": "stderr",
                    "output_type": "stream",
                    "text": [
                        "Evaluating: :  20%|██        | 2/10 [00:04<00:17,  2.21s/it]"
                    ]
                },
                {
                    "name": "stdout",
                    "output_type": "stream",
                    "text": [
                        "Names      : ['NLP_CHEST_004']\n",
                        "Predictions: ['']\n",
                        "Labels     : ['chest pa view show : impression : - s / p rll wedge resection. - bilateral lungs metastasis. - left lower lung subsegmental atelectasis. - increased infiltrations in both lungs. - blunting right cp angle. - tortuous atherosclerotic aorta. - scoliosis, djd and osteoporosis of spine. - compression fracture of l1.']\n",
                        "\n"
                    ]
                },
                {
                    "name": "stderr",
                    "output_type": "stream",
                    "text": [
                        "Evaluating: :  30%|███       | 3/10 [00:06<00:15,  2.22s/it]"
                    ]
                },
                {
                    "name": "stdout",
                    "output_type": "stream",
                    "text": [
                        "Names      : ['NLP_CHEST_011']\n",
                        "Predictions: ['']\n",
                        "Labels     : [\"chest ap view showed : 1. s / p sternotomy and cabg. enlarged heart size with tortuous aorta. 2. r't middle and lower lung faint patches. l't lower lung consolidation. l't pleural effusion. 3. no mediastinum widening. 4. s / p endotracheal tube and ng intubation.\"]\n",
                        "\n"
                    ]
                },
                {
                    "name": "stderr",
                    "output_type": "stream",
                    "text": [
                        "Evaluating: :  40%|████      | 4/10 [00:08<00:13,  2.22s/it]"
                    ]
                },
                {
                    "name": "stdout",
                    "output_type": "stream",
                    "text": [
                        "Names      : ['NLP_CHEST_015']\n",
                        "Predictions: ['']\n",
                        "Labels     : ['chest x ray : - no obvious lung mass nor consolidation patch. - normal heart size. - no pleural effusion.']\n",
                        "\n"
                    ]
                },
                {
                    "name": "stderr",
                    "output_type": "stream",
                    "text": [
                        "Evaluating: :  50%|█████     | 5/10 [00:11<00:11,  2.21s/it]"
                    ]
                },
                {
                    "name": "stdout",
                    "output_type": "stream",
                    "text": [
                        "Names      : ['NLP_CHEST_027']\n",
                        "Predictions: ['']\n",
                        "Labels     : ['chest pa view : impression : > cardiomegaly with bilateral pulmonary congestion. > postinflammatory fibrosis in both upper lungs. > atherosclerosis of aorta. > old fractures of left 5th and 6th ribs. > r / o osteoporosis. > spondylosis of thoracolumbar spine. > s / p abdominal operation in ruq.']\n",
                        "\n"
                    ]
                },
                {
                    "name": "stderr",
                    "output_type": "stream",
                    "text": [
                        "Evaluating: :  60%|██████    | 6/10 [00:13<00:08,  2.18s/it]"
                    ]
                },
                {
                    "name": "stdout",
                    "output_type": "stream",
                    "text": [
                        "Names      : ['NLP_CHEST_031']\n",
                        "Predictions: ['']\n",
                        "Labels     : ['chest pa view : impression : - increased both lung markings. - compatible with right lung nodules. - fibrotic lesion in left upper lung. - normal heart size. atherosclerotic aorta. - suspect right pleural effusion. - spondylosis. r / o osteoporosis. - compatible with multiple bony metastases. - s / p ng and endotracheal tube. - s / p lt subclavian port - a - cath.']\n",
                        "\n"
                    ]
                },
                {
                    "name": "stderr",
                    "output_type": "stream",
                    "text": [
                        "Evaluating: :  70%|███████   | 7/10 [00:15<00:06,  2.19s/it]"
                    ]
                },
                {
                    "name": "stdout",
                    "output_type": "stream",
                    "text": [
                        "Names      : ['NLP_CHEST_057']\n",
                        "Predictions: ['']\n",
                        "Labels     : ['chest plain film shows : impression : - increased infiltrations in both lungs. - tortuous atherosclerotic dilated aorta. - normal heart size. - djd of spine. old fracture of right ribs. - increased both lung markings. s / p lt jugular cvc insertion. s / p ng and endotracheal tube. - susp. lt pneumothorax. suspect pneumomediastinum. subcutaneous emphysema in bilateral neck. - s / p bilateral chest tube insertion.']\n",
                        "\n"
                    ]
                },
                {
                    "name": "stderr",
                    "output_type": "stream",
                    "text": [
                        "Evaluating: :  80%|████████  | 8/10 [00:17<00:04,  2.19s/it]"
                    ]
                },
                {
                    "name": "stdout",
                    "output_type": "stream",
                    "text": [
                        "Names      : ['NLP_CHEST_059']\n",
                        "Predictions: ['']\n",
                        "Labels     : ['supine chest ap view shows : pigtail catheter at right lower chest. decreased amount of right pleural effusion. air in the right lower pleural space. poor lung expansion. mild subcutaneous emphysema at right chest wall. right pleural thickening. ill - defined masses at right perihilar region. normal heart size.']\n",
                        "\n"
                    ]
                },
                {
                    "name": "stderr",
                    "output_type": "stream",
                    "text": [
                        "Evaluating: :  90%|█████████ | 9/10 [00:19<00:02,  2.19s/it]"
                    ]
                },
                {
                    "name": "stdout",
                    "output_type": "stream",
                    "text": [
                        "Names      : ['NLP_CHEST_071']\n",
                        "Predictions: ['']\n",
                        "Labels     : ['chest film shows : impression : - bilateral lung infiltrations. - suspect right lower lung patch. blunting right cp angle. - tortuous atherosclerotic aorta. - scoliosis, djd and osteoporosis of spine. compression fracture of t12. old fracture of left ribs. - s / p fixation in l - spine. - s / p tracheostomy and ng tube.']\n",
                        "\n"
                    ]
                },
                {
                    "name": "stderr",
                    "output_type": "stream",
                    "text": [
                        "Evaluating: : 100%|██████████| 10/10 [00:21<00:00,  2.19s/it]\n"
                    ]
                },
                {
                    "name": "stdout",
                    "output_type": "stream",
                    "text": [
                        "Names      : ['NLP_CHEST_085']\n",
                        "Predictions: ['']\n",
                        "Labels     : ['chest x ray : - right pneumothorax with pleural effusion, status post drainge tube placement. - extensive subcutaneous emphysema from neck to right side thoracic cage. - increased right hilar opacity. - atherosclerosis and tortuous aorta. - obscured bilateral costophrenic angles. - spondylosis and mild scoliosis of thoracolumbar spine. - oa of right glenohumeral joint. - generalized osteopenia.']\n",
                        "\n",
                        "Rouge-2 score : {'Rouge-L-P': 0.21844894257652053, 'Rouge-L-R': 0.19450465913571924, 'Rouge-L-F': 0.19450465913571924, 'Rouge-2-P': 0.12640746718459972, 'Rouge-2-R': 0.10377425585618863, 'Rouge-2-F': 0.10377425585618863}\n"
                    ]
                },
                {
                    "name": "stderr",
                    "output_type": "stream",
                    "text": [
                        "Training Epoch [6 / 50]: 100%|██████████| 89/89 [00:13<00:00,  6.43it/s, loss=0.264]\n",
                        "Evaluating: :  10%|█         | 1/10 [00:02<00:20,  2.31s/it]"
                    ]
                },
                {
                    "name": "stdout",
                    "output_type": "stream",
                    "text": [
                        "Names      : ['NLP_CHEST_002']\n",
                        "Predictions: ['chest plain film shows : impression : - increased both lung infiltrates. - normal heart size. - atherosclerotic aorta. - scoliosis, djd and osteoporosis of spine. - s / p ng and endotracheal tube.']\n",
                        "Labels     : ['chest pa view shows : partial atelectasis at left lower lung field. left pleural effusion. borderline heart size. atherosclerotic change of aortic knob. s / p port - a implantation via left subclavian vein. intraperitoneal port catheter. surgical clips at ruq of abdomen.']\n",
                        "\n"
                    ]
                },
                {
                    "name": "stderr",
                    "output_type": "stream",
                    "text": [
                        "Evaluating: :  20%|██        | 2/10 [00:04<00:18,  2.33s/it]"
                    ]
                },
                {
                    "name": "stdout",
                    "output_type": "stream",
                    "text": [
                        "Names      : ['NLP_CHEST_004']\n",
                        "Predictions: ['chest plain film shows : impression : - increased both lung infiltrates. - normal heart size. - atherosclerotic aorta. - scoliosis, djd and osteoporosis of spine. - s / p ng and endotracheal tube.']\n",
                        "Labels     : ['chest pa view show : impression : - s / p rll wedge resection. - bilateral lungs metastasis. - left lower lung subsegmental atelectasis. - increased infiltrations in both lungs. - blunting right cp angle. - tortuous atherosclerotic aorta. - scoliosis, djd and osteoporosis of spine. - compression fracture of l1.']\n",
                        "\n"
                    ]
                },
                {
                    "name": "stderr",
                    "output_type": "stream",
                    "text": [
                        "Evaluating: :  30%|███       | 3/10 [00:06<00:16,  2.32s/it]"
                    ]
                },
                {
                    "name": "stdout",
                    "output_type": "stream",
                    "text": [
                        "Names      : ['NLP_CHEST_011']\n",
                        "Predictions: ['chest plain film shows : impression : - increased both lung infiltrates. - normal heart size. - atherosclerotic aorta. - scoliosis, djd and osteoporosis of spine. - s / p ng and endotracheal tube.']\n",
                        "Labels     : [\"chest ap view showed : 1. s / p sternotomy and cabg. enlarged heart size with tortuous aorta. 2. r't middle and lower lung faint patches. l't lower lung consolidation. l't pleural effusion. 3. no mediastinum widening. 4. s / p endotracheal tube and ng intubation.\"]\n",
                        "\n"
                    ]
                },
                {
                    "name": "stderr",
                    "output_type": "stream",
                    "text": [
                        "Evaluating: :  40%|████      | 4/10 [00:09<00:13,  2.28s/it]"
                    ]
                },
                {
                    "name": "stdout",
                    "output_type": "stream",
                    "text": [
                        "Names      : ['NLP_CHEST_015']\n",
                        "Predictions: ['chest plain film shows : impression : - increased both lung infiltrates. - normal heart size. - atherosclerotic aorta. - scoliosis, djd and osteoporosis of spine. - s / p ng and endotracheal tube.']\n",
                        "Labels     : ['chest x ray : - no obvious lung mass nor consolidation patch. - normal heart size. - no pleural effusion.']\n",
                        "\n"
                    ]
                },
                {
                    "name": "stderr",
                    "output_type": "stream",
                    "text": [
                        "Evaluating: :  50%|█████     | 5/10 [00:11<00:11,  2.27s/it]"
                    ]
                },
                {
                    "name": "stdout",
                    "output_type": "stream",
                    "text": [
                        "Names      : ['NLP_CHEST_027']\n",
                        "Predictions: ['chest plain film shows : impression : - increased both lung infiltrates. - normal heart size. - atherosclerotic aorta. - scoliosis, djd and osteoporosis of spine. - s / p ng and endotracheal tube.']\n",
                        "Labels     : ['chest pa view : impression : > cardiomegaly with bilateral pulmonary congestion. > postinflammatory fibrosis in both upper lungs. > atherosclerosis of aorta. > old fractures of left 5th and 6th ribs. > r / o osteoporosis. > spondylosis of thoracolumbar spine. > s / p abdominal operation in ruq.']\n",
                        "\n"
                    ]
                },
                {
                    "name": "stderr",
                    "output_type": "stream",
                    "text": [
                        "Evaluating: :  60%|██████    | 6/10 [00:13<00:09,  2.27s/it]"
                    ]
                },
                {
                    "name": "stdout",
                    "output_type": "stream",
                    "text": [
                        "Names      : ['NLP_CHEST_031']\n",
                        "Predictions: ['chest plain film shows : impression : - increased both lung infiltrates. - normal heart size. - atherosclerotic aorta. - scoliosis, djd and osteoporosis of spine. - s / p ng and endotracheal tube.']\n",
                        "Labels     : ['chest pa view : impression : - increased both lung markings. - compatible with right lung nodules. - fibrotic lesion in left upper lung. - normal heart size. atherosclerotic aorta. - suspect right pleural effusion. - spondylosis. r / o osteoporosis. - compatible with multiple bony metastases. - s / p ng and endotracheal tube. - s / p lt subclavian port - a - cath.']\n",
                        "\n"
                    ]
                },
                {
                    "name": "stderr",
                    "output_type": "stream",
                    "text": [
                        "Evaluating: :  70%|███████   | 7/10 [00:16<00:06,  2.32s/it]"
                    ]
                },
                {
                    "name": "stdout",
                    "output_type": "stream",
                    "text": [
                        "Names      : ['NLP_CHEST_057']\n",
                        "Predictions: ['chest plain film shows : impression : - increased both lung infiltrates. - normal heart size. - atherosclerotic aorta. - scoliosis, djd and osteoporosis of spine. - s / p ng and endotracheal tube.']\n",
                        "Labels     : ['chest plain film shows : impression : - increased infiltrations in both lungs. - tortuous atherosclerotic dilated aorta. - normal heart size. - djd of spine. old fracture of right ribs. - increased both lung markings. s / p lt jugular cvc insertion. s / p ng and endotracheal tube. - susp. lt pneumothorax. suspect pneumomediastinum. subcutaneous emphysema in bilateral neck. - s / p bilateral chest tube insertion.']\n",
                        "\n"
                    ]
                },
                {
                    "name": "stderr",
                    "output_type": "stream",
                    "text": [
                        "Evaluating: :  80%|████████  | 8/10 [00:18<00:04,  2.38s/it]"
                    ]
                },
                {
                    "name": "stdout",
                    "output_type": "stream",
                    "text": [
                        "Names      : ['NLP_CHEST_059']\n",
                        "Predictions: ['chest plain film shows : impression : - increased both lung infiltrates. - normal heart size. - atherosclerotic aorta. - scoliosis, djd and osteoporosis of spine. - s / p ng and endotracheal tube.']\n",
                        "Labels     : ['supine chest ap view shows : pigtail catheter at right lower chest. decreased amount of right pleural effusion. air in the right lower pleural space. poor lung expansion. mild subcutaneous emphysema at right chest wall. right pleural thickening. ill - defined masses at right perihilar region. normal heart size.']\n",
                        "\n"
                    ]
                },
                {
                    "name": "stderr",
                    "output_type": "stream",
                    "text": [
                        "Evaluating: :  90%|█████████ | 9/10 [00:21<00:02,  2.38s/it]"
                    ]
                },
                {
                    "name": "stdout",
                    "output_type": "stream",
                    "text": [
                        "Names      : ['NLP_CHEST_071']\n",
                        "Predictions: ['chest plain film shows : impression : - increased both lung infiltrates. - normal heart size. - atherosclerotic aorta. - scoliosis, djd and osteoporosis of spine. - s / p ng and endotracheal tube.']\n",
                        "Labels     : ['chest film shows : impression : - bilateral lung infiltrations. - suspect right lower lung patch. blunting right cp angle. - tortuous atherosclerotic aorta. - scoliosis, djd and osteoporosis of spine. compression fracture of t12. old fracture of left ribs. - s / p fixation in l - spine. - s / p tracheostomy and ng tube.']\n",
                        "\n"
                    ]
                },
                {
                    "name": "stderr",
                    "output_type": "stream",
                    "text": [
                        "Evaluating: : 100%|██████████| 10/10 [00:23<00:00,  2.33s/it]\n"
                    ]
                },
                {
                    "name": "stdout",
                    "output_type": "stream",
                    "text": [
                        "Names      : ['NLP_CHEST_085']\n",
                        "Predictions: ['chest plain film shows : impression : - increased both lung infiltrates. - normal heart size. - atherosclerotic aorta. - scoliosis, djd and osteoporosis of spine. - s / p ng and endotracheal tube.']\n",
                        "Labels     : ['chest x ray : - right pneumothorax with pleural effusion, status post drainge tube placement. - extensive subcutaneous emphysema from neck to right side thoracic cage. - increased right hilar opacity. - atherosclerosis and tortuous aorta. - obscured bilateral costophrenic angles. - spondylosis and mild scoliosis of thoracolumbar spine. - oa of right glenohumeral joint. - generalized osteopenia.']\n",
                        "\n",
                        "Rouge-2 score : {'Rouge-L-P': 0.2570407854804338, 'Rouge-L-R': 0.212601025270788, 'Rouge-L-F': 0.212601025270788, 'Rouge-2-P': 0.15382440447201493, 'Rouge-2-R': 0.11740985197497802, 'Rouge-2-F': 0.11740985197497802}\n"
                    ]
                },
                {
                    "name": "stderr",
                    "output_type": "stream",
                    "text": [
                        "Training Epoch [7 / 50]: 100%|██████████| 89/89 [00:14<00:00,  6.14it/s, loss=0.224]\n",
                        "Evaluating: :  10%|█         | 1/10 [00:02<00:25,  2.82s/it]"
                    ]
                },
                {
                    "name": "stdout",
                    "output_type": "stream",
                    "text": [
                        "Names      : ['NLP_CHEST_002']\n",
                        "Predictions: ['']\n",
                        "Labels     : ['chest pa view shows : partial atelectasis at left lower lung field. left pleural effusion. borderline heart size. atherosclerotic change of aortic knob. s / p port - a implantation via left subclavian vein. intraperitoneal port catheter. surgical clips at ruq of abdomen.']\n",
                        "\n"
                    ]
                },
                {
                    "name": "stderr",
                    "output_type": "stream",
                    "text": [
                        "Evaluating: :  20%|██        | 2/10 [00:05<00:21,  2.64s/it]"
                    ]
                },
                {
                    "name": "stdout",
                    "output_type": "stream",
                    "text": [
                        "Names      : ['NLP_CHEST_004']\n",
                        "Predictions: ['']\n",
                        "Labels     : ['chest pa view show : impression : - s / p rll wedge resection. - bilateral lungs metastasis. - left lower lung subsegmental atelectasis. - increased infiltrations in both lungs. - blunting right cp angle. - tortuous atherosclerotic aorta. - scoliosis, djd and osteoporosis of spine. - compression fracture of l1.']\n",
                        "\n"
                    ]
                },
                {
                    "name": "stderr",
                    "output_type": "stream",
                    "text": [
                        "Evaluating: :  30%|███       | 3/10 [00:07<00:17,  2.47s/it]"
                    ]
                },
                {
                    "name": "stdout",
                    "output_type": "stream",
                    "text": [
                        "Names      : ['NLP_CHEST_011']\n",
                        "Predictions: ['']\n",
                        "Labels     : [\"chest ap view showed : 1. s / p sternotomy and cabg. enlarged heart size with tortuous aorta. 2. r't middle and lower lung faint patches. l't lower lung consolidation. l't pleural effusion. 3. no mediastinum widening. 4. s / p endotracheal tube and ng intubation.\"]\n",
                        "\n"
                    ]
                },
                {
                    "name": "stderr",
                    "output_type": "stream",
                    "text": [
                        "Evaluating: :  40%|████      | 4/10 [00:09<00:14,  2.36s/it]"
                    ]
                },
                {
                    "name": "stdout",
                    "output_type": "stream",
                    "text": [
                        "Names      : ['NLP_CHEST_015']\n",
                        "Predictions: ['']\n",
                        "Labels     : ['chest x ray : - no obvious lung mass nor consolidation patch. - normal heart size. - no pleural effusion.']\n",
                        "\n"
                    ]
                },
                {
                    "name": "stderr",
                    "output_type": "stream",
                    "text": [
                        "Evaluating: :  50%|█████     | 5/10 [00:12<00:11,  2.31s/it]"
                    ]
                },
                {
                    "name": "stdout",
                    "output_type": "stream",
                    "text": [
                        "Names      : ['NLP_CHEST_027']\n",
                        "Predictions: ['']\n",
                        "Labels     : ['chest pa view : impression : > cardiomegaly with bilateral pulmonary congestion. > postinflammatory fibrosis in both upper lungs. > atherosclerosis of aorta. > old fractures of left 5th and 6th ribs. > r / o osteoporosis. > spondylosis of thoracolumbar spine. > s / p abdominal operation in ruq.']\n",
                        "\n"
                    ]
                },
                {
                    "name": "stderr",
                    "output_type": "stream",
                    "text": [
                        "Evaluating: :  60%|██████    | 6/10 [00:14<00:09,  2.33s/it]"
                    ]
                },
                {
                    "name": "stdout",
                    "output_type": "stream",
                    "text": [
                        "Names      : ['NLP_CHEST_031']\n",
                        "Predictions: ['']\n",
                        "Labels     : ['chest pa view : impression : - increased both lung markings. - compatible with right lung nodules. - fibrotic lesion in left upper lung. - normal heart size. atherosclerotic aorta. - suspect right pleural effusion. - spondylosis. r / o osteoporosis. - compatible with multiple bony metastases. - s / p ng and endotracheal tube. - s / p lt subclavian port - a - cath.']\n",
                        "\n"
                    ]
                },
                {
                    "name": "stderr",
                    "output_type": "stream",
                    "text": [
                        "Evaluating: :  70%|███████   | 7/10 [00:16<00:06,  2.32s/it]"
                    ]
                },
                {
                    "name": "stdout",
                    "output_type": "stream",
                    "text": [
                        "Names      : ['NLP_CHEST_057']\n",
                        "Predictions: ['']\n",
                        "Labels     : ['chest plain film shows : impression : - increased infiltrations in both lungs. - tortuous atherosclerotic dilated aorta. - normal heart size. - djd of spine. old fracture of right ribs. - increased both lung markings. s / p lt jugular cvc insertion. s / p ng and endotracheal tube. - susp. lt pneumothorax. suspect pneumomediastinum. subcutaneous emphysema in bilateral neck. - s / p bilateral chest tube insertion.']\n",
                        "\n"
                    ]
                },
                {
                    "name": "stderr",
                    "output_type": "stream",
                    "text": [
                        "Evaluating: :  80%|████████  | 8/10 [00:19<00:04,  2.34s/it]"
                    ]
                },
                {
                    "name": "stdout",
                    "output_type": "stream",
                    "text": [
                        "Names      : ['NLP_CHEST_059']\n",
                        "Predictions: ['']\n",
                        "Labels     : ['supine chest ap view shows : pigtail catheter at right lower chest. decreased amount of right pleural effusion. air in the right lower pleural space. poor lung expansion. mild subcutaneous emphysema at right chest wall. right pleural thickening. ill - defined masses at right perihilar region. normal heart size.']\n",
                        "\n"
                    ]
                },
                {
                    "name": "stderr",
                    "output_type": "stream",
                    "text": [
                        "Evaluating: :  90%|█████████ | 9/10 [00:21<00:02,  2.35s/it]"
                    ]
                },
                {
                    "name": "stdout",
                    "output_type": "stream",
                    "text": [
                        "Names      : ['NLP_CHEST_071']\n",
                        "Predictions: ['']\n",
                        "Labels     : ['chest film shows : impression : - bilateral lung infiltrations. - suspect right lower lung patch. blunting right cp angle. - tortuous atherosclerotic aorta. - scoliosis, djd and osteoporosis of spine. compression fracture of t12. old fracture of left ribs. - s / p fixation in l - spine. - s / p tracheostomy and ng tube.']\n",
                        "\n"
                    ]
                },
                {
                    "name": "stderr",
                    "output_type": "stream",
                    "text": [
                        "Evaluating: : 100%|██████████| 10/10 [00:24<00:00,  2.41s/it]\n"
                    ]
                },
                {
                    "name": "stdout",
                    "output_type": "stream",
                    "text": [
                        "Names      : ['NLP_CHEST_085']\n",
                        "Predictions: ['']\n",
                        "Labels     : ['chest x ray : - right pneumothorax with pleural effusion, status post drainge tube placement. - extensive subcutaneous emphysema from neck to right side thoracic cage. - increased right hilar opacity. - atherosclerosis and tortuous aorta. - obscured bilateral costophrenic angles. - spondylosis and mild scoliosis of thoracolumbar spine. - oa of right glenohumeral joint. - generalized osteopenia.']\n",
                        "\n",
                        "Rouge-2 score : {'Rouge-L-P': 0.22032067326894328, 'Rouge-L-R': 0.18222945023210402, 'Rouge-L-F': 0.18222945023210402, 'Rouge-2-P': 0.13184948954744138, 'Rouge-2-R': 0.1006370159785526, 'Rouge-2-F': 0.1006370159785526}\n"
                    ]
                },
                {
                    "name": "stderr",
                    "output_type": "stream",
                    "text": [
                        "Training Epoch [8 / 50]: 100%|██████████| 89/89 [00:14<00:00,  6.20it/s, loss=0.194]\n",
                        "Evaluating: :  10%|█         | 1/10 [00:02<00:21,  2.41s/it]"
                    ]
                },
                {
                    "name": "stdout",
                    "output_type": "stream",
                    "text": [
                        "Names      : ['NLP_CHEST_002']\n",
                        "Predictions: ['']\n",
                        "Labels     : ['chest pa view shows : partial atelectasis at left lower lung field. left pleural effusion. borderline heart size. atherosclerotic change of aortic knob. s / p port - a implantation via left subclavian vein. intraperitoneal port catheter. surgical clips at ruq of abdomen.']\n",
                        "\n"
                    ]
                },
                {
                    "name": "stderr",
                    "output_type": "stream",
                    "text": [
                        "Evaluating: :  20%|██        | 2/10 [00:04<00:18,  2.34s/it]"
                    ]
                },
                {
                    "name": "stdout",
                    "output_type": "stream",
                    "text": [
                        "Names      : ['NLP_CHEST_004']\n",
                        "Predictions: ['']\n",
                        "Labels     : ['chest pa view show : impression : - s / p rll wedge resection. - bilateral lungs metastasis. - left lower lung subsegmental atelectasis. - increased infiltrations in both lungs. - blunting right cp angle. - tortuous atherosclerotic aorta. - scoliosis, djd and osteoporosis of spine. - compression fracture of l1.']\n",
                        "\n"
                    ]
                },
                {
                    "name": "stderr",
                    "output_type": "stream",
                    "text": [
                        "Evaluating: :  30%|███       | 3/10 [00:07<00:16,  2.32s/it]"
                    ]
                },
                {
                    "name": "stdout",
                    "output_type": "stream",
                    "text": [
                        "Names      : ['NLP_CHEST_011']\n",
                        "Predictions: ['']\n",
                        "Labels     : [\"chest ap view showed : 1. s / p sternotomy and cabg. enlarged heart size with tortuous aorta. 2. r't middle and lower lung faint patches. l't lower lung consolidation. l't pleural effusion. 3. no mediastinum widening. 4. s / p endotracheal tube and ng intubation.\"]\n",
                        "\n"
                    ]
                },
                {
                    "name": "stderr",
                    "output_type": "stream",
                    "text": [
                        "Evaluating: :  40%|████      | 4/10 [00:09<00:13,  2.28s/it]"
                    ]
                },
                {
                    "name": "stdout",
                    "output_type": "stream",
                    "text": [
                        "Names      : ['NLP_CHEST_015']\n",
                        "Predictions: ['']\n",
                        "Labels     : ['chest x ray : - no obvious lung mass nor consolidation patch. - normal heart size. - no pleural effusion.']\n",
                        "\n"
                    ]
                },
                {
                    "name": "stderr",
                    "output_type": "stream",
                    "text": [
                        "Evaluating: :  50%|█████     | 5/10 [00:11<00:11,  2.27s/it]"
                    ]
                },
                {
                    "name": "stdout",
                    "output_type": "stream",
                    "text": [
                        "Names      : ['NLP_CHEST_027']\n",
                        "Predictions: ['']\n",
                        "Labels     : ['chest pa view : impression : > cardiomegaly with bilateral pulmonary congestion. > postinflammatory fibrosis in both upper lungs. > atherosclerosis of aorta. > old fractures of left 5th and 6th ribs. > r / o osteoporosis. > spondylosis of thoracolumbar spine. > s / p abdominal operation in ruq.']\n",
                        "\n"
                    ]
                },
                {
                    "name": "stderr",
                    "output_type": "stream",
                    "text": [
                        "Evaluating: :  60%|██████    | 6/10 [00:13<00:09,  2.27s/it]"
                    ]
                },
                {
                    "name": "stdout",
                    "output_type": "stream",
                    "text": [
                        "Names      : ['NLP_CHEST_031']\n",
                        "Predictions: ['']\n",
                        "Labels     : ['chest pa view : impression : - increased both lung markings. - compatible with right lung nodules. - fibrotic lesion in left upper lung. - normal heart size. atherosclerotic aorta. - suspect right pleural effusion. - spondylosis. r / o osteoporosis. - compatible with multiple bony metastases. - s / p ng and endotracheal tube. - s / p lt subclavian port - a - cath.']\n",
                        "\n"
                    ]
                },
                {
                    "name": "stderr",
                    "output_type": "stream",
                    "text": [
                        "Evaluating: :  70%|███████   | 7/10 [00:15<00:06,  2.25s/it]"
                    ]
                },
                {
                    "name": "stdout",
                    "output_type": "stream",
                    "text": [
                        "Names      : ['NLP_CHEST_057']\n",
                        "Predictions: ['']\n",
                        "Labels     : ['chest plain film shows : impression : - increased infiltrations in both lungs. - tortuous atherosclerotic dilated aorta. - normal heart size. - djd of spine. old fracture of right ribs. - increased both lung markings. s / p lt jugular cvc insertion. s / p ng and endotracheal tube. - susp. lt pneumothorax. suspect pneumomediastinum. subcutaneous emphysema in bilateral neck. - s / p bilateral chest tube insertion.']\n",
                        "\n"
                    ]
                },
                {
                    "name": "stderr",
                    "output_type": "stream",
                    "text": [
                        "Evaluating: :  80%|████████  | 8/10 [00:18<00:04,  2.25s/it]"
                    ]
                },
                {
                    "name": "stdout",
                    "output_type": "stream",
                    "text": [
                        "Names      : ['NLP_CHEST_059']\n",
                        "Predictions: ['']\n",
                        "Labels     : ['supine chest ap view shows : pigtail catheter at right lower chest. decreased amount of right pleural effusion. air in the right lower pleural space. poor lung expansion. mild subcutaneous emphysema at right chest wall. right pleural thickening. ill - defined masses at right perihilar region. normal heart size.']\n",
                        "\n"
                    ]
                },
                {
                    "name": "stderr",
                    "output_type": "stream",
                    "text": [
                        "Evaluating: :  90%|█████████ | 9/10 [00:20<00:02,  2.24s/it]"
                    ]
                },
                {
                    "name": "stdout",
                    "output_type": "stream",
                    "text": [
                        "Names      : ['NLP_CHEST_071']\n",
                        "Predictions: ['']\n",
                        "Labels     : ['chest film shows : impression : - bilateral lung infiltrations. - suspect right lower lung patch. blunting right cp angle. - tortuous atherosclerotic aorta. - scoliosis, djd and osteoporosis of spine. compression fracture of t12. old fracture of left ribs. - s / p fixation in l - spine. - s / p tracheostomy and ng tube.']\n",
                        "\n"
                    ]
                },
                {
                    "name": "stderr",
                    "output_type": "stream",
                    "text": [
                        "Evaluating: : 100%|██████████| 10/10 [00:22<00:00,  2.27s/it]\n"
                    ]
                },
                {
                    "name": "stdout",
                    "output_type": "stream",
                    "text": [
                        "Names      : ['NLP_CHEST_085']\n",
                        "Predictions: ['']\n",
                        "Labels     : ['chest x ray : - right pneumothorax with pleural effusion, status post drainge tube placement. - extensive subcutaneous emphysema from neck to right side thoracic cage. - increased right hilar opacity. - atherosclerosis and tortuous aorta. - obscured bilateral costophrenic angles. - spondylosis and mild scoliosis of thoracolumbar spine. - oa of right glenohumeral joint. - generalized osteopenia.']\n",
                        "\n",
                        "Rouge-2 score : {'Rouge-L-P': 0.19278058911032536, 'Rouge-L-R': 0.15945076895309102, 'Rouge-L-F': 0.15945076895309102, 'Rouge-2-P': 0.1153683033540112, 'Rouge-2-R': 0.08805738898123353, 'Rouge-2-F': 0.08805738898123353}\n"
                    ]
                },
                {
                    "name": "stderr",
                    "output_type": "stream",
                    "text": [
                        "Training Epoch [9 / 50]: 100%|██████████| 89/89 [00:14<00:00,  6.34it/s, loss=0.173]\n",
                        "Evaluating: :  10%|█         | 1/10 [00:02<00:21,  2.39s/it]"
                    ]
                },
                {
                    "name": "stdout",
                    "output_type": "stream",
                    "text": [
                        "Names      : ['NLP_CHEST_002']\n",
                        "Predictions: ['']\n",
                        "Labels     : ['chest pa view shows : partial atelectasis at left lower lung field. left pleural effusion. borderline heart size. atherosclerotic change of aortic knob. s / p port - a implantation via left subclavian vein. intraperitoneal port catheter. surgical clips at ruq of abdomen.']\n",
                        "\n"
                    ]
                },
                {
                    "name": "stderr",
                    "output_type": "stream",
                    "text": [
                        "Evaluating: :  20%|██        | 2/10 [00:04<00:18,  2.25s/it]"
                    ]
                },
                {
                    "name": "stdout",
                    "output_type": "stream",
                    "text": [
                        "Names      : ['NLP_CHEST_004']\n",
                        "Predictions: ['']\n",
                        "Labels     : ['chest pa view show : impression : - s / p rll wedge resection. - bilateral lungs metastasis. - left lower lung subsegmental atelectasis. - increased infiltrations in both lungs. - blunting right cp angle. - tortuous atherosclerotic aorta. - scoliosis, djd and osteoporosis of spine. - compression fracture of l1.']\n",
                        "\n"
                    ]
                },
                {
                    "name": "stderr",
                    "output_type": "stream",
                    "text": [
                        "Evaluating: :  30%|███       | 3/10 [00:06<00:15,  2.24s/it]"
                    ]
                },
                {
                    "name": "stdout",
                    "output_type": "stream",
                    "text": [
                        "Names      : ['NLP_CHEST_011']\n",
                        "Predictions: ['']\n",
                        "Labels     : [\"chest ap view showed : 1. s / p sternotomy and cabg. enlarged heart size with tortuous aorta. 2. r't middle and lower lung faint patches. l't lower lung consolidation. l't pleural effusion. 3. no mediastinum widening. 4. s / p endotracheal tube and ng intubation.\"]\n",
                        "\n"
                    ]
                },
                {
                    "name": "stderr",
                    "output_type": "stream",
                    "text": [
                        "Evaluating: :  40%|████      | 4/10 [00:09<00:13,  2.24s/it]"
                    ]
                },
                {
                    "name": "stdout",
                    "output_type": "stream",
                    "text": [
                        "Names      : ['NLP_CHEST_015']\n",
                        "Predictions: ['']\n",
                        "Labels     : ['chest x ray : - no obvious lung mass nor consolidation patch. - normal heart size. - no pleural effusion.']\n",
                        "\n"
                    ]
                },
                {
                    "name": "stderr",
                    "output_type": "stream",
                    "text": [
                        "Evaluating: :  50%|█████     | 5/10 [00:11<00:11,  2.24s/it]"
                    ]
                },
                {
                    "name": "stdout",
                    "output_type": "stream",
                    "text": [
                        "Names      : ['NLP_CHEST_027']\n",
                        "Predictions: ['']\n",
                        "Labels     : ['chest pa view : impression : > cardiomegaly with bilateral pulmonary congestion. > postinflammatory fibrosis in both upper lungs. > atherosclerosis of aorta. > old fractures of left 5th and 6th ribs. > r / o osteoporosis. > spondylosis of thoracolumbar spine. > s / p abdominal operation in ruq.']\n",
                        "\n"
                    ]
                },
                {
                    "name": "stderr",
                    "output_type": "stream",
                    "text": [
                        "Evaluating: :  60%|██████    | 6/10 [00:13<00:09,  2.26s/it]"
                    ]
                },
                {
                    "name": "stdout",
                    "output_type": "stream",
                    "text": [
                        "Names      : ['NLP_CHEST_031']\n",
                        "Predictions: ['']\n",
                        "Labels     : ['chest pa view : impression : - increased both lung markings. - compatible with right lung nodules. - fibrotic lesion in left upper lung. - normal heart size. atherosclerotic aorta. - suspect right pleural effusion. - spondylosis. r / o osteoporosis. - compatible with multiple bony metastases. - s / p ng and endotracheal tube. - s / p lt subclavian port - a - cath.']\n",
                        "\n"
                    ]
                },
                {
                    "name": "stderr",
                    "output_type": "stream",
                    "text": [
                        "Evaluating: :  70%|███████   | 7/10 [00:15<00:06,  2.27s/it]"
                    ]
                },
                {
                    "name": "stdout",
                    "output_type": "stream",
                    "text": [
                        "Names      : ['NLP_CHEST_057']\n",
                        "Predictions: ['']\n",
                        "Labels     : ['chest plain film shows : impression : - increased infiltrations in both lungs. - tortuous atherosclerotic dilated aorta. - normal heart size. - djd of spine. old fracture of right ribs. - increased both lung markings. s / p lt jugular cvc insertion. s / p ng and endotracheal tube. - susp. lt pneumothorax. suspect pneumomediastinum. subcutaneous emphysema in bilateral neck. - s / p bilateral chest tube insertion.']\n",
                        "\n"
                    ]
                },
                {
                    "name": "stderr",
                    "output_type": "stream",
                    "text": [
                        "Evaluating: :  80%|████████  | 8/10 [00:18<00:04,  2.25s/it]"
                    ]
                },
                {
                    "name": "stdout",
                    "output_type": "stream",
                    "text": [
                        "Names      : ['NLP_CHEST_059']\n",
                        "Predictions: ['']\n",
                        "Labels     : ['supine chest ap view shows : pigtail catheter at right lower chest. decreased amount of right pleural effusion. air in the right lower pleural space. poor lung expansion. mild subcutaneous emphysema at right chest wall. right pleural thickening. ill - defined masses at right perihilar region. normal heart size.']\n",
                        "\n"
                    ]
                },
                {
                    "name": "stderr",
                    "output_type": "stream",
                    "text": [
                        "Evaluating: :  90%|█████████ | 9/10 [00:20<00:02,  2.26s/it]"
                    ]
                },
                {
                    "name": "stdout",
                    "output_type": "stream",
                    "text": [
                        "Names      : ['NLP_CHEST_071']\n",
                        "Predictions: ['']\n",
                        "Labels     : ['chest film shows : impression : - bilateral lung infiltrations. - suspect right lower lung patch. blunting right cp angle. - tortuous atherosclerotic aorta. - scoliosis, djd and osteoporosis of spine. compression fracture of t12. old fracture of left ribs. - s / p fixation in l - spine. - s / p tracheostomy and ng tube.']\n",
                        "\n"
                    ]
                },
                {
                    "name": "stderr",
                    "output_type": "stream",
                    "text": [
                        "Evaluating: : 100%|██████████| 10/10 [00:22<00:00,  2.26s/it]\n"
                    ]
                },
                {
                    "name": "stdout",
                    "output_type": "stream",
                    "text": [
                        "Names      : ['NLP_CHEST_085']\n",
                        "Predictions: ['']\n",
                        "Labels     : ['chest x ray : - right pneumothorax with pleural effusion, status post drainge tube placement. - extensive subcutaneous emphysema from neck to right side thoracic cage. - increased right hilar opacity. - atherosclerosis and tortuous aorta. - obscured bilateral costophrenic angles. - spondylosis and mild scoliosis of thoracolumbar spine. - oa of right glenohumeral joint. - generalized osteopenia.']\n",
                        "\n",
                        "Rouge-2 score : {'Rouge-L-P': 0.17136052365362253, 'Rouge-L-R': 0.141734016847192, 'Rouge-L-F': 0.141734016847192, 'Rouge-2-P': 0.10254960298134329, 'Rouge-2-R': 0.07827323464998535, 'Rouge-2-F': 0.07827323464998535}\n"
                    ]
                },
                {
                    "name": "stderr",
                    "output_type": "stream",
                    "text": [
                        "Training Epoch [10 / 50]: 100%|██████████| 89/89 [00:14<00:00,  6.33it/s, loss=0.151]\n",
                        "Evaluating: :  10%|█         | 1/10 [00:02<00:19,  2.17s/it]"
                    ]
                },
                {
                    "name": "stdout",
                    "output_type": "stream",
                    "text": [
                        "Names      : ['NLP_CHEST_002']\n",
                        "Predictions: ['chest plain film shows : impression : - increased infiltrations in both lungs. - normal heart size. - djd of spine. - s / p ng and endotracheal tube.']\n",
                        "Labels     : ['chest pa view shows : partial atelectasis at left lower lung field. left pleural effusion. borderline heart size. atherosclerotic change of aortic knob. s / p port - a implantation via left subclavian vein. intraperitoneal port catheter. surgical clips at ruq of abdomen.']\n",
                        "\n"
                    ]
                },
                {
                    "name": "stderr",
                    "output_type": "stream",
                    "text": [
                        "Evaluating: :  20%|██        | 2/10 [00:04<00:17,  2.18s/it]"
                    ]
                },
                {
                    "name": "stdout",
                    "output_type": "stream",
                    "text": [
                        "Names      : ['NLP_CHEST_004']\n",
                        "Predictions: ['chest plain film shows : impression : - increased infiltrations in both lungs. - normal heart size. - djd of spine. - s / p ng and endotracheal tube.']\n",
                        "Labels     : ['chest pa view show : impression : - s / p rll wedge resection. - bilateral lungs metastasis. - left lower lung subsegmental atelectasis. - increased infiltrations in both lungs. - blunting right cp angle. - tortuous atherosclerotic aorta. - scoliosis, djd and osteoporosis of spine. - compression fracture of l1.']\n",
                        "\n"
                    ]
                },
                {
                    "name": "stderr",
                    "output_type": "stream",
                    "text": [
                        "Evaluating: :  30%|███       | 3/10 [00:06<00:15,  2.22s/it]"
                    ]
                },
                {
                    "name": "stdout",
                    "output_type": "stream",
                    "text": [
                        "Names      : ['NLP_CHEST_011']\n",
                        "Predictions: ['chest plain film shows : impression : - increased infiltrations in both lungs. - normal heart size. - djd of spine. - s / p ng and endotracheal tube.']\n",
                        "Labels     : [\"chest ap view showed : 1. s / p sternotomy and cabg. enlarged heart size with tortuous aorta. 2. r't middle and lower lung faint patches. l't lower lung consolidation. l't pleural effusion. 3. no mediastinum widening. 4. s / p endotracheal tube and ng intubation.\"]\n",
                        "\n"
                    ]
                },
                {
                    "name": "stderr",
                    "output_type": "stream",
                    "text": [
                        "Evaluating: :  40%|████      | 4/10 [00:08<00:13,  2.21s/it]"
                    ]
                },
                {
                    "name": "stdout",
                    "output_type": "stream",
                    "text": [
                        "Names      : ['NLP_CHEST_015']\n",
                        "Predictions: ['chest plain film shows : impression : - increased infiltrations in both lungs. - normal heart size. - djd of spine. - s / p ng and endotracheal tube.']\n",
                        "Labels     : ['chest x ray : - no obvious lung mass nor consolidation patch. - normal heart size. - no pleural effusion.']\n",
                        "\n"
                    ]
                },
                {
                    "name": "stderr",
                    "output_type": "stream",
                    "text": [
                        "Evaluating: :  50%|█████     | 5/10 [00:11<00:11,  2.21s/it]"
                    ]
                },
                {
                    "name": "stdout",
                    "output_type": "stream",
                    "text": [
                        "Names      : ['NLP_CHEST_027']\n",
                        "Predictions: ['chest plain film shows : impression : - increased infiltrations in both lungs. - blunting bilateral cp angles. - cardiomegaly. - atherosclerotic aorta. - djd of spine. - s / p ng and endotracheal tube.']\n",
                        "Labels     : ['chest pa view : impression : > cardiomegaly with bilateral pulmonary congestion. > postinflammatory fibrosis in both upper lungs. > atherosclerosis of aorta. > old fractures of left 5th and 6th ribs. > r / o osteoporosis. > spondylosis of thoracolumbar spine. > s / p abdominal operation in ruq.']\n",
                        "\n"
                    ]
                },
                {
                    "name": "stderr",
                    "output_type": "stream",
                    "text": [
                        "Evaluating: :  60%|██████    | 6/10 [00:13<00:08,  2.21s/it]"
                    ]
                },
                {
                    "name": "stdout",
                    "output_type": "stream",
                    "text": [
                        "Names      : ['NLP_CHEST_031']\n",
                        "Predictions: ['chest plain film shows : impression : - increased infiltrations in both lungs. - normal heart size. - djd of spine. - s / p ng and endotracheal tube.']\n",
                        "Labels     : ['chest pa view : impression : - increased both lung markings. - compatible with right lung nodules. - fibrotic lesion in left upper lung. - normal heart size. atherosclerotic aorta. - suspect right pleural effusion. - spondylosis. r / o osteoporosis. - compatible with multiple bony metastases. - s / p ng and endotracheal tube. - s / p lt subclavian port - a - cath.']\n",
                        "\n"
                    ]
                },
                {
                    "name": "stderr",
                    "output_type": "stream",
                    "text": [
                        "Evaluating: :  70%|███████   | 7/10 [00:15<00:06,  2.22s/it]"
                    ]
                },
                {
                    "name": "stdout",
                    "output_type": "stream",
                    "text": [
                        "Names      : ['NLP_CHEST_057']\n",
                        "Predictions: ['chest plain film shows : impression : - increased infiltrations in both lungs. - normal heart size. - djd of spine. - s / p ng and endotracheal tube.']\n",
                        "Labels     : ['chest plain film shows : impression : - increased infiltrations in both lungs. - tortuous atherosclerotic dilated aorta. - normal heart size. - djd of spine. old fracture of right ribs. - increased both lung markings. s / p lt jugular cvc insertion. s / p ng and endotracheal tube. - susp. lt pneumothorax. suspect pneumomediastinum. subcutaneous emphysema in bilateral neck. - s / p bilateral chest tube insertion.']\n",
                        "\n"
                    ]
                },
                {
                    "name": "stderr",
                    "output_type": "stream",
                    "text": [
                        "Evaluating: :  80%|████████  | 8/10 [00:17<00:04,  2.23s/it]"
                    ]
                },
                {
                    "name": "stdout",
                    "output_type": "stream",
                    "text": [
                        "Names      : ['NLP_CHEST_059']\n",
                        "Predictions: ['chest plain film shows : impression : - increased infiltrations in both lungs. - normal heart size. - djd of spine. - s / p ng and endotracheal tube.']\n",
                        "Labels     : ['supine chest ap view shows : pigtail catheter at right lower chest. decreased amount of right pleural effusion. air in the right lower pleural space. poor lung expansion. mild subcutaneous emphysema at right chest wall. right pleural thickening. ill - defined masses at right perihilar region. normal heart size.']\n",
                        "\n"
                    ]
                },
                {
                    "name": "stderr",
                    "output_type": "stream",
                    "text": [
                        "Evaluating: :  90%|█████████ | 9/10 [00:20<00:02,  2.25s/it]"
                    ]
                },
                {
                    "name": "stdout",
                    "output_type": "stream",
                    "text": [
                        "Names      : ['NLP_CHEST_071']\n",
                        "Predictions: ['chest plain film shows : impression : - increased infiltrations in both lungs. - normal heart size. - djd of spine. - s / p ng and endotracheal tube.']\n",
                        "Labels     : ['chest film shows : impression : - bilateral lung infiltrations. - suspect right lower lung patch. blunting right cp angle. - tortuous atherosclerotic aorta. - scoliosis, djd and osteoporosis of spine. compression fracture of t12. old fracture of left ribs. - s / p fixation in l - spine. - s / p tracheostomy and ng tube.']\n",
                        "\n"
                    ]
                },
                {
                    "name": "stderr",
                    "output_type": "stream",
                    "text": [
                        "Evaluating: : 100%|██████████| 10/10 [00:22<00:00,  2.23s/it]\n"
                    ]
                },
                {
                    "name": "stdout",
                    "output_type": "stream",
                    "text": [
                        "Names      : ['NLP_CHEST_085']\n",
                        "Predictions: ['chest plain film shows : impression : - increased infiltrations in both lungs. - normal heart size. - djd of spine. - s / p ng and endotracheal tube.']\n",
                        "Labels     : ['chest x ray : - right pneumothorax with pleural effusion, status post drainge tube placement. - extensive subcutaneous emphysema from neck to right side thoracic cage. - increased right hilar opacity. - atherosclerosis and tortuous aorta. - obscured bilateral costophrenic angles. - spondylosis and mild scoliosis of thoracolumbar spine. - oa of right glenohumeral joint. - generalized osteopenia.']\n",
                        "\n",
                        "Rouge-2 score : {'Rouge-L-P': 0.20069737769220114, 'Rouge-L-R': 0.15448810596770762, 'Rouge-L-F': 0.15448810596770762, 'Rouge-2-P': 0.12305094520421736, 'Rouge-2-R': 0.08735618815677418, 'Rouge-2-F': 0.08735618815677418}\n"
                    ]
                },
                {
                    "name": "stderr",
                    "output_type": "stream",
                    "text": [
                        "Training Epoch [11 / 50]: 100%|██████████| 89/89 [00:13<00:00,  6.45it/s, loss=0.137]\n",
                        "Evaluating: :  10%|█         | 1/10 [00:02<00:20,  2.29s/it]"
                    ]
                },
                {
                    "name": "stdout",
                    "output_type": "stream",
                    "text": [
                        "Names      : ['NLP_CHEST_002']\n",
                        "Predictions: ['chest plain film shows : impression : - increased both lung markings. - blunting bilateral cp angles. - blunting bilateral cp angles. - tortuous atherosclerotic dilated aorta. - cardiomegaly. - djd of spine. - s / p fixation in l - spine.']\n",
                        "Labels     : ['chest pa view shows : partial atelectasis at left lower lung field. left pleural effusion. borderline heart size. atherosclerotic change of aortic knob. s / p port - a implantation via left subclavian vein. intraperitoneal port catheter. surgical clips at ruq of abdomen.']\n",
                        "\n"
                    ]
                },
                {
                    "name": "stderr",
                    "output_type": "stream",
                    "text": [
                        "Evaluating: :  20%|██        | 2/10 [00:04<00:18,  2.29s/it]"
                    ]
                },
                {
                    "name": "stdout",
                    "output_type": "stream",
                    "text": [
                        "Names      : ['NLP_CHEST_004']\n",
                        "Predictions: ['chest plain film shows : impression : - increased infiltrations in both lungs. - blunting bilateral cp angles. - blunting bilateral cp angles. - tortuous atherosclerotic dilated aorta. - cardiomegaly. - djd of spine. - s / p fixation in l - spine.']\n",
                        "Labels     : ['chest pa view show : impression : - s / p rll wedge resection. - bilateral lungs metastasis. - left lower lung subsegmental atelectasis. - increased infiltrations in both lungs. - blunting right cp angle. - tortuous atherosclerotic aorta. - scoliosis, djd and osteoporosis of spine. - compression fracture of l1.']\n",
                        "\n"
                    ]
                },
                {
                    "name": "stderr",
                    "output_type": "stream",
                    "text": [
                        "Evaluating: :  30%|███       | 3/10 [00:06<00:15,  2.26s/it]"
                    ]
                },
                {
                    "name": "stdout",
                    "output_type": "stream",
                    "text": [
                        "Names      : ['NLP_CHEST_011']\n",
                        "Predictions: ['chest plain film shows : impression : - increased infiltrations in both lungs. - blunting bilateral cp angles. - blunting bilateral cp angles. - tortuous atherosclerotic dilated aorta. - cardiomegaly. - djd of spine. - s / p fixation in l - spine.']\n",
                        "Labels     : [\"chest ap view showed : 1. s / p sternotomy and cabg. enlarged heart size with tortuous aorta. 2. r't middle and lower lung faint patches. l't lower lung consolidation. l't pleural effusion. 3. no mediastinum widening. 4. s / p endotracheal tube and ng intubation.\"]\n",
                        "\n"
                    ]
                },
                {
                    "name": "stderr",
                    "output_type": "stream",
                    "text": [
                        "Evaluating: :  40%|████      | 4/10 [00:09<00:13,  2.27s/it]"
                    ]
                },
                {
                    "name": "stdout",
                    "output_type": "stream",
                    "text": [
                        "Names      : ['NLP_CHEST_015']\n",
                        "Predictions: ['chest plain film shows : impression : - increased infiltrations in both lungs. - blunting bilateral cp angles. - blunting bilateral cp angles. - tortuous atherosclerotic dilated aorta. - cardiomegaly. - djd of spine. - s / p fixation in l - spine.']\n",
                        "Labels     : ['chest x ray : - no obvious lung mass nor consolidation patch. - normal heart size. - no pleural effusion.']\n",
                        "\n"
                    ]
                },
                {
                    "name": "stderr",
                    "output_type": "stream",
                    "text": [
                        "Evaluating: :  50%|█████     | 5/10 [00:11<00:11,  2.28s/it]"
                    ]
                },
                {
                    "name": "stdout",
                    "output_type": "stream",
                    "text": [
                        "Names      : ['NLP_CHEST_027']\n",
                        "Predictions: ['chest plain film shows : impression : - increased both lung markings. - blunting bilateral cp angles. - blunting bilateral cp angles. - tortuous atherosclerotic dilated aorta. - cardiomegaly. - djd of spine. - s / p fixation in l - spine.']\n",
                        "Labels     : ['chest pa view : impression : > cardiomegaly with bilateral pulmonary congestion. > postinflammatory fibrosis in both upper lungs. > atherosclerosis of aorta. > old fractures of left 5th and 6th ribs. > r / o osteoporosis. > spondylosis of thoracolumbar spine. > s / p abdominal operation in ruq.']\n",
                        "\n"
                    ]
                },
                {
                    "name": "stderr",
                    "output_type": "stream",
                    "text": [
                        "Evaluating: :  60%|██████    | 6/10 [00:13<00:09,  2.27s/it]"
                    ]
                },
                {
                    "name": "stdout",
                    "output_type": "stream",
                    "text": [
                        "Names      : ['NLP_CHEST_031']\n",
                        "Predictions: ['chest plain film shows : impression : - increased infiltrations in both lungs. - blunting bilateral cp angles. - blunting bilateral cp angles. - tortuous atherosclerotic dilated aorta. - cardiomegaly. - djd of spine. - s / p fixation in l - spine.']\n",
                        "Labels     : ['chest pa view : impression : - increased both lung markings. - compatible with right lung nodules. - fibrotic lesion in left upper lung. - normal heart size. atherosclerotic aorta. - suspect right pleural effusion. - spondylosis. r / o osteoporosis. - compatible with multiple bony metastases. - s / p ng and endotracheal tube. - s / p lt subclavian port - a - cath.']\n",
                        "\n"
                    ]
                },
                {
                    "name": "stderr",
                    "output_type": "stream",
                    "text": [
                        "Evaluating: :  70%|███████   | 7/10 [00:15<00:06,  2.29s/it]"
                    ]
                },
                {
                    "name": "stdout",
                    "output_type": "stream",
                    "text": [
                        "Names      : ['NLP_CHEST_057']\n",
                        "Predictions: ['chest plain film shows : impression : - increased infiltrations in both lungs. - blunting bilateral cp angles. - blunting bilateral cp angles. - tortuous atherosclerotic dilated aorta. - cardiomegaly. - djd of spine. - s / p fixation in l - spine.']\n",
                        "Labels     : ['chest plain film shows : impression : - increased infiltrations in both lungs. - tortuous atherosclerotic dilated aorta. - normal heart size. - djd of spine. old fracture of right ribs. - increased both lung markings. s / p lt jugular cvc insertion. s / p ng and endotracheal tube. - susp. lt pneumothorax. suspect pneumomediastinum. subcutaneous emphysema in bilateral neck. - s / p bilateral chest tube insertion.']\n",
                        "\n"
                    ]
                },
                {
                    "name": "stderr",
                    "output_type": "stream",
                    "text": [
                        "Evaluating: :  80%|████████  | 8/10 [00:18<00:04,  2.29s/it]"
                    ]
                },
                {
                    "name": "stdout",
                    "output_type": "stream",
                    "text": [
                        "Names      : ['NLP_CHEST_059']\n",
                        "Predictions: ['chest plain film shows : impression : - increased infiltrations in both lungs. - blunting bilateral cp angles. - blunting bilateral cp angles. - tortuous atherosclerotic dilated aorta. - cardiomegaly. - djd of spine. - s / p fixation in l - spine.']\n",
                        "Labels     : ['supine chest ap view shows : pigtail catheter at right lower chest. decreased amount of right pleural effusion. air in the right lower pleural space. poor lung expansion. mild subcutaneous emphysema at right chest wall. right pleural thickening. ill - defined masses at right perihilar region. normal heart size.']\n",
                        "\n"
                    ]
                },
                {
                    "name": "stderr",
                    "output_type": "stream",
                    "text": [
                        "Evaluating: :  90%|█████████ | 9/10 [00:20<00:02,  2.28s/it]"
                    ]
                },
                {
                    "name": "stdout",
                    "output_type": "stream",
                    "text": [
                        "Names      : ['NLP_CHEST_071']\n",
                        "Predictions: ['chest plain film shows : impression : - increased infiltrations in both lungs. - blunting bilateral cp angles. - blunting bilateral cp angles. - tortuous atherosclerotic dilated aorta. - cardiomegaly. - djd of spine. - s / p fixation in l - spine.']\n",
                        "Labels     : ['chest film shows : impression : - bilateral lung infiltrations. - suspect right lower lung patch. blunting right cp angle. - tortuous atherosclerotic aorta. - scoliosis, djd and osteoporosis of spine. compression fracture of t12. old fracture of left ribs. - s / p fixation in l - spine. - s / p tracheostomy and ng tube.']\n",
                        "\n"
                    ]
                },
                {
                    "name": "stderr",
                    "output_type": "stream",
                    "text": [
                        "Evaluating: : 100%|██████████| 10/10 [00:22<00:00,  2.27s/it]\n"
                    ]
                },
                {
                    "name": "stdout",
                    "output_type": "stream",
                    "text": [
                        "Names      : ['NLP_CHEST_085']\n",
                        "Predictions: ['chest plain film shows : impression : - increased both lung markings. - blunting bilateral cp angles. - blunting bilateral cp angles. - tortuous atherosclerotic dilated aorta. - cardiomegaly. - djd of spine. - s / p fixation in l - spine.']\n",
                        "Labels     : ['chest x ray : - right pneumothorax with pleural effusion, status post drainge tube placement. - extensive subcutaneous emphysema from neck to right side thoracic cage. - increased right hilar opacity. - atherosclerosis and tortuous aorta. - obscured bilateral costophrenic angles. - spondylosis and mild scoliosis of thoracolumbar spine. - oa of right glenohumeral joint. - generalized osteopenia.']\n",
                        "\n",
                        "Rouge-2 score : {'Rouge-L-P': 0.21476868222697834, 'Rouge-L-R': 0.16652854728574623, 'Rouge-L-F': 0.16652854728574623, 'Rouge-2-P': 0.13010966510487923, 'Rouge-2-R': 0.09319777605558233, 'Rouge-2-F': 0.09319777605558233}\n"
                    ]
                },
                {
                    "name": "stderr",
                    "output_type": "stream",
                    "text": [
                        "Training Epoch [12 / 50]: 100%|██████████| 89/89 [00:13<00:00,  6.37it/s, loss=0.121] \n",
                        "Evaluating: :  10%|█         | 1/10 [00:02<00:22,  2.47s/it]"
                    ]
                },
                {
                    "name": "stdout",
                    "output_type": "stream",
                    "text": [
                        "Names      : ['NLP_CHEST_002']\n",
                        "Predictions: ['chest plain film shows : impression : - increased infiltrations in both lungs. - blunting bilateral cp angles. - cardiomegaly. - atherosclerosis of aorta. - scoliosis and djd of spine. - bilateral apical pleural thickening.']\n",
                        "Labels     : ['chest pa view shows : partial atelectasis at left lower lung field. left pleural effusion. borderline heart size. atherosclerotic change of aortic knob. s / p port - a implantation via left subclavian vein. intraperitoneal port catheter. surgical clips at ruq of abdomen.']\n",
                        "\n"
                    ]
                },
                {
                    "name": "stderr",
                    "output_type": "stream",
                    "text": [
                        "Evaluating: :  20%|██        | 2/10 [00:04<00:19,  2.38s/it]"
                    ]
                },
                {
                    "name": "stdout",
                    "output_type": "stream",
                    "text": [
                        "Names      : ['NLP_CHEST_004']\n",
                        "Predictions: ['chest plain film shows : impression : - increased infiltrations in both lungs. - blunting bilateral cp angles. - cardiomegaly. - atherosclerosis of aorta. - scoliosis and djd of spine. - s / p lt subclavian port - a - cath.']\n",
                        "Labels     : ['chest pa view show : impression : - s / p rll wedge resection. - bilateral lungs metastasis. - left lower lung subsegmental atelectasis. - increased infiltrations in both lungs. - blunting right cp angle. - tortuous atherosclerotic aorta. - scoliosis, djd and osteoporosis of spine. - compression fracture of l1.']\n",
                        "\n"
                    ]
                },
                {
                    "name": "stderr",
                    "output_type": "stream",
                    "text": [
                        "Evaluating: :  30%|███       | 3/10 [00:07<00:16,  2.37s/it]"
                    ]
                },
                {
                    "name": "stdout",
                    "output_type": "stream",
                    "text": [
                        "Names      : ['NLP_CHEST_011']\n",
                        "Predictions: ['chest plain film shows : impression : - increased infiltrations in both lungs. - blunting bilateral cp angles. - cardiomegaly. - atherosclerosis of aorta. - scoliosis and djd of spine. - s / p lt subclavian port - a - cath.']\n",
                        "Labels     : [\"chest ap view showed : 1. s / p sternotomy and cabg. enlarged heart size with tortuous aorta. 2. r't middle and lower lung faint patches. l't lower lung consolidation. l't pleural effusion. 3. no mediastinum widening. 4. s / p endotracheal tube and ng intubation.\"]\n",
                        "\n"
                    ]
                },
                {
                    "name": "stderr",
                    "output_type": "stream",
                    "text": [
                        "Evaluating: :  40%|████      | 4/10 [00:09<00:13,  2.33s/it]"
                    ]
                },
                {
                    "name": "stdout",
                    "output_type": "stream",
                    "text": [
                        "Names      : ['NLP_CHEST_015']\n",
                        "Predictions: ['chest plain film shows : impression : - increased infiltrations in both lungs. - blunting bilateral cp angles. - cardiomegaly. - atherosclerosis of aorta. - scoliosis and djd of spine. - bilateral apical pleural thickening.']\n",
                        "Labels     : ['chest x ray : - no obvious lung mass nor consolidation patch. - normal heart size. - no pleural effusion.']\n",
                        "\n"
                    ]
                },
                {
                    "name": "stderr",
                    "output_type": "stream",
                    "text": [
                        "Evaluating: :  50%|█████     | 5/10 [00:11<00:11,  2.31s/it]"
                    ]
                },
                {
                    "name": "stdout",
                    "output_type": "stream",
                    "text": [
                        "Names      : ['NLP_CHEST_027']\n",
                        "Predictions: ['chest plain film shows : impression : - increased infiltrations in both lungs. - blunting bilateral cp angles. - cardiomegaly. - atherosclerosis of aorta. - scoliosis and djd of spine. - bilateral apical pleural thickening.']\n",
                        "Labels     : ['chest pa view : impression : > cardiomegaly with bilateral pulmonary congestion. > postinflammatory fibrosis in both upper lungs. > atherosclerosis of aorta. > old fractures of left 5th and 6th ribs. > r / o osteoporosis. > spondylosis of thoracolumbar spine. > s / p abdominal operation in ruq.']\n",
                        "\n"
                    ]
                },
                {
                    "name": "stderr",
                    "output_type": "stream",
                    "text": [
                        "Evaluating: :  60%|██████    | 6/10 [00:14<00:09,  2.32s/it]"
                    ]
                },
                {
                    "name": "stdout",
                    "output_type": "stream",
                    "text": [
                        "Names      : ['NLP_CHEST_031']\n",
                        "Predictions: ['chest plain film shows : impression : - increased infiltrations in both lungs. - blunting bilateral cp angles. - cardiomegaly. - atherosclerosis of aorta. - scoliosis and djd of spine. - s / p lt subclavian port - a - cath.']\n",
                        "Labels     : ['chest pa view : impression : - increased both lung markings. - compatible with right lung nodules. - fibrotic lesion in left upper lung. - normal heart size. atherosclerotic aorta. - suspect right pleural effusion. - spondylosis. r / o osteoporosis. - compatible with multiple bony metastases. - s / p ng and endotracheal tube. - s / p lt subclavian port - a - cath.']\n",
                        "\n"
                    ]
                },
                {
                    "name": "stderr",
                    "output_type": "stream",
                    "text": [
                        "Evaluating: :  70%|███████   | 7/10 [00:16<00:06,  2.33s/it]"
                    ]
                },
                {
                    "name": "stdout",
                    "output_type": "stream",
                    "text": [
                        "Names      : ['NLP_CHEST_057']\n",
                        "Predictions: ['chest plain film shows : impression : - increased infiltrations in both lungs. - blunting bilateral cp angles. - cardiomegaly. - atherosclerosis of aorta. - scoliosis and djd of spine. - bilateral apical pleural thickening.']\n",
                        "Labels     : ['chest plain film shows : impression : - increased infiltrations in both lungs. - tortuous atherosclerotic dilated aorta. - normal heart size. - djd of spine. old fracture of right ribs. - increased both lung markings. s / p lt jugular cvc insertion. s / p ng and endotracheal tube. - susp. lt pneumothorax. suspect pneumomediastinum. subcutaneous emphysema in bilateral neck. - s / p bilateral chest tube insertion.']\n",
                        "\n"
                    ]
                },
                {
                    "name": "stderr",
                    "output_type": "stream",
                    "text": [
                        "Evaluating: :  80%|████████  | 8/10 [00:18<00:04,  2.33s/it]"
                    ]
                },
                {
                    "name": "stdout",
                    "output_type": "stream",
                    "text": [
                        "Names      : ['NLP_CHEST_059']\n",
                        "Predictions: ['chest plain film shows : impression : - increased infiltrations in both lungs. - blunting bilateral cp angles. - cardiomegaly. - atherosclerosis of aorta. - scoliosis and djd of spine. - bilateral apical pleural thickening.']\n",
                        "Labels     : ['supine chest ap view shows : pigtail catheter at right lower chest. decreased amount of right pleural effusion. air in the right lower pleural space. poor lung expansion. mild subcutaneous emphysema at right chest wall. right pleural thickening. ill - defined masses at right perihilar region. normal heart size.']\n",
                        "\n"
                    ]
                },
                {
                    "name": "stderr",
                    "output_type": "stream",
                    "text": [
                        "Evaluating: :  90%|█████████ | 9/10 [00:21<00:02,  2.33s/it]"
                    ]
                },
                {
                    "name": "stdout",
                    "output_type": "stream",
                    "text": [
                        "Names      : ['NLP_CHEST_071']\n",
                        "Predictions: ['chest plain film shows : impression : - increased infiltrations in both lungs. - blunting bilateral cp angles. - cardiomegaly. - atherosclerosis of aorta. - scoliosis and djd of spine. - s / p lt subclavian port - a - cath.']\n",
                        "Labels     : ['chest film shows : impression : - bilateral lung infiltrations. - suspect right lower lung patch. blunting right cp angle. - tortuous atherosclerotic aorta. - scoliosis, djd and osteoporosis of spine. compression fracture of t12. old fracture of left ribs. - s / p fixation in l - spine. - s / p tracheostomy and ng tube.']\n",
                        "\n"
                    ]
                },
                {
                    "name": "stderr",
                    "output_type": "stream",
                    "text": [
                        "Evaluating: : 100%|██████████| 10/10 [00:23<00:00,  2.33s/it]\n"
                    ]
                },
                {
                    "name": "stdout",
                    "output_type": "stream",
                    "text": [
                        "Names      : ['NLP_CHEST_085']\n",
                        "Predictions: ['chest plain film shows : impression : - increased infiltrations in both lungs. - blunting bilateral cp angles. - cardiomegaly. - atherosclerosis of aorta. - scoliosis and djd of spine. - bilateral apical pleural thickening.']\n",
                        "Labels     : ['chest x ray : - right pneumothorax with pleural effusion, status post drainge tube placement. - extensive subcutaneous emphysema from neck to right side thoracic cage. - increased right hilar opacity. - atherosclerosis and tortuous aorta. - obscured bilateral costophrenic angles. - spondylosis and mild scoliosis of thoracolumbar spine. - oa of right glenohumeral joint. - generalized osteopenia.']\n",
                        "\n",
                        "Rouge-2 score : {'Rouge-L-P': 0.22718488089157102, 'Rouge-L-R': 0.1746878489464328, 'Rouge-L-F': 0.1746878489464328, 'Rouge-2-P': 0.1360318988951589, 'Rouge-2-R': 0.09670086228373487, 'Rouge-2-F': 0.09670086228373487}\n"
                    ]
                },
                {
                    "name": "stderr",
                    "output_type": "stream",
                    "text": [
                        "Training Epoch [13 / 50]: 100%|██████████| 89/89 [00:14<00:00,  6.28it/s, loss=0.11] \n",
                        "Evaluating: :  10%|█         | 1/10 [00:02<00:20,  2.29s/it]"
                    ]
                },
                {
                    "name": "stdout",
                    "output_type": "stream",
                    "text": [
                        "Names      : ['NLP_CHEST_002']\n",
                        "Predictions: [\"chest ap view showed : 1. enlarged heart size with tortuous aorta. 2. l't lung small density. l't upper and middle lung faint patches. l't hydronephrosis of aorta. l't retrocardiac patches. l't upper and middle lungs. l't retrotrocardiac patches. l't upper and middle lung reticulonodular infiltrations. l't upper and middle middle lung reticulonulonodular infiltrations. s / p l't subclavian port - a implantation. l't upper and middle lung faint patches. l't upper lung reticulonulonodular infiltrations. l't upper and middle middle lung patches.\"]\n",
                        "Labels     : ['chest pa view shows : partial atelectasis at left lower lung field. left pleural effusion. borderline heart size. atherosclerotic change of aortic knob. s / p port - a implantation via left subclavian vein. intraperitoneal port catheter. surgical clips at ruq of abdomen.']\n",
                        "\n"
                    ]
                },
                {
                    "name": "stderr",
                    "output_type": "stream",
                    "text": [
                        "Evaluating: :  20%|██        | 2/10 [00:04<00:17,  2.21s/it]"
                    ]
                },
                {
                    "name": "stdout",
                    "output_type": "stream",
                    "text": [
                        "Names      : ['NLP_CHEST_004']\n",
                        "Predictions: [\"chest ap view showed : 1. enlarged heart size with tortuous aorta. 2. l't lung small density. l't upper and middle lung faint patches. l't hydronephrosis of aorta. l't retrocardiac patches. l't upper and middle lung fields. l't retrocardiac patches. l't upper and l't upper and l't jugular s / p l't intrapleural pigtail drainage.\"]\n",
                        "Labels     : ['chest pa view show : impression : - s / p rll wedge resection. - bilateral lungs metastasis. - left lower lung subsegmental atelectasis. - increased infiltrations in both lungs. - blunting right cp angle. - tortuous atherosclerotic aorta. - scoliosis, djd and osteoporosis of spine. - compression fracture of l1.']\n",
                        "\n"
                    ]
                },
                {
                    "name": "stderr",
                    "output_type": "stream",
                    "text": [
                        "Evaluating: :  30%|███       | 3/10 [00:06<00:15,  2.22s/it]"
                    ]
                },
                {
                    "name": "stdout",
                    "output_type": "stream",
                    "text": [
                        "Names      : ['NLP_CHEST_011']\n",
                        "Predictions: [\"chest ap view showed : 1. enlarged heart size with tortuous aorta. 2. l't lung small density. l't upper and middle lung faint patches. l't hydronephrosis of aorta. l't retrocardiac patches. l't upper and middle lung fields. l't retrocardiac patches. l't upper and l't upper and l't jugular s / p l't intrapleural pigtail drainage.\"]\n",
                        "Labels     : [\"chest ap view showed : 1. s / p sternotomy and cabg. enlarged heart size with tortuous aorta. 2. r't middle and lower lung faint patches. l't lower lung consolidation. l't pleural effusion. 3. no mediastinum widening. 4. s / p endotracheal tube and ng intubation.\"]\n",
                        "\n"
                    ]
                },
                {
                    "name": "stderr",
                    "output_type": "stream",
                    "text": [
                        "Evaluating: :  40%|████      | 4/10 [00:09<00:13,  2.27s/it]"
                    ]
                },
                {
                    "name": "stdout",
                    "output_type": "stream",
                    "text": [
                        "Names      : ['NLP_CHEST_015']\n",
                        "Predictions: ['chest pa view shows : > no obvious lung mass nor consolidation patch. > normal heart size. > no pleural effusion.']\n",
                        "Labels     : ['chest x ray : - no obvious lung mass nor consolidation patch. - normal heart size. - no pleural effusion.']\n",
                        "\n"
                    ]
                },
                {
                    "name": "stderr",
                    "output_type": "stream",
                    "text": [
                        "Evaluating: :  50%|█████     | 5/10 [00:11<00:11,  2.27s/it]"
                    ]
                },
                {
                    "name": "stdout",
                    "output_type": "stream",
                    "text": [
                        "Names      : ['NLP_CHEST_027']\n",
                        "Predictions: [\"chest ap view showed : 1. enlarged heart size with tortuous aorta. 2. l't lung small density. l't upper and middle lung faint patches. l't hydronephrosis of aorta. l't retrocardiac patches. l't upper and middle lungs. l't retrotrocardiac patches. l't upper and l't upper and l't jugular reticulonodular infiltrations. s / p l't intrapleural pigtail drainage.\"]\n",
                        "Labels     : ['chest pa view : impression : > cardiomegaly with bilateral pulmonary congestion. > postinflammatory fibrosis in both upper lungs. > atherosclerosis of aorta. > old fractures of left 5th and 6th ribs. > r / o osteoporosis. > spondylosis of thoracolumbar spine. > s / p abdominal operation in ruq.']\n",
                        "\n"
                    ]
                },
                {
                    "name": "stderr",
                    "output_type": "stream",
                    "text": [
                        "Evaluating: :  60%|██████    | 6/10 [00:13<00:09,  2.26s/it]"
                    ]
                },
                {
                    "name": "stdout",
                    "output_type": "stream",
                    "text": [
                        "Names      : ['NLP_CHEST_031']\n",
                        "Predictions: [\"chest ap view showed : 1. enlarged heart size with tortuous aorta. 2. l't lung small density. l't upper and middle lung faint patches. l't hydronephrosis of aorta. l't retrocardiac patches. l't upper and middle lung fields. l't retrocardiac patches. l't upper and l't upper and l't jugular s / p l't intrapleural pigtail drainage.\"]\n",
                        "Labels     : ['chest pa view : impression : - increased both lung markings. - compatible with right lung nodules. - fibrotic lesion in left upper lung. - normal heart size. atherosclerotic aorta. - suspect right pleural effusion. - spondylosis. r / o osteoporosis. - compatible with multiple bony metastases. - s / p ng and endotracheal tube. - s / p lt subclavian port - a - cath.']\n",
                        "\n"
                    ]
                },
                {
                    "name": "stderr",
                    "output_type": "stream",
                    "text": [
                        "Evaluating: :  70%|███████   | 7/10 [00:15<00:06,  2.28s/it]"
                    ]
                },
                {
                    "name": "stdout",
                    "output_type": "stream",
                    "text": [
                        "Names      : ['NLP_CHEST_057']\n",
                        "Predictions: [\"chest ap view showed : 1. enlarged heart size with tortuous aorta. 2. l't lung small density. l't upper and middle lung faint patches. l't hydronephrosis of aorta. l't retrocardiac patches. l't upper and middle lung fields. l't retrocardiac patches. l't upper and l't lower lung reticulonodular infiltrations. l't upper and middle middle lung re reticulonodular infiltrations. s / p l't subclavian port - a implantation and ng intubation. l't upper and middle lung lung reticulonodular cp.\"]\n",
                        "Labels     : ['chest plain film shows : impression : - increased infiltrations in both lungs. - tortuous atherosclerotic dilated aorta. - normal heart size. - djd of spine. old fracture of right ribs. - increased both lung markings. s / p lt jugular cvc insertion. s / p ng and endotracheal tube. - susp. lt pneumothorax. suspect pneumomediastinum. subcutaneous emphysema in bilateral neck. - s / p bilateral chest tube insertion.']\n",
                        "\n"
                    ]
                },
                {
                    "name": "stderr",
                    "output_type": "stream",
                    "text": [
                        "Evaluating: :  80%|████████  | 8/10 [00:18<00:04,  2.28s/it]"
                    ]
                },
                {
                    "name": "stdout",
                    "output_type": "stream",
                    "text": [
                        "Names      : ['NLP_CHEST_059']\n",
                        "Predictions: [\"chest ap view showed : 1. enlarged heart size with tortuous aorta. 2. l't lung small density. l't upper and middle lung faint patches. l't hydronephrosis of aorta. l't retrocardiac patches. l't upper and middle lungs. l't retrotrocardiac patches. l't upper and l't upper and l't jugular reticulonodular infiltrations. s / p l't intrapleural pigtail drainage.\"]\n",
                        "Labels     : ['supine chest ap view shows : pigtail catheter at right lower chest. decreased amount of right pleural effusion. air in the right lower pleural space. poor lung expansion. mild subcutaneous emphysema at right chest wall. right pleural thickening. ill - defined masses at right perihilar region. normal heart size.']\n",
                        "\n"
                    ]
                },
                {
                    "name": "stderr",
                    "output_type": "stream",
                    "text": [
                        "Evaluating: :  90%|█████████ | 9/10 [00:20<00:02,  2.29s/it]"
                    ]
                },
                {
                    "name": "stdout",
                    "output_type": "stream",
                    "text": [
                        "Names      : ['NLP_CHEST_071']\n",
                        "Predictions: [\"chest ap view showed : 1. enlarged heart size with tortuous aorta. 2. l't lung small density. l't upper and middle lung faint patches. l't hydronephrosis of aorta. l't retrocardiac patches. l't upper and middle lung fields. l't retrocardiac patches. l't upper and middle lung reticulonodular infiltrations. s / p l't intrapleural pigtail drainage.\"]\n",
                        "Labels     : ['chest film shows : impression : - bilateral lung infiltrations. - suspect right lower lung patch. blunting right cp angle. - tortuous atherosclerotic aorta. - scoliosis, djd and osteoporosis of spine. compression fracture of t12. old fracture of left ribs. - s / p fixation in l - spine. - s / p tracheostomy and ng tube.']\n",
                        "\n"
                    ]
                },
                {
                    "name": "stderr",
                    "output_type": "stream",
                    "text": [
                        "Evaluating: : 100%|██████████| 10/10 [00:22<00:00,  2.27s/it]\n"
                    ]
                },
                {
                    "name": "stdout",
                    "output_type": "stream",
                    "text": [
                        "Names      : ['NLP_CHEST_085']\n",
                        "Predictions: [\"chest ap view showed : 1. enlarged heart size with tortuous aorta. 2. l't lung small density. l't upper and middle lung faint patches. l't hydronephrosis of aorta. l't retrocardiac patches. l't upper and middle lungs. l't retrotrocardiac patches. l't upper and middle lung reticulonodular infiltrations. l't upper and middle middle lung reticulonulonodular infiltrations. s / p l't subclavian port - a implantation. l't upper and middle lung faint patches. l't upper lung reticulonulonodular infiltrations. l't upper and middle middle lung patches.\"]\n",
                        "Labels     : ['chest x ray : - right pneumothorax with pleural effusion, status post drainge tube placement. - extensive subcutaneous emphysema from neck to right side thoracic cage. - increased right hilar opacity. - atherosclerosis and tortuous aorta. - obscured bilateral costophrenic angles. - spondylosis and mild scoliosis of thoracolumbar spine. - oa of right glenohumeral joint. - generalized osteopenia.']\n",
                        "\n",
                        "Rouge-2 score : {'Rouge-L-P': 0.2272990106080004, 'Rouge-L-R': 0.18115049440918637, 'Rouge-L-F': 0.18115049440918637, 'Rouge-2-P': 0.13392990278685038, 'Rouge-2-R': 0.09875033239705097, 'Rouge-2-F': 0.09875033239705097}\n"
                    ]
                },
                {
                    "name": "stderr",
                    "output_type": "stream",
                    "text": [
                        "Training Epoch [14 / 50]: 100%|██████████| 89/89 [00:14<00:00,  5.95it/s, loss=0.0989]\n",
                        "Evaluating: :  10%|█         | 1/10 [00:02<00:23,  2.57s/it]"
                    ]
                },
                {
                    "name": "stdout",
                    "output_type": "stream",
                    "text": [
                        "Names      : ['NLP_CHEST_002']\n",
                        "Predictions: ['']\n",
                        "Labels     : ['chest pa view shows : partial atelectasis at left lower lung field. left pleural effusion. borderline heart size. atherosclerotic change of aortic knob. s / p port - a implantation via left subclavian vein. intraperitoneal port catheter. surgical clips at ruq of abdomen.']\n",
                        "\n"
                    ]
                },
                {
                    "name": "stderr",
                    "output_type": "stream",
                    "text": [
                        "Evaluating: :  20%|██        | 2/10 [00:05<00:20,  2.59s/it]"
                    ]
                },
                {
                    "name": "stdout",
                    "output_type": "stream",
                    "text": [
                        "Names      : ['NLP_CHEST_004']\n",
                        "Predictions: ['']\n",
                        "Labels     : ['chest pa view show : impression : - s / p rll wedge resection. - bilateral lungs metastasis. - left lower lung subsegmental atelectasis. - increased infiltrations in both lungs. - blunting right cp angle. - tortuous atherosclerotic aorta. - scoliosis, djd and osteoporosis of spine. - compression fracture of l1.']\n",
                        "\n"
                    ]
                },
                {
                    "name": "stderr",
                    "output_type": "stream",
                    "text": [
                        "Evaluating: :  30%|███       | 3/10 [00:07<00:18,  2.58s/it]"
                    ]
                },
                {
                    "name": "stdout",
                    "output_type": "stream",
                    "text": [
                        "Names      : ['NLP_CHEST_011']\n",
                        "Predictions: ['']\n",
                        "Labels     : [\"chest ap view showed : 1. s / p sternotomy and cabg. enlarged heart size with tortuous aorta. 2. r't middle and lower lung faint patches. l't lower lung consolidation. l't pleural effusion. 3. no mediastinum widening. 4. s / p endotracheal tube and ng intubation.\"]\n",
                        "\n"
                    ]
                },
                {
                    "name": "stderr",
                    "output_type": "stream",
                    "text": [
                        "Evaluating: :  40%|████      | 4/10 [00:10<00:15,  2.60s/it]"
                    ]
                },
                {
                    "name": "stdout",
                    "output_type": "stream",
                    "text": [
                        "Names      : ['NLP_CHEST_015']\n",
                        "Predictions: ['']\n",
                        "Labels     : ['chest x ray : - no obvious lung mass nor consolidation patch. - normal heart size. - no pleural effusion.']\n",
                        "\n"
                    ]
                },
                {
                    "name": "stderr",
                    "output_type": "stream",
                    "text": [
                        "Evaluating: :  50%|█████     | 5/10 [00:13<00:13,  2.80s/it]"
                    ]
                },
                {
                    "name": "stdout",
                    "output_type": "stream",
                    "text": [
                        "Names      : ['NLP_CHEST_027']\n",
                        "Predictions: ['']\n",
                        "Labels     : ['chest pa view : impression : > cardiomegaly with bilateral pulmonary congestion. > postinflammatory fibrosis in both upper lungs. > atherosclerosis of aorta. > old fractures of left 5th and 6th ribs. > r / o osteoporosis. > spondylosis of thoracolumbar spine. > s / p abdominal operation in ruq.']\n",
                        "\n"
                    ]
                },
                {
                    "name": "stderr",
                    "output_type": "stream",
                    "text": [
                        "Evaluating: :  60%|██████    | 6/10 [00:16<00:11,  2.90s/it]"
                    ]
                },
                {
                    "name": "stdout",
                    "output_type": "stream",
                    "text": [
                        "Names      : ['NLP_CHEST_031']\n",
                        "Predictions: ['']\n",
                        "Labels     : ['chest pa view : impression : - increased both lung markings. - compatible with right lung nodules. - fibrotic lesion in left upper lung. - normal heart size. atherosclerotic aorta. - suspect right pleural effusion. - spondylosis. r / o osteoporosis. - compatible with multiple bony metastases. - s / p ng and endotracheal tube. - s / p lt subclavian port - a - cath.']\n",
                        "\n"
                    ]
                },
                {
                    "name": "stderr",
                    "output_type": "stream",
                    "text": [
                        "Evaluating: :  70%|███████   | 7/10 [00:19<00:08,  2.99s/it]"
                    ]
                },
                {
                    "name": "stdout",
                    "output_type": "stream",
                    "text": [
                        "Names      : ['NLP_CHEST_057']\n",
                        "Predictions: ['']\n",
                        "Labels     : ['chest plain film shows : impression : - increased infiltrations in both lungs. - tortuous atherosclerotic dilated aorta. - normal heart size. - djd of spine. old fracture of right ribs. - increased both lung markings. s / p lt jugular cvc insertion. s / p ng and endotracheal tube. - susp. lt pneumothorax. suspect pneumomediastinum. subcutaneous emphysema in bilateral neck. - s / p bilateral chest tube insertion.']\n",
                        "\n"
                    ]
                },
                {
                    "name": "stderr",
                    "output_type": "stream",
                    "text": [
                        "Evaluating: :  80%|████████  | 8/10 [00:22<00:06,  3.02s/it]"
                    ]
                },
                {
                    "name": "stdout",
                    "output_type": "stream",
                    "text": [
                        "Names      : ['NLP_CHEST_059']\n",
                        "Predictions: ['']\n",
                        "Labels     : ['supine chest ap view shows : pigtail catheter at right lower chest. decreased amount of right pleural effusion. air in the right lower pleural space. poor lung expansion. mild subcutaneous emphysema at right chest wall. right pleural thickening. ill - defined masses at right perihilar region. normal heart size.']\n",
                        "\n"
                    ]
                },
                {
                    "name": "stderr",
                    "output_type": "stream",
                    "text": [
                        "Evaluating: :  90%|█████████ | 9/10 [00:25<00:02,  2.92s/it]"
                    ]
                },
                {
                    "name": "stdout",
                    "output_type": "stream",
                    "text": [
                        "Names      : ['NLP_CHEST_071']\n",
                        "Predictions: ['']\n",
                        "Labels     : ['chest film shows : impression : - bilateral lung infiltrations. - suspect right lower lung patch. blunting right cp angle. - tortuous atherosclerotic aorta. - scoliosis, djd and osteoporosis of spine. compression fracture of t12. old fracture of left ribs. - s / p fixation in l - spine. - s / p tracheostomy and ng tube.']\n",
                        "\n"
                    ]
                },
                {
                    "name": "stderr",
                    "output_type": "stream",
                    "text": [
                        "Evaluating: : 100%|██████████| 10/10 [00:28<00:00,  2.86s/it]\n"
                    ]
                },
                {
                    "name": "stdout",
                    "output_type": "stream",
                    "text": [
                        "Names      : ['NLP_CHEST_085']\n",
                        "Predictions: ['']\n",
                        "Labels     : ['chest x ray : - right pneumothorax with pleural effusion, status post drainge tube placement. - extensive subcutaneous emphysema from neck to right side thoracic cage. - increased right hilar opacity. - atherosclerosis and tortuous aorta. - obscured bilateral costophrenic angles. - spondylosis and mild scoliosis of thoracolumbar spine. - oa of right glenohumeral joint. - generalized osteopenia.']\n",
                        "\n",
                        "Rouge-2 score : {'Rouge-L-P': 0.2110633669931432, 'Rouge-L-R': 0.16821117337995878, 'Rouge-L-F': 0.16821117337995878, 'Rouge-2-P': 0.1243634811592182, 'Rouge-2-R': 0.09169673722583305, 'Rouge-2-F': 0.09169673722583305}\n"
                    ]
                },
                {
                    "name": "stderr",
                    "output_type": "stream",
                    "text": [
                        "Training Epoch [15 / 50]: 100%|██████████| 89/89 [00:14<00:00,  6.06it/s, loss=0.0916]\n",
                        "Evaluating: :  10%|█         | 1/10 [00:02<00:20,  2.31s/it]"
                    ]
                },
                {
                    "name": "stdout",
                    "output_type": "stream",
                    "text": [
                        "Names      : ['NLP_CHEST_002']\n",
                        "Predictions: ['']\n",
                        "Labels     : ['chest pa view shows : partial atelectasis at left lower lung field. left pleural effusion. borderline heart size. atherosclerotic change of aortic knob. s / p port - a implantation via left subclavian vein. intraperitoneal port catheter. surgical clips at ruq of abdomen.']\n",
                        "\n"
                    ]
                },
                {
                    "name": "stderr",
                    "output_type": "stream",
                    "text": [
                        "Evaluating: :  20%|██        | 2/10 [00:04<00:18,  2.26s/it]"
                    ]
                },
                {
                    "name": "stdout",
                    "output_type": "stream",
                    "text": [
                        "Names      : ['NLP_CHEST_004']\n",
                        "Predictions: ['']\n",
                        "Labels     : ['chest pa view show : impression : - s / p rll wedge resection. - bilateral lungs metastasis. - left lower lung subsegmental atelectasis. - increased infiltrations in both lungs. - blunting right cp angle. - tortuous atherosclerotic aorta. - scoliosis, djd and osteoporosis of spine. - compression fracture of l1.']\n",
                        "\n"
                    ]
                },
                {
                    "name": "stderr",
                    "output_type": "stream",
                    "text": [
                        "Evaluating: :  30%|███       | 3/10 [00:06<00:15,  2.27s/it]"
                    ]
                },
                {
                    "name": "stdout",
                    "output_type": "stream",
                    "text": [
                        "Names      : ['NLP_CHEST_011']\n",
                        "Predictions: ['']\n",
                        "Labels     : [\"chest ap view showed : 1. s / p sternotomy and cabg. enlarged heart size with tortuous aorta. 2. r't middle and lower lung faint patches. l't lower lung consolidation. l't pleural effusion. 3. no mediastinum widening. 4. s / p endotracheal tube and ng intubation.\"]\n",
                        "\n"
                    ]
                },
                {
                    "name": "stderr",
                    "output_type": "stream",
                    "text": [
                        "Evaluating: :  40%|████      | 4/10 [00:09<00:13,  2.29s/it]"
                    ]
                },
                {
                    "name": "stdout",
                    "output_type": "stream",
                    "text": [
                        "Names      : ['NLP_CHEST_015']\n",
                        "Predictions: ['']\n",
                        "Labels     : ['chest x ray : - no obvious lung mass nor consolidation patch. - normal heart size. - no pleural effusion.']\n",
                        "\n"
                    ]
                },
                {
                    "name": "stderr",
                    "output_type": "stream",
                    "text": [
                        "Evaluating: :  50%|█████     | 5/10 [00:11<00:11,  2.27s/it]"
                    ]
                },
                {
                    "name": "stdout",
                    "output_type": "stream",
                    "text": [
                        "Names      : ['NLP_CHEST_027']\n",
                        "Predictions: ['']\n",
                        "Labels     : ['chest pa view : impression : > cardiomegaly with bilateral pulmonary congestion. > postinflammatory fibrosis in both upper lungs. > atherosclerosis of aorta. > old fractures of left 5th and 6th ribs. > r / o osteoporosis. > spondylosis of thoracolumbar spine. > s / p abdominal operation in ruq.']\n",
                        "\n"
                    ]
                },
                {
                    "name": "stderr",
                    "output_type": "stream",
                    "text": [
                        "Evaluating: :  60%|██████    | 6/10 [00:13<00:09,  2.29s/it]"
                    ]
                },
                {
                    "name": "stdout",
                    "output_type": "stream",
                    "text": [
                        "Names      : ['NLP_CHEST_031']\n",
                        "Predictions: ['']\n",
                        "Labels     : ['chest pa view : impression : - increased both lung markings. - compatible with right lung nodules. - fibrotic lesion in left upper lung. - normal heart size. atherosclerotic aorta. - suspect right pleural effusion. - spondylosis. r / o osteoporosis. - compatible with multiple bony metastases. - s / p ng and endotracheal tube. - s / p lt subclavian port - a - cath.']\n",
                        "\n"
                    ]
                },
                {
                    "name": "stderr",
                    "output_type": "stream",
                    "text": [
                        "Evaluating: :  70%|███████   | 7/10 [00:16<00:06,  2.31s/it]"
                    ]
                },
                {
                    "name": "stdout",
                    "output_type": "stream",
                    "text": [
                        "Names      : ['NLP_CHEST_057']\n",
                        "Predictions: ['']\n",
                        "Labels     : ['chest plain film shows : impression : - increased infiltrations in both lungs. - tortuous atherosclerotic dilated aorta. - normal heart size. - djd of spine. old fracture of right ribs. - increased both lung markings. s / p lt jugular cvc insertion. s / p ng and endotracheal tube. - susp. lt pneumothorax. suspect pneumomediastinum. subcutaneous emphysema in bilateral neck. - s / p bilateral chest tube insertion.']\n",
                        "\n"
                    ]
                },
                {
                    "name": "stderr",
                    "output_type": "stream",
                    "text": [
                        "Evaluating: :  80%|████████  | 8/10 [00:18<00:04,  2.31s/it]"
                    ]
                },
                {
                    "name": "stdout",
                    "output_type": "stream",
                    "text": [
                        "Names      : ['NLP_CHEST_059']\n",
                        "Predictions: ['']\n",
                        "Labels     : ['supine chest ap view shows : pigtail catheter at right lower chest. decreased amount of right pleural effusion. air in the right lower pleural space. poor lung expansion. mild subcutaneous emphysema at right chest wall. right pleural thickening. ill - defined masses at right perihilar region. normal heart size.']\n",
                        "\n"
                    ]
                },
                {
                    "name": "stderr",
                    "output_type": "stream",
                    "text": [
                        "Evaluating: :  90%|█████████ | 9/10 [00:20<00:02,  2.30s/it]"
                    ]
                },
                {
                    "name": "stdout",
                    "output_type": "stream",
                    "text": [
                        "Names      : ['NLP_CHEST_071']\n",
                        "Predictions: ['']\n",
                        "Labels     : ['chest film shows : impression : - bilateral lung infiltrations. - suspect right lower lung patch. blunting right cp angle. - tortuous atherosclerotic aorta. - scoliosis, djd and osteoporosis of spine. compression fracture of t12. old fracture of left ribs. - s / p fixation in l - spine. - s / p tracheostomy and ng tube.']\n",
                        "\n"
                    ]
                },
                {
                    "name": "stderr",
                    "output_type": "stream",
                    "text": [
                        "Evaluating: : 100%|██████████| 10/10 [00:22<00:00,  2.29s/it]\n"
                    ]
                },
                {
                    "name": "stdout",
                    "output_type": "stream",
                    "text": [
                        "Names      : ['NLP_CHEST_085']\n",
                        "Predictions: ['']\n",
                        "Labels     : ['chest x ray : - right pneumothorax with pleural effusion, status post drainge tube placement. - extensive subcutaneous emphysema from neck to right side thoracic cage. - increased right hilar opacity. - atherosclerosis and tortuous aorta. - obscured bilateral costophrenic angles. - spondylosis and mild scoliosis of thoracolumbar spine. - oa of right glenohumeral joint. - generalized osteopenia.']\n",
                        "\n",
                        "Rouge-2 score : {'Rouge-L-P': 0.196992475860267, 'Rouge-L-R': 0.1569970951546282, 'Rouge-L-F': 0.1569970951546282, 'Rouge-2-P': 0.11607258241527033, 'Rouge-2-R': 0.08558362141077751, 'Rouge-2-F': 0.08558362141077751}\n"
                    ]
                },
                {
                    "name": "stderr",
                    "output_type": "stream",
                    "text": [
                        "Training Epoch [16 / 50]: 100%|██████████| 89/89 [00:14<00:00,  6.26it/s, loss=0.0847]\n",
                        "Evaluating: :  10%|█         | 1/10 [00:02<00:21,  2.39s/it]"
                    ]
                },
                {
                    "name": "stdout",
                    "output_type": "stream",
                    "text": [
                        "Names      : ['NLP_CHEST_002']\n",
                        "Predictions: ['']\n",
                        "Labels     : ['chest pa view shows : partial atelectasis at left lower lung field. left pleural effusion. borderline heart size. atherosclerotic change of aortic knob. s / p port - a implantation via left subclavian vein. intraperitoneal port catheter. surgical clips at ruq of abdomen.']\n",
                        "\n"
                    ]
                },
                {
                    "name": "stderr",
                    "output_type": "stream",
                    "text": [
                        "Evaluating: :  20%|██        | 2/10 [00:04<00:18,  2.30s/it]"
                    ]
                },
                {
                    "name": "stdout",
                    "output_type": "stream",
                    "text": [
                        "Names      : ['NLP_CHEST_004']\n",
                        "Predictions: ['']\n",
                        "Labels     : ['chest pa view show : impression : - s / p rll wedge resection. - bilateral lungs metastasis. - left lower lung subsegmental atelectasis. - increased infiltrations in both lungs. - blunting right cp angle. - tortuous atherosclerotic aorta. - scoliosis, djd and osteoporosis of spine. - compression fracture of l1.']\n",
                        "\n"
                    ]
                },
                {
                    "name": "stderr",
                    "output_type": "stream",
                    "text": [
                        "Evaluating: :  30%|███       | 3/10 [00:06<00:16,  2.30s/it]"
                    ]
                },
                {
                    "name": "stdout",
                    "output_type": "stream",
                    "text": [
                        "Names      : ['NLP_CHEST_011']\n",
                        "Predictions: ['']\n",
                        "Labels     : [\"chest ap view showed : 1. s / p sternotomy and cabg. enlarged heart size with tortuous aorta. 2. r't middle and lower lung faint patches. l't lower lung consolidation. l't pleural effusion. 3. no mediastinum widening. 4. s / p endotracheal tube and ng intubation.\"]\n",
                        "\n"
                    ]
                },
                {
                    "name": "stderr",
                    "output_type": "stream",
                    "text": [
                        "Evaluating: :  40%|████      | 4/10 [00:09<00:13,  2.27s/it]"
                    ]
                },
                {
                    "name": "stdout",
                    "output_type": "stream",
                    "text": [
                        "Names      : ['NLP_CHEST_015']\n",
                        "Predictions: ['']\n",
                        "Labels     : ['chest x ray : - no obvious lung mass nor consolidation patch. - normal heart size. - no pleural effusion.']\n",
                        "\n"
                    ]
                },
                {
                    "name": "stderr",
                    "output_type": "stream",
                    "text": [
                        "Evaluating: :  50%|█████     | 5/10 [00:11<00:11,  2.24s/it]"
                    ]
                },
                {
                    "name": "stdout",
                    "output_type": "stream",
                    "text": [
                        "Names      : ['NLP_CHEST_027']\n",
                        "Predictions: ['']\n",
                        "Labels     : ['chest pa view : impression : > cardiomegaly with bilateral pulmonary congestion. > postinflammatory fibrosis in both upper lungs. > atherosclerosis of aorta. > old fractures of left 5th and 6th ribs. > r / o osteoporosis. > spondylosis of thoracolumbar spine. > s / p abdominal operation in ruq.']\n",
                        "\n"
                    ]
                },
                {
                    "name": "stderr",
                    "output_type": "stream",
                    "text": [
                        "Evaluating: :  60%|██████    | 6/10 [00:13<00:08,  2.23s/it]"
                    ]
                },
                {
                    "name": "stdout",
                    "output_type": "stream",
                    "text": [
                        "Names      : ['NLP_CHEST_031']\n",
                        "Predictions: ['']\n",
                        "Labels     : ['chest pa view : impression : - increased both lung markings. - compatible with right lung nodules. - fibrotic lesion in left upper lung. - normal heart size. atherosclerotic aorta. - suspect right pleural effusion. - spondylosis. r / o osteoporosis. - compatible with multiple bony metastases. - s / p ng and endotracheal tube. - s / p lt subclavian port - a - cath.']\n",
                        "\n"
                    ]
                },
                {
                    "name": "stderr",
                    "output_type": "stream",
                    "text": [
                        "Evaluating: :  70%|███████   | 7/10 [00:16<00:07,  2.41s/it]"
                    ]
                },
                {
                    "name": "stdout",
                    "output_type": "stream",
                    "text": [
                        "Names      : ['NLP_CHEST_057']\n",
                        "Predictions: ['']\n",
                        "Labels     : ['chest plain film shows : impression : - increased infiltrations in both lungs. - tortuous atherosclerotic dilated aorta. - normal heart size. - djd of spine. old fracture of right ribs. - increased both lung markings. s / p lt jugular cvc insertion. s / p ng and endotracheal tube. - susp. lt pneumothorax. suspect pneumomediastinum. subcutaneous emphysema in bilateral neck. - s / p bilateral chest tube insertion.']\n",
                        "\n"
                    ]
                },
                {
                    "name": "stderr",
                    "output_type": "stream",
                    "text": [
                        "Evaluating: :  80%|████████  | 8/10 [00:19<00:05,  2.52s/it]"
                    ]
                },
                {
                    "name": "stdout",
                    "output_type": "stream",
                    "text": [
                        "Names      : ['NLP_CHEST_059']\n",
                        "Predictions: ['']\n",
                        "Labels     : ['supine chest ap view shows : pigtail catheter at right lower chest. decreased amount of right pleural effusion. air in the right lower pleural space. poor lung expansion. mild subcutaneous emphysema at right chest wall. right pleural thickening. ill - defined masses at right perihilar region. normal heart size.']\n",
                        "\n"
                    ]
                },
                {
                    "name": "stderr",
                    "output_type": "stream",
                    "text": [
                        "Evaluating: :  90%|█████████ | 9/10 [00:22<00:02,  2.71s/it]"
                    ]
                },
                {
                    "name": "stdout",
                    "output_type": "stream",
                    "text": [
                        "Names      : ['NLP_CHEST_071']\n",
                        "Predictions: ['']\n",
                        "Labels     : ['chest film shows : impression : - bilateral lung infiltrations. - suspect right lower lung patch. blunting right cp angle. - tortuous atherosclerotic aorta. - scoliosis, djd and osteoporosis of spine. compression fracture of t12. old fracture of left ribs. - s / p fixation in l - spine. - s / p tracheostomy and ng tube.']\n",
                        "\n"
                    ]
                },
                {
                    "name": "stderr",
                    "output_type": "stream",
                    "text": [
                        "Evaluating: : 100%|██████████| 10/10 [00:25<00:00,  2.50s/it]\n"
                    ]
                },
                {
                    "name": "stdout",
                    "output_type": "stream",
                    "text": [
                        "Names      : ['NLP_CHEST_085']\n",
                        "Predictions: ['']\n",
                        "Labels     : ['chest x ray : - right pneumothorax with pleural effusion, status post drainge tube placement. - extensive subcutaneous emphysema from neck to right side thoracic cage. - increased right hilar opacity. - atherosclerosis and tortuous aorta. - obscured bilateral costophrenic angles. - spondylosis and mild scoliosis of thoracolumbar spine. - oa of right glenohumeral joint. - generalized osteopenia.']\n",
                        "\n",
                        "Rouge-2 score : {'Rouge-L-P': 0.1846804461190003, 'Rouge-L-R': 0.14718477670746394, 'Rouge-L-F': 0.14718477670746394, 'Rouge-2-P': 0.10881804601431593, 'Rouge-2-R': 0.08023464507260392, 'Rouge-2-F': 0.08023464507260392}\n"
                    ]
                },
                {
                    "name": "stderr",
                    "output_type": "stream",
                    "text": [
                        "Training Epoch [17 / 50]: 100%|██████████| 89/89 [00:14<00:00,  5.94it/s, loss=0.0749]\n",
                        "Evaluating: :  10%|█         | 1/10 [00:02<00:20,  2.32s/it]"
                    ]
                },
                {
                    "name": "stdout",
                    "output_type": "stream",
                    "text": [
                        "Names      : ['NLP_CHEST_002']\n",
                        "Predictions: ['chest plain film view showed : impression : - increased both lung infiltrates. bilateral hilar enlargement. bilateral apical pleural thickening. - the mediastinum is not widened. - normal heart size. - atherosclerotic aorta. - djd of spine. mild scoliosis of spine. - s / p fixation in l - spine.']\n",
                        "Labels     : ['chest pa view shows : partial atelectasis at left lower lung field. left pleural effusion. borderline heart size. atherosclerotic change of aortic knob. s / p port - a implantation via left subclavian vein. intraperitoneal port catheter. surgical clips at ruq of abdomen.']\n",
                        "\n"
                    ]
                },
                {
                    "name": "stderr",
                    "output_type": "stream",
                    "text": [
                        "Evaluating: :  20%|██        | 2/10 [00:04<00:18,  2.26s/it]"
                    ]
                },
                {
                    "name": "stdout",
                    "output_type": "stream",
                    "text": [
                        "Names      : ['NLP_CHEST_004']\n",
                        "Predictions: ['chest plain film shows : impression : - increased infiltrations in both lungs. - blunting bilateral cp angles. elevated right hemidiaphragm. - tortuous atherosclerotic dilated aorta. - cardiomegaly. - djd of spine. s / p fixation in l - spine.']\n",
                        "Labels     : ['chest pa view show : impression : - s / p rll wedge resection. - bilateral lungs metastasis. - left lower lung subsegmental atelectasis. - increased infiltrations in both lungs. - blunting right cp angle. - tortuous atherosclerotic aorta. - scoliosis, djd and osteoporosis of spine. - compression fracture of l1.']\n",
                        "\n"
                    ]
                },
                {
                    "name": "stderr",
                    "output_type": "stream",
                    "text": [
                        "Evaluating: :  30%|███       | 3/10 [00:06<00:15,  2.26s/it]"
                    ]
                },
                {
                    "name": "stdout",
                    "output_type": "stream",
                    "text": [
                        "Names      : ['NLP_CHEST_011']\n",
                        "Predictions: ['chest plain film shows : impression : - increased infiltrations in both lungs. - blunting bilateral cp angles. elevated right hemidiaphragm. - tortuous atherosclerotic dilated aorta. - cardiomegaly. - djd of spine. s / p fixation in l - spine.']\n",
                        "Labels     : [\"chest ap view showed : 1. s / p sternotomy and cabg. enlarged heart size with tortuous aorta. 2. r't middle and lower lung faint patches. l't lower lung consolidation. l't pleural effusion. 3. no mediastinum widening. 4. s / p endotracheal tube and ng intubation.\"]\n",
                        "\n"
                    ]
                },
                {
                    "name": "stderr",
                    "output_type": "stream",
                    "text": [
                        "Evaluating: :  40%|████      | 4/10 [00:09<00:13,  2.25s/it]"
                    ]
                },
                {
                    "name": "stdout",
                    "output_type": "stream",
                    "text": [
                        "Names      : ['NLP_CHEST_015']\n",
                        "Predictions: ['chest plain film view showed : impression : - suspicious pulmonary edema. superimposed pneumonia cannot be excluded. - the mediastinum is not widened. - normal heart size. - djd of spine. - s / p fixation in t - l spine. - atherosclerosis of aorta. - s / p right chest tube insertion.']\n",
                        "Labels     : ['chest x ray : - no obvious lung mass nor consolidation patch. - normal heart size. - no pleural effusion.']\n",
                        "\n"
                    ]
                },
                {
                    "name": "stderr",
                    "output_type": "stream",
                    "text": [
                        "Evaluating: :  50%|█████     | 5/10 [00:11<00:11,  2.29s/it]"
                    ]
                },
                {
                    "name": "stdout",
                    "output_type": "stream",
                    "text": [
                        "Names      : ['NLP_CHEST_027']\n",
                        "Predictions: ['chest plain film view showed : impression : - suspicious pulmonary edema. superimposed pneumonia cannot be excluded. - the mediastinum is not widened. - normal heart size. - djd of spine. - s / p fixation in t - l spine. - atherosclerosis of aorta. - s / p lt jugular cvc insertion.']\n",
                        "Labels     : ['chest pa view : impression : > cardiomegaly with bilateral pulmonary congestion. > postinflammatory fibrosis in both upper lungs. > atherosclerosis of aorta. > old fractures of left 5th and 6th ribs. > r / o osteoporosis. > spondylosis of thoracolumbar spine. > s / p abdominal operation in ruq.']\n",
                        "\n"
                    ]
                },
                {
                    "name": "stderr",
                    "output_type": "stream",
                    "text": [
                        "Evaluating: :  60%|██████    | 6/10 [00:13<00:09,  2.28s/it]"
                    ]
                },
                {
                    "name": "stdout",
                    "output_type": "stream",
                    "text": [
                        "Names      : ['NLP_CHEST_031']\n",
                        "Predictions: ['chest plain film shows : impression : - increased infiltrations in both lungs. - blunting bilateral cp angles. elevated right hemidiaphragm. - tortuous atherosclerotic dilated aorta. - cardiomegaly. - djd of spine. s / p fixation in l - spine.']\n",
                        "Labels     : ['chest pa view : impression : - increased both lung markings. - compatible with right lung nodules. - fibrotic lesion in left upper lung. - normal heart size. atherosclerotic aorta. - suspect right pleural effusion. - spondylosis. r / o osteoporosis. - compatible with multiple bony metastases. - s / p ng and endotracheal tube. - s / p lt subclavian port - a - cath.']\n",
                        "\n"
                    ]
                },
                {
                    "name": "stderr",
                    "output_type": "stream",
                    "text": [
                        "Evaluating: :  70%|███████   | 7/10 [00:16<00:06,  2.31s/it]"
                    ]
                },
                {
                    "name": "stdout",
                    "output_type": "stream",
                    "text": [
                        "Names      : ['NLP_CHEST_057']\n",
                        "Predictions: ['chest plain film shows : impression : - increased infiltrations in both lungs. - blunting bilateral cp angles. elevated right hemidiaphragm. - tortuous atherosclerotic dilated aorta. - cardiomegaly. - djd of spine. s / p fixation in l - spine.']\n",
                        "Labels     : ['chest plain film shows : impression : - increased infiltrations in both lungs. - tortuous atherosclerotic dilated aorta. - normal heart size. - djd of spine. old fracture of right ribs. - increased both lung markings. s / p lt jugular cvc insertion. s / p ng and endotracheal tube. - susp. lt pneumothorax. suspect pneumomediastinum. subcutaneous emphysema in bilateral neck. - s / p bilateral chest tube insertion.']\n",
                        "\n"
                    ]
                },
                {
                    "name": "stderr",
                    "output_type": "stream",
                    "text": [
                        "Evaluating: :  80%|████████  | 8/10 [00:18<00:04,  2.32s/it]"
                    ]
                },
                {
                    "name": "stdout",
                    "output_type": "stream",
                    "text": [
                        "Names      : ['NLP_CHEST_059']\n",
                        "Predictions: ['chest plain film view showed : impression : - suspicious pulmonary edema. superimposed pneumonia cannot be excluded. - the mediastinum is not widened. - normal heart size. - djd of spine. - s / p fixation in t - l spine. - atherosclerosis of aorta. - s / p right chest tube insertion.']\n",
                        "Labels     : ['supine chest ap view shows : pigtail catheter at right lower chest. decreased amount of right pleural effusion. air in the right lower pleural space. poor lung expansion. mild subcutaneous emphysema at right chest wall. right pleural thickening. ill - defined masses at right perihilar region. normal heart size.']\n",
                        "\n"
                    ]
                },
                {
                    "name": "stderr",
                    "output_type": "stream",
                    "text": [
                        "Evaluating: :  90%|█████████ | 9/10 [00:20<00:02,  2.29s/it]"
                    ]
                },
                {
                    "name": "stdout",
                    "output_type": "stream",
                    "text": [
                        "Names      : ['NLP_CHEST_071']\n",
                        "Predictions: ['chest plain film shows : impression : - increased infiltrations in both lungs. - tortuous atherosclerotic dilated aorta. - normal heart size. - djd of spine. - s / p fixation in t - l spine.']\n",
                        "Labels     : ['chest film shows : impression : - bilateral lung infiltrations. - suspect right lower lung patch. blunting right cp angle. - tortuous atherosclerotic aorta. - scoliosis, djd and osteoporosis of spine. compression fracture of t12. old fracture of left ribs. - s / p fixation in l - spine. - s / p tracheostomy and ng tube.']\n",
                        "\n"
                    ]
                },
                {
                    "name": "stderr",
                    "output_type": "stream",
                    "text": [
                        "Evaluating: : 100%|██████████| 10/10 [00:22<00:00,  2.29s/it]\n"
                    ]
                },
                {
                    "name": "stdout",
                    "output_type": "stream",
                    "text": [
                        "Names      : ['NLP_CHEST_085']\n",
                        "Predictions: ['chest plain film view showed : impression : - suspicious pulmonary edema. superimposed pneumonia cannot be excluded. - the mediastinum is not widened. - normal heart size. - djd of spine. - s / p fixation in t - l spine. - atherosclerosis of aorta. - s / p right chest tube insertion.']\n",
                        "Labels     : ['chest x ray : - right pneumothorax with pleural effusion, status post drainge tube placement. - extensive subcutaneous emphysema from neck to right side thoracic cage. - increased right hilar opacity. - atherosclerosis and tortuous aorta. - obscured bilateral costophrenic angles. - spondylosis and mild scoliosis of thoracolumbar spine. - oa of right glenohumeral joint. - generalized osteopenia.']\n",
                        "\n",
                        "Rouge-2 score : {'Rouge-L-P': 0.19468438337405483, 'Rouge-L-R': 0.15616253718003303, 'Rouge-L-F': 0.15616253718003303, 'Rouge-2-P': 0.11457415504459395, 'Rouge-2-R': 0.0853263722651877, 'Rouge-2-F': 0.0853263722651877}\n"
                    ]
                },
                {
                    "name": "stderr",
                    "output_type": "stream",
                    "text": [
                        "Training Epoch [18 / 50]: 100%|██████████| 89/89 [00:14<00:00,  6.25it/s, loss=0.0693]\n",
                        "Evaluating: :  10%|█         | 1/10 [00:02<00:21,  2.35s/it]"
                    ]
                },
                {
                    "name": "stdout",
                    "output_type": "stream",
                    "text": [
                        "Names      : ['NLP_CHEST_002']\n",
                        "Predictions: ['chest pa view shows : > no obvious lung mass nor consolidation patch. > normal heart size. > no pleural effusion.']\n",
                        "Labels     : ['chest pa view shows : partial atelectasis at left lower lung field. left pleural effusion. borderline heart size. atherosclerotic change of aortic knob. s / p port - a implantation via left subclavian vein. intraperitoneal port catheter. surgical clips at ruq of abdomen.']\n",
                        "\n"
                    ]
                },
                {
                    "name": "stderr",
                    "output_type": "stream",
                    "text": [
                        "Evaluating: :  20%|██        | 2/10 [00:04<00:18,  2.30s/it]"
                    ]
                },
                {
                    "name": "stdout",
                    "output_type": "stream",
                    "text": [
                        "Names      : ['NLP_CHEST_004']\n",
                        "Predictions: ['chest pa view : impression : - increased both lung markings. - compatible with right lung nodules. - fibrotic lesion in left upper lung. - normal heart size. atherosclerotic aorta. - suspect right pleural effusion. - spondylosis. r / o osteoporosis. - compatible with multiple bony metastases. - s / p ng and endotracheal tube. - s / p lt subclavian port - a - cath.']\n",
                        "Labels     : ['chest pa view show : impression : - s / p rll wedge resection. - bilateral lungs metastasis. - left lower lung subsegmental atelectasis. - increased infiltrations in both lungs. - blunting right cp angle. - tortuous atherosclerotic aorta. - scoliosis, djd and osteoporosis of spine. - compression fracture of l1.']\n",
                        "\n"
                    ]
                },
                {
                    "name": "stderr",
                    "output_type": "stream",
                    "text": [
                        "Evaluating: :  30%|███       | 3/10 [00:06<00:16,  2.31s/it]"
                    ]
                },
                {
                    "name": "stdout",
                    "output_type": "stream",
                    "text": [
                        "Names      : ['NLP_CHEST_011']\n",
                        "Predictions: ['chest pa view : impression : - increased both lung markings. - compatible with right lung nodules. - fibrotic lesion in left upper lung. - normal heart size. atherosclerotic aorta. - suspect right pleural effusion. - spondylosis. r / o osteoporosis. - compatible with multiple bony metastases. - s / p ng and endotracheal tube. - s / p lt subclavian port - a - cath.']\n",
                        "Labels     : [\"chest ap view showed : 1. s / p sternotomy and cabg. enlarged heart size with tortuous aorta. 2. r't middle and lower lung faint patches. l't lower lung consolidation. l't pleural effusion. 3. no mediastinum widening. 4. s / p endotracheal tube and ng intubation.\"]\n",
                        "\n"
                    ]
                },
                {
                    "name": "stderr",
                    "output_type": "stream",
                    "text": [
                        "Evaluating: :  40%|████      | 4/10 [00:09<00:13,  2.30s/it]"
                    ]
                },
                {
                    "name": "stdout",
                    "output_type": "stream",
                    "text": [
                        "Names      : ['NLP_CHEST_015']\n",
                        "Predictions: ['chest pa view shows : > no obvious lung mass nor consolidation patch. > normal heart size. > no pleural effusion.']\n",
                        "Labels     : ['chest x ray : - no obvious lung mass nor consolidation patch. - normal heart size. - no pleural effusion.']\n",
                        "\n"
                    ]
                },
                {
                    "name": "stderr",
                    "output_type": "stream",
                    "text": [
                        "Evaluating: :  50%|█████     | 5/10 [00:11<00:11,  2.28s/it]"
                    ]
                },
                {
                    "name": "stdout",
                    "output_type": "stream",
                    "text": [
                        "Names      : ['NLP_CHEST_027']\n",
                        "Predictions: ['chest pa view : impression : - increased both lung markings. - compatible with right lung nodules. - fibrotic lesion in left upper lung. - normal heart size. atherosclerotic aorta. - suspect right pleural effusion. - spondylosis. r / o osteoporosis. - compatible with multiple bony metastases. - s / p ng and endotracheal tube. - s / p lt subclavian port - a - cath.']\n",
                        "Labels     : ['chest pa view : impression : > cardiomegaly with bilateral pulmonary congestion. > postinflammatory fibrosis in both upper lungs. > atherosclerosis of aorta. > old fractures of left 5th and 6th ribs. > r / o osteoporosis. > spondylosis of thoracolumbar spine. > s / p abdominal operation in ruq.']\n",
                        "\n"
                    ]
                },
                {
                    "name": "stderr",
                    "output_type": "stream",
                    "text": [
                        "Evaluating: :  60%|██████    | 6/10 [00:13<00:09,  2.28s/it]"
                    ]
                },
                {
                    "name": "stdout",
                    "output_type": "stream",
                    "text": [
                        "Names      : ['NLP_CHEST_031']\n",
                        "Predictions: ['chest pa view : impression : - increased both lung markings. - compatible with right lung nodules. - fibrotic lesion in left upper lung. - normal heart size. atherosclerotic aorta. - suspect right pleural effusion. - spondylosis. r / o osteoporosis. - compatible with multiple bony metastases. - s / p ng and endotracheal tube. - s / p lt subclavian port - a - cath.']\n",
                        "Labels     : ['chest pa view : impression : - increased both lung markings. - compatible with right lung nodules. - fibrotic lesion in left upper lung. - normal heart size. atherosclerotic aorta. - suspect right pleural effusion. - spondylosis. r / o osteoporosis. - compatible with multiple bony metastases. - s / p ng and endotracheal tube. - s / p lt subclavian port - a - cath.']\n",
                        "\n"
                    ]
                },
                {
                    "name": "stderr",
                    "output_type": "stream",
                    "text": [
                        "Evaluating: :  70%|███████   | 7/10 [00:16<00:06,  2.28s/it]"
                    ]
                },
                {
                    "name": "stdout",
                    "output_type": "stream",
                    "text": [
                        "Names      : ['NLP_CHEST_057']\n",
                        "Predictions: ['chest pa view : impression : - increased both lung markings. - compatible with right lung nodules. - fibrotic lesion in left upper lung. - normal heart size. atherosclerotic aorta. - suspect right pleural effusion. - spondylosis. r / o osteoporosis. - compatible with multiple bony metastases. - s / p ng and endotracheal tube. - s / p lt subclavian port - a - cath.']\n",
                        "Labels     : ['chest plain film shows : impression : - increased infiltrations in both lungs. - tortuous atherosclerotic dilated aorta. - normal heart size. - djd of spine. old fracture of right ribs. - increased both lung markings. s / p lt jugular cvc insertion. s / p ng and endotracheal tube. - susp. lt pneumothorax. suspect pneumomediastinum. subcutaneous emphysema in bilateral neck. - s / p bilateral chest tube insertion.']\n",
                        "\n"
                    ]
                },
                {
                    "name": "stderr",
                    "output_type": "stream",
                    "text": [
                        "Evaluating: :  80%|████████  | 8/10 [00:18<00:04,  2.28s/it]"
                    ]
                },
                {
                    "name": "stdout",
                    "output_type": "stream",
                    "text": [
                        "Names      : ['NLP_CHEST_059']\n",
                        "Predictions: ['chest pa view shows : > no obvious lung mass nor consolidation patch. > normal heart size. > no pleural effusion.']\n",
                        "Labels     : ['supine chest ap view shows : pigtail catheter at right lower chest. decreased amount of right pleural effusion. air in the right lower pleural space. poor lung expansion. mild subcutaneous emphysema at right chest wall. right pleural thickening. ill - defined masses at right perihilar region. normal heart size.']\n",
                        "\n"
                    ]
                },
                {
                    "name": "stderr",
                    "output_type": "stream",
                    "text": [
                        "Evaluating: :  90%|█████████ | 9/10 [00:20<00:02,  2.26s/it]"
                    ]
                },
                {
                    "name": "stdout",
                    "output_type": "stream",
                    "text": [
                        "Names      : ['NLP_CHEST_071']\n",
                        "Predictions: ['chest pa view : impression : - increased both lung markings. - compatible with right lung nodules. - fibrotic lesion in left upper lung. - normal heart size. atherosclerotic aorta. - suspect right pleural effusion. - spondylosis. r / o osteoporosis. - compatible with multiple bony metastases. - s / p ng and endotracheal tube. - s / p lt subclavian port - a - cath.']\n",
                        "Labels     : ['chest film shows : impression : - bilateral lung infiltrations. - suspect right lower lung patch. blunting right cp angle. - tortuous atherosclerotic aorta. - scoliosis, djd and osteoporosis of spine. compression fracture of t12. old fracture of left ribs. - s / p fixation in l - spine. - s / p tracheostomy and ng tube.']\n",
                        "\n"
                    ]
                },
                {
                    "name": "stderr",
                    "output_type": "stream",
                    "text": [
                        "Evaluating: : 100%|██████████| 10/10 [00:22<00:00,  2.28s/it]\n"
                    ]
                },
                {
                    "name": "stdout",
                    "output_type": "stream",
                    "text": [
                        "Names      : ['NLP_CHEST_085']\n",
                        "Predictions: ['chest pa view : impression : - increased both lung markings. - compatible with right lung nodules. - fibrotic lesion in left upper lung. - normal heart size. atherosclerotic aorta. - suspect right pleural effusion. - spondylosis. r / o osteoporosis. - compatible with multiple bony metastases. - s / p ng and endotracheal tube. - s / p lt subclavian port - a - cath.']\n",
                        "Labels     : ['chest x ray : - right pneumothorax with pleural effusion, status post drainge tube placement. - extensive subcutaneous emphysema from neck to right side thoracic cage. - increased right hilar opacity. - atherosclerosis and tortuous aorta. - obscured bilateral costophrenic angles. - spondylosis and mild scoliosis of thoracolumbar spine. - oa of right glenohumeral joint. - generalized osteopenia.']\n",
                        "\n",
                        "Rouge-2 score : {'Rouge-L-P': 0.20663193206106617, 'Rouge-L-R': 0.16978230054229548, 'Rouge-L-F': 0.16978230054229548, 'Rouge-2-P': 0.12506789856775752, 'Rouge-2-R': 0.09679066375388062, 'Rouge-2-F': 0.09679066375388062}\n"
                    ]
                },
                {
                    "name": "stderr",
                    "output_type": "stream",
                    "text": [
                        "Training Epoch [19 / 50]: 100%|██████████| 89/89 [00:14<00:00,  5.97it/s, loss=0.0606]\n",
                        "Evaluating: :  10%|█         | 1/10 [00:02<00:25,  2.81s/it]"
                    ]
                },
                {
                    "name": "stdout",
                    "output_type": "stream",
                    "text": [
                        "Names      : ['NLP_CHEST_002']\n",
                        "Predictions: ['chest plain film view showed : impression : - sutures in right upper chest. susp. rt pneumothorax. - the mediastinum is not widened. - normal heart size. - djd of spine. - s / p right chest tube insertion. - subcutaneous emphysema in bilateral neck and left chest walls. - atherosclerotic aorta.']\n",
                        "Labels     : ['chest pa view shows : partial atelectasis at left lower lung field. left pleural effusion. borderline heart size. atherosclerotic change of aortic knob. s / p port - a implantation via left subclavian vein. intraperitoneal port catheter. surgical clips at ruq of abdomen.']\n",
                        "\n"
                    ]
                },
                {
                    "name": "stderr",
                    "output_type": "stream",
                    "text": [
                        "Evaluating: :  20%|██        | 2/10 [00:05<00:21,  2.73s/it]"
                    ]
                },
                {
                    "name": "stdout",
                    "output_type": "stream",
                    "text": [
                        "Names      : ['NLP_CHEST_004']\n",
                        "Predictions: ['chest plain film view showed : impression : - suspect right upper lung mass. - suspect pulmonary fibrosis. suspect right lower lung patch. blunting bilateral cp angles. - increased infiltrations in both lungs. - tortuous atherosclerotic dilated aorta. - djd of spine. - s / p rt jugular cvc insertion.']\n",
                        "Labels     : ['chest pa view show : impression : - s / p rll wedge resection. - bilateral lungs metastasis. - left lower lung subsegmental atelectasis. - increased infiltrations in both lungs. - blunting right cp angle. - tortuous atherosclerotic aorta. - scoliosis, djd and osteoporosis of spine. - compression fracture of l1.']\n",
                        "\n"
                    ]
                },
                {
                    "name": "stderr",
                    "output_type": "stream",
                    "text": [
                        "Evaluating: :  30%|███       | 3/10 [00:08<00:19,  2.76s/it]"
                    ]
                },
                {
                    "name": "stdout",
                    "output_type": "stream",
                    "text": [
                        "Names      : ['NLP_CHEST_011']\n",
                        "Predictions: ['chest plain film view showed : impression : - suspicious right upper lung patch. - increased infiltrations in both lungs. - blunting bilateral cp angles. - tortuous atherosclerotic dilated aorta. - djd of spine. mild scoliosis of spine.']\n",
                        "Labels     : [\"chest ap view showed : 1. s / p sternotomy and cabg. enlarged heart size with tortuous aorta. 2. r't middle and lower lung faint patches. l't lower lung consolidation. l't pleural effusion. 3. no mediastinum widening. 4. s / p endotracheal tube and ng intubation.\"]\n",
                        "\n"
                    ]
                },
                {
                    "name": "stderr",
                    "output_type": "stream",
                    "text": [
                        "Evaluating: :  40%|████      | 4/10 [00:10<00:16,  2.71s/it]"
                    ]
                },
                {
                    "name": "stdout",
                    "output_type": "stream",
                    "text": [
                        "Names      : ['NLP_CHEST_015']\n",
                        "Predictions: ['chest plain film view showed : impression : - sutures in right upper chest. susp. rt pneumothorax. - the mediastinum is not widened. - normal heart size. - djd of spine. - s / p right chest tube insertion. - subcutaneous emphysema in bilateral neck and left chest walls. - atherosclerotic aorta.']\n",
                        "Labels     : ['chest x ray : - no obvious lung mass nor consolidation patch. - normal heart size. - no pleural effusion.']\n",
                        "\n"
                    ]
                },
                {
                    "name": "stderr",
                    "output_type": "stream",
                    "text": [
                        "Evaluating: :  50%|█████     | 5/10 [00:13<00:13,  2.71s/it]"
                    ]
                },
                {
                    "name": "stdout",
                    "output_type": "stream",
                    "text": [
                        "Names      : ['NLP_CHEST_027']\n",
                        "Predictions: ['chest plain film view showed : impression : - sutures in right upper chest. susp. rt pneumothorax. - the mediastinum is not widened. - normal heart size. - djd of spine. - s / p right chest tube insertion. - subcutaneous emphysema in bilateral neck and left chest walls. - atherosclerotic aorta.']\n",
                        "Labels     : ['chest pa view : impression : > cardiomegaly with bilateral pulmonary congestion. > postinflammatory fibrosis in both upper lungs. > atherosclerosis of aorta. > old fractures of left 5th and 6th ribs. > r / o osteoporosis. > spondylosis of thoracolumbar spine. > s / p abdominal operation in ruq.']\n",
                        "\n"
                    ]
                },
                {
                    "name": "stderr",
                    "output_type": "stream",
                    "text": [
                        "Evaluating: :  60%|██████    | 6/10 [00:16<00:11,  2.75s/it]"
                    ]
                },
                {
                    "name": "stdout",
                    "output_type": "stream",
                    "text": [
                        "Names      : ['NLP_CHEST_031']\n",
                        "Predictions: ['chest plain film view showed : impression : - suspicious right upper lung patch. - increased infiltrations in both lungs. - blunting bilateral cp angles. - tortuous atherosclerotic dilated aorta. - djd of spine. mild scoliosis of spine.']\n",
                        "Labels     : ['chest pa view : impression : - increased both lung markings. - compatible with right lung nodules. - fibrotic lesion in left upper lung. - normal heart size. atherosclerotic aorta. - suspect right pleural effusion. - spondylosis. r / o osteoporosis. - compatible with multiple bony metastases. - s / p ng and endotracheal tube. - s / p lt subclavian port - a - cath.']\n",
                        "\n"
                    ]
                },
                {
                    "name": "stderr",
                    "output_type": "stream",
                    "text": [
                        "Evaluating: :  70%|███████   | 7/10 [00:19<00:08,  2.69s/it]"
                    ]
                },
                {
                    "name": "stdout",
                    "output_type": "stream",
                    "text": [
                        "Names      : ['NLP_CHEST_057']\n",
                        "Predictions: ['chest plain film view showed : impression : - suspect right upper lung mass. - suspect pulmonary fibrosis. suspect right lower lung patch. blunting bilateral cp angles. - increased infiltrations in both lungs. - tortuous atherosclerotic dilated aorta. - djd of spine. - s / p rt jugular cvc insertion.']\n",
                        "Labels     : ['chest plain film shows : impression : - increased infiltrations in both lungs. - tortuous atherosclerotic dilated aorta. - normal heart size. - djd of spine. old fracture of right ribs. - increased both lung markings. s / p lt jugular cvc insertion. s / p ng and endotracheal tube. - susp. lt pneumothorax. suspect pneumomediastinum. subcutaneous emphysema in bilateral neck. - s / p bilateral chest tube insertion.']\n",
                        "\n"
                    ]
                },
                {
                    "name": "stderr",
                    "output_type": "stream",
                    "text": [
                        "Evaluating: :  80%|████████  | 8/10 [00:21<00:05,  2.72s/it]"
                    ]
                },
                {
                    "name": "stdout",
                    "output_type": "stream",
                    "text": [
                        "Names      : ['NLP_CHEST_059']\n",
                        "Predictions: ['chest plain film view showed : impression : - sutures in right upper chest. susp. rt pneumothorax. - the mediastinum is not widened. - normal heart size. - djd of spine. - s / p right chest tube insertion. - subcutaneous emphysema in bilateral neck and left chest walls. - atherosclerotic aorta.']\n",
                        "Labels     : ['supine chest ap view shows : pigtail catheter at right lower chest. decreased amount of right pleural effusion. air in the right lower pleural space. poor lung expansion. mild subcutaneous emphysema at right chest wall. right pleural thickening. ill - defined masses at right perihilar region. normal heart size.']\n",
                        "\n"
                    ]
                },
                {
                    "name": "stderr",
                    "output_type": "stream",
                    "text": [
                        "Evaluating: :  90%|█████████ | 9/10 [00:24<00:02,  2.69s/it]"
                    ]
                },
                {
                    "name": "stdout",
                    "output_type": "stream",
                    "text": [
                        "Names      : ['NLP_CHEST_071']\n",
                        "Predictions: ['chest plain film view showed : impression : - suspicious right upper lung patch. - increased infiltrations in both lungs. - tortuous atherosclerotic dilated aorta. - normal heart size.']\n",
                        "Labels     : ['chest film shows : impression : - bilateral lung infiltrations. - suspect right lower lung patch. blunting right cp angle. - tortuous atherosclerotic aorta. - scoliosis, djd and osteoporosis of spine. compression fracture of t12. old fracture of left ribs. - s / p fixation in l - spine. - s / p tracheostomy and ng tube.']\n",
                        "\n"
                    ]
                },
                {
                    "name": "stderr",
                    "output_type": "stream",
                    "text": [
                        "Evaluating: : 100%|██████████| 10/10 [00:27<00:00,  2.72s/it]\n"
                    ]
                },
                {
                    "name": "stdout",
                    "output_type": "stream",
                    "text": [
                        "Names      : ['NLP_CHEST_085']\n",
                        "Predictions: ['chest plain film view showed : impression : - sutures in right upper chest. susp. rt pneumothorax. - the mediastinum is not widened. - normal heart size. - djd of spine. - s / p right chest tube insertion. - subcutaneous emphysema in bilateral neck and left chest walls. - atherosclerotic aorta.']\n",
                        "Labels     : ['chest x ray : - right pneumothorax with pleural effusion, status post drainge tube placement. - extensive subcutaneous emphysema from neck to right side thoracic cage. - increased right hilar opacity. - atherosclerosis and tortuous aorta. - obscured bilateral costophrenic angles. - spondylosis and mild scoliosis of thoracolumbar spine. - oa of right glenohumeral joint. - generalized osteopenia.']\n",
                        "\n",
                        "Rouge-2 score : {'Rouge-L-P': 0.21210797099393452, 'Rouge-L-R': 0.17564510402792144, 'Rouge-L-F': 0.17564510402792144, 'Rouge-2-P': 0.12726896214808547, 'Rouge-2-R': 0.09965164318444189, 'Rouge-2-F': 0.09965164318444189}\n"
                    ]
                },
                {
                    "name": "stderr",
                    "output_type": "stream",
                    "text": [
                        "Training Epoch [20 / 50]: 100%|██████████| 89/89 [00:14<00:00,  6.05it/s, loss=0.0537]\n",
                        "Evaluating: :  10%|█         | 1/10 [00:03<00:33,  3.76s/it]"
                    ]
                },
                {
                    "name": "stdout",
                    "output_type": "stream",
                    "text": [
                        "Names      : ['NLP_CHEST_002']\n",
                        "Predictions: ['chest plain film shows : impression : - increased infiltrations in both lungs. - blunting bilateral cp angles. elevated right hemidiaphragm. - tortuous atherosclerotic dilated aorta. - cardiomegaly. - djd of spine. s / p fixation in l - spine.']\n",
                        "Labels     : ['chest pa view shows : partial atelectasis at left lower lung field. left pleural effusion. borderline heart size. atherosclerotic change of aortic knob. s / p port - a implantation via left subclavian vein. intraperitoneal port catheter. surgical clips at ruq of abdomen.']\n",
                        "\n"
                    ]
                },
                {
                    "name": "stderr",
                    "output_type": "stream",
                    "text": [
                        "Evaluating: :  20%|██        | 2/10 [00:06<00:26,  3.34s/it]"
                    ]
                },
                {
                    "name": "stdout",
                    "output_type": "stream",
                    "text": [
                        "Names      : ['NLP_CHEST_004']\n",
                        "Predictions: ['chest plain film shows : impression : - increased infiltrations in both lungs. - blunting bilateral cp angles. elevated right hemidiaphragm. - tortuous atherosclerotic dilated aorta. - cardiomegaly. - djd of spine. s / p fixation in left clavicle.']\n",
                        "Labels     : ['chest pa view show : impression : - s / p rll wedge resection. - bilateral lungs metastasis. - left lower lung subsegmental atelectasis. - increased infiltrations in both lungs. - blunting right cp angle. - tortuous atherosclerotic aorta. - scoliosis, djd and osteoporosis of spine. - compression fracture of l1.']\n",
                        "\n"
                    ]
                },
                {
                    "name": "stderr",
                    "output_type": "stream",
                    "text": [
                        "Evaluating: :  30%|███       | 3/10 [00:09<00:22,  3.27s/it]"
                    ]
                },
                {
                    "name": "stdout",
                    "output_type": "stream",
                    "text": [
                        "Names      : ['NLP_CHEST_011']\n",
                        "Predictions: ['chest plain film shows : impression : - suspicious right upper lung patch. - normal heart size. - s / p repair for left diaphragmatic hernia. - s / p endotracheal tube insertion. s / p og tube insertion. s / p right arm picc insertion.']\n",
                        "Labels     : [\"chest ap view showed : 1. s / p sternotomy and cabg. enlarged heart size with tortuous aorta. 2. r't middle and lower lung faint patches. l't lower lung consolidation. l't pleural effusion. 3. no mediastinum widening. 4. s / p endotracheal tube and ng intubation.\"]\n",
                        "\n"
                    ]
                },
                {
                    "name": "stderr",
                    "output_type": "stream",
                    "text": [
                        "Evaluating: :  40%|████      | 4/10 [00:12<00:18,  3.01s/it]"
                    ]
                },
                {
                    "name": "stdout",
                    "output_type": "stream",
                    "text": [
                        "Names      : ['NLP_CHEST_015']\n",
                        "Predictions: ['chest plain film shows : impression : - s / p lul lobectomy, rul and rml wedge resection. - suspect left lower lung patch. - bilateral pleural effusions. - the heart shadow is not enlarged. - atherosclerosis of aorta. - r / o osteoporosis. - djd of spine. - s / p lt subclavian port - a - cath.']\n",
                        "Labels     : ['chest x ray : - no obvious lung mass nor consolidation patch. - normal heart size. - no pleural effusion.']\n",
                        "\n"
                    ]
                },
                {
                    "name": "stderr",
                    "output_type": "stream",
                    "text": [
                        "Evaluating: :  50%|█████     | 5/10 [00:15<00:14,  2.95s/it]"
                    ]
                },
                {
                    "name": "stdout",
                    "output_type": "stream",
                    "text": [
                        "Names      : ['NLP_CHEST_027']\n",
                        "Predictions: ['chest plain film shows : impression : - increased infiltrations in both lungs. - blunting bilateral cp angles. elevated right hemidiaphragm. - tortuous atherosclerotic dilated aorta. - cardiomegaly. - djd of spine. s / p fixation in l - spine.']\n",
                        "Labels     : ['chest pa view : impression : > cardiomegaly with bilateral pulmonary congestion. > postinflammatory fibrosis in both upper lungs. > atherosclerosis of aorta. > old fractures of left 5th and 6th ribs. > r / o osteoporosis. > spondylosis of thoracolumbar spine. > s / p abdominal operation in ruq.']\n",
                        "\n"
                    ]
                },
                {
                    "name": "stderr",
                    "output_type": "stream",
                    "text": [
                        "Evaluating: :  60%|██████    | 6/10 [00:18<00:11,  2.84s/it]"
                    ]
                },
                {
                    "name": "stdout",
                    "output_type": "stream",
                    "text": [
                        "Names      : ['NLP_CHEST_031']\n",
                        "Predictions: ['chest plain film shows : impression : - suspicious right upper lung patch. - normal heart size. - s / p repair for left diaphragmatic hernia. - s / p endotracheal tube insertion. s / p og tube insertion. s / p right arm picc insertion.']\n",
                        "Labels     : ['chest pa view : impression : - increased both lung markings. - compatible with right lung nodules. - fibrotic lesion in left upper lung. - normal heart size. atherosclerotic aorta. - suspect right pleural effusion. - spondylosis. r / o osteoporosis. - compatible with multiple bony metastases. - s / p ng and endotracheal tube. - s / p lt subclavian port - a - cath.']\n",
                        "\n"
                    ]
                },
                {
                    "name": "stderr",
                    "output_type": "stream",
                    "text": [
                        "Evaluating: :  70%|███████   | 7/10 [00:21<00:08,  3.00s/it]"
                    ]
                },
                {
                    "name": "stdout",
                    "output_type": "stream",
                    "text": [
                        "Names      : ['NLP_CHEST_057']\n",
                        "Predictions: ['chest plain film shows : impression : - increased infiltrations in both lungs. - blunting bilateral cp angles. elevated right hemidiaphragm. - tortuous atherosclerotic dilated aorta. - cardiomegaly. - djd of spine. s / p fixation in left clavicle.']\n",
                        "Labels     : ['chest plain film shows : impression : - increased infiltrations in both lungs. - tortuous atherosclerotic dilated aorta. - normal heart size. - djd of spine. old fracture of right ribs. - increased both lung markings. s / p lt jugular cvc insertion. s / p ng and endotracheal tube. - susp. lt pneumothorax. suspect pneumomediastinum. subcutaneous emphysema in bilateral neck. - s / p bilateral chest tube insertion.']\n",
                        "\n"
                    ]
                },
                {
                    "name": "stderr",
                    "output_type": "stream",
                    "text": [
                        "Evaluating: :  80%|████████  | 8/10 [00:24<00:06,  3.15s/it]"
                    ]
                },
                {
                    "name": "stdout",
                    "output_type": "stream",
                    "text": [
                        "Names      : ['NLP_CHEST_059']\n",
                        "Predictions: ['chest plain film shows : impression : - increased infiltrations in both lungs. - blunting bilateral cp angles. elevated right hemidiaphragm. - tortuous atherosclerotic dilated aorta. - cardiomegaly. - djd of spine. s / p fixation in l - spine.']\n",
                        "Labels     : ['supine chest ap view shows : pigtail catheter at right lower chest. decreased amount of right pleural effusion. air in the right lower pleural space. poor lung expansion. mild subcutaneous emphysema at right chest wall. right pleural thickening. ill - defined masses at right perihilar region. normal heart size.']\n",
                        "\n"
                    ]
                },
                {
                    "name": "stderr",
                    "output_type": "stream",
                    "text": [
                        "Evaluating: :  90%|█████████ | 9/10 [00:27<00:03,  3.07s/it]"
                    ]
                },
                {
                    "name": "stdout",
                    "output_type": "stream",
                    "text": [
                        "Names      : ['NLP_CHEST_071']\n",
                        "Predictions: ['chest plain film shows : impression : - increased infiltrations in both lungs. - left lung white out. - s / p left brachiocephalic vein stent. - suspect left pleural effusion. - tortuous atherosclerotic dilated aorta. - djd of spine.']\n",
                        "Labels     : ['chest film shows : impression : - bilateral lung infiltrations. - suspect right lower lung patch. blunting right cp angle. - tortuous atherosclerotic aorta. - scoliosis, djd and osteoporosis of spine. compression fracture of t12. old fracture of left ribs. - s / p fixation in l - spine. - s / p tracheostomy and ng tube.']\n",
                        "\n"
                    ]
                },
                {
                    "name": "stderr",
                    "output_type": "stream",
                    "text": [
                        "Evaluating: : 100%|██████████| 10/10 [00:30<00:00,  3.09s/it]\n"
                    ]
                },
                {
                    "name": "stdout",
                    "output_type": "stream",
                    "text": [
                        "Names      : ['NLP_CHEST_085']\n",
                        "Predictions: ['chest plain film shows : impression : - increased infiltrations in both lungs. - blunting bilateral cp angles. elevated right hemidiaphragm. - tortuous atherosclerotic dilated aorta. - cardiomegaly. - djd of spine. s / p fixation in l - spine.']\n",
                        "Labels     : ['chest x ray : - right pneumothorax with pleural effusion, status post drainge tube placement. - extensive subcutaneous emphysema from neck to right side thoracic cage. - increased right hilar opacity. - atherosclerosis and tortuous aorta. - obscured bilateral costophrenic angles. - spondylosis and mild scoliosis of thoracolumbar spine. - oa of right glenohumeral joint. - generalized osteopenia.']\n",
                        "\n",
                        "Rouge-2 score : {'Rouge-L-P': 0.21932894991717025, 'Rouge-L-R': 0.18141649407350202, 'Rouge-L-F': 0.18141649407350202, 'Rouge-2-P': 0.13141463498628128, 'Rouge-2-R': 0.10247168266091863, 'Rouge-2-F': 0.10247168266091863}\n"
                    ]
                },
                {
                    "name": "stderr",
                    "output_type": "stream",
                    "text": [
                        "Training Epoch [21 / 50]: 100%|██████████| 89/89 [00:15<00:00,  5.82it/s, loss=0.0515]\n",
                        "Evaluating: :  10%|█         | 1/10 [00:02<00:23,  2.61s/it]"
                    ]
                },
                {
                    "name": "stdout",
                    "output_type": "stream",
                    "text": [
                        "Names      : ['NLP_CHEST_002']\n",
                        "Predictions: ['']\n",
                        "Labels     : ['chest pa view shows : partial atelectasis at left lower lung field. left pleural effusion. borderline heart size. atherosclerotic change of aortic knob. s / p port - a implantation via left subclavian vein. intraperitoneal port catheter. surgical clips at ruq of abdomen.']\n",
                        "\n"
                    ]
                },
                {
                    "name": "stderr",
                    "output_type": "stream",
                    "text": [
                        "Evaluating: :  20%|██        | 2/10 [00:05<00:22,  2.82s/it]"
                    ]
                },
                {
                    "name": "stdout",
                    "output_type": "stream",
                    "text": [
                        "Names      : ['NLP_CHEST_004']\n",
                        "Predictions: ['']\n",
                        "Labels     : ['chest pa view show : impression : - s / p rll wedge resection. - bilateral lungs metastasis. - left lower lung subsegmental atelectasis. - increased infiltrations in both lungs. - blunting right cp angle. - tortuous atherosclerotic aorta. - scoliosis, djd and osteoporosis of spine. - compression fracture of l1.']\n",
                        "\n"
                    ]
                },
                {
                    "name": "stderr",
                    "output_type": "stream",
                    "text": [
                        "Evaluating: :  30%|███       | 3/10 [00:07<00:18,  2.58s/it]"
                    ]
                },
                {
                    "name": "stdout",
                    "output_type": "stream",
                    "text": [
                        "Names      : ['NLP_CHEST_011']\n",
                        "Predictions: ['']\n",
                        "Labels     : [\"chest ap view showed : 1. s / p sternotomy and cabg. enlarged heart size with tortuous aorta. 2. r't middle and lower lung faint patches. l't lower lung consolidation. l't pleural effusion. 3. no mediastinum widening. 4. s / p endotracheal tube and ng intubation.\"]\n",
                        "\n"
                    ]
                },
                {
                    "name": "stderr",
                    "output_type": "stream",
                    "text": [
                        "Evaluating: :  40%|████      | 4/10 [00:10<00:14,  2.45s/it]"
                    ]
                },
                {
                    "name": "stdout",
                    "output_type": "stream",
                    "text": [
                        "Names      : ['NLP_CHEST_015']\n",
                        "Predictions: ['']\n",
                        "Labels     : ['chest x ray : - no obvious lung mass nor consolidation patch. - normal heart size. - no pleural effusion.']\n",
                        "\n"
                    ]
                },
                {
                    "name": "stderr",
                    "output_type": "stream",
                    "text": [
                        "Evaluating: :  50%|█████     | 5/10 [00:12<00:11,  2.40s/it]"
                    ]
                },
                {
                    "name": "stdout",
                    "output_type": "stream",
                    "text": [
                        "Names      : ['NLP_CHEST_027']\n",
                        "Predictions: ['']\n",
                        "Labels     : ['chest pa view : impression : > cardiomegaly with bilateral pulmonary congestion. > postinflammatory fibrosis in both upper lungs. > atherosclerosis of aorta. > old fractures of left 5th and 6th ribs. > r / o osteoporosis. > spondylosis of thoracolumbar spine. > s / p abdominal operation in ruq.']\n",
                        "\n"
                    ]
                },
                {
                    "name": "stderr",
                    "output_type": "stream",
                    "text": [
                        "Evaluating: :  60%|██████    | 6/10 [00:14<00:09,  2.43s/it]"
                    ]
                },
                {
                    "name": "stdout",
                    "output_type": "stream",
                    "text": [
                        "Names      : ['NLP_CHEST_031']\n",
                        "Predictions: ['']\n",
                        "Labels     : ['chest pa view : impression : - increased both lung markings. - compatible with right lung nodules. - fibrotic lesion in left upper lung. - normal heart size. atherosclerotic aorta. - suspect right pleural effusion. - spondylosis. r / o osteoporosis. - compatible with multiple bony metastases. - s / p ng and endotracheal tube. - s / p lt subclavian port - a - cath.']\n",
                        "\n"
                    ]
                },
                {
                    "name": "stderr",
                    "output_type": "stream",
                    "text": [
                        "Evaluating: :  70%|███████   | 7/10 [00:17<00:07,  2.50s/it]"
                    ]
                },
                {
                    "name": "stdout",
                    "output_type": "stream",
                    "text": [
                        "Names      : ['NLP_CHEST_057']\n",
                        "Predictions: ['']\n",
                        "Labels     : ['chest plain film shows : impression : - increased infiltrations in both lungs. - tortuous atherosclerotic dilated aorta. - normal heart size. - djd of spine. old fracture of right ribs. - increased both lung markings. s / p lt jugular cvc insertion. s / p ng and endotracheal tube. - susp. lt pneumothorax. suspect pneumomediastinum. subcutaneous emphysema in bilateral neck. - s / p bilateral chest tube insertion.']\n",
                        "\n"
                    ]
                },
                {
                    "name": "stderr",
                    "output_type": "stream",
                    "text": [
                        "Evaluating: :  80%|████████  | 8/10 [00:19<00:04,  2.47s/it]"
                    ]
                },
                {
                    "name": "stdout",
                    "output_type": "stream",
                    "text": [
                        "Names      : ['NLP_CHEST_059']\n",
                        "Predictions: ['']\n",
                        "Labels     : ['supine chest ap view shows : pigtail catheter at right lower chest. decreased amount of right pleural effusion. air in the right lower pleural space. poor lung expansion. mild subcutaneous emphysema at right chest wall. right pleural thickening. ill - defined masses at right perihilar region. normal heart size.']\n",
                        "\n"
                    ]
                },
                {
                    "name": "stderr",
                    "output_type": "stream",
                    "text": [
                        "Evaluating: :  90%|█████████ | 9/10 [00:22<00:02,  2.47s/it]"
                    ]
                },
                {
                    "name": "stdout",
                    "output_type": "stream",
                    "text": [
                        "Names      : ['NLP_CHEST_071']\n",
                        "Predictions: ['']\n",
                        "Labels     : ['chest film shows : impression : - bilateral lung infiltrations. - suspect right lower lung patch. blunting right cp angle. - tortuous atherosclerotic aorta. - scoliosis, djd and osteoporosis of spine. compression fracture of t12. old fracture of left ribs. - s / p fixation in l - spine. - s / p tracheostomy and ng tube.']\n",
                        "\n"
                    ]
                },
                {
                    "name": "stderr",
                    "output_type": "stream",
                    "text": [
                        "Evaluating: : 100%|██████████| 10/10 [00:25<00:00,  2.50s/it]\n"
                    ]
                },
                {
                    "name": "stdout",
                    "output_type": "stream",
                    "text": [
                        "Names      : ['NLP_CHEST_085']\n",
                        "Predictions: ['']\n",
                        "Labels     : ['chest x ray : - right pneumothorax with pleural effusion, status post drainge tube placement. - extensive subcutaneous emphysema from neck to right side thoracic cage. - increased right hilar opacity. - atherosclerosis and tortuous aorta. - obscured bilateral costophrenic angles. - spondylosis and mild scoliosis of thoracolumbar spine. - oa of right glenohumeral joint. - generalized osteopenia.']\n",
                        "\n",
                        "Rouge-2 score : {'Rouge-L-P': 0.2088847142068288, 'Rouge-L-R': 0.17277761340333525, 'Rouge-L-F': 0.17277761340333525, 'Rouge-2-P': 0.1251567952250298, 'Rouge-2-R': 0.09759207872468441, 'Rouge-2-F': 0.09759207872468441}\n"
                    ]
                },
                {
                    "name": "stderr",
                    "output_type": "stream",
                    "text": [
                        "Training Epoch [22 / 50]: 100%|██████████| 89/89 [00:14<00:00,  6.15it/s, loss=0.0459]\n",
                        "Evaluating: :  10%|█         | 1/10 [00:02<00:22,  2.46s/it]"
                    ]
                },
                {
                    "name": "stdout",
                    "output_type": "stream",
                    "text": [
                        "Names      : ['NLP_CHEST_002']\n",
                        "Predictions: ['chest plain film view showed : impression : - susp. rt pneumothorax. - increased both lung infiltrates. - the mediastinum is not widened. - normal heart size. - djd of spine. - s / p right chest tube insertion. - subcutaneous emphysema in bilateral neck and left chest walls. - atherosclerotic aorta.']\n",
                        "Labels     : ['chest pa view shows : partial atelectasis at left lower lung field. left pleural effusion. borderline heart size. atherosclerotic change of aortic knob. s / p port - a implantation via left subclavian vein. intraperitoneal port catheter. surgical clips at ruq of abdomen.']\n",
                        "\n"
                    ]
                },
                {
                    "name": "stderr",
                    "output_type": "stream",
                    "text": [
                        "Evaluating: :  20%|██        | 2/10 [00:04<00:18,  2.33s/it]"
                    ]
                },
                {
                    "name": "stdout",
                    "output_type": "stream",
                    "text": [
                        "Names      : ['NLP_CHEST_004']\n",
                        "Predictions: ['chest ap view shows : impression : - susp. rt pneumothorax. - increased bilateral lung infiltrates. - suspicious bilateral lung patches. - blunting right cp angle. - elevated right hemidiaphragm. - normal heart size. - spondylosis of spine. - s / p lt jugular cvc insertion. s / p rt subclavian cvc insertion.']\n",
                        "Labels     : ['chest pa view show : impression : - s / p rll wedge resection. - bilateral lungs metastasis. - left lower lung subsegmental atelectasis. - increased infiltrations in both lungs. - blunting right cp angle. - tortuous atherosclerotic aorta. - scoliosis, djd and osteoporosis of spine. - compression fracture of l1.']\n",
                        "\n"
                    ]
                },
                {
                    "name": "stderr",
                    "output_type": "stream",
                    "text": [
                        "Evaluating: :  30%|███       | 3/10 [00:06<00:15,  2.28s/it]"
                    ]
                },
                {
                    "name": "stdout",
                    "output_type": "stream",
                    "text": [
                        "Names      : ['NLP_CHEST_011']\n",
                        "Predictions: ['chest ap view shows : impression : - susp. rt pneumothorax. - increased bilateral lung infiltrates. - suspicious bilateral lung patches. - blunting right cp angle. - elevated right hemidiaphragm. - normal heart size. - spondylosis of spine. - s / p lt jugular cvc insertion. s / p rt subclavian cvc insertion.']\n",
                        "Labels     : [\"chest ap view showed : 1. s / p sternotomy and cabg. enlarged heart size with tortuous aorta. 2. r't middle and lower lung faint patches. l't lower lung consolidation. l't pleural effusion. 3. no mediastinum widening. 4. s / p endotracheal tube and ng intubation.\"]\n",
                        "\n"
                    ]
                },
                {
                    "name": "stderr",
                    "output_type": "stream",
                    "text": [
                        "Evaluating: :  40%|████      | 4/10 [00:09<00:13,  2.30s/it]"
                    ]
                },
                {
                    "name": "stdout",
                    "output_type": "stream",
                    "text": [
                        "Names      : ['NLP_CHEST_015']\n",
                        "Predictions: ['chest pa view shows : > no obvious lung mass nor consolidation patch. > normal heart size. > no pleural effusion.']\n",
                        "Labels     : ['chest x ray : - no obvious lung mass nor consolidation patch. - normal heart size. - no pleural effusion.']\n",
                        "\n"
                    ]
                },
                {
                    "name": "stderr",
                    "output_type": "stream",
                    "text": [
                        "Evaluating: :  50%|█████     | 5/10 [00:11<00:11,  2.29s/it]"
                    ]
                },
                {
                    "name": "stdout",
                    "output_type": "stream",
                    "text": [
                        "Names      : ['NLP_CHEST_027']\n",
                        "Predictions: ['chest plain film view showed : impression : - susp. rt pneumothorax. - increased both lung infiltrates. - the mediastinum is not widened. - normal heart size. - djd of spine. - s / p right chest tube insertion. - subcutaneous emphysema in bilateral neck and left chest walls. - atherosclerotic aorta.']\n",
                        "Labels     : ['chest pa view : impression : > cardiomegaly with bilateral pulmonary congestion. > postinflammatory fibrosis in both upper lungs. > atherosclerosis of aorta. > old fractures of left 5th and 6th ribs. > r / o osteoporosis. > spondylosis of thoracolumbar spine. > s / p abdominal operation in ruq.']\n",
                        "\n"
                    ]
                },
                {
                    "name": "stderr",
                    "output_type": "stream",
                    "text": [
                        "Evaluating: :  60%|██████    | 6/10 [00:13<00:09,  2.34s/it]"
                    ]
                },
                {
                    "name": "stdout",
                    "output_type": "stream",
                    "text": [
                        "Names      : ['NLP_CHEST_031']\n",
                        "Predictions: ['chest plain film shows : impression : - suspicious right upper lung nodule. - increased infiltrations in both lungs. - tortuous atherosclerotic dilated aorta. - normal heart size.']\n",
                        "Labels     : ['chest pa view : impression : - increased both lung markings. - compatible with right lung nodules. - fibrotic lesion in left upper lung. - normal heart size. atherosclerotic aorta. - suspect right pleural effusion. - spondylosis. r / o osteoporosis. - compatible with multiple bony metastases. - s / p ng and endotracheal tube. - s / p lt subclavian port - a - cath.']\n",
                        "\n"
                    ]
                },
                {
                    "name": "stderr",
                    "output_type": "stream",
                    "text": [
                        "Evaluating: :  70%|███████   | 7/10 [00:16<00:07,  2.38s/it]"
                    ]
                },
                {
                    "name": "stdout",
                    "output_type": "stream",
                    "text": [
                        "Names      : ['NLP_CHEST_057']\n",
                        "Predictions: ['chest ap view shows : impression : - susp. rt pneumothorax. - increased bilateral lung infiltrates. - suspicious bilateral lung patches. - blunting right cp angle. - elevated right hemidiaphragm. - normal heart size. - spondylosis of spine. - s / p lt jugular cvc insertion. s / p rt subclavian cvc insertion.']\n",
                        "Labels     : ['chest plain film shows : impression : - increased infiltrations in both lungs. - tortuous atherosclerotic dilated aorta. - normal heart size. - djd of spine. old fracture of right ribs. - increased both lung markings. s / p lt jugular cvc insertion. s / p ng and endotracheal tube. - susp. lt pneumothorax. suspect pneumomediastinum. subcutaneous emphysema in bilateral neck. - s / p bilateral chest tube insertion.']\n",
                        "\n"
                    ]
                },
                {
                    "name": "stderr",
                    "output_type": "stream",
                    "text": [
                        "Evaluating: :  80%|████████  | 8/10 [00:19<00:05,  2.67s/it]"
                    ]
                },
                {
                    "name": "stdout",
                    "output_type": "stream",
                    "text": [
                        "Names      : ['NLP_CHEST_059']\n",
                        "Predictions: ['chest plain film view showed : impression : - susp. rt pneumothorax. - increased both lung infiltrates. - the mediastinum is not widened. - normal heart size. - djd of spine. - s / p right chest tube insertion. - subcutaneous emphysema in bilateral neck and left chest walls. - atherosclerotic aorta.']\n",
                        "Labels     : ['supine chest ap view shows : pigtail catheter at right lower chest. decreased amount of right pleural effusion. air in the right lower pleural space. poor lung expansion. mild subcutaneous emphysema at right chest wall. right pleural thickening. ill - defined masses at right perihilar region. normal heart size.']\n",
                        "\n"
                    ]
                },
                {
                    "name": "stderr",
                    "output_type": "stream",
                    "text": [
                        "Evaluating: :  90%|█████████ | 9/10 [00:22<00:02,  2.61s/it]"
                    ]
                },
                {
                    "name": "stdout",
                    "output_type": "stream",
                    "text": [
                        "Names      : ['NLP_CHEST_071']\n",
                        "Predictions: ['chest ap view shows : impression : - susp. rt pneumothorax. - increased bilateral lung infiltrates. - suspicious bilateral lung patches. - blunting right cp angle. - elevated right hemidiaphragm. - normal heart size. - spondylosis of spine. - s / p lt jugular cvc insertion. s / p rt subclavian cvc insertion.']\n",
                        "Labels     : ['chest film shows : impression : - bilateral lung infiltrations. - suspect right lower lung patch. blunting right cp angle. - tortuous atherosclerotic aorta. - scoliosis, djd and osteoporosis of spine. compression fracture of t12. old fracture of left ribs. - s / p fixation in l - spine. - s / p tracheostomy and ng tube.']\n",
                        "\n"
                    ]
                },
                {
                    "name": "stderr",
                    "output_type": "stream",
                    "text": [
                        "Evaluating: : 100%|██████████| 10/10 [00:24<00:00,  2.48s/it]\n"
                    ]
                },
                {
                    "name": "stdout",
                    "output_type": "stream",
                    "text": [
                        "Names      : ['NLP_CHEST_085']\n",
                        "Predictions: ['chest plain film view showed : impression : - susp. rt pneumothorax. - increased both lung infiltrates. - the mediastinum is not widened. - normal heart size. - djd of spine. - s / p right chest tube insertion. - subcutaneous emphysema in bilateral neck and left chest walls. - atherosclerotic aorta.']\n",
                        "Labels     : ['chest x ray : - right pneumothorax with pleural effusion, status post drainge tube placement. - extensive subcutaneous emphysema from neck to right side thoracic cage. - increased right hilar opacity. - atherosclerosis and tortuous aorta. - obscured bilateral costophrenic angles. - spondylosis and mild scoliosis of thoracolumbar spine. - oa of right glenohumeral joint. - generalized osteopenia.']\n",
                        "\n",
                        "Rouge-2 score : {'Rouge-L-P': 0.21580066639973464, 'Rouge-L-R': 0.17998453948036944, 'Rouge-L-F': 0.17998453948036944, 'Rouge-2-P': 0.12940679448529646, 'Rouge-2-R': 0.10208259268006062, 'Rouge-2-F': 0.10208259268006062}\n"
                    ]
                },
                {
                    "name": "stderr",
                    "output_type": "stream",
                    "text": [
                        "Training Epoch [23 / 50]: 100%|██████████| 89/89 [00:15<00:00,  5.92it/s, loss=0.0443]\n",
                        "Evaluating: :  10%|█         | 1/10 [00:02<00:20,  2.33s/it]"
                    ]
                },
                {
                    "name": "stdout",
                    "output_type": "stream",
                    "text": [
                        "Names      : ['NLP_CHEST_002']\n",
                        "Predictions: ['chest plain film shows : impression : - increased infiltrations in both lungs. - blunting bilateral cp angles. elevated right hemidiaphragm. - tortuous atherosclerotic dilated aorta. - cardiomegaly. - djd of spine. s / p left pleural pigtail tube. subcutaneous emphysema in left chest wall.']\n",
                        "Labels     : ['chest pa view shows : partial atelectasis at left lower lung field. left pleural effusion. borderline heart size. atherosclerotic change of aortic knob. s / p port - a implantation via left subclavian vein. intraperitoneal port catheter. surgical clips at ruq of abdomen.']\n",
                        "\n"
                    ]
                },
                {
                    "name": "stderr",
                    "output_type": "stream",
                    "text": [
                        "Evaluating: :  20%|██        | 2/10 [00:04<00:17,  2.20s/it]"
                    ]
                },
                {
                    "name": "stdout",
                    "output_type": "stream",
                    "text": [
                        "Names      : ['NLP_CHEST_004']\n",
                        "Predictions: ['chest plain film shows : impression : - increased infiltrations in both lungs. - atherosclerotic aorta. - normal heart size. - scoliosis, djd and osteoporosis of spine.']\n",
                        "Labels     : ['chest pa view show : impression : - s / p rll wedge resection. - bilateral lungs metastasis. - left lower lung subsegmental atelectasis. - increased infiltrations in both lungs. - blunting right cp angle. - tortuous atherosclerotic aorta. - scoliosis, djd and osteoporosis of spine. - compression fracture of l1.']\n",
                        "\n"
                    ]
                },
                {
                    "name": "stderr",
                    "output_type": "stream",
                    "text": [
                        "Evaluating: :  30%|███       | 3/10 [00:06<00:15,  2.27s/it]"
                    ]
                },
                {
                    "name": "stdout",
                    "output_type": "stream",
                    "text": [
                        "Names      : ['NLP_CHEST_011']\n",
                        "Predictions: ['chest plain film shows : impression : - increased infiltrations in both lungs. - atherosclerotic aorta. - normal heart size. - scoliosis, djd and osteoporosis of spine.']\n",
                        "Labels     : [\"chest ap view showed : 1. s / p sternotomy and cabg. enlarged heart size with tortuous aorta. 2. r't middle and lower lung faint patches. l't lower lung consolidation. l't pleural effusion. 3. no mediastinum widening. 4. s / p endotracheal tube and ng intubation.\"]\n",
                        "\n"
                    ]
                },
                {
                    "name": "stderr",
                    "output_type": "stream",
                    "text": [
                        "Evaluating: :  40%|████      | 4/10 [00:08<00:13,  2.23s/it]"
                    ]
                },
                {
                    "name": "stdout",
                    "output_type": "stream",
                    "text": [
                        "Names      : ['NLP_CHEST_015']\n",
                        "Predictions: ['chest plain film view showed : impression : - susp. rt pneumothorax. - increased bilateral lung infiltrates. - blunting right cp angle. - elevated right hemidiaphragm. - normal heart size. - spondylosis of spine. - s / p ng and endotracheal tube. s / p rt subclavian port - a - cath.']\n",
                        "Labels     : ['chest x ray : - no obvious lung mass nor consolidation patch. - normal heart size. - no pleural effusion.']\n",
                        "\n"
                    ]
                },
                {
                    "name": "stderr",
                    "output_type": "stream",
                    "text": [
                        "Evaluating: :  50%|█████     | 5/10 [00:11<00:11,  2.21s/it]"
                    ]
                },
                {
                    "name": "stdout",
                    "output_type": "stream",
                    "text": [
                        "Names      : ['NLP_CHEST_027']\n",
                        "Predictions: ['chest plain film shows : impression : - increased infiltrations in both lungs. - blunting bilateral cp angles. elevated right hemidiaphragm. - tortuous atherosclerotic dilated aorta. - cardiomegaly. - djd of spine. s / p fixation in l - spine.']\n",
                        "Labels     : ['chest pa view : impression : > cardiomegaly with bilateral pulmonary congestion. > postinflammatory fibrosis in both upper lungs. > atherosclerosis of aorta. > old fractures of left 5th and 6th ribs. > r / o osteoporosis. > spondylosis of thoracolumbar spine. > s / p abdominal operation in ruq.']\n",
                        "\n"
                    ]
                },
                {
                    "name": "stderr",
                    "output_type": "stream",
                    "text": [
                        "Evaluating: :  60%|██████    | 6/10 [00:13<00:08,  2.20s/it]"
                    ]
                },
                {
                    "name": "stdout",
                    "output_type": "stream",
                    "text": [
                        "Names      : ['NLP_CHEST_031']\n",
                        "Predictions: ['chest plain film shows : impression : - increased infiltrations in both lungs. - atherosclerotic aorta. - normal heart size. - scoliosis, djd and osteoporosis of spine.']\n",
                        "Labels     : ['chest pa view : impression : - increased both lung markings. - compatible with right lung nodules. - fibrotic lesion in left upper lung. - normal heart size. atherosclerotic aorta. - suspect right pleural effusion. - spondylosis. r / o osteoporosis. - compatible with multiple bony metastases. - s / p ng and endotracheal tube. - s / p lt subclavian port - a - cath.']\n",
                        "\n"
                    ]
                },
                {
                    "name": "stderr",
                    "output_type": "stream",
                    "text": [
                        "Evaluating: :  70%|███████   | 7/10 [00:15<00:06,  2.20s/it]"
                    ]
                },
                {
                    "name": "stdout",
                    "output_type": "stream",
                    "text": [
                        "Names      : ['NLP_CHEST_057']\n",
                        "Predictions: ['chest plain film shows : impression : - increased infiltrations in both lungs. - atherosclerotic aorta. - normal heart size. - scoliosis, djd and osteoporosis of spine.']\n",
                        "Labels     : ['chest plain film shows : impression : - increased infiltrations in both lungs. - tortuous atherosclerotic dilated aorta. - normal heart size. - djd of spine. old fracture of right ribs. - increased both lung markings. s / p lt jugular cvc insertion. s / p ng and endotracheal tube. - susp. lt pneumothorax. suspect pneumomediastinum. subcutaneous emphysema in bilateral neck. - s / p bilateral chest tube insertion.']\n",
                        "\n"
                    ]
                },
                {
                    "name": "stderr",
                    "output_type": "stream",
                    "text": [
                        "Evaluating: :  80%|████████  | 8/10 [00:17<00:04,  2.18s/it]"
                    ]
                },
                {
                    "name": "stdout",
                    "output_type": "stream",
                    "text": [
                        "Names      : ['NLP_CHEST_059']\n",
                        "Predictions: ['chest plain film shows : impression : - increased infiltrations in both lungs. - blunting bilateral cp angles. elevated right hemidiaphragm. - tortuous atherosclerotic dilated aorta. - cardiomegaly. - djd of spine. s / p left pleural pigtail tube. subcutaneous emphysema in left chest wall.']\n",
                        "Labels     : ['supine chest ap view shows : pigtail catheter at right lower chest. decreased amount of right pleural effusion. air in the right lower pleural space. poor lung expansion. mild subcutaneous emphysema at right chest wall. right pleural thickening. ill - defined masses at right perihilar region. normal heart size.']\n",
                        "\n"
                    ]
                },
                {
                    "name": "stderr",
                    "output_type": "stream",
                    "text": [
                        "Evaluating: :  90%|█████████ | 9/10 [00:19<00:02,  2.17s/it]"
                    ]
                },
                {
                    "name": "stdout",
                    "output_type": "stream",
                    "text": [
                        "Names      : ['NLP_CHEST_071']\n",
                        "Predictions: ['chest plain film shows : impression : - increased infiltrations in both lungs. - atherosclerotic aorta. - normal heart size. - scoliosis, djd and osteoporosis of spine.']\n",
                        "Labels     : ['chest film shows : impression : - bilateral lung infiltrations. - suspect right lower lung patch. blunting right cp angle. - tortuous atherosclerotic aorta. - scoliosis, djd and osteoporosis of spine. compression fracture of t12. old fracture of left ribs. - s / p fixation in l - spine. - s / p tracheostomy and ng tube.']\n",
                        "\n"
                    ]
                },
                {
                    "name": "stderr",
                    "output_type": "stream",
                    "text": [
                        "Evaluating: : 100%|██████████| 10/10 [00:21<00:00,  2.19s/it]\n"
                    ]
                },
                {
                    "name": "stdout",
                    "output_type": "stream",
                    "text": [
                        "Names      : ['NLP_CHEST_085']\n",
                        "Predictions: ['chest plain film shows : impression : - increased infiltrations in both lungs. - blunting bilateral cp angles. elevated right hemidiaphragm. - tortuous atherosclerotic dilated aorta. - cardiomegaly. - djd of spine. s / p left pleural pigtail tube. subcutaneous emphysema in left chest wall.']\n",
                        "Labels     : ['chest x ray : - right pneumothorax with pleural effusion, status post drainge tube placement. - extensive subcutaneous emphysema from neck to right side thoracic cage. - increased right hilar opacity. - atherosclerosis and tortuous aorta. - obscured bilateral costophrenic angles. - spondylosis and mild scoliosis of thoracolumbar spine. - oa of right glenohumeral joint. - generalized osteopenia.']\n",
                        "\n",
                        "Rouge-2 score : {'Rouge-L-P': 0.22440886237318847, 'Rouge-L-R': 0.18384428475320405, 'Rouge-L-F': 0.18384428475320405, 'Rouge-2-P': 0.13555003635402543, 'Rouge-2-R': 0.10452738606444163, 'Rouge-2-F': 0.10452738606444163}\n"
                    ]
                },
                {
                    "name": "stderr",
                    "output_type": "stream",
                    "text": [
                        "Training Epoch [24 / 50]: 100%|██████████| 89/89 [00:14<00:00,  6.15it/s, loss=0.0431]\n",
                        "Evaluating: :  10%|█         | 1/10 [00:02<00:22,  2.55s/it]"
                    ]
                },
                {
                    "name": "stdout",
                    "output_type": "stream",
                    "text": [
                        "Names      : ['NLP_CHEST_002']\n",
                        "Predictions: ['chest plain film shows : impression : - increased infiltrates in both lungs. - blunting bilateral cp angles. - cardiomegaly. - atherosclerosis of aorta. - scoliosis and djd of spine. - bilateral apical pleural thickening.']\n",
                        "Labels     : ['chest pa view shows : partial atelectasis at left lower lung field. left pleural effusion. borderline heart size. atherosclerotic change of aortic knob. s / p port - a implantation via left subclavian vein. intraperitoneal port catheter. surgical clips at ruq of abdomen.']\n",
                        "\n"
                    ]
                },
                {
                    "name": "stderr",
                    "output_type": "stream",
                    "text": [
                        "Evaluating: :  20%|██        | 2/10 [00:04<00:18,  2.30s/it]"
                    ]
                },
                {
                    "name": "stdout",
                    "output_type": "stream",
                    "text": [
                        "Names      : ['NLP_CHEST_004']\n",
                        "Predictions: ['chest plain film shows : impression : - increased infiltrations in both lungs. - atherosclerosis of aorta. - normal heart size. - scoliosis, djd and osteoporosis of spine.']\n",
                        "Labels     : ['chest pa view show : impression : - s / p rll wedge resection. - bilateral lungs metastasis. - left lower lung subsegmental atelectasis. - increased infiltrations in both lungs. - blunting right cp angle. - tortuous atherosclerotic aorta. - scoliosis, djd and osteoporosis of spine. - compression fracture of l1.']\n",
                        "\n"
                    ]
                },
                {
                    "name": "stderr",
                    "output_type": "stream",
                    "text": [
                        "Evaluating: :  30%|███       | 3/10 [00:07<00:16,  2.35s/it]"
                    ]
                },
                {
                    "name": "stdout",
                    "output_type": "stream",
                    "text": [
                        "Names      : ['NLP_CHEST_011']\n",
                        "Predictions: ['chest plain film shows : impression : - increased infiltrations in both lungs. - atherosclerosis of aorta. - normal heart size. - scoliosis, djd and osteoporosis of spine.']\n",
                        "Labels     : [\"chest ap view showed : 1. s / p sternotomy and cabg. enlarged heart size with tortuous aorta. 2. r't middle and lower lung faint patches. l't lower lung consolidation. l't pleural effusion. 3. no mediastinum widening. 4. s / p endotracheal tube and ng intubation.\"]\n",
                        "\n"
                    ]
                },
                {
                    "name": "stderr",
                    "output_type": "stream",
                    "text": [
                        "Evaluating: :  40%|████      | 4/10 [00:09<00:14,  2.43s/it]"
                    ]
                },
                {
                    "name": "stdout",
                    "output_type": "stream",
                    "text": [
                        "Names      : ['NLP_CHEST_015']\n",
                        "Predictions: ['']\n",
                        "Labels     : ['chest x ray : - no obvious lung mass nor consolidation patch. - normal heart size. - no pleural effusion.']\n",
                        "\n"
                    ]
                },
                {
                    "name": "stderr",
                    "output_type": "stream",
                    "text": [
                        "Evaluating: :  50%|█████     | 5/10 [00:12<00:12,  2.45s/it]"
                    ]
                },
                {
                    "name": "stdout",
                    "output_type": "stream",
                    "text": [
                        "Names      : ['NLP_CHEST_027']\n",
                        "Predictions: ['chest plain film shows : impression : - increased infiltrations in both lungs. - atherosclerosis of aorta. - normal heart size. - scoliosis, djd and osteoporosis of spine.']\n",
                        "Labels     : ['chest pa view : impression : > cardiomegaly with bilateral pulmonary congestion. > postinflammatory fibrosis in both upper lungs. > atherosclerosis of aorta. > old fractures of left 5th and 6th ribs. > r / o osteoporosis. > spondylosis of thoracolumbar spine. > s / p abdominal operation in ruq.']\n",
                        "\n"
                    ]
                },
                {
                    "name": "stderr",
                    "output_type": "stream",
                    "text": [
                        "Evaluating: :  50%|█████     | 5/10 [00:13<00:13,  2.77s/it]\n"
                    ]
                },
                {
                    "ename": "KeyboardInterrupt",
                    "evalue": "",
                    "output_type": "error",
                    "traceback": [
                        "\u001b[1;31m---------------------------------------------------------------------------\u001b[0m",
                        "\u001b[1;31mKeyboardInterrupt\u001b[0m                         Traceback (most recent call last)",
                        "Cell \u001b[1;32mIn[12], line 38\u001b[0m\n\u001b[0;32m     35\u001b[0m     min_loss \u001b[38;5;241m=\u001b[39m average_loss\n\u001b[0;32m     36\u001b[0m     torch\u001b[38;5;241m.\u001b[39msave(model\u001b[38;5;241m.\u001b[39mstate_dict(), \u001b[38;5;124mf\u001b[39m\u001b[38;5;124m\"\u001b[39m\u001b[38;5;124moutputs_original/best_checkpoint.pt\u001b[39m\u001b[38;5;124m\"\u001b[39m)\n\u001b[1;32m---> 38\u001b[0m \u001b[38;5;28mprint\u001b[39m(\u001b[38;5;124mf\u001b[39m\u001b[38;5;124m\"\u001b[39m\u001b[38;5;124mRouge-2 score :\u001b[39m\u001b[38;5;124m\"\u001b[39m, \u001b[38;5;28;43meval\u001b[39;49m\u001b[43m(\u001b[49m\u001b[43mmodel\u001b[49m\u001b[38;5;241;43m=\u001b[39;49m\u001b[43mmodel\u001b[49m\u001b[43m)\u001b[49m)\n",
                        "Cell \u001b[1;32mIn[10], line 47\u001b[0m, in \u001b[0;36meval\u001b[1;34m(model)\u001b[0m\n\u001b[0;32m     44\u001b[0m pixel_values \u001b[38;5;241m=\u001b[39m batch[\u001b[38;5;124m\"\u001b[39m\u001b[38;5;124mpixel_values\u001b[39m\u001b[38;5;124m\"\u001b[39m]\n\u001b[0;32m     45\u001b[0m label_ids \u001b[38;5;241m=\u001b[39m batch[\u001b[38;5;124m\"\u001b[39m\u001b[38;5;124mlabel_ids\u001b[39m\u001b[38;5;124m\"\u001b[39m]\n\u001b[1;32m---> 47\u001b[0m predictions \u001b[38;5;241m=\u001b[39m \u001b[43mmodel\u001b[49m\u001b[38;5;241;43m.\u001b[39;49m\u001b[43mgenerate\u001b[49m\u001b[43m(\u001b[49m\n\u001b[0;32m     48\u001b[0m \u001b[43m    \u001b[49m\u001b[43mpixel_values\u001b[49m\u001b[43m,\u001b[49m\u001b[43m \u001b[49m\n\u001b[0;32m     49\u001b[0m \u001b[43m    \u001b[49m\u001b[43mdecoder_start_token_id\u001b[49m\u001b[38;5;241;43m=\u001b[39;49m\u001b[43mmodel\u001b[49m\u001b[38;5;241;43m.\u001b[39;49m\u001b[43mconfig\u001b[49m\u001b[38;5;241;43m.\u001b[39;49m\u001b[43mdecoder_start_token_id\u001b[49m\u001b[43m,\u001b[49m\n\u001b[0;32m     50\u001b[0m \u001b[43m    \u001b[49m\u001b[43mmax_length\u001b[49m\u001b[38;5;241;43m=\u001b[39;49m\u001b[38;5;241;43m256\u001b[39;49m\u001b[43m,\u001b[49m\n\u001b[0;32m     51\u001b[0m \u001b[43m    \u001b[49m\u001b[38;5;66;43;03m#num_beams=4,     \u001b[39;49;00m\n\u001b[0;32m     52\u001b[0m \u001b[43m    \u001b[49m\u001b[38;5;66;43;03m#early_stopping=True\u001b[39;49;00m\n\u001b[0;32m     53\u001b[0m \u001b[43m\u001b[49m\u001b[43m)\u001b[49m\n\u001b[0;32m     55\u001b[0m _predictions \u001b[38;5;241m=\u001b[39m tokenizer\u001b[38;5;241m.\u001b[39mbatch_decode(predictions, skip_special_tokens\u001b[38;5;241m=\u001b[39m\u001b[38;5;28;01mTrue\u001b[39;00m)\n\u001b[0;32m     56\u001b[0m _labels \u001b[38;5;241m=\u001b[39m tokenizer\u001b[38;5;241m.\u001b[39mbatch_decode(label_ids, skip_special_tokens\u001b[38;5;241m=\u001b[39m\u001b[38;5;28;01mTrue\u001b[39;00m)\n",
                        "File \u001b[1;32mc:\\Users\\kartg\\anaconda3\\envs\\myenv\\lib\\site-packages\\torch\\utils\\_contextlib.py:115\u001b[0m, in \u001b[0;36mcontext_decorator.<locals>.decorate_context\u001b[1;34m(*args, **kwargs)\u001b[0m\n\u001b[0;32m    112\u001b[0m \u001b[38;5;129m@functools\u001b[39m\u001b[38;5;241m.\u001b[39mwraps(func)\n\u001b[0;32m    113\u001b[0m \u001b[38;5;28;01mdef\u001b[39;00m \u001b[38;5;21mdecorate_context\u001b[39m(\u001b[38;5;241m*\u001b[39margs, \u001b[38;5;241m*\u001b[39m\u001b[38;5;241m*\u001b[39mkwargs):\n\u001b[0;32m    114\u001b[0m     \u001b[38;5;28;01mwith\u001b[39;00m ctx_factory():\n\u001b[1;32m--> 115\u001b[0m         \u001b[38;5;28;01mreturn\u001b[39;00m \u001b[43mfunc\u001b[49m\u001b[43m(\u001b[49m\u001b[38;5;241;43m*\u001b[39;49m\u001b[43margs\u001b[49m\u001b[43m,\u001b[49m\u001b[43m \u001b[49m\u001b[38;5;241;43m*\u001b[39;49m\u001b[38;5;241;43m*\u001b[39;49m\u001b[43mkwargs\u001b[49m\u001b[43m)\u001b[49m\n",
                        "File \u001b[1;32mc:\\Users\\kartg\\anaconda3\\envs\\myenv\\lib\\site-packages\\transformers\\generation\\utils.py:1758\u001b[0m, in \u001b[0;36mGenerationMixin.generate\u001b[1;34m(self, inputs, generation_config, logits_processor, stopping_criteria, prefix_allowed_tokens_fn, synced_gpus, assistant_model, streamer, negative_prompt_ids, negative_prompt_attention_mask, **kwargs)\u001b[0m\n\u001b[0;32m   1750\u001b[0m     input_ids, model_kwargs \u001b[38;5;241m=\u001b[39m \u001b[38;5;28mself\u001b[39m\u001b[38;5;241m.\u001b[39m_expand_inputs_for_generation(\n\u001b[0;32m   1751\u001b[0m         input_ids\u001b[38;5;241m=\u001b[39minput_ids,\n\u001b[0;32m   1752\u001b[0m         expand_size\u001b[38;5;241m=\u001b[39mgeneration_config\u001b[38;5;241m.\u001b[39mnum_return_sequences,\n\u001b[0;32m   1753\u001b[0m         is_encoder_decoder\u001b[38;5;241m=\u001b[39m\u001b[38;5;28mself\u001b[39m\u001b[38;5;241m.\u001b[39mconfig\u001b[38;5;241m.\u001b[39mis_encoder_decoder,\n\u001b[0;32m   1754\u001b[0m         \u001b[38;5;241m*\u001b[39m\u001b[38;5;241m*\u001b[39mmodel_kwargs,\n\u001b[0;32m   1755\u001b[0m     )\n\u001b[0;32m   1757\u001b[0m     \u001b[38;5;66;03m# 13. run sample (it degenerates to greedy search when `generation_config.do_sample=False`)\u001b[39;00m\n\u001b[1;32m-> 1758\u001b[0m     result \u001b[38;5;241m=\u001b[39m \u001b[38;5;28;43mself\u001b[39;49m\u001b[38;5;241;43m.\u001b[39;49m\u001b[43m_sample\u001b[49m\u001b[43m(\u001b[49m\n\u001b[0;32m   1759\u001b[0m \u001b[43m        \u001b[49m\u001b[43minput_ids\u001b[49m\u001b[43m,\u001b[49m\n\u001b[0;32m   1760\u001b[0m \u001b[43m        \u001b[49m\u001b[43mlogits_processor\u001b[49m\u001b[38;5;241;43m=\u001b[39;49m\u001b[43mprepared_logits_processor\u001b[49m\u001b[43m,\u001b[49m\n\u001b[0;32m   1761\u001b[0m \u001b[43m        \u001b[49m\u001b[43mlogits_warper\u001b[49m\u001b[38;5;241;43m=\u001b[39;49m\u001b[43mprepared_logits_warper\u001b[49m\u001b[43m,\u001b[49m\n\u001b[0;32m   1762\u001b[0m \u001b[43m        \u001b[49m\u001b[43mstopping_criteria\u001b[49m\u001b[38;5;241;43m=\u001b[39;49m\u001b[43mprepared_stopping_criteria\u001b[49m\u001b[43m,\u001b[49m\n\u001b[0;32m   1763\u001b[0m \u001b[43m        \u001b[49m\u001b[43mgeneration_config\u001b[49m\u001b[38;5;241;43m=\u001b[39;49m\u001b[43mgeneration_config\u001b[49m\u001b[43m,\u001b[49m\n\u001b[0;32m   1764\u001b[0m \u001b[43m        \u001b[49m\u001b[43msynced_gpus\u001b[49m\u001b[38;5;241;43m=\u001b[39;49m\u001b[43msynced_gpus\u001b[49m\u001b[43m,\u001b[49m\n\u001b[0;32m   1765\u001b[0m \u001b[43m        \u001b[49m\u001b[43mstreamer\u001b[49m\u001b[38;5;241;43m=\u001b[39;49m\u001b[43mstreamer\u001b[49m\u001b[43m,\u001b[49m\n\u001b[0;32m   1766\u001b[0m \u001b[43m        \u001b[49m\u001b[38;5;241;43m*\u001b[39;49m\u001b[38;5;241;43m*\u001b[39;49m\u001b[43mmodel_kwargs\u001b[49m\u001b[43m,\u001b[49m\n\u001b[0;32m   1767\u001b[0m \u001b[43m    \u001b[49m\u001b[43m)\u001b[49m\n\u001b[0;32m   1769\u001b[0m \u001b[38;5;28;01melif\u001b[39;00m generation_mode \u001b[38;5;129;01min\u001b[39;00m (GenerationMode\u001b[38;5;241m.\u001b[39mBEAM_SAMPLE, GenerationMode\u001b[38;5;241m.\u001b[39mBEAM_SEARCH):\n\u001b[0;32m   1770\u001b[0m     \u001b[38;5;66;03m# 11. prepare logits warper\u001b[39;00m\n\u001b[0;32m   1771\u001b[0m     prepared_logits_warper \u001b[38;5;241m=\u001b[39m (\n\u001b[0;32m   1772\u001b[0m         \u001b[38;5;28mself\u001b[39m\u001b[38;5;241m.\u001b[39m_get_logits_warper(generation_config) \u001b[38;5;28;01mif\u001b[39;00m generation_config\u001b[38;5;241m.\u001b[39mdo_sample \u001b[38;5;28;01melse\u001b[39;00m \u001b[38;5;28;01mNone\u001b[39;00m\n\u001b[0;32m   1773\u001b[0m     )\n",
                        "File \u001b[1;32mc:\\Users\\kartg\\anaconda3\\envs\\myenv\\lib\\site-packages\\transformers\\generation\\utils.py:2397\u001b[0m, in \u001b[0;36mGenerationMixin._sample\u001b[1;34m(self, input_ids, logits_processor, stopping_criteria, generation_config, synced_gpus, streamer, logits_warper, **model_kwargs)\u001b[0m\n\u001b[0;32m   2394\u001b[0m model_inputs \u001b[38;5;241m=\u001b[39m \u001b[38;5;28mself\u001b[39m\u001b[38;5;241m.\u001b[39mprepare_inputs_for_generation(input_ids, \u001b[38;5;241m*\u001b[39m\u001b[38;5;241m*\u001b[39mmodel_kwargs)\n\u001b[0;32m   2396\u001b[0m \u001b[38;5;66;03m# forward pass to get next token\u001b[39;00m\n\u001b[1;32m-> 2397\u001b[0m outputs \u001b[38;5;241m=\u001b[39m \u001b[38;5;28;43mself\u001b[39;49m\u001b[43m(\u001b[49m\n\u001b[0;32m   2398\u001b[0m \u001b[43m    \u001b[49m\u001b[38;5;241;43m*\u001b[39;49m\u001b[38;5;241;43m*\u001b[39;49m\u001b[43mmodel_inputs\u001b[49m\u001b[43m,\u001b[49m\n\u001b[0;32m   2399\u001b[0m \u001b[43m    \u001b[49m\u001b[43mreturn_dict\u001b[49m\u001b[38;5;241;43m=\u001b[39;49m\u001b[38;5;28;43;01mTrue\u001b[39;49;00m\u001b[43m,\u001b[49m\n\u001b[0;32m   2400\u001b[0m \u001b[43m    \u001b[49m\u001b[43moutput_attentions\u001b[49m\u001b[38;5;241;43m=\u001b[39;49m\u001b[43moutput_attentions\u001b[49m\u001b[43m,\u001b[49m\n\u001b[0;32m   2401\u001b[0m \u001b[43m    \u001b[49m\u001b[43moutput_hidden_states\u001b[49m\u001b[38;5;241;43m=\u001b[39;49m\u001b[43moutput_hidden_states\u001b[49m\u001b[43m,\u001b[49m\n\u001b[0;32m   2402\u001b[0m \u001b[43m\u001b[49m\u001b[43m)\u001b[49m\n\u001b[0;32m   2404\u001b[0m \u001b[38;5;28;01mif\u001b[39;00m synced_gpus \u001b[38;5;129;01mand\u001b[39;00m this_peer_finished:\n\u001b[0;32m   2405\u001b[0m     \u001b[38;5;28;01mcontinue\u001b[39;00m  \u001b[38;5;66;03m# don't waste resources running the code we don't need\u001b[39;00m\n",
                        "File \u001b[1;32mc:\\Users\\kartg\\anaconda3\\envs\\myenv\\lib\\site-packages\\torch\\nn\\modules\\module.py:1532\u001b[0m, in \u001b[0;36mModule._wrapped_call_impl\u001b[1;34m(self, *args, **kwargs)\u001b[0m\n\u001b[0;32m   1530\u001b[0m     \u001b[38;5;28;01mreturn\u001b[39;00m \u001b[38;5;28mself\u001b[39m\u001b[38;5;241m.\u001b[39m_compiled_call_impl(\u001b[38;5;241m*\u001b[39margs, \u001b[38;5;241m*\u001b[39m\u001b[38;5;241m*\u001b[39mkwargs)  \u001b[38;5;66;03m# type: ignore[misc]\u001b[39;00m\n\u001b[0;32m   1531\u001b[0m \u001b[38;5;28;01melse\u001b[39;00m:\n\u001b[1;32m-> 1532\u001b[0m     \u001b[38;5;28;01mreturn\u001b[39;00m \u001b[38;5;28;43mself\u001b[39;49m\u001b[38;5;241;43m.\u001b[39;49m\u001b[43m_call_impl\u001b[49m\u001b[43m(\u001b[49m\u001b[38;5;241;43m*\u001b[39;49m\u001b[43margs\u001b[49m\u001b[43m,\u001b[49m\u001b[43m \u001b[49m\u001b[38;5;241;43m*\u001b[39;49m\u001b[38;5;241;43m*\u001b[39;49m\u001b[43mkwargs\u001b[49m\u001b[43m)\u001b[49m\n",
                        "File \u001b[1;32mc:\\Users\\kartg\\anaconda3\\envs\\myenv\\lib\\site-packages\\torch\\nn\\modules\\module.py:1541\u001b[0m, in \u001b[0;36mModule._call_impl\u001b[1;34m(self, *args, **kwargs)\u001b[0m\n\u001b[0;32m   1536\u001b[0m \u001b[38;5;66;03m# If we don't have any hooks, we want to skip the rest of the logic in\u001b[39;00m\n\u001b[0;32m   1537\u001b[0m \u001b[38;5;66;03m# this function, and just call forward.\u001b[39;00m\n\u001b[0;32m   1538\u001b[0m \u001b[38;5;28;01mif\u001b[39;00m \u001b[38;5;129;01mnot\u001b[39;00m (\u001b[38;5;28mself\u001b[39m\u001b[38;5;241m.\u001b[39m_backward_hooks \u001b[38;5;129;01mor\u001b[39;00m \u001b[38;5;28mself\u001b[39m\u001b[38;5;241m.\u001b[39m_backward_pre_hooks \u001b[38;5;129;01mor\u001b[39;00m \u001b[38;5;28mself\u001b[39m\u001b[38;5;241m.\u001b[39m_forward_hooks \u001b[38;5;129;01mor\u001b[39;00m \u001b[38;5;28mself\u001b[39m\u001b[38;5;241m.\u001b[39m_forward_pre_hooks\n\u001b[0;32m   1539\u001b[0m         \u001b[38;5;129;01mor\u001b[39;00m _global_backward_pre_hooks \u001b[38;5;129;01mor\u001b[39;00m _global_backward_hooks\n\u001b[0;32m   1540\u001b[0m         \u001b[38;5;129;01mor\u001b[39;00m _global_forward_hooks \u001b[38;5;129;01mor\u001b[39;00m _global_forward_pre_hooks):\n\u001b[1;32m-> 1541\u001b[0m     \u001b[38;5;28;01mreturn\u001b[39;00m \u001b[43mforward_call\u001b[49m\u001b[43m(\u001b[49m\u001b[38;5;241;43m*\u001b[39;49m\u001b[43margs\u001b[49m\u001b[43m,\u001b[49m\u001b[43m \u001b[49m\u001b[38;5;241;43m*\u001b[39;49m\u001b[38;5;241;43m*\u001b[39;49m\u001b[43mkwargs\u001b[49m\u001b[43m)\u001b[49m\n\u001b[0;32m   1543\u001b[0m \u001b[38;5;28;01mtry\u001b[39;00m:\n\u001b[0;32m   1544\u001b[0m     result \u001b[38;5;241m=\u001b[39m \u001b[38;5;28;01mNone\u001b[39;00m\n",
                        "File \u001b[1;32mc:\\Users\\kartg\\anaconda3\\envs\\myenv\\lib\\site-packages\\transformers\\models\\vision_encoder_decoder\\modeling_vision_encoder_decoder.py:615\u001b[0m, in \u001b[0;36mVisionEncoderDecoderModel.forward\u001b[1;34m(self, pixel_values, decoder_input_ids, decoder_attention_mask, encoder_outputs, past_key_values, decoder_inputs_embeds, labels, use_cache, output_attentions, output_hidden_states, return_dict, **kwargs)\u001b[0m\n\u001b[0;32m    610\u001b[0m     decoder_input_ids \u001b[38;5;241m=\u001b[39m shift_tokens_right(\n\u001b[0;32m    611\u001b[0m         labels, \u001b[38;5;28mself\u001b[39m\u001b[38;5;241m.\u001b[39mconfig\u001b[38;5;241m.\u001b[39mpad_token_id, \u001b[38;5;28mself\u001b[39m\u001b[38;5;241m.\u001b[39mconfig\u001b[38;5;241m.\u001b[39mdecoder_start_token_id\n\u001b[0;32m    612\u001b[0m     )\n\u001b[0;32m    614\u001b[0m \u001b[38;5;66;03m# Decode\u001b[39;00m\n\u001b[1;32m--> 615\u001b[0m decoder_outputs \u001b[38;5;241m=\u001b[39m \u001b[38;5;28;43mself\u001b[39;49m\u001b[38;5;241;43m.\u001b[39;49m\u001b[43mdecoder\u001b[49m\u001b[43m(\u001b[49m\n\u001b[0;32m    616\u001b[0m \u001b[43m    \u001b[49m\u001b[43minput_ids\u001b[49m\u001b[38;5;241;43m=\u001b[39;49m\u001b[43mdecoder_input_ids\u001b[49m\u001b[43m,\u001b[49m\n\u001b[0;32m    617\u001b[0m \u001b[43m    \u001b[49m\u001b[43mattention_mask\u001b[49m\u001b[38;5;241;43m=\u001b[39;49m\u001b[43mdecoder_attention_mask\u001b[49m\u001b[43m,\u001b[49m\n\u001b[0;32m    618\u001b[0m \u001b[43m    \u001b[49m\u001b[43mencoder_hidden_states\u001b[49m\u001b[38;5;241;43m=\u001b[39;49m\u001b[43mencoder_hidden_states\u001b[49m\u001b[43m,\u001b[49m\n\u001b[0;32m    619\u001b[0m \u001b[43m    \u001b[49m\u001b[43mencoder_attention_mask\u001b[49m\u001b[38;5;241;43m=\u001b[39;49m\u001b[43mencoder_attention_mask\u001b[49m\u001b[43m,\u001b[49m\n\u001b[0;32m    620\u001b[0m \u001b[43m    \u001b[49m\u001b[43minputs_embeds\u001b[49m\u001b[38;5;241;43m=\u001b[39;49m\u001b[43mdecoder_inputs_embeds\u001b[49m\u001b[43m,\u001b[49m\n\u001b[0;32m    621\u001b[0m \u001b[43m    \u001b[49m\u001b[43moutput_attentions\u001b[49m\u001b[38;5;241;43m=\u001b[39;49m\u001b[43moutput_attentions\u001b[49m\u001b[43m,\u001b[49m\n\u001b[0;32m    622\u001b[0m \u001b[43m    \u001b[49m\u001b[43moutput_hidden_states\u001b[49m\u001b[38;5;241;43m=\u001b[39;49m\u001b[43moutput_hidden_states\u001b[49m\u001b[43m,\u001b[49m\n\u001b[0;32m    623\u001b[0m \u001b[43m    \u001b[49m\u001b[43muse_cache\u001b[49m\u001b[38;5;241;43m=\u001b[39;49m\u001b[43muse_cache\u001b[49m\u001b[43m,\u001b[49m\n\u001b[0;32m    624\u001b[0m \u001b[43m    \u001b[49m\u001b[43mpast_key_values\u001b[49m\u001b[38;5;241;43m=\u001b[39;49m\u001b[43mpast_key_values\u001b[49m\u001b[43m,\u001b[49m\n\u001b[0;32m    625\u001b[0m \u001b[43m    \u001b[49m\u001b[43mreturn_dict\u001b[49m\u001b[38;5;241;43m=\u001b[39;49m\u001b[43mreturn_dict\u001b[49m\u001b[43m,\u001b[49m\n\u001b[0;32m    626\u001b[0m \u001b[43m    \u001b[49m\u001b[38;5;241;43m*\u001b[39;49m\u001b[38;5;241;43m*\u001b[39;49m\u001b[43mkwargs_decoder\u001b[49m\u001b[43m,\u001b[49m\n\u001b[0;32m    627\u001b[0m \u001b[43m\u001b[49m\u001b[43m)\u001b[49m\n\u001b[0;32m    629\u001b[0m \u001b[38;5;66;03m# Compute loss independent from decoder (as some shift the logits inside them)\u001b[39;00m\n\u001b[0;32m    630\u001b[0m loss \u001b[38;5;241m=\u001b[39m \u001b[38;5;28;01mNone\u001b[39;00m\n",
                        "File \u001b[1;32mc:\\Users\\kartg\\anaconda3\\envs\\myenv\\lib\\site-packages\\torch\\nn\\modules\\module.py:1532\u001b[0m, in \u001b[0;36mModule._wrapped_call_impl\u001b[1;34m(self, *args, **kwargs)\u001b[0m\n\u001b[0;32m   1530\u001b[0m     \u001b[38;5;28;01mreturn\u001b[39;00m \u001b[38;5;28mself\u001b[39m\u001b[38;5;241m.\u001b[39m_compiled_call_impl(\u001b[38;5;241m*\u001b[39margs, \u001b[38;5;241m*\u001b[39m\u001b[38;5;241m*\u001b[39mkwargs)  \u001b[38;5;66;03m# type: ignore[misc]\u001b[39;00m\n\u001b[0;32m   1531\u001b[0m \u001b[38;5;28;01melse\u001b[39;00m:\n\u001b[1;32m-> 1532\u001b[0m     \u001b[38;5;28;01mreturn\u001b[39;00m \u001b[38;5;28;43mself\u001b[39;49m\u001b[38;5;241;43m.\u001b[39;49m\u001b[43m_call_impl\u001b[49m\u001b[43m(\u001b[49m\u001b[38;5;241;43m*\u001b[39;49m\u001b[43margs\u001b[49m\u001b[43m,\u001b[49m\u001b[43m \u001b[49m\u001b[38;5;241;43m*\u001b[39;49m\u001b[38;5;241;43m*\u001b[39;49m\u001b[43mkwargs\u001b[49m\u001b[43m)\u001b[49m\n",
                        "File \u001b[1;32mc:\\Users\\kartg\\anaconda3\\envs\\myenv\\lib\\site-packages\\torch\\nn\\modules\\module.py:1541\u001b[0m, in \u001b[0;36mModule._call_impl\u001b[1;34m(self, *args, **kwargs)\u001b[0m\n\u001b[0;32m   1536\u001b[0m \u001b[38;5;66;03m# If we don't have any hooks, we want to skip the rest of the logic in\u001b[39;00m\n\u001b[0;32m   1537\u001b[0m \u001b[38;5;66;03m# this function, and just call forward.\u001b[39;00m\n\u001b[0;32m   1538\u001b[0m \u001b[38;5;28;01mif\u001b[39;00m \u001b[38;5;129;01mnot\u001b[39;00m (\u001b[38;5;28mself\u001b[39m\u001b[38;5;241m.\u001b[39m_backward_hooks \u001b[38;5;129;01mor\u001b[39;00m \u001b[38;5;28mself\u001b[39m\u001b[38;5;241m.\u001b[39m_backward_pre_hooks \u001b[38;5;129;01mor\u001b[39;00m \u001b[38;5;28mself\u001b[39m\u001b[38;5;241m.\u001b[39m_forward_hooks \u001b[38;5;129;01mor\u001b[39;00m \u001b[38;5;28mself\u001b[39m\u001b[38;5;241m.\u001b[39m_forward_pre_hooks\n\u001b[0;32m   1539\u001b[0m         \u001b[38;5;129;01mor\u001b[39;00m _global_backward_pre_hooks \u001b[38;5;129;01mor\u001b[39;00m _global_backward_hooks\n\u001b[0;32m   1540\u001b[0m         \u001b[38;5;129;01mor\u001b[39;00m _global_forward_hooks \u001b[38;5;129;01mor\u001b[39;00m _global_forward_pre_hooks):\n\u001b[1;32m-> 1541\u001b[0m     \u001b[38;5;28;01mreturn\u001b[39;00m \u001b[43mforward_call\u001b[49m\u001b[43m(\u001b[49m\u001b[38;5;241;43m*\u001b[39;49m\u001b[43margs\u001b[49m\u001b[43m,\u001b[49m\u001b[43m \u001b[49m\u001b[38;5;241;43m*\u001b[39;49m\u001b[38;5;241;43m*\u001b[39;49m\u001b[43mkwargs\u001b[49m\u001b[43m)\u001b[49m\n\u001b[0;32m   1543\u001b[0m \u001b[38;5;28;01mtry\u001b[39;00m:\n\u001b[0;32m   1544\u001b[0m     result \u001b[38;5;241m=\u001b[39m \u001b[38;5;28;01mNone\u001b[39;00m\n",
                        "File \u001b[1;32mc:\\Users\\kartg\\anaconda3\\envs\\myenv\\lib\\site-packages\\transformers\\models\\bert\\modeling_bert.py:1352\u001b[0m, in \u001b[0;36mBertLMHeadModel.forward\u001b[1;34m(self, input_ids, attention_mask, token_type_ids, position_ids, head_mask, inputs_embeds, encoder_hidden_states, encoder_attention_mask, labels, past_key_values, use_cache, output_attentions, output_hidden_states, return_dict)\u001b[0m\n\u001b[0;32m   1349\u001b[0m \u001b[38;5;28;01mif\u001b[39;00m labels \u001b[38;5;129;01mis\u001b[39;00m \u001b[38;5;129;01mnot\u001b[39;00m \u001b[38;5;28;01mNone\u001b[39;00m:\n\u001b[0;32m   1350\u001b[0m     use_cache \u001b[38;5;241m=\u001b[39m \u001b[38;5;28;01mFalse\u001b[39;00m\n\u001b[1;32m-> 1352\u001b[0m outputs \u001b[38;5;241m=\u001b[39m \u001b[38;5;28;43mself\u001b[39;49m\u001b[38;5;241;43m.\u001b[39;49m\u001b[43mbert\u001b[49m\u001b[43m(\u001b[49m\n\u001b[0;32m   1353\u001b[0m \u001b[43m    \u001b[49m\u001b[43minput_ids\u001b[49m\u001b[43m,\u001b[49m\n\u001b[0;32m   1354\u001b[0m \u001b[43m    \u001b[49m\u001b[43mattention_mask\u001b[49m\u001b[38;5;241;43m=\u001b[39;49m\u001b[43mattention_mask\u001b[49m\u001b[43m,\u001b[49m\n\u001b[0;32m   1355\u001b[0m \u001b[43m    \u001b[49m\u001b[43mtoken_type_ids\u001b[49m\u001b[38;5;241;43m=\u001b[39;49m\u001b[43mtoken_type_ids\u001b[49m\u001b[43m,\u001b[49m\n\u001b[0;32m   1356\u001b[0m \u001b[43m    \u001b[49m\u001b[43mposition_ids\u001b[49m\u001b[38;5;241;43m=\u001b[39;49m\u001b[43mposition_ids\u001b[49m\u001b[43m,\u001b[49m\n\u001b[0;32m   1357\u001b[0m \u001b[43m    \u001b[49m\u001b[43mhead_mask\u001b[49m\u001b[38;5;241;43m=\u001b[39;49m\u001b[43mhead_mask\u001b[49m\u001b[43m,\u001b[49m\n\u001b[0;32m   1358\u001b[0m \u001b[43m    \u001b[49m\u001b[43minputs_embeds\u001b[49m\u001b[38;5;241;43m=\u001b[39;49m\u001b[43minputs_embeds\u001b[49m\u001b[43m,\u001b[49m\n\u001b[0;32m   1359\u001b[0m \u001b[43m    \u001b[49m\u001b[43mencoder_hidden_states\u001b[49m\u001b[38;5;241;43m=\u001b[39;49m\u001b[43mencoder_hidden_states\u001b[49m\u001b[43m,\u001b[49m\n\u001b[0;32m   1360\u001b[0m \u001b[43m    \u001b[49m\u001b[43mencoder_attention_mask\u001b[49m\u001b[38;5;241;43m=\u001b[39;49m\u001b[43mencoder_attention_mask\u001b[49m\u001b[43m,\u001b[49m\n\u001b[0;32m   1361\u001b[0m \u001b[43m    \u001b[49m\u001b[43mpast_key_values\u001b[49m\u001b[38;5;241;43m=\u001b[39;49m\u001b[43mpast_key_values\u001b[49m\u001b[43m,\u001b[49m\n\u001b[0;32m   1362\u001b[0m \u001b[43m    \u001b[49m\u001b[43muse_cache\u001b[49m\u001b[38;5;241;43m=\u001b[39;49m\u001b[43muse_cache\u001b[49m\u001b[43m,\u001b[49m\n\u001b[0;32m   1363\u001b[0m \u001b[43m    \u001b[49m\u001b[43moutput_attentions\u001b[49m\u001b[38;5;241;43m=\u001b[39;49m\u001b[43moutput_attentions\u001b[49m\u001b[43m,\u001b[49m\n\u001b[0;32m   1364\u001b[0m \u001b[43m    \u001b[49m\u001b[43moutput_hidden_states\u001b[49m\u001b[38;5;241;43m=\u001b[39;49m\u001b[43moutput_hidden_states\u001b[49m\u001b[43m,\u001b[49m\n\u001b[0;32m   1365\u001b[0m \u001b[43m    \u001b[49m\u001b[43mreturn_dict\u001b[49m\u001b[38;5;241;43m=\u001b[39;49m\u001b[43mreturn_dict\u001b[49m\u001b[43m,\u001b[49m\n\u001b[0;32m   1366\u001b[0m \u001b[43m\u001b[49m\u001b[43m)\u001b[49m\n\u001b[0;32m   1368\u001b[0m sequence_output \u001b[38;5;241m=\u001b[39m outputs[\u001b[38;5;241m0\u001b[39m]\n\u001b[0;32m   1369\u001b[0m prediction_scores \u001b[38;5;241m=\u001b[39m \u001b[38;5;28mself\u001b[39m\u001b[38;5;241m.\u001b[39mcls(sequence_output)\n",
                        "File \u001b[1;32mc:\\Users\\kartg\\anaconda3\\envs\\myenv\\lib\\site-packages\\torch\\nn\\modules\\module.py:1532\u001b[0m, in \u001b[0;36mModule._wrapped_call_impl\u001b[1;34m(self, *args, **kwargs)\u001b[0m\n\u001b[0;32m   1530\u001b[0m     \u001b[38;5;28;01mreturn\u001b[39;00m \u001b[38;5;28mself\u001b[39m\u001b[38;5;241m.\u001b[39m_compiled_call_impl(\u001b[38;5;241m*\u001b[39margs, \u001b[38;5;241m*\u001b[39m\u001b[38;5;241m*\u001b[39mkwargs)  \u001b[38;5;66;03m# type: ignore[misc]\u001b[39;00m\n\u001b[0;32m   1531\u001b[0m \u001b[38;5;28;01melse\u001b[39;00m:\n\u001b[1;32m-> 1532\u001b[0m     \u001b[38;5;28;01mreturn\u001b[39;00m \u001b[38;5;28;43mself\u001b[39;49m\u001b[38;5;241;43m.\u001b[39;49m\u001b[43m_call_impl\u001b[49m\u001b[43m(\u001b[49m\u001b[38;5;241;43m*\u001b[39;49m\u001b[43margs\u001b[49m\u001b[43m,\u001b[49m\u001b[43m \u001b[49m\u001b[38;5;241;43m*\u001b[39;49m\u001b[38;5;241;43m*\u001b[39;49m\u001b[43mkwargs\u001b[49m\u001b[43m)\u001b[49m\n",
                        "File \u001b[1;32mc:\\Users\\kartg\\anaconda3\\envs\\myenv\\lib\\site-packages\\torch\\nn\\modules\\module.py:1541\u001b[0m, in \u001b[0;36mModule._call_impl\u001b[1;34m(self, *args, **kwargs)\u001b[0m\n\u001b[0;32m   1536\u001b[0m \u001b[38;5;66;03m# If we don't have any hooks, we want to skip the rest of the logic in\u001b[39;00m\n\u001b[0;32m   1537\u001b[0m \u001b[38;5;66;03m# this function, and just call forward.\u001b[39;00m\n\u001b[0;32m   1538\u001b[0m \u001b[38;5;28;01mif\u001b[39;00m \u001b[38;5;129;01mnot\u001b[39;00m (\u001b[38;5;28mself\u001b[39m\u001b[38;5;241m.\u001b[39m_backward_hooks \u001b[38;5;129;01mor\u001b[39;00m \u001b[38;5;28mself\u001b[39m\u001b[38;5;241m.\u001b[39m_backward_pre_hooks \u001b[38;5;129;01mor\u001b[39;00m \u001b[38;5;28mself\u001b[39m\u001b[38;5;241m.\u001b[39m_forward_hooks \u001b[38;5;129;01mor\u001b[39;00m \u001b[38;5;28mself\u001b[39m\u001b[38;5;241m.\u001b[39m_forward_pre_hooks\n\u001b[0;32m   1539\u001b[0m         \u001b[38;5;129;01mor\u001b[39;00m _global_backward_pre_hooks \u001b[38;5;129;01mor\u001b[39;00m _global_backward_hooks\n\u001b[0;32m   1540\u001b[0m         \u001b[38;5;129;01mor\u001b[39;00m _global_forward_hooks \u001b[38;5;129;01mor\u001b[39;00m _global_forward_pre_hooks):\n\u001b[1;32m-> 1541\u001b[0m     \u001b[38;5;28;01mreturn\u001b[39;00m \u001b[43mforward_call\u001b[49m\u001b[43m(\u001b[49m\u001b[38;5;241;43m*\u001b[39;49m\u001b[43margs\u001b[49m\u001b[43m,\u001b[49m\u001b[43m \u001b[49m\u001b[38;5;241;43m*\u001b[39;49m\u001b[38;5;241;43m*\u001b[39;49m\u001b[43mkwargs\u001b[49m\u001b[43m)\u001b[49m\n\u001b[0;32m   1543\u001b[0m \u001b[38;5;28;01mtry\u001b[39;00m:\n\u001b[0;32m   1544\u001b[0m     result \u001b[38;5;241m=\u001b[39m \u001b[38;5;28;01mNone\u001b[39;00m\n",
                        "File \u001b[1;32mc:\\Users\\kartg\\anaconda3\\envs\\myenv\\lib\\site-packages\\transformers\\models\\bert\\modeling_bert.py:1137\u001b[0m, in \u001b[0;36mBertModel.forward\u001b[1;34m(self, input_ids, attention_mask, token_type_ids, position_ids, head_mask, inputs_embeds, encoder_hidden_states, encoder_attention_mask, past_key_values, use_cache, output_attentions, output_hidden_states, return_dict)\u001b[0m\n\u001b[0;32m   1130\u001b[0m \u001b[38;5;66;03m# Prepare head mask if needed\u001b[39;00m\n\u001b[0;32m   1131\u001b[0m \u001b[38;5;66;03m# 1.0 in head_mask indicate we keep the head\u001b[39;00m\n\u001b[0;32m   1132\u001b[0m \u001b[38;5;66;03m# attention_probs has shape bsz x n_heads x N x N\u001b[39;00m\n\u001b[0;32m   1133\u001b[0m \u001b[38;5;66;03m# input head_mask has shape [num_heads] or [num_hidden_layers x num_heads]\u001b[39;00m\n\u001b[0;32m   1134\u001b[0m \u001b[38;5;66;03m# and head_mask is converted to shape [num_hidden_layers x batch x num_heads x seq_length x seq_length]\u001b[39;00m\n\u001b[0;32m   1135\u001b[0m head_mask \u001b[38;5;241m=\u001b[39m \u001b[38;5;28mself\u001b[39m\u001b[38;5;241m.\u001b[39mget_head_mask(head_mask, \u001b[38;5;28mself\u001b[39m\u001b[38;5;241m.\u001b[39mconfig\u001b[38;5;241m.\u001b[39mnum_hidden_layers)\n\u001b[1;32m-> 1137\u001b[0m encoder_outputs \u001b[38;5;241m=\u001b[39m \u001b[38;5;28;43mself\u001b[39;49m\u001b[38;5;241;43m.\u001b[39;49m\u001b[43mencoder\u001b[49m\u001b[43m(\u001b[49m\n\u001b[0;32m   1138\u001b[0m \u001b[43m    \u001b[49m\u001b[43membedding_output\u001b[49m\u001b[43m,\u001b[49m\n\u001b[0;32m   1139\u001b[0m \u001b[43m    \u001b[49m\u001b[43mattention_mask\u001b[49m\u001b[38;5;241;43m=\u001b[39;49m\u001b[43mextended_attention_mask\u001b[49m\u001b[43m,\u001b[49m\n\u001b[0;32m   1140\u001b[0m \u001b[43m    \u001b[49m\u001b[43mhead_mask\u001b[49m\u001b[38;5;241;43m=\u001b[39;49m\u001b[43mhead_mask\u001b[49m\u001b[43m,\u001b[49m\n\u001b[0;32m   1141\u001b[0m \u001b[43m    \u001b[49m\u001b[43mencoder_hidden_states\u001b[49m\u001b[38;5;241;43m=\u001b[39;49m\u001b[43mencoder_hidden_states\u001b[49m\u001b[43m,\u001b[49m\n\u001b[0;32m   1142\u001b[0m \u001b[43m    \u001b[49m\u001b[43mencoder_attention_mask\u001b[49m\u001b[38;5;241;43m=\u001b[39;49m\u001b[43mencoder_extended_attention_mask\u001b[49m\u001b[43m,\u001b[49m\n\u001b[0;32m   1143\u001b[0m \u001b[43m    \u001b[49m\u001b[43mpast_key_values\u001b[49m\u001b[38;5;241;43m=\u001b[39;49m\u001b[43mpast_key_values\u001b[49m\u001b[43m,\u001b[49m\n\u001b[0;32m   1144\u001b[0m \u001b[43m    \u001b[49m\u001b[43muse_cache\u001b[49m\u001b[38;5;241;43m=\u001b[39;49m\u001b[43muse_cache\u001b[49m\u001b[43m,\u001b[49m\n\u001b[0;32m   1145\u001b[0m \u001b[43m    \u001b[49m\u001b[43moutput_attentions\u001b[49m\u001b[38;5;241;43m=\u001b[39;49m\u001b[43moutput_attentions\u001b[49m\u001b[43m,\u001b[49m\n\u001b[0;32m   1146\u001b[0m \u001b[43m    \u001b[49m\u001b[43moutput_hidden_states\u001b[49m\u001b[38;5;241;43m=\u001b[39;49m\u001b[43moutput_hidden_states\u001b[49m\u001b[43m,\u001b[49m\n\u001b[0;32m   1147\u001b[0m \u001b[43m    \u001b[49m\u001b[43mreturn_dict\u001b[49m\u001b[38;5;241;43m=\u001b[39;49m\u001b[43mreturn_dict\u001b[49m\u001b[43m,\u001b[49m\n\u001b[0;32m   1148\u001b[0m \u001b[43m\u001b[49m\u001b[43m)\u001b[49m\n\u001b[0;32m   1149\u001b[0m sequence_output \u001b[38;5;241m=\u001b[39m encoder_outputs[\u001b[38;5;241m0\u001b[39m]\n\u001b[0;32m   1150\u001b[0m pooled_output \u001b[38;5;241m=\u001b[39m \u001b[38;5;28mself\u001b[39m\u001b[38;5;241m.\u001b[39mpooler(sequence_output) \u001b[38;5;28;01mif\u001b[39;00m \u001b[38;5;28mself\u001b[39m\u001b[38;5;241m.\u001b[39mpooler \u001b[38;5;129;01mis\u001b[39;00m \u001b[38;5;129;01mnot\u001b[39;00m \u001b[38;5;28;01mNone\u001b[39;00m \u001b[38;5;28;01melse\u001b[39;00m \u001b[38;5;28;01mNone\u001b[39;00m\n",
                        "File \u001b[1;32mc:\\Users\\kartg\\anaconda3\\envs\\myenv\\lib\\site-packages\\torch\\nn\\modules\\module.py:1532\u001b[0m, in \u001b[0;36mModule._wrapped_call_impl\u001b[1;34m(self, *args, **kwargs)\u001b[0m\n\u001b[0;32m   1530\u001b[0m     \u001b[38;5;28;01mreturn\u001b[39;00m \u001b[38;5;28mself\u001b[39m\u001b[38;5;241m.\u001b[39m_compiled_call_impl(\u001b[38;5;241m*\u001b[39margs, \u001b[38;5;241m*\u001b[39m\u001b[38;5;241m*\u001b[39mkwargs)  \u001b[38;5;66;03m# type: ignore[misc]\u001b[39;00m\n\u001b[0;32m   1531\u001b[0m \u001b[38;5;28;01melse\u001b[39;00m:\n\u001b[1;32m-> 1532\u001b[0m     \u001b[38;5;28;01mreturn\u001b[39;00m \u001b[38;5;28;43mself\u001b[39;49m\u001b[38;5;241;43m.\u001b[39;49m\u001b[43m_call_impl\u001b[49m\u001b[43m(\u001b[49m\u001b[38;5;241;43m*\u001b[39;49m\u001b[43margs\u001b[49m\u001b[43m,\u001b[49m\u001b[43m \u001b[49m\u001b[38;5;241;43m*\u001b[39;49m\u001b[38;5;241;43m*\u001b[39;49m\u001b[43mkwargs\u001b[49m\u001b[43m)\u001b[49m\n",
                        "File \u001b[1;32mc:\\Users\\kartg\\anaconda3\\envs\\myenv\\lib\\site-packages\\torch\\nn\\modules\\module.py:1541\u001b[0m, in \u001b[0;36mModule._call_impl\u001b[1;34m(self, *args, **kwargs)\u001b[0m\n\u001b[0;32m   1536\u001b[0m \u001b[38;5;66;03m# If we don't have any hooks, we want to skip the rest of the logic in\u001b[39;00m\n\u001b[0;32m   1537\u001b[0m \u001b[38;5;66;03m# this function, and just call forward.\u001b[39;00m\n\u001b[0;32m   1538\u001b[0m \u001b[38;5;28;01mif\u001b[39;00m \u001b[38;5;129;01mnot\u001b[39;00m (\u001b[38;5;28mself\u001b[39m\u001b[38;5;241m.\u001b[39m_backward_hooks \u001b[38;5;129;01mor\u001b[39;00m \u001b[38;5;28mself\u001b[39m\u001b[38;5;241m.\u001b[39m_backward_pre_hooks \u001b[38;5;129;01mor\u001b[39;00m \u001b[38;5;28mself\u001b[39m\u001b[38;5;241m.\u001b[39m_forward_hooks \u001b[38;5;129;01mor\u001b[39;00m \u001b[38;5;28mself\u001b[39m\u001b[38;5;241m.\u001b[39m_forward_pre_hooks\n\u001b[0;32m   1539\u001b[0m         \u001b[38;5;129;01mor\u001b[39;00m _global_backward_pre_hooks \u001b[38;5;129;01mor\u001b[39;00m _global_backward_hooks\n\u001b[0;32m   1540\u001b[0m         \u001b[38;5;129;01mor\u001b[39;00m _global_forward_hooks \u001b[38;5;129;01mor\u001b[39;00m _global_forward_pre_hooks):\n\u001b[1;32m-> 1541\u001b[0m     \u001b[38;5;28;01mreturn\u001b[39;00m \u001b[43mforward_call\u001b[49m\u001b[43m(\u001b[49m\u001b[38;5;241;43m*\u001b[39;49m\u001b[43margs\u001b[49m\u001b[43m,\u001b[49m\u001b[43m \u001b[49m\u001b[38;5;241;43m*\u001b[39;49m\u001b[38;5;241;43m*\u001b[39;49m\u001b[43mkwargs\u001b[49m\u001b[43m)\u001b[49m\n\u001b[0;32m   1543\u001b[0m \u001b[38;5;28;01mtry\u001b[39;00m:\n\u001b[0;32m   1544\u001b[0m     result \u001b[38;5;241m=\u001b[39m \u001b[38;5;28;01mNone\u001b[39;00m\n",
                        "File \u001b[1;32mc:\\Users\\kartg\\anaconda3\\envs\\myenv\\lib\\site-packages\\transformers\\models\\bert\\modeling_bert.py:690\u001b[0m, in \u001b[0;36mBertEncoder.forward\u001b[1;34m(self, hidden_states, attention_mask, head_mask, encoder_hidden_states, encoder_attention_mask, past_key_values, use_cache, output_attentions, output_hidden_states, return_dict)\u001b[0m\n\u001b[0;32m    679\u001b[0m     layer_outputs \u001b[38;5;241m=\u001b[39m \u001b[38;5;28mself\u001b[39m\u001b[38;5;241m.\u001b[39m_gradient_checkpointing_func(\n\u001b[0;32m    680\u001b[0m         layer_module\u001b[38;5;241m.\u001b[39m\u001b[38;5;21m__call__\u001b[39m,\n\u001b[0;32m    681\u001b[0m         hidden_states,\n\u001b[1;32m   (...)\u001b[0m\n\u001b[0;32m    687\u001b[0m         output_attentions,\n\u001b[0;32m    688\u001b[0m     )\n\u001b[0;32m    689\u001b[0m \u001b[38;5;28;01melse\u001b[39;00m:\n\u001b[1;32m--> 690\u001b[0m     layer_outputs \u001b[38;5;241m=\u001b[39m \u001b[43mlayer_module\u001b[49m\u001b[43m(\u001b[49m\n\u001b[0;32m    691\u001b[0m \u001b[43m        \u001b[49m\u001b[43mhidden_states\u001b[49m\u001b[43m,\u001b[49m\n\u001b[0;32m    692\u001b[0m \u001b[43m        \u001b[49m\u001b[43mattention_mask\u001b[49m\u001b[43m,\u001b[49m\n\u001b[0;32m    693\u001b[0m \u001b[43m        \u001b[49m\u001b[43mlayer_head_mask\u001b[49m\u001b[43m,\u001b[49m\n\u001b[0;32m    694\u001b[0m \u001b[43m        \u001b[49m\u001b[43mencoder_hidden_states\u001b[49m\u001b[43m,\u001b[49m\n\u001b[0;32m    695\u001b[0m \u001b[43m        \u001b[49m\u001b[43mencoder_attention_mask\u001b[49m\u001b[43m,\u001b[49m\n\u001b[0;32m    696\u001b[0m \u001b[43m        \u001b[49m\u001b[43mpast_key_value\u001b[49m\u001b[43m,\u001b[49m\n\u001b[0;32m    697\u001b[0m \u001b[43m        \u001b[49m\u001b[43moutput_attentions\u001b[49m\u001b[43m,\u001b[49m\n\u001b[0;32m    698\u001b[0m \u001b[43m    \u001b[49m\u001b[43m)\u001b[49m\n\u001b[0;32m    700\u001b[0m hidden_states \u001b[38;5;241m=\u001b[39m layer_outputs[\u001b[38;5;241m0\u001b[39m]\n\u001b[0;32m    701\u001b[0m \u001b[38;5;28;01mif\u001b[39;00m use_cache:\n",
                        "File \u001b[1;32mc:\\Users\\kartg\\anaconda3\\envs\\myenv\\lib\\site-packages\\torch\\nn\\modules\\module.py:1532\u001b[0m, in \u001b[0;36mModule._wrapped_call_impl\u001b[1;34m(self, *args, **kwargs)\u001b[0m\n\u001b[0;32m   1530\u001b[0m     \u001b[38;5;28;01mreturn\u001b[39;00m \u001b[38;5;28mself\u001b[39m\u001b[38;5;241m.\u001b[39m_compiled_call_impl(\u001b[38;5;241m*\u001b[39margs, \u001b[38;5;241m*\u001b[39m\u001b[38;5;241m*\u001b[39mkwargs)  \u001b[38;5;66;03m# type: ignore[misc]\u001b[39;00m\n\u001b[0;32m   1531\u001b[0m \u001b[38;5;28;01melse\u001b[39;00m:\n\u001b[1;32m-> 1532\u001b[0m     \u001b[38;5;28;01mreturn\u001b[39;00m \u001b[38;5;28;43mself\u001b[39;49m\u001b[38;5;241;43m.\u001b[39;49m\u001b[43m_call_impl\u001b[49m\u001b[43m(\u001b[49m\u001b[38;5;241;43m*\u001b[39;49m\u001b[43margs\u001b[49m\u001b[43m,\u001b[49m\u001b[43m \u001b[49m\u001b[38;5;241;43m*\u001b[39;49m\u001b[38;5;241;43m*\u001b[39;49m\u001b[43mkwargs\u001b[49m\u001b[43m)\u001b[49m\n",
                        "File \u001b[1;32mc:\\Users\\kartg\\anaconda3\\envs\\myenv\\lib\\site-packages\\torch\\nn\\modules\\module.py:1541\u001b[0m, in \u001b[0;36mModule._call_impl\u001b[1;34m(self, *args, **kwargs)\u001b[0m\n\u001b[0;32m   1536\u001b[0m \u001b[38;5;66;03m# If we don't have any hooks, we want to skip the rest of the logic in\u001b[39;00m\n\u001b[0;32m   1537\u001b[0m \u001b[38;5;66;03m# this function, and just call forward.\u001b[39;00m\n\u001b[0;32m   1538\u001b[0m \u001b[38;5;28;01mif\u001b[39;00m \u001b[38;5;129;01mnot\u001b[39;00m (\u001b[38;5;28mself\u001b[39m\u001b[38;5;241m.\u001b[39m_backward_hooks \u001b[38;5;129;01mor\u001b[39;00m \u001b[38;5;28mself\u001b[39m\u001b[38;5;241m.\u001b[39m_backward_pre_hooks \u001b[38;5;129;01mor\u001b[39;00m \u001b[38;5;28mself\u001b[39m\u001b[38;5;241m.\u001b[39m_forward_hooks \u001b[38;5;129;01mor\u001b[39;00m \u001b[38;5;28mself\u001b[39m\u001b[38;5;241m.\u001b[39m_forward_pre_hooks\n\u001b[0;32m   1539\u001b[0m         \u001b[38;5;129;01mor\u001b[39;00m _global_backward_pre_hooks \u001b[38;5;129;01mor\u001b[39;00m _global_backward_hooks\n\u001b[0;32m   1540\u001b[0m         \u001b[38;5;129;01mor\u001b[39;00m _global_forward_hooks \u001b[38;5;129;01mor\u001b[39;00m _global_forward_pre_hooks):\n\u001b[1;32m-> 1541\u001b[0m     \u001b[38;5;28;01mreturn\u001b[39;00m \u001b[43mforward_call\u001b[49m\u001b[43m(\u001b[49m\u001b[38;5;241;43m*\u001b[39;49m\u001b[43margs\u001b[49m\u001b[43m,\u001b[49m\u001b[43m \u001b[49m\u001b[38;5;241;43m*\u001b[39;49m\u001b[38;5;241;43m*\u001b[39;49m\u001b[43mkwargs\u001b[49m\u001b[43m)\u001b[49m\n\u001b[0;32m   1543\u001b[0m \u001b[38;5;28;01mtry\u001b[39;00m:\n\u001b[0;32m   1544\u001b[0m     result \u001b[38;5;241m=\u001b[39m \u001b[38;5;28;01mNone\u001b[39;00m\n",
                        "File \u001b[1;32mc:\\Users\\kartg\\anaconda3\\envs\\myenv\\lib\\site-packages\\transformers\\models\\bert\\modeling_bert.py:580\u001b[0m, in \u001b[0;36mBertLayer.forward\u001b[1;34m(self, hidden_states, attention_mask, head_mask, encoder_hidden_states, encoder_attention_mask, past_key_value, output_attentions)\u001b[0m\n\u001b[0;32m    568\u001b[0m \u001b[38;5;28;01mdef\u001b[39;00m \u001b[38;5;21mforward\u001b[39m(\n\u001b[0;32m    569\u001b[0m     \u001b[38;5;28mself\u001b[39m,\n\u001b[0;32m    570\u001b[0m     hidden_states: torch\u001b[38;5;241m.\u001b[39mTensor,\n\u001b[1;32m   (...)\u001b[0m\n\u001b[0;32m    577\u001b[0m ) \u001b[38;5;241m-\u001b[39m\u001b[38;5;241m>\u001b[39m Tuple[torch\u001b[38;5;241m.\u001b[39mTensor]:\n\u001b[0;32m    578\u001b[0m     \u001b[38;5;66;03m# decoder uni-directional self-attention cached key/values tuple is at positions 1,2\u001b[39;00m\n\u001b[0;32m    579\u001b[0m     self_attn_past_key_value \u001b[38;5;241m=\u001b[39m past_key_value[:\u001b[38;5;241m2\u001b[39m] \u001b[38;5;28;01mif\u001b[39;00m past_key_value \u001b[38;5;129;01mis\u001b[39;00m \u001b[38;5;129;01mnot\u001b[39;00m \u001b[38;5;28;01mNone\u001b[39;00m \u001b[38;5;28;01melse\u001b[39;00m \u001b[38;5;28;01mNone\u001b[39;00m\n\u001b[1;32m--> 580\u001b[0m     self_attention_outputs \u001b[38;5;241m=\u001b[39m \u001b[38;5;28;43mself\u001b[39;49m\u001b[38;5;241;43m.\u001b[39;49m\u001b[43mattention\u001b[49m\u001b[43m(\u001b[49m\n\u001b[0;32m    581\u001b[0m \u001b[43m        \u001b[49m\u001b[43mhidden_states\u001b[49m\u001b[43m,\u001b[49m\n\u001b[0;32m    582\u001b[0m \u001b[43m        \u001b[49m\u001b[43mattention_mask\u001b[49m\u001b[43m,\u001b[49m\n\u001b[0;32m    583\u001b[0m \u001b[43m        \u001b[49m\u001b[43mhead_mask\u001b[49m\u001b[43m,\u001b[49m\n\u001b[0;32m    584\u001b[0m \u001b[43m        \u001b[49m\u001b[43moutput_attentions\u001b[49m\u001b[38;5;241;43m=\u001b[39;49m\u001b[43moutput_attentions\u001b[49m\u001b[43m,\u001b[49m\n\u001b[0;32m    585\u001b[0m \u001b[43m        \u001b[49m\u001b[43mpast_key_value\u001b[49m\u001b[38;5;241;43m=\u001b[39;49m\u001b[43mself_attn_past_key_value\u001b[49m\u001b[43m,\u001b[49m\n\u001b[0;32m    586\u001b[0m \u001b[43m    \u001b[49m\u001b[43m)\u001b[49m\n\u001b[0;32m    587\u001b[0m     attention_output \u001b[38;5;241m=\u001b[39m self_attention_outputs[\u001b[38;5;241m0\u001b[39m]\n\u001b[0;32m    589\u001b[0m     \u001b[38;5;66;03m# if decoder, the last output is tuple of self-attn cache\u001b[39;00m\n",
                        "File \u001b[1;32mc:\\Users\\kartg\\anaconda3\\envs\\myenv\\lib\\site-packages\\torch\\nn\\modules\\module.py:1532\u001b[0m, in \u001b[0;36mModule._wrapped_call_impl\u001b[1;34m(self, *args, **kwargs)\u001b[0m\n\u001b[0;32m   1530\u001b[0m     \u001b[38;5;28;01mreturn\u001b[39;00m \u001b[38;5;28mself\u001b[39m\u001b[38;5;241m.\u001b[39m_compiled_call_impl(\u001b[38;5;241m*\u001b[39margs, \u001b[38;5;241m*\u001b[39m\u001b[38;5;241m*\u001b[39mkwargs)  \u001b[38;5;66;03m# type: ignore[misc]\u001b[39;00m\n\u001b[0;32m   1531\u001b[0m \u001b[38;5;28;01melse\u001b[39;00m:\n\u001b[1;32m-> 1532\u001b[0m     \u001b[38;5;28;01mreturn\u001b[39;00m \u001b[38;5;28;43mself\u001b[39;49m\u001b[38;5;241;43m.\u001b[39;49m\u001b[43m_call_impl\u001b[49m\u001b[43m(\u001b[49m\u001b[38;5;241;43m*\u001b[39;49m\u001b[43margs\u001b[49m\u001b[43m,\u001b[49m\u001b[43m \u001b[49m\u001b[38;5;241;43m*\u001b[39;49m\u001b[38;5;241;43m*\u001b[39;49m\u001b[43mkwargs\u001b[49m\u001b[43m)\u001b[49m\n",
                        "File \u001b[1;32mc:\\Users\\kartg\\anaconda3\\envs\\myenv\\lib\\site-packages\\torch\\nn\\modules\\module.py:1541\u001b[0m, in \u001b[0;36mModule._call_impl\u001b[1;34m(self, *args, **kwargs)\u001b[0m\n\u001b[0;32m   1536\u001b[0m \u001b[38;5;66;03m# If we don't have any hooks, we want to skip the rest of the logic in\u001b[39;00m\n\u001b[0;32m   1537\u001b[0m \u001b[38;5;66;03m# this function, and just call forward.\u001b[39;00m\n\u001b[0;32m   1538\u001b[0m \u001b[38;5;28;01mif\u001b[39;00m \u001b[38;5;129;01mnot\u001b[39;00m (\u001b[38;5;28mself\u001b[39m\u001b[38;5;241m.\u001b[39m_backward_hooks \u001b[38;5;129;01mor\u001b[39;00m \u001b[38;5;28mself\u001b[39m\u001b[38;5;241m.\u001b[39m_backward_pre_hooks \u001b[38;5;129;01mor\u001b[39;00m \u001b[38;5;28mself\u001b[39m\u001b[38;5;241m.\u001b[39m_forward_hooks \u001b[38;5;129;01mor\u001b[39;00m \u001b[38;5;28mself\u001b[39m\u001b[38;5;241m.\u001b[39m_forward_pre_hooks\n\u001b[0;32m   1539\u001b[0m         \u001b[38;5;129;01mor\u001b[39;00m _global_backward_pre_hooks \u001b[38;5;129;01mor\u001b[39;00m _global_backward_hooks\n\u001b[0;32m   1540\u001b[0m         \u001b[38;5;129;01mor\u001b[39;00m _global_forward_hooks \u001b[38;5;129;01mor\u001b[39;00m _global_forward_pre_hooks):\n\u001b[1;32m-> 1541\u001b[0m     \u001b[38;5;28;01mreturn\u001b[39;00m \u001b[43mforward_call\u001b[49m\u001b[43m(\u001b[49m\u001b[38;5;241;43m*\u001b[39;49m\u001b[43margs\u001b[49m\u001b[43m,\u001b[49m\u001b[43m \u001b[49m\u001b[38;5;241;43m*\u001b[39;49m\u001b[38;5;241;43m*\u001b[39;49m\u001b[43mkwargs\u001b[49m\u001b[43m)\u001b[49m\n\u001b[0;32m   1543\u001b[0m \u001b[38;5;28;01mtry\u001b[39;00m:\n\u001b[0;32m   1544\u001b[0m     result \u001b[38;5;241m=\u001b[39m \u001b[38;5;28;01mNone\u001b[39;00m\n",
                        "File \u001b[1;32mc:\\Users\\kartg\\anaconda3\\envs\\myenv\\lib\\site-packages\\transformers\\models\\bert\\modeling_bert.py:510\u001b[0m, in \u001b[0;36mBertAttention.forward\u001b[1;34m(self, hidden_states, attention_mask, head_mask, encoder_hidden_states, encoder_attention_mask, past_key_value, output_attentions)\u001b[0m\n\u001b[0;32m    500\u001b[0m \u001b[38;5;28;01mdef\u001b[39;00m \u001b[38;5;21mforward\u001b[39m(\n\u001b[0;32m    501\u001b[0m     \u001b[38;5;28mself\u001b[39m,\n\u001b[0;32m    502\u001b[0m     hidden_states: torch\u001b[38;5;241m.\u001b[39mTensor,\n\u001b[1;32m   (...)\u001b[0m\n\u001b[0;32m    508\u001b[0m     output_attentions: Optional[\u001b[38;5;28mbool\u001b[39m] \u001b[38;5;241m=\u001b[39m \u001b[38;5;28;01mFalse\u001b[39;00m,\n\u001b[0;32m    509\u001b[0m ) \u001b[38;5;241m-\u001b[39m\u001b[38;5;241m>\u001b[39m Tuple[torch\u001b[38;5;241m.\u001b[39mTensor]:\n\u001b[1;32m--> 510\u001b[0m     self_outputs \u001b[38;5;241m=\u001b[39m \u001b[38;5;28;43mself\u001b[39;49m\u001b[38;5;241;43m.\u001b[39;49m\u001b[43mself\u001b[49m\u001b[43m(\u001b[49m\n\u001b[0;32m    511\u001b[0m \u001b[43m        \u001b[49m\u001b[43mhidden_states\u001b[49m\u001b[43m,\u001b[49m\n\u001b[0;32m    512\u001b[0m \u001b[43m        \u001b[49m\u001b[43mattention_mask\u001b[49m\u001b[43m,\u001b[49m\n\u001b[0;32m    513\u001b[0m \u001b[43m        \u001b[49m\u001b[43mhead_mask\u001b[49m\u001b[43m,\u001b[49m\n\u001b[0;32m    514\u001b[0m \u001b[43m        \u001b[49m\u001b[43mencoder_hidden_states\u001b[49m\u001b[43m,\u001b[49m\n\u001b[0;32m    515\u001b[0m \u001b[43m        \u001b[49m\u001b[43mencoder_attention_mask\u001b[49m\u001b[43m,\u001b[49m\n\u001b[0;32m    516\u001b[0m \u001b[43m        \u001b[49m\u001b[43mpast_key_value\u001b[49m\u001b[43m,\u001b[49m\n\u001b[0;32m    517\u001b[0m \u001b[43m        \u001b[49m\u001b[43moutput_attentions\u001b[49m\u001b[43m,\u001b[49m\n\u001b[0;32m    518\u001b[0m \u001b[43m    \u001b[49m\u001b[43m)\u001b[49m\n\u001b[0;32m    519\u001b[0m     attention_output \u001b[38;5;241m=\u001b[39m \u001b[38;5;28mself\u001b[39m\u001b[38;5;241m.\u001b[39moutput(self_outputs[\u001b[38;5;241m0\u001b[39m], hidden_states)\n\u001b[0;32m    520\u001b[0m     outputs \u001b[38;5;241m=\u001b[39m (attention_output,) \u001b[38;5;241m+\u001b[39m self_outputs[\u001b[38;5;241m1\u001b[39m:]  \u001b[38;5;66;03m# add attentions if we output them\u001b[39;00m\n",
                        "File \u001b[1;32mc:\\Users\\kartg\\anaconda3\\envs\\myenv\\lib\\site-packages\\torch\\nn\\modules\\module.py:1532\u001b[0m, in \u001b[0;36mModule._wrapped_call_impl\u001b[1;34m(self, *args, **kwargs)\u001b[0m\n\u001b[0;32m   1530\u001b[0m     \u001b[38;5;28;01mreturn\u001b[39;00m \u001b[38;5;28mself\u001b[39m\u001b[38;5;241m.\u001b[39m_compiled_call_impl(\u001b[38;5;241m*\u001b[39margs, \u001b[38;5;241m*\u001b[39m\u001b[38;5;241m*\u001b[39mkwargs)  \u001b[38;5;66;03m# type: ignore[misc]\u001b[39;00m\n\u001b[0;32m   1531\u001b[0m \u001b[38;5;28;01melse\u001b[39;00m:\n\u001b[1;32m-> 1532\u001b[0m     \u001b[38;5;28;01mreturn\u001b[39;00m \u001b[38;5;28;43mself\u001b[39;49m\u001b[38;5;241;43m.\u001b[39;49m\u001b[43m_call_impl\u001b[49m\u001b[43m(\u001b[49m\u001b[38;5;241;43m*\u001b[39;49m\u001b[43margs\u001b[49m\u001b[43m,\u001b[49m\u001b[43m \u001b[49m\u001b[38;5;241;43m*\u001b[39;49m\u001b[38;5;241;43m*\u001b[39;49m\u001b[43mkwargs\u001b[49m\u001b[43m)\u001b[49m\n",
                        "File \u001b[1;32mc:\\Users\\kartg\\anaconda3\\envs\\myenv\\lib\\site-packages\\torch\\nn\\modules\\module.py:1541\u001b[0m, in \u001b[0;36mModule._call_impl\u001b[1;34m(self, *args, **kwargs)\u001b[0m\n\u001b[0;32m   1536\u001b[0m \u001b[38;5;66;03m# If we don't have any hooks, we want to skip the rest of the logic in\u001b[39;00m\n\u001b[0;32m   1537\u001b[0m \u001b[38;5;66;03m# this function, and just call forward.\u001b[39;00m\n\u001b[0;32m   1538\u001b[0m \u001b[38;5;28;01mif\u001b[39;00m \u001b[38;5;129;01mnot\u001b[39;00m (\u001b[38;5;28mself\u001b[39m\u001b[38;5;241m.\u001b[39m_backward_hooks \u001b[38;5;129;01mor\u001b[39;00m \u001b[38;5;28mself\u001b[39m\u001b[38;5;241m.\u001b[39m_backward_pre_hooks \u001b[38;5;129;01mor\u001b[39;00m \u001b[38;5;28mself\u001b[39m\u001b[38;5;241m.\u001b[39m_forward_hooks \u001b[38;5;129;01mor\u001b[39;00m \u001b[38;5;28mself\u001b[39m\u001b[38;5;241m.\u001b[39m_forward_pre_hooks\n\u001b[0;32m   1539\u001b[0m         \u001b[38;5;129;01mor\u001b[39;00m _global_backward_pre_hooks \u001b[38;5;129;01mor\u001b[39;00m _global_backward_hooks\n\u001b[0;32m   1540\u001b[0m         \u001b[38;5;129;01mor\u001b[39;00m _global_forward_hooks \u001b[38;5;129;01mor\u001b[39;00m _global_forward_pre_hooks):\n\u001b[1;32m-> 1541\u001b[0m     \u001b[38;5;28;01mreturn\u001b[39;00m \u001b[43mforward_call\u001b[49m\u001b[43m(\u001b[49m\u001b[38;5;241;43m*\u001b[39;49m\u001b[43margs\u001b[49m\u001b[43m,\u001b[49m\u001b[43m \u001b[49m\u001b[38;5;241;43m*\u001b[39;49m\u001b[38;5;241;43m*\u001b[39;49m\u001b[43mkwargs\u001b[49m\u001b[43m)\u001b[49m\n\u001b[0;32m   1543\u001b[0m \u001b[38;5;28;01mtry\u001b[39;00m:\n\u001b[0;32m   1544\u001b[0m     result \u001b[38;5;241m=\u001b[39m \u001b[38;5;28;01mNone\u001b[39;00m\n",
                        "File \u001b[1;32mc:\\Users\\kartg\\anaconda3\\envs\\myenv\\lib\\site-packages\\transformers\\models\\bert\\modeling_bert.py:407\u001b[0m, in \u001b[0;36mBertSdpaSelfAttention.forward\u001b[1;34m(self, hidden_states, attention_mask, head_mask, encoder_hidden_states, encoder_attention_mask, past_key_value, output_attentions)\u001b[0m\n\u001b[0;32m    405\u001b[0m     key_layer, value_layer \u001b[38;5;241m=\u001b[39m past_key_value\n\u001b[0;32m    406\u001b[0m \u001b[38;5;28;01melse\u001b[39;00m:\n\u001b[1;32m--> 407\u001b[0m     key_layer \u001b[38;5;241m=\u001b[39m \u001b[38;5;28;43mself\u001b[39;49m\u001b[38;5;241;43m.\u001b[39;49m\u001b[43mtranspose_for_scores\u001b[49m\u001b[43m(\u001b[49m\u001b[38;5;28;43mself\u001b[39;49m\u001b[38;5;241;43m.\u001b[39;49m\u001b[43mkey\u001b[49m\u001b[43m(\u001b[49m\u001b[43mcurrent_states\u001b[49m\u001b[43m)\u001b[49m\u001b[43m)\u001b[49m\n\u001b[0;32m    408\u001b[0m     value_layer \u001b[38;5;241m=\u001b[39m \u001b[38;5;28mself\u001b[39m\u001b[38;5;241m.\u001b[39mtranspose_for_scores(\u001b[38;5;28mself\u001b[39m\u001b[38;5;241m.\u001b[39mvalue(current_states))\n\u001b[0;32m    409\u001b[0m     \u001b[38;5;28;01mif\u001b[39;00m past_key_value \u001b[38;5;129;01mis\u001b[39;00m \u001b[38;5;129;01mnot\u001b[39;00m \u001b[38;5;28;01mNone\u001b[39;00m \u001b[38;5;129;01mand\u001b[39;00m \u001b[38;5;129;01mnot\u001b[39;00m is_cross_attention:\n",
                        "\u001b[1;31mKeyboardInterrupt\u001b[0m: "
                    ]
                }
            ],
            "source": [
                "min_loss = float(\"inf\")\n",
                "\n",
                "for epoch in range(epochs):\n",
                "    model.train()\n",
                "\n",
                "    pbar = tqdm(train_dataloader)\n",
                "    pbar.set_description(f\"Training Epoch [{epoch + 1} / {epochs}]\")\n",
                "\n",
                "    loss_list = []\n",
                "    average_loss = 0\n",
                "\n",
                "    for batch in pbar:\n",
                "        optimizer.zero_grad()\n",
                "\n",
                "        pixel_values = batch[\"pixel_values\"]\n",
                "        label_ids = batch[\"label_ids\"]\n",
                "\n",
                "        outputs = model(\n",
                "            pixel_values=pixel_values,\n",
                "            labels=label_ids\n",
                "        )\n",
                "        loss = outputs.loss\n",
                "\n",
                "        loss_list.append(loss.item())\n",
                "        average_loss = np.mean(np.array(loss_list))\n",
                "        loss.backward()\n",
                "        optimizer.step()\n",
                "\n",
                "        pbar.set_postfix(loss=average_loss)\n",
                "\n",
                "    checkpoint_path = os.path.join(\"./outputs_original\", f\"checkpoint_epoch_{epoch + 1}.pt\")\n",
                "    torch.save(model.state_dict(), checkpoint_path)    \n",
                "\n",
                "    if average_loss < min_loss:\n",
                "        min_loss = average_loss\n",
                "        torch.save(model.state_dict(), f\"outputs_original/best_checkpoint.pt\")\n",
                "\n",
                "    print(f\"Rouge-2 score :\", eval(model=model))"
            ]
        },
        {
            "cell_type": "code",
            "execution_count": null,
            "metadata": {},
            "outputs": [
                {
                    "ename": "NameError",
                    "evalue": "name 'model' is not defined",
                    "output_type": "error",
                    "traceback": [
                        "\u001b[1;31m---------------------------------------------------------------------------\u001b[0m",
                        "\u001b[1;31mNameError\u001b[0m                                 Traceback (most recent call last)",
                        "Cell \u001b[1;32mIn[1], line 2\u001b[0m\n\u001b[0;32m      1\u001b[0m checkpoint_path \u001b[38;5;241m=\u001b[39m \u001b[38;5;124m\"\u001b[39m\u001b[38;5;124moutputs_original/best_checkpoint.pt\u001b[39m\u001b[38;5;124m\"\u001b[39m\n\u001b[1;32m----> 2\u001b[0m \u001b[43mmodel\u001b[49m\u001b[38;5;241m.\u001b[39mload_state_dict(torch\u001b[38;5;241m.\u001b[39mload(checkpoint_path, map_location\u001b[38;5;241m=\u001b[39mdevice))\n\u001b[0;32m      4\u001b[0m \u001b[38;5;28mprint\u001b[39m(\u001b[38;5;124mf\u001b[39m\u001b[38;5;124m\"\u001b[39m\u001b[38;5;124mRouge-2 score on epoch \u001b[39m\u001b[38;5;132;01m{\u001b[39;00mepochs\u001b[38;5;132;01m}\u001b[39;00m\u001b[38;5;124m:\u001b[39m\u001b[38;5;124m\"\u001b[39m, \u001b[38;5;28meval\u001b[39m(model\u001b[38;5;241m=\u001b[39mmodel))\n",
                        "\u001b[1;31mNameError\u001b[0m: name 'model' is not defined"
                    ]
                }
            ],
            "source": [
                "checkpoint_path = \"outputs_original/best_checkpoint.pt\"\n",
                "model.load_state_dict(torch.load(checkpoint_path, map_location=device))\n",
                "\n",
                "print(f\"Rouge-2 score on epoch {epochs}:\", eval(model=model))\n"
            ]
        }
    ],
    "metadata": {
        "kernelspec": {
            "display_name": "GAI",
            "language": "python",
            "name": "python3"
        },
        "language_info": {
            "codemirror_mode": {
                "name": "ipython",
                "version": 3
            },
            "file_extension": ".py",
            "mimetype": "text/x-python",
            "name": "python",
            "nbconvert_exporter": "python",
            "pygments_lexer": "ipython3",
            "version": "3.8.19"
        }
    },
    "nbformat": 4,
    "nbformat_minor": 2
}
